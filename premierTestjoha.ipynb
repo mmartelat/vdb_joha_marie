{
 "cells": [
  {
   "cell_type": "code",
   "execution_count": 1,
   "metadata": {},
   "outputs": [],
   "source": [
    "import pandas\n",
    "import os"
   ]
  },
  {
   "cell_type": "code",
   "execution_count": 10,
   "metadata": {},
   "outputs": [],
   "source": [
    "\n",
    "tb = pandas.read_csv(\"1335.vdb.tab\", sep='\\t', lineterminator='\\r' )"
   ]
  },
  {
   "cell_type": "code",
   "execution_count": 11,
   "metadata": {},
   "outputs": [
    {
     "data": {
      "text/plain": [
       "(4106, 16)"
      ]
     },
     "execution_count": 11,
     "metadata": {},
     "output_type": "execute_result"
    }
   ],
   "source": [
    "hey.shape"
   ]
  },
  {
   "cell_type": "code",
   "execution_count": 23,
   "metadata": {},
   "outputs": [],
   "source": [
    "#split column containing taxonomy levels into 6 columns\n",
    "new = tb[\"OTUConTaxonomy\"].str.split(\";\", n=7, expand=True) "
   ]
  },
  {
   "cell_type": "code",
   "execution_count": 24,
   "metadata": {},
   "outputs": [
    {
     "data": {
      "text/plain": [
       "<bound method NDFrame.head of                   0                    1                         2  \\\n",
       "0     Bacteria(100)  Actinobacteria(100)       Actinobacteria(100)   \n",
       "1     Bacteria(100)  Proteobacteria(100)  Gammaproteobacteria(100)   \n",
       "2     Bacteria(100)  Actinobacteria(100)       Actinobacteria(100)   \n",
       "3     Bacteria(100)  Actinobacteria(100)       Actinobacteria(100)   \n",
       "4     Bacteria(100)  Actinobacteria(100)       Actinobacteria(100)   \n",
       "...             ...                  ...                       ...   \n",
       "4101  Bacteria(100)  Proteobacteria(100)  Alphaproteobacteria(100)   \n",
       "4102  Bacteria(100)      Firmicutes(100)         unclassified(100)   \n",
       "4103  Bacteria(100)   Acidobacteria(100)    Acidobacteria_Gp6(100)   \n",
       "4104  Bacteria(100)   Bacteroidetes(100)     Sphingobacteriia(100)   \n",
       "4105            NaN                  NaN                       NaN   \n",
       "\n",
       "                            3                          4  \\\n",
       "0        Actinomycetales(100)  Propionibacteriaceae(100)   \n",
       "1        Pseudomonadales(100)         Moraxellaceae(100)   \n",
       "2        Actinomycetales(100)    Corynebacteriaceae(100)   \n",
       "3        Actinomycetales(100)         Micrococcaceae(99)   \n",
       "4        Actinomycetales(100)    Corynebacteriaceae(100)   \n",
       "...                       ...                        ...   \n",
       "4101         Rhizobiales(100)          unclassified(100)   \n",
       "4102        unclassified(100)          unclassified(100)   \n",
       "4103                 Gp6(100)          unclassified(100)   \n",
       "4104  Sphingobacteriales(100)      Chitinophagaceae(100)   \n",
       "4105                      NaN                        NaN   \n",
       "\n",
       "                           5    6  \n",
       "0     Propionibacterium(100)       \n",
       "1         Enhydrobacter(100)       \n",
       "2       Corynebacterium(100)       \n",
       "3           Arthrobacter(86)       \n",
       "4       Corynebacterium(100)       \n",
       "...                      ...  ...  \n",
       "4101       unclassified(100)       \n",
       "4102       unclassified(100)       \n",
       "4103       unclassified(100)       \n",
       "4104       unclassified(100)       \n",
       "4105                     NaN  NaN  \n",
       "\n",
       "[4106 rows x 7 columns]>"
      ]
     },
     "execution_count": 24,
     "metadata": {},
     "output_type": "execute_result"
    }
   ],
   "source": [
    "new.head"
   ]
  },
  {
   "cell_type": "code",
   "execution_count": 25,
   "metadata": {},
   "outputs": [
    {
     "data": {
      "text/plain": [
       "(4106, 7)"
      ]
     },
     "execution_count": 25,
     "metadata": {},
     "output_type": "execute_result"
    }
   ],
   "source": [
    "new.shape"
   ]
  },
  {
   "cell_type": "code",
   "execution_count": 28,
   "metadata": {},
   "outputs": [
    {
     "ename": "NameError",
     "evalue": "name 'head' is not defined",
     "output_type": "error",
     "traceback": [
      "\u001b[0;31m---------------------------------------------------------------------------\u001b[0m",
      "\u001b[0;31mNameError\u001b[0m                                 Traceback (most recent call last)",
      "\u001b[0;32m<ipython-input-28-bf21fccffc3d>\u001b[0m in \u001b[0;36m<module>\u001b[0;34m\u001b[0m\n\u001b[0;32m----> 1\u001b[0;31m \u001b[0mhead\u001b[0m\u001b[0;34m(\u001b[0m\u001b[0mnew\u001b[0m\u001b[0;34m[\u001b[0m\u001b[0;34m\"1\"\u001b[0m\u001b[0;34m]\u001b[0m\u001b[0;34m)\u001b[0m\u001b[0;34m\u001b[0m\u001b[0;34m\u001b[0m\u001b[0m\n\u001b[0m",
      "\u001b[0;31mNameError\u001b[0m: name 'head' is not defined"
     ]
    }
   ],
   "source": [
    "head(new[\"1\"])"
   ]
  },
  {
   "cell_type": "code",
   "execution_count": null,
   "metadata": {},
   "outputs": [],
   "source": []
  }
 ],
 "metadata": {
  "kernelspec": {
   "display_name": ".venv3",
   "language": "python",
   "name": ".venv3"
  },
  "language_info": {
   "codemirror_mode": {
    "name": "ipython",
    "version": 3
   },
   "file_extension": ".py",
   "mimetype": "text/x-python",
   "name": "python",
   "nbconvert_exporter": "python",
   "pygments_lexer": "ipython3",
   "version": "3.8.5"
  }
 },
 "nbformat": 4,
 "nbformat_minor": 4
}
