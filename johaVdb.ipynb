{
 "cells": [
  {
   "cell_type": "code",
   "execution_count": 1,
   "metadata": {
    "scrolled": false
   },
   "outputs": [],
   "source": [
    "# this is joha's file, a Marie's  cousin file! ;)"
   ]
  },
  {
   "cell_type": "code",
   "execution_count": null,
   "metadata": {},
   "outputs": [],
   "source": [
    "\n",
    "import pandas\n",
    "import os\n",
    "import numpy as np\n",
    "\n",
    "\n",
    "df = pandas.read_csv(\"1335.vdb.tab\", sep=\"\\t\", header =None) \n",
    "#Récupère la liste de nombre, correspondant aux comptage des différents espèces en fonction des lieu de prélevement\n",
    "#2=door_in_1 ; 3=door_in_2 ; 4=faucet_handle_1 ; 5=faucet_handle_2 ; 6=sink_floor_1 ; 7=sink_floor_2\n",
    "#8=soap_dispenser_1 ; 9=stall_in_1 ; 10=toilet_floor_1 ; 11=toilet_floor_1 ; 12=toilet_flush_handle_1\n",
    "#13=toilet_flush_handle_2 ; 14=toilet_seat_1 ; 15=toilet_seat_2\n",
    "def getcountsfromrow(row):\n",
    "    l_l = [ int(row[2]),\n",
    "            int(row[3]),\n",
    "            int(row[4]),\n",
    "            int(row[5]),\n",
    "            int(row[6]),\n",
    "            int(row[7]),\n",
    "            int(row[8]),\n",
    "            int(row[9]),\n",
    "            int(row[10]),\n",
    "            int(row[11]),\n",
    "            int(row[12]),\n",
    "            int(row[13]),\n",
    "            int(row[14]),\n",
    "            int(row[15]) ]\n",
    "    return l_l\n",
    "\n",
    "\"\"\"\n",
    "Code pour generer dictionnaire. \n",
    "\n",
    "Au prealable, avec cat 1335.vdb.tab | cut -f 2 | cut -d \";\" -f 1 | uniq\n",
    "OTUConTaxonomy\"Bacteria(100)  => on a confirmé que ce sont toutes Bacteria\n",
    "\"\"\"\n",
    "def getDicoTaxo(df):\n",
    "    dicotaxo = { \"name\" : \"Bacteria\", \"count\" : [0 for i in range(14)], \"children\" : []}\n",
    "    for index,row in df.iterrows():\n",
    "        leveltax = row[1].split(';')  # uniquement indexes >=1 m'interessent \n",
    "        if index > 0:\n",
    "            COUNTS = getcountsfromrow(row)\n",
    "            tmp5 = {}\n",
    "            tmp4 = {}\n",
    "            tmp3 = {}\n",
    "            tmp2 = {}\n",
    "            tmp1 = {}\n",
    "            tmp5[\"name\"] = leveltax[5]\n",
    "            tmp4[\"name\"] = leveltax[4]\n",
    "            tmp3[\"name\"] = leveltax[3]\n",
    "            tmp2[\"name\"] = leveltax[2]\n",
    "            tmp1[\"name\"] = leveltax[1]      \n",
    "            tmp5[\"count\"] =  getcountsfromrow(row)\n",
    "            tmp5[\"children\"] = []  # lowest level\n",
    "            tmp4[\"count\"] =  getcountsfromrow(row)\n",
    "            tmp4[\"children\"] = [tmp5]\n",
    "            tmp3[\"count\"] =  getcountsfromrow(row)\n",
    "            tmp3[\"children\"] = [tmp4]\n",
    "            tmp2[\"count\"] =  getcountsfromrow(row)\n",
    "            tmp2[\"children\"] = [tmp3]\n",
    "            tmp1[\"count\"] = getcountsfromrow(row)\n",
    "            tmp1[\"children\"] = [tmp2]\n",
    "            tmpcounts = dicotaxo[\"count\"]\n",
    "            dicotaxo[\"count\"] = np.add(tmpcounts, COUNTS)\n",
    "            if leveltax[1] not in [m[\"name\"] for m in dicotaxo[\"children\"]] :\n",
    "                dicotaxo[\"children\"].append(tmp1)\n",
    "            else:\n",
    "                for m in dicotaxo[\"children\"]:\n",
    "                    if m[\"name\"] == leveltax[1]:\n",
    "                        tmpc = m[\"count\"]\n",
    "                        m[\"count\"] = np.add(tmpc, COUNTS)\n",
    "                        if leveltax[2] not in [n[\"name\"] for n in m[\"children\"]] :\n",
    "                            m[\"children\"].append(tmp2)\n",
    "                        else:\n",
    "                            for n in m[\"children\"]:\n",
    "                                if n[\"name\"] == leveltax[2]:\n",
    "                                    tmpc = n[\"count\"]\n",
    "                                    n[\"count\"] = np.add(tmpc, COUNTS)\n",
    "                                    if leveltax[3] not in [o[\"name\"] for o in n[\"children\"]]:\n",
    "                                        n[\"children\"].append(tmp3)\n",
    "                                    else: \n",
    "                                        for o in n[\"children\"]:\n",
    "                                            if o[\"name\"] == leveltax[3]:\n",
    "                                                tmpc = o[\"count\"]\n",
    "                                                o[\"count\"] = np.add(tmpc,COUNTS)\n",
    "                                                if leveltax[4] not in [p[\"name\"] for p in o[\"children\"]]:\n",
    "                                                    o[\"children\"].append(tmp4)\n",
    "                                                else:\n",
    "                                                    for p in o[\"children\"]:\n",
    "                                                        if p[\"name\"] == leveltax[4]:\n",
    "                                                            tmpc = p[\"count\"]\n",
    "                                                            p[\"count\"] = np.add(tmpc, COUNTS)\n",
    "                                                            if leveltax[5] not in [q[\"name\"] for q in p[\"children\"]]:\n",
    "                                                                p[\"children\"].append(tmp5)\n",
    "                                                            else:\n",
    "                                                                for q in p[\"children\"]:\n",
    "                                                                    if q[\"name\"] == leveltax[5]:\n",
    "                                                                        tmpc = q[\"count\"]\n",
    "                                                                        q[\"count\"] = np.add(tmpc, COUNTS)\n",
    "                                                                        q[\"children\"] = []\n",
    "                                                                        # this is the lowest level                                        \n",
    "    return dicotaxo\n",
    "\n",
    "dicoTaxoTest = getDicoTaxo(df)"
   ]
  },
  {
   "cell_type": "code",
   "execution_count": 2,
   "metadata": {},
   "outputs": [],
   "source": [
    "\"\"\"\n",
    "Veut pouvoir récuperer donnée intéressantes dans dictionnaire.\n",
    "\"\"\"\n",
    "\n",
    "def convertNiv(niveau):\n",
    "    if niveau.upper() == \"REGNE\":\n",
    "        return 1\n",
    "    if niveau.upper() == \"PHYLUM\":\n",
    "        return 2\n",
    "    if niveau.upper() == \"CLASSE\":\n",
    "        return 3\n",
    "    if niveau.upper() == \"ORDRE\":\n",
    "        return 4\n",
    "    if niveau.upper() == \"FAMILLE\":\n",
    "        return 5\n",
    "    if niveau.upper() == \"GENRE\":\n",
    "        return 6\n",
    "    \n",
    "def dicoListeNiveau(nomList, dico):\n",
    "    dico[nomList] = []\n",
    "    \n",
    "#Méthode 1 : En fonction du niveaux de taxo récupéré donnne pour l'espèce le comptage en fonction du lieu\n",
    "#Input : niveau taxo Regne;Phylum;Classe;Ordre;Famille;Genre\n",
    "#Output : liste de vecteurs 1er : vecteur des espèces, \n",
    "#puis 1 vecteurs par localisation (1 vecteur donne le comptage pour l'espèce dans la localisation donnée)\n",
    "def getNiv(niveau,dicoTaxo):\n",
    "    niv = convertNiv(niveau)\n",
    "    vecteurs = []\n",
    "    dicoListeNivx = {}\n",
    "    #Regne \n",
    "    listeRegne = []\n",
    "    #Regne compte\n",
    "    listelRegne = []\n",
    "    #Autre niveau\n",
    "    listePhylum =[]\n",
    "    listeClasse =[]\n",
    "    listeOrdre =[]\n",
    "    listeFamille =[]\n",
    "    listeGenre =[]\n",
    "    #autre niveau compte\n",
    "    for i in range(1,15):\n",
    "        nomList = f\"listel{i}\" + niveau.lower()\n",
    "        dicoListeNiveau(nomList,dicoListeNivx )\n",
    "\n",
    "    for k1, v1 in dicoTaxo.items():\n",
    "        #Récupère que pour le règne\n",
    "        if k1 == \"name\" and niv == 1:\n",
    "            listeRegne.append(v1)\n",
    "            vecteurs.append(listeRegne)\n",
    "        elif k1 == \"count\" and niv == 1:\n",
    "            listelRegne.append(v1)\n",
    "            vecteurs.append(listelRegne)\n",
    "        elif k1 == \"children\" and niv > 1: \n",
    "            for phylum in dicoTaxo['children']:\n",
    "                for k2, v2 in phylum.items():\n",
    "                    #Récupère que pour le phylum\n",
    "                    if k2 == \"name\" and niv == 2:\n",
    "                        listePhylum.append(v2)\n",
    "                    elif k2 == \"count\" and niv == 2:\n",
    "                        for i in range(0,14):\n",
    "                            numList = i+1\n",
    "                            nomList = f\"listel{numList}\" + niveau.lower()\n",
    "                            dicoListeNivx[nomList].append(v2[i])\n",
    "\n",
    "                    #Descend dans les niveau plus précis\n",
    "                    elif k2 == \"children\" and niv > 2:\n",
    "                        for classe in v2:\n",
    "                            for k3, v3 in classe.items():\n",
    "                                #Récupère que pour la classe\n",
    "                                if k3 == \"name\" and niv == 3:\n",
    "                                    listeClasse.append(v3)\n",
    "                                elif k3 == \"count\" and niv == 3:\n",
    "                                     for i in range(0,14):\n",
    "                                        numList = i+1\n",
    "                                        nomList = f\"listel{numList}\" + niveau.lower()\n",
    "                                        dicoListeNivx[nomList].append(v3[i])\n",
    "                                #Descend dans les niveau plus précis\n",
    "                                elif k3 == \"children\" and niv > 3:\n",
    "                                    for ordre in v3:\n",
    "                                        for k4, v4 in ordre.items():\n",
    "                                            #Récupère que pour l'ordre\n",
    "                                            if k4 == \"name\" and niv == 4:\n",
    "                                                listeOrdre.append(v4)\n",
    "                                            elif k4 == \"count\" and niv == 4:\n",
    "                                                for i in range(0,14):\n",
    "                                                    numList = i+1\n",
    "                                                    nomList = f\"listel{numList}\" + niveau.lower()\n",
    "                                                    dicoListeNivx[nomList].append(v4[i])\n",
    "                                            #Descend dans les niveau plus précis\n",
    "                                            elif k4 == \"children\" and niv > 4:\n",
    "                                                for famille in v4:\n",
    "                                                    for k5, v5 in famille.items():\n",
    "                                                        #Récupère que pour la famille\n",
    "                                                        if k5 == \"name\" and niv == 5:\n",
    "                                                            listeFamille.append(v5)\n",
    "                                                        elif k5 == \"count\" and niv == 5:\n",
    "                                                            for i in range(0,14):\n",
    "                                                                numList = i+1\n",
    "                                                                nomList = f\"listel{numList}\" + niveau.lower()\n",
    "                                                                dicoListeNivx[nomList].append(v5[i])\n",
    "                                                        #Descend dans les niveau plus précis\n",
    "                                                        elif k5 == \"children\" and niv > 5:\n",
    "                                                            for genre in v5:\n",
    "                                                                for k6, v6 in genre.items():\n",
    "                                                                    #Récupère que pour la famille\n",
    "                                                                    if k6 == \"name\" and niv == 6:\n",
    "                                                                        listeGenre.append(v6)\n",
    "                                                                    elif k6 == \"count\" and niv == 6:\n",
    "                                                                        for i in range(0,14):\n",
    "                                                                            numList = i+1\n",
    "                                                                            nomList = f\"listel{numList}\" + niveau.lower()\n",
    "                                                                            dicoListeNivx[nomList].append(v6[i])\n",
    "                                                                    \n",
    "\n",
    "    \n",
    "    if niv == 2:\n",
    "        vecteurs.append(listePhylum);vecteurs.append(dicoListeNivx['listel1phylum']);vecteurs.append(dicoListeNivx['listel2phylum']);vecteurs.append(dicoListeNivx['listel3phylum'])\n",
    "        vecteurs.append(dicoListeNivx['listel4phylum']);vecteurs.append(dicoListeNivx['listel5phylum']);vecteurs.append(dicoListeNivx['listel6phylum']);vecteurs.append(dicoListeNivx['listel7phylum'])\n",
    "        vecteurs.append(dicoListeNivx['listel8phylum']);vecteurs.append(dicoListeNivx['listel9phylum']);vecteurs.append(dicoListeNivx['listel10phylum']);vecteurs.append(dicoListeNivx['listel11phylum'])\n",
    "        vecteurs.append(dicoListeNivx['listel12phylum']);vecteurs.append(dicoListeNivx['listel13phylum']);vecteurs.append(dicoListeNivx['listel14phylum']);\n",
    "    if niv == 3:\n",
    "        vecteurs.append(listeClasse);vecteurs.append(dicoListeNivx['listel1classe']);vecteurs.append(dicoListeNivx['listel2classe']);vecteurs.append(dicoListeNivx['listel3classe'])\n",
    "        vecteurs.append(dicoListeNivx['listel4classe']);vecteurs.append(dicoListeNivx['listel5classe']);vecteurs.append(dicoListeNivx['listel6classe']);vecteurs.append(dicoListeNivx['listel7classe'])\n",
    "        vecteurs.append(dicoListeNivx['listel8classe']);vecteurs.append(dicoListeNivx['listel9classe']);vecteurs.append(dicoListeNivx['listel10classe']);vecteurs.append(dicoListeNivx['listel11classe'])\n",
    "        vecteurs.append(dicoListeNivx['listel12classe']);vecteurs.append(dicoListeNivx['listel13classe']);vecteurs.append(dicoListeNivx['listel14classe']);\n",
    "    if niv == 4:\n",
    "        vecteurs.append(listeOrdre);vecteurs.append(dicoListeNivx['listel1ordre']);vecteurs.append(dicoListeNivx['listel2ordre']);vecteurs.append(dicoListeNivx['listel3ordre'])\n",
    "        vecteurs.append(dicoListeNivx['listel4ordre']);vecteurs.append(dicoListeNivx['listel5ordre']);vecteurs.append(dicoListeNivx['listel6ordre']);vecteurs.append(dicoListeNivx['listel7ordre'])\n",
    "        vecteurs.append(dicoListeNivx['listel8ordre']);vecteurs.append(dicoListeNivx['listel9ordre']);vecteurs.append(dicoListeNivx['listel10ordre']);vecteurs.append(dicoListeNivx['listel11ordre'])\n",
    "        vecteurs.append(dicoListeNivx['listel12ordre']);vecteurs.append(dicoListeNivx['listel13ordre']);vecteurs.append(dicoListeNivx['listel14ordre']);\n",
    "    if niv == 5:\n",
    "        vecteurs.append(listeFamille);vecteurs.append(dicoListeNivx['listel1famille']);vecteurs.append(dicoListeNivx['listel2famille']);vecteurs.append(dicoListeNivx['listel3famille'])\n",
    "        vecteurs.append(dicoListeNivx['listel4famille']);vecteurs.append(dicoListeNivx['listel5famille']);vecteurs.append(dicoListeNivx['listel6famille']);vecteurs.append(dicoListeNivx['listel7famille'])\n",
    "        vecteurs.append(dicoListeNivx['listel8famille']);vecteurs.append(dicoListeNivx['listel9famille']);vecteurs.append(dicoListeNivx['listel10famille']);vecteurs.append(dicoListeNivx['listel11famille'])\n",
    "        vecteurs.append(dicoListeNivx['listel12famille']);vecteurs.append(dicoListeNivx['listel13famille']);vecteurs.append(dicoListeNivx['listel14famille']);\n",
    "    if niv == 6:\n",
    "        vecteurs.append(listeGenre);vecteurs.append(dicoListeNivx['listel1genre']);vecteurs.append(dicoListeNivx['listel2genre']);vecteurs.append(dicoListeNivx['listel2genre'])\n",
    "        vecteurs.append(dicoListeNivx['listel4genre']);vecteurs.append(dicoListeNivx['listel5genre']);vecteurs.append(dicoListeNivx['listel6genre']);vecteurs.append(dicoListeNivx['listel7genre'])\n",
    "        vecteurs.append(dicoListeNivx['listel8genre']);vecteurs.append(dicoListeNivx['listel9genre']);vecteurs.append(dicoListeNivx['listel10genre']);vecteurs.append(dicoListeNivx['listel11genre'])\n",
    "        vecteurs.append(dicoListeNivx['listel12genre']);vecteurs.append(dicoListeNivx['listel13genre']);vecteurs.append(dicoListeNivx['listel14genre']);\n",
    "    \n",
    "    return vecteurs"
   ]
  },
  {
   "cell_type": "code",
   "execution_count": 3,
   "metadata": {},
   "outputs": [
    {
     "data": {
      "text/html": [
       "<div>\n",
       "<style scoped>\n",
       "    .dataframe tbody tr th:only-of-type {\n",
       "        vertical-align: middle;\n",
       "    }\n",
       "\n",
       "    .dataframe tbody tr th {\n",
       "        vertical-align: top;\n",
       "    }\n",
       "\n",
       "    .dataframe thead th {\n",
       "        text-align: right;\n",
       "    }\n",
       "</style>\n",
       "<table border=\"1\" class=\"dataframe\">\n",
       "  <thead>\n",
       "    <tr style=\"text-align: right;\">\n",
       "      <th></th>\n",
       "      <th>Nvx_taxo</th>\n",
       "      <th>Taxo</th>\n",
       "      <th>door_in_1</th>\n",
       "      <th>door_in_2</th>\n",
       "      <th>faucet_handle_1</th>\n",
       "      <th>faucet_handle_2</th>\n",
       "      <th>sink_floor_1</th>\n",
       "      <th>sink_floor_2</th>\n",
       "      <th>soap_dispenser_1</th>\n",
       "      <th>stall_in_1</th>\n",
       "      <th>toilet_floor_1</th>\n",
       "      <th>toilet_floor_2</th>\n",
       "      <th>toilet_flush_handle_1</th>\n",
       "      <th>toilet_flush_handle_2</th>\n",
       "      <th>toilet_seat_1</th>\n",
       "      <th>toilet_seat_2</th>\n",
       "    </tr>\n",
       "  </thead>\n",
       "  <tbody>\n",
       "    <tr>\n",
       "      <th>0</th>\n",
       "      <td>regne</td>\n",
       "      <td>Bacteria</td>\n",
       "      <td>3119</td>\n",
       "      <td>3119</td>\n",
       "      <td>3119</td>\n",
       "      <td>3119</td>\n",
       "      <td>3119</td>\n",
       "      <td>3119</td>\n",
       "      <td>3119</td>\n",
       "      <td>3119</td>\n",
       "      <td>3119</td>\n",
       "      <td>3119</td>\n",
       "      <td>3119</td>\n",
       "      <td>3119</td>\n",
       "      <td>3119</td>\n",
       "      <td>3119</td>\n",
       "    </tr>\n",
       "    <tr>\n",
       "      <th>1</th>\n",
       "      <td>phylum</td>\n",
       "      <td>Actinobacteria(100)</td>\n",
       "      <td>1669</td>\n",
       "      <td>1483</td>\n",
       "      <td>434</td>\n",
       "      <td>2224</td>\n",
       "      <td>1382</td>\n",
       "      <td>978</td>\n",
       "      <td>1665</td>\n",
       "      <td>1057</td>\n",
       "      <td>1133</td>\n",
       "      <td>1013</td>\n",
       "      <td>1006</td>\n",
       "      <td>1400</td>\n",
       "      <td>685</td>\n",
       "      <td>1968</td>\n",
       "    </tr>\n",
       "    <tr>\n",
       "      <th>2</th>\n",
       "      <td>classe</td>\n",
       "      <td>Actinobacteria(100)</td>\n",
       "      <td>1669</td>\n",
       "      <td>1483</td>\n",
       "      <td>434</td>\n",
       "      <td>2224</td>\n",
       "      <td>1379</td>\n",
       "      <td>974</td>\n",
       "      <td>1665</td>\n",
       "      <td>1053</td>\n",
       "      <td>1132</td>\n",
       "      <td>1009</td>\n",
       "      <td>996</td>\n",
       "      <td>1400</td>\n",
       "      <td>685</td>\n",
       "      <td>1968</td>\n",
       "    </tr>\n",
       "    <tr>\n",
       "      <th>3</th>\n",
       "      <td>ordre</td>\n",
       "      <td>Actinomycetales(100)</td>\n",
       "      <td>1658</td>\n",
       "      <td>1482</td>\n",
       "      <td>431</td>\n",
       "      <td>2220</td>\n",
       "      <td>1358</td>\n",
       "      <td>948</td>\n",
       "      <td>1632</td>\n",
       "      <td>1047</td>\n",
       "      <td>1087</td>\n",
       "      <td>967</td>\n",
       "      <td>866</td>\n",
       "      <td>1390</td>\n",
       "      <td>680</td>\n",
       "      <td>1965</td>\n",
       "    </tr>\n",
       "    <tr>\n",
       "      <th>4</th>\n",
       "      <td>famille</td>\n",
       "      <td>Propionibacteriaceae(100)</td>\n",
       "      <td>1398</td>\n",
       "      <td>1055</td>\n",
       "      <td>338</td>\n",
       "      <td>597</td>\n",
       "      <td>202</td>\n",
       "      <td>143</td>\n",
       "      <td>1159</td>\n",
       "      <td>630</td>\n",
       "      <td>151</td>\n",
       "      <td>171</td>\n",
       "      <td>63</td>\n",
       "      <td>355</td>\n",
       "      <td>83</td>\n",
       "      <td>212</td>\n",
       "    </tr>\n",
       "    <tr>\n",
       "      <th>...</th>\n",
       "      <td>...</td>\n",
       "      <td>...</td>\n",
       "      <td>...</td>\n",
       "      <td>...</td>\n",
       "      <td>...</td>\n",
       "      <td>...</td>\n",
       "      <td>...</td>\n",
       "      <td>...</td>\n",
       "      <td>...</td>\n",
       "      <td>...</td>\n",
       "      <td>...</td>\n",
       "      <td>...</td>\n",
       "      <td>...</td>\n",
       "      <td>...</td>\n",
       "      <td>...</td>\n",
       "      <td>...</td>\n",
       "    </tr>\n",
       "    <tr>\n",
       "      <th>1010</th>\n",
       "      <td>phylum</td>\n",
       "      <td>Parcubacteria(100)</td>\n",
       "      <td>0</td>\n",
       "      <td>0</td>\n",
       "      <td>0</td>\n",
       "      <td>0</td>\n",
       "      <td>0</td>\n",
       "      <td>0</td>\n",
       "      <td>0</td>\n",
       "      <td>0</td>\n",
       "      <td>0</td>\n",
       "      <td>1</td>\n",
       "      <td>4</td>\n",
       "      <td>0</td>\n",
       "      <td>0</td>\n",
       "      <td>0</td>\n",
       "    </tr>\n",
       "    <tr>\n",
       "      <th>1011</th>\n",
       "      <td>classe</td>\n",
       "      <td>unclassified(100)</td>\n",
       "      <td>0</td>\n",
       "      <td>0</td>\n",
       "      <td>0</td>\n",
       "      <td>0</td>\n",
       "      <td>0</td>\n",
       "      <td>0</td>\n",
       "      <td>0</td>\n",
       "      <td>0</td>\n",
       "      <td>0</td>\n",
       "      <td>1</td>\n",
       "      <td>4</td>\n",
       "      <td>0</td>\n",
       "      <td>0</td>\n",
       "      <td>0</td>\n",
       "    </tr>\n",
       "    <tr>\n",
       "      <th>1012</th>\n",
       "      <td>ordre</td>\n",
       "      <td>unclassified(100)</td>\n",
       "      <td>0</td>\n",
       "      <td>0</td>\n",
       "      <td>0</td>\n",
       "      <td>0</td>\n",
       "      <td>0</td>\n",
       "      <td>0</td>\n",
       "      <td>0</td>\n",
       "      <td>0</td>\n",
       "      <td>0</td>\n",
       "      <td>1</td>\n",
       "      <td>4</td>\n",
       "      <td>0</td>\n",
       "      <td>0</td>\n",
       "      <td>0</td>\n",
       "    </tr>\n",
       "    <tr>\n",
       "      <th>1013</th>\n",
       "      <td>famille</td>\n",
       "      <td>unclassified(100)</td>\n",
       "      <td>0</td>\n",
       "      <td>0</td>\n",
       "      <td>0</td>\n",
       "      <td>0</td>\n",
       "      <td>0</td>\n",
       "      <td>0</td>\n",
       "      <td>0</td>\n",
       "      <td>0</td>\n",
       "      <td>0</td>\n",
       "      <td>1</td>\n",
       "      <td>4</td>\n",
       "      <td>0</td>\n",
       "      <td>0</td>\n",
       "      <td>0</td>\n",
       "    </tr>\n",
       "    <tr>\n",
       "      <th>1014</th>\n",
       "      <td>genre</td>\n",
       "      <td>unclassified(100)</td>\n",
       "      <td>0</td>\n",
       "      <td>0</td>\n",
       "      <td>0</td>\n",
       "      <td>0</td>\n",
       "      <td>0</td>\n",
       "      <td>0</td>\n",
       "      <td>0</td>\n",
       "      <td>0</td>\n",
       "      <td>0</td>\n",
       "      <td>1</td>\n",
       "      <td>4</td>\n",
       "      <td>0</td>\n",
       "      <td>0</td>\n",
       "      <td>0</td>\n",
       "    </tr>\n",
       "  </tbody>\n",
       "</table>\n",
       "<p>1015 rows × 16 columns</p>\n",
       "</div>"
      ],
      "text/plain": [
       "     Nvx_taxo                       Taxo door_in_1 door_in_2 faucet_handle_1  \\\n",
       "0       regne                   Bacteria      3119      3119            3119   \n",
       "1      phylum        Actinobacteria(100)      1669      1483             434   \n",
       "2      classe        Actinobacteria(100)      1669      1483             434   \n",
       "3       ordre       Actinomycetales(100)      1658      1482             431   \n",
       "4     famille  Propionibacteriaceae(100)      1398      1055             338   \n",
       "...       ...                        ...       ...       ...             ...   \n",
       "1010   phylum         Parcubacteria(100)         0         0               0   \n",
       "1011   classe          unclassified(100)         0         0               0   \n",
       "1012    ordre          unclassified(100)         0         0               0   \n",
       "1013  famille          unclassified(100)         0         0               0   \n",
       "1014    genre          unclassified(100)         0         0               0   \n",
       "\n",
       "     faucet_handle_2 sink_floor_1 sink_floor_2 soap_dispenser_1 stall_in_1  \\\n",
       "0               3119         3119         3119             3119       3119   \n",
       "1               2224         1382          978             1665       1057   \n",
       "2               2224         1379          974             1665       1053   \n",
       "3               2220         1358          948             1632       1047   \n",
       "4                597          202          143             1159        630   \n",
       "...              ...          ...          ...              ...        ...   \n",
       "1010               0            0            0                0          0   \n",
       "1011               0            0            0                0          0   \n",
       "1012               0            0            0                0          0   \n",
       "1013               0            0            0                0          0   \n",
       "1014               0            0            0                0          0   \n",
       "\n",
       "     toilet_floor_1 toilet_floor_2 toilet_flush_handle_1  \\\n",
       "0              3119           3119                  3119   \n",
       "1              1133           1013                  1006   \n",
       "2              1132           1009                   996   \n",
       "3              1087            967                   866   \n",
       "4               151            171                    63   \n",
       "...             ...            ...                   ...   \n",
       "1010              0              1                     4   \n",
       "1011              0              1                     4   \n",
       "1012              0              1                     4   \n",
       "1013              0              1                     4   \n",
       "1014              0              1                     4   \n",
       "\n",
       "     toilet_flush_handle_2 toilet_seat_1 toilet_seat_2  \n",
       "0                     3119          3119          3119  \n",
       "1                     1400           685          1968  \n",
       "2                     1400           685          1968  \n",
       "3                     1390           680          1965  \n",
       "4                      355            83           212  \n",
       "...                    ...           ...           ...  \n",
       "1010                     0             0             0  \n",
       "1011                     0             0             0  \n",
       "1012                     0             0             0  \n",
       "1013                     0             0             0  \n",
       "1014                     0             0             0  \n",
       "\n",
       "[1015 rows x 16 columns]"
      ]
     },
     "execution_count": 3,
     "metadata": {},
     "output_type": "execute_result"
    }
   ],
   "source": [
    "#Création df\n",
    "def getDF(dicoTaxo):\n",
    "    listeDf=[]\n",
    "    listeRegne=[\"regne\"]\n",
    "    for k1, v1 in dicoTaxo.items():\n",
    "        #Récupère que pour le règne\n",
    "        if k1 == \"name\":\n",
    "            listeRegne.append(v1)\n",
    "        elif k1 == \"count\" :\n",
    "            for i in range(0,14):\n",
    "                listeRegne.append(int(v1[i]))\n",
    "            listeDf.append(listeRegne)\n",
    "        elif k1 == \"children\":\n",
    "            for phylum in dicoTaxo['children']:\n",
    "                listePhylum = [\"phylum\"]\n",
    "                for k2, v2 in phylum.items():\n",
    "                    #Récupère que pour le phylum\n",
    "                    if k2 == \"name\" :\n",
    "                        listePhylum.append(v2)\n",
    "                    elif k2 == \"count\" :\n",
    "                        for i in range(0,14):\n",
    "                            listePhylum.append(int(v2[i]))\n",
    "                        listeDf.append(listePhylum)\n",
    "                    #Descend dans les niveau plus précis\n",
    "                    elif k2 == \"children\" :\n",
    "                        for classe in v2:\n",
    "                            listeClasse = [\"classe\"]\n",
    "                            for k3, v3 in classe.items():\n",
    "                                #Récupère que pour le phylum\n",
    "                                if k3 == \"name\" :\n",
    "                                    listeClasse.append(v3)\n",
    "                                elif k3 == \"count\" :\n",
    "                                    for i in range(0,14):\n",
    "                                        listeClasse.append(int(v3[i]))\n",
    "                                    listeDf.append(listeClasse)\n",
    "                                #Descend dans les niveau plus précis\n",
    "                                elif k2 == \"children\" :\n",
    "                                    for ordre in v3:\n",
    "                                        listeOrdre = [\"ordre\"]\n",
    "                                        for k4, v4 in ordre.items():\n",
    "                                            #Récupère que pour le phylum\n",
    "                                            if k4 == \"name\" :\n",
    "                                                listeOrdre.append(v4)\n",
    "                                            elif k4 == \"count\" :\n",
    "                                                for i in range(0,14):\n",
    "                                                    listeOrdre.append(int(v4[i]))\n",
    "                                                listeDf.append(listeOrdre)\n",
    "                                            #Descend dans les niveau plus précis\n",
    "                                            elif k4 == \"children\" :\n",
    "                                                for famille in v4:\n",
    "                                                    listeFamille = [\"famille\"]\n",
    "                                                    for k5, v5 in famille.items():\n",
    "                                                        #Récupère que pour le phylum\n",
    "                                                        if k5 == \"name\" :\n",
    "                                                            listeFamille.append(v5)\n",
    "                                                        elif k5 == \"count\" :\n",
    "                                                            for i in range(0,14):\n",
    "                                                                listeFamille.append(int(v5[i]))\n",
    "                                                            listeDf.append(listeFamille)\n",
    "                                                         #Descend dans les niveau plus précis\n",
    "                                                        elif k5 == \"children\" :\n",
    "                                                            for genre in v5:\n",
    "                                                                listeGenre = [\"genre\"]\n",
    "                                                                for k6, v6 in genre.items():\n",
    "                                                                    #Récupère que pour le phylum\n",
    "                                                                    if k6 == \"name\" :\n",
    "                                                                        listeGenre.append(v6)\n",
    "                                                                    elif k6 == \"count\" :\n",
    "                                                                        for i in range(0,14):\n",
    "                                                                            listeGenre.append(int(v6[i]))\n",
    "                                                                        listeDf.append(listeGenre)\n",
    "                                                                    \n",
    "    listelegColonne=[\"Nvx_taxo\", \"Taxo\", \"door_in_1\",\"door_in_2\", \"faucet_handle_1\", \n",
    "                \"faucet_handle_2\", \"sink_floor_1\", \"sink_floor_2\",\n",
    "               \"soap_dispenser_1\", \"stall_in_1\", \"toilet_floor_1\", \n",
    "               \"toilet_floor_2\", \"toilet_flush_handle_1\",\n",
    "               \"toilet_flush_handle_2\", \"toilet_seat_1\", \"toilet_seat_2\"]\n",
    "    ar = np.array(listeDf)\n",
    "    df = pandas.DataFrame(ar, columns = listelegColonne )\n",
    "    return df\n",
    "\n",
    "dicoTaxoTest = getDicoTaxo(df)\n",
    "df2 = getDF(dicoTaxoTest)\n",
    "df2\n",
    "\n"
   ]
  },
  {
   "cell_type": "code",
   "execution_count": 4,
   "metadata": {},
   "outputs": [],
   "source": [
    "def abondanceImportant(vecteurs):\n",
    "    sum = 0\n",
    "    lgVecteur = len(vecteurs[0])\n",
    "    rangeb = len(vecteurs[0])-1\n",
    "    listNumsup = []\n",
    "    for i in range(0,rangeb):\n",
    "        sum = vecteurs[1][i] +vecteurs[2][i]+vecteurs[3][i]+vecteurs[4][i]+vecteurs[5][i]+vecteurs[6][i]+vecteurs[7][i]+vecteurs[8][i]+vecteurs[9][i]+vecteurs[10][i]+vecteurs[11][i]+vecteurs[12][i]+vecteurs[13][i]+vecteurs[14][i]\n",
    "        if sum < 250 :\n",
    "            listNumsup.append(i)\n",
    "    nbSup = 0\n",
    "    for i in listNumsup:\n",
    "        if(lgVecteur == len(vecteurs[0]) ):\n",
    "            del vecteurs[0][i]\n",
    "            del vecteurs[1][i]\n",
    "            del vecteurs[2][i]\n",
    "            del vecteurs[3][i]\n",
    "            del vecteurs[4][i]\n",
    "            del vecteurs[5][i]\n",
    "            del vecteurs[6][i]\n",
    "            del vecteurs[7][i]\n",
    "            del vecteurs[8][i]\n",
    "            del vecteurs[9][i]\n",
    "            del vecteurs[10][i]\n",
    "            del vecteurs[11][i]\n",
    "            del vecteurs[12][i]\n",
    "            del vecteurs[13][i]\n",
    "            del vecteurs[14][i]\n",
    "        else:\n",
    "            nbSup = nbSup + 1\n",
    "            i = i-nbSup\n",
    "            del vecteurs[0][i]\n",
    "            del vecteurs[1][i]\n",
    "            del vecteurs[2][i]\n",
    "            del vecteurs[3][i]\n",
    "            del vecteurs[4][i]\n",
    "            del vecteurs[5][i]\n",
    "            del vecteurs[6][i]\n",
    "            del vecteurs[7][i]\n",
    "            del vecteurs[8][i]\n",
    "            del vecteurs[9][i]\n",
    "            del vecteurs[10][i]\n",
    "            del vecteurs[11][i]\n",
    "            del vecteurs[12][i]\n",
    "            del vecteurs[13][i]\n",
    "            del vecteurs[14][i]\n",
    "        \n",
    "    return vecteurs         "
   ]
  },
  {
   "cell_type": "code",
   "execution_count": 5,
   "metadata": {},
   "outputs": [],
   "source": [
    "#Création matrice pour heat map\n",
    "import numpy as np\n",
    "\n",
    "def matrice(vecteurs):\n",
    "    mat = np.array([vecteurs[1],vecteurs[2],vecteurs[3],vecteurs[4],vecteurs[5],vecteurs[6],vecteurs[7],vecteurs[8],vecteurs[9],\n",
    "           vecteurs[10],vecteurs[11],vecteurs[12],vecteurs[13],vecteurs[14]])\n",
    "    return mat\n"
   ]
  },
  {
   "cell_type": "code",
   "execution_count": 7,
   "metadata": {
    "scrolled": true
   },
   "outputs": [
    {
     "data": {
      "image/png": "[encoded data removed]",
      "text/plain": [
       "<Figure size 504x576 with 1 Axes>"
      ]
     },
     "metadata": {
      "needs_background": "light"
     },
     "output_type": "display_data"
    }
   ],
   "source": [
    "SELECTED = \"famille\" \n",
    "dicoTaxoTest = getDicoTaxo(df)\n",
    "vecteurs = getNiv(SELECTED,dicoTaxoTest) \n",
    "\n",
    "localisation=[\"door_in_1\",\"door_in_2\", \"faucet_handle_1\", \n",
    "                \"faucet_handle_2\", \"sink_floor_1\", \"sink_floor_2\",\n",
    "               \"soap_dispenser_1\", \"stall_in_1\", \"toilet_floor_1\", \n",
    "               \"toilet_floor_2\", \"toilet_flush_handle_1\",\n",
    "               \"toilet_flush_handle_2\", \"toilet_seat_1\", \"toilet_seat_2\"]\n",
    "\n",
    "vecteursTrier = abondanceImportant(vecteurs)\n",
    "selected_niv=vecteursTrier[0]\n",
    "N=len(selected_niv)\n",
    "ind = np.arange(N)\n",
    "\n",
    "l_loc = []\n",
    "for i in range(len(localisation)):\n",
    "    l_loc.append(vecteursTrier[i+1]) #car vecteursTrier[1] --> \"door_in_1\"\n",
    "    \n",
    "\n",
    "height = 0.9\n",
    "fig = plt.figure(figsize=[7, 8])\n",
    "bars = []\n",
    "cols = sns.color_palette('viridis_r',14) #COLORS\n",
    "#NOTE:max colors for \"colorblind\" are 10, look for solution soon!\n",
    "cumulated = np.zeros(len(l_loc[0]),dtype=int)\n",
    "for i in range(len(localisation)):\n",
    "    if i == 0 :\n",
    "        tmpbarobject = plt.barh(ind,l_loc[i], height,color=cols[i])\n",
    "    else: \n",
    "        tmpbarobject = plt.barh(ind, l_loc[i],height, left=cumulated, color=cols[i]) \n",
    "\n",
    "    cumulated = np.add(l_loc[i],cumulated)\n",
    "    bars.append(tmpbarobject[0])\n",
    "\n",
    "plt.xlabel('Abundance') \n",
    "plt.title('Cool and horizontal ==> ' + SELECTED) \n",
    "plt.yticks(ind, (selected_niv)) \n",
    "# legende dehors du plot area avec: bbbox_to_anchor\n",
    "plt.legend(bars, localisation, bbox_to_anchor=(1.5, 1)) \n",
    "  \n",
    "plt.show()"
   ]
  },
  {
   "cell_type": "code",
   "execution_count": 8,
   "metadata": {},
   "outputs": [
    {
     "data": {
      "text/plain": [
       "<matplotlib.image.AxesImage at 0x7f8c4c0f1340>"
      ]
     },
     "execution_count": 8,
     "metadata": {},
     "output_type": "execute_result"
    },
    {
     "data": {
      "image/png": "[encoded data removed]",
      "text/plain": [
       "<Figure size 576x288 with 1 Axes>"
      ]
     },
     "metadata": {
      "needs_background": "light"
     },
     "output_type": "display_data"
    }
   ],
   "source": [
    "##Test heatmap\n",
    "#idem peut être normalisation ? \n",
    "dicoTaxoTest = getDicoTaxo(df)\n",
    "vecteurs = getNiv(\"Phylum\",dicoTaxoTest)\n",
    "mat = matrice(vecteurs)\n",
    "\n",
    "plt.matshow(mat)"
   ]
  },
  {
   "cell_type": "code",
   "execution_count": 9,
   "metadata": {},
   "outputs": [],
   "source": [
    "SELECTED = \"ordre\" \n",
    "dicoTaxoTest = getDicoTaxo(df)\n",
    "vecteurs = getNiv(SELECTED,dicoTaxoTest) \n",
    "\n",
    "localisation=[\"door_in_1\",\"door_in_2\", \"faucet_handle_1\", \n",
    "                \"faucet_handle_2\", \"sink_floor_1\", \"sink_floor_2\",\n",
    "               \"soap_dispenser_1\", \"stall_in_1\", \"toilet_floor_1\", \n",
    "               \"toilet_floor_2\", \"toilet_flush_handle_1\",\n",
    "               \"toilet_flush_handle_2\", \"toilet_seat_1\", \"toilet_seat_2\"]\n",
    "\n",
    "vecteursTrier = abondanceImportant(vecteurs)\n",
    "selected_niv=vecteursTrier[0]\n",
    "N=len(selected_niv)\n",
    "ind = np.arange(N)\n",
    "\n",
    "l_loc = []\n",
    "for i in range(len(localisation)):\n",
    "    l_loc.append(vecteursTrier[i+1]) #car vecteursTrier[1] --> \"door_in_1\"\n"
   ]
  },
  {
   "cell_type": "code",
   "execution_count": 10,
   "metadata": {},
   "outputs": [
    {
     "data": {
      "image/png": "[encoded data removed]",
      "text/plain": [
       "<Figure size 432x288 with 1 Axes>"
      ]
     },
     "metadata": {
      "needs_background": "light"
     },
     "output_type": "display_data"
    }
   ],
   "source": [
    "import matplotlib.pyplot as plt\n",
    "\n",
    "##Test heatmap\n",
    "dicoTaxoTest = getDicoTaxo(df)\n",
    "vecteurs = getNiv(\"Phylum\",dicoTaxoTest)\n",
    "mat = matrice(vecteurs)\n",
    "\n",
    "localisation = [\"door_in_1\",\"door_in_2\", \"faucet_handle_1\", \n",
    "                \"faucet_handle_2\", \"sink_floor_1\", \"sink_floor_2\",\n",
    "               \"soap_dispenser_1\", \"stall_in_1\", \"toilet_floor_1\", \n",
    "               \"toilet_floor_2\", \"toilet_flush_handle_1\",\n",
    "               \"toilet_flush_handle_2\", \"toilet_seat_1\", \"toilet_seat_2\"]\n",
    "\n",
    "espece=vecteurs[0]\n",
    "\n",
    "fig, ax = plt.subplots()\n",
    "im = ax.imshow(mat)\n",
    "\n",
    "ax.set_xticks(np.arange(len(espece)))\n",
    "ax.set_yticks(np.arange(len(localisation)))\n",
    "\n",
    "ax.set_xticklabels(espece)\n",
    "ax.set_yticklabels(localisation)\n",
    "\n",
    "plt.setp(ax.get_xticklabels(), rotation=45, ha=\"right\",\n",
    "         rotation_mode=\"anchor\")\n",
    "\n",
    "for i in range(len(localisation)):\n",
    "    for j in range(len(espece)):\n",
    "        text = ax.text(j, i, mat[i, j],\n",
    "                       ha=\"center\", va=\"center\", color=\"w\")\n",
    "\n",
    "\n",
    "ax.set_title(\"Title\")\n",
    "fig.tight_layout()\n",
    "plt.show()        "
   ]
  },
  {
   "cell_type": "code",
   "execution_count": 11,
   "metadata": {},
   "outputs": [
    {
     "data": {
      "image/png": "[encoded data removed]",
      "text/plain": [
       "<Figure size 432x288 with 2 Axes>"
      ]
     },
     "metadata": {
      "needs_background": "light"
     },
     "output_type": "display_data"
    }
   ],
   "source": [
    "import seaborn as sns\n",
    "##Test heatmap\n",
    "dicoTaxoTest = getDicoTaxo(df)\n",
    "vecteurs = getNiv(\"Phylum\",dicoTaxoTest)\n",
    "mat = matrice(vecteurs)\n",
    "localisation = [\"door_in_1\",\"door_in_2\", \"faucet_handle_1\", \n",
    "                \"faucet_handle_2\", \"sink_floor_1\", \"sink_floor_2\",\n",
    "               \"soap_dispenser_1\", \"stall_in_1\", \"toilet_floor_1\", \n",
    "               \"toilet_floor_2\", \"toilet_flush_handle_1\",\n",
    "               \"toilet_flush_handle_2\", \"toilet_seat_1\", \"toilet_seat_2\"]\n",
    "\n",
    "espece=vecteurs[0]\n",
    "\n",
    "ax = sns.heatmap(mat)"
   ]
  },
  {
   "cell_type": "markdown",
   "metadata": {},
   "source": []
  },
  {
   "cell_type": "code",
   "execution_count": null,
   "metadata": {},
   "outputs": [],
   "source": []
  },
  {
   "cell_type": "code",
   "execution_count": 12,
   "metadata": {},
   "outputs": [
    {
     "data": {
      "text/plain": [
       "\"liste = []\\ntaille = len(df4['door_in_1'])\\nfor i in range(0,taille-1):\\n    if df4['door_in_1'][i] == 0:\\n        liste.append(1)\\n    else:\\n        liste.append(int(df4['door_in_1'][i]))\""
      ]
     },
     "execution_count": 12,
     "metadata": {},
     "output_type": "execute_result"
    }
   ],
   "source": [
    "import matplotlib.pyplot as plt\n",
    "import squarify\n",
    "\n",
    "\n",
    "#test treemap avec df\n",
    "dicoTaxoTest = getDicoTaxo(df)\n",
    "df4 = getDF(dicoTaxoTest)\n",
    "\n",
    "#fig, ax = plt.subplots(1, figsize = (12,12))\n",
    "'''liste = []\n",
    "taille = len(df4['door_in_1'])\n",
    "for i in range(0,taille-1):\n",
    "    if df4['door_in_1'][i] == 0:\n",
    "        liste.append(1)\n",
    "    else:\n",
    "        liste.append(int(df4['door_in_1'][i]))'''\n",
    "    \n",
    "#squarify.plot(sizes=df4['door_in_1'], \n",
    "#              label=df4['Taxo'], \n",
    "#              alpha=.8 )\n",
    "#plt.axis('off')\n",
    "#plt.show()"
   ]
  },
  {
   "cell_type": "code",
   "execution_count": 13,
   "metadata": {},
   "outputs": [],
   "source": [
    "#test treemap\n",
    "import squarify\n",
    "import matplotlib.cm as cm \n",
    "import matplotlib\n",
    "\n",
    "dicoTaxoTest = getDicoTaxo(df)\n",
    "vecteurs = getNiv(\"Phylum\",dicoTaxoTest)\n",
    "mat = matrice(vecteurs)\n",
    "\n",
    "def getMax(mat):\n",
    "    maxi = 0\n",
    "    for ligne in mat:\n",
    "        for i in ligne:\n",
    "            if i > maxi:\n",
    "                maxi = i\n",
    "    return maxi\n",
    "\n",
    "def getMin(mat, maxi):\n",
    "    mini = 0\n",
    "    for ligne in mat:\n",
    "        for i in ligne:\n",
    "            if i < mini:\n",
    "                mini = i\n",
    "    return mini\n",
    "\n",
    "\n",
    "cmap = cm.Blues\n",
    "maxi = getMax(mat)\n",
    "mini = getMin(mat, maxi)\n",
    "my_values=[i**3 for i in range(1,100)]\n",
    "my_values\n",
    "\n",
    "norm = matplotlib.colors.Normalize(vmin=mini, vmax=maxi)\n",
    "colors = [cmap(norm(value)) for value in mat]\n",
    " \n",
    "#Change color\n",
    "#squarify.plot(sizes=mat, alpha=.8, color=colors )\n",
    "#plt.axis('off')\n",
    "#plt.show()"
   ]
  },
  {
   "cell_type": "code",
   "execution_count": null,
   "metadata": {},
   "outputs": [],
   "source": []
  },
  {
   "cell_type": "code",
   "execution_count": 15,
   "metadata": {},
   "outputs": [
    {
     "data": {
      "application/vnd.plotly.v1+json": {
       "config": {
        "plotlyServerURL": "https://plot.ly"
       },
       "data": [
        {
         "hovertemplate": "color=door_in_1<br>0=%{x}<br>1=%{y}<extra></extra>",
         "legendgroup": "door_in_1",
         "marker": {
          "color": "#636efa",
          "symbol": "circle"
         },
         "mode": "markers",
         "name": "door_in_1",
         "orientation": "v",
         "showlegend": true,
         "type": "scatter",
         "x": [
          -7.825052790502278
         ],
         "xaxis": "x",
         "y": [
          5.013117018373193
         ],
         "yaxis": "y"
        },
        {
         "hovertemplate": "color=door_in_2<br>0=%{x}<br>1=%{y}<extra></extra>",
         "legendgroup": "door_in_2",
         "marker": {
          "color": "#EF553B",
          "symbol": "circle"
         },
         "mode": "markers",
         "name": "door_in_2",
         "orientation": "v",
         "showlegend": true,
         "type": "scatter",
         "x": [
          -7.361688729159278
         ],
         "xaxis": "x",
         "y": [
          4.297986172365622
         ],
         "yaxis": "y"
        },
        {
         "hovertemplate": "color=faucet_handle_1<br>0=%{x}<br>1=%{y}<extra></extra>",
         "legendgroup": "faucet_handle_1",
         "marker": {
          "color": "#00cc96",
          "symbol": "circle"
         },
         "mode": "markers",
         "name": "faucet_handle_1",
         "orientation": "v",
         "showlegend": true,
         "type": "scatter",
         "x": [
          -7.361688729159278
         ],
         "xaxis": "x",
         "y": [
          4.297986172365622
         ],
         "yaxis": "y"
        },
        {
         "hovertemplate": "color=faucet_handle_2<br>0=%{x}<br>1=%{y}<extra></extra>",
         "legendgroup": "faucet_handle_2",
         "marker": {
          "color": "#ab63fa",
          "symbol": "circle"
         },
         "mode": "markers",
         "name": "faucet_handle_2",
         "orientation": "v",
         "showlegend": true,
         "type": "scatter",
         "x": [
          -6.60256088775874
         ],
         "xaxis": "x",
         "y": [
          2.936764073379306
         ],
         "yaxis": "y"
        },
        {
         "hovertemplate": "color=sink_floor_1<br>0=%{x}<br>1=%{y}<extra></extra>",
         "legendgroup": "sink_floor_1",
         "marker": {
          "color": "#FFA15A",
          "symbol": "circle"
         },
         "mode": "markers",
         "name": "sink_floor_1",
         "orientation": "v",
         "showlegend": true,
         "type": "scatter",
         "x": [
          7.523236807469897
         ],
         "xaxis": "x",
         "y": [
          -14.920955200544665
         ],
         "yaxis": "y"
        },
        {
         "hovertemplate": "color=sink_floor_2<br>0=%{x}<br>1=%{y}<extra></extra>",
         "legendgroup": "sink_floor_2",
         "marker": {
          "color": "#19d3f3",
          "symbol": "circle"
         },
         "mode": "markers",
         "name": "sink_floor_2",
         "orientation": "v",
         "showlegend": true,
         "type": "scatter",
         "x": [
          5.882748356112845
         ],
         "xaxis": "x",
         "y": [
          -15.924629559676573
         ],
         "yaxis": "y"
        },
        {
         "hovertemplate": "color=soap_dispenser_1<br>0=%{x}<br>1=%{y}<extra></extra>",
         "legendgroup": "soap_dispenser_1",
         "marker": {
          "color": "#FF6692",
          "symbol": "circle"
         },
         "mode": "markers",
         "name": "soap_dispenser_1",
         "orientation": "v",
         "showlegend": true,
         "type": "scatter",
         "x": [
          -7.117387567614545
         ],
         "xaxis": "x",
         "y": [
          3.466685251289778
         ],
         "yaxis": "y"
        },
        {
         "hovertemplate": "color=stall_in_1<br>0=%{x}<br>1=%{y}<extra></extra>",
         "legendgroup": "stall_in_1",
         "marker": {
          "color": "#B6E880",
          "symbol": "circle"
         },
         "mode": "markers",
         "name": "stall_in_1",
         "orientation": "v",
         "showlegend": true,
         "type": "scatter",
         "x": [
          -7.519416712030589
         ],
         "xaxis": "x",
         "y": [
          5.762589220469735
         ],
         "yaxis": "y"
        },
        {
         "hovertemplate": "color=toilet_floor_1<br>0=%{x}<br>1=%{y}<extra></extra>",
         "legendgroup": "toilet_floor_1",
         "marker": {
          "color": "#FF97FF",
          "symbol": "circle"
         },
         "mode": "markers",
         "name": "toilet_floor_1",
         "orientation": "v",
         "showlegend": true,
         "type": "scatter",
         "x": [
          8.15725029684841
         ],
         "xaxis": "x",
         "y": [
          -11.932768305188821
         ],
         "yaxis": "y"
        },
        {
         "hovertemplate": "color=toilet_floor_2<br>0=%{x}<br>1=%{y}<extra></extra>",
         "legendgroup": "toilet_floor_2",
         "marker": {
          "color": "#FECB52",
          "symbol": "circle"
         },
         "mode": "markers",
         "name": "toilet_floor_2",
         "orientation": "v",
         "showlegend": true,
         "type": "scatter",
         "x": [
          5.308675877788743
         ],
         "xaxis": "x",
         "y": [
          -10.131332930441024
         ],
         "yaxis": "y"
        },
        {
         "hovertemplate": "color=toilet_flush_handle_1<br>0=%{x}<br>1=%{y}<extra></extra>",
         "legendgroup": "toilet_flush_handle_1",
         "marker": {
          "color": "#636efa",
          "symbol": "circle"
         },
         "mode": "markers",
         "name": "toilet_flush_handle_1",
         "orientation": "v",
         "showlegend": true,
         "type": "scatter",
         "x": [
          35.27345362993076
         ],
         "xaxis": "x",
         "y": [
          17.173549831427547
         ],
         "yaxis": "y"
        },
        {
         "hovertemplate": "color=toilet_flush_handle_2<br>0=%{x}<br>1=%{y}<extra></extra>",
         "legendgroup": "toilet_flush_handle_2",
         "marker": {
          "color": "#EF553B",
          "symbol": "circle"
         },
         "mode": "markers",
         "name": "toilet_flush_handle_2",
         "orientation": "v",
         "showlegend": true,
         "type": "scatter",
         "x": [
          -5.128294242481123
         ],
         "xaxis": "x",
         "y": [
          4.761228319314345
         ],
         "yaxis": "y"
        },
        {
         "hovertemplate": "color=toilet_seat_1<br>0=%{x}<br>1=%{y}<extra></extra>",
         "legendgroup": "toilet_seat_1",
         "marker": {
          "color": "#00cc96",
          "symbol": "circle"
         },
         "mode": "markers",
         "name": "toilet_seat_1",
         "orientation": "v",
         "showlegend": true,
         "type": "scatter",
         "x": [
          -6.595258028658577
         ],
         "xaxis": "x",
         "y": [
          2.6573837797463495
         ],
         "yaxis": "y"
        },
        {
         "hovertemplate": "color=toilet_seat_2<br>0=%{x}<br>1=%{y}<extra></extra>",
         "legendgroup": "toilet_seat_2",
         "marker": {
          "color": "#ab63fa",
          "symbol": "circle"
         },
         "mode": "markers",
         "name": "toilet_seat_2",
         "orientation": "v",
         "showlegend": true,
         "type": "scatter",
         "x": [
          -6.634017280786217
         ],
         "xaxis": "x",
         "y": [
          2.5423961571195686
         ],
         "yaxis": "y"
        }
       ],
       "layout": {
        "legend": {
         "title": {
          "text": "color"
         },
         "tracegroupgap": 0
        },
        "margin": {
         "t": 60
        },
        "template": {
         "data": {
          "bar": [
           {
            "error_x": {
             "color": "#2a3f5f"
            },
            "error_y": {
             "color": "#2a3f5f"
            },
            "marker": {
             "line": {
              "color": "#E5ECF6",
              "width": 0.5
             }
            },
            "type": "bar"
           }
          ],
          "barpolar": [
           {
            "marker": {
             "line": {
              "color": "#E5ECF6",
              "width": 0.5
             }
            },
            "type": "barpolar"
           }
          ],
          "carpet": [
           {
            "aaxis": {
             "endlinecolor": "#2a3f5f",
             "gridcolor": "white",
             "linecolor": "white",
             "minorgridcolor": "white",
             "startlinecolor": "#2a3f5f"
            },
            "baxis": {
             "endlinecolor": "#2a3f5f",
             "gridcolor": "white",
             "linecolor": "white",
             "minorgridcolor": "white",
             "startlinecolor": "#2a3f5f"
            },
            "type": "carpet"
           }
          ],
          "choropleth": [
           {
            "colorbar": {
             "outlinewidth": 0,
             "ticks": ""
            },
            "type": "choropleth"
           }
          ],
          "contour": [
           {
            "colorbar": {
             "outlinewidth": 0,
             "ticks": ""
            },
            "colorscale": [
             [
              0,
              "#0d0887"
             ],
             [
              0.1111111111111111,
              "#46039f"
             ],
             [
              0.2222222222222222,
              "#7201a8"
             ],
             [
              0.3333333333333333,
              "#9c179e"
             ],
             [
              0.4444444444444444,
              "#bd3786"
             ],
             [
              0.5555555555555556,
              "#d8576b"
             ],
             [
              0.6666666666666666,
              "#ed7953"
             ],
             [
              0.7777777777777778,
              "#fb9f3a"
             ],
             [
              0.8888888888888888,
              "#fdca26"
             ],
             [
              1,
              "#f0f921"
             ]
            ],
            "type": "contour"
           }
          ],
          "contourcarpet": [
           {
            "colorbar": {
             "outlinewidth": 0,
             "ticks": ""
            },
            "type": "contourcarpet"
           }
          ],
          "heatmap": [
           {
            "colorbar": {
             "outlinewidth": 0,
             "ticks": ""
            },
            "colorscale": [
             [
              0,
              "#0d0887"
             ],
             [
              0.1111111111111111,
              "#46039f"
             ],
             [
              0.2222222222222222,
              "#7201a8"
             ],
             [
              0.3333333333333333,
              "#9c179e"
             ],
             [
              0.4444444444444444,
              "#bd3786"
             ],
             [
              0.5555555555555556,
              "#d8576b"
             ],
             [
              0.6666666666666666,
              "#ed7953"
             ],
             [
              0.7777777777777778,
              "#fb9f3a"
             ],
             [
              0.8888888888888888,
              "#fdca26"
             ],
             [
              1,
              "#f0f921"
             ]
            ],
            "type": "heatmap"
           }
          ],
          "heatmapgl": [
           {
            "colorbar": {
             "outlinewidth": 0,
             "ticks": ""
            },
            "colorscale": [
             [
              0,
              "#0d0887"
             ],
             [
              0.1111111111111111,
              "#46039f"
             ],
             [
              0.2222222222222222,
              "#7201a8"
             ],
             [
              0.3333333333333333,
              "#9c179e"
             ],
             [
              0.4444444444444444,
              "#bd3786"
             ],
             [
              0.5555555555555556,
              "#d8576b"
             ],
             [
              0.6666666666666666,
              "#ed7953"
             ],
             [
              0.7777777777777778,
              "#fb9f3a"
             ],
             [
              0.8888888888888888,
              "#fdca26"
             ],
             [
              1,
              "#f0f921"
             ]
            ],
            "type": "heatmapgl"
           }
          ],
          "histogram": [
           {
            "marker": {
             "colorbar": {
              "outlinewidth": 0,
              "ticks": ""
             }
            },
            "type": "histogram"
           }
          ],
          "histogram2d": [
           {
            "colorbar": {
             "outlinewidth": 0,
             "ticks": ""
            },
            "colorscale": [
             [
              0,
              "#0d0887"
             ],
             [
              0.1111111111111111,
              "#46039f"
             ],
             [
              0.2222222222222222,
              "#7201a8"
             ],
             [
              0.3333333333333333,
              "#9c179e"
             ],
             [
              0.4444444444444444,
              "#bd3786"
             ],
             [
              0.5555555555555556,
              "#d8576b"
             ],
             [
              0.6666666666666666,
              "#ed7953"
             ],
             [
              0.7777777777777778,
              "#fb9f3a"
             ],
             [
              0.8888888888888888,
              "#fdca26"
             ],
             [
              1,
              "#f0f921"
             ]
            ],
            "type": "histogram2d"
           }
          ],
          "histogram2dcontour": [
           {
            "colorbar": {
             "outlinewidth": 0,
             "ticks": ""
            },
            "colorscale": [
             [
              0,
              "#0d0887"
             ],
             [
              0.1111111111111111,
              "#46039f"
             ],
             [
              0.2222222222222222,
              "#7201a8"
             ],
             [
              0.3333333333333333,
              "#9c179e"
             ],
             [
              0.4444444444444444,
              "#bd3786"
             ],
             [
              0.5555555555555556,
              "#d8576b"
             ],
             [
              0.6666666666666666,
              "#ed7953"
             ],
             [
              0.7777777777777778,
              "#fb9f3a"
             ],
             [
              0.8888888888888888,
              "#fdca26"
             ],
             [
              1,
              "#f0f921"
             ]
            ],
            "type": "histogram2dcontour"
           }
          ],
          "mesh3d": [
           {
            "colorbar": {
             "outlinewidth": 0,
             "ticks": ""
            },
            "type": "mesh3d"
           }
          ],
          "parcoords": [
           {
            "line": {
             "colorbar": {
              "outlinewidth": 0,
              "ticks": ""
             }
            },
            "type": "parcoords"
           }
          ],
          "pie": [
           {
            "automargin": true,
            "type": "pie"
           }
          ],
          "scatter": [
           {
            "marker": {
             "colorbar": {
              "outlinewidth": 0,
              "ticks": ""
             }
            },
            "type": "scatter"
           }
          ],
          "scatter3d": [
           {
            "line": {
             "colorbar": {
              "outlinewidth": 0,
              "ticks": ""
             }
            },
            "marker": {
             "colorbar": {
              "outlinewidth": 0,
              "ticks": ""
             }
            },
            "type": "scatter3d"
           }
          ],
          "scattercarpet": [
           {
            "marker": {
             "colorbar": {
              "outlinewidth": 0,
              "ticks": ""
             }
            },
            "type": "scattercarpet"
           }
          ],
          "scattergeo": [
           {
            "marker": {
             "colorbar": {
              "outlinewidth": 0,
              "ticks": ""
             }
            },
            "type": "scattergeo"
           }
          ],
          "scattergl": [
           {
            "marker": {
             "colorbar": {
              "outlinewidth": 0,
              "ticks": ""
             }
            },
            "type": "scattergl"
           }
          ],
          "scattermapbox": [
           {
            "marker": {
             "colorbar": {
              "outlinewidth": 0,
              "ticks": ""
             }
            },
            "type": "scattermapbox"
           }
          ],
          "scatterpolar": [
           {
            "marker": {
             "colorbar": {
              "outlinewidth": 0,
              "ticks": ""
             }
            },
            "type": "scatterpolar"
           }
          ],
          "scatterpolargl": [
           {
            "marker": {
             "colorbar": {
              "outlinewidth": 0,
              "ticks": ""
             }
            },
            "type": "scatterpolargl"
           }
          ],
          "scatterternary": [
           {
            "marker": {
             "colorbar": {
              "outlinewidth": 0,
              "ticks": ""
             }
            },
            "type": "scatterternary"
           }
          ],
          "surface": [
           {
            "colorbar": {
             "outlinewidth": 0,
             "ticks": ""
            },
            "colorscale": [
             [
              0,
              "#0d0887"
             ],
             [
              0.1111111111111111,
              "#46039f"
             ],
             [
              0.2222222222222222,
              "#7201a8"
             ],
             [
              0.3333333333333333,
              "#9c179e"
             ],
             [
              0.4444444444444444,
              "#bd3786"
             ],
             [
              0.5555555555555556,
              "#d8576b"
             ],
             [
              0.6666666666666666,
              "#ed7953"
             ],
             [
              0.7777777777777778,
              "#fb9f3a"
             ],
             [
              0.8888888888888888,
              "#fdca26"
             ],
             [
              1,
              "#f0f921"
             ]
            ],
            "type": "surface"
           }
          ],
          "table": [
           {
            "cells": {
             "fill": {
              "color": "#EBF0F8"
             },
             "line": {
              "color": "white"
             }
            },
            "header": {
             "fill": {
              "color": "#C8D4E3"
             },
             "line": {
              "color": "white"
             }
            },
            "type": "table"
           }
          ]
         },
         "layout": {
          "annotationdefaults": {
           "arrowcolor": "#2a3f5f",
           "arrowhead": 0,
           "arrowwidth": 1
          },
          "coloraxis": {
           "colorbar": {
            "outlinewidth": 0,
            "ticks": ""
           }
          },
          "colorscale": {
           "diverging": [
            [
             0,
             "#8e0152"
            ],
            [
             0.1,
             "#c51b7d"
            ],
            [
             0.2,
             "#de77ae"
            ],
            [
             0.3,
             "#f1b6da"
            ],
            [
             0.4,
             "#fde0ef"
            ],
            [
             0.5,
             "#f7f7f7"
            ],
            [
             0.6,
             "#e6f5d0"
            ],
            [
             0.7,
             "#b8e186"
            ],
            [
             0.8,
             "#7fbc41"
            ],
            [
             0.9,
             "#4d9221"
            ],
            [
             1,
             "#276419"
            ]
           ],
           "sequential": [
            [
             0,
             "#0d0887"
            ],
            [
             0.1111111111111111,
             "#46039f"
            ],
            [
             0.2222222222222222,
             "#7201a8"
            ],
            [
             0.3333333333333333,
             "#9c179e"
            ],
            [
             0.4444444444444444,
             "#bd3786"
            ],
            [
             0.5555555555555556,
             "#d8576b"
            ],
            [
             0.6666666666666666,
             "#ed7953"
            ],
            [
             0.7777777777777778,
             "#fb9f3a"
            ],
            [
             0.8888888888888888,
             "#fdca26"
            ],
            [
             1,
             "#f0f921"
            ]
           ],
           "sequentialminus": [
            [
             0,
             "#0d0887"
            ],
            [
             0.1111111111111111,
             "#46039f"
            ],
            [
             0.2222222222222222,
             "#7201a8"
            ],
            [
             0.3333333333333333,
             "#9c179e"
            ],
            [
             0.4444444444444444,
             "#bd3786"
            ],
            [
             0.5555555555555556,
             "#d8576b"
            ],
            [
             0.6666666666666666,
             "#ed7953"
            ],
            [
             0.7777777777777778,
             "#fb9f3a"
            ],
            [
             0.8888888888888888,
             "#fdca26"
            ],
            [
             1,
             "#f0f921"
            ]
           ]
          },
          "colorway": [
           "#636efa",
           "#EF553B",
           "#00cc96",
           "#ab63fa",
           "#FFA15A",
           "#19d3f3",
           "#FF6692",
           "#B6E880",
           "#FF97FF",
           "#FECB52"
          ],
          "font": {
           "color": "#2a3f5f"
          },
          "geo": {
           "bgcolor": "white",
           "lakecolor": "white",
           "landcolor": "#E5ECF6",
           "showlakes": true,
           "showland": true,
           "subunitcolor": "white"
          },
          "hoverlabel": {
           "align": "left"
          },
          "hovermode": "closest",
          "mapbox": {
           "style": "light"
          },
          "paper_bgcolor": "white",
          "plot_bgcolor": "#E5ECF6",
          "polar": {
           "angularaxis": {
            "gridcolor": "white",
            "linecolor": "white",
            "ticks": ""
           },
           "bgcolor": "#E5ECF6",
           "radialaxis": {
            "gridcolor": "white",
            "linecolor": "white",
            "ticks": ""
           }
          },
          "scene": {
           "xaxis": {
            "backgroundcolor": "#E5ECF6",
            "gridcolor": "white",
            "gridwidth": 2,
            "linecolor": "white",
            "showbackground": true,
            "ticks": "",
            "zerolinecolor": "white"
           },
           "yaxis": {
            "backgroundcolor": "#E5ECF6",
            "gridcolor": "white",
            "gridwidth": 2,
            "linecolor": "white",
            "showbackground": true,
            "ticks": "",
            "zerolinecolor": "white"
           },
           "zaxis": {
            "backgroundcolor": "#E5ECF6",
            "gridcolor": "white",
            "gridwidth": 2,
            "linecolor": "white",
            "showbackground": true,
            "ticks": "",
            "zerolinecolor": "white"
           }
          },
          "shapedefaults": {
           "line": {
            "color": "#2a3f5f"
           }
          },
          "ternary": {
           "aaxis": {
            "gridcolor": "white",
            "linecolor": "white",
            "ticks": ""
           },
           "baxis": {
            "gridcolor": "white",
            "linecolor": "white",
            "ticks": ""
           },
           "bgcolor": "#E5ECF6",
           "caxis": {
            "gridcolor": "white",
            "linecolor": "white",
            "ticks": ""
           }
          },
          "title": {
           "x": 0.05
          },
          "xaxis": {
           "automargin": true,
           "gridcolor": "white",
           "linecolor": "white",
           "ticks": "",
           "title": {
            "standoff": 15
           },
           "zerolinecolor": "white",
           "zerolinewidth": 2
          },
          "yaxis": {
           "automargin": true,
           "gridcolor": "white",
           "linecolor": "white",
           "ticks": "",
           "title": {
            "standoff": 15
           },
           "zerolinecolor": "white",
           "zerolinewidth": 2
          }
         }
        },
        "xaxis": {
         "anchor": "y",
         "domain": [
          0,
          1
         ],
         "title": {
          "text": "0"
         }
        },
        "yaxis": {
         "anchor": "x",
         "domain": [
          0,
          1
         ],
         "title": {
          "text": "1"
         }
        }
       }
      },
      "text/html": [
       "<div>                            <div id=\"939dab9a-4458-4b76-93d3-2bde3660ad37\" class=\"plotly-graph-div\" style=\"height:525px; width:100%;\"></div>            <script type=\"text/javascript\">                require([\"plotly\"], function(Plotly) {                    window.PLOTLYENV=window.PLOTLYENV || {};                                    if (document.getElementById(\"939dab9a-4458-4b76-93d3-2bde3660ad37\")) {                    Plotly.newPlot(                        \"939dab9a-4458-4b76-93d3-2bde3660ad37\",                        [{\"hovertemplate\": \"color=door_in_1<br>0=%{x}<br>1=%{y}<extra></extra>\", \"legendgroup\": \"door_in_1\", \"marker\": {\"color\": \"#636efa\", \"symbol\": \"circle\"}, \"mode\": \"markers\", \"name\": \"door_in_1\", \"orientation\": \"v\", \"showlegend\": true, \"type\": \"scatter\", \"x\": [-7.825052790502278], \"xaxis\": \"x\", \"y\": [5.013117018373193], \"yaxis\": \"y\"}, {\"hovertemplate\": \"color=door_in_2<br>0=%{x}<br>1=%{y}<extra></extra>\", \"legendgroup\": \"door_in_2\", \"marker\": {\"color\": \"#EF553B\", \"symbol\": \"circle\"}, \"mode\": \"markers\", \"name\": \"door_in_2\", \"orientation\": \"v\", \"showlegend\": true, \"type\": \"scatter\", \"x\": [-7.361688729159278], \"xaxis\": \"x\", \"y\": [4.297986172365622], \"yaxis\": \"y\"}, {\"hovertemplate\": \"color=faucet_handle_1<br>0=%{x}<br>1=%{y}<extra></extra>\", \"legendgroup\": \"faucet_handle_1\", \"marker\": {\"color\": \"#00cc96\", \"symbol\": \"circle\"}, \"mode\": \"markers\", \"name\": \"faucet_handle_1\", \"orientation\": \"v\", \"showlegend\": true, \"type\": \"scatter\", \"x\": [-7.361688729159278], \"xaxis\": \"x\", \"y\": [4.297986172365622], \"yaxis\": \"y\"}, {\"hovertemplate\": \"color=faucet_handle_2<br>0=%{x}<br>1=%{y}<extra></extra>\", \"legendgroup\": \"faucet_handle_2\", \"marker\": {\"color\": \"#ab63fa\", \"symbol\": \"circle\"}, \"mode\": \"markers\", \"name\": \"faucet_handle_2\", \"orientation\": \"v\", \"showlegend\": true, \"type\": \"scatter\", \"x\": [-6.60256088775874], \"xaxis\": \"x\", \"y\": [2.936764073379306], \"yaxis\": \"y\"}, {\"hovertemplate\": \"color=sink_floor_1<br>0=%{x}<br>1=%{y}<extra></extra>\", \"legendgroup\": \"sink_floor_1\", \"marker\": {\"color\": \"#FFA15A\", \"symbol\": \"circle\"}, \"mode\": \"markers\", \"name\": \"sink_floor_1\", \"orientation\": \"v\", \"showlegend\": true, \"type\": \"scatter\", \"x\": [7.523236807469897], \"xaxis\": \"x\", \"y\": [-14.920955200544665], \"yaxis\": \"y\"}, {\"hovertemplate\": \"color=sink_floor_2<br>0=%{x}<br>1=%{y}<extra></extra>\", \"legendgroup\": \"sink_floor_2\", \"marker\": {\"color\": \"#19d3f3\", \"symbol\": \"circle\"}, \"mode\": \"markers\", \"name\": \"sink_floor_2\", \"orientation\": \"v\", \"showlegend\": true, \"type\": \"scatter\", \"x\": [5.882748356112845], \"xaxis\": \"x\", \"y\": [-15.924629559676573], \"yaxis\": \"y\"}, {\"hovertemplate\": \"color=soap_dispenser_1<br>0=%{x}<br>1=%{y}<extra></extra>\", \"legendgroup\": \"soap_dispenser_1\", \"marker\": {\"color\": \"#FF6692\", \"symbol\": \"circle\"}, \"mode\": \"markers\", \"name\": \"soap_dispenser_1\", \"orientation\": \"v\", \"showlegend\": true, \"type\": \"scatter\", \"x\": [-7.117387567614545], \"xaxis\": \"x\", \"y\": [3.466685251289778], \"yaxis\": \"y\"}, {\"hovertemplate\": \"color=stall_in_1<br>0=%{x}<br>1=%{y}<extra></extra>\", \"legendgroup\": \"stall_in_1\", \"marker\": {\"color\": \"#B6E880\", \"symbol\": \"circle\"}, \"mode\": \"markers\", \"name\": \"stall_in_1\", \"orientation\": \"v\", \"showlegend\": true, \"type\": \"scatter\", \"x\": [-7.519416712030589], \"xaxis\": \"x\", \"y\": [5.762589220469735], \"yaxis\": \"y\"}, {\"hovertemplate\": \"color=toilet_floor_1<br>0=%{x}<br>1=%{y}<extra></extra>\", \"legendgroup\": \"toilet_floor_1\", \"marker\": {\"color\": \"#FF97FF\", \"symbol\": \"circle\"}, \"mode\": \"markers\", \"name\": \"toilet_floor_1\", \"orientation\": \"v\", \"showlegend\": true, \"type\": \"scatter\", \"x\": [8.15725029684841], \"xaxis\": \"x\", \"y\": [-11.932768305188821], \"yaxis\": \"y\"}, {\"hovertemplate\": \"color=toilet_floor_2<br>0=%{x}<br>1=%{y}<extra></extra>\", \"legendgroup\": \"toilet_floor_2\", \"marker\": {\"color\": \"#FECB52\", \"symbol\": \"circle\"}, \"mode\": \"markers\", \"name\": \"toilet_floor_2\", \"orientation\": \"v\", \"showlegend\": true, \"type\": \"scatter\", \"x\": [5.308675877788743], \"xaxis\": \"x\", \"y\": [-10.131332930441024], \"yaxis\": \"y\"}, {\"hovertemplate\": \"color=toilet_flush_handle_1<br>0=%{x}<br>1=%{y}<extra></extra>\", \"legendgroup\": \"toilet_flush_handle_1\", \"marker\": {\"color\": \"#636efa\", \"symbol\": \"circle\"}, \"mode\": \"markers\", \"name\": \"toilet_flush_handle_1\", \"orientation\": \"v\", \"showlegend\": true, \"type\": \"scatter\", \"x\": [35.27345362993076], \"xaxis\": \"x\", \"y\": [17.173549831427547], \"yaxis\": \"y\"}, {\"hovertemplate\": \"color=toilet_flush_handle_2<br>0=%{x}<br>1=%{y}<extra></extra>\", \"legendgroup\": \"toilet_flush_handle_2\", \"marker\": {\"color\": \"#EF553B\", \"symbol\": \"circle\"}, \"mode\": \"markers\", \"name\": \"toilet_flush_handle_2\", \"orientation\": \"v\", \"showlegend\": true, \"type\": \"scatter\", \"x\": [-5.128294242481123], \"xaxis\": \"x\", \"y\": [4.761228319314345], \"yaxis\": \"y\"}, {\"hovertemplate\": \"color=toilet_seat_1<br>0=%{x}<br>1=%{y}<extra></extra>\", \"legendgroup\": \"toilet_seat_1\", \"marker\": {\"color\": \"#00cc96\", \"symbol\": \"circle\"}, \"mode\": \"markers\", \"name\": \"toilet_seat_1\", \"orientation\": \"v\", \"showlegend\": true, \"type\": \"scatter\", \"x\": [-6.595258028658577], \"xaxis\": \"x\", \"y\": [2.6573837797463495], \"yaxis\": \"y\"}, {\"hovertemplate\": \"color=toilet_seat_2<br>0=%{x}<br>1=%{y}<extra></extra>\", \"legendgroup\": \"toilet_seat_2\", \"marker\": {\"color\": \"#ab63fa\", \"symbol\": \"circle\"}, \"mode\": \"markers\", \"name\": \"toilet_seat_2\", \"orientation\": \"v\", \"showlegend\": true, \"type\": \"scatter\", \"x\": [-6.634017280786217], \"xaxis\": \"x\", \"y\": [2.5423961571195686], \"yaxis\": \"y\"}],                        {\"legend\": {\"title\": {\"text\": \"color\"}, \"tracegroupgap\": 0}, \"margin\": {\"t\": 60}, \"template\": {\"data\": {\"bar\": [{\"error_x\": {\"color\": \"#2a3f5f\"}, \"error_y\": {\"color\": \"#2a3f5f\"}, \"marker\": {\"line\": {\"color\": \"#E5ECF6\", \"width\": 0.5}}, \"type\": \"bar\"}], \"barpolar\": [{\"marker\": {\"line\": {\"color\": \"#E5ECF6\", \"width\": 0.5}}, \"type\": \"barpolar\"}], \"carpet\": [{\"aaxis\": {\"endlinecolor\": \"#2a3f5f\", \"gridcolor\": \"white\", \"linecolor\": \"white\", \"minorgridcolor\": \"white\", \"startlinecolor\": \"#2a3f5f\"}, \"baxis\": {\"endlinecolor\": \"#2a3f5f\", \"gridcolor\": \"white\", \"linecolor\": \"white\", \"minorgridcolor\": \"white\", \"startlinecolor\": \"#2a3f5f\"}, \"type\": \"carpet\"}], \"choropleth\": [{\"colorbar\": {\"outlinewidth\": 0, \"ticks\": \"\"}, \"type\": \"choropleth\"}], \"contour\": [{\"colorbar\": {\"outlinewidth\": 0, \"ticks\": \"\"}, \"colorscale\": [[0.0, \"#0d0887\"], [0.1111111111111111, \"#46039f\"], [0.2222222222222222, \"#7201a8\"], [0.3333333333333333, \"#9c179e\"], [0.4444444444444444, \"#bd3786\"], [0.5555555555555556, \"#d8576b\"], [0.6666666666666666, \"#ed7953\"], [0.7777777777777778, \"#fb9f3a\"], [0.8888888888888888, \"#fdca26\"], [1.0, \"#f0f921\"]], \"type\": \"contour\"}], \"contourcarpet\": [{\"colorbar\": {\"outlinewidth\": 0, \"ticks\": \"\"}, \"type\": \"contourcarpet\"}], \"heatmap\": [{\"colorbar\": {\"outlinewidth\": 0, \"ticks\": \"\"}, \"colorscale\": [[0.0, \"#0d0887\"], [0.1111111111111111, \"#46039f\"], [0.2222222222222222, \"#7201a8\"], [0.3333333333333333, \"#9c179e\"], [0.4444444444444444, \"#bd3786\"], [0.5555555555555556, \"#d8576b\"], [0.6666666666666666, \"#ed7953\"], [0.7777777777777778, \"#fb9f3a\"], [0.8888888888888888, \"#fdca26\"], [1.0, \"#f0f921\"]], \"type\": \"heatmap\"}], \"heatmapgl\": [{\"colorbar\": {\"outlinewidth\": 0, \"ticks\": \"\"}, \"colorscale\": [[0.0, \"#0d0887\"], [0.1111111111111111, \"#46039f\"], [0.2222222222222222, \"#7201a8\"], [0.3333333333333333, \"#9c179e\"], [0.4444444444444444, \"#bd3786\"], [0.5555555555555556, \"#d8576b\"], [0.6666666666666666, \"#ed7953\"], [0.7777777777777778, \"#fb9f3a\"], [0.8888888888888888, \"#fdca26\"], [1.0, \"#f0f921\"]], \"type\": \"heatmapgl\"}], \"histogram\": [{\"marker\": {\"colorbar\": {\"outlinewidth\": 0, \"ticks\": \"\"}}, \"type\": \"histogram\"}], \"histogram2d\": [{\"colorbar\": {\"outlinewidth\": 0, \"ticks\": \"\"}, \"colorscale\": [[0.0, \"#0d0887\"], [0.1111111111111111, \"#46039f\"], [0.2222222222222222, \"#7201a8\"], [0.3333333333333333, \"#9c179e\"], [0.4444444444444444, \"#bd3786\"], [0.5555555555555556, \"#d8576b\"], [0.6666666666666666, \"#ed7953\"], [0.7777777777777778, \"#fb9f3a\"], [0.8888888888888888, \"#fdca26\"], [1.0, \"#f0f921\"]], \"type\": \"histogram2d\"}], \"histogram2dcontour\": [{\"colorbar\": {\"outlinewidth\": 0, \"ticks\": \"\"}, \"colorscale\": [[0.0, \"#0d0887\"], [0.1111111111111111, \"#46039f\"], [0.2222222222222222, \"#7201a8\"], [0.3333333333333333, \"#9c179e\"], [0.4444444444444444, \"#bd3786\"], [0.5555555555555556, \"#d8576b\"], [0.6666666666666666, \"#ed7953\"], [0.7777777777777778, \"#fb9f3a\"], [0.8888888888888888, \"#fdca26\"], [1.0, \"#f0f921\"]], \"type\": \"histogram2dcontour\"}], \"mesh3d\": [{\"colorbar\": {\"outlinewidth\": 0, \"ticks\": \"\"}, \"type\": \"mesh3d\"}], \"parcoords\": [{\"line\": {\"colorbar\": {\"outlinewidth\": 0, \"ticks\": \"\"}}, \"type\": \"parcoords\"}], \"pie\": [{\"automargin\": true, \"type\": \"pie\"}], \"scatter\": [{\"marker\": {\"colorbar\": {\"outlinewidth\": 0, \"ticks\": \"\"}}, \"type\": \"scatter\"}], \"scatter3d\": [{\"line\": {\"colorbar\": {\"outlinewidth\": 0, \"ticks\": \"\"}}, \"marker\": {\"colorbar\": {\"outlinewidth\": 0, \"ticks\": \"\"}}, \"type\": \"scatter3d\"}], \"scattercarpet\": [{\"marker\": {\"colorbar\": {\"outlinewidth\": 0, \"ticks\": \"\"}}, \"type\": \"scattercarpet\"}], \"scattergeo\": [{\"marker\": {\"colorbar\": {\"outlinewidth\": 0, \"ticks\": \"\"}}, \"type\": \"scattergeo\"}], \"scattergl\": [{\"marker\": {\"colorbar\": {\"outlinewidth\": 0, \"ticks\": \"\"}}, \"type\": \"scattergl\"}], \"scattermapbox\": [{\"marker\": {\"colorbar\": {\"outlinewidth\": 0, \"ticks\": \"\"}}, \"type\": \"scattermapbox\"}], \"scatterpolar\": [{\"marker\": {\"colorbar\": {\"outlinewidth\": 0, \"ticks\": \"\"}}, \"type\": \"scatterpolar\"}], \"scatterpolargl\": [{\"marker\": {\"colorbar\": {\"outlinewidth\": 0, \"ticks\": \"\"}}, \"type\": \"scatterpolargl\"}], \"scatterternary\": [{\"marker\": {\"colorbar\": {\"outlinewidth\": 0, \"ticks\": \"\"}}, \"type\": \"scatterternary\"}], \"surface\": [{\"colorbar\": {\"outlinewidth\": 0, \"ticks\": \"\"}, \"colorscale\": [[0.0, \"#0d0887\"], [0.1111111111111111, \"#46039f\"], [0.2222222222222222, \"#7201a8\"], [0.3333333333333333, \"#9c179e\"], [0.4444444444444444, \"#bd3786\"], [0.5555555555555556, \"#d8576b\"], [0.6666666666666666, \"#ed7953\"], [0.7777777777777778, \"#fb9f3a\"], [0.8888888888888888, \"#fdca26\"], [1.0, \"#f0f921\"]], \"type\": \"surface\"}], \"table\": [{\"cells\": {\"fill\": {\"color\": \"#EBF0F8\"}, \"line\": {\"color\": \"white\"}}, \"header\": {\"fill\": {\"color\": \"#C8D4E3\"}, \"line\": {\"color\": \"white\"}}, \"type\": \"table\"}]}, \"layout\": {\"annotationdefaults\": {\"arrowcolor\": \"#2a3f5f\", \"arrowhead\": 0, \"arrowwidth\": 1}, \"coloraxis\": {\"colorbar\": {\"outlinewidth\": 0, \"ticks\": \"\"}}, \"colorscale\": {\"diverging\": [[0, \"#8e0152\"], [0.1, \"#c51b7d\"], [0.2, \"#de77ae\"], [0.3, \"#f1b6da\"], [0.4, \"#fde0ef\"], [0.5, \"#f7f7f7\"], [0.6, \"#e6f5d0\"], [0.7, \"#b8e186\"], [0.8, \"#7fbc41\"], [0.9, \"#4d9221\"], [1, \"#276419\"]], \"sequential\": [[0.0, \"#0d0887\"], [0.1111111111111111, \"#46039f\"], [0.2222222222222222, \"#7201a8\"], [0.3333333333333333, \"#9c179e\"], [0.4444444444444444, \"#bd3786\"], [0.5555555555555556, \"#d8576b\"], [0.6666666666666666, \"#ed7953\"], [0.7777777777777778, \"#fb9f3a\"], [0.8888888888888888, \"#fdca26\"], [1.0, \"#f0f921\"]], \"sequentialminus\": [[0.0, \"#0d0887\"], [0.1111111111111111, \"#46039f\"], [0.2222222222222222, \"#7201a8\"], [0.3333333333333333, \"#9c179e\"], [0.4444444444444444, \"#bd3786\"], [0.5555555555555556, \"#d8576b\"], [0.6666666666666666, \"#ed7953\"], [0.7777777777777778, \"#fb9f3a\"], [0.8888888888888888, \"#fdca26\"], [1.0, \"#f0f921\"]]}, \"colorway\": [\"#636efa\", \"#EF553B\", \"#00cc96\", \"#ab63fa\", \"#FFA15A\", \"#19d3f3\", \"#FF6692\", \"#B6E880\", \"#FF97FF\", \"#FECB52\"], \"font\": {\"color\": \"#2a3f5f\"}, \"geo\": {\"bgcolor\": \"white\", \"lakecolor\": \"white\", \"landcolor\": \"#E5ECF6\", \"showlakes\": true, \"showland\": true, \"subunitcolor\": \"white\"}, \"hoverlabel\": {\"align\": \"left\"}, \"hovermode\": \"closest\", \"mapbox\": {\"style\": \"light\"}, \"paper_bgcolor\": \"white\", \"plot_bgcolor\": \"#E5ECF6\", \"polar\": {\"angularaxis\": {\"gridcolor\": \"white\", \"linecolor\": \"white\", \"ticks\": \"\"}, \"bgcolor\": \"#E5ECF6\", \"radialaxis\": {\"gridcolor\": \"white\", \"linecolor\": \"white\", \"ticks\": \"\"}}, \"scene\": {\"xaxis\": {\"backgroundcolor\": \"#E5ECF6\", \"gridcolor\": \"white\", \"gridwidth\": 2, \"linecolor\": \"white\", \"showbackground\": true, \"ticks\": \"\", \"zerolinecolor\": \"white\"}, \"yaxis\": {\"backgroundcolor\": \"#E5ECF6\", \"gridcolor\": \"white\", \"gridwidth\": 2, \"linecolor\": \"white\", \"showbackground\": true, \"ticks\": \"\", \"zerolinecolor\": \"white\"}, \"zaxis\": {\"backgroundcolor\": \"#E5ECF6\", \"gridcolor\": \"white\", \"gridwidth\": 2, \"linecolor\": \"white\", \"showbackground\": true, \"ticks\": \"\", \"zerolinecolor\": \"white\"}}, \"shapedefaults\": {\"line\": {\"color\": \"#2a3f5f\"}}, \"ternary\": {\"aaxis\": {\"gridcolor\": \"white\", \"linecolor\": \"white\", \"ticks\": \"\"}, \"baxis\": {\"gridcolor\": \"white\", \"linecolor\": \"white\", \"ticks\": \"\"}, \"bgcolor\": \"#E5ECF6\", \"caxis\": {\"gridcolor\": \"white\", \"linecolor\": \"white\", \"ticks\": \"\"}}, \"title\": {\"x\": 0.05}, \"xaxis\": {\"automargin\": true, \"gridcolor\": \"white\", \"linecolor\": \"white\", \"ticks\": \"\", \"title\": {\"standoff\": 15}, \"zerolinecolor\": \"white\", \"zerolinewidth\": 2}, \"yaxis\": {\"automargin\": true, \"gridcolor\": \"white\", \"linecolor\": \"white\", \"ticks\": \"\", \"title\": {\"standoff\": 15}, \"zerolinecolor\": \"white\", \"zerolinewidth\": 2}}}, \"xaxis\": {\"anchor\": \"y\", \"domain\": [0.0, 1.0], \"title\": {\"text\": \"0\"}}, \"yaxis\": {\"anchor\": \"x\", \"domain\": [0.0, 1.0], \"title\": {\"text\": \"1\"}}},                        {\"responsive\": true}                    ).then(function(){\n",
       "                            \n",
       "var gd = document.getElementById('939dab9a-4458-4b76-93d3-2bde3660ad37');\n",
       "var x = new MutationObserver(function (mutations, observer) {{\n",
       "        var display = window.getComputedStyle(gd).display;\n",
       "        if (!display || display === 'none') {{\n",
       "            console.log([gd, 'removed!']);\n",
       "            Plotly.purge(gd);\n",
       "            observer.disconnect();\n",
       "        }}\n",
       "}});\n",
       "\n",
       "// Listen for the removal of the full notebook cells\n",
       "var notebookContainer = gd.closest('#notebook-container');\n",
       "if (notebookContainer) {{\n",
       "    x.observe(notebookContainer, {childList: true});\n",
       "}}\n",
       "\n",
       "// Listen for the clearing of the current output cell\n",
       "var outputEl = gd.closest('.output');\n",
       "if (outputEl) {{\n",
       "    x.observe(outputEl, {childList: true});\n",
       "}}\n",
       "\n",
       "                        })                };                });            </script>        </div>"
      ]
     },
     "metadata": {},
     "output_type": "display_data"
    }
   ],
   "source": [
    "#PCA bad version\n",
    "import matplotlib.pyplot as plt\n",
    "#from sklearn.discriminant_analysis import LinearDiscriminantAnalysis\n",
    "import pylab as pl\n",
    "from sklearn.decomposition import PCA\n",
    "from sklearn import preprocessing\n",
    "\n",
    "vecteurs = getNiv(\"Genre\",dicoTaxoTest)\n",
    "mat = matrice(vecteurs)\n",
    "localisation = [\"door_in_1\",\"door_in_2\", \"faucet_handle_1\", \n",
    "                \"faucet_handle_2\", \"sink_floor_1\", \"sink_floor_2\",\n",
    "               \"soap_dispenser_1\", \"stall_in_1\", \"toilet_floor_1\", \n",
    "               \"toilet_floor_2\", \"toilet_flush_handle_1\",\n",
    "               \"toilet_flush_handle_2\", \"toilet_seat_1\", \"toilet_seat_2\"]\n",
    "df = pandas.DataFrame(mat, columns=range(mat.shape[1]))\n",
    "\n",
    "# normalization\n",
    "from sklearn import preprocessing\n",
    "import plotly.express as px\n",
    "\n",
    "data_scaled = pandas.DataFrame(preprocessing.scale(df),columns = df.columns) \n",
    "\n",
    "# PCA, see: http://www.python-simple.com/python-scikit-learn/scikit-pca.php\n",
    "pca = PCA(n_components=3)\n",
    "components = pca.fit_transform(data_scaled)\n",
    "\n",
    "# components relations with features:\n",
    "#pd.DataFrame(pca.components_,columns=data_scaled.columns,index = ['PC-1','PC-2'])\n",
    "\n",
    "#plt.scatter(pcadf[:,0],pcadf[:,1])\n",
    "fig = px.scatter(components, x=0,y=1,color=localisation)   \n",
    "fig.show()\n",
    "LEEEEEROOOOO"
   ]
  },
  {
   "cell_type": "code",
   "execution_count": null,
   "metadata": {},
   "outputs": [],
   "source": [
    "## recuperation phylum by Marie:\n",
    "#Recupère les donnéer et format en Df\n",
    "dicoTaxoTest = getDicoTaxo(df)\n",
    "dfEntier= getDF(dicoTaxoTest)\n",
    "\n",
    "#Création DF avec seulement les comptage pour le phylum (dfComptage)\n",
    "dfComptage = getDFFonctionTaxo(dfEntier, \"phylum\")\n",
    "listeColonneSuprimer = [\"Nvx_taxo\",\"Taxo\"]\n",
    "getDFLoc(dfComptage,listeColonneSuprimer )\n",
    "\n",
    "#Creéation DF avec seulement les noms des phylum (dfTaxo)\n",
    "dfTaxo = getDFFonctionTaxo(dfEntier, \"phylum\")\n",
    "listeColonneSuprimerPourTaxo = [\"Nvx_taxo\",\"door_in_1\",\"door_in_2\", \"faucet_handle_1\", \"faucet_handle_2\", \"sink_floor_1\", \"sink_floor_2\",\n",
    "               \"soap_dispenser_1\", \"stall_in_1\", \"toilet_floor_1\", \"toilet_floor_2\", \"toilet_flush_handle_1\",\"toilet_flush_handle_2\", \"toilet_seat_1\", \"toilet_seat_2\"]\n",
    "getDFLoc(dfTaxo,listeColonneSuprimerPourTaxo )\n",
    "\n",
    "dfComptage\n",
    "dfTaxo"
   ]
  },
  {
   "cell_type": "code",
   "execution_count": null,
   "metadata": {},
   "outputs": [],
   "source": [
    "### EXEMPLES ACP !!!!!!!!!!!!!!!!!!!!!!!!!!"
   ]
  },
  {
   "cell_type": "code",
   "execution_count": null,
   "metadata": {},
   "outputs": [],
   "source": [
    "#####\n",
    "import numpy as np\n",
    "import matplotlib.pyplot as plt\n",
    "from sklearn import datasets\n",
    "import pandas as pd\n",
    "from sklearn.preprocessing import StandardScaler\n",
    "from sklearn.decomposition import PCA\n",
    "\n",
    "iris = datasets.load_iris()\n",
    "X = iris.data\n",
    "y = iris.target\n",
    "\n",
    "#In general it is a good idea to scale the data\n",
    "scaler = StandardScaler()\n",
    "scaler.fit(X)\n",
    "X=scaler.transform(X)\n",
    "\n",
    "pca = PCA()\n",
    "pca.fit(X,y)\n",
    "x_new = pca.transform(X)   \n",
    "\n",
    "def myplot(score,coeff,labels=None):\n",
    "    xs = score[:,0]\n",
    "    ys = score[:,1]\n",
    "    n = coeff.shape[0]\n",
    "\n",
    "    plt.scatter(xs ,ys, c = y) #without scaling\n",
    "    for i in range(n):\n",
    "        plt.arrow(0, 0, coeff[i,0], coeff[i,1],color = 'r',alpha = 0.5)\n",
    "        if labels is None:\n",
    "            plt.text(coeff[i,0]* 1.15, coeff[i,1] * 1.15, \"Var\"+str(i+1), color = 'g', ha = 'center', va = 'center')\n",
    "        else:\n",
    "            plt.text(coeff[i,0]* 1.15, coeff[i,1] * 1.15, labels[i], color = 'g', ha = 'center', va = 'center')\n",
    "\n",
    "plt.xlabel(\"PC{}\".format(1))\n",
    "plt.ylabel(\"PC{}\".format(2))\n",
    "plt.grid()\n",
    "\n",
    "#Call the function. \n",
    "myplot(x_new[:,0:2], pca.components_.T) \n",
    "plt.show()"
   ]
  },
  {
   "cell_type": "code",
   "execution_count": null,
   "metadata": {},
   "outputs": [],
   "source": [
    "import numpy as np \n",
    "import pandas as pd\n",
    "#import altair as alt\n",
    "from numpy import linalg as LA\n",
    "from sklearn import datasets\n",
    "from sklearn.decomposition import PCA\n",
    "\n",
    "# Téléchargement du jeux de données iris \n",
    "\n",
    "data, species = datasets.load_iris(return_X_y=True)\n",
    "\n",
    "data = pd.DataFrame(data)\n",
    "species = pd.DataFrame(species)\n",
    "\n",
    "# Calcul de la matrice de covariance \n",
    "cov_matrix = data.cov()\n",
    "\n",
    "# Calcul des vecteurs et valeurs propres de la matrice de covariance \n",
    "eigen_values, eigen_vectors = LA.eig(cov_matrix)\n",
    "\n",
    "# Calcul de l'information récupéré en pourcentage sur les 2 premiers axes\n",
    "info = (eigen_values / sum(eigen_values) * 100).round(2)\n",
    "axe1_info = info[0]\n",
    "axe2_info = info[1]\n",
    "\n",
    "# Projection des points sur les deux premiers vecteurs \n",
    "projection_matrix = eigen_vectors.T[:][:2].T\n",
    "data_t = data.dot(projection_matrix)\n",
    "\n",
    "# Affichage des nouvelles données à 2 dimensions\n",
    "data_t.columns = [\"axe1\", \"axe2\"]\n",
    "data_t[\"species\"] = species\n"
   ]
  }
 ],
 "metadata": {
  "kernelspec": {
   "display_name": "Python 3",
   "language": "python",
   "name": "python3"
  },
  "language_info": {
   "codemirror_mode": {
    "name": "ipython",
    "version": 3
   },
   "file_extension": ".py",
   "mimetype": "text/x-python",
   "name": "python",
   "nbconvert_exporter": "python",
   "pygments_lexer": "ipython3",
   "version": "3.8.5"
  }
 },
 "nbformat": 4,
 "nbformat_minor": 4
}
