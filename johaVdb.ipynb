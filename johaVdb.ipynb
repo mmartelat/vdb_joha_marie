{
 "cells": [
  {
   "cell_type": "code",
   "execution_count": 6,
   "metadata": {
    "scrolled": false
   },
   "outputs": [],
   "source": [
    "# this is joha's file, a Marie's  cousin file! ;)"
   ]
  },
  {
   "cell_type": "code",
   "execution_count": 25,
   "metadata": {},
   "outputs": [],
   "source": [
    "\n",
    "import pandas\n",
    "import os\n",
    "import numpy as np\n",
    "\n",
    "\n",
    "df = pandas.read_csv(\"1335.vdb.tab\", sep=\"\\t\", header =None) \n",
    "#Récupère la liste de nombre, correspondant aux comptage des différents espèces en fonction des lieu de prélevement\n",
    "#2=door_in_1 ; 3=door_in_2 ; 4=faucet_handle_1 ; 5=faucet_handle_2 ; 6=sink_floor_1 ; 7=sink_floor_2\n",
    "#8=soap_dispenser_1 ; 9=stall_in_1 ; 10=toilet_floor_1 ; 11=toilet_floor_1 ; 12=toilet_flush_handle_1\n",
    "#13=toilet_flush_handle_2 ; 14=toilet_seat_1 ; 15=toilet_seat_2\n",
    "def getcountsfromrow(row):\n",
    "    l_l = [ int(row[2]),\n",
    "            int(row[3]),\n",
    "            int(row[4]),\n",
    "            int(row[5]),\n",
    "            int(row[6]),\n",
    "            int(row[7]),\n",
    "            int(row[8]),\n",
    "            int(row[9]),\n",
    "            int(row[10]),\n",
    "            int(row[11]),\n",
    "            int(row[12]),\n",
    "            int(row[13]),\n",
    "            int(row[14]),\n",
    "            int(row[15]) ]\n",
    "    return l_l\n",
    "\n",
    "\"\"\"\n",
    "Code pour generer dictionnaire. \n",
    "\n",
    "Au prealable, avec cat 1335.vdb.tab | cut -f 2 | cut -d \";\" -f 1 | uniq\n",
    "OTUConTaxonomy\"Bacteria(100)  => on a confirmé que ce sont toutes Bacteria\n",
    "\"\"\"\n",
    "def getDicoTaxo(df):\n",
    "    dicotaxo = { \"name\" : \"Bacteria\", \"count\" : [0 for i in range(14)], \"children\" : []}\n",
    "    for index,row in df.iterrows():\n",
    "        leveltax = row[1].split(';')  # uniquement indexes >=1 m'interessent \n",
    "        if index > 0:\n",
    "            COUNTS = getcountsfromrow(row)\n",
    "            tmp5 = {}\n",
    "            tmp4 = {}\n",
    "            tmp3 = {}\n",
    "            tmp2 = {}\n",
    "            tmp1 = {}\n",
    "            tmp5[\"name\"] = leveltax[5]\n",
    "            tmp4[\"name\"] = leveltax[4]\n",
    "            tmp3[\"name\"] = leveltax[3]\n",
    "            tmp2[\"name\"] = leveltax[2]\n",
    "            tmp1[\"name\"] = leveltax[1]      \n",
    "            tmp5[\"count\"] =  getcountsfromrow(row)\n",
    "            tmp5[\"children\"] = []  # lowest level\n",
    "            tmp4[\"count\"] =  getcountsfromrow(row)\n",
    "            tmp4[\"children\"] = [tmp5]\n",
    "            tmp3[\"count\"] =  getcountsfromrow(row)\n",
    "            tmp3[\"children\"] = [tmp4]\n",
    "            tmp2[\"count\"] =  getcountsfromrow(row)\n",
    "            tmp2[\"children\"] = [tmp3]\n",
    "            tmp1[\"count\"] = getcountsfromrow(row)\n",
    "            tmp1[\"children\"] = [tmp2]\n",
    "            tmpcounts = dicotaxo[\"count\"]\n",
    "            dicotaxo[\"count\"] = np.add(tmpcounts, COUNTS)\n",
    "            if leveltax[1] not in [m[\"name\"] for m in dicotaxo[\"children\"]] :\n",
    "                dicotaxo[\"children\"].append(tmp1)\n",
    "            else:\n",
    "                for m in dicotaxo[\"children\"]:\n",
    "                    if m[\"name\"] == leveltax[1]:\n",
    "                        tmpc = m[\"count\"]\n",
    "                        m[\"count\"] = np.add(tmpc, COUNTS)\n",
    "                        if leveltax[2] not in [n[\"name\"] for n in m[\"children\"]] :\n",
    "                            m[\"children\"].append(tmp2)\n",
    "                        else:\n",
    "                            for n in m[\"children\"]:\n",
    "                                if n[\"name\"] == leveltax[2]:\n",
    "                                    tmpc = n[\"count\"]\n",
    "                                    n[\"count\"] = np.add(tmpc, COUNTS)\n",
    "                                    if leveltax[3] not in [o[\"name\"] for o in n[\"children\"]]:\n",
    "                                        n[\"children\"].append(tmp3)\n",
    "                                    else: \n",
    "                                        for o in n[\"children\"]:\n",
    "                                            if o[\"name\"] == leveltax[3]:\n",
    "                                                tmpc = o[\"count\"]\n",
    "                                                o[\"count\"] = np.add(tmpc,COUNTS)\n",
    "                                                if leveltax[4] not in [p[\"name\"] for p in o[\"children\"]]:\n",
    "                                                    o[\"children\"].append(tmp4)\n",
    "                                                else:\n",
    "                                                    for p in o[\"children\"]:\n",
    "                                                        if p[\"name\"] == leveltax[4]:\n",
    "                                                            tmpc = p[\"count\"]\n",
    "                                                            p[\"count\"] = np.add(tmpc, COUNTS)\n",
    "                                                            if leveltax[5] not in [q[\"name\"] for q in p[\"children\"]]:\n",
    "                                                                p[\"children\"].append(tmp5)\n",
    "                                                            else:\n",
    "                                                                for q in p[\"children\"]:\n",
    "                                                                    if q[\"name\"] == leveltax[5]:\n",
    "                                                                        tmpc = q[\"count\"]\n",
    "                                                                        q[\"count\"] = np.add(tmpc, COUNTS)\n",
    "                                                                        q[\"children\"] = []\n",
    "                                                                        # this is the lowest level                                        \n",
    "    return dicotaxo\n",
    "\n",
    "dicoTaxoTest = getDicoTaxo(df)"
   ]
  },
  {
   "cell_type": "code",
   "execution_count": 26,
   "metadata": {},
   "outputs": [],
   "source": [
    "\"\"\"\n",
    "Veut pouvoir récuperer donnée intéressantes dans dictionnaire.\n",
    "\"\"\"\n",
    "\n",
    "def convertNiv(niveau):\n",
    "    if niveau.upper() == \"REGNE\":\n",
    "        return 1\n",
    "    if niveau.upper() == \"PHYLUM\":\n",
    "        return 2\n",
    "    if niveau.upper() == \"CLASSE\":\n",
    "        return 3\n",
    "    if niveau.upper() == \"ORDRE\":\n",
    "        return 4\n",
    "    if niveau.upper() == \"FAMILLE\":\n",
    "        return 5\n",
    "    if niveau.upper() == \"GENRE\":\n",
    "        return 6\n",
    "    \n",
    "def dicoListeNiveau(nomList, dico):\n",
    "    dico[nomList] = []\n",
    "    \n",
    "#Méthode 1 : En fonction du niveaux de taxo récupéré donnne pour l'espèce le comptage en fonction du lieu\n",
    "#Input : niveau taxo Regne;Phylum;Classe;Ordre;Famille;Genre\n",
    "#Output : liste de vecteurs 1er : vecteur des espèces, \n",
    "#puis 1 vecteurs par localisation (1 vecteur donne le comptage pour l'espèce dans la localisation donnée)\n",
    "def getNiv(niveau,dicoTaxo):\n",
    "    niv = convertNiv(niveau)\n",
    "    vecteurs = []\n",
    "    dicoListeNivx = {}\n",
    "    #Regne \n",
    "    listeRegne = []\n",
    "    #Regne compte\n",
    "    listelRegne = []\n",
    "    #Autre niveau\n",
    "    listePhylum =[]\n",
    "    listeClasse =[]\n",
    "    listeOrdre =[]\n",
    "    listeFamille =[]\n",
    "    listeGenre =[]\n",
    "    #autre niveau compte\n",
    "    for i in range(1,15):\n",
    "        nomList = f\"listel{i}\" + niveau.lower()\n",
    "        dicoListeNiveau(nomList,dicoListeNivx )\n",
    "\n",
    "    for k1, v1 in dicoTaxo.items():\n",
    "        #Récupère que pour le règne\n",
    "        if k1 == \"name\" and niv == 1:\n",
    "            listeRegne.append(v1)\n",
    "            vecteurs.append(listeRegne)\n",
    "        elif k1 == \"count\" and niv == 1:\n",
    "            listelRegne.append(v1)\n",
    "            vecteurs.append(listelRegne)\n",
    "        elif k1 == \"children\" and niv > 1: \n",
    "            for phylum in dicoTaxo['children']:\n",
    "                for k2, v2 in phylum.items():\n",
    "                    #Récupère que pour le phylum\n",
    "                    if k2 == \"name\" and niv == 2:\n",
    "                        listePhylum.append(v2)\n",
    "                    elif k2 == \"count\" and niv == 2:\n",
    "                        for i in range(0,14):\n",
    "                            numList = i+1\n",
    "                            nomList = f\"listel{numList}\" + niveau.lower()\n",
    "                            dicoListeNivx[nomList].append(v2[i])\n",
    "\n",
    "                    #Descend dans les niveau plus précis\n",
    "                    elif k2 == \"children\" and niv > 2:\n",
    "                        for classe in v2:\n",
    "                            for k3, v3 in classe.items():\n",
    "                                #Récupère que pour la classe\n",
    "                                if k3 == \"name\" and niv == 3:\n",
    "                                    listeClasse.append(v3)\n",
    "                                elif k3 == \"count\" and niv == 3:\n",
    "                                     for i in range(0,14):\n",
    "                                        numList = i+1\n",
    "                                        nomList = f\"listel{numList}\" + niveau.lower()\n",
    "                                        dicoListeNivx[nomList].append(v3[i])\n",
    "                                #Descend dans les niveau plus précis\n",
    "                                elif k3 == \"children\" and niv > 3:\n",
    "                                    for ordre in v3:\n",
    "                                        for k4, v4 in ordre.items():\n",
    "                                            #Récupère que pour l'ordre\n",
    "                                            if k4 == \"name\" and niv == 4:\n",
    "                                                listeOrdre.append(v4)\n",
    "                                            elif k4 == \"count\" and niv == 4:\n",
    "                                                for i in range(0,14):\n",
    "                                                    numList = i+1\n",
    "                                                    nomList = f\"listel{numList}\" + niveau.lower()\n",
    "                                                    dicoListeNivx[nomList].append(v4[i])\n",
    "                                            #Descend dans les niveau plus précis\n",
    "                                            elif k4 == \"children\" and niv > 4:\n",
    "                                                for famille in v4:\n",
    "                                                    for k5, v5 in famille.items():\n",
    "                                                        #Récupère que pour la famille\n",
    "                                                        if k5 == \"name\" and niv == 5:\n",
    "                                                            listeFamille.append(v5)\n",
    "                                                        elif k5 == \"count\" and niv == 5:\n",
    "                                                            for i in range(0,14):\n",
    "                                                                numList = i+1\n",
    "                                                                nomList = f\"listel{numList}\" + niveau.lower()\n",
    "                                                                dicoListeNivx[nomList].append(v5[i])\n",
    "                                                        #Descend dans les niveau plus précis\n",
    "                                                        elif k5 == \"children\" and niv > 5:\n",
    "                                                            for genre in v5:\n",
    "                                                                for k6, v6 in genre.items():\n",
    "                                                                    #Récupère que pour la famille\n",
    "                                                                    if k6 == \"name\" and niv == 6:\n",
    "                                                                        listeGenre.append(v6)\n",
    "                                                                    elif k6 == \"count\" and niv == 6:\n",
    "                                                                        for i in range(0,14):\n",
    "                                                                            numList = i+1\n",
    "                                                                            nomList = f\"listel{numList}\" + niveau.lower()\n",
    "                                                                            dicoListeNivx[nomList].append(v6[i])\n",
    "                                                                    \n",
    "\n",
    "    \n",
    "    if niv == 2:\n",
    "        vecteurs.append(listePhylum);vecteurs.append(dicoListeNivx['listel1phylum']);vecteurs.append(dicoListeNivx['listel2phylum']);vecteurs.append(dicoListeNivx['listel3phylum'])\n",
    "        vecteurs.append(dicoListeNivx['listel4phylum']);vecteurs.append(dicoListeNivx['listel5phylum']);vecteurs.append(dicoListeNivx['listel6phylum']);vecteurs.append(dicoListeNivx['listel7phylum'])\n",
    "        vecteurs.append(dicoListeNivx['listel8phylum']);vecteurs.append(dicoListeNivx['listel9phylum']);vecteurs.append(dicoListeNivx['listel10phylum']);vecteurs.append(dicoListeNivx['listel11phylum'])\n",
    "        vecteurs.append(dicoListeNivx['listel12phylum']);vecteurs.append(dicoListeNivx['listel13phylum']);vecteurs.append(dicoListeNivx['listel14phylum']);\n",
    "    if niv == 3:\n",
    "        vecteurs.append(listeClasse);vecteurs.append(dicoListeNivx['listel1classe']);vecteurs.append(dicoListeNivx['listel2classe']);vecteurs.append(dicoListeNivx['listel3classe'])\n",
    "        vecteurs.append(dicoListeNivx['listel4classe']);vecteurs.append(dicoListeNivx['listel5classe']);vecteurs.append(dicoListeNivx['listel6classe']);vecteurs.append(dicoListeNivx['listel7classe'])\n",
    "        vecteurs.append(dicoListeNivx['listel8classe']);vecteurs.append(dicoListeNivx['listel9classe']);vecteurs.append(dicoListeNivx['listel10classe']);vecteurs.append(dicoListeNivx['listel11classe'])\n",
    "        vecteurs.append(dicoListeNivx['listel12classe']);vecteurs.append(dicoListeNivx['listel13classe']);vecteurs.append(dicoListeNivx['listel14classe']);\n",
    "    if niv == 4:\n",
    "        vecteurs.append(listeOrdre);vecteurs.append(dicoListeNivx['listel1ordre']);vecteurs.append(dicoListeNivx['listel2ordre']);vecteurs.append(dicoListeNivx['listel3ordre'])\n",
    "        vecteurs.append(dicoListeNivx['listel4ordre']);vecteurs.append(dicoListeNivx['listel5ordre']);vecteurs.append(dicoListeNivx['listel6ordre']);vecteurs.append(dicoListeNivx['listel7ordre'])\n",
    "        vecteurs.append(dicoListeNivx['listel8ordre']);vecteurs.append(dicoListeNivx['listel9ordre']);vecteurs.append(dicoListeNivx['listel10ordre']);vecteurs.append(dicoListeNivx['listel11ordre'])\n",
    "        vecteurs.append(dicoListeNivx['listel12ordre']);vecteurs.append(dicoListeNivx['listel13ordre']);vecteurs.append(dicoListeNivx['listel14ordre']);\n",
    "    if niv == 5:\n",
    "        vecteurs.append(listeFamille);vecteurs.append(dicoListeNivx['listel1famille']);vecteurs.append(dicoListeNivx['listel2famille']);vecteurs.append(dicoListeNivx['listel3famille'])\n",
    "        vecteurs.append(dicoListeNivx['listel4famille']);vecteurs.append(dicoListeNivx['listel5famille']);vecteurs.append(dicoListeNivx['listel6famille']);vecteurs.append(dicoListeNivx['listel7famille'])\n",
    "        vecteurs.append(dicoListeNivx['listel8famille']);vecteurs.append(dicoListeNivx['listel9famille']);vecteurs.append(dicoListeNivx['listel10famille']);vecteurs.append(dicoListeNivx['listel11famille'])\n",
    "        vecteurs.append(dicoListeNivx['listel12famille']);vecteurs.append(dicoListeNivx['listel13famille']);vecteurs.append(dicoListeNivx['listel14famille']);\n",
    "    if niv == 6:\n",
    "        vecteurs.append(listeGenre);vecteurs.append(dicoListeNivx['listel1genre']);vecteurs.append(dicoListeNivx['listel2genre']);vecteurs.append(dicoListeNivx['listel2genre'])\n",
    "        vecteurs.append(dicoListeNivx['listel4genre']);vecteurs.append(dicoListeNivx['listel5genre']);vecteurs.append(dicoListeNivx['listel6genre']);vecteurs.append(dicoListeNivx['listel7genre'])\n",
    "        vecteurs.append(dicoListeNivx['listel8genre']);vecteurs.append(dicoListeNivx['listel9genre']);vecteurs.append(dicoListeNivx['listel10genre']);vecteurs.append(dicoListeNivx['listel11genre'])\n",
    "        vecteurs.append(dicoListeNivx['listel12genre']);vecteurs.append(dicoListeNivx['listel13genre']);vecteurs.append(dicoListeNivx['listel14genre']);\n",
    "    \n",
    "    return vecteurs"
   ]
  },
  {
   "cell_type": "code",
   "execution_count": 27,
   "metadata": {},
   "outputs": [
    {
     "data": {
      "text/html": [
       "<div>\n",
       "<style scoped>\n",
       "    .dataframe tbody tr th:only-of-type {\n",
       "        vertical-align: middle;\n",
       "    }\n",
       "\n",
       "    .dataframe tbody tr th {\n",
       "        vertical-align: top;\n",
       "    }\n",
       "\n",
       "    .dataframe thead th {\n",
       "        text-align: right;\n",
       "    }\n",
       "</style>\n",
       "<table border=\"1\" class=\"dataframe\">\n",
       "  <thead>\n",
       "    <tr style=\"text-align: right;\">\n",
       "      <th></th>\n",
       "      <th>Nvx_taxo</th>\n",
       "      <th>Taxo</th>\n",
       "      <th>door_in_1</th>\n",
       "      <th>door_in_2</th>\n",
       "      <th>faucet_handle_1</th>\n",
       "      <th>faucet_handle_2</th>\n",
       "      <th>sink_floor_1</th>\n",
       "      <th>sink_floor_2</th>\n",
       "      <th>soap_dispenser_1</th>\n",
       "      <th>stall_in_1</th>\n",
       "      <th>toilet_floor_1</th>\n",
       "      <th>toilet_floor_2</th>\n",
       "      <th>toilet_flush_handle_1</th>\n",
       "      <th>toilet_flush_handle_2</th>\n",
       "      <th>toilet_seat_1</th>\n",
       "      <th>toilet_seat_2</th>\n",
       "    </tr>\n",
       "  </thead>\n",
       "  <tbody>\n",
       "    <tr>\n",
       "      <th>0</th>\n",
       "      <td>regne</td>\n",
       "      <td>Bacteria</td>\n",
       "      <td>3119</td>\n",
       "      <td>3119</td>\n",
       "      <td>3119</td>\n",
       "      <td>3119</td>\n",
       "      <td>3119</td>\n",
       "      <td>3119</td>\n",
       "      <td>3119</td>\n",
       "      <td>3119</td>\n",
       "      <td>3119</td>\n",
       "      <td>3119</td>\n",
       "      <td>3119</td>\n",
       "      <td>3119</td>\n",
       "      <td>3119</td>\n",
       "      <td>3119</td>\n",
       "    </tr>\n",
       "    <tr>\n",
       "      <th>1</th>\n",
       "      <td>phylum</td>\n",
       "      <td>Actinobacteria(100)</td>\n",
       "      <td>1669</td>\n",
       "      <td>1483</td>\n",
       "      <td>434</td>\n",
       "      <td>2224</td>\n",
       "      <td>1382</td>\n",
       "      <td>978</td>\n",
       "      <td>1665</td>\n",
       "      <td>1057</td>\n",
       "      <td>1133</td>\n",
       "      <td>1013</td>\n",
       "      <td>1006</td>\n",
       "      <td>1400</td>\n",
       "      <td>685</td>\n",
       "      <td>1968</td>\n",
       "    </tr>\n",
       "    <tr>\n",
       "      <th>2</th>\n",
       "      <td>classe</td>\n",
       "      <td>Actinobacteria(100)</td>\n",
       "      <td>1669</td>\n",
       "      <td>1483</td>\n",
       "      <td>434</td>\n",
       "      <td>2224</td>\n",
       "      <td>1379</td>\n",
       "      <td>974</td>\n",
       "      <td>1665</td>\n",
       "      <td>1053</td>\n",
       "      <td>1132</td>\n",
       "      <td>1009</td>\n",
       "      <td>996</td>\n",
       "      <td>1400</td>\n",
       "      <td>685</td>\n",
       "      <td>1968</td>\n",
       "    </tr>\n",
       "    <tr>\n",
       "      <th>3</th>\n",
       "      <td>ordre</td>\n",
       "      <td>Actinomycetales(100)</td>\n",
       "      <td>1658</td>\n",
       "      <td>1482</td>\n",
       "      <td>431</td>\n",
       "      <td>2220</td>\n",
       "      <td>1358</td>\n",
       "      <td>948</td>\n",
       "      <td>1632</td>\n",
       "      <td>1047</td>\n",
       "      <td>1087</td>\n",
       "      <td>967</td>\n",
       "      <td>866</td>\n",
       "      <td>1390</td>\n",
       "      <td>680</td>\n",
       "      <td>1965</td>\n",
       "    </tr>\n",
       "    <tr>\n",
       "      <th>4</th>\n",
       "      <td>famille</td>\n",
       "      <td>Propionibacteriaceae(100)</td>\n",
       "      <td>1398</td>\n",
       "      <td>1055</td>\n",
       "      <td>338</td>\n",
       "      <td>597</td>\n",
       "      <td>202</td>\n",
       "      <td>143</td>\n",
       "      <td>1159</td>\n",
       "      <td>630</td>\n",
       "      <td>151</td>\n",
       "      <td>171</td>\n",
       "      <td>63</td>\n",
       "      <td>355</td>\n",
       "      <td>83</td>\n",
       "      <td>212</td>\n",
       "    </tr>\n",
       "    <tr>\n",
       "      <th>...</th>\n",
       "      <td>...</td>\n",
       "      <td>...</td>\n",
       "      <td>...</td>\n",
       "      <td>...</td>\n",
       "      <td>...</td>\n",
       "      <td>...</td>\n",
       "      <td>...</td>\n",
       "      <td>...</td>\n",
       "      <td>...</td>\n",
       "      <td>...</td>\n",
       "      <td>...</td>\n",
       "      <td>...</td>\n",
       "      <td>...</td>\n",
       "      <td>...</td>\n",
       "      <td>...</td>\n",
       "      <td>...</td>\n",
       "    </tr>\n",
       "    <tr>\n",
       "      <th>1010</th>\n",
       "      <td>phylum</td>\n",
       "      <td>Parcubacteria(100)</td>\n",
       "      <td>0</td>\n",
       "      <td>0</td>\n",
       "      <td>0</td>\n",
       "      <td>0</td>\n",
       "      <td>0</td>\n",
       "      <td>0</td>\n",
       "      <td>0</td>\n",
       "      <td>0</td>\n",
       "      <td>0</td>\n",
       "      <td>1</td>\n",
       "      <td>4</td>\n",
       "      <td>0</td>\n",
       "      <td>0</td>\n",
       "      <td>0</td>\n",
       "    </tr>\n",
       "    <tr>\n",
       "      <th>1011</th>\n",
       "      <td>classe</td>\n",
       "      <td>unclassified(100)</td>\n",
       "      <td>0</td>\n",
       "      <td>0</td>\n",
       "      <td>0</td>\n",
       "      <td>0</td>\n",
       "      <td>0</td>\n",
       "      <td>0</td>\n",
       "      <td>0</td>\n",
       "      <td>0</td>\n",
       "      <td>0</td>\n",
       "      <td>1</td>\n",
       "      <td>4</td>\n",
       "      <td>0</td>\n",
       "      <td>0</td>\n",
       "      <td>0</td>\n",
       "    </tr>\n",
       "    <tr>\n",
       "      <th>1012</th>\n",
       "      <td>ordre</td>\n",
       "      <td>unclassified(100)</td>\n",
       "      <td>0</td>\n",
       "      <td>0</td>\n",
       "      <td>0</td>\n",
       "      <td>0</td>\n",
       "      <td>0</td>\n",
       "      <td>0</td>\n",
       "      <td>0</td>\n",
       "      <td>0</td>\n",
       "      <td>0</td>\n",
       "      <td>1</td>\n",
       "      <td>4</td>\n",
       "      <td>0</td>\n",
       "      <td>0</td>\n",
       "      <td>0</td>\n",
       "    </tr>\n",
       "    <tr>\n",
       "      <th>1013</th>\n",
       "      <td>famille</td>\n",
       "      <td>unclassified(100)</td>\n",
       "      <td>0</td>\n",
       "      <td>0</td>\n",
       "      <td>0</td>\n",
       "      <td>0</td>\n",
       "      <td>0</td>\n",
       "      <td>0</td>\n",
       "      <td>0</td>\n",
       "      <td>0</td>\n",
       "      <td>0</td>\n",
       "      <td>1</td>\n",
       "      <td>4</td>\n",
       "      <td>0</td>\n",
       "      <td>0</td>\n",
       "      <td>0</td>\n",
       "    </tr>\n",
       "    <tr>\n",
       "      <th>1014</th>\n",
       "      <td>genre</td>\n",
       "      <td>unclassified(100)</td>\n",
       "      <td>0</td>\n",
       "      <td>0</td>\n",
       "      <td>0</td>\n",
       "      <td>0</td>\n",
       "      <td>0</td>\n",
       "      <td>0</td>\n",
       "      <td>0</td>\n",
       "      <td>0</td>\n",
       "      <td>0</td>\n",
       "      <td>1</td>\n",
       "      <td>4</td>\n",
       "      <td>0</td>\n",
       "      <td>0</td>\n",
       "      <td>0</td>\n",
       "    </tr>\n",
       "  </tbody>\n",
       "</table>\n",
       "<p>1015 rows × 16 columns</p>\n",
       "</div>"
      ],
      "text/plain": [
       "     Nvx_taxo                       Taxo door_in_1 door_in_2 faucet_handle_1  \\\n",
       "0       regne                   Bacteria      3119      3119            3119   \n",
       "1      phylum        Actinobacteria(100)      1669      1483             434   \n",
       "2      classe        Actinobacteria(100)      1669      1483             434   \n",
       "3       ordre       Actinomycetales(100)      1658      1482             431   \n",
       "4     famille  Propionibacteriaceae(100)      1398      1055             338   \n",
       "...       ...                        ...       ...       ...             ...   \n",
       "1010   phylum         Parcubacteria(100)         0         0               0   \n",
       "1011   classe          unclassified(100)         0         0               0   \n",
       "1012    ordre          unclassified(100)         0         0               0   \n",
       "1013  famille          unclassified(100)         0         0               0   \n",
       "1014    genre          unclassified(100)         0         0               0   \n",
       "\n",
       "     faucet_handle_2 sink_floor_1 sink_floor_2 soap_dispenser_1 stall_in_1  \\\n",
       "0               3119         3119         3119             3119       3119   \n",
       "1               2224         1382          978             1665       1057   \n",
       "2               2224         1379          974             1665       1053   \n",
       "3               2220         1358          948             1632       1047   \n",
       "4                597          202          143             1159        630   \n",
       "...              ...          ...          ...              ...        ...   \n",
       "1010               0            0            0                0          0   \n",
       "1011               0            0            0                0          0   \n",
       "1012               0            0            0                0          0   \n",
       "1013               0            0            0                0          0   \n",
       "1014               0            0            0                0          0   \n",
       "\n",
       "     toilet_floor_1 toilet_floor_2 toilet_flush_handle_1  \\\n",
       "0              3119           3119                  3119   \n",
       "1              1133           1013                  1006   \n",
       "2              1132           1009                   996   \n",
       "3              1087            967                   866   \n",
       "4               151            171                    63   \n",
       "...             ...            ...                   ...   \n",
       "1010              0              1                     4   \n",
       "1011              0              1                     4   \n",
       "1012              0              1                     4   \n",
       "1013              0              1                     4   \n",
       "1014              0              1                     4   \n",
       "\n",
       "     toilet_flush_handle_2 toilet_seat_1 toilet_seat_2  \n",
       "0                     3119          3119          3119  \n",
       "1                     1400           685          1968  \n",
       "2                     1400           685          1968  \n",
       "3                     1390           680          1965  \n",
       "4                      355            83           212  \n",
       "...                    ...           ...           ...  \n",
       "1010                     0             0             0  \n",
       "1011                     0             0             0  \n",
       "1012                     0             0             0  \n",
       "1013                     0             0             0  \n",
       "1014                     0             0             0  \n",
       "\n",
       "[1015 rows x 16 columns]"
      ]
     },
     "execution_count": 27,
     "metadata": {},
     "output_type": "execute_result"
    }
   ],
   "source": [
    "#Création df\n",
    "def getDF(dicoTaxo):\n",
    "    listeDf=[]\n",
    "    listeRegne=[\"regne\"]\n",
    "    for k1, v1 in dicoTaxo.items():\n",
    "        #Récupère que pour le règne\n",
    "        if k1 == \"name\":\n",
    "            listeRegne.append(v1)\n",
    "        elif k1 == \"count\" :\n",
    "            for i in range(0,14):\n",
    "                listeRegne.append(int(v1[i]))\n",
    "            listeDf.append(listeRegne)\n",
    "        elif k1 == \"children\":\n",
    "            for phylum in dicoTaxo['children']:\n",
    "                listePhylum = [\"phylum\"]\n",
    "                for k2, v2 in phylum.items():\n",
    "                    #Récupère que pour le phylum\n",
    "                    if k2 == \"name\" :\n",
    "                        listePhylum.append(v2)\n",
    "                    elif k2 == \"count\" :\n",
    "                        for i in range(0,14):\n",
    "                            listePhylum.append(int(v2[i]))\n",
    "                        listeDf.append(listePhylum)\n",
    "                    #Descend dans les niveau plus précis\n",
    "                    elif k2 == \"children\" :\n",
    "                        for classe in v2:\n",
    "                            listeClasse = [\"classe\"]\n",
    "                            for k3, v3 in classe.items():\n",
    "                                #Récupère que pour le phylum\n",
    "                                if k3 == \"name\" :\n",
    "                                    listeClasse.append(v3)\n",
    "                                elif k3 == \"count\" :\n",
    "                                    for i in range(0,14):\n",
    "                                        listeClasse.append(int(v3[i]))\n",
    "                                    listeDf.append(listeClasse)\n",
    "                                #Descend dans les niveau plus précis\n",
    "                                elif k2 == \"children\" :\n",
    "                                    for ordre in v3:\n",
    "                                        listeOrdre = [\"ordre\"]\n",
    "                                        for k4, v4 in ordre.items():\n",
    "                                            #Récupère que pour le phylum\n",
    "                                            if k4 == \"name\" :\n",
    "                                                listeOrdre.append(v4)\n",
    "                                            elif k4 == \"count\" :\n",
    "                                                for i in range(0,14):\n",
    "                                                    listeOrdre.append(int(v4[i]))\n",
    "                                                listeDf.append(listeOrdre)\n",
    "                                            #Descend dans les niveau plus précis\n",
    "                                            elif k4 == \"children\" :\n",
    "                                                for famille in v4:\n",
    "                                                    listeFamille = [\"famille\"]\n",
    "                                                    for k5, v5 in famille.items():\n",
    "                                                        #Récupère que pour le phylum\n",
    "                                                        if k5 == \"name\" :\n",
    "                                                            listeFamille.append(v5)\n",
    "                                                        elif k5 == \"count\" :\n",
    "                                                            for i in range(0,14):\n",
    "                                                                listeFamille.append(int(v5[i]))\n",
    "                                                            listeDf.append(listeFamille)\n",
    "                                                         #Descend dans les niveau plus précis\n",
    "                                                        elif k5 == \"children\" :\n",
    "                                                            for genre in v5:\n",
    "                                                                listeGenre = [\"genre\"]\n",
    "                                                                for k6, v6 in genre.items():\n",
    "                                                                    #Récupère que pour le phylum\n",
    "                                                                    if k6 == \"name\" :\n",
    "                                                                        listeGenre.append(v6)\n",
    "                                                                    elif k6 == \"count\" :\n",
    "                                                                        for i in range(0,14):\n",
    "                                                                            listeGenre.append(int(v6[i]))\n",
    "                                                                        listeDf.append(listeGenre)\n",
    "                                                                    \n",
    "    listelegColonne=[\"Nvx_taxo\", \"Taxo\", \"door_in_1\",\"door_in_2\", \"faucet_handle_1\", \n",
    "                \"faucet_handle_2\", \"sink_floor_1\", \"sink_floor_2\",\n",
    "               \"soap_dispenser_1\", \"stall_in_1\", \"toilet_floor_1\", \n",
    "               \"toilet_floor_2\", \"toilet_flush_handle_1\",\n",
    "               \"toilet_flush_handle_2\", \"toilet_seat_1\", \"toilet_seat_2\"]\n",
    "    ar = np.array(listeDf)\n",
    "    df = pandas.DataFrame(ar, columns = listelegColonne )\n",
    "    return df\n",
    "\n",
    "dicoTaxoTest = getDicoTaxo(df)\n",
    "df2 = getDF(dicoTaxoTest)\n",
    "df2\n",
    "\n"
   ]
  },
  {
   "cell_type": "code",
   "execution_count": 28,
   "metadata": {},
   "outputs": [],
   "source": [
    "def abondanceImportant(vecteurs):\n",
    "    sum = 0\n",
    "    lgVecteur = len(vecteurs[0])\n",
    "    rangeb = len(vecteurs[0])-1\n",
    "    listNumsup = []\n",
    "    for i in range(0,rangeb):\n",
    "        sum = vecteurs[1][i] +vecteurs[2][i]+vecteurs[3][i]+vecteurs[4][i]+vecteurs[5][i]+vecteurs[6][i]+vecteurs[7][i]+vecteurs[8][i]+vecteurs[9][i]+vecteurs[10][i]+vecteurs[11][i]+vecteurs[12][i]+vecteurs[13][i]+vecteurs[14][i]\n",
    "        if sum < 250 :\n",
    "            listNumsup.append(i)\n",
    "    nbSup = 0\n",
    "    for i in listNumsup:\n",
    "        if(lgVecteur == len(vecteurs[0]) ):\n",
    "            del vecteurs[0][i]\n",
    "            del vecteurs[1][i]\n",
    "            del vecteurs[2][i]\n",
    "            del vecteurs[3][i]\n",
    "            del vecteurs[4][i]\n",
    "            del vecteurs[5][i]\n",
    "            del vecteurs[6][i]\n",
    "            del vecteurs[7][i]\n",
    "            del vecteurs[8][i]\n",
    "            del vecteurs[9][i]\n",
    "            del vecteurs[10][i]\n",
    "            del vecteurs[11][i]\n",
    "            del vecteurs[12][i]\n",
    "            del vecteurs[13][i]\n",
    "            del vecteurs[14][i]\n",
    "        else:\n",
    "            nbSup = nbSup + 1\n",
    "            i = i-nbSup\n",
    "            del vecteurs[0][i]\n",
    "            del vecteurs[1][i]\n",
    "            del vecteurs[2][i]\n",
    "            del vecteurs[3][i]\n",
    "            del vecteurs[4][i]\n",
    "            del vecteurs[5][i]\n",
    "            del vecteurs[6][i]\n",
    "            del vecteurs[7][i]\n",
    "            del vecteurs[8][i]\n",
    "            del vecteurs[9][i]\n",
    "            del vecteurs[10][i]\n",
    "            del vecteurs[11][i]\n",
    "            del vecteurs[12][i]\n",
    "            del vecteurs[13][i]\n",
    "            del vecteurs[14][i]\n",
    "        \n",
    "    return vecteurs         "
   ]
  },
  {
   "cell_type": "code",
   "execution_count": 29,
   "metadata": {},
   "outputs": [],
   "source": [
    "#Création matrice pour heat map\n",
    "import numpy as np\n",
    "\n",
    "def matrice(vecteurs):\n",
    "    mat = np.array([vecteurs[1],vecteurs[2],vecteurs[3],vecteurs[4],vecteurs[5],vecteurs[6],vecteurs[7],vecteurs[8],vecteurs[9],\n",
    "           vecteurs[10],vecteurs[11],vecteurs[12],vecteurs[13],vecteurs[14]])\n",
    "    return mat\n"
   ]
  },
  {
   "cell_type": "code",
   "execution_count": 31,
   "metadata": {
    "scrolled": true
   },
   "outputs": [
    {
     "data": {
      "image/png": "[encoded data removed]",
      "text/plain": [
       "<Figure size 504x576 with 1 Axes>"
      ]
     },
     "metadata": {
      "needs_background": "light"
     },
     "output_type": "display_data"
    }
   ],
   "source": [
    "import plotly as pt\n",
    "import seaborn as sns\n",
    "import matplotlib.pyplot as plt\n",
    "SELECTED = \"famille\" \n",
    "dicoTaxoTest = getDicoTaxo(df)\n",
    "vecteurs = getNiv(SELECTED,dicoTaxoTest) \n",
    "\n",
    "localisation=[\"door_in_1\",\"door_in_2\", \"faucet_handle_1\", \n",
    "                \"faucet_handle_2\", \"sink_floor_1\", \"sink_floor_2\",\n",
    "               \"soap_dispenser_1\", \"stall_in_1\", \"toilet_floor_1\", \n",
    "               \"toilet_floor_2\", \"toilet_flush_handle_1\",\n",
    "               \"toilet_flush_handle_2\", \"toilet_seat_1\", \"toilet_seat_2\"]\n",
    "\n",
    "vecteursTrier = abondanceImportant(vecteurs)\n",
    "selected_niv=vecteursTrier[0]\n",
    "N=len(selected_niv)\n",
    "ind = np.arange(N)\n",
    "\n",
    "l_loc = []\n",
    "for i in range(len(localisation)):\n",
    "    l_loc.append(vecteursTrier[i+1]) #car vecteursTrier[1] --> \"door_in_1\"\n",
    "    \n",
    "\n",
    "height = 0.9\n",
    "fig = plt.figure(figsize=[7, 8])\n",
    "bars = []\n",
    "cols = sns.color_palette('viridis_r',14) #COLORS\n",
    "#NOTE:max colors for \"colorblind\" are 10, look for solution soon!\n",
    "cumulated = np.zeros(len(l_loc[0]),dtype=int)\n",
    "for i in range(len(localisation)):\n",
    "    if i == 0 :\n",
    "        tmpbarobject = plt.barh(ind,l_loc[i], height,color=cols[i])\n",
    "    else: \n",
    "        tmpbarobject = plt.barh(ind, l_loc[i],height, left=cumulated, color=cols[i]) \n",
    "\n",
    "    cumulated = np.add(l_loc[i],cumulated)\n",
    "    bars.append(tmpbarobject[0])\n",
    "\n",
    "plt.xlabel('Abundance') \n",
    "plt.title('Cool and horizontal ==> ' + SELECTED) \n",
    "plt.yticks(ind, (selected_niv)) \n",
    "# legende dehors du plot area avec: bbbox_to_anchor\n",
    "plt.legend(bars, localisation, bbox_to_anchor=(1.5, 1)) \n",
    "  \n",
    "plt.show()"
   ]
  },
  {
   "cell_type": "code",
   "execution_count": null,
   "metadata": {},
   "outputs": [],
   "source": [
    "##Test heatmap\n",
    "#idem peut être normalisation ? \n",
    "dicoTaxoTest = getDicoTaxo(df)\n",
    "vecteurs = getNiv(\"Phylum\",dicoTaxoTest)\n",
    "mat = matrice(vecteurs)\n",
    "\n",
    "plt.matshow(mat)"
   ]
  },
  {
   "cell_type": "code",
   "execution_count": null,
   "metadata": {},
   "outputs": [],
   "source": [
    "SELECTED = \"ordre\" \n",
    "dicoTaxoTest = getDicoTaxo(df)\n",
    "vecteurs = getNiv(SELECTED,dicoTaxoTest) \n",
    "\n",
    "localisation=[\"door_in_1\",\"door_in_2\", \"faucet_handle_1\", \n",
    "                \"faucet_handle_2\", \"sink_floor_1\", \"sink_floor_2\",\n",
    "               \"soap_dispenser_1\", \"stall_in_1\", \"toilet_floor_1\", \n",
    "               \"toilet_floor_2\", \"toilet_flush_handle_1\",\n",
    "               \"toilet_flush_handle_2\", \"toilet_seat_1\", \"toilet_seat_2\"]\n",
    "\n",
    "vecteursTrier = abondanceImportant(vecteurs)\n",
    "selected_niv=vecteursTrier[0]\n",
    "N=len(selected_niv)\n",
    "ind = np.arange(N)\n",
    "\n",
    "l_loc = []\n",
    "for i in range(len(localisation)):\n",
    "    l_loc.append(vecteursTrier[i+1]) #car vecteursTrier[1] --> \"door_in_1\"\n"
   ]
  },
  {
   "cell_type": "code",
   "execution_count": null,
   "metadata": {},
   "outputs": [],
   "source": [
    "import matplotlib.pyplot as plt\n",
    "\n",
    "##Test heatmap\n",
    "dicoTaxoTest = getDicoTaxo(df)\n",
    "vecteurs = getNiv(\"Phylum\",dicoTaxoTest)\n",
    "mat = matrice(vecteurs)\n",
    "\n",
    "localisation = [\"door_in_1\",\"door_in_2\", \"faucet_handle_1\", \n",
    "                \"faucet_handle_2\", \"sink_floor_1\", \"sink_floor_2\",\n",
    "               \"soap_dispenser_1\", \"stall_in_1\", \"toilet_floor_1\", \n",
    "               \"toilet_floor_2\", \"toilet_flush_handle_1\",\n",
    "               \"toilet_flush_handle_2\", \"toilet_seat_1\", \"toilet_seat_2\"]\n",
    "\n",
    "espece=vecteurs[0]\n",
    "\n",
    "fig, ax = plt.subplots()\n",
    "im = ax.imshow(mat)\n",
    "\n",
    "ax.set_xticks(np.arange(len(espece)))\n",
    "ax.set_yticks(np.arange(len(localisation)))\n",
    "\n",
    "ax.set_xticklabels(espece)\n",
    "ax.set_yticklabels(localisation)\n",
    "\n",
    "plt.setp(ax.get_xticklabels(), rotation=45, ha=\"right\",\n",
    "         rotation_mode=\"anchor\")\n",
    "\n",
    "for i in range(len(localisation)):\n",
    "    for j in range(len(espece)):\n",
    "        text = ax.text(j, i, mat[i, j],\n",
    "                       ha=\"center\", va=\"center\", color=\"w\")\n",
    "\n",
    "\n",
    "ax.set_title(\"Title\")\n",
    "fig.tight_layout()\n",
    "plt.show()        "
   ]
  },
  {
   "cell_type": "code",
   "execution_count": null,
   "metadata": {},
   "outputs": [],
   "source": [
    "import seaborn as sns\n",
    "##Test heatmap\n",
    "dicoTaxoTest = getDicoTaxo(df)\n",
    "vecteurs = getNiv(\"Phylum\",dicoTaxoTest)\n",
    "mat = matrice(vecteurs)\n",
    "localisation = [\"door_in_1\",\"door_in_2\", \"faucet_handle_1\", \n",
    "                \"faucet_handle_2\", \"sink_floor_1\", \"sink_floor_2\",\n",
    "               \"soap_dispenser_1\", \"stall_in_1\", \"toilet_floor_1\", \n",
    "               \"toilet_floor_2\", \"toilet_flush_handle_1\",\n",
    "               \"toilet_flush_handle_2\", \"toilet_seat_1\", \"toilet_seat_2\"]\n",
    "\n",
    "espece=vecteurs[0]\n",
    "\n",
    "ax = sns.heatmap(mat)"
   ]
  },
  {
   "cell_type": "markdown",
   "metadata": {},
   "source": []
  },
  {
   "cell_type": "code",
   "execution_count": null,
   "metadata": {},
   "outputs": [],
   "source": []
  },
  {
   "cell_type": "code",
   "execution_count": null,
   "metadata": {},
   "outputs": [],
   "source": [
    "import matplotlib.pyplot as plt\n",
    "import squarify\n",
    "\n",
    "\n",
    "#test treemap avec df\n",
    "dicoTaxoTest = getDicoTaxo(df)\n",
    "df4 = getDF(dicoTaxoTest)\n",
    "\n",
    "#fig, ax = plt.subplots(1, figsize = (12,12))\n",
    "'''liste = []\n",
    "taille = len(df4['door_in_1'])\n",
    "for i in range(0,taille-1):\n",
    "    if df4['door_in_1'][i] == 0:\n",
    "        liste.append(1)\n",
    "    else:\n",
    "        liste.append(int(df4['door_in_1'][i]))'''\n",
    "    \n",
    "#squarify.plot(sizes=df4['door_in_1'], \n",
    "#              label=df4['Taxo'], \n",
    "#              alpha=.8 )\n",
    "#plt.axis('off')\n",
    "#plt.show()"
   ]
  },
  {
   "cell_type": "code",
   "execution_count": null,
   "metadata": {},
   "outputs": [],
   "source": [
    "#test treemap\n",
    "import squarify\n",
    "import matplotlib.cm as cm \n",
    "import matplotlib\n",
    "\n",
    "dicoTaxoTest = getDicoTaxo(df)\n",
    "vecteurs = getNiv(\"Phylum\",dicoTaxoTest)\n",
    "mat = matrice(vecteurs)\n",
    "\n",
    "def getMax(mat):\n",
    "    maxi = 0\n",
    "    for ligne in mat:\n",
    "        for i in ligne:\n",
    "            if i > maxi:\n",
    "                maxi = i\n",
    "    return maxi\n",
    "\n",
    "def getMin(mat, maxi):\n",
    "    mini = 0\n",
    "    for ligne in mat:\n",
    "        for i in ligne:\n",
    "            if i < mini:\n",
    "                mini = i\n",
    "    return mini\n",
    "\n",
    "\n",
    "cmap = cm.Blues\n",
    "maxi = getMax(mat)\n",
    "mini = getMin(mat, maxi)\n",
    "my_values=[i**3 for i in range(1,100)]\n",
    "my_values\n",
    "\n",
    "norm = matplotlib.colors.Normalize(vmin=mini, vmax=maxi)\n",
    "colors = [cmap(norm(value)) for value in mat]\n",
    " \n",
    "#Change color\n",
    "#squarify.plot(sizes=mat, alpha=.8, color=colors )\n",
    "#plt.axis('off')\n",
    "#plt.show()"
   ]
  },
  {
   "cell_type": "code",
   "execution_count": null,
   "metadata": {},
   "outputs": [],
   "source": []
  },
  {
   "cell_type": "code",
   "execution_count": 32,
   "metadata": {},
   "outputs": [
    {
     "data": {
      "text/html": [
       "<div>\n",
       "<style scoped>\n",
       "    .dataframe tbody tr th:only-of-type {\n",
       "        vertical-align: middle;\n",
       "    }\n",
       "\n",
       "    .dataframe tbody tr th {\n",
       "        vertical-align: top;\n",
       "    }\n",
       "\n",
       "    .dataframe thead th {\n",
       "        text-align: right;\n",
       "    }\n",
       "</style>\n",
       "<table border=\"1\" class=\"dataframe\">\n",
       "  <thead>\n",
       "    <tr style=\"text-align: right;\">\n",
       "      <th></th>\n",
       "      <th>Nvx_taxo</th>\n",
       "      <th>Taxo</th>\n",
       "      <th>Localisation</th>\n",
       "      <th>Comptage</th>\n",
       "    </tr>\n",
       "  </thead>\n",
       "  <tbody>\n",
       "    <tr>\n",
       "      <th>0</th>\n",
       "      <td>regne</td>\n",
       "      <td>Bacteria</td>\n",
       "      <td>door_in_1</td>\n",
       "      <td>3119</td>\n",
       "    </tr>\n",
       "    <tr>\n",
       "      <th>1</th>\n",
       "      <td>phylum</td>\n",
       "      <td>Actinobacteria(100)</td>\n",
       "      <td>door_in_1</td>\n",
       "      <td>1669</td>\n",
       "    </tr>\n",
       "    <tr>\n",
       "      <th>2</th>\n",
       "      <td>classe</td>\n",
       "      <td>Actinobacteria(100)</td>\n",
       "      <td>door_in_1</td>\n",
       "      <td>1669</td>\n",
       "    </tr>\n",
       "    <tr>\n",
       "      <th>3</th>\n",
       "      <td>ordre</td>\n",
       "      <td>Actinomycetales(100)</td>\n",
       "      <td>door_in_1</td>\n",
       "      <td>1658</td>\n",
       "    </tr>\n",
       "    <tr>\n",
       "      <th>4</th>\n",
       "      <td>famille</td>\n",
       "      <td>Propionibacteriaceae(100)</td>\n",
       "      <td>door_in_1</td>\n",
       "      <td>1398</td>\n",
       "    </tr>\n",
       "    <tr>\n",
       "      <th>...</th>\n",
       "      <td>...</td>\n",
       "      <td>...</td>\n",
       "      <td>...</td>\n",
       "      <td>...</td>\n",
       "    </tr>\n",
       "    <tr>\n",
       "      <th>14205</th>\n",
       "      <td>phylum</td>\n",
       "      <td>Parcubacteria(100)</td>\n",
       "      <td>toilet_seat_2</td>\n",
       "      <td>0</td>\n",
       "    </tr>\n",
       "    <tr>\n",
       "      <th>14206</th>\n",
       "      <td>classe</td>\n",
       "      <td>unclassified(100)</td>\n",
       "      <td>toilet_seat_2</td>\n",
       "      <td>0</td>\n",
       "    </tr>\n",
       "    <tr>\n",
       "      <th>14207</th>\n",
       "      <td>ordre</td>\n",
       "      <td>unclassified(100)</td>\n",
       "      <td>toilet_seat_2</td>\n",
       "      <td>0</td>\n",
       "    </tr>\n",
       "    <tr>\n",
       "      <th>14208</th>\n",
       "      <td>famille</td>\n",
       "      <td>unclassified(100)</td>\n",
       "      <td>toilet_seat_2</td>\n",
       "      <td>0</td>\n",
       "    </tr>\n",
       "    <tr>\n",
       "      <th>14209</th>\n",
       "      <td>genre</td>\n",
       "      <td>unclassified(100)</td>\n",
       "      <td>toilet_seat_2</td>\n",
       "      <td>0</td>\n",
       "    </tr>\n",
       "  </tbody>\n",
       "</table>\n",
       "<p>14210 rows × 4 columns</p>\n",
       "</div>"
      ],
      "text/plain": [
       "      Nvx_taxo                       Taxo   Localisation Comptage\n",
       "0        regne                   Bacteria      door_in_1     3119\n",
       "1       phylum        Actinobacteria(100)      door_in_1     1669\n",
       "2       classe        Actinobacteria(100)      door_in_1     1669\n",
       "3        ordre       Actinomycetales(100)      door_in_1     1658\n",
       "4      famille  Propionibacteriaceae(100)      door_in_1     1398\n",
       "...        ...                        ...            ...      ...\n",
       "14205   phylum         Parcubacteria(100)  toilet_seat_2        0\n",
       "14206   classe          unclassified(100)  toilet_seat_2        0\n",
       "14207    ordre          unclassified(100)  toilet_seat_2        0\n",
       "14208  famille          unclassified(100)  toilet_seat_2        0\n",
       "14209    genre          unclassified(100)  toilet_seat_2        0\n",
       "\n",
       "[14210 rows x 4 columns]"
      ]
     },
     "execution_count": 32,
     "metadata": {},
     "output_type": "execute_result"
    }
   ],
   "source": [
    "\n",
    "#Récupère tableau pour une seul taxo voulu\n",
    "def getDFFonctionTaxo(df, taxo):\n",
    "    filtre = df['Nvx_taxo']==taxo\n",
    "    dfTaxo = df[filtre]\n",
    "    return dfTaxo\n",
    "\n",
    "#Récupère tableau avec colonne suprimmer\n",
    "def getDFLoc(df, listeColonneSup):\n",
    "    dfLoc = df.drop(columns =listeColonneSup , inplace= True )\n",
    "    return dfLoc\n",
    "#Rècupère seulement colonne taxo de la df voulue\n",
    "def getDFColTaxo(df):\n",
    "    listeColonneSup=[\"Nvx_taxo\", \"door_in_1\",\"door_in_2\", \"faucet_handle_1\", \n",
    "                \"faucet_handle_2\", \"sink_floor_1\", \"sink_floor_2\",\n",
    "               \"soap_dispenser_1\", \"stall_in_1\", \"toilet_floor_1\", \n",
    "               \"toilet_floor_2\", \"toilet_flush_handle_1\",\n",
    "               \"toilet_flush_handle_2\", \"toilet_seat_1\", \"toilet_seat_2\"]\n",
    "    dfT = df.drop(columns =listeColonneSup , inplace= True )\n",
    "    return dfT\n",
    "\n",
    "def getLoc(niv):\n",
    "    if niv == 0:\n",
    "        return \"door_in_1\"\n",
    "    elif niv == 1:\n",
    "        return \"door_in_2\"\n",
    "    elif niv == 2:\n",
    "        return \"faucet_handle_1\" \n",
    "    elif niv == 3:\n",
    "        return \"faucet_handle_2\" \n",
    "    elif niv == 4:\n",
    "        return \"sink_floor_1\"\n",
    "    elif niv == 5:\n",
    "        return \"sink_floor_2\"\n",
    "    elif niv == 6:\n",
    "        return \"soap_dispenser_1\"\n",
    "    elif niv == 7:\n",
    "        return \"stall_in_1\"\n",
    "    elif niv == 8:\n",
    "        return \"toilet_floor_1\"\n",
    "    elif niv == 9:\n",
    "        return \"toilet_floor_2\"\n",
    "    elif niv == 10:\n",
    "        return \"toilet_flush_handle_1\"\n",
    "    elif niv == 11:\n",
    "        return \"toilet_flush_handle_2\"\n",
    "    elif niv == 12:\n",
    "        return \"toilet_seat_1\"\n",
    "    elif niv == 13:\n",
    "        return \"toilet_seat_2\"\n",
    "    \n",
    "\n",
    "#Création df\n",
    "def getDFTree(df):\n",
    "    listeDf=[]\n",
    "    for j in range(0,14):\n",
    "        for i in df.index:\n",
    "            listeLigne = [df[\"Nvx_taxo\"][i]]\n",
    "            listeLigne.append(df[\"Taxo\"][i])\n",
    "            loc = getLoc(j)\n",
    "            listeLigne.append(loc)\n",
    "            listeLigne.append(df[loc][i])\n",
    "            listeDf.append(listeLigne)\n",
    "    listelegColonne=[\"Nvx_taxo\",\"Taxo\", \"Localisation\", \"Comptage\"]\n",
    "    ar = np.array(listeDf)\n",
    "    df = pandas.DataFrame(ar, columns = listelegColonne )\n",
    "    return df\n",
    "dicoTaxoTest = getDicoTaxo(df)\n",
    "df2 = getDF(dicoTaxoTest)\n",
    "df3 = getDFTree(df2)\n",
    "df3\n"
   ]
  },
  {
   "cell_type": "code",
   "execution_count": 37,
   "metadata": {},
   "outputs": [
    {
     "name": "stderr",
     "output_type": "stream",
     "text": [
      "/home/johanna/.local/venv/lib/python3.8/site-packages/pandas/core/frame.py:4167: SettingWithCopyWarning:\n",
      "\n",
      "\n",
      "A value is trying to be set on a copy of a slice from a DataFrame\n",
      "\n",
      "See the caveats in the documentation: https://pandas.pydata.org/pandas-docs/stable/user_guide/indexing.html#returning-a-view-versus-a-copy\n",
      "\n"
     ]
    }
   ],
   "source": [
    "#Recupère les donnéer et format en Df\n",
    "dicoTaxoTest = getDicoTaxo(df)\n",
    "dfEntier= getDF(dicoTaxoTest)\n",
    "\n",
    "#Création DF avec seulement les comptage pour genre\n",
    "dfComptage = getDFFonctionTaxo(dfEntier, \"genre\")\n",
    "listeColonneSuprimer = [\"Nvx_taxo\",\"Taxo\"]\n",
    "getDFLoc(dfComptage,listeColonneSuprimer )\n",
    "\n",
    "#Creéation DF avec seulement les noms des genre (dfTaxo)\n",
    "dfTaxo = getDFFonctionTaxo(dfEntier, \"genre\")\n",
    "listeColonneSuprimerPourTaxo = [\"Nvx_taxo\"]\n",
    "getDFLoc(dfTaxo,listeColonneSuprimerPourTaxo )\n",
    "\n",
    "\n"
   ]
  },
  {
   "cell_type": "code",
   "execution_count": 113,
   "metadata": {},
   "outputs": [
    {
     "data": {
      "application/vnd.plotly.v1+json": {
       "config": {
        "plotlyServerURL": "https://plot.ly"
       },
       "data": [
        {
         "hovertemplate": "color=door_in_1<br>0=%{x}<br>1=%{y}<extra></extra>",
         "legendgroup": "door_in_1",
         "marker": {
          "color": [
           0.82494,
           0.88472,
           0.106217
          ],
          "symbol": "circle"
         },
         "mode": "markers",
         "name": "door_in_1",
         "orientation": "v",
         "showlegend": true,
         "type": "scatter",
         "x": [
          282.50205783003923
         ],
         "xaxis": "x",
         "y": [
          1012.9335613454781
         ],
         "yaxis": "y"
        },
        {
         "hovertemplate": "color=door_in_2<br>0=%{x}<br>1=%{y}<extra></extra>",
         "legendgroup": "door_in_2",
         "marker": {
          "color": [
           0.647257,
           0.8584,
           0.209861
          ],
          "symbol": "circle"
         },
         "mode": "markers",
         "name": "door_in_2",
         "orientation": "v",
         "showlegend": true,
         "type": "scatter",
         "x": [
          235.6502396865599
         ],
         "xaxis": "x",
         "y": [
          711.4648053814843
         ],
         "yaxis": "y"
        },
        {
         "hovertemplate": "color=faucet_handle_1<br>0=%{x}<br>1=%{y}<extra></extra>",
         "legendgroup": "faucet_handle_1",
         "marker": {
          "color": [
           0.477504,
           0.821444,
           0.318195
          ],
          "symbol": "circle"
         },
         "mode": "markers",
         "name": "faucet_handle_1",
         "orientation": "v",
         "showlegend": true,
         "type": "scatter",
         "x": [
          -1072.8763657644795
         ],
         "xaxis": "x",
         "y": [
          -284.3694004510275
         ],
         "yaxis": "y"
        },
        {
         "hovertemplate": "color=faucet_handle_2<br>0=%{x}<br>1=%{y}<extra></extra>",
         "legendgroup": "faucet_handle_2",
         "marker": {
          "color": [
           0.327796,
           0.77398,
           0.40664
          ],
          "symbol": "circle"
         },
         "mode": "markers",
         "name": "faucet_handle_2",
         "orientation": "v",
         "showlegend": true,
         "type": "scatter",
         "x": [
          1090.4232325379867
         ],
         "xaxis": "x",
         "y": [
          -354.43716110837954
         ],
         "yaxis": "y"
        },
        {
         "hovertemplate": "color=sink_floor_1<br>0=%{x}<br>1=%{y}<extra></extra>",
         "legendgroup": "sink_floor_1",
         "marker": {
          "color": [
           0.20803,
           0.718701,
           0.472873
          ],
          "symbol": "circle"
         },
         "mode": "markers",
         "name": "sink_floor_1",
         "orientation": "v",
         "showlegend": true,
         "type": "scatter",
         "x": [
          -485.238409457185
         ],
         "xaxis": "x",
         "y": [
          -203.60968045983182
         ],
         "yaxis": "y"
        },
        {
         "hovertemplate": "color=sink_floor_2<br>0=%{x}<br>1=%{y}<extra></extra>",
         "legendgroup": "sink_floor_2",
         "marker": {
          "color": [
           0.134692,
           0.658636,
           0.517649
          ],
          "symbol": "circle"
         },
         "mode": "markers",
         "name": "sink_floor_2",
         "orientation": "v",
         "showlegend": true,
         "type": "scatter",
         "x": [
          -549.7962286511357
         ],
         "xaxis": "x",
         "y": [
          -242.47209494314103
         ],
         "yaxis": "y"
        },
        {
         "hovertemplate": "color=soap_dispenser_1<br>0=%{x}<br>1=%{y}<extra></extra>",
         "legendgroup": "soap_dispenser_1",
         "marker": {
          "color": [
           0.120565,
           0.596422,
           0.543611
          ],
          "symbol": "circle"
         },
         "mode": "markers",
         "name": "soap_dispenser_1",
         "orientation": "v",
         "showlegend": true,
         "type": "scatter",
         "x": [
          171.78748919622586
         ],
         "xaxis": "x",
         "y": [
          723.3705677281772
         ],
         "yaxis": "y"
        },
        {
         "hovertemplate": "color=stall_in_1<br>0=%{x}<br>1=%{y}<extra></extra>",
         "legendgroup": "stall_in_1",
         "marker": {
          "color": [
           0.139147,
           0.533812,
           0.555298
          ],
          "symbol": "circle"
         },
         "mode": "markers",
         "name": "stall_in_1",
         "orientation": "v",
         "showlegend": true,
         "type": "scatter",
         "x": [
          97.19586424510965
         ],
         "xaxis": "x",
         "y": [
          386.40698941103955
         ],
         "yaxis": "y"
        },
        {
         "hovertemplate": "color=toilet_floor_1<br>0=%{x}<br>1=%{y}<extra></extra>",
         "legendgroup": "toilet_floor_1",
         "marker": {
          "color": [
           0.163625,
           0.471133,
           0.558148
          ],
          "symbol": "circle"
         },
         "mode": "markers",
         "name": "toilet_floor_1",
         "orientation": "v",
         "showlegend": true,
         "type": "scatter",
         "x": [
          -472.79282292832244
         ],
         "xaxis": "x",
         "y": [
          -182.35441605926823
         ],
         "yaxis": "y"
        },
        {
         "hovertemplate": "color=toilet_floor_2<br>0=%{x}<br>1=%{y}<extra></extra>",
         "legendgroup": "toilet_floor_2",
         "marker": {
          "color": [
           0.190631,
           0.407061,
           0.556089
          ],
          "symbol": "circle"
         },
         "mode": "markers",
         "name": "toilet_floor_2",
         "orientation": "v",
         "showlegend": true,
         "type": "scatter",
         "x": [
          -578.1517471534654
         ],
         "xaxis": "x",
         "y": [
          -265.6749447299399
         ],
         "yaxis": "y"
        },
        {
         "hovertemplate": "color=toilet_flush_handle_1<br>0=%{x}<br>1=%{y}<extra></extra>",
         "legendgroup": "toilet_flush_handle_1",
         "marker": {
          "color": [
           0.221989,
           0.339161,
           0.548752
          ],
          "symbol": "circle"
         },
         "mode": "markers",
         "name": "toilet_flush_handle_1",
         "orientation": "v",
         "showlegend": true,
         "type": "scatter",
         "x": [
          -225.94170770291606
         ],
         "xaxis": "x",
         "y": [
          -64.0557467562006
         ],
         "yaxis": "y"
        },
        {
         "hovertemplate": "color=toilet_flush_handle_2<br>0=%{x}<br>1=%{y}<extra></extra>",
         "legendgroup": "toilet_flush_handle_2",
         "marker": {
          "color": [
           0.253935,
           0.265254,
           0.529983
          ],
          "symbol": "circle"
         },
         "mode": "markers",
         "name": "toilet_flush_handle_2",
         "orientation": "v",
         "showlegend": true,
         "type": "scatter",
         "x": [
          489.01661095005136
         ],
         "xaxis": "x",
         "y": [
          -229.3701591848969
         ],
         "yaxis": "y"
        },
        {
         "hovertemplate": "color=toilet_seat_1<br>0=%{x}<br>1=%{y}<extra></extra>",
         "legendgroup": "toilet_seat_1",
         "marker": {
          "color": [
           0.277134,
           0.185228,
           0.489898
          ],
          "symbol": "circle"
         },
         "mode": "markers",
         "name": "toilet_seat_1",
         "orientation": "v",
         "showlegend": true,
         "type": "scatter",
         "x": [
          -140.374093477979
         ],
         "xaxis": "x",
         "y": [
          -199.53888319141936
         ],
         "yaxis": "y"
        },
        {
         "hovertemplate": "color=toilet_seat_2<br>0=%{x}<br>1=%{y}<extra></extra>",
         "legendgroup": "toilet_seat_2",
         "marker": {
          "color": [
           0.282656,
           0.100196,
           0.42216
          ],
          "symbol": "circle"
         },
         "mode": "markers",
         "name": "toilet_seat_2",
         "orientation": "v",
         "showlegend": true,
         "type": "scatter",
         "x": [
          1158.5958806895128
         ],
         "xaxis": "x",
         "y": [
          -808.2934369820761
         ],
         "yaxis": "y"
        }
       ],
       "layout": {
        "legend": {
         "title": {
          "text": "color"
         },
         "tracegroupgap": 0
        },
        "margin": {
         "t": 60
        },
        "template": {
         "data": {
          "bar": [
           {
            "error_x": {
             "color": "#2a3f5f"
            },
            "error_y": {
             "color": "#2a3f5f"
            },
            "marker": {
             "line": {
              "color": "#E5ECF6",
              "width": 0.5
             }
            },
            "type": "bar"
           }
          ],
          "barpolar": [
           {
            "marker": {
             "line": {
              "color": "#E5ECF6",
              "width": 0.5
             }
            },
            "type": "barpolar"
           }
          ],
          "carpet": [
           {
            "aaxis": {
             "endlinecolor": "#2a3f5f",
             "gridcolor": "white",
             "linecolor": "white",
             "minorgridcolor": "white",
             "startlinecolor": "#2a3f5f"
            },
            "baxis": {
             "endlinecolor": "#2a3f5f",
             "gridcolor": "white",
             "linecolor": "white",
             "minorgridcolor": "white",
             "startlinecolor": "#2a3f5f"
            },
            "type": "carpet"
           }
          ],
          "choropleth": [
           {
            "colorbar": {
             "outlinewidth": 0,
             "ticks": ""
            },
            "type": "choropleth"
           }
          ],
          "contour": [
           {
            "colorbar": {
             "outlinewidth": 0,
             "ticks": ""
            },
            "colorscale": [
             [
              0,
              "#0d0887"
             ],
             [
              0.1111111111111111,
              "#46039f"
             ],
             [
              0.2222222222222222,
              "#7201a8"
             ],
             [
              0.3333333333333333,
              "#9c179e"
             ],
             [
              0.4444444444444444,
              "#bd3786"
             ],
             [
              0.5555555555555556,
              "#d8576b"
             ],
             [
              0.6666666666666666,
              "#ed7953"
             ],
             [
              0.7777777777777778,
              "#fb9f3a"
             ],
             [
              0.8888888888888888,
              "#fdca26"
             ],
             [
              1,
              "#f0f921"
             ]
            ],
            "type": "contour"
           }
          ],
          "contourcarpet": [
           {
            "colorbar": {
             "outlinewidth": 0,
             "ticks": ""
            },
            "type": "contourcarpet"
           }
          ],
          "heatmap": [
           {
            "colorbar": {
             "outlinewidth": 0,
             "ticks": ""
            },
            "colorscale": [
             [
              0,
              "#0d0887"
             ],
             [
              0.1111111111111111,
              "#46039f"
             ],
             [
              0.2222222222222222,
              "#7201a8"
             ],
             [
              0.3333333333333333,
              "#9c179e"
             ],
             [
              0.4444444444444444,
              "#bd3786"
             ],
             [
              0.5555555555555556,
              "#d8576b"
             ],
             [
              0.6666666666666666,
              "#ed7953"
             ],
             [
              0.7777777777777778,
              "#fb9f3a"
             ],
             [
              0.8888888888888888,
              "#fdca26"
             ],
             [
              1,
              "#f0f921"
             ]
            ],
            "type": "heatmap"
           }
          ],
          "heatmapgl": [
           {
            "colorbar": {
             "outlinewidth": 0,
             "ticks": ""
            },
            "colorscale": [
             [
              0,
              "#0d0887"
             ],
             [
              0.1111111111111111,
              "#46039f"
             ],
             [
              0.2222222222222222,
              "#7201a8"
             ],
             [
              0.3333333333333333,
              "#9c179e"
             ],
             [
              0.4444444444444444,
              "#bd3786"
             ],
             [
              0.5555555555555556,
              "#d8576b"
             ],
             [
              0.6666666666666666,
              "#ed7953"
             ],
             [
              0.7777777777777778,
              "#fb9f3a"
             ],
             [
              0.8888888888888888,
              "#fdca26"
             ],
             [
              1,
              "#f0f921"
             ]
            ],
            "type": "heatmapgl"
           }
          ],
          "histogram": [
           {
            "marker": {
             "colorbar": {
              "outlinewidth": 0,
              "ticks": ""
             }
            },
            "type": "histogram"
           }
          ],
          "histogram2d": [
           {
            "colorbar": {
             "outlinewidth": 0,
             "ticks": ""
            },
            "colorscale": [
             [
              0,
              "#0d0887"
             ],
             [
              0.1111111111111111,
              "#46039f"
             ],
             [
              0.2222222222222222,
              "#7201a8"
             ],
             [
              0.3333333333333333,
              "#9c179e"
             ],
             [
              0.4444444444444444,
              "#bd3786"
             ],
             [
              0.5555555555555556,
              "#d8576b"
             ],
             [
              0.6666666666666666,
              "#ed7953"
             ],
             [
              0.7777777777777778,
              "#fb9f3a"
             ],
             [
              0.8888888888888888,
              "#fdca26"
             ],
             [
              1,
              "#f0f921"
             ]
            ],
            "type": "histogram2d"
           }
          ],
          "histogram2dcontour": [
           {
            "colorbar": {
             "outlinewidth": 0,
             "ticks": ""
            },
            "colorscale": [
             [
              0,
              "#0d0887"
             ],
             [
              0.1111111111111111,
              "#46039f"
             ],
             [
              0.2222222222222222,
              "#7201a8"
             ],
             [
              0.3333333333333333,
              "#9c179e"
             ],
             [
              0.4444444444444444,
              "#bd3786"
             ],
             [
              0.5555555555555556,
              "#d8576b"
             ],
             [
              0.6666666666666666,
              "#ed7953"
             ],
             [
              0.7777777777777778,
              "#fb9f3a"
             ],
             [
              0.8888888888888888,
              "#fdca26"
             ],
             [
              1,
              "#f0f921"
             ]
            ],
            "type": "histogram2dcontour"
           }
          ],
          "mesh3d": [
           {
            "colorbar": {
             "outlinewidth": 0,
             "ticks": ""
            },
            "type": "mesh3d"
           }
          ],
          "parcoords": [
           {
            "line": {
             "colorbar": {
              "outlinewidth": 0,
              "ticks": ""
             }
            },
            "type": "parcoords"
           }
          ],
          "pie": [
           {
            "automargin": true,
            "type": "pie"
           }
          ],
          "scatter": [
           {
            "marker": {
             "colorbar": {
              "outlinewidth": 0,
              "ticks": ""
             }
            },
            "type": "scatter"
           }
          ],
          "scatter3d": [
           {
            "line": {
             "colorbar": {
              "outlinewidth": 0,
              "ticks": ""
             }
            },
            "marker": {
             "colorbar": {
              "outlinewidth": 0,
              "ticks": ""
             }
            },
            "type": "scatter3d"
           }
          ],
          "scattercarpet": [
           {
            "marker": {
             "colorbar": {
              "outlinewidth": 0,
              "ticks": ""
             }
            },
            "type": "scattercarpet"
           }
          ],
          "scattergeo": [
           {
            "marker": {
             "colorbar": {
              "outlinewidth": 0,
              "ticks": ""
             }
            },
            "type": "scattergeo"
           }
          ],
          "scattergl": [
           {
            "marker": {
             "colorbar": {
              "outlinewidth": 0,
              "ticks": ""
             }
            },
            "type": "scattergl"
           }
          ],
          "scattermapbox": [
           {
            "marker": {
             "colorbar": {
              "outlinewidth": 0,
              "ticks": ""
             }
            },
            "type": "scattermapbox"
           }
          ],
          "scatterpolar": [
           {
            "marker": {
             "colorbar": {
              "outlinewidth": 0,
              "ticks": ""
             }
            },
            "type": "scatterpolar"
           }
          ],
          "scatterpolargl": [
           {
            "marker": {
             "colorbar": {
              "outlinewidth": 0,
              "ticks": ""
             }
            },
            "type": "scatterpolargl"
           }
          ],
          "scatterternary": [
           {
            "marker": {
             "colorbar": {
              "outlinewidth": 0,
              "ticks": ""
             }
            },
            "type": "scatterternary"
           }
          ],
          "surface": [
           {
            "colorbar": {
             "outlinewidth": 0,
             "ticks": ""
            },
            "colorscale": [
             [
              0,
              "#0d0887"
             ],
             [
              0.1111111111111111,
              "#46039f"
             ],
             [
              0.2222222222222222,
              "#7201a8"
             ],
             [
              0.3333333333333333,
              "#9c179e"
             ],
             [
              0.4444444444444444,
              "#bd3786"
             ],
             [
              0.5555555555555556,
              "#d8576b"
             ],
             [
              0.6666666666666666,
              "#ed7953"
             ],
             [
              0.7777777777777778,
              "#fb9f3a"
             ],
             [
              0.8888888888888888,
              "#fdca26"
             ],
             [
              1,
              "#f0f921"
             ]
            ],
            "type": "surface"
           }
          ],
          "table": [
           {
            "cells": {
             "fill": {
              "color": "#EBF0F8"
             },
             "line": {
              "color": "white"
             }
            },
            "header": {
             "fill": {
              "color": "#C8D4E3"
             },
             "line": {
              "color": "white"
             }
            },
            "type": "table"
           }
          ]
         },
         "layout": {
          "annotationdefaults": {
           "arrowcolor": "#2a3f5f",
           "arrowhead": 0,
           "arrowwidth": 1
          },
          "coloraxis": {
           "colorbar": {
            "outlinewidth": 0,
            "ticks": ""
           }
          },
          "colorscale": {
           "diverging": [
            [
             0,
             "#8e0152"
            ],
            [
             0.1,
             "#c51b7d"
            ],
            [
             0.2,
             "#de77ae"
            ],
            [
             0.3,
             "#f1b6da"
            ],
            [
             0.4,
             "#fde0ef"
            ],
            [
             0.5,
             "#f7f7f7"
            ],
            [
             0.6,
             "#e6f5d0"
            ],
            [
             0.7,
             "#b8e186"
            ],
            [
             0.8,
             "#7fbc41"
            ],
            [
             0.9,
             "#4d9221"
            ],
            [
             1,
             "#276419"
            ]
           ],
           "sequential": [
            [
             0,
             "#0d0887"
            ],
            [
             0.1111111111111111,
             "#46039f"
            ],
            [
             0.2222222222222222,
             "#7201a8"
            ],
            [
             0.3333333333333333,
             "#9c179e"
            ],
            [
             0.4444444444444444,
             "#bd3786"
            ],
            [
             0.5555555555555556,
             "#d8576b"
            ],
            [
             0.6666666666666666,
             "#ed7953"
            ],
            [
             0.7777777777777778,
             "#fb9f3a"
            ],
            [
             0.8888888888888888,
             "#fdca26"
            ],
            [
             1,
             "#f0f921"
            ]
           ],
           "sequentialminus": [
            [
             0,
             "#0d0887"
            ],
            [
             0.1111111111111111,
             "#46039f"
            ],
            [
             0.2222222222222222,
             "#7201a8"
            ],
            [
             0.3333333333333333,
             "#9c179e"
            ],
            [
             0.4444444444444444,
             "#bd3786"
            ],
            [
             0.5555555555555556,
             "#d8576b"
            ],
            [
             0.6666666666666666,
             "#ed7953"
            ],
            [
             0.7777777777777778,
             "#fb9f3a"
            ],
            [
             0.8888888888888888,
             "#fdca26"
            ],
            [
             1,
             "#f0f921"
            ]
           ]
          },
          "colorway": [
           "#636efa",
           "#EF553B",
           "#00cc96",
           "#ab63fa",
           "#FFA15A",
           "#19d3f3",
           "#FF6692",
           "#B6E880",
           "#FF97FF",
           "#FECB52"
          ],
          "font": {
           "color": "#2a3f5f"
          },
          "geo": {
           "bgcolor": "white",
           "lakecolor": "white",
           "landcolor": "#E5ECF6",
           "showlakes": true,
           "showland": true,
           "subunitcolor": "white"
          },
          "hoverlabel": {
           "align": "left"
          },
          "hovermode": "closest",
          "mapbox": {
           "style": "light"
          },
          "paper_bgcolor": "white",
          "plot_bgcolor": "#E5ECF6",
          "polar": {
           "angularaxis": {
            "gridcolor": "white",
            "linecolor": "white",
            "ticks": ""
           },
           "bgcolor": "#E5ECF6",
           "radialaxis": {
            "gridcolor": "white",
            "linecolor": "white",
            "ticks": ""
           }
          },
          "scene": {
           "xaxis": {
            "backgroundcolor": "#E5ECF6",
            "gridcolor": "white",
            "gridwidth": 2,
            "linecolor": "white",
            "showbackground": true,
            "ticks": "",
            "zerolinecolor": "white"
           },
           "yaxis": {
            "backgroundcolor": "#E5ECF6",
            "gridcolor": "white",
            "gridwidth": 2,
            "linecolor": "white",
            "showbackground": true,
            "ticks": "",
            "zerolinecolor": "white"
           },
           "zaxis": {
            "backgroundcolor": "#E5ECF6",
            "gridcolor": "white",
            "gridwidth": 2,
            "linecolor": "white",
            "showbackground": true,
            "ticks": "",
            "zerolinecolor": "white"
           }
          },
          "shapedefaults": {
           "line": {
            "color": "#2a3f5f"
           }
          },
          "ternary": {
           "aaxis": {
            "gridcolor": "white",
            "linecolor": "white",
            "ticks": ""
           },
           "baxis": {
            "gridcolor": "white",
            "linecolor": "white",
            "ticks": ""
           },
           "bgcolor": "#E5ECF6",
           "caxis": {
            "gridcolor": "white",
            "linecolor": "white",
            "ticks": ""
           }
          },
          "title": {
           "x": 0.05
          },
          "xaxis": {
           "automargin": true,
           "gridcolor": "white",
           "linecolor": "white",
           "ticks": "",
           "title": {
            "standoff": 15
           },
           "zerolinecolor": "white",
           "zerolinewidth": 2
          },
          "yaxis": {
           "automargin": true,
           "gridcolor": "white",
           "linecolor": "white",
           "ticks": "",
           "title": {
            "standoff": 15
           },
           "zerolinecolor": "white",
           "zerolinewidth": 2
          }
         }
        },
        "xaxis": {
         "anchor": "y",
         "domain": [
          0,
          1
         ],
         "title": {
          "text": "0"
         }
        },
        "yaxis": {
         "anchor": "x",
         "domain": [
          0,
          1
         ],
         "title": {
          "text": "1"
         }
        }
       }
      },
      "text/html": [
       "<div>                            <div id=\"3f54ecdd-b9f6-498d-a010-98826a3493a5\" class=\"plotly-graph-div\" style=\"height:525px; width:100%;\"></div>            <script type=\"text/javascript\">                require([\"plotly\"], function(Plotly) {                    window.PLOTLYENV=window.PLOTLYENV || {};                                    if (document.getElementById(\"3f54ecdd-b9f6-498d-a010-98826a3493a5\")) {                    Plotly.newPlot(                        \"3f54ecdd-b9f6-498d-a010-98826a3493a5\",                        [{\"hovertemplate\": \"color=door_in_1<br>0=%{x}<br>1=%{y}<extra></extra>\", \"legendgroup\": \"door_in_1\", \"marker\": {\"color\": [0.82494, 0.88472, 0.106217], \"symbol\": \"circle\"}, \"mode\": \"markers\", \"name\": \"door_in_1\", \"orientation\": \"v\", \"showlegend\": true, \"type\": \"scatter\", \"x\": [282.50205783003923], \"xaxis\": \"x\", \"y\": [1012.9335613454781], \"yaxis\": \"y\"}, {\"hovertemplate\": \"color=door_in_2<br>0=%{x}<br>1=%{y}<extra></extra>\", \"legendgroup\": \"door_in_2\", \"marker\": {\"color\": [0.647257, 0.8584, 0.209861], \"symbol\": \"circle\"}, \"mode\": \"markers\", \"name\": \"door_in_2\", \"orientation\": \"v\", \"showlegend\": true, \"type\": \"scatter\", \"x\": [235.6502396865599], \"xaxis\": \"x\", \"y\": [711.4648053814843], \"yaxis\": \"y\"}, {\"hovertemplate\": \"color=faucet_handle_1<br>0=%{x}<br>1=%{y}<extra></extra>\", \"legendgroup\": \"faucet_handle_1\", \"marker\": {\"color\": [0.477504, 0.821444, 0.318195], \"symbol\": \"circle\"}, \"mode\": \"markers\", \"name\": \"faucet_handle_1\", \"orientation\": \"v\", \"showlegend\": true, \"type\": \"scatter\", \"x\": [-1072.8763657644795], \"xaxis\": \"x\", \"y\": [-284.3694004510275], \"yaxis\": \"y\"}, {\"hovertemplate\": \"color=faucet_handle_2<br>0=%{x}<br>1=%{y}<extra></extra>\", \"legendgroup\": \"faucet_handle_2\", \"marker\": {\"color\": [0.327796, 0.77398, 0.40664], \"symbol\": \"circle\"}, \"mode\": \"markers\", \"name\": \"faucet_handle_2\", \"orientation\": \"v\", \"showlegend\": true, \"type\": \"scatter\", \"x\": [1090.4232325379867], \"xaxis\": \"x\", \"y\": [-354.43716110837954], \"yaxis\": \"y\"}, {\"hovertemplate\": \"color=sink_floor_1<br>0=%{x}<br>1=%{y}<extra></extra>\", \"legendgroup\": \"sink_floor_1\", \"marker\": {\"color\": [0.20803, 0.718701, 0.472873], \"symbol\": \"circle\"}, \"mode\": \"markers\", \"name\": \"sink_floor_1\", \"orientation\": \"v\", \"showlegend\": true, \"type\": \"scatter\", \"x\": [-485.238409457185], \"xaxis\": \"x\", \"y\": [-203.60968045983182], \"yaxis\": \"y\"}, {\"hovertemplate\": \"color=sink_floor_2<br>0=%{x}<br>1=%{y}<extra></extra>\", \"legendgroup\": \"sink_floor_2\", \"marker\": {\"color\": [0.134692, 0.658636, 0.517649], \"symbol\": \"circle\"}, \"mode\": \"markers\", \"name\": \"sink_floor_2\", \"orientation\": \"v\", \"showlegend\": true, \"type\": \"scatter\", \"x\": [-549.7962286511357], \"xaxis\": \"x\", \"y\": [-242.47209494314103], \"yaxis\": \"y\"}, {\"hovertemplate\": \"color=soap_dispenser_1<br>0=%{x}<br>1=%{y}<extra></extra>\", \"legendgroup\": \"soap_dispenser_1\", \"marker\": {\"color\": [0.120565, 0.596422, 0.543611], \"symbol\": \"circle\"}, \"mode\": \"markers\", \"name\": \"soap_dispenser_1\", \"orientation\": \"v\", \"showlegend\": true, \"type\": \"scatter\", \"x\": [171.78748919622586], \"xaxis\": \"x\", \"y\": [723.3705677281772], \"yaxis\": \"y\"}, {\"hovertemplate\": \"color=stall_in_1<br>0=%{x}<br>1=%{y}<extra></extra>\", \"legendgroup\": \"stall_in_1\", \"marker\": {\"color\": [0.139147, 0.533812, 0.555298], \"symbol\": \"circle\"}, \"mode\": \"markers\", \"name\": \"stall_in_1\", \"orientation\": \"v\", \"showlegend\": true, \"type\": \"scatter\", \"x\": [97.19586424510965], \"xaxis\": \"x\", \"y\": [386.40698941103955], \"yaxis\": \"y\"}, {\"hovertemplate\": \"color=toilet_floor_1<br>0=%{x}<br>1=%{y}<extra></extra>\", \"legendgroup\": \"toilet_floor_1\", \"marker\": {\"color\": [0.163625, 0.471133, 0.558148], \"symbol\": \"circle\"}, \"mode\": \"markers\", \"name\": \"toilet_floor_1\", \"orientation\": \"v\", \"showlegend\": true, \"type\": \"scatter\", \"x\": [-472.79282292832244], \"xaxis\": \"x\", \"y\": [-182.35441605926823], \"yaxis\": \"y\"}, {\"hovertemplate\": \"color=toilet_floor_2<br>0=%{x}<br>1=%{y}<extra></extra>\", \"legendgroup\": \"toilet_floor_2\", \"marker\": {\"color\": [0.190631, 0.407061, 0.556089], \"symbol\": \"circle\"}, \"mode\": \"markers\", \"name\": \"toilet_floor_2\", \"orientation\": \"v\", \"showlegend\": true, \"type\": \"scatter\", \"x\": [-578.1517471534654], \"xaxis\": \"x\", \"y\": [-265.6749447299399], \"yaxis\": \"y\"}, {\"hovertemplate\": \"color=toilet_flush_handle_1<br>0=%{x}<br>1=%{y}<extra></extra>\", \"legendgroup\": \"toilet_flush_handle_1\", \"marker\": {\"color\": [0.221989, 0.339161, 0.548752], \"symbol\": \"circle\"}, \"mode\": \"markers\", \"name\": \"toilet_flush_handle_1\", \"orientation\": \"v\", \"showlegend\": true, \"type\": \"scatter\", \"x\": [-225.94170770291606], \"xaxis\": \"x\", \"y\": [-64.0557467562006], \"yaxis\": \"y\"}, {\"hovertemplate\": \"color=toilet_flush_handle_2<br>0=%{x}<br>1=%{y}<extra></extra>\", \"legendgroup\": \"toilet_flush_handle_2\", \"marker\": {\"color\": [0.253935, 0.265254, 0.529983], \"symbol\": \"circle\"}, \"mode\": \"markers\", \"name\": \"toilet_flush_handle_2\", \"orientation\": \"v\", \"showlegend\": true, \"type\": \"scatter\", \"x\": [489.01661095005136], \"xaxis\": \"x\", \"y\": [-229.3701591848969], \"yaxis\": \"y\"}, {\"hovertemplate\": \"color=toilet_seat_1<br>0=%{x}<br>1=%{y}<extra></extra>\", \"legendgroup\": \"toilet_seat_1\", \"marker\": {\"color\": [0.277134, 0.185228, 0.489898], \"symbol\": \"circle\"}, \"mode\": \"markers\", \"name\": \"toilet_seat_1\", \"orientation\": \"v\", \"showlegend\": true, \"type\": \"scatter\", \"x\": [-140.374093477979], \"xaxis\": \"x\", \"y\": [-199.53888319141936], \"yaxis\": \"y\"}, {\"hovertemplate\": \"color=toilet_seat_2<br>0=%{x}<br>1=%{y}<extra></extra>\", \"legendgroup\": \"toilet_seat_2\", \"marker\": {\"color\": [0.282656, 0.100196, 0.42216], \"symbol\": \"circle\"}, \"mode\": \"markers\", \"name\": \"toilet_seat_2\", \"orientation\": \"v\", \"showlegend\": true, \"type\": \"scatter\", \"x\": [1158.5958806895128], \"xaxis\": \"x\", \"y\": [-808.2934369820761], \"yaxis\": \"y\"}],                        {\"legend\": {\"title\": {\"text\": \"color\"}, \"tracegroupgap\": 0}, \"margin\": {\"t\": 60}, \"template\": {\"data\": {\"bar\": [{\"error_x\": {\"color\": \"#2a3f5f\"}, \"error_y\": {\"color\": \"#2a3f5f\"}, \"marker\": {\"line\": {\"color\": \"#E5ECF6\", \"width\": 0.5}}, \"type\": \"bar\"}], \"barpolar\": [{\"marker\": {\"line\": {\"color\": \"#E5ECF6\", \"width\": 0.5}}, \"type\": \"barpolar\"}], \"carpet\": [{\"aaxis\": {\"endlinecolor\": \"#2a3f5f\", \"gridcolor\": \"white\", \"linecolor\": \"white\", \"minorgridcolor\": \"white\", \"startlinecolor\": \"#2a3f5f\"}, \"baxis\": {\"endlinecolor\": \"#2a3f5f\", \"gridcolor\": \"white\", \"linecolor\": \"white\", \"minorgridcolor\": \"white\", \"startlinecolor\": \"#2a3f5f\"}, \"type\": \"carpet\"}], \"choropleth\": [{\"colorbar\": {\"outlinewidth\": 0, \"ticks\": \"\"}, \"type\": \"choropleth\"}], \"contour\": [{\"colorbar\": {\"outlinewidth\": 0, \"ticks\": \"\"}, \"colorscale\": [[0.0, \"#0d0887\"], [0.1111111111111111, \"#46039f\"], [0.2222222222222222, \"#7201a8\"], [0.3333333333333333, \"#9c179e\"], [0.4444444444444444, \"#bd3786\"], [0.5555555555555556, \"#d8576b\"], [0.6666666666666666, \"#ed7953\"], [0.7777777777777778, \"#fb9f3a\"], [0.8888888888888888, \"#fdca26\"], [1.0, \"#f0f921\"]], \"type\": \"contour\"}], \"contourcarpet\": [{\"colorbar\": {\"outlinewidth\": 0, \"ticks\": \"\"}, \"type\": \"contourcarpet\"}], \"heatmap\": [{\"colorbar\": {\"outlinewidth\": 0, \"ticks\": \"\"}, \"colorscale\": [[0.0, \"#0d0887\"], [0.1111111111111111, \"#46039f\"], [0.2222222222222222, \"#7201a8\"], [0.3333333333333333, \"#9c179e\"], [0.4444444444444444, \"#bd3786\"], [0.5555555555555556, \"#d8576b\"], [0.6666666666666666, \"#ed7953\"], [0.7777777777777778, \"#fb9f3a\"], [0.8888888888888888, \"#fdca26\"], [1.0, \"#f0f921\"]], \"type\": \"heatmap\"}], \"heatmapgl\": [{\"colorbar\": {\"outlinewidth\": 0, \"ticks\": \"\"}, \"colorscale\": [[0.0, \"#0d0887\"], [0.1111111111111111, \"#46039f\"], [0.2222222222222222, \"#7201a8\"], [0.3333333333333333, \"#9c179e\"], [0.4444444444444444, \"#bd3786\"], [0.5555555555555556, \"#d8576b\"], [0.6666666666666666, \"#ed7953\"], [0.7777777777777778, \"#fb9f3a\"], [0.8888888888888888, \"#fdca26\"], [1.0, \"#f0f921\"]], \"type\": \"heatmapgl\"}], \"histogram\": [{\"marker\": {\"colorbar\": {\"outlinewidth\": 0, \"ticks\": \"\"}}, \"type\": \"histogram\"}], \"histogram2d\": [{\"colorbar\": {\"outlinewidth\": 0, \"ticks\": \"\"}, \"colorscale\": [[0.0, \"#0d0887\"], [0.1111111111111111, \"#46039f\"], [0.2222222222222222, \"#7201a8\"], [0.3333333333333333, \"#9c179e\"], [0.4444444444444444, \"#bd3786\"], [0.5555555555555556, \"#d8576b\"], [0.6666666666666666, \"#ed7953\"], [0.7777777777777778, \"#fb9f3a\"], [0.8888888888888888, \"#fdca26\"], [1.0, \"#f0f921\"]], \"type\": \"histogram2d\"}], \"histogram2dcontour\": [{\"colorbar\": {\"outlinewidth\": 0, \"ticks\": \"\"}, \"colorscale\": [[0.0, \"#0d0887\"], [0.1111111111111111, \"#46039f\"], [0.2222222222222222, \"#7201a8\"], [0.3333333333333333, \"#9c179e\"], [0.4444444444444444, \"#bd3786\"], [0.5555555555555556, \"#d8576b\"], [0.6666666666666666, \"#ed7953\"], [0.7777777777777778, \"#fb9f3a\"], [0.8888888888888888, \"#fdca26\"], [1.0, \"#f0f921\"]], \"type\": \"histogram2dcontour\"}], \"mesh3d\": [{\"colorbar\": {\"outlinewidth\": 0, \"ticks\": \"\"}, \"type\": \"mesh3d\"}], \"parcoords\": [{\"line\": {\"colorbar\": {\"outlinewidth\": 0, \"ticks\": \"\"}}, \"type\": \"parcoords\"}], \"pie\": [{\"automargin\": true, \"type\": \"pie\"}], \"scatter\": [{\"marker\": {\"colorbar\": {\"outlinewidth\": 0, \"ticks\": \"\"}}, \"type\": \"scatter\"}], \"scatter3d\": [{\"line\": {\"colorbar\": {\"outlinewidth\": 0, \"ticks\": \"\"}}, \"marker\": {\"colorbar\": {\"outlinewidth\": 0, \"ticks\": \"\"}}, \"type\": \"scatter3d\"}], \"scattercarpet\": [{\"marker\": {\"colorbar\": {\"outlinewidth\": 0, \"ticks\": \"\"}}, \"type\": \"scattercarpet\"}], \"scattergeo\": [{\"marker\": {\"colorbar\": {\"outlinewidth\": 0, \"ticks\": \"\"}}, \"type\": \"scattergeo\"}], \"scattergl\": [{\"marker\": {\"colorbar\": {\"outlinewidth\": 0, \"ticks\": \"\"}}, \"type\": \"scattergl\"}], \"scattermapbox\": [{\"marker\": {\"colorbar\": {\"outlinewidth\": 0, \"ticks\": \"\"}}, \"type\": \"scattermapbox\"}], \"scatterpolar\": [{\"marker\": {\"colorbar\": {\"outlinewidth\": 0, \"ticks\": \"\"}}, \"type\": \"scatterpolar\"}], \"scatterpolargl\": [{\"marker\": {\"colorbar\": {\"outlinewidth\": 0, \"ticks\": \"\"}}, \"type\": \"scatterpolargl\"}], \"scatterternary\": [{\"marker\": {\"colorbar\": {\"outlinewidth\": 0, \"ticks\": \"\"}}, \"type\": \"scatterternary\"}], \"surface\": [{\"colorbar\": {\"outlinewidth\": 0, \"ticks\": \"\"}, \"colorscale\": [[0.0, \"#0d0887\"], [0.1111111111111111, \"#46039f\"], [0.2222222222222222, \"#7201a8\"], [0.3333333333333333, \"#9c179e\"], [0.4444444444444444, \"#bd3786\"], [0.5555555555555556, \"#d8576b\"], [0.6666666666666666, \"#ed7953\"], [0.7777777777777778, \"#fb9f3a\"], [0.8888888888888888, \"#fdca26\"], [1.0, \"#f0f921\"]], \"type\": \"surface\"}], \"table\": [{\"cells\": {\"fill\": {\"color\": \"#EBF0F8\"}, \"line\": {\"color\": \"white\"}}, \"header\": {\"fill\": {\"color\": \"#C8D4E3\"}, \"line\": {\"color\": \"white\"}}, \"type\": \"table\"}]}, \"layout\": {\"annotationdefaults\": {\"arrowcolor\": \"#2a3f5f\", \"arrowhead\": 0, \"arrowwidth\": 1}, \"coloraxis\": {\"colorbar\": {\"outlinewidth\": 0, \"ticks\": \"\"}}, \"colorscale\": {\"diverging\": [[0, \"#8e0152\"], [0.1, \"#c51b7d\"], [0.2, \"#de77ae\"], [0.3, \"#f1b6da\"], [0.4, \"#fde0ef\"], [0.5, \"#f7f7f7\"], [0.6, \"#e6f5d0\"], [0.7, \"#b8e186\"], [0.8, \"#7fbc41\"], [0.9, \"#4d9221\"], [1, \"#276419\"]], \"sequential\": [[0.0, \"#0d0887\"], [0.1111111111111111, \"#46039f\"], [0.2222222222222222, \"#7201a8\"], [0.3333333333333333, \"#9c179e\"], [0.4444444444444444, \"#bd3786\"], [0.5555555555555556, \"#d8576b\"], [0.6666666666666666, \"#ed7953\"], [0.7777777777777778, \"#fb9f3a\"], [0.8888888888888888, \"#fdca26\"], [1.0, \"#f0f921\"]], \"sequentialminus\": [[0.0, \"#0d0887\"], [0.1111111111111111, \"#46039f\"], [0.2222222222222222, \"#7201a8\"], [0.3333333333333333, \"#9c179e\"], [0.4444444444444444, \"#bd3786\"], [0.5555555555555556, \"#d8576b\"], [0.6666666666666666, \"#ed7953\"], [0.7777777777777778, \"#fb9f3a\"], [0.8888888888888888, \"#fdca26\"], [1.0, \"#f0f921\"]]}, \"colorway\": [\"#636efa\", \"#EF553B\", \"#00cc96\", \"#ab63fa\", \"#FFA15A\", \"#19d3f3\", \"#FF6692\", \"#B6E880\", \"#FF97FF\", \"#FECB52\"], \"font\": {\"color\": \"#2a3f5f\"}, \"geo\": {\"bgcolor\": \"white\", \"lakecolor\": \"white\", \"landcolor\": \"#E5ECF6\", \"showlakes\": true, \"showland\": true, \"subunitcolor\": \"white\"}, \"hoverlabel\": {\"align\": \"left\"}, \"hovermode\": \"closest\", \"mapbox\": {\"style\": \"light\"}, \"paper_bgcolor\": \"white\", \"plot_bgcolor\": \"#E5ECF6\", \"polar\": {\"angularaxis\": {\"gridcolor\": \"white\", \"linecolor\": \"white\", \"ticks\": \"\"}, \"bgcolor\": \"#E5ECF6\", \"radialaxis\": {\"gridcolor\": \"white\", \"linecolor\": \"white\", \"ticks\": \"\"}}, \"scene\": {\"xaxis\": {\"backgroundcolor\": \"#E5ECF6\", \"gridcolor\": \"white\", \"gridwidth\": 2, \"linecolor\": \"white\", \"showbackground\": true, \"ticks\": \"\", \"zerolinecolor\": \"white\"}, \"yaxis\": {\"backgroundcolor\": \"#E5ECF6\", \"gridcolor\": \"white\", \"gridwidth\": 2, \"linecolor\": \"white\", \"showbackground\": true, \"ticks\": \"\", \"zerolinecolor\": \"white\"}, \"zaxis\": {\"backgroundcolor\": \"#E5ECF6\", \"gridcolor\": \"white\", \"gridwidth\": 2, \"linecolor\": \"white\", \"showbackground\": true, \"ticks\": \"\", \"zerolinecolor\": \"white\"}}, \"shapedefaults\": {\"line\": {\"color\": \"#2a3f5f\"}}, \"ternary\": {\"aaxis\": {\"gridcolor\": \"white\", \"linecolor\": \"white\", \"ticks\": \"\"}, \"baxis\": {\"gridcolor\": \"white\", \"linecolor\": \"white\", \"ticks\": \"\"}, \"bgcolor\": \"#E5ECF6\", \"caxis\": {\"gridcolor\": \"white\", \"linecolor\": \"white\", \"ticks\": \"\"}}, \"title\": {\"x\": 0.05}, \"xaxis\": {\"automargin\": true, \"gridcolor\": \"white\", \"linecolor\": \"white\", \"ticks\": \"\", \"title\": {\"standoff\": 15}, \"zerolinecolor\": \"white\", \"zerolinewidth\": 2}, \"yaxis\": {\"automargin\": true, \"gridcolor\": \"white\", \"linecolor\": \"white\", \"ticks\": \"\", \"title\": {\"standoff\": 15}, \"zerolinecolor\": \"white\", \"zerolinewidth\": 2}}}, \"xaxis\": {\"anchor\": \"y\", \"domain\": [0.0, 1.0], \"title\": {\"text\": \"0\"}}, \"yaxis\": {\"anchor\": \"x\", \"domain\": [0.0, 1.0], \"title\": {\"text\": \"1\"}}},                        {\"responsive\": true}                    ).then(function(){\n",
       "                            \n",
       "var gd = document.getElementById('3f54ecdd-b9f6-498d-a010-98826a3493a5');\n",
       "var x = new MutationObserver(function (mutations, observer) {{\n",
       "        var display = window.getComputedStyle(gd).display;\n",
       "        if (!display || display === 'none') {{\n",
       "            console.log([gd, 'removed!']);\n",
       "            Plotly.purge(gd);\n",
       "            observer.disconnect();\n",
       "        }}\n",
       "}});\n",
       "\n",
       "// Listen for the removal of the full notebook cells\n",
       "var notebookContainer = gd.closest('#notebook-container');\n",
       "if (notebookContainer) {{\n",
       "    x.observe(notebookContainer, {childList: true});\n",
       "}}\n",
       "\n",
       "// Listen for the clearing of the current output cell\n",
       "var outputEl = gd.closest('.output');\n",
       "if (outputEl) {{\n",
       "    x.observe(outputEl, {childList: true});\n",
       "}}\n",
       "\n",
       "                        })                };                });            </script>        </div>"
      ]
     },
     "metadata": {},
     "output_type": "display_data"
    }
   ],
   "source": [
    "import plotly.express as px\n",
    "from sklearn.decomposition import PCA\n",
    "\n",
    "\"\"\"\n",
    "ACP mieux\n",
    "\"\"\" \n",
    "\n",
    "bacternames = dfTaxo['Taxo'] #this column has microbes names\n",
    "dfTaxo_tr = dfTaxo.T # transpose, rows will be locations, columns the microbes\n",
    "dfTaxo_tr.columns = bacternames\n",
    "y = np.array([0,0,1,1,2,2,3,4,5,5,6,6,7,7]) #localisation categories\n",
    "dfTaxo_tr\n",
    "dfTaxo_trnew = dfTaxo_tr.drop(index=['Taxo']) # delete this line :  'Taxo  Propionibacterimu  Fiedmanniella .....'\n",
    "X = dfTaxo_trnew.values\n",
    "pca = PCA(n_components=2)\n",
    "components = pca.fit_transform(X,y)\n",
    "\n",
    "fig = px.scatter(components, x=0, y=1 , color = dfTaxo_trnew.index,\n",
    "                 color_discrete_sequence=cols)  #pourqoui la palette ne s'applique pas???\n",
    "fig.show()"
   ]
  },
  {
   "cell_type": "code",
   "execution_count": 118,
   "metadata": {},
   "outputs": [
    {
     "name": "stdout",
     "output_type": "stream",
     "text": [
      "Empty DataFrame\n",
      "Columns: []\n",
      "Index: []\n"
     ]
    }
   ],
   "source": [
    "print(dfTaxo_trnew.cov())"
   ]
  },
  {
   "cell_type": "code",
   "execution_count": 143,
   "metadata": {},
   "outputs": [
    {
     "data": {
      "application/vnd.plotly.v1+json": {
       "config": {
        "plotlyServerURL": "https://plot.ly"
       },
       "data": [
        {
         "hovertemplate": "0=%{x}<br>1=%{y}<br>color=%{marker.color}<extra></extra>",
         "legendgroup": "",
         "marker": {
          "color": [
           5,
           6,
           7,
           8,
           9,
           10,
           11,
           12,
           13,
           14,
           15,
           16,
           18,
           19,
           20,
           22,
           24,
           25,
           26,
           27,
           28,
           29,
           30,
           32,
           33,
           34,
           35,
           36,
           37,
           39,
           41,
           42,
           43,
           44,
           45,
           46,
           47,
           48,
           49,
           50,
           51,
           52,
           53,
           54,
           55,
           56,
           58,
           60,
           61,
           62,
           63,
           64,
           65,
           67,
           68,
           69,
           70,
           71,
           73,
           75,
           76,
           77,
           78,
           79,
           80,
           82,
           84,
           85,
           86,
           87,
           88,
           89,
           90,
           91,
           92,
           93,
           94,
           95,
           96,
           97,
           98,
           99,
           100,
           101,
           102,
           104,
           106,
           108,
           110,
           112,
           113,
           114,
           116,
           118,
           120,
           122,
           123,
           125,
           126,
           127,
           129,
           130,
           131,
           132,
           133,
           135,
           137,
           139,
           141,
           143,
           144,
           145,
           146,
           147,
           148,
           150,
           151,
           152,
           154,
           156,
           157,
           159,
           161,
           164,
           167,
           168,
           169,
           170,
           171,
           172,
           175,
           177,
           179,
           182,
           185,
           187,
           189,
           192,
           195,
           196,
           199,
           202,
           206,
           211,
           212,
           213,
           214,
           215,
           216,
           218,
           219,
           220,
           221,
           222,
           224,
           227,
           228,
           229,
           230,
           231,
           232,
           233,
           234,
           237,
           238,
           239,
           240,
           241,
           242,
           243,
           244,
           245,
           246,
           248,
           249,
           251,
           254,
           255,
           256,
           257,
           260,
           262,
           265,
           268,
           269,
           272,
           273,
           276,
           279,
           281,
           284,
           287,
           290,
           294,
           295,
           296,
           298,
           299,
           300,
           301,
           302,
           304,
           306,
           307,
           308,
           309,
           310,
           311,
           312,
           313,
           314,
           315,
           316,
           317,
           318,
           319,
           320,
           321,
           322,
           323,
           325,
           326,
           327,
           328,
           329,
           330,
           331,
           332,
           334,
           336,
           337,
           338,
           340,
           342,
           344,
           347,
           348,
           349,
           350,
           351,
           354,
           355,
           358,
           359,
           360,
           361,
           364,
           367,
           368,
           369,
           370,
           371,
           372,
           375,
           379,
           380,
           381,
           382,
           383,
           384,
           385,
           386,
           387,
           388,
           389,
           391,
           392,
           393,
           394,
           395,
           397,
           399,
           401,
           404,
           405,
           406,
           407,
           408,
           409,
           410,
           411,
           413,
           414,
           415,
           416,
           417,
           418,
           420,
           423,
           424,
           425,
           426,
           428,
           430,
           431,
           433,
           435,
           437,
           439,
           440,
           441,
           442,
           444,
           446,
           447,
           448,
           449,
           450,
           452,
           453,
           454,
           456,
           458,
           460,
           462,
           463,
           464,
           466,
           468,
           470,
           472,
           474,
           475,
           477,
           478,
           480,
           483,
           486,
           487,
           488,
           489,
           490,
           491,
           492,
           493,
           494,
           495,
           498,
           499,
           500,
           501,
           502,
           503,
           504,
           507,
           510,
           513,
           516,
           519,
           523,
           527,
           531,
           532,
           534,
           538,
           542,
           546,
           548,
           549,
           552,
           555,
           558,
           563,
           564,
           565,
           566,
           568,
           569,
           570,
           571,
           572,
           573,
           574,
           576,
           578,
           580,
           582,
           583,
           585,
           586,
           589,
           590,
           592,
           593,
           595,
           596,
           597,
           598,
           599,
           600,
           602,
           604,
           605,
           606,
           607,
           608,
           610,
           611,
           613,
           616,
           620,
           621,
           622,
           623,
           624,
           626,
           627,
           628,
           629,
           630,
           631,
           632,
           633,
           634,
           635,
           636,
           638,
           639,
           640,
           641,
           642,
           643,
           644,
           645,
           647,
           649,
           650,
           651,
           653,
           655,
           656,
           657,
           658,
           660,
           661,
           663,
           665,
           667,
           668,
           669,
           673,
           674,
           675,
           676,
           677,
           681,
           685,
           686,
           687,
           688,
           693,
           694,
           695,
           696,
           697,
           698,
           699,
           700,
           701,
           702,
           703,
           704,
           705,
           706,
           708,
           710,
           714,
           715,
           716,
           717,
           718,
           719,
           720,
           721,
           722,
           723,
           724,
           725,
           727,
           728,
           729,
           730,
           731,
           732,
           734,
           736,
           738,
           742,
           743,
           744,
           746,
           747,
           748,
           749,
           750,
           751,
           753,
           755,
           757,
           761,
           765,
           766,
           767,
           768,
           769,
           770,
           771,
           772,
           773,
           774,
           775,
           776,
           777,
           778,
           780,
           782,
           786,
           790,
           794,
           799,
           804,
           809,
           810,
           812,
           814,
           817,
           820,
           823,
           828,
           833,
           838,
           843,
           846,
           849,
           853,
           857,
           860,
           863,
           867,
           871,
           875,
           879,
           883,
           887,
           892,
           897,
           898,
           899,
           901,
           903,
           908,
           913,
           918,
           922,
           924,
           927,
           931,
           935,
           940,
           945,
           950,
           955,
           959,
           963,
           968,
           973,
           974,
           975,
           976,
           980,
           984,
           989,
           994,
           999,
           1004,
           1009,
           1014
          ],
          "coloraxis": "coloraxis",
          "symbol": "circle"
         },
         "mode": "markers",
         "name": "",
         "orientation": "v",
         "showlegend": false,
         "type": "scatter",
         "x": [
          1905.489688392184,
          13.886312986288116,
          -13.194129640603423,
          -2.544133481573577,
          -16.29258790531218,
          -16.302511945339685,
          -16.568257482214232,
          -16.635781496884224,
          -16.458162539793843,
          -16.70234451346291,
          -16.623784217637393,
          -16.701837984022685,
          1896.9963872956607,
          -16.58035147404327,
          -14.967348924429388,
          130.0372785972429,
          32.36727697763066,
          -0.12505089937531708,
          39.11375544087027,
          8.066550706610782,
          -5.153077117057791,
          -9.643975320543799,
          -16.701837984022685,
          2.2404181324821355,
          -0.975552644985026,
          -14.826593795880683,
          -16.04754164613402,
          -16.50275464597442,
          -16.66878621877251,
          141.18812439645035,
          -7.495311988469383,
          -11.839528970272736,
          -13.551332689270719,
          -15.458589978711913,
          -16.309239730624437,
          -16.255637539145766,
          -16.124436049932875,
          -16.444290307726313,
          -16.47724543849081,
          -16.722438001374968,
          -16.5678005438978,
          -15.107520060956594,
          -16.25136567094485,
          -16.756910250794782,
          -16.768401000601376,
          -16.756910250794782,
          1.059288453960485,
          -15.953076077743537,
          -5.201427209685678,
          -6.024242474285266,
          -14.191512486928442,
          -15.23593121333337,
          -16.455446798764484,
          -12.606432182460326,
          -15.572660401305251,
          -15.449036932554739,
          -16.20465438883314,
          -15.98014363961812,
          3.87310746367233,
          42.927914088679515,
          -13.19229006021755,
          -13.714482867012054,
          -15.762427817752146,
          -16.10158246197076,
          -16.41304593858228,
          -4.363215560244678,
          -12.405630364386397,
          -12.659556487722858,
          6.534316021476077,
          -8.258715893484545,
          -14.674673115025557,
          -6.9256196804219154,
          -15.337930025185068,
          -7.123336520605612,
          -14.981599481472317,
          -12.05939023542072,
          -15.979411919776235,
          -16.246431637114416,
          -16.710947251568367,
          -16.389622918481507,
          -15.789073648992046,
          -16.325259227034724,
          -16.437204688276168,
          -16.66878621877251,
          -16.66878621877251,
          -10.919589065356869,
          -13.952636632406374,
          -6.596257623468599,
          -11.888975014254715,
          -9.982941521393528,
          -13.648426379873587,
          -14.574174304209787,
          -7.315458570267942,
          -15.712099595026059,
          -16.378184229464058,
          -11.350766563529723,
          -16.061861741474516,
          -14.900435464462106,
          -16.568811133112877,
          -16.768401000601376,
          -14.666057148681617,
          -16.387519589414822,
          -16.701837984022685,
          -16.71337832495308,
          -16.60523000773858,
          -15.806556895477502,
          -16.277198554589344,
          -13.577961782520115,
          -15.620135217996948,
          -14.758145499709633,
          -16.112535405171723,
          -16.647778776131045,
          -16.646864899498176,
          -16.701837984022685,
          -16.71337832495308,
          -15.79439910019411,
          -16.49162419999857,
          -16.71337832495308,
          -16.38051866836309,
          -16.479626920751738,
          -16.66878621877251,
          -16.70188757514648,
          -16.701837984022685,
          -11.90811427161061,
          -9.60094692560472,
          -14.447825532532178,
          -11.675893468227414,
          -16.55768068713703,
          -16.563595115978984,
          -16.67174343319349,
          -14.02066667217459,
          -15.22857641768188,
          -16.44712872830367,
          -15.303914714081696,
          -15.520371306543922,
          -15.519339164735252,
          -15.021119029981442,
          -16.710947251568367,
          -14.999634925949012,
          -16.66878621877251,
          -12.960563310052885,
          -16.701837984022685,
          -14.86269318870596,
          651.0561629286889,
          138.34454157794096,
          -7.350459025051567,
          -15.090575351624885,
          -15.672378022244255,
          -16.701837984022685,
          30.728805528293677,
          85.74360732459735,
          -11.814411890812131,
          -16.756910250794782,
          -16.70234451346291,
          -16.701837984022685,
          47.67929314751539,
          -8.156874104694255,
          -12.92723876512759,
          -11.843661060163262,
          -7.305144660658905,
          -16.12489298824931,
          -16.470616757357107,
          -16.66878621877251,
          -12.545356313587222,
          -4.144085951106256,
          -0.22360855295714524,
          -13.648172568402444,
          -12.33622955146185,
          -15.080507653338211,
          -16.323258266397968,
          -16.548885423403867,
          -16.745419500988177,
          -16.713835263269516,
          -16.38015836453234,
          -15.918692413454657,
          -16.768401000601376,
          7.439551562289272,
          -4.436672678295681,
          -11.826773897103866,
          -13.712098404892581,
          -10.68518554210858,
          -16.55823425993915,
          -12.116055662522106,
          -15.233052218141031,
          -16.497538628840527,
          -15.553728197049612,
          -16.548885423403867,
          -13.47428260209541,
          -16.401165729077267,
          -16.70188757514648,
          -15.789073648992046,
          -16.701837984022685,
          -16.701837984022685,
          193.36997817862732,
          -15.789073648992046,
          -16.701837984022685,
          14.462971402903053,
          -7.523649911343969,
          -14.606125102673557,
          -16.66878621877251,
          -16.701837984022685,
          6.008239145716865,
          2.316576375583285,
          -5.827281318746328,
          9.750149433908694,
          -3.937898058880592,
          -4.641861087313907,
          -3.7594489621098157,
          -14.970095008818527,
          -14.021023755351647,
          -15.63861159492037,
          -15.32523844264081,
          -8.710990282588796,
          -16.66741532572667,
          -15.928621754672195,
          -16.256240781168206,
          -16.623784217637393,
          -16.745419500988177,
          -16.66878621877251,
          -15.820719514359002,
          -4.638278677601261,
          4.684560396308876,
          -3.135140349269787,
          -14.931014307277069,
          -14.402685885151064,
          -16.324678750567596,
          -16.315668587172965,
          -16.71337832495308,
          -0.8633214630081946,
          -10.477456462232638,
          -14.53662637778259,
          -16.66878621877251,
          -15.31008727273263,
          -15.365931688603387,
          -16.623784217637393,
          -1.2978945064247018,
          -4.237508127319047,
          -14.57881687945379,
          -16.41304593858228,
          -16.548885423403867,
          -6.030257675827242,
          -10.59943077318853,
          -11.885156642587576,
          -14.196293739548,
          -16.480180493553856,
          -16.713835263269516,
          -14.82386842949102,
          -16.39018158680742,
          -15.679354314930887,
          -16.117897476003268,
          -16.756910250794782,
          -16.560637901558007,
          -16.41304593858228,
          -15.950261068914596,
          201.4839206753191,
          -11.016161678274273,
          -0.4279137751251116,
          -4.5591319051697266,
          11.858964593876875,
          8.371114973596796,
          8.884275183879044,
          -14.842780281063206,
          -13.626394496672821,
          -16.556260202967405,
          -16.713835263269516,
          -15.95834564980214,
          -15.599384208119499,
          -15.662043187725503,
          -16.768401000601376,
          -16.768401000601376,
          -11.587463924855678,
          -8.01090146806038,
          -16.091860834595167,
          64.22341271756936,
          -13.603794739640396,
          -9.641474586660312,
          -12.018910526305,
          -16.353428375316756,
          -15.24718730871002,
          -16.58986808878159,
          -16.71337832495308,
          -8.128026373248156,
          -12.208550498703056,
          -15.362472876812909,
          -16.043491724084532,
          -16.756910250794782,
          -16.768401000601376,
          -16.623883399884974,
          33.530293138682964,
          -5.6944268516348355,
          -5.294590830679928,
          -12.79507757332495,
          -3.7413583815084483,
          36.68577723254153,
          -15.606571392186872,
          29.580772755231628,
          -15.270559456985485,
          -9.075592288914251,
          -12.586026118966966,
          -16.45912600755051,
          -14.108277012351918,
          -16.701837984022685,
          -11.575433516836044,
          -2.1637134301266445,
          -16.6228232195461,
          -16.756910250794782,
          -16.71337832495308,
          -16.768401000601376,
          -11.87179974347889,
          -12.902256042964828,
          -16.301940406946816,
          -12.431510395293667,
          -13.449916576217545,
          -16.034960736460803,
          -11.330392192620339,
          -16.22590082248196,
          -15.870626703661475,
          -13.845125255802396,
          -16.467726275990586,
          -16.556260202967405,
          -16.456645421138532,
          -15.873112338408296,
          -16.317879096399754,
          -16.58126535067614,
          -16.49162419999857,
          -16.64732183781461,
          20.713529239728953,
          7.463601083065389,
          1.3196631930037783,
          -3.740316226716689,
          -16.337985547765737,
          -15.774685527708852,
          -16.630512002922146,
          -15.830883243074219,
          -16.600852309147974,
          -16.756910250794782,
          -16.71337832495308,
          13.566703697536639,
          3.4388556706817406,
          4.118582433838977,
          -6.569333239823743,
          -9.759377777960387,
          -15.989484576982042,
          -16.756910250794782,
          19.357837318142884,
          1.0011970174497524,
          -16.133399091869084,
          -16.636288026324443,
          -16.713835263269516,
          89.2467442085324,
          -7.299747050125647,
          -14.382024841407372,
          -15.487214771594704,
          -16.701837984022685,
          -16.278353982710374,
          -16.23915016433549,
          -16.623784217637393,
          -16.745419500988177,
          -16.713835263269516,
          -16.317879096399754,
          -16.768401000601376,
          -16.768401000601376,
          501.2206081663485,
          -16.268956198411185,
          -16.713835263269516,
          -16.713835263269516,
          -11.600209117347205,
          -15.462873623829937,
          -15.601300548545593,
          -16.145490535936226,
          -16.67174343319349,
          -16.55768068713703,
          -16.701837984022685,
          4.036666043990641,
          -9.829722661172857,
          -7.565773306000469,
          -9.172563578009203,
          -15.679354314930887,
          -16.317879096399754,
          -16.713835263269516,
          152.99835789999565,
          3.028085354719501,
          22.6733927756938,
          -16.701837984022685,
          0.2588754688644211,
          -15.828157380635075,
          -15.736078813787385,
          -16.41304593858228,
          -16.28448269970001,
          -16.492825304756877,
          -3.3831248658125457,
          -13.79507676440558,
          -14.224122656273892,
          -15.789073648992046,
          -16.28448269970001,
          -16.492825304756877,
          -15.860269085389202,
          -16.60272973163404,
          -16.127260402698596,
          -16.67174343319349,
          143.53752616802475,
          225.8542120171354,
          34.67692898774348,
          -14.78479189874075,
          -16.455446798764484,
          -1.3325033224677756,
          -4.853278098088089,
          -13.26963476418418,
          -14.217509362987835,
          -11.496643241144826,
          2.946103245039757,
          -14.254652546830469,
          -10.226186363936487,
          -14.609812372920699,
          -16.214153695399254,
          -15.751796409941464,
          -3.580337628565149,
          -9.188444865187797,
          -16.364054839614273,
          -16.05833251943252,
          -15.22740975582482,
          -16.38347588278407,
          -16.424653836227225,
          -16.67174343319349,
          -4.91866961536865,
          -8.698434258808494,
          -16.645804719159305,
          -16.701837984022685,
          4.3355674076423645,
          -12.974122703577356,
          -13.468600533036167,
          -15.887968904702177,
          -16.71337832495308,
          -14.013801606212686,
          -16.768401000601376,
          -15.050823399556991,
          -14.945662691279486,
          -15.312508503105189,
          -16.325259227034724,
          -16.66878621877251,
          -7.550256441953392,
          -12.570108201217222,
          -14.945662691279486,
          -15.759521172025998,
          -16.67174343319349,
          -9.255501823534182,
          -14.446703905176857,
          -16.18069203519453,
          -16.046200126756588,
          -16.71337832495308,
          15.92195407756283,
          -3.0643183550677224,
          -11.927761350645236,
          -12.794860201993279,
          -4.9863025121629585,
          -16.30357459534393,
          -12.91795346890876,
          -15.05749307650133,
          -15.840154659881895,
          -15.34455952215244,
          -16.557270792182486,
          -16.08687276939564,
          -13.642234761079475,
          -16.713835263269516,
          -16.522897725010253,
          -16.590732452387215,
          10.451032139230058,
          -11.372475889683093,
          13.05578267458028,
          -12.473895065641353,
          -12.86159099877985,
          -16.060544135309378,
          -16.19426810929916,
          -16.733928751181573,
          -16.690347234216087,
          -16.446575155501566,
          -16.713835263269516,
          -16.71337832495308,
          -4.197065605203146,
          -11.375005968290935,
          -9.159596691767693,
          -14.224792730482847,
          -16.5357593678627,
          -16.46970288072423,
          -16.66787226404311,
          -16.621452326500254,
          -16.768401000601376,
          43.197781966944476,
          -14.945662691279486,
          -14.996144845825057,
          9.80040776898573,
          -16.710947251568367,
          -15.989462224676766,
          -16.66878621877251,
          -16.67174343319349,
          -16.623784217637393,
          11.095173209521407,
          -15.593539190351693,
          -16.49412447610311,
          3.6690399813991594,
          22.100551477403332,
          -13.605544892503257,
          -15.366427964803947,
          -14.059119702015055,
          -16.624797276517842,
          -16.00270660176178,
          -16.745419500988177,
          -16.346647113203822,
          -16.690396825339874,
          -16.70188757514648,
          -16.701837984022685,
          -16.768401000601376,
          -16.701837984022685,
          -16.713835263269516,
          -16.55768068713703,
          -16.646864899498176,
          -13.954844589863558,
          -8.548466459710578,
          -16.612849588394802,
          1.5049424350752079,
          -0.07977489091434009,
          12.130841517735197,
          -16.701837984022685,
          -16.16953468555367,
          -16.469245942407795,
          -16.358597349088758,
          -15.44262266541414,
          -16.647778776131045,
          -4.227961917636739,
          71.45751106276802,
          -8.196991151411126,
          -10.752447729831331,
          -14.628776986411346,
          -14.657312353978783,
          -14.301174217394067,
          -16.320323133238393,
          -16.563595115978984,
          -16.690396825339874,
          -12.930506404631368,
          -15.918692413454657,
          -16.358140410772318,
          -16.70188757514648,
          -16.768401000601376,
          -16.768401000601376,
          -10.177363500432483,
          -10.594428027413473,
          -10.890871949837775,
          -16.481334554950273,
          -4.731362780626429,
          -15.918692413454657,
          -12.879606210159317,
          -11.23252529487819,
          -16.231426070906153,
          -16.756910250794782,
          -16.70234451346291,
          -16.768401000601376,
          -16.756910250794782,
          -16.713835263269516,
          -16.687965751955154,
          -9.76504060480545,
          -16.245280058102264,
          -15.05927539438284,
          -16.563595115978984,
          -16.768401000601376,
          -16.6228232195461,
          -16.621402735376464,
          -16.756910250794782,
          -16.679363013849706,
          -16.768401000601376,
          -16.657295468965916,
          -16.756910250794782,
          -15.413159031091288,
          -16.383552827577184,
          -16.13720434940518,
          -16.563595115978984,
          -16.646864899498176,
          -16.622823219546095
         ],
         "xaxis": "x",
         "y": [
          328.57193905024155,
          62.542450754431876,
          0.6816268149796593,
          20.206543173186848,
          -5.327680146308907,
          -5.393503376529899,
          -6.318609069728527,
          -6.425659496202416,
          -5.908177577671039,
          -6.664821783403314,
          -6.373907842639945,
          -6.633278327798353,
          -1016.6396333558046,
          -6.25759201064192,
          -7.6234149247814305,
          289.48972868578574,
          67.12720430737608,
          2.7647044655351176,
          16.128592949523174,
          4.257287142366782,
          -0.38642113672678513,
          5.171840796407692,
          -6.633278327798353,
          38.53210470329305,
          12.765531482143498,
          -6.056155503760635,
          -4.5903790886545615,
          -6.002288294659189,
          -6.586852495196998,
          153.6572262646106,
          9.967163249359793,
          6.63274814739732,
          -4.651248799762941,
          -3.3932125759604346,
          -5.649537773399066,
          -5.472259131856144,
          -4.871954688822844,
          -6.0058824791693555,
          -6.139598791734653,
          -6.791607823169202,
          -6.31454230055285,
          -6.308387256808492,
          -5.276068726653267,
          -6.852232417041738,
          -6.87244061499925,
          -6.852232417041738,
          -13.345181871168613,
          -5.050560323145485,
          19.212420627249607,
          9.114846295426695,
          -0.043699644162644984,
          -2.2166676259673257,
          -6.704518554284842,
          -3.7186768086449913,
          -6.292544418746068,
          -3.6994934287720334,
          -6.114156407678244,
          -6.5000013540052,
          -17.11324458453706,
          -2.3458991719611646,
          -5.610264745225998,
          -6.346812268646773,
          -4.59717682598702,
          -5.362334154976932,
          -6.800134499278948,
          -3.8330702650921005,
          -2.404562686038114,
          -1.570397880387247,
          31.074796584270295,
          0.6769504543371352,
          -0.4534742545521154,
          -11.784223056312117,
          -2.5265864991362625,
          1.6467765512799741,
          -1.6755615669623916,
          -6.143813486888794,
          -4.396831833717145,
          -5.421428314406749,
          -6.771399625211693,
          -5.59579638716472,
          -7.452776474777134,
          -7.259566093278828,
          -5.826212918668213,
          -6.586852495196998,
          -6.586852495196998,
          -0.5887913445390934,
          -5.868565174325043,
          -5.871548252753107,
          -5.671752410104573,
          -10.851104125977713,
          -6.139193437050833,
          -4.308172810398874,
          -3.9015266083386155,
          -3.542819405467134,
          -5.770786961144136,
          -4.913306596154994,
          -6.442286072778516,
          -1.8271823696935725,
          -6.209907126255121,
          -6.87244061499925,
          -2.398517373245267,
          -6.575604600454942,
          -6.633278327798353,
          -6.680963212185146,
          -6.618253125961172,
          -6.328258036941004,
          -5.498476766499987,
          -5.355473701886967,
          -7.384478782202806,
          -2.4335063695143875,
          -4.732912555296429,
          -6.477411149764889,
          -6.469277611413533,
          -6.633278327798353,
          -6.680963212185146,
          -3.80352187748193,
          -6.073437345841298,
          -6.680963212185146,
          -5.767641028081537,
          -6.021685692278828,
          -6.586852495196998,
          -6.660755014227635,
          -6.633278327798353,
          -1.7748782566393118,
          -4.485290433027304,
          -6.950292658508019,
          -6.913020944232544,
          -6.281056177437235,
          -6.767228640508814,
          -6.829938726732786,
          0.9428347141852427,
          -4.311224622646544,
          -5.892036148889205,
          -2.4700286744394044,
          -3.4212548748969085,
          -3.358995771958385,
          -1.9908689664817916,
          -6.771399625211693,
          -6.29972288943144,
          -6.586852495196998,
          -4.417912399278889,
          -6.633278327798353,
          -3.492274292505593,
          1766.4731037789945,
          221.30799965472085,
          10.319769874981509,
          -7.041843748662592,
          -3.535709695527502,
          -6.633278327798353,
          18.326404161263582,
          23.09308307342849,
          -2.8817612942404587,
          -6.852232417041738,
          -6.664821783403314,
          -6.633278327798353,
          -26.193347916063356,
          -3.710711072090445,
          -4.818490717349423,
          -6.873049621787922,
          -1.8555078811571155,
          -4.876021457998523,
          -5.96399600040919,
          -6.586852495196998,
          -2.2713276982739203,
          -1.7558564206189564,
          3.1222089961330157,
          -6.492641833828908,
          -3.0110783314203435,
          -4.505867285136967,
          -5.466540845680955,
          -6.1902015701908235,
          -6.832024219084226,
          -6.685029981360825,
          -5.676283778941913,
          -7.27667743835943,
          -6.87244061499925,
          -1.4999380871430545,
          -7.6109609571036625,
          -6.504133636145578,
          -5.729163101991033,
          0.5329178981857315,
          -6.197832466648968,
          -5.7946860175366,
          -5.231411217614902,
          -6.55960980891288,
          -6.674314195232766,
          -6.1902015701908235,
          -3.472103707184518,
          -5.811203357059157,
          -6.660755014227635,
          -7.452776474777134,
          -6.633278327798353,
          -6.633278327798353,
          15.599894639002882,
          -7.452776474777134,
          -6.633278327798353,
          3.733100363302426,
          -2.0368774275076174,
          -6.8768573215014435,
          -6.586852495196998,
          -6.633278327798353,
          4.251251926552751,
          10.673295734687917,
          15.63823487429725,
          2.1737990760630117,
          -2.7051820304037695,
          -6.015266919406738,
          -2.1566712409070754,
          -4.258353370524771,
          -6.401395923077771,
          -6.034081503355972,
          -5.568027238398733,
          -4.215348204749774,
          -6.600130420355102,
          -6.258307378260967,
          -5.391033874812025,
          -6.373907842639945,
          -6.832024219084226,
          -6.586852495196998,
          -6.619214396713992,
          12.6012445746071,
          20.522787491158272,
          11.067592276585644,
          -1.24332061726935,
          -4.86962359854309,
          -5.480739606952133,
          -5.423049915082498,
          -6.680963212185146,
          -3.307526800370065,
          -5.112286648838013,
          -7.2938697021195065,
          -6.586852495196998,
          -7.47207192808867,
          -3.347021008728881,
          -6.373907842639945,
          -2.034276574503603,
          -3.8227632192017587,
          -6.337562930889888,
          -6.800134499278948,
          -6.1902015701908235,
          -3.9039373985404406,
          -5.613879700446216,
          -5.251268099368496,
          -8.044734689164757,
          -5.93846198149056,
          -6.685029981360825,
          -6.157391649755418,
          -5.797060382021473,
          -6.615105871923324,
          -6.6968503868025415,
          -6.852232417041738,
          -6.524142408973024,
          -6.800134499278948,
          -4.378079733845116,
          288.2818206836085,
          8.693641555599187,
          33.037585223838136,
          0.19359093035221744,
          -9.744798404271153,
          -8.119178382353969,
          27.362638020480166,
          -6.121179781170649,
          -6.890862758233595,
          -6.266857416166056,
          -6.685029981360825,
          -4.820799347153657,
          -3.6581201783642996,
          -3.5608667204738005,
          -6.87244061499925,
          -6.87244061499925,
          -2.6965948151060584,
          -9.783195376156321,
          -5.13157481435454,
          185.9930406516212,
          2.9708487201740454,
          -4.436576670998968,
          3.6123013575795,
          -6.0926204921585345,
          -6.6197305408017675,
          -6.372303390801653,
          -6.680963212185146,
          -1.8758419150389014,
          7.087151354413122,
          -6.057209494087598,
          -4.55670999469279,
          -6.852232417041738,
          -6.87244061499925,
          -6.428861215498507,
          2.1422159833137147,
          -9.10961509393282,
          -5.310291701857013,
          -6.791975030306415,
          22.379916155900993,
          16.6743025432065,
          -6.833096499871124,
          31.416175463933765,
          -2.8030143960168403,
          -1.3784915708471528,
          -2.2367230846447494,
          -5.943787802451678,
          -5.957653089160952,
          -6.633278327798353,
          -5.929263079880167,
          -3.34092329838858,
          -6.5060197033669525,
          -6.852232417041738,
          -6.680963212185146,
          -6.87244061499925,
          -5.960199531334319,
          -4.552994079912303,
          -6.494338181519184,
          -5.3287038971902545,
          -5.941147655447329,
          -4.9218318810935795,
          -9.973350952968799,
          -5.592554694422555,
          -7.626483373600895,
          -6.152534303534263,
          -5.882643558752412,
          -6.266857416166056,
          -5.981269296363801,
          -5.995953205429248,
          -5.48775432742488,
          -6.265725548993274,
          -6.073437345841298,
          -6.47334438058921,
          -22.537093252249225,
          29.75879272040992,
          11.142240500643512,
          18.02711566414706,
          -5.910378341402615,
          -4.070072275813036,
          -6.629942239509112,
          -5.585611381400323,
          -6.360968133154205,
          -6.852232417041738,
          -6.680963212185146,
          -16.282065593766546,
          -5.7428103351564,
          0.4923313805131635,
          -0.9503800240175331,
          -6.038101555323489,
          -4.596041588596257,
          -6.852232417041738,
          19.545563549466575,
          -0.4554589134727662,
          -5.069889779770845,
          -6.457202951807378,
          -6.685029981360825,
          28.780387878718535,
          -4.8716838078626115,
          -1.7836937470232446,
          -6.462628594461152,
          -6.633278327798353,
          -6.520559280315799,
          -6.5790983818368955,
          -6.373907842639945,
          -6.832024219084226,
          -6.685029981360825,
          -5.48775432742488,
          -6.87244061499925,
          -6.87244061499925,
          -65.77032068815545,
          -5.457777941146095,
          -6.685029981360825,
          -6.685029981360825,
          3.1522993143131934,
          -5.803749636576412,
          -6.3557353867649145,
          -4.866628867861729,
          -6.829938726732786,
          -6.281056177437235,
          -6.633278327798353,
          -0.8661135439377472,
          -6.9771523027333595,
          -1.976130357528699,
          -5.97042161143789,
          -6.615105871923324,
          -5.48775432742488,
          -6.685029981360825,
          44.68577896306427,
          1.3943852051661787,
          14.582526833342834,
          -6.633278327798353,
          -0.6903003628490125,
          -5.668241386478966,
          -4.780699426930471,
          -6.800134499278948,
          -7.172712643866946,
          -7.020658354757652,
          -3.9409090061264926,
          -7.924448961993511,
          -8.268923220199282,
          -7.452776474777134,
          -7.172712643866946,
          -7.020658354757652,
          -6.728897849663764,
          -6.379233663601062,
          -6.673798051144993,
          -6.829938726732786,
          -100.44668737201542,
          -133.67283009979897,
          -23.38314439790274,
          -5.166398719630213,
          -6.704518554284842,
          -9.051789412735875,
          -7.944955506117957,
          -6.465375184140124,
          -5.996207091559477,
          -7.18027531349719,
          8.559412937110444,
          -5.3083783137320015,
          -8.623050266703308,
          -7.1511887864352905,
          -6.9537697755190635,
          -7.280259439030604,
          -10.813243614514146,
          1.7822771078834059,
          -6.1321718381939725,
          -4.7791030236201335,
          -6.696968111179041,
          -6.010727259617326,
          -5.857684975894008,
          -6.829938726732786,
          -16.345644651918604,
          -3.689578846076146,
          -6.546436099281976,
          -6.633278327798353,
          -3.8187982946409122,
          -5.563549450544084,
          -7.603188641112991,
          -5.0090181455303275,
          -6.680963212185146,
          -5.622192122424267,
          -6.87244061499925,
          -4.895443249175539,
          -6.430077244567702,
          -6.522591558245513,
          -7.259566093278828,
          -6.586852495196998,
          -1.7356350452260778,
          -4.1393630427407055,
          -6.430077244567702,
          -7.320687055841131,
          -6.829938726732786,
          -7.641134954129367,
          -5.9223252676980165,
          -6.788510007348804,
          -6.707620185601137,
          -6.680963212185146,
          84.00468084752163,
          12.377850251169283,
          -5.479070950870885,
          -6.183061305353776,
          -0.38064413952026505,
          -5.484066974169104,
          -2.8143020335332163,
          -7.660706063762092,
          -5.719993040041444,
          -7.532696521961204,
          -6.162222241868331,
          -4.785307084658942,
          -5.240571370683849,
          -6.685029981360825,
          -6.1565510208543595,
          -6.327482010038591,
          -6.932263774465969,
          -3.7571445017580976,
          6.516086304369178,
          -8.81279193997009,
          -7.003660631078027,
          -5.647167090923899,
          -7.128459698601029,
          -6.811816021126713,
          -6.6130701298408425,
          -5.975259859677472,
          -6.685029981360825,
          -6.680963212185146,
          0.6356495136979551,
          -4.22420725031351,
          -10.528439473691371,
          -8.033597482349277,
          -6.163481293653769,
          -5.9558624620578335,
          -6.604197189530779,
          -6.519297628525054,
          -6.87244061499925,
          20.976063788395685,
          -6.430077244567702,
          -6.818707462149766,
          -12.972297997326148,
          -6.771399625211693,
          -7.023247724110592,
          -6.586852495196998,
          -6.829938726732786,
          -6.373907842639945,
          2.9871161337094696,
          -6.763599541732604,
          -6.312456808201409,
          -16.491707993540835,
          61.15644472879321,
          -4.683073530529354,
          -2.6245654023082627,
          -3.8966578465102155,
          -6.4369947538498655,
          -4.668850877850152,
          -6.832024219084226,
          -5.483547324342371,
          -6.640546816270123,
          -6.660755014227635,
          -6.633278327798353,
          -6.87244061499925,
          -6.633278327798353,
          -6.685029981360825,
          -6.281056177437235,
          -6.469277611413533,
          -6.990204906388072,
          1.765340211174304,
          -6.412719786716677,
          -13.184536928669605,
          -4.3775577424886505,
          23.86113980874108,
          -6.633278327798353,
          -4.997608861415954,
          -5.951795692882156,
          -5.650066144298071,
          -6.368517877473002,
          -6.477411149764889,
          -4.6268163457930385,
          93.13893159902642,
          -6.473114411132748,
          -5.138043222512075,
          -7.005167806461909,
          -6.822288558795093,
          0.4164385141923346,
          -5.693155888610182,
          -6.767228640508814,
          -6.640546816270123,
          -1.4532526856254488,
          -7.27667743835943,
          -5.645999375122393,
          -6.660755014227635,
          -6.87244061499925,
          -6.87244061499925,
          -9.836868274377194,
          -0.44356278091279605,
          -5.518193297226232,
          -7.000450156800138,
          -9.173043727108391,
          -7.27667743835943,
          -6.417900336493832,
          -5.032417337556725,
          -6.469500157884015,
          -6.852232417041738,
          -6.664821783403314,
          -6.87244061499925,
          -6.852232417041738,
          -6.685029981360825,
          -6.730983229296671,
          0.7550110186994521,
          -6.029910405934561,
          -6.097486680916375,
          -6.767228640508814,
          -6.87244061499925,
          -6.5060197033669525,
          -6.491820942095772,
          -6.852232417041738,
          -6.6244053874882916,
          -6.87244061499925,
          -6.566644297239487,
          -6.852232417041738,
          -5.37228260335745,
          -5.646935823381144,
          -4.9495615690427845,
          -6.767228640508814,
          -6.469277611413533,
          -6.506019703366952
         ],
         "yaxis": "y"
        }
       ],
       "layout": {
        "coloraxis": {
         "colorbar": {
          "title": {
           "text": "color"
          }
         },
         "colorscale": [
          [
           0,
           "#0d0887"
          ],
          [
           0.1111111111111111,
           "#46039f"
          ],
          [
           0.2222222222222222,
           "#7201a8"
          ],
          [
           0.3333333333333333,
           "#9c179e"
          ],
          [
           0.4444444444444444,
           "#bd3786"
          ],
          [
           0.5555555555555556,
           "#d8576b"
          ],
          [
           0.6666666666666666,
           "#ed7953"
          ],
          [
           0.7777777777777778,
           "#fb9f3a"
          ],
          [
           0.8888888888888888,
           "#fdca26"
          ],
          [
           1,
           "#f0f921"
          ]
         ]
        },
        "legend": {
         "tracegroupgap": 0
        },
        "margin": {
         "t": 60
        },
        "template": {
         "data": {
          "bar": [
           {
            "error_x": {
             "color": "#2a3f5f"
            },
            "error_y": {
             "color": "#2a3f5f"
            },
            "marker": {
             "line": {
              "color": "#E5ECF6",
              "width": 0.5
             }
            },
            "type": "bar"
           }
          ],
          "barpolar": [
           {
            "marker": {
             "line": {
              "color": "#E5ECF6",
              "width": 0.5
             }
            },
            "type": "barpolar"
           }
          ],
          "carpet": [
           {
            "aaxis": {
             "endlinecolor": "#2a3f5f",
             "gridcolor": "white",
             "linecolor": "white",
             "minorgridcolor": "white",
             "startlinecolor": "#2a3f5f"
            },
            "baxis": {
             "endlinecolor": "#2a3f5f",
             "gridcolor": "white",
             "linecolor": "white",
             "minorgridcolor": "white",
             "startlinecolor": "#2a3f5f"
            },
            "type": "carpet"
           }
          ],
          "choropleth": [
           {
            "colorbar": {
             "outlinewidth": 0,
             "ticks": ""
            },
            "type": "choropleth"
           }
          ],
          "contour": [
           {
            "colorbar": {
             "outlinewidth": 0,
             "ticks": ""
            },
            "colorscale": [
             [
              0,
              "#0d0887"
             ],
             [
              0.1111111111111111,
              "#46039f"
             ],
             [
              0.2222222222222222,
              "#7201a8"
             ],
             [
              0.3333333333333333,
              "#9c179e"
             ],
             [
              0.4444444444444444,
              "#bd3786"
             ],
             [
              0.5555555555555556,
              "#d8576b"
             ],
             [
              0.6666666666666666,
              "#ed7953"
             ],
             [
              0.7777777777777778,
              "#fb9f3a"
             ],
             [
              0.8888888888888888,
              "#fdca26"
             ],
             [
              1,
              "#f0f921"
             ]
            ],
            "type": "contour"
           }
          ],
          "contourcarpet": [
           {
            "colorbar": {
             "outlinewidth": 0,
             "ticks": ""
            },
            "type": "contourcarpet"
           }
          ],
          "heatmap": [
           {
            "colorbar": {
             "outlinewidth": 0,
             "ticks": ""
            },
            "colorscale": [
             [
              0,
              "#0d0887"
             ],
             [
              0.1111111111111111,
              "#46039f"
             ],
             [
              0.2222222222222222,
              "#7201a8"
             ],
             [
              0.3333333333333333,
              "#9c179e"
             ],
             [
              0.4444444444444444,
              "#bd3786"
             ],
             [
              0.5555555555555556,
              "#d8576b"
             ],
             [
              0.6666666666666666,
              "#ed7953"
             ],
             [
              0.7777777777777778,
              "#fb9f3a"
             ],
             [
              0.8888888888888888,
              "#fdca26"
             ],
             [
              1,
              "#f0f921"
             ]
            ],
            "type": "heatmap"
           }
          ],
          "heatmapgl": [
           {
            "colorbar": {
             "outlinewidth": 0,
             "ticks": ""
            },
            "colorscale": [
             [
              0,
              "#0d0887"
             ],
             [
              0.1111111111111111,
              "#46039f"
             ],
             [
              0.2222222222222222,
              "#7201a8"
             ],
             [
              0.3333333333333333,
              "#9c179e"
             ],
             [
              0.4444444444444444,
              "#bd3786"
             ],
             [
              0.5555555555555556,
              "#d8576b"
             ],
             [
              0.6666666666666666,
              "#ed7953"
             ],
             [
              0.7777777777777778,
              "#fb9f3a"
             ],
             [
              0.8888888888888888,
              "#fdca26"
             ],
             [
              1,
              "#f0f921"
             ]
            ],
            "type": "heatmapgl"
           }
          ],
          "histogram": [
           {
            "marker": {
             "colorbar": {
              "outlinewidth": 0,
              "ticks": ""
             }
            },
            "type": "histogram"
           }
          ],
          "histogram2d": [
           {
            "colorbar": {
             "outlinewidth": 0,
             "ticks": ""
            },
            "colorscale": [
             [
              0,
              "#0d0887"
             ],
             [
              0.1111111111111111,
              "#46039f"
             ],
             [
              0.2222222222222222,
              "#7201a8"
             ],
             [
              0.3333333333333333,
              "#9c179e"
             ],
             [
              0.4444444444444444,
              "#bd3786"
             ],
             [
              0.5555555555555556,
              "#d8576b"
             ],
             [
              0.6666666666666666,
              "#ed7953"
             ],
             [
              0.7777777777777778,
              "#fb9f3a"
             ],
             [
              0.8888888888888888,
              "#fdca26"
             ],
             [
              1,
              "#f0f921"
             ]
            ],
            "type": "histogram2d"
           }
          ],
          "histogram2dcontour": [
           {
            "colorbar": {
             "outlinewidth": 0,
             "ticks": ""
            },
            "colorscale": [
             [
              0,
              "#0d0887"
             ],
             [
              0.1111111111111111,
              "#46039f"
             ],
             [
              0.2222222222222222,
              "#7201a8"
             ],
             [
              0.3333333333333333,
              "#9c179e"
             ],
             [
              0.4444444444444444,
              "#bd3786"
             ],
             [
              0.5555555555555556,
              "#d8576b"
             ],
             [
              0.6666666666666666,
              "#ed7953"
             ],
             [
              0.7777777777777778,
              "#fb9f3a"
             ],
             [
              0.8888888888888888,
              "#fdca26"
             ],
             [
              1,
              "#f0f921"
             ]
            ],
            "type": "histogram2dcontour"
           }
          ],
          "mesh3d": [
           {
            "colorbar": {
             "outlinewidth": 0,
             "ticks": ""
            },
            "type": "mesh3d"
           }
          ],
          "parcoords": [
           {
            "line": {
             "colorbar": {
              "outlinewidth": 0,
              "ticks": ""
             }
            },
            "type": "parcoords"
           }
          ],
          "pie": [
           {
            "automargin": true,
            "type": "pie"
           }
          ],
          "scatter": [
           {
            "marker": {
             "colorbar": {
              "outlinewidth": 0,
              "ticks": ""
             }
            },
            "type": "scatter"
           }
          ],
          "scatter3d": [
           {
            "line": {
             "colorbar": {
              "outlinewidth": 0,
              "ticks": ""
             }
            },
            "marker": {
             "colorbar": {
              "outlinewidth": 0,
              "ticks": ""
             }
            },
            "type": "scatter3d"
           }
          ],
          "scattercarpet": [
           {
            "marker": {
             "colorbar": {
              "outlinewidth": 0,
              "ticks": ""
             }
            },
            "type": "scattercarpet"
           }
          ],
          "scattergeo": [
           {
            "marker": {
             "colorbar": {
              "outlinewidth": 0,
              "ticks": ""
             }
            },
            "type": "scattergeo"
           }
          ],
          "scattergl": [
           {
            "marker": {
             "colorbar": {
              "outlinewidth": 0,
              "ticks": ""
             }
            },
            "type": "scattergl"
           }
          ],
          "scattermapbox": [
           {
            "marker": {
             "colorbar": {
              "outlinewidth": 0,
              "ticks": ""
             }
            },
            "type": "scattermapbox"
           }
          ],
          "scatterpolar": [
           {
            "marker": {
             "colorbar": {
              "outlinewidth": 0,
              "ticks": ""
             }
            },
            "type": "scatterpolar"
           }
          ],
          "scatterpolargl": [
           {
            "marker": {
             "colorbar": {
              "outlinewidth": 0,
              "ticks": ""
             }
            },
            "type": "scatterpolargl"
           }
          ],
          "scatterternary": [
           {
            "marker": {
             "colorbar": {
              "outlinewidth": 0,
              "ticks": ""
             }
            },
            "type": "scatterternary"
           }
          ],
          "surface": [
           {
            "colorbar": {
             "outlinewidth": 0,
             "ticks": ""
            },
            "colorscale": [
             [
              0,
              "#0d0887"
             ],
             [
              0.1111111111111111,
              "#46039f"
             ],
             [
              0.2222222222222222,
              "#7201a8"
             ],
             [
              0.3333333333333333,
              "#9c179e"
             ],
             [
              0.4444444444444444,
              "#bd3786"
             ],
             [
              0.5555555555555556,
              "#d8576b"
             ],
             [
              0.6666666666666666,
              "#ed7953"
             ],
             [
              0.7777777777777778,
              "#fb9f3a"
             ],
             [
              0.8888888888888888,
              "#fdca26"
             ],
             [
              1,
              "#f0f921"
             ]
            ],
            "type": "surface"
           }
          ],
          "table": [
           {
            "cells": {
             "fill": {
              "color": "#EBF0F8"
             },
             "line": {
              "color": "white"
             }
            },
            "header": {
             "fill": {
              "color": "#C8D4E3"
             },
             "line": {
              "color": "white"
             }
            },
            "type": "table"
           }
          ]
         },
         "layout": {
          "annotationdefaults": {
           "arrowcolor": "#2a3f5f",
           "arrowhead": 0,
           "arrowwidth": 1
          },
          "coloraxis": {
           "colorbar": {
            "outlinewidth": 0,
            "ticks": ""
           }
          },
          "colorscale": {
           "diverging": [
            [
             0,
             "#8e0152"
            ],
            [
             0.1,
             "#c51b7d"
            ],
            [
             0.2,
             "#de77ae"
            ],
            [
             0.3,
             "#f1b6da"
            ],
            [
             0.4,
             "#fde0ef"
            ],
            [
             0.5,
             "#f7f7f7"
            ],
            [
             0.6,
             "#e6f5d0"
            ],
            [
             0.7,
             "#b8e186"
            ],
            [
             0.8,
             "#7fbc41"
            ],
            [
             0.9,
             "#4d9221"
            ],
            [
             1,
             "#276419"
            ]
           ],
           "sequential": [
            [
             0,
             "#0d0887"
            ],
            [
             0.1111111111111111,
             "#46039f"
            ],
            [
             0.2222222222222222,
             "#7201a8"
            ],
            [
             0.3333333333333333,
             "#9c179e"
            ],
            [
             0.4444444444444444,
             "#bd3786"
            ],
            [
             0.5555555555555556,
             "#d8576b"
            ],
            [
             0.6666666666666666,
             "#ed7953"
            ],
            [
             0.7777777777777778,
             "#fb9f3a"
            ],
            [
             0.8888888888888888,
             "#fdca26"
            ],
            [
             1,
             "#f0f921"
            ]
           ],
           "sequentialminus": [
            [
             0,
             "#0d0887"
            ],
            [
             0.1111111111111111,
             "#46039f"
            ],
            [
             0.2222222222222222,
             "#7201a8"
            ],
            [
             0.3333333333333333,
             "#9c179e"
            ],
            [
             0.4444444444444444,
             "#bd3786"
            ],
            [
             0.5555555555555556,
             "#d8576b"
            ],
            [
             0.6666666666666666,
             "#ed7953"
            ],
            [
             0.7777777777777778,
             "#fb9f3a"
            ],
            [
             0.8888888888888888,
             "#fdca26"
            ],
            [
             1,
             "#f0f921"
            ]
           ]
          },
          "colorway": [
           "#636efa",
           "#EF553B",
           "#00cc96",
           "#ab63fa",
           "#FFA15A",
           "#19d3f3",
           "#FF6692",
           "#B6E880",
           "#FF97FF",
           "#FECB52"
          ],
          "font": {
           "color": "#2a3f5f"
          },
          "geo": {
           "bgcolor": "white",
           "lakecolor": "white",
           "landcolor": "#E5ECF6",
           "showlakes": true,
           "showland": true,
           "subunitcolor": "white"
          },
          "hoverlabel": {
           "align": "left"
          },
          "hovermode": "closest",
          "mapbox": {
           "style": "light"
          },
          "paper_bgcolor": "white",
          "plot_bgcolor": "#E5ECF6",
          "polar": {
           "angularaxis": {
            "gridcolor": "white",
            "linecolor": "white",
            "ticks": ""
           },
           "bgcolor": "#E5ECF6",
           "radialaxis": {
            "gridcolor": "white",
            "linecolor": "white",
            "ticks": ""
           }
          },
          "scene": {
           "xaxis": {
            "backgroundcolor": "#E5ECF6",
            "gridcolor": "white",
            "gridwidth": 2,
            "linecolor": "white",
            "showbackground": true,
            "ticks": "",
            "zerolinecolor": "white"
           },
           "yaxis": {
            "backgroundcolor": "#E5ECF6",
            "gridcolor": "white",
            "gridwidth": 2,
            "linecolor": "white",
            "showbackground": true,
            "ticks": "",
            "zerolinecolor": "white"
           },
           "zaxis": {
            "backgroundcolor": "#E5ECF6",
            "gridcolor": "white",
            "gridwidth": 2,
            "linecolor": "white",
            "showbackground": true,
            "ticks": "",
            "zerolinecolor": "white"
           }
          },
          "shapedefaults": {
           "line": {
            "color": "#2a3f5f"
           }
          },
          "ternary": {
           "aaxis": {
            "gridcolor": "white",
            "linecolor": "white",
            "ticks": ""
           },
           "baxis": {
            "gridcolor": "white",
            "linecolor": "white",
            "ticks": ""
           },
           "bgcolor": "#E5ECF6",
           "caxis": {
            "gridcolor": "white",
            "linecolor": "white",
            "ticks": ""
           }
          },
          "title": {
           "x": 0.05
          },
          "xaxis": {
           "automargin": true,
           "gridcolor": "white",
           "linecolor": "white",
           "ticks": "",
           "title": {
            "standoff": 15
           },
           "zerolinecolor": "white",
           "zerolinewidth": 2
          },
          "yaxis": {
           "automargin": true,
           "gridcolor": "white",
           "linecolor": "white",
           "ticks": "",
           "title": {
            "standoff": 15
           },
           "zerolinecolor": "white",
           "zerolinewidth": 2
          }
         }
        },
        "xaxis": {
         "anchor": "y",
         "domain": [
          0,
          1
         ],
         "title": {
          "text": "0"
         }
        },
        "yaxis": {
         "anchor": "x",
         "domain": [
          0,
          1
         ],
         "title": {
          "text": "1"
         }
        }
       }
      },
      "text/html": [
       "<div>                            <div id=\"bcd69b82-f4ee-4c7f-9f0e-67093760f4d9\" class=\"plotly-graph-div\" style=\"height:525px; width:100%;\"></div>            <script type=\"text/javascript\">                require([\"plotly\"], function(Plotly) {                    window.PLOTLYENV=window.PLOTLYENV || {};                                    if (document.getElementById(\"bcd69b82-f4ee-4c7f-9f0e-67093760f4d9\")) {                    Plotly.newPlot(                        \"bcd69b82-f4ee-4c7f-9f0e-67093760f4d9\",                        [{\"hovertemplate\": \"0=%{x}<br>1=%{y}<br>color=%{marker.color}<extra></extra>\", \"legendgroup\": \"\", \"marker\": {\"color\": [5, 6, 7, 8, 9, 10, 11, 12, 13, 14, 15, 16, 18, 19, 20, 22, 24, 25, 26, 27, 28, 29, 30, 32, 33, 34, 35, 36, 37, 39, 41, 42, 43, 44, 45, 46, 47, 48, 49, 50, 51, 52, 53, 54, 55, 56, 58, 60, 61, 62, 63, 64, 65, 67, 68, 69, 70, 71, 73, 75, 76, 77, 78, 79, 80, 82, 84, 85, 86, 87, 88, 89, 90, 91, 92, 93, 94, 95, 96, 97, 98, 99, 100, 101, 102, 104, 106, 108, 110, 112, 113, 114, 116, 118, 120, 122, 123, 125, 126, 127, 129, 130, 131, 132, 133, 135, 137, 139, 141, 143, 144, 145, 146, 147, 148, 150, 151, 152, 154, 156, 157, 159, 161, 164, 167, 168, 169, 170, 171, 172, 175, 177, 179, 182, 185, 187, 189, 192, 195, 196, 199, 202, 206, 211, 212, 213, 214, 215, 216, 218, 219, 220, 221, 222, 224, 227, 228, 229, 230, 231, 232, 233, 234, 237, 238, 239, 240, 241, 242, 243, 244, 245, 246, 248, 249, 251, 254, 255, 256, 257, 260, 262, 265, 268, 269, 272, 273, 276, 279, 281, 284, 287, 290, 294, 295, 296, 298, 299, 300, 301, 302, 304, 306, 307, 308, 309, 310, 311, 312, 313, 314, 315, 316, 317, 318, 319, 320, 321, 322, 323, 325, 326, 327, 328, 329, 330, 331, 332, 334, 336, 337, 338, 340, 342, 344, 347, 348, 349, 350, 351, 354, 355, 358, 359, 360, 361, 364, 367, 368, 369, 370, 371, 372, 375, 379, 380, 381, 382, 383, 384, 385, 386, 387, 388, 389, 391, 392, 393, 394, 395, 397, 399, 401, 404, 405, 406, 407, 408, 409, 410, 411, 413, 414, 415, 416, 417, 418, 420, 423, 424, 425, 426, 428, 430, 431, 433, 435, 437, 439, 440, 441, 442, 444, 446, 447, 448, 449, 450, 452, 453, 454, 456, 458, 460, 462, 463, 464, 466, 468, 470, 472, 474, 475, 477, 478, 480, 483, 486, 487, 488, 489, 490, 491, 492, 493, 494, 495, 498, 499, 500, 501, 502, 503, 504, 507, 510, 513, 516, 519, 523, 527, 531, 532, 534, 538, 542, 546, 548, 549, 552, 555, 558, 563, 564, 565, 566, 568, 569, 570, 571, 572, 573, 574, 576, 578, 580, 582, 583, 585, 586, 589, 590, 592, 593, 595, 596, 597, 598, 599, 600, 602, 604, 605, 606, 607, 608, 610, 611, 613, 616, 620, 621, 622, 623, 624, 626, 627, 628, 629, 630, 631, 632, 633, 634, 635, 636, 638, 639, 640, 641, 642, 643, 644, 645, 647, 649, 650, 651, 653, 655, 656, 657, 658, 660, 661, 663, 665, 667, 668, 669, 673, 674, 675, 676, 677, 681, 685, 686, 687, 688, 693, 694, 695, 696, 697, 698, 699, 700, 701, 702, 703, 704, 705, 706, 708, 710, 714, 715, 716, 717, 718, 719, 720, 721, 722, 723, 724, 725, 727, 728, 729, 730, 731, 732, 734, 736, 738, 742, 743, 744, 746, 747, 748, 749, 750, 751, 753, 755, 757, 761, 765, 766, 767, 768, 769, 770, 771, 772, 773, 774, 775, 776, 777, 778, 780, 782, 786, 790, 794, 799, 804, 809, 810, 812, 814, 817, 820, 823, 828, 833, 838, 843, 846, 849, 853, 857, 860, 863, 867, 871, 875, 879, 883, 887, 892, 897, 898, 899, 901, 903, 908, 913, 918, 922, 924, 927, 931, 935, 940, 945, 950, 955, 959, 963, 968, 973, 974, 975, 976, 980, 984, 989, 994, 999, 1004, 1009, 1014], \"coloraxis\": \"coloraxis\", \"symbol\": \"circle\"}, \"mode\": \"markers\", \"name\": \"\", \"orientation\": \"v\", \"showlegend\": false, \"type\": \"scatter\", \"x\": [1905.489688392184, 13.886312986288116, -13.194129640603423, -2.544133481573577, -16.29258790531218, -16.302511945339685, -16.568257482214232, -16.635781496884224, -16.458162539793843, -16.70234451346291, -16.623784217637393, -16.701837984022685, 1896.9963872956607, -16.58035147404327, -14.967348924429388, 130.0372785972429, 32.36727697763066, -0.12505089937531708, 39.11375544087027, 8.066550706610782, -5.153077117057791, -9.643975320543799, -16.701837984022685, 2.2404181324821355, -0.975552644985026, -14.826593795880683, -16.04754164613402, -16.50275464597442, -16.66878621877251, 141.18812439645035, -7.495311988469383, -11.839528970272736, -13.551332689270719, -15.458589978711913, -16.309239730624437, -16.255637539145766, -16.124436049932875, -16.444290307726313, -16.47724543849081, -16.722438001374968, -16.5678005438978, -15.107520060956594, -16.25136567094485, -16.756910250794782, -16.768401000601376, -16.756910250794782, 1.059288453960485, -15.953076077743537, -5.201427209685678, -6.024242474285266, -14.191512486928442, -15.23593121333337, -16.455446798764484, -12.606432182460326, -15.572660401305251, -15.449036932554739, -16.20465438883314, -15.98014363961812, 3.87310746367233, 42.927914088679515, -13.19229006021755, -13.714482867012054, -15.762427817752146, -16.10158246197076, -16.41304593858228, -4.363215560244678, -12.405630364386397, -12.659556487722858, 6.534316021476077, -8.258715893484545, -14.674673115025557, -6.9256196804219154, -15.337930025185068, -7.123336520605612, -14.981599481472317, -12.05939023542072, -15.979411919776235, -16.246431637114416, -16.710947251568367, -16.389622918481507, -15.789073648992046, -16.325259227034724, -16.437204688276168, -16.66878621877251, -16.66878621877251, -10.919589065356869, -13.952636632406374, -6.596257623468599, -11.888975014254715, -9.982941521393528, -13.648426379873587, -14.574174304209787, -7.315458570267942, -15.712099595026059, -16.378184229464058, -11.350766563529723, -16.061861741474516, -14.900435464462106, -16.568811133112877, -16.768401000601376, -14.666057148681617, -16.387519589414822, -16.701837984022685, -16.71337832495308, -16.60523000773858, -15.806556895477502, -16.277198554589344, -13.577961782520115, -15.620135217996948, -14.758145499709633, -16.112535405171723, -16.647778776131045, -16.646864899498176, -16.701837984022685, -16.71337832495308, -15.79439910019411, -16.49162419999857, -16.71337832495308, -16.38051866836309, -16.479626920751738, -16.66878621877251, -16.70188757514648, -16.701837984022685, -11.90811427161061, -9.60094692560472, -14.447825532532178, -11.675893468227414, -16.55768068713703, -16.563595115978984, -16.67174343319349, -14.02066667217459, -15.22857641768188, -16.44712872830367, -15.303914714081696, -15.520371306543922, -15.519339164735252, -15.021119029981442, -16.710947251568367, -14.999634925949012, -16.66878621877251, -12.960563310052885, -16.701837984022685, -14.86269318870596, 651.0561629286889, 138.34454157794096, -7.350459025051567, -15.090575351624885, -15.672378022244255, -16.701837984022685, 30.728805528293677, 85.74360732459735, -11.814411890812131, -16.756910250794782, -16.70234451346291, -16.701837984022685, 47.67929314751539, -8.156874104694255, -12.92723876512759, -11.843661060163262, -7.305144660658905, -16.12489298824931, -16.470616757357107, -16.66878621877251, -12.545356313587222, -4.144085951106256, -0.22360855295714524, -13.648172568402444, -12.33622955146185, -15.080507653338211, -16.323258266397968, -16.548885423403867, -16.745419500988177, -16.713835263269516, -16.38015836453234, -15.918692413454657, -16.768401000601376, 7.439551562289272, -4.436672678295681, -11.826773897103866, -13.712098404892581, -10.68518554210858, -16.55823425993915, -12.116055662522106, -15.233052218141031, -16.497538628840527, -15.553728197049612, -16.548885423403867, -13.47428260209541, -16.401165729077267, -16.70188757514648, -15.789073648992046, -16.701837984022685, -16.701837984022685, 193.36997817862732, -15.789073648992046, -16.701837984022685, 14.462971402903053, -7.523649911343969, -14.606125102673557, -16.66878621877251, -16.701837984022685, 6.008239145716865, 2.316576375583285, -5.827281318746328, 9.750149433908694, -3.937898058880592, -4.641861087313907, -3.7594489621098157, -14.970095008818527, -14.021023755351647, -15.63861159492037, -15.32523844264081, -8.710990282588796, -16.66741532572667, -15.928621754672195, -16.256240781168206, -16.623784217637393, -16.745419500988177, -16.66878621877251, -15.820719514359002, -4.638278677601261, 4.684560396308876, -3.135140349269787, -14.931014307277069, -14.402685885151064, -16.324678750567596, -16.315668587172965, -16.71337832495308, -0.8633214630081946, -10.477456462232638, -14.53662637778259, -16.66878621877251, -15.31008727273263, -15.365931688603387, -16.623784217637393, -1.2978945064247018, -4.237508127319047, -14.57881687945379, -16.41304593858228, -16.548885423403867, -6.030257675827242, -10.59943077318853, -11.885156642587576, -14.196293739548, -16.480180493553856, -16.713835263269516, -14.82386842949102, -16.39018158680742, -15.679354314930887, -16.117897476003268, -16.756910250794782, -16.560637901558007, -16.41304593858228, -15.950261068914596, 201.4839206753191, -11.016161678274273, -0.4279137751251116, -4.5591319051697266, 11.858964593876875, 8.371114973596796, 8.884275183879044, -14.842780281063206, -13.626394496672821, -16.556260202967405, -16.713835263269516, -15.95834564980214, -15.599384208119499, -15.662043187725503, -16.768401000601376, -16.768401000601376, -11.587463924855678, -8.01090146806038, -16.091860834595167, 64.22341271756936, -13.603794739640396, -9.641474586660312, -12.018910526305, -16.353428375316756, -15.24718730871002, -16.58986808878159, -16.71337832495308, -8.128026373248156, -12.208550498703056, -15.362472876812909, -16.043491724084532, -16.756910250794782, -16.768401000601376, -16.623883399884974, 33.530293138682964, -5.6944268516348355, -5.294590830679928, -12.79507757332495, -3.7413583815084483, 36.68577723254153, -15.606571392186872, 29.580772755231628, -15.270559456985485, -9.075592288914251, -12.586026118966966, -16.45912600755051, -14.108277012351918, -16.701837984022685, -11.575433516836044, -2.1637134301266445, -16.6228232195461, -16.756910250794782, -16.71337832495308, -16.768401000601376, -11.87179974347889, -12.902256042964828, -16.301940406946816, -12.431510395293667, -13.449916576217545, -16.034960736460803, -11.330392192620339, -16.22590082248196, -15.870626703661475, -13.845125255802396, -16.467726275990586, -16.556260202967405, -16.456645421138532, -15.873112338408296, -16.317879096399754, -16.58126535067614, -16.49162419999857, -16.64732183781461, 20.713529239728953, 7.463601083065389, 1.3196631930037783, -3.740316226716689, -16.337985547765737, -15.774685527708852, -16.630512002922146, -15.830883243074219, -16.600852309147974, -16.756910250794782, -16.71337832495308, 13.566703697536639, 3.4388556706817406, 4.118582433838977, -6.569333239823743, -9.759377777960387, -15.989484576982042, -16.756910250794782, 19.357837318142884, 1.0011970174497524, -16.133399091869084, -16.636288026324443, -16.713835263269516, 89.2467442085324, -7.299747050125647, -14.382024841407372, -15.487214771594704, -16.701837984022685, -16.278353982710374, -16.23915016433549, -16.623784217637393, -16.745419500988177, -16.713835263269516, -16.317879096399754, -16.768401000601376, -16.768401000601376, 501.2206081663485, -16.268956198411185, -16.713835263269516, -16.713835263269516, -11.600209117347205, -15.462873623829937, -15.601300548545593, -16.145490535936226, -16.67174343319349, -16.55768068713703, -16.701837984022685, 4.036666043990641, -9.829722661172857, -7.565773306000469, -9.172563578009203, -15.679354314930887, -16.317879096399754, -16.713835263269516, 152.99835789999565, 3.028085354719501, 22.6733927756938, -16.701837984022685, 0.2588754688644211, -15.828157380635075, -15.736078813787385, -16.41304593858228, -16.28448269970001, -16.492825304756877, -3.3831248658125457, -13.79507676440558, -14.224122656273892, -15.789073648992046, -16.28448269970001, -16.492825304756877, -15.860269085389202, -16.60272973163404, -16.127260402698596, -16.67174343319349, 143.53752616802475, 225.8542120171354, 34.67692898774348, -14.78479189874075, -16.455446798764484, -1.3325033224677756, -4.853278098088089, -13.26963476418418, -14.217509362987835, -11.496643241144826, 2.946103245039757, -14.254652546830469, -10.226186363936487, -14.609812372920699, -16.214153695399254, -15.751796409941464, -3.580337628565149, -9.188444865187797, -16.364054839614273, -16.05833251943252, -15.22740975582482, -16.38347588278407, -16.424653836227225, -16.67174343319349, -4.91866961536865, -8.698434258808494, -16.645804719159305, -16.701837984022685, 4.3355674076423645, -12.974122703577356, -13.468600533036167, -15.887968904702177, -16.71337832495308, -14.013801606212686, -16.768401000601376, -15.050823399556991, -14.945662691279486, -15.312508503105189, -16.325259227034724, -16.66878621877251, -7.550256441953392, -12.570108201217222, -14.945662691279486, -15.759521172025998, -16.67174343319349, -9.255501823534182, -14.446703905176857, -16.18069203519453, -16.046200126756588, -16.71337832495308, 15.92195407756283, -3.0643183550677224, -11.927761350645236, -12.794860201993279, -4.9863025121629585, -16.30357459534393, -12.91795346890876, -15.05749307650133, -15.840154659881895, -15.34455952215244, -16.557270792182486, -16.08687276939564, -13.642234761079475, -16.713835263269516, -16.522897725010253, -16.590732452387215, 10.451032139230058, -11.372475889683093, 13.05578267458028, -12.473895065641353, -12.86159099877985, -16.060544135309378, -16.19426810929916, -16.733928751181573, -16.690347234216087, -16.446575155501566, -16.713835263269516, -16.71337832495308, -4.197065605203146, -11.375005968290935, -9.159596691767693, -14.224792730482847, -16.5357593678627, -16.46970288072423, -16.66787226404311, -16.621452326500254, -16.768401000601376, 43.197781966944476, -14.945662691279486, -14.996144845825057, 9.80040776898573, -16.710947251568367, -15.989462224676766, -16.66878621877251, -16.67174343319349, -16.623784217637393, 11.095173209521407, -15.593539190351693, -16.49412447610311, 3.6690399813991594, 22.100551477403332, -13.605544892503257, -15.366427964803947, -14.059119702015055, -16.624797276517842, -16.00270660176178, -16.745419500988177, -16.346647113203822, -16.690396825339874, -16.70188757514648, -16.701837984022685, -16.768401000601376, -16.701837984022685, -16.713835263269516, -16.55768068713703, -16.646864899498176, -13.954844589863558, -8.548466459710578, -16.612849588394802, 1.5049424350752079, -0.07977489091434009, 12.130841517735197, -16.701837984022685, -16.16953468555367, -16.469245942407795, -16.358597349088758, -15.44262266541414, -16.647778776131045, -4.227961917636739, 71.45751106276802, -8.196991151411126, -10.752447729831331, -14.628776986411346, -14.657312353978783, -14.301174217394067, -16.320323133238393, -16.563595115978984, -16.690396825339874, -12.930506404631368, -15.918692413454657, -16.358140410772318, -16.70188757514648, -16.768401000601376, -16.768401000601376, -10.177363500432483, -10.594428027413473, -10.890871949837775, -16.481334554950273, -4.731362780626429, -15.918692413454657, -12.879606210159317, -11.23252529487819, -16.231426070906153, -16.756910250794782, -16.70234451346291, -16.768401000601376, -16.756910250794782, -16.713835263269516, -16.687965751955154, -9.76504060480545, -16.245280058102264, -15.05927539438284, -16.563595115978984, -16.768401000601376, -16.6228232195461, -16.621402735376464, -16.756910250794782, -16.679363013849706, -16.768401000601376, -16.657295468965916, -16.756910250794782, -15.413159031091288, -16.383552827577184, -16.13720434940518, -16.563595115978984, -16.646864899498176, -16.622823219546095], \"xaxis\": \"x\", \"y\": [328.57193905024155, 62.542450754431876, 0.6816268149796593, 20.206543173186848, -5.327680146308907, -5.393503376529899, -6.318609069728527, -6.425659496202416, -5.908177577671039, -6.664821783403314, -6.373907842639945, -6.633278327798353, -1016.6396333558046, -6.25759201064192, -7.6234149247814305, 289.48972868578574, 67.12720430737608, 2.7647044655351176, 16.128592949523174, 4.257287142366782, -0.38642113672678513, 5.171840796407692, -6.633278327798353, 38.53210470329305, 12.765531482143498, -6.056155503760635, -4.5903790886545615, -6.002288294659189, -6.586852495196998, 153.6572262646106, 9.967163249359793, 6.63274814739732, -4.651248799762941, -3.3932125759604346, -5.649537773399066, -5.472259131856144, -4.871954688822844, -6.0058824791693555, -6.139598791734653, -6.791607823169202, -6.31454230055285, -6.308387256808492, -5.276068726653267, -6.852232417041738, -6.87244061499925, -6.852232417041738, -13.345181871168613, -5.050560323145485, 19.212420627249607, 9.114846295426695, -0.043699644162644984, -2.2166676259673257, -6.704518554284842, -3.7186768086449913, -6.292544418746068, -3.6994934287720334, -6.114156407678244, -6.5000013540052, -17.11324458453706, -2.3458991719611646, -5.610264745225998, -6.346812268646773, -4.59717682598702, -5.362334154976932, -6.800134499278948, -3.8330702650921005, -2.404562686038114, -1.570397880387247, 31.074796584270295, 0.6769504543371352, -0.4534742545521154, -11.784223056312117, -2.5265864991362625, 1.6467765512799741, -1.6755615669623916, -6.143813486888794, -4.396831833717145, -5.421428314406749, -6.771399625211693, -5.59579638716472, -7.452776474777134, -7.259566093278828, -5.826212918668213, -6.586852495196998, -6.586852495196998, -0.5887913445390934, -5.868565174325043, -5.871548252753107, -5.671752410104573, -10.851104125977713, -6.139193437050833, -4.308172810398874, -3.9015266083386155, -3.542819405467134, -5.770786961144136, -4.913306596154994, -6.442286072778516, -1.8271823696935725, -6.209907126255121, -6.87244061499925, -2.398517373245267, -6.575604600454942, -6.633278327798353, -6.680963212185146, -6.618253125961172, -6.328258036941004, -5.498476766499987, -5.355473701886967, -7.384478782202806, -2.4335063695143875, -4.732912555296429, -6.477411149764889, -6.469277611413533, -6.633278327798353, -6.680963212185146, -3.80352187748193, -6.073437345841298, -6.680963212185146, -5.767641028081537, -6.021685692278828, -6.586852495196998, -6.660755014227635, -6.633278327798353, -1.7748782566393118, -4.485290433027304, -6.950292658508019, -6.913020944232544, -6.281056177437235, -6.767228640508814, -6.829938726732786, 0.9428347141852427, -4.311224622646544, -5.892036148889205, -2.4700286744394044, -3.4212548748969085, -3.358995771958385, -1.9908689664817916, -6.771399625211693, -6.29972288943144, -6.586852495196998, -4.417912399278889, -6.633278327798353, -3.492274292505593, 1766.4731037789945, 221.30799965472085, 10.319769874981509, -7.041843748662592, -3.535709695527502, -6.633278327798353, 18.326404161263582, 23.09308307342849, -2.8817612942404587, -6.852232417041738, -6.664821783403314, -6.633278327798353, -26.193347916063356, -3.710711072090445, -4.818490717349423, -6.873049621787922, -1.8555078811571155, -4.876021457998523, -5.96399600040919, -6.586852495196998, -2.2713276982739203, -1.7558564206189564, 3.1222089961330157, -6.492641833828908, -3.0110783314203435, -4.505867285136967, -5.466540845680955, -6.1902015701908235, -6.832024219084226, -6.685029981360825, -5.676283778941913, -7.27667743835943, -6.87244061499925, -1.4999380871430545, -7.6109609571036625, -6.504133636145578, -5.729163101991033, 0.5329178981857315, -6.197832466648968, -5.7946860175366, -5.231411217614902, -6.55960980891288, -6.674314195232766, -6.1902015701908235, -3.472103707184518, -5.811203357059157, -6.660755014227635, -7.452776474777134, -6.633278327798353, -6.633278327798353, 15.599894639002882, -7.452776474777134, -6.633278327798353, 3.733100363302426, -2.0368774275076174, -6.8768573215014435, -6.586852495196998, -6.633278327798353, 4.251251926552751, 10.673295734687917, 15.63823487429725, 2.1737990760630117, -2.7051820304037695, -6.015266919406738, -2.1566712409070754, -4.258353370524771, -6.401395923077771, -6.034081503355972, -5.568027238398733, -4.215348204749774, -6.600130420355102, -6.258307378260967, -5.391033874812025, -6.373907842639945, -6.832024219084226, -6.586852495196998, -6.619214396713992, 12.6012445746071, 20.522787491158272, 11.067592276585644, -1.24332061726935, -4.86962359854309, -5.480739606952133, -5.423049915082498, -6.680963212185146, -3.307526800370065, -5.112286648838013, -7.2938697021195065, -6.586852495196998, -7.47207192808867, -3.347021008728881, -6.373907842639945, -2.034276574503603, -3.8227632192017587, -6.337562930889888, -6.800134499278948, -6.1902015701908235, -3.9039373985404406, -5.613879700446216, -5.251268099368496, -8.044734689164757, -5.93846198149056, -6.685029981360825, -6.157391649755418, -5.797060382021473, -6.615105871923324, -6.6968503868025415, -6.852232417041738, -6.524142408973024, -6.800134499278948, -4.378079733845116, 288.2818206836085, 8.693641555599187, 33.037585223838136, 0.19359093035221744, -9.744798404271153, -8.119178382353969, 27.362638020480166, -6.121179781170649, -6.890862758233595, -6.266857416166056, -6.685029981360825, -4.820799347153657, -3.6581201783642996, -3.5608667204738005, -6.87244061499925, -6.87244061499925, -2.6965948151060584, -9.783195376156321, -5.13157481435454, 185.9930406516212, 2.9708487201740454, -4.436576670998968, 3.6123013575795, -6.0926204921585345, -6.6197305408017675, -6.372303390801653, -6.680963212185146, -1.8758419150389014, 7.087151354413122, -6.057209494087598, -4.55670999469279, -6.852232417041738, -6.87244061499925, -6.428861215498507, 2.1422159833137147, -9.10961509393282, -5.310291701857013, -6.791975030306415, 22.379916155900993, 16.6743025432065, -6.833096499871124, 31.416175463933765, -2.8030143960168403, -1.3784915708471528, -2.2367230846447494, -5.943787802451678, -5.957653089160952, -6.633278327798353, -5.929263079880167, -3.34092329838858, -6.5060197033669525, -6.852232417041738, -6.680963212185146, -6.87244061499925, -5.960199531334319, -4.552994079912303, -6.494338181519184, -5.3287038971902545, -5.941147655447329, -4.9218318810935795, -9.973350952968799, -5.592554694422555, -7.626483373600895, -6.152534303534263, -5.882643558752412, -6.266857416166056, -5.981269296363801, -5.995953205429248, -5.48775432742488, -6.265725548993274, -6.073437345841298, -6.47334438058921, -22.537093252249225, 29.75879272040992, 11.142240500643512, 18.02711566414706, -5.910378341402615, -4.070072275813036, -6.629942239509112, -5.585611381400323, -6.360968133154205, -6.852232417041738, -6.680963212185146, -16.282065593766546, -5.7428103351564, 0.4923313805131635, -0.9503800240175331, -6.038101555323489, -4.596041588596257, -6.852232417041738, 19.545563549466575, -0.4554589134727662, -5.069889779770845, -6.457202951807378, -6.685029981360825, 28.780387878718535, -4.8716838078626115, -1.7836937470232446, -6.462628594461152, -6.633278327798353, -6.520559280315799, -6.5790983818368955, -6.373907842639945, -6.832024219084226, -6.685029981360825, -5.48775432742488, -6.87244061499925, -6.87244061499925, -65.77032068815545, -5.457777941146095, -6.685029981360825, -6.685029981360825, 3.1522993143131934, -5.803749636576412, -6.3557353867649145, -4.866628867861729, -6.829938726732786, -6.281056177437235, -6.633278327798353, -0.8661135439377472, -6.9771523027333595, -1.976130357528699, -5.97042161143789, -6.615105871923324, -5.48775432742488, -6.685029981360825, 44.68577896306427, 1.3943852051661787, 14.582526833342834, -6.633278327798353, -0.6903003628490125, -5.668241386478966, -4.780699426930471, -6.800134499278948, -7.172712643866946, -7.020658354757652, -3.9409090061264926, -7.924448961993511, -8.268923220199282, -7.452776474777134, -7.172712643866946, -7.020658354757652, -6.728897849663764, -6.379233663601062, -6.673798051144993, -6.829938726732786, -100.44668737201542, -133.67283009979897, -23.38314439790274, -5.166398719630213, -6.704518554284842, -9.051789412735875, -7.944955506117957, -6.465375184140124, -5.996207091559477, -7.18027531349719, 8.559412937110444, -5.3083783137320015, -8.623050266703308, -7.1511887864352905, -6.9537697755190635, -7.280259439030604, -10.813243614514146, 1.7822771078834059, -6.1321718381939725, -4.7791030236201335, -6.696968111179041, -6.010727259617326, -5.857684975894008, -6.829938726732786, -16.345644651918604, -3.689578846076146, -6.546436099281976, -6.633278327798353, -3.8187982946409122, -5.563549450544084, -7.603188641112991, -5.0090181455303275, -6.680963212185146, -5.622192122424267, -6.87244061499925, -4.895443249175539, -6.430077244567702, -6.522591558245513, -7.259566093278828, -6.586852495196998, -1.7356350452260778, -4.1393630427407055, -6.430077244567702, -7.320687055841131, -6.829938726732786, -7.641134954129367, -5.9223252676980165, -6.788510007348804, -6.707620185601137, -6.680963212185146, 84.00468084752163, 12.377850251169283, -5.479070950870885, -6.183061305353776, -0.38064413952026505, -5.484066974169104, -2.8143020335332163, -7.660706063762092, -5.719993040041444, -7.532696521961204, -6.162222241868331, -4.785307084658942, -5.240571370683849, -6.685029981360825, -6.1565510208543595, -6.327482010038591, -6.932263774465969, -3.7571445017580976, 6.516086304369178, -8.81279193997009, -7.003660631078027, -5.647167090923899, -7.128459698601029, -6.811816021126713, -6.6130701298408425, -5.975259859677472, -6.685029981360825, -6.680963212185146, 0.6356495136979551, -4.22420725031351, -10.528439473691371, -8.033597482349277, -6.163481293653769, -5.9558624620578335, -6.604197189530779, -6.519297628525054, -6.87244061499925, 20.976063788395685, -6.430077244567702, -6.818707462149766, -12.972297997326148, -6.771399625211693, -7.023247724110592, -6.586852495196998, -6.829938726732786, -6.373907842639945, 2.9871161337094696, -6.763599541732604, -6.312456808201409, -16.491707993540835, 61.15644472879321, -4.683073530529354, -2.6245654023082627, -3.8966578465102155, -6.4369947538498655, -4.668850877850152, -6.832024219084226, -5.483547324342371, -6.640546816270123, -6.660755014227635, -6.633278327798353, -6.87244061499925, -6.633278327798353, -6.685029981360825, -6.281056177437235, -6.469277611413533, -6.990204906388072, 1.765340211174304, -6.412719786716677, -13.184536928669605, -4.3775577424886505, 23.86113980874108, -6.633278327798353, -4.997608861415954, -5.951795692882156, -5.650066144298071, -6.368517877473002, -6.477411149764889, -4.6268163457930385, 93.13893159902642, -6.473114411132748, -5.138043222512075, -7.005167806461909, -6.822288558795093, 0.4164385141923346, -5.693155888610182, -6.767228640508814, -6.640546816270123, -1.4532526856254488, -7.27667743835943, -5.645999375122393, -6.660755014227635, -6.87244061499925, -6.87244061499925, -9.836868274377194, -0.44356278091279605, -5.518193297226232, -7.000450156800138, -9.173043727108391, -7.27667743835943, -6.417900336493832, -5.032417337556725, -6.469500157884015, -6.852232417041738, -6.664821783403314, -6.87244061499925, -6.852232417041738, -6.685029981360825, -6.730983229296671, 0.7550110186994521, -6.029910405934561, -6.097486680916375, -6.767228640508814, -6.87244061499925, -6.5060197033669525, -6.491820942095772, -6.852232417041738, -6.6244053874882916, -6.87244061499925, -6.566644297239487, -6.852232417041738, -5.37228260335745, -5.646935823381144, -4.9495615690427845, -6.767228640508814, -6.469277611413533, -6.506019703366952], \"yaxis\": \"y\"}],                        {\"coloraxis\": {\"colorbar\": {\"title\": {\"text\": \"color\"}}, \"colorscale\": [[0.0, \"#0d0887\"], [0.1111111111111111, \"#46039f\"], [0.2222222222222222, \"#7201a8\"], [0.3333333333333333, \"#9c179e\"], [0.4444444444444444, \"#bd3786\"], [0.5555555555555556, \"#d8576b\"], [0.6666666666666666, \"#ed7953\"], [0.7777777777777778, \"#fb9f3a\"], [0.8888888888888888, \"#fdca26\"], [1.0, \"#f0f921\"]]}, \"legend\": {\"tracegroupgap\": 0}, \"margin\": {\"t\": 60}, \"template\": {\"data\": {\"bar\": [{\"error_x\": {\"color\": \"#2a3f5f\"}, \"error_y\": {\"color\": \"#2a3f5f\"}, \"marker\": {\"line\": {\"color\": \"#E5ECF6\", \"width\": 0.5}}, \"type\": \"bar\"}], \"barpolar\": [{\"marker\": {\"line\": {\"color\": \"#E5ECF6\", \"width\": 0.5}}, \"type\": \"barpolar\"}], \"carpet\": [{\"aaxis\": {\"endlinecolor\": \"#2a3f5f\", \"gridcolor\": \"white\", \"linecolor\": \"white\", \"minorgridcolor\": \"white\", \"startlinecolor\": \"#2a3f5f\"}, \"baxis\": {\"endlinecolor\": \"#2a3f5f\", \"gridcolor\": \"white\", \"linecolor\": \"white\", \"minorgridcolor\": \"white\", \"startlinecolor\": \"#2a3f5f\"}, \"type\": \"carpet\"}], \"choropleth\": [{\"colorbar\": {\"outlinewidth\": 0, \"ticks\": \"\"}, \"type\": \"choropleth\"}], \"contour\": [{\"colorbar\": {\"outlinewidth\": 0, \"ticks\": \"\"}, \"colorscale\": [[0.0, \"#0d0887\"], [0.1111111111111111, \"#46039f\"], [0.2222222222222222, \"#7201a8\"], [0.3333333333333333, \"#9c179e\"], [0.4444444444444444, \"#bd3786\"], [0.5555555555555556, \"#d8576b\"], [0.6666666666666666, \"#ed7953\"], [0.7777777777777778, \"#fb9f3a\"], [0.8888888888888888, \"#fdca26\"], [1.0, \"#f0f921\"]], \"type\": \"contour\"}], \"contourcarpet\": [{\"colorbar\": {\"outlinewidth\": 0, \"ticks\": \"\"}, \"type\": \"contourcarpet\"}], \"heatmap\": [{\"colorbar\": {\"outlinewidth\": 0, \"ticks\": \"\"}, \"colorscale\": [[0.0, \"#0d0887\"], [0.1111111111111111, \"#46039f\"], [0.2222222222222222, \"#7201a8\"], [0.3333333333333333, \"#9c179e\"], [0.4444444444444444, \"#bd3786\"], [0.5555555555555556, \"#d8576b\"], [0.6666666666666666, \"#ed7953\"], [0.7777777777777778, \"#fb9f3a\"], [0.8888888888888888, \"#fdca26\"], [1.0, \"#f0f921\"]], \"type\": \"heatmap\"}], \"heatmapgl\": [{\"colorbar\": {\"outlinewidth\": 0, \"ticks\": \"\"}, \"colorscale\": [[0.0, \"#0d0887\"], [0.1111111111111111, \"#46039f\"], [0.2222222222222222, \"#7201a8\"], [0.3333333333333333, \"#9c179e\"], [0.4444444444444444, \"#bd3786\"], [0.5555555555555556, \"#d8576b\"], [0.6666666666666666, \"#ed7953\"], [0.7777777777777778, \"#fb9f3a\"], [0.8888888888888888, \"#fdca26\"], [1.0, \"#f0f921\"]], \"type\": \"heatmapgl\"}], \"histogram\": [{\"marker\": {\"colorbar\": {\"outlinewidth\": 0, \"ticks\": \"\"}}, \"type\": \"histogram\"}], \"histogram2d\": [{\"colorbar\": {\"outlinewidth\": 0, \"ticks\": \"\"}, \"colorscale\": [[0.0, \"#0d0887\"], [0.1111111111111111, \"#46039f\"], [0.2222222222222222, \"#7201a8\"], [0.3333333333333333, \"#9c179e\"], [0.4444444444444444, \"#bd3786\"], [0.5555555555555556, \"#d8576b\"], [0.6666666666666666, \"#ed7953\"], [0.7777777777777778, \"#fb9f3a\"], [0.8888888888888888, \"#fdca26\"], [1.0, \"#f0f921\"]], \"type\": \"histogram2d\"}], \"histogram2dcontour\": [{\"colorbar\": {\"outlinewidth\": 0, \"ticks\": \"\"}, \"colorscale\": [[0.0, \"#0d0887\"], [0.1111111111111111, \"#46039f\"], [0.2222222222222222, \"#7201a8\"], [0.3333333333333333, \"#9c179e\"], [0.4444444444444444, \"#bd3786\"], [0.5555555555555556, \"#d8576b\"], [0.6666666666666666, \"#ed7953\"], [0.7777777777777778, \"#fb9f3a\"], [0.8888888888888888, \"#fdca26\"], [1.0, \"#f0f921\"]], \"type\": \"histogram2dcontour\"}], \"mesh3d\": [{\"colorbar\": {\"outlinewidth\": 0, \"ticks\": \"\"}, \"type\": \"mesh3d\"}], \"parcoords\": [{\"line\": {\"colorbar\": {\"outlinewidth\": 0, \"ticks\": \"\"}}, \"type\": \"parcoords\"}], \"pie\": [{\"automargin\": true, \"type\": \"pie\"}], \"scatter\": [{\"marker\": {\"colorbar\": {\"outlinewidth\": 0, \"ticks\": \"\"}}, \"type\": \"scatter\"}], \"scatter3d\": [{\"line\": {\"colorbar\": {\"outlinewidth\": 0, \"ticks\": \"\"}}, \"marker\": {\"colorbar\": {\"outlinewidth\": 0, \"ticks\": \"\"}}, \"type\": \"scatter3d\"}], \"scattercarpet\": [{\"marker\": {\"colorbar\": {\"outlinewidth\": 0, \"ticks\": \"\"}}, \"type\": \"scattercarpet\"}], \"scattergeo\": [{\"marker\": {\"colorbar\": {\"outlinewidth\": 0, \"ticks\": \"\"}}, \"type\": \"scattergeo\"}], \"scattergl\": [{\"marker\": {\"colorbar\": {\"outlinewidth\": 0, \"ticks\": \"\"}}, \"type\": \"scattergl\"}], \"scattermapbox\": [{\"marker\": {\"colorbar\": {\"outlinewidth\": 0, \"ticks\": \"\"}}, \"type\": \"scattermapbox\"}], \"scatterpolar\": [{\"marker\": {\"colorbar\": {\"outlinewidth\": 0, \"ticks\": \"\"}}, \"type\": \"scatterpolar\"}], \"scatterpolargl\": [{\"marker\": {\"colorbar\": {\"outlinewidth\": 0, \"ticks\": \"\"}}, \"type\": \"scatterpolargl\"}], \"scatterternary\": [{\"marker\": {\"colorbar\": {\"outlinewidth\": 0, \"ticks\": \"\"}}, \"type\": \"scatterternary\"}], \"surface\": [{\"colorbar\": {\"outlinewidth\": 0, \"ticks\": \"\"}, \"colorscale\": [[0.0, \"#0d0887\"], [0.1111111111111111, \"#46039f\"], [0.2222222222222222, \"#7201a8\"], [0.3333333333333333, \"#9c179e\"], [0.4444444444444444, \"#bd3786\"], [0.5555555555555556, \"#d8576b\"], [0.6666666666666666, \"#ed7953\"], [0.7777777777777778, \"#fb9f3a\"], [0.8888888888888888, \"#fdca26\"], [1.0, \"#f0f921\"]], \"type\": \"surface\"}], \"table\": [{\"cells\": {\"fill\": {\"color\": \"#EBF0F8\"}, \"line\": {\"color\": \"white\"}}, \"header\": {\"fill\": {\"color\": \"#C8D4E3\"}, \"line\": {\"color\": \"white\"}}, \"type\": \"table\"}]}, \"layout\": {\"annotationdefaults\": {\"arrowcolor\": \"#2a3f5f\", \"arrowhead\": 0, \"arrowwidth\": 1}, \"coloraxis\": {\"colorbar\": {\"outlinewidth\": 0, \"ticks\": \"\"}}, \"colorscale\": {\"diverging\": [[0, \"#8e0152\"], [0.1, \"#c51b7d\"], [0.2, \"#de77ae\"], [0.3, \"#f1b6da\"], [0.4, \"#fde0ef\"], [0.5, \"#f7f7f7\"], [0.6, \"#e6f5d0\"], [0.7, \"#b8e186\"], [0.8, \"#7fbc41\"], [0.9, \"#4d9221\"], [1, \"#276419\"]], \"sequential\": [[0.0, \"#0d0887\"], [0.1111111111111111, \"#46039f\"], [0.2222222222222222, \"#7201a8\"], [0.3333333333333333, \"#9c179e\"], [0.4444444444444444, \"#bd3786\"], [0.5555555555555556, \"#d8576b\"], [0.6666666666666666, \"#ed7953\"], [0.7777777777777778, \"#fb9f3a\"], [0.8888888888888888, \"#fdca26\"], [1.0, \"#f0f921\"]], \"sequentialminus\": [[0.0, \"#0d0887\"], [0.1111111111111111, \"#46039f\"], [0.2222222222222222, \"#7201a8\"], [0.3333333333333333, \"#9c179e\"], [0.4444444444444444, \"#bd3786\"], [0.5555555555555556, \"#d8576b\"], [0.6666666666666666, \"#ed7953\"], [0.7777777777777778, \"#fb9f3a\"], [0.8888888888888888, \"#fdca26\"], [1.0, \"#f0f921\"]]}, \"colorway\": [\"#636efa\", \"#EF553B\", \"#00cc96\", \"#ab63fa\", \"#FFA15A\", \"#19d3f3\", \"#FF6692\", \"#B6E880\", \"#FF97FF\", \"#FECB52\"], \"font\": {\"color\": \"#2a3f5f\"}, \"geo\": {\"bgcolor\": \"white\", \"lakecolor\": \"white\", \"landcolor\": \"#E5ECF6\", \"showlakes\": true, \"showland\": true, \"subunitcolor\": \"white\"}, \"hoverlabel\": {\"align\": \"left\"}, \"hovermode\": \"closest\", \"mapbox\": {\"style\": \"light\"}, \"paper_bgcolor\": \"white\", \"plot_bgcolor\": \"#E5ECF6\", \"polar\": {\"angularaxis\": {\"gridcolor\": \"white\", \"linecolor\": \"white\", \"ticks\": \"\"}, \"bgcolor\": \"#E5ECF6\", \"radialaxis\": {\"gridcolor\": \"white\", \"linecolor\": \"white\", \"ticks\": \"\"}}, \"scene\": {\"xaxis\": {\"backgroundcolor\": \"#E5ECF6\", \"gridcolor\": \"white\", \"gridwidth\": 2, \"linecolor\": \"white\", \"showbackground\": true, \"ticks\": \"\", \"zerolinecolor\": \"white\"}, \"yaxis\": {\"backgroundcolor\": \"#E5ECF6\", \"gridcolor\": \"white\", \"gridwidth\": 2, \"linecolor\": \"white\", \"showbackground\": true, \"ticks\": \"\", \"zerolinecolor\": \"white\"}, \"zaxis\": {\"backgroundcolor\": \"#E5ECF6\", \"gridcolor\": \"white\", \"gridwidth\": 2, \"linecolor\": \"white\", \"showbackground\": true, \"ticks\": \"\", \"zerolinecolor\": \"white\"}}, \"shapedefaults\": {\"line\": {\"color\": \"#2a3f5f\"}}, \"ternary\": {\"aaxis\": {\"gridcolor\": \"white\", \"linecolor\": \"white\", \"ticks\": \"\"}, \"baxis\": {\"gridcolor\": \"white\", \"linecolor\": \"white\", \"ticks\": \"\"}, \"bgcolor\": \"#E5ECF6\", \"caxis\": {\"gridcolor\": \"white\", \"linecolor\": \"white\", \"ticks\": \"\"}}, \"title\": {\"x\": 0.05}, \"xaxis\": {\"automargin\": true, \"gridcolor\": \"white\", \"linecolor\": \"white\", \"ticks\": \"\", \"title\": {\"standoff\": 15}, \"zerolinecolor\": \"white\", \"zerolinewidth\": 2}, \"yaxis\": {\"automargin\": true, \"gridcolor\": \"white\", \"linecolor\": \"white\", \"ticks\": \"\", \"title\": {\"standoff\": 15}, \"zerolinecolor\": \"white\", \"zerolinewidth\": 2}}}, \"xaxis\": {\"anchor\": \"y\", \"domain\": [0.0, 1.0], \"title\": {\"text\": \"0\"}}, \"yaxis\": {\"anchor\": \"x\", \"domain\": [0.0, 1.0], \"title\": {\"text\": \"1\"}}},                        {\"responsive\": true}                    ).then(function(){\n",
       "                            \n",
       "var gd = document.getElementById('bcd69b82-f4ee-4c7f-9f0e-67093760f4d9');\n",
       "var x = new MutationObserver(function (mutations, observer) {{\n",
       "        var display = window.getComputedStyle(gd).display;\n",
       "        if (!display || display === 'none') {{\n",
       "            console.log([gd, 'removed!']);\n",
       "            Plotly.purge(gd);\n",
       "            observer.disconnect();\n",
       "        }}\n",
       "}});\n",
       "\n",
       "// Listen for the removal of the full notebook cells\n",
       "var notebookContainer = gd.closest('#notebook-container');\n",
       "if (notebookContainer) {{\n",
       "    x.observe(notebookContainer, {childList: true});\n",
       "}}\n",
       "\n",
       "// Listen for the clearing of the current output cell\n",
       "var outputEl = gd.closest('.output');\n",
       "if (outputEl) {{\n",
       "    x.observe(outputEl, {childList: true});\n",
       "}}\n",
       "\n",
       "                        })                };                });            </script>        </div>"
      ]
     },
     "metadata": {},
     "output_type": "display_data"
    }
   ],
   "source": [
    "\"\"\"\n",
    "ACP  deuxieme version\n",
    "\"\"\" \n",
    "\n",
    "bacternames = dfTaxo['Taxo'] #this column has microbes names\n",
    "bacterindexes = dfTaxo.index\n",
    "dfTaxo_n = dfTaxo.drop(columns=['Taxo'])\n",
    "dfTaxo_n \n",
    "\n",
    "Xn = dfTaxo_n.values\n",
    "yn = np.array(bacterindexes)\n",
    "\n",
    "import plotly.express as px\n",
    "from sklearn.decomposition import PCA\n",
    "\n",
    "\n",
    "pca = PCA(n_components=2)\n",
    "components = pca.fit_transform(Xn,yn)\n",
    "\n",
    "fig = px.scatter(components, x=0, y=1, color=yn) \n",
    "fig.show()"
   ]
  },
  {
   "cell_type": "code",
   "execution_count": 144,
   "metadata": {},
   "outputs": [
    {
     "data": {
      "text/plain": [
       "array([[ 1.90548969e+03,  3.28571939e+02],\n",
       "       [ 1.38863130e+01,  6.25424508e+01],\n",
       "       [-1.31941296e+01,  6.81626815e-01],\n",
       "       ...,\n",
       "       [-1.65635951e+01, -6.76722864e+00],\n",
       "       [-1.66468649e+01, -6.46927761e+00],\n",
       "       [-1.66228232e+01, -6.50601970e+00]])"
      ]
     },
     "execution_count": 144,
     "metadata": {},
     "output_type": "execute_result"
    }
   ],
   "source": [
    "components"
   ]
  },
  {
   "cell_type": "code",
   "execution_count": 145,
   "metadata": {},
   "outputs": [
    {
     "data": {
      "text/plain": [
       "(577, 2)"
      ]
     },
     "execution_count": 145,
     "metadata": {},
     "output_type": "execute_result"
    }
   ],
   "source": [
    "components.shape # non bonne reduction, on a encore 577 choses"
   ]
  },
  {
   "cell_type": "code",
   "execution_count": 156,
   "metadata": {},
   "outputs": [],
   "source": [
    "## do from scratch: pending to continue .....\n",
    "covariamat = np.cov(np.array(dfTaxo_n.values).astype(int))"
   ]
  },
  {
   "cell_type": "code",
   "execution_count": 159,
   "metadata": {},
   "outputs": [
    {
     "data": {
      "text/plain": [
       "(577, 577)"
      ]
     },
     "execution_count": 159,
     "metadata": {},
     "output_type": "execute_result"
    }
   ],
   "source": [
    "covariamat.shape"
   ]
  },
  {
   "cell_type": "code",
   "execution_count": null,
   "metadata": {},
   "outputs": [],
   "source": []
  }
 ],
 "metadata": {
  "kernelspec": {
   "display_name": "Python 3",
   "language": "python",
   "name": "python3"
  },
  "language_info": {
   "codemirror_mode": {
    "name": "ipython",
    "version": 3
   },
   "file_extension": ".py",
   "mimetype": "text/x-python",
   "name": "python",
   "nbconvert_exporter": "python",
   "pygments_lexer": "ipython3",
   "version": "3.8.5"
  }
 },
 "nbformat": 4,
 "nbformat_minor": 4
}
