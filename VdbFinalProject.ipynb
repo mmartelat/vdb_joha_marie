{
 "cells": [
  {
   "cell_type": "code",
   "execution_count": 1,
   "metadata": {},
   "outputs": [],
   "source": [
    "import pandas\n",
    "import os\n",
    "import numpy as np\n",
    "\n",
    "\n",
    "df = pandas.read_csv(\"1335.vdb.tab\", sep=\"\\t\", header =None) \n",
    "#Récupère la liste de nombre, correspondant aux comptage des différents espèces en fonction des lieu de prélevement\n",
    "#2=door_in_1 ; 3=door_in_2 ; 4=faucet_handle_1 ; 5=faucet_handle_2 ; 6=sink_floor_1 ; 7=sink_floor_2\n",
    "#8=soap_dispenser_1 ; 9=stall_in_1 ; 10=toilet_floor_1 ; 11=toilet_floor_1 ; 12=toilet_flush_handle_1\n",
    "#13=toilet_flush_handle_2 ; 14=toilet_seat_1 ; 15=toilet_seat_2\n",
    "def getcountsfromrow(row):\n",
    "    l_l = [ int(row[2]),\n",
    "            int(row[3]),\n",
    "            int(row[4]),\n",
    "            int(row[5]),\n",
    "            int(row[6]),\n",
    "            int(row[7]),\n",
    "            int(row[8]),\n",
    "            int(row[9]),\n",
    "            int(row[10]),\n",
    "            int(row[11]),\n",
    "            int(row[12]),\n",
    "            int(row[13]),\n",
    "            int(row[14]),\n",
    "            int(row[15]) ]\n",
    "    return l_l\n",
    "\n",
    "\"\"\"\n",
    "Code pour generer dictionnaire. \n",
    "\n",
    "Sous forme { name : \"nomDeLaTaxo\", \n",
    "count : list de compte pour chaque localisation, \n",
    "children : liste des niveau plus précis venant de cette taxo}\n",
    "\n",
    "Au prealable, avec cat 1335.vdb.tab | cut -f 2 | cut -d \";\" -f 1 | uniq\n",
    "OTUConTaxonomy\"Bacteria(100)  => on a confirmé que ce sont toutes Bacteria\n",
    "\"\"\"\n",
    "def getDicoTaxo(df):\n",
    "    dicotaxo = { \"name\" : \"Bacteria\", \"count\" : [0 for i in range(14)], \"children\" : []}\n",
    "    for index,row in df.iterrows():\n",
    "        leveltax = row[1].split(';')  # uniquement indexes >=1 m'interessent \n",
    "        if index > 0:\n",
    "            COUNTS = getcountsfromrow(row)\n",
    "            tmp5 = {}\n",
    "            tmp4 = {}\n",
    "            tmp3 = {}\n",
    "            tmp2 = {}\n",
    "            tmp1 = {}\n",
    "            tmp5[\"name\"] = leveltax[5]\n",
    "            tmp4[\"name\"] = leveltax[4]\n",
    "            tmp3[\"name\"] = leveltax[3]\n",
    "            tmp2[\"name\"] = leveltax[2]\n",
    "            tmp1[\"name\"] = leveltax[1]      \n",
    "            tmp5[\"count\"] =  getcountsfromrow(row)\n",
    "            tmp5[\"children\"] = []  # lowest level\n",
    "            tmp4[\"count\"] =  getcountsfromrow(row)\n",
    "            tmp4[\"children\"] = [tmp5]\n",
    "            tmp3[\"count\"] =  getcountsfromrow(row)\n",
    "            tmp3[\"children\"] = [tmp4]\n",
    "            tmp2[\"count\"] =  getcountsfromrow(row)\n",
    "            tmp2[\"children\"] = [tmp3]\n",
    "            tmp1[\"count\"] = getcountsfromrow(row)\n",
    "            tmp1[\"children\"] = [tmp2]\n",
    "            tmpcounts = dicotaxo[\"count\"]\n",
    "            dicotaxo[\"count\"] = np.add(tmpcounts, COUNTS)\n",
    "            if leveltax[1] not in [m[\"name\"] for m in dicotaxo[\"children\"]] :\n",
    "                dicotaxo[\"children\"].append(tmp1)\n",
    "            else:\n",
    "                for m in dicotaxo[\"children\"]:\n",
    "                    if m[\"name\"] == leveltax[1]:\n",
    "                        tmpc = m[\"count\"]\n",
    "                        m[\"count\"] = np.add(tmpc, COUNTS)\n",
    "                        if leveltax[2] not in [n[\"name\"] for n in m[\"children\"]] :\n",
    "                            m[\"children\"].append(tmp2)\n",
    "                        else:\n",
    "                            for n in m[\"children\"]:\n",
    "                                if n[\"name\"] == leveltax[2]:\n",
    "                                    tmpc = n[\"count\"]\n",
    "                                    n[\"count\"] = np.add(tmpc, COUNTS)\n",
    "                                    if leveltax[3] not in [o[\"name\"] for o in n[\"children\"]]:\n",
    "                                        n[\"children\"].append(tmp3)\n",
    "                                    else: \n",
    "                                        for o in n[\"children\"]:\n",
    "                                            if o[\"name\"] == leveltax[3]:\n",
    "                                                tmpc = o[\"count\"]\n",
    "                                                o[\"count\"] = np.add(tmpc,COUNTS)\n",
    "                                                if leveltax[4] not in [p[\"name\"] for p in o[\"children\"]]:\n",
    "                                                    o[\"children\"].append(tmp4)\n",
    "                                                else:\n",
    "                                                    for p in o[\"children\"]:\n",
    "                                                        if p[\"name\"] == leveltax[4]:\n",
    "                                                            tmpc = p[\"count\"]\n",
    "                                                            p[\"count\"] = np.add(tmpc, COUNTS)\n",
    "                                                            if leveltax[5] not in [q[\"name\"] for q in p[\"children\"]]:\n",
    "                                                                p[\"children\"].append(tmp5)\n",
    "                                                            else:\n",
    "                                                                for q in p[\"children\"]:\n",
    "                                                                    if q[\"name\"] == leveltax[5]:\n",
    "                                                                        tmpc = q[\"count\"]\n",
    "                                                                        q[\"count\"] = np.add(tmpc, COUNTS)\n",
    "                                                                        q[\"children\"] = []\n",
    "                                                                        # this is the lowest level                                        \n",
    "    return dicotaxo\n",
    "\n"
   ]
  },
  {
   "cell_type": "code",
   "execution_count": 2,
   "metadata": {},
   "outputs": [],
   "source": [
    "\"\"\"\n",
    "Méthodes pour récupérer des données intéréssantes du dicoTaxo en fonction de figure voulu\n",
    "\"\"\"\n",
    "\n",
    "#Méthode pour récupérer le niveau de taxo demander (convertie en chiffre)\n",
    "def convertNiv(niveau):\n",
    "    if niveau.upper() == \"REGNE\":\n",
    "        return 1\n",
    "    if niveau.upper() == \"PHYLUM\":\n",
    "        return 2\n",
    "    if niveau.upper() == \"CLASSE\":\n",
    "        return 3\n",
    "    if niveau.upper() == \"ORDRE\":\n",
    "        return 4\n",
    "    if niveau.upper() == \"FAMILLE\":\n",
    "        return 5\n",
    "    if niveau.upper() == \"GENRE\":\n",
    "        return 6\n",
    "\n",
    "#Permet créer un dico pour chaque niveau\n",
    "def dicoListeNiveau(nomList, dico):\n",
    "    dico[nomList] = []\n",
    "    \n",
    "\"\"\"\n",
    "Méthode 1 : En fonction du niveaux de taxo récupéré donnne pour l'espèce le comptage en fonction du lieu\n",
    "Input : niveau taxo Regne;Phylum;Classe;Ordre;Famille;Genre\n",
    "Output : liste de vecteurs ; 1er : vecteur des espèces, \n",
    "puis 1 vecteurs par localisation (1 vecteur donne le comptage pour l'espèce dans la localisation donnée)\n",
    "Ordre pour la localisation : \"door_in_1\",\"door_in_2\", \"faucet_handle_1\", \n",
    "                \"faucet_handle_2\", \"sink_floor_1\", \"sink_floor_2\",\n",
    "               \"soap_dispenser_1\", \"stall_in_1\", \"toilet_floor_1\", \n",
    "               \"toilet_floor_2\", \"toilet_flush_handle_1\",\n",
    "               \"toilet_flush_handle_2\", \"toilet_seat_1\", \"toilet_seat_2\"\n",
    "\"\"\"\n",
    "def getNiv(niveau,dicoTaxo):\n",
    "    niv = convertNiv(niveau)\n",
    "    vecteurs = []\n",
    "    dicoListeNivx = {}\n",
    "    #Regne \n",
    "    listeRegne = []\n",
    "    #Regne compte\n",
    "    listelRegne = []\n",
    "    #Autre niveau\n",
    "    listePhylum =[]\n",
    "    listeClasse =[]\n",
    "    listeOrdre =[]\n",
    "    listeFamille =[]\n",
    "    listeGenre =[]\n",
    "    #autre niveau compte\n",
    "    for i in range(1,15):\n",
    "        nomList = f\"listel{i}\" + niveau.lower()\n",
    "        dicoListeNiveau(nomList,dicoListeNivx )\n",
    "\n",
    "    for k1, v1 in dicoTaxo.items():\n",
    "        #Récupère que pour le règne\n",
    "        if k1 == \"name\" and niv == 1:\n",
    "            listeRegne.append(v1)\n",
    "            vecteurs.append(listeRegne)\n",
    "        elif k1 == \"count\" and niv == 1:\n",
    "            listelRegne.append(v1)\n",
    "            vecteurs.append(listelRegne)\n",
    "        elif k1 == \"children\" and niv > 1: \n",
    "            for phylum in dicoTaxo['children']:\n",
    "                for k2, v2 in phylum.items():\n",
    "                    #Récupère que pour le phylum\n",
    "                    if k2 == \"name\" and niv == 2:\n",
    "                        listePhylum.append(v2)\n",
    "                    elif k2 == \"count\" and niv == 2:\n",
    "                        for i in range(0,14):\n",
    "                            numList = i+1\n",
    "                            nomList = f\"listel{numList}\" + niveau.lower()\n",
    "                            dicoListeNivx[nomList].append(v2[i])\n",
    "\n",
    "                    #Descend dans les niveau plus précis\n",
    "                    elif k2 == \"children\" and niv > 2:\n",
    "                        for classe in v2:\n",
    "                            for k3, v3 in classe.items():\n",
    "                                #Récupère que pour la classe\n",
    "                                if k3 == \"name\" and niv == 3:\n",
    "                                    listeClasse.append(v3)\n",
    "                                elif k3 == \"count\" and niv == 3:\n",
    "                                     for i in range(0,14):\n",
    "                                        numList = i+1\n",
    "                                        nomList = f\"listel{numList}\" + niveau.lower()\n",
    "                                        dicoListeNivx[nomList].append(v3[i])\n",
    "                                #Descend dans les niveau plus précis\n",
    "                                elif k3 == \"children\" and niv > 3:\n",
    "                                    for ordre in v3:\n",
    "                                        for k4, v4 in ordre.items():\n",
    "                                            #Récupère que pour l'ordre\n",
    "                                            if k4 == \"name\" and niv == 4:\n",
    "                                                listeOrdre.append(v4)\n",
    "                                            elif k4 == \"count\" and niv == 4:\n",
    "                                                for i in range(0,14):\n",
    "                                                    numList = i+1\n",
    "                                                    nomList = f\"listel{numList}\" + niveau.lower()\n",
    "                                                    dicoListeNivx[nomList].append(v4[i])\n",
    "                                            #Descend dans les niveau plus précis\n",
    "                                            elif k4 == \"children\" and niv > 4:\n",
    "                                                for famille in v4:\n",
    "                                                    for k5, v5 in famille.items():\n",
    "                                                        #Récupère que pour la famille\n",
    "                                                        if k5 == \"name\" and niv == 5:\n",
    "                                                            listeFamille.append(v5)\n",
    "                                                        elif k5 == \"count\" and niv == 5:\n",
    "                                                            for i in range(0,14):\n",
    "                                                                numList = i+1\n",
    "                                                                nomList = f\"listel{numList}\" + niveau.lower()\n",
    "                                                                dicoListeNivx[nomList].append(v5[i])\n",
    "                                                        #Descend dans les niveau plus précis\n",
    "                                                        elif k5 == \"children\" and niv > 5:\n",
    "                                                            for genre in v5:\n",
    "                                                                for k6, v6 in genre.items():\n",
    "                                                                    #Récupère que pour la famille\n",
    "                                                                    if k6 == \"name\" and niv == 6:\n",
    "                                                                        listeGenre.append(v6)\n",
    "                                                                    elif k6 == \"count\" and niv == 6:\n",
    "                                                                        for i in range(0,14):\n",
    "                                                                            numList = i+1\n",
    "                                                                            nomList = f\"listel{numList}\" + niveau.lower()\n",
    "                                                                            dicoListeNivx[nomList].append(v6[i])\n",
    "                                                                    \n",
    "\n",
    "    #Forme les vecteurs en fonction du niveau de taxo voulu.\n",
    "    if niv == 2:\n",
    "        vecteurs.append(listePhylum);vecteurs.append(dicoListeNivx['listel1phylum']);vecteurs.append(dicoListeNivx['listel2phylum']);vecteurs.append(dicoListeNivx['listel3phylum'])\n",
    "        vecteurs.append(dicoListeNivx['listel4phylum']);vecteurs.append(dicoListeNivx['listel5phylum']);vecteurs.append(dicoListeNivx['listel6phylum']);vecteurs.append(dicoListeNivx['listel7phylum'])\n",
    "        vecteurs.append(dicoListeNivx['listel8phylum']);vecteurs.append(dicoListeNivx['listel9phylum']);vecteurs.append(dicoListeNivx['listel10phylum']);vecteurs.append(dicoListeNivx['listel11phylum'])\n",
    "        vecteurs.append(dicoListeNivx['listel12phylum']);vecteurs.append(dicoListeNivx['listel13phylum']);vecteurs.append(dicoListeNivx['listel14phylum']);\n",
    "    if niv == 3:\n",
    "        vecteurs.append(listeClasse);vecteurs.append(dicoListeNivx['listel1classe']);vecteurs.append(dicoListeNivx['listel2classe']);vecteurs.append(dicoListeNivx['listel3classe'])\n",
    "        vecteurs.append(dicoListeNivx['listel4classe']);vecteurs.append(dicoListeNivx['listel5classe']);vecteurs.append(dicoListeNivx['listel6classe']);vecteurs.append(dicoListeNivx['listel7classe'])\n",
    "        vecteurs.append(dicoListeNivx['listel8classe']);vecteurs.append(dicoListeNivx['listel9classe']);vecteurs.append(dicoListeNivx['listel10classe']);vecteurs.append(dicoListeNivx['listel11classe'])\n",
    "        vecteurs.append(dicoListeNivx['listel12classe']);vecteurs.append(dicoListeNivx['listel13classe']);vecteurs.append(dicoListeNivx['listel14classe']);\n",
    "    if niv == 4:\n",
    "        vecteurs.append(listeOrdre);vecteurs.append(dicoListeNivx['listel1ordre']);vecteurs.append(dicoListeNivx['listel2ordre']);vecteurs.append(dicoListeNivx['listel3ordre'])\n",
    "        vecteurs.append(dicoListeNivx['listel4ordre']);vecteurs.append(dicoListeNivx['listel5ordre']);vecteurs.append(dicoListeNivx['listel6ordre']);vecteurs.append(dicoListeNivx['listel7ordre'])\n",
    "        vecteurs.append(dicoListeNivx['listel8ordre']);vecteurs.append(dicoListeNivx['listel9ordre']);vecteurs.append(dicoListeNivx['listel10ordre']);vecteurs.append(dicoListeNivx['listel11ordre'])\n",
    "        vecteurs.append(dicoListeNivx['listel12ordre']);vecteurs.append(dicoListeNivx['listel13ordre']);vecteurs.append(dicoListeNivx['listel14ordre']);\n",
    "    if niv == 5:\n",
    "        vecteurs.append(listeFamille);vecteurs.append(dicoListeNivx['listel1famille']);vecteurs.append(dicoListeNivx['listel2famille']);vecteurs.append(dicoListeNivx['listel3famille'])\n",
    "        vecteurs.append(dicoListeNivx['listel4famille']);vecteurs.append(dicoListeNivx['listel5famille']);vecteurs.append(dicoListeNivx['listel6famille']);vecteurs.append(dicoListeNivx['listel7famille'])\n",
    "        vecteurs.append(dicoListeNivx['listel8famille']);vecteurs.append(dicoListeNivx['listel9famille']);vecteurs.append(dicoListeNivx['listel10famille']);vecteurs.append(dicoListeNivx['listel11famille'])\n",
    "        vecteurs.append(dicoListeNivx['listel12famille']);vecteurs.append(dicoListeNivx['listel13famille']);vecteurs.append(dicoListeNivx['listel14famille']);\n",
    "    if niv == 6:\n",
    "        vecteurs.append(listeGenre);vecteurs.append(dicoListeNivx['listel1genre']);vecteurs.append(dicoListeNivx['listel2genre']);vecteurs.append(dicoListeNivx['listel2genre'])\n",
    "        vecteurs.append(dicoListeNivx['listel4genre']);vecteurs.append(dicoListeNivx['listel5genre']);vecteurs.append(dicoListeNivx['listel6genre']);vecteurs.append(dicoListeNivx['listel7genre'])\n",
    "        vecteurs.append(dicoListeNivx['listel8genre']);vecteurs.append(dicoListeNivx['listel9genre']);vecteurs.append(dicoListeNivx['listel10genre']);vecteurs.append(dicoListeNivx['listel11genre'])\n",
    "        vecteurs.append(dicoListeNivx['listel12genre']);vecteurs.append(dicoListeNivx['listel13genre']);vecteurs.append(dicoListeNivx['listel14genre']);\n",
    "    \n",
    "    return vecteurs\n",
    "\n",
    "\"\"\"\n",
    "Méthode 2: pour récupérer les vecteurs de comptage avec un comptages assez important.\n",
    "\"\"\"\n",
    "def abondanceImportant(vecteurs, comptageMin):\n",
    "    sum = 0\n",
    "    lgVecteur = len(vecteurs[0])\n",
    "    rangeb = len(vecteurs[0])-1\n",
    "    listNumsup = []\n",
    "    for i in range(0,rangeb):\n",
    "        sum = vecteurs[1][i] +vecteurs[2][i]+vecteurs[3][i]+vecteurs[4][i]+vecteurs[5][i]+vecteurs[6][i]+vecteurs[7][i]+vecteurs[8][i]+vecteurs[9][i]+vecteurs[10][i]+vecteurs[11][i]+vecteurs[12][i]+vecteurs[13][i]+vecteurs[14][i]\n",
    "        if sum < comptageMin :\n",
    "            listNumsup.append(i)\n",
    "    nbSup = 0\n",
    "    for i in listNumsup:\n",
    "        if(lgVecteur == len(vecteurs[0]) ):\n",
    "            del vecteurs[0][i]\n",
    "            del vecteurs[1][i]\n",
    "            del vecteurs[2][i]\n",
    "            del vecteurs[3][i]\n",
    "            del vecteurs[4][i]\n",
    "            del vecteurs[5][i]\n",
    "            del vecteurs[6][i]\n",
    "            del vecteurs[7][i]\n",
    "            del vecteurs[8][i]\n",
    "            del vecteurs[9][i]\n",
    "            del vecteurs[10][i]\n",
    "            del vecteurs[11][i]\n",
    "            del vecteurs[12][i]\n",
    "            del vecteurs[13][i]\n",
    "            del vecteurs[14][i]\n",
    "        else:\n",
    "            nbSup = nbSup + 1\n",
    "            i = i-nbSup\n",
    "            del vecteurs[0][i]\n",
    "            del vecteurs[1][i]\n",
    "            del vecteurs[2][i]\n",
    "            del vecteurs[3][i]\n",
    "            del vecteurs[4][i]\n",
    "            del vecteurs[5][i]\n",
    "            del vecteurs[6][i]\n",
    "            del vecteurs[7][i]\n",
    "            del vecteurs[8][i]\n",
    "            del vecteurs[9][i]\n",
    "            del vecteurs[10][i]\n",
    "            del vecteurs[11][i]\n",
    "            del vecteurs[12][i]\n",
    "            del vecteurs[13][i]\n",
    "            del vecteurs[14][i]\n",
    "        \n",
    "    return vecteurs \n",
    "\n",
    "\"\"\"\n",
    "Methode 3 : Création matrice pour heat map a partir d'une liste de vecteurs.\n",
    "\"\"\"\n",
    "import numpy as np\n",
    "\n",
    "def matrice(vecteurs):\n",
    "    mat = np.array([vecteurs[1],vecteurs[2],vecteurs[3],vecteurs[4],vecteurs[5],vecteurs[6],vecteurs[7],vecteurs[8],vecteurs[9],\n",
    "           vecteurs[10],vecteurs[11],vecteurs[12],vecteurs[13],vecteurs[14]])\n",
    "    return mat\n",
    "\n",
    "\n",
    "\"\"\"\n",
    "Méthodes utilisant le dicoTaxo où l'on a déjà récupéré tout les comptages par niveau et taxo.\n",
    "\"\"\"\n",
    "\n",
    "\"\"\"\n",
    "Méthode 4 : Avec le niveau de Taxo créer une dataframe panda sur lequel peut travailler pour différentes figures.\n",
    "Input : dicoTaxo créer avec la méthode 1\n",
    "Output : dataFrame de 16 colonnes\n",
    "Colonne créer : \n",
    "Nvx_taxo : Indique de qu'elle niveau la taxo appartient (Regne;Phylum;Classe;Ordre;Famille;Genre)\n",
    "Taxo : Donne la taxo \n",
    "LocN : Donne le comptage pour chaque N localisation pour cette taxo. \n",
    "Localisation : \"door_in_1\",\"door_in_2\", \"faucet_handle_1\", \"faucet_handle_2\", \"sink_floor_1\", \"sink_floor_2\",\n",
    "               \"soap_dispenser_1\", \"stall_in_1\", \"toilet_floor_1\", \"toilet_floor_2\", \"toilet_flush_handle_1\",\"toilet_flush_handle_2\", \"toilet_seat_1\", \"toilet_seat_2\"\n",
    "\"\"\"\n",
    "def getDF(dicoTaxo):\n",
    "    listeDf=[]\n",
    "    listeRegne=[\"regne\"]\n",
    "    for k1, v1 in dicoTaxo.items():\n",
    "        #Récupère que pour le règne\n",
    "        if k1 == \"name\":\n",
    "            listeRegne.append(v1)\n",
    "        elif k1 == \"count\" :\n",
    "            for i in range(0,14):\n",
    "                listeRegne.append(int(v1[i]))\n",
    "            listeDf.append(listeRegne)\n",
    "        elif k1 == \"children\":\n",
    "            for phylum in dicoTaxo['children']:\n",
    "                listePhylum = [\"phylum\"]\n",
    "                for k2, v2 in phylum.items():\n",
    "                    #Récupère que pour le phylum\n",
    "                    if k2 == \"name\" :\n",
    "                        listePhylum.append(v2)\n",
    "                    elif k2 == \"count\" :\n",
    "                        for i in range(0,14):\n",
    "                            listePhylum.append(int(v2[i]))\n",
    "                        listeDf.append(listePhylum)\n",
    "                    #Descend dans les niveau plus précis\n",
    "                    elif k2 == \"children\" :\n",
    "                        for classe in v2:\n",
    "                            listeClasse = [\"classe\"]\n",
    "                            for k3, v3 in classe.items():\n",
    "                                #Récupère que pour le phylum\n",
    "                                if k3 == \"name\" :\n",
    "                                    listeClasse.append(v3)\n",
    "                                elif k3 == \"count\" :\n",
    "                                    for i in range(0,14):\n",
    "                                        listeClasse.append(int(v3[i]))\n",
    "                                    listeDf.append(listeClasse)\n",
    "                                #Descend dans les niveau plus précis\n",
    "                                elif k2 == \"children\" :\n",
    "                                    for ordre in v3:\n",
    "                                        listeOrdre = [\"ordre\"]\n",
    "                                        for k4, v4 in ordre.items():\n",
    "                                            #Récupère que pour le phylum\n",
    "                                            if k4 == \"name\" :\n",
    "                                                listeOrdre.append(v4)\n",
    "                                            elif k4 == \"count\" :\n",
    "                                                for i in range(0,14):\n",
    "                                                    listeOrdre.append(int(v4[i]))\n",
    "                                                listeDf.append(listeOrdre)\n",
    "                                            #Descend dans les niveau plus précis\n",
    "                                            elif k4 == \"children\" :\n",
    "                                                for famille in v4:\n",
    "                                                    listeFamille = [\"famille\"]\n",
    "                                                    for k5, v5 in famille.items():\n",
    "                                                        #Récupère que pour le phylum\n",
    "                                                        if k5 == \"name\" :\n",
    "                                                            listeFamille.append(v5)\n",
    "                                                        elif k5 == \"count\" :\n",
    "                                                            for i in range(0,14):\n",
    "                                                                listeFamille.append(int(v5[i]))\n",
    "                                                            listeDf.append(listeFamille)\n",
    "                                                         #Descend dans les niveau plus précis\n",
    "                                                        elif k5 == \"children\" :\n",
    "                                                            for genre in v5:\n",
    "                                                                listeGenre = [\"genre\"]\n",
    "                                                                for k6, v6 in genre.items():\n",
    "                                                                    #Récupère que pour le phylum\n",
    "                                                                    if k6 == \"name\" :\n",
    "                                                                        listeGenre.append(v6)\n",
    "                                                                    elif k6 == \"count\" :\n",
    "                                                                        for i in range(0,14):\n",
    "                                                                            listeGenre.append(int(v6[i]))\n",
    "                                                                        listeDf.append(listeGenre)\n",
    "                                                                    \n",
    "    listelegColonne=[\"Nvx_taxo\",\"Taxo\",\"door_in_1\",\"door_in_2\", \"faucet_handle_1\", \n",
    "                \"faucet_handle_2\", \"sink_floor_1\", \"sink_floor_2\",\n",
    "               \"soap_dispenser_1\", \"stall_in_1\", \"toilet_floor_1\", \n",
    "               \"toilet_floor_2\", \"toilet_flush_handle_1\",\n",
    "               \"toilet_flush_handle_2\", \"toilet_seat_1\", \"toilet_seat_2\"]\n",
    "    ar = np.array(listeDf)\n",
    "    df = pandas.DataFrame(ar, columns = listelegColonne )\n",
    "    return df\n",
    "\n",
    "\"\"\"\n",
    "Méthode 5 : Récupère le dataframe pour une seul taxo voulu\n",
    "Input : dataframe créer avec méthode 4 , et taxo voulu (Regne;Phylum;Classe;Ordre;Famille;Genre)\n",
    "Output : dataframe avec seulement les lignes corespondant à taxo.\n",
    "\"\"\"\n",
    "def getDFFonctionTaxo(df, taxo):\n",
    "    filtre = df['Nvx_taxo']==taxo\n",
    "    dfTaxo = df[filtre]\n",
    "    return dfTaxo\n",
    "\n",
    "\"\"\"\n",
    "Méthode 6 : Récupère tableau avec colonne suprimmer\n",
    "\"\"\"\n",
    "def getDFLoc(df, listeColonneSup):\n",
    "    dfLoc = df.drop(columns =listeColonneSup , inplace= True )\n",
    "    return dfLoc\n",
    "\n",
    "\"\"\"\n",
    "Méthode 7 : Récupère la localisation\n",
    "\"\"\"\n",
    "def getLoc(niv):\n",
    "    if niv == 0:\n",
    "        return \"door_in_1\"\n",
    "    elif niv == 1:\n",
    "        return \"door_in_2\"\n",
    "    elif niv == 2:\n",
    "        return \"faucet_handle_1\" \n",
    "    elif niv == 3:\n",
    "        return \"faucet_handle_2\" \n",
    "    elif niv == 4:\n",
    "        return \"sink_floor_1\"\n",
    "    elif niv == 5:\n",
    "        return \"sink_floor_2\"\n",
    "    elif niv == 6:\n",
    "        return \"soap_dispenser_1\"\n",
    "    elif niv == 7:\n",
    "        return \"stall_in_1\"\n",
    "    elif niv == 8:\n",
    "        return \"toilet_floor_1\"\n",
    "    elif niv == 9:\n",
    "        return \"toilet_floor_2\"\n",
    "    elif niv == 10:\n",
    "        return \"toilet_flush_handle_1\"\n",
    "    elif niv == 11:\n",
    "        return \"toilet_flush_handle_2\"\n",
    "    elif niv == 12:\n",
    "        return \"toilet_seat_1\"\n",
    "    elif niv == 13:\n",
    "        return \"toilet_seat_2\"\n",
    "    \n",
    "\n",
    "\"\"\"\n",
    "Méthode 8 : Recréer une dataFrame à partir de celle créer dans la méthode 4. \n",
    "Input : dataframe de getDF\n",
    "Ouput : datafframe de 4 colonnes (\"Nvx_taxo\",\"Taxo\", \"Localisation\", \"Comptage\")\n",
    "\"\"\"\n",
    "def getDFTree(df):\n",
    "    listeDf=[]\n",
    "    for j in range(0,14):\n",
    "        for i in df.index:\n",
    "            listeLigne = [df[\"Nvx_taxo\"][i]]\n",
    "            listeLigne.append(df[\"Taxo\"][i])\n",
    "            loc = getLoc(j)\n",
    "            listeLigne.append(loc)\n",
    "            listeLigne.append(df[loc][i])\n",
    "            listeDf.append(listeLigne)\n",
    "    listelegColonne=[\"Nvx_taxo\",\"Taxo\", \"Localisation\", \"Comptage\"]\n",
    "    ar = np.array(listeDf)\n",
    "    df = pandas.DataFrame(ar, columns = listelegColonne )\n",
    "    return df"
   ]
  },
  {
   "cell_type": "code",
   "execution_count": 18,
   "metadata": {},
   "outputs": [
    {
     "data": {
      "image/png": "[encoded data removed]",
      "text/plain": [
       "<Figure size 504x360 with 1 Axes>"
      ]
     },
     "metadata": {
      "needs_background": "light"
     },
     "output_type": "display_data"
    }
   ],
   "source": [
    "\"\"\"\n",
    "Création de differente figures\n",
    "\"\"\"\n",
    "\n",
    "\"\"\"\n",
    "1er Figure : BarPlot recupère pour une Taxo donnéer \n",
    "les abondances des espèces en fonctions de leur localisation\n",
    "\"\"\"\n",
    "import matplotlib.pyplot as plt\n",
    "import seaborn as sns\n",
    "\n",
    "SELECTED = \"Phylum\" \n",
    "dicoTaxoTest = getDicoTaxo(df)\n",
    "vecteurs = getNiv(SELECTED,dicoTaxoTest) \n",
    "\n",
    "\n",
    "\n",
    "localisation=[\"door_in_1\",\"door_in_2\", \"faucet_handle_1\", \n",
    "                \"faucet_handle_2\", \"sink_floor_1\", \"sink_floor_2\",\n",
    "               \"soap_dispenser_1\", \"stall_in_1\", \"toilet_floor_1\", \n",
    "               \"toilet_floor_2\", \"toilet_flush_handle_1\",\n",
    "               \"toilet_flush_handle_2\", \"toilet_seat_1\", \"toilet_seat_2\"]\n",
    "\n",
    "vecteursTrier = abondanceImportant(vecteurs, 10)\n",
    "\n",
    "vecteursTaxo = vecteursTrier[0]\n",
    "vecteursComptage = np.delete(vecteursTrier, (0), axis=0)\n",
    "VecteursComptInverse=np.fliplr(np.rot90(vecteursComptage,3))\n",
    "\n",
    "N=len(VecteursComptInverse[0])\n",
    "ind = np.arange(N)\n",
    "\n",
    "l_loc = []\n",
    "for i in range(len(vecteursTaxo)):\n",
    "    l_loc.append(VecteursComptInverse[i])\n",
    "\n",
    "height = 0.9\n",
    "fig = plt.figure(figsize=[7, 5])\n",
    "bars = []\n",
    "cols = sns.color_palette(\"hls\",len(vecteursTaxo)) #COLORS\n",
    "#NOTE:max colors for \"colorblind\" are 10, look for solution soon!\n",
    "cumulated = np.zeros(len(l_loc[0]),dtype=int)\n",
    "for i in range(len(vecteursTaxo)):\n",
    "    if i == 0 :\n",
    "        tmpbarobject = plt.barh(ind,[int(elem) for elem in l_loc[i] ], height,color=cols[i])\n",
    "    else: \n",
    "        tmpbarobject = plt.barh(ind, [int(elem) for elem in l_loc[i] ],height, left=cumulated, color=cols[i]) \n",
    "    \n",
    "    listeInt= [int(elem) for elem in l_loc[i] ]\n",
    "    cumulated = np.add(listeInt,cumulated)\n",
    "    bars.append(tmpbarobject[0])\n",
    "        \n",
    "\n",
    "plt.xlabel('Abondance') \n",
    "plt.title('Abondances Relatives, niveau  ' + SELECTED) \n",
    "plt.yticks(ind, (localisation)) \n",
    "# legende dehors du plot area avec: bbbox_to_anchor\n",
    "plt.legend(bars, vecteursTaxo, bbox_to_anchor=(1.5, 1))  \n",
    "plt.savefig('plots/bar_AbondRelatives.pdf', format=\"pdf\", dpi=300,  bbox_inches = 'tight')"
   ]
  },
  {
   "cell_type": "code",
   "execution_count": 4,
   "metadata": {},
   "outputs": [
    {
     "data": {
      "image/png": "[encoded data removed]",
      "text/plain": [
       "<Figure size 432x288 with 1 Axes>"
      ]
     },
     "metadata": {
      "needs_background": "light"
     },
     "output_type": "display_data"
    }
   ],
   "source": [
    "\"\"\"\n",
    "Figure 2 : HeatMap représentant, pour un niveau de taxo donnée, \n",
    "la présence ou abscence d'une expèce dans une localisation.\n",
    "\"\"\"\n",
    "\n",
    "dicoTaxoTest = getDicoTaxo(df)\n",
    "Niveau = \"Phylum\"\n",
    "vecteurs = getNiv(Niveau,dicoTaxoTest)\n",
    "mat = matrice(vecteurs)\n",
    "newMat= []\n",
    "for i in mat:\n",
    "    listemat = []\n",
    "    for j in i: \n",
    "        if j > 0:\n",
    "            listemat.append(1)\n",
    "        else:\n",
    "            listemat.append(0)\n",
    "    newMat.append(listemat)\n",
    "    \n",
    "localisation = [\"door_in_1\",\"door_in_2\", \"faucet_handle_1\", \n",
    "                \"faucet_handle_2\", \"sink_floor_1\", \"sink_floor_2\",\n",
    "               \"soap_dispenser_1\", \"stall_in_1\", \"toilet_floor_1\", \n",
    "               \"toilet_floor_2\", \"toilet_flush_handle_1\",\n",
    "               \"toilet_flush_handle_2\", \"toilet_seat_1\", \"toilet_seat_2\"]\n",
    "\n",
    "espece=vecteurs[0]\n",
    "newMatInverser=np.fliplr(np.rot90(newMat,3))\n",
    "matinverser=np.fliplr(np.rot90(mat,3))\n",
    "\n",
    "fig, ax = plt.subplots()\n",
    "im = ax.imshow(newMat)\n",
    "\n",
    "ax.set_xticks(np.arange(len(espece)))\n",
    "ax.set_yticks(np.arange(len(localisation)))\n",
    "\n",
    "ax.set_xticklabels(espece)\n",
    "ax.set_yticklabels(localisation)\n",
    "\n",
    "plt.setp(ax.get_xticklabels(), rotation=45, ha=\"right\",\n",
    "         rotation_mode=\"anchor\")\n",
    "\n",
    "ax.set_title(Niveau)\n",
    "fig.tight_layout()\n",
    "plt.show()  "
   ]
  },
  {
   "cell_type": "code",
   "execution_count": 43,
   "metadata": {},
   "outputs": [
    {
     "data": {
      "image/png": "[encoded data removed]",
      "text/plain": [
       "<Figure size 504x576 with 1 Axes>"
      ]
     },
     "metadata": {
      "needs_background": "light"
     },
     "output_type": "display_data"
    }
   ],
   "source": [
    "import plotly as pt\n",
    "import seaborn as sns\n",
    "import matplotlib.pyplot as plt\n",
    "\n",
    "SELECTED = \"ordre\" \n",
    "cutoffk = 150\n",
    "dicoTaxoTest = getDicoTaxo(df)\n",
    "vecteurs = getNiv(SELECTED,dicoTaxoTest) \n",
    "\n",
    "localisation=[\"door_in_1\",\"door_in_2\", \"faucet_handle_1\", \n",
    "                \"faucet_handle_2\", \"sink_floor_1\", \"sink_floor_2\",\n",
    "               \"soap_dispenser_1\", \"stall_in_1\", \"toilet_floor_1\", \n",
    "               \"toilet_floor_2\", \"toilet_flush_handle_1\",\n",
    "               \"toilet_flush_handle_2\", \"toilet_seat_1\", \"toilet_seat_2\"]\n",
    "\n",
    "vecteursTrier = abondanceImportant(vecteurs, 150)\n",
    "selected_niv=vecteursTrier[0]\n",
    "N=len(selected_niv)\n",
    "ind = np.arange(N)\n",
    "\n",
    "l_loc = []\n",
    "for i in range(len(localisation)):\n",
    "    l_loc.append(vecteursTrier[i+1]) #car vecteursTrier[1] --> \"door_in_1\"\n",
    "    \n",
    "\n",
    "height = 0.9\n",
    "fig = plt.figure(figsize=[7, 8])\n",
    "bars = []\n",
    "cols = sns.color_palette('viridis_r',14) #COLORS\n",
    "cumulated = np.zeros(len(l_loc[0]),dtype=int)\n",
    "for i in range(len(localisation)):\n",
    "    if i == 0 :\n",
    "        tmpbarobject = plt.barh(ind,l_loc[i], height,color=cols[i])\n",
    "    else: \n",
    "        tmpbarobject = plt.barh(ind, l_loc[i],height, left=cumulated, color=cols[i]) \n",
    "\n",
    "    cumulated = np.add(l_loc[i],cumulated)\n",
    "    bars.append(tmpbarobject[0])\n",
    "\n",
    "plt.xlabel('Abondance') \n",
    "plt.title('Abondances au niveau de: ' + SELECTED + \" (cutoff counts =\"+ str(cutoffk)+\")\") \n",
    "plt.yticks(ind, (selected_niv)) \n",
    "# si besoin : legende dehors du plot area avec: bbbox_to_anchor\n",
    "#plt.legend(bars, localisation, bbox_to_anchor=(1.5, 1)) \n",
    "plt.legend(bars,localisation)\n",
    "plt.savefig('plots/bar_legendLocalisation.pdf', format=\"pdf\", dpi=300,  bbox_inches = 'tight')    \n",
    "#plt.show()"
   ]
  },
  {
   "cell_type": "code",
   "execution_count": 30,
   "metadata": {},
   "outputs": [
    {
     "name": "stderr",
     "output_type": "stream",
     "text": [
      "/home/johanna/.local/venv/lib/python3.8/site-packages/pandas/core/frame.py:4167: SettingWithCopyWarning: \n",
      "A value is trying to be set on a copy of a slice from a DataFrame\n",
      "\n",
      "See the caveats in the documentation: https://pandas.pydata.org/pandas-docs/stable/user_guide/indexing.html#returning-a-view-versus-a-copy\n",
      "  return super().drop(\n"
     ]
    },
    {
     "data": {
      "text/html": [
       "<div>\n",
       "<style scoped>\n",
       "    .dataframe tbody tr th:only-of-type {\n",
       "        vertical-align: middle;\n",
       "    }\n",
       "\n",
       "    .dataframe tbody tr th {\n",
       "        vertical-align: top;\n",
       "    }\n",
       "\n",
       "    .dataframe thead th {\n",
       "        text-align: right;\n",
       "    }\n",
       "</style>\n",
       "<table border=\"1\" class=\"dataframe\">\n",
       "  <thead>\n",
       "    <tr style=\"text-align: right;\">\n",
       "      <th>Taxo</th>\n",
       "      <th>Propionibacteriaceae(100)</th>\n",
       "      <th>Corynebacteriaceae(100)</th>\n",
       "      <th>Micrococcaceae(99)</th>\n",
       "      <th>Micrococcaceae(100)</th>\n",
       "      <th>Geodermatophilaceae(100)</th>\n",
       "      <th>unclassified(100)</th>\n",
       "      <th>Intrasporangiaceae(100)</th>\n",
       "      <th>Mycobacteriaceae(99)</th>\n",
       "      <th>Nocardioidaceae(100)</th>\n",
       "      <th>Nocardiaceae(100)</th>\n",
       "      <th>...</th>\n",
       "      <th>unclassified(80)</th>\n",
       "      <th>Verrucomicrobiaceae(100)</th>\n",
       "      <th>unclassified(100)</th>\n",
       "      <th>Opitutaceae(100)</th>\n",
       "      <th>Planctomycetaceae(100)</th>\n",
       "      <th>Spirochaetaceae(100)</th>\n",
       "      <th>Gemmatimonadaceae(100)</th>\n",
       "      <th>Synergistaceae(100)</th>\n",
       "      <th>unclassified(100)</th>\n",
       "      <th>unclassified(100)</th>\n",
       "    </tr>\n",
       "  </thead>\n",
       "  <tbody>\n",
       "    <tr>\n",
       "      <th>door_in_1</th>\n",
       "      <td>1398</td>\n",
       "      <td>86</td>\n",
       "      <td>6</td>\n",
       "      <td>49</td>\n",
       "      <td>0</td>\n",
       "      <td>41</td>\n",
       "      <td>0</td>\n",
       "      <td>5</td>\n",
       "      <td>1</td>\n",
       "      <td>4</td>\n",
       "      <td>...</td>\n",
       "      <td>0</td>\n",
       "      <td>0</td>\n",
       "      <td>0</td>\n",
       "      <td>0</td>\n",
       "      <td>0</td>\n",
       "      <td>0</td>\n",
       "      <td>0</td>\n",
       "      <td>0</td>\n",
       "      <td>0</td>\n",
       "      <td>0</td>\n",
       "    </tr>\n",
       "    <tr>\n",
       "      <th>door_in_2</th>\n",
       "      <td>1055</td>\n",
       "      <td>155</td>\n",
       "      <td>27</td>\n",
       "      <td>91</td>\n",
       "      <td>0</td>\n",
       "      <td>67</td>\n",
       "      <td>6</td>\n",
       "      <td>0</td>\n",
       "      <td>0</td>\n",
       "      <td>0</td>\n",
       "      <td>...</td>\n",
       "      <td>0</td>\n",
       "      <td>0</td>\n",
       "      <td>0</td>\n",
       "      <td>0</td>\n",
       "      <td>0</td>\n",
       "      <td>0</td>\n",
       "      <td>0</td>\n",
       "      <td>0</td>\n",
       "      <td>0</td>\n",
       "      <td>0</td>\n",
       "    </tr>\n",
       "    <tr>\n",
       "      <th>faucet_handle_1</th>\n",
       "      <td>338</td>\n",
       "      <td>19</td>\n",
       "      <td>5</td>\n",
       "      <td>35</td>\n",
       "      <td>0</td>\n",
       "      <td>6</td>\n",
       "      <td>4</td>\n",
       "      <td>0</td>\n",
       "      <td>2</td>\n",
       "      <td>2</td>\n",
       "      <td>...</td>\n",
       "      <td>0</td>\n",
       "      <td>0</td>\n",
       "      <td>0</td>\n",
       "      <td>0</td>\n",
       "      <td>0</td>\n",
       "      <td>0</td>\n",
       "      <td>1</td>\n",
       "      <td>0</td>\n",
       "      <td>0</td>\n",
       "      <td>0</td>\n",
       "    </tr>\n",
       "    <tr>\n",
       "      <th>faucet_handle_2</th>\n",
       "      <td>597</td>\n",
       "      <td>1470</td>\n",
       "      <td>6</td>\n",
       "      <td>19</td>\n",
       "      <td>2</td>\n",
       "      <td>41</td>\n",
       "      <td>4</td>\n",
       "      <td>0</td>\n",
       "      <td>1</td>\n",
       "      <td>0</td>\n",
       "      <td>...</td>\n",
       "      <td>0</td>\n",
       "      <td>0</td>\n",
       "      <td>0</td>\n",
       "      <td>0</td>\n",
       "      <td>0</td>\n",
       "      <td>0</td>\n",
       "      <td>0</td>\n",
       "      <td>0</td>\n",
       "      <td>0</td>\n",
       "      <td>0</td>\n",
       "    </tr>\n",
       "    <tr>\n",
       "      <th>sink_floor_1</th>\n",
       "      <td>202</td>\n",
       "      <td>34</td>\n",
       "      <td>452</td>\n",
       "      <td>111</td>\n",
       "      <td>109</td>\n",
       "      <td>198</td>\n",
       "      <td>44</td>\n",
       "      <td>0</td>\n",
       "      <td>46</td>\n",
       "      <td>7</td>\n",
       "      <td>...</td>\n",
       "      <td>0</td>\n",
       "      <td>0</td>\n",
       "      <td>0</td>\n",
       "      <td>0</td>\n",
       "      <td>1</td>\n",
       "      <td>0</td>\n",
       "      <td>3</td>\n",
       "      <td>0</td>\n",
       "      <td>2</td>\n",
       "      <td>0</td>\n",
       "    </tr>\n",
       "    <tr>\n",
       "      <th>sink_floor_2</th>\n",
       "      <td>143</td>\n",
       "      <td>41</td>\n",
       "      <td>275</td>\n",
       "      <td>111</td>\n",
       "      <td>54</td>\n",
       "      <td>142</td>\n",
       "      <td>20</td>\n",
       "      <td>0</td>\n",
       "      <td>55</td>\n",
       "      <td>3</td>\n",
       "      <td>...</td>\n",
       "      <td>0</td>\n",
       "      <td>1</td>\n",
       "      <td>0</td>\n",
       "      <td>0</td>\n",
       "      <td>1</td>\n",
       "      <td>0</td>\n",
       "      <td>1</td>\n",
       "      <td>0</td>\n",
       "      <td>0</td>\n",
       "      <td>0</td>\n",
       "    </tr>\n",
       "    <tr>\n",
       "      <th>soap_dispenser_1</th>\n",
       "      <td>1159</td>\n",
       "      <td>160</td>\n",
       "      <td>63</td>\n",
       "      <td>22</td>\n",
       "      <td>22</td>\n",
       "      <td>64</td>\n",
       "      <td>1</td>\n",
       "      <td>0</td>\n",
       "      <td>15</td>\n",
       "      <td>0</td>\n",
       "      <td>...</td>\n",
       "      <td>0</td>\n",
       "      <td>0</td>\n",
       "      <td>0</td>\n",
       "      <td>0</td>\n",
       "      <td>3</td>\n",
       "      <td>0</td>\n",
       "      <td>0</td>\n",
       "      <td>0</td>\n",
       "      <td>0</td>\n",
       "      <td>0</td>\n",
       "    </tr>\n",
       "    <tr>\n",
       "      <th>stall_in_1</th>\n",
       "      <td>630</td>\n",
       "      <td>131</td>\n",
       "      <td>0</td>\n",
       "      <td>135</td>\n",
       "      <td>9</td>\n",
       "      <td>25</td>\n",
       "      <td>0</td>\n",
       "      <td>0</td>\n",
       "      <td>0</td>\n",
       "      <td>0</td>\n",
       "      <td>...</td>\n",
       "      <td>0</td>\n",
       "      <td>0</td>\n",
       "      <td>0</td>\n",
       "      <td>0</td>\n",
       "      <td>0</td>\n",
       "      <td>0</td>\n",
       "      <td>0</td>\n",
       "      <td>0</td>\n",
       "      <td>0</td>\n",
       "      <td>0</td>\n",
       "    </tr>\n",
       "    <tr>\n",
       "      <th>toilet_floor_1</th>\n",
       "      <td>151</td>\n",
       "      <td>23</td>\n",
       "      <td>236</td>\n",
       "      <td>92</td>\n",
       "      <td>92</td>\n",
       "      <td>183</td>\n",
       "      <td>51</td>\n",
       "      <td>0</td>\n",
       "      <td>82</td>\n",
       "      <td>18</td>\n",
       "      <td>...</td>\n",
       "      <td>0</td>\n",
       "      <td>1</td>\n",
       "      <td>0</td>\n",
       "      <td>0</td>\n",
       "      <td>2</td>\n",
       "      <td>6</td>\n",
       "      <td>0</td>\n",
       "      <td>0</td>\n",
       "      <td>0</td>\n",
       "      <td>0</td>\n",
       "    </tr>\n",
       "    <tr>\n",
       "      <th>toilet_floor_2</th>\n",
       "      <td>171</td>\n",
       "      <td>86</td>\n",
       "      <td>251</td>\n",
       "      <td>76</td>\n",
       "      <td>45</td>\n",
       "      <td>141</td>\n",
       "      <td>42</td>\n",
       "      <td>0</td>\n",
       "      <td>32</td>\n",
       "      <td>3</td>\n",
       "      <td>...</td>\n",
       "      <td>1</td>\n",
       "      <td>0</td>\n",
       "      <td>1</td>\n",
       "      <td>0</td>\n",
       "      <td>1</td>\n",
       "      <td>0</td>\n",
       "      <td>1</td>\n",
       "      <td>0</td>\n",
       "      <td>0</td>\n",
       "      <td>1</td>\n",
       "    </tr>\n",
       "    <tr>\n",
       "      <th>toilet_flush_handle_1</th>\n",
       "      <td>63</td>\n",
       "      <td>4</td>\n",
       "      <td>9</td>\n",
       "      <td>4</td>\n",
       "      <td>2</td>\n",
       "      <td>144</td>\n",
       "      <td>326</td>\n",
       "      <td>0</td>\n",
       "      <td>135</td>\n",
       "      <td>30</td>\n",
       "      <td>...</td>\n",
       "      <td>4</td>\n",
       "      <td>13</td>\n",
       "      <td>1</td>\n",
       "      <td>2</td>\n",
       "      <td>0</td>\n",
       "      <td>0</td>\n",
       "      <td>2</td>\n",
       "      <td>0</td>\n",
       "      <td>0</td>\n",
       "      <td>4</td>\n",
       "    </tr>\n",
       "    <tr>\n",
       "      <th>toilet_flush_handle_2</th>\n",
       "      <td>355</td>\n",
       "      <td>794</td>\n",
       "      <td>51</td>\n",
       "      <td>21</td>\n",
       "      <td>11</td>\n",
       "      <td>33</td>\n",
       "      <td>0</td>\n",
       "      <td>55</td>\n",
       "      <td>3</td>\n",
       "      <td>11</td>\n",
       "      <td>...</td>\n",
       "      <td>0</td>\n",
       "      <td>0</td>\n",
       "      <td>0</td>\n",
       "      <td>0</td>\n",
       "      <td>0</td>\n",
       "      <td>0</td>\n",
       "      <td>0</td>\n",
       "      <td>0</td>\n",
       "      <td>0</td>\n",
       "      <td>0</td>\n",
       "    </tr>\n",
       "    <tr>\n",
       "      <th>toilet_seat_1</th>\n",
       "      <td>83</td>\n",
       "      <td>234</td>\n",
       "      <td>5</td>\n",
       "      <td>240</td>\n",
       "      <td>4</td>\n",
       "      <td>25</td>\n",
       "      <td>4</td>\n",
       "      <td>2</td>\n",
       "      <td>12</td>\n",
       "      <td>4</td>\n",
       "      <td>...</td>\n",
       "      <td>0</td>\n",
       "      <td>0</td>\n",
       "      <td>0</td>\n",
       "      <td>0</td>\n",
       "      <td>0</td>\n",
       "      <td>0</td>\n",
       "      <td>0</td>\n",
       "      <td>2</td>\n",
       "      <td>0</td>\n",
       "      <td>0</td>\n",
       "    </tr>\n",
       "    <tr>\n",
       "      <th>toilet_seat_2</th>\n",
       "      <td>212</td>\n",
       "      <td>1664</td>\n",
       "      <td>3</td>\n",
       "      <td>13</td>\n",
       "      <td>4</td>\n",
       "      <td>20</td>\n",
       "      <td>4</td>\n",
       "      <td>0</td>\n",
       "      <td>3</td>\n",
       "      <td>0</td>\n",
       "      <td>...</td>\n",
       "      <td>0</td>\n",
       "      <td>0</td>\n",
       "      <td>0</td>\n",
       "      <td>0</td>\n",
       "      <td>0</td>\n",
       "      <td>0</td>\n",
       "      <td>0</td>\n",
       "      <td>0</td>\n",
       "      <td>0</td>\n",
       "      <td>0</td>\n",
       "    </tr>\n",
       "  </tbody>\n",
       "</table>\n",
       "<p>14 rows × 233 columns</p>\n",
       "</div>"
      ],
      "text/plain": [
       "Taxo                  Propionibacteriaceae(100) Corynebacteriaceae(100)  \\\n",
       "door_in_1                                  1398                      86   \n",
       "door_in_2                                  1055                     155   \n",
       "faucet_handle_1                             338                      19   \n",
       "faucet_handle_2                             597                    1470   \n",
       "sink_floor_1                                202                      34   \n",
       "sink_floor_2                                143                      41   \n",
       "soap_dispenser_1                           1159                     160   \n",
       "stall_in_1                                  630                     131   \n",
       "toilet_floor_1                              151                      23   \n",
       "toilet_floor_2                              171                      86   \n",
       "toilet_flush_handle_1                        63                       4   \n",
       "toilet_flush_handle_2                       355                     794   \n",
       "toilet_seat_1                                83                     234   \n",
       "toilet_seat_2                               212                    1664   \n",
       "\n",
       "Taxo                  Micrococcaceae(99) Micrococcaceae(100)  \\\n",
       "door_in_1                              6                  49   \n",
       "door_in_2                             27                  91   \n",
       "faucet_handle_1                        5                  35   \n",
       "faucet_handle_2                        6                  19   \n",
       "sink_floor_1                         452                 111   \n",
       "sink_floor_2                         275                 111   \n",
       "soap_dispenser_1                      63                  22   \n",
       "stall_in_1                             0                 135   \n",
       "toilet_floor_1                       236                  92   \n",
       "toilet_floor_2                       251                  76   \n",
       "toilet_flush_handle_1                  9                   4   \n",
       "toilet_flush_handle_2                 51                  21   \n",
       "toilet_seat_1                          5                 240   \n",
       "toilet_seat_2                          3                  13   \n",
       "\n",
       "Taxo                  Geodermatophilaceae(100) unclassified(100)  \\\n",
       "door_in_1                                    0                41   \n",
       "door_in_2                                    0                67   \n",
       "faucet_handle_1                              0                 6   \n",
       "faucet_handle_2                              2                41   \n",
       "sink_floor_1                               109               198   \n",
       "sink_floor_2                                54               142   \n",
       "soap_dispenser_1                            22                64   \n",
       "stall_in_1                                   9                25   \n",
       "toilet_floor_1                              92               183   \n",
       "toilet_floor_2                              45               141   \n",
       "toilet_flush_handle_1                        2               144   \n",
       "toilet_flush_handle_2                       11                33   \n",
       "toilet_seat_1                                4                25   \n",
       "toilet_seat_2                                4                20   \n",
       "\n",
       "Taxo                  Intrasporangiaceae(100) Mycobacteriaceae(99)  \\\n",
       "door_in_1                                   0                    5   \n",
       "door_in_2                                   6                    0   \n",
       "faucet_handle_1                             4                    0   \n",
       "faucet_handle_2                             4                    0   \n",
       "sink_floor_1                               44                    0   \n",
       "sink_floor_2                               20                    0   \n",
       "soap_dispenser_1                            1                    0   \n",
       "stall_in_1                                  0                    0   \n",
       "toilet_floor_1                             51                    0   \n",
       "toilet_floor_2                             42                    0   \n",
       "toilet_flush_handle_1                     326                    0   \n",
       "toilet_flush_handle_2                       0                   55   \n",
       "toilet_seat_1                               4                    2   \n",
       "toilet_seat_2                               4                    0   \n",
       "\n",
       "Taxo                  Nocardioidaceae(100) Nocardiaceae(100)  ...  \\\n",
       "door_in_1                                1                 4  ...   \n",
       "door_in_2                                0                 0  ...   \n",
       "faucet_handle_1                          2                 2  ...   \n",
       "faucet_handle_2                          1                 0  ...   \n",
       "sink_floor_1                            46                 7  ...   \n",
       "sink_floor_2                            55                 3  ...   \n",
       "soap_dispenser_1                        15                 0  ...   \n",
       "stall_in_1                               0                 0  ...   \n",
       "toilet_floor_1                          82                18  ...   \n",
       "toilet_floor_2                          32                 3  ...   \n",
       "toilet_flush_handle_1                  135                30  ...   \n",
       "toilet_flush_handle_2                    3                11  ...   \n",
       "toilet_seat_1                           12                 4  ...   \n",
       "toilet_seat_2                            3                 0  ...   \n",
       "\n",
       "Taxo                  unclassified(80) Verrucomicrobiaceae(100)  \\\n",
       "door_in_1                            0                        0   \n",
       "door_in_2                            0                        0   \n",
       "faucet_handle_1                      0                        0   \n",
       "faucet_handle_2                      0                        0   \n",
       "sink_floor_1                         0                        0   \n",
       "sink_floor_2                         0                        1   \n",
       "soap_dispenser_1                     0                        0   \n",
       "stall_in_1                           0                        0   \n",
       "toilet_floor_1                       0                        1   \n",
       "toilet_floor_2                       1                        0   \n",
       "toilet_flush_handle_1                4                       13   \n",
       "toilet_flush_handle_2                0                        0   \n",
       "toilet_seat_1                        0                        0   \n",
       "toilet_seat_2                        0                        0   \n",
       "\n",
       "Taxo                  unclassified(100) Opitutaceae(100)  \\\n",
       "door_in_1                             0                0   \n",
       "door_in_2                             0                0   \n",
       "faucet_handle_1                       0                0   \n",
       "faucet_handle_2                       0                0   \n",
       "sink_floor_1                          0                0   \n",
       "sink_floor_2                          0                0   \n",
       "soap_dispenser_1                      0                0   \n",
       "stall_in_1                            0                0   \n",
       "toilet_floor_1                        0                0   \n",
       "toilet_floor_2                        1                0   \n",
       "toilet_flush_handle_1                 1                2   \n",
       "toilet_flush_handle_2                 0                0   \n",
       "toilet_seat_1                         0                0   \n",
       "toilet_seat_2                         0                0   \n",
       "\n",
       "Taxo                  Planctomycetaceae(100) Spirochaetaceae(100)  \\\n",
       "door_in_1                                  0                    0   \n",
       "door_in_2                                  0                    0   \n",
       "faucet_handle_1                            0                    0   \n",
       "faucet_handle_2                            0                    0   \n",
       "sink_floor_1                               1                    0   \n",
       "sink_floor_2                               1                    0   \n",
       "soap_dispenser_1                           3                    0   \n",
       "stall_in_1                                 0                    0   \n",
       "toilet_floor_1                             2                    6   \n",
       "toilet_floor_2                             1                    0   \n",
       "toilet_flush_handle_1                      0                    0   \n",
       "toilet_flush_handle_2                      0                    0   \n",
       "toilet_seat_1                              0                    0   \n",
       "toilet_seat_2                              0                    0   \n",
       "\n",
       "Taxo                  Gemmatimonadaceae(100) Synergistaceae(100)  \\\n",
       "door_in_1                                  0                   0   \n",
       "door_in_2                                  0                   0   \n",
       "faucet_handle_1                            1                   0   \n",
       "faucet_handle_2                            0                   0   \n",
       "sink_floor_1                               3                   0   \n",
       "sink_floor_2                               1                   0   \n",
       "soap_dispenser_1                           0                   0   \n",
       "stall_in_1                                 0                   0   \n",
       "toilet_floor_1                             0                   0   \n",
       "toilet_floor_2                             1                   0   \n",
       "toilet_flush_handle_1                      2                   0   \n",
       "toilet_flush_handle_2                      0                   0   \n",
       "toilet_seat_1                              0                   2   \n",
       "toilet_seat_2                              0                   0   \n",
       "\n",
       "Taxo                  unclassified(100) unclassified(100)  \n",
       "door_in_1                             0                 0  \n",
       "door_in_2                             0                 0  \n",
       "faucet_handle_1                       0                 0  \n",
       "faucet_handle_2                       0                 0  \n",
       "sink_floor_1                          2                 0  \n",
       "sink_floor_2                          0                 0  \n",
       "soap_dispenser_1                      0                 0  \n",
       "stall_in_1                            0                 0  \n",
       "toilet_floor_1                        0                 0  \n",
       "toilet_floor_2                        0                 1  \n",
       "toilet_flush_handle_1                 0                 4  \n",
       "toilet_flush_handle_2                 0                 0  \n",
       "toilet_seat_1                         0                 0  \n",
       "toilet_seat_2                         0                 0  \n",
       "\n",
       "[14 rows x 233 columns]"
      ]
     },
     "execution_count": 30,
     "metadata": {},
     "output_type": "execute_result"
    }
   ],
   "source": [
    "\"\"\" \n",
    "récuperation de données pour ACP\n",
    "calculé utilisant niveau famille\n",
    "\"\"\"\n",
    "#Creéation DF avec seulement les noms des famille: (dfTaxo)\n",
    "#Recupère les donnéer et format en Df\n",
    "dicoTaxoTest = getDicoTaxo(df)\n",
    "dfEntier= getDF(dicoTaxoTest)\n",
    "dfTaxo = getDFFonctionTaxo(dfEntier, \"famille\")\n",
    "listeColonneSuprimerPourTaxo = [\"Nvx_taxo\"]\n",
    "getDFLoc(dfTaxo,listeColonneSuprimerPourTaxo )\n",
    "# Prepare numpy arrays:\n",
    "bacternames = dfTaxo['Taxo'] #this column has microbes names\n",
    "dfTaxo_tr = dfTaxo.T # transpose, rows will be locations, columns the microbes\n",
    "dfTaxo_tr.columns = bacternames\n",
    "dfTaxo_tr.drop(index='Taxo', inplace=True)\n",
    "dfTaxo_tr\n",
    "# message about 'copy of a slice from a DataFrame': just ignore it"
   ]
  },
  {
   "cell_type": "code",
   "execution_count": 47,
   "metadata": {},
   "outputs": [],
   "source": [
    "import plotly.express as px\n",
    "from sklearn.decomposition import PCA\n",
    "\n",
    "\"\"\"\n",
    "ACP calcul et plot\n",
    "\"\"\" \n",
    "X = dfTaxo_tr.values\n",
    "y = np.array(['A.doorIn','A.doorIn','B.faucetHandle','B.faucetHandle','F.sinkFloor','F.sinkFloor',\n",
    "            'C.soapDispenser','D.stallIn','G.toiletFloor','G.toiletFloor','E.toiletFlushHand','E.toiletFlushHand',\n",
    "            'H.toiletSeat','H.toiletSeat']) #localisation categories\n",
    "pca = PCA(n_components=2)\n",
    "components = pca.fit_transform(X,y)\n",
    "#sns.color_palette(\"Spectral\",len(np.unique(y)))\n",
    "total_var = pca.explained_variance_ratio_.sum() * 100\n",
    "colsfewer = sns.color_palette('viridis_r',len(np.unique(y))*3) #COLORS\n",
    "\n",
    "fig = px.scatter(components, x=1,y=0, color = y , title=f'Total Explained Variance: {total_var:.2f}%',\n",
    "    labels={'0': 'PC 1', '1': 'PC 2'} ,\n",
    "                color_discrete_map={\n",
    "                    \"A.doorIn\": 'rgb'+str(colsfewer[0]),\n",
    "                    \"B.faucetHandle\": 'rgb'+str(colsfewer[1]),\n",
    "                    \"C.soapDispenser\": 'rgb'+str(colsfewer[2]),\n",
    "                    \"D.stallIn\": 'rgb'+str(colsfewer[3]),\n",
    "                    \"E.toiletFlushHand\": 'rgb'+str(colsfewer[4]),\n",
    "                    \"F.sinkFloor\": 'rgb'+str(colsfewer[12]),\n",
    "                    \"G.toiletFloor\": 'rgb'+str(colsfewer[15]),\n",
    "                    \"H.toiletSeat\" : 'rgb(72,40,120)'\n",
    "                }) # j'ai testé ceci: https://plotly.com/python/marker-style/ avec symbol_map mais échec\n",
    "fig.update_traces(marker=dict(size=15, # taille des points\n",
    "                              line=dict(width=0.5, color='DarkSlateGrey')),\n",
    "                  selector=dict(mode='markers'))\n",
    "\n"
   ]
  },
  {
   "cell_type": "code",
   "execution_count": 50,
   "metadata": {
    "scrolled": true
   },
   "outputs": [
    {
     "data": {
      "application/vnd.plotly.v1+json": {
       "config": {
        "plotlyServerURL": "https://plot.ly"
       },
       "data": [
        {
         "hovertemplate": "color=A.doorIn<br>PC 2=%{x}<br>PC 1=%{y}<extra></extra>",
         "legendgroup": "A.doorIn",
         "marker": {
          "color": "rgb(0.89632, 0.893616, 0.096335)",
          "line": {
           "color": "DarkSlateGrey",
           "width": 0.5
          },
          "size": 15,
          "symbol": "circle"
         },
         "mode": "markers",
         "name": "A.doorIn",
         "orientation": "v",
         "showlegend": true,
         "type": "scatter",
         "x": [
          996.4292520445692,
          697.0097366928292
         ],
         "xaxis": "x",
         "y": [
          257.0244346209483,
          224.06078549080036
         ],
         "yaxis": "y"
        },
        {
         "hovertemplate": "color=B.faucetHandle<br>PC 2=%{x}<br>PC 1=%{y}<extra></extra>",
         "legendgroup": "B.faucetHandle",
         "marker": {
          "color": "rgb(0.79376, 0.880678, 0.120005)",
          "line": {
           "color": "DarkSlateGrey",
           "width": 0.5
          },
          "size": 15,
          "symbol": "circle"
         },
         "mode": "markers",
         "name": "B.faucetHandle",
         "orientation": "v",
         "showlegend": true,
         "type": "scatter",
         "x": [
          -396.84194126662936,
          -337.8798722856623
         ],
         "xaxis": "x",
         "y": [
          -1110.9091811553071,
          1103.340119333149
         ],
         "yaxis": "y"
        },
        {
         "hovertemplate": "color=F.sinkFloor<br>PC 2=%{x}<br>PC 1=%{y}<extra></extra>",
         "legendgroup": "F.sinkFloor",
         "marker": {
          "color": "rgb(0.135066, 0.544853, 0.554029)",
          "line": {
           "color": "DarkSlateGrey",
           "width": 0.5
          },
          "size": 15,
          "symbol": "circle"
         },
         "mode": "markers",
         "name": "F.sinkFloor",
         "orientation": "v",
         "showlegend": true,
         "type": "scatter",
         "x": [
          -119.3478890947012,
          -256.6304625686388
         ],
         "xaxis": "x",
         "y": [
          -475.4920211527051,
          -639.2099671243793
         ],
         "yaxis": "y"
        },
        {
         "hovertemplate": "color=C.soapDispenser<br>PC 2=%{x}<br>PC 1=%{y}<extra></extra>",
         "legendgroup": "C.soapDispenser",
         "marker": {
          "color": "rgb(0.688944, 0.865448, 0.182725)",
          "line": {
           "color": "DarkSlateGrey",
           "width": 0.5
          },
          "size": 15,
          "symbol": "circle"
         },
         "mode": "markers",
         "name": "C.soapDispenser",
         "orientation": "v",
         "showlegend": true,
         "type": "scatter",
         "x": [
          699.2873000027217
         ],
         "xaxis": "x",
         "y": [
          145.08654759674684
         ],
         "yaxis": "y"
        },
        {
         "hovertemplate": "color=D.stallIn<br>PC 2=%{x}<br>PC 1=%{y}<extra></extra>",
         "legendgroup": "D.stallIn",
         "marker": {
          "color": "rgb(0.585678, 0.846661, 0.249897)",
          "line": {
           "color": "DarkSlateGrey",
           "width": 0.5
          },
          "size": 15,
          "symbol": "circle"
         },
         "mode": "markers",
         "name": "D.stallIn",
         "orientation": "v",
         "showlegend": true,
         "type": "scatter",
         "x": [
          384.47585126062194
         ],
         "xaxis": "x",
         "y": [
          114.49671077451974
         ],
         "yaxis": "y"
        },
        {
         "hovertemplate": "color=G.toiletFloor<br>PC 2=%{x}<br>PC 1=%{y}<extra></extra>",
         "legendgroup": "G.toiletFloor",
         "marker": {
          "color": "rgb(0.179019, 0.433756, 0.55743)",
          "line": {
           "color": "DarkSlateGrey",
           "width": 0.5
          },
          "size": 15,
          "symbol": "circle"
         },
         "mode": "markers",
         "name": "G.toiletFloor",
         "orientation": "v",
         "showlegend": true,
         "type": "scatter",
         "x": [
          -140.76340808890293,
          -308.20260839058994
         ],
         "xaxis": "x",
         "y": [
          -473.53202920164506,
          -675.7990971721501
         ],
         "yaxis": "y"
        },
        {
         "hovertemplate": "color=E.toiletFlushHand<br>PC 2=%{x}<br>PC 1=%{y}<extra></extra>",
         "legendgroup": "E.toiletFlushHand",
         "marker": {
          "color": "rgb(0.477504, 0.821444, 0.318195)",
          "line": {
           "color": "DarkSlateGrey",
           "width": 0.5
          },
          "size": 15,
          "symbol": "circle"
         },
         "mode": "markers",
         "name": "E.toiletFlushHand",
         "orientation": "v",
         "showlegend": true,
         "type": "scatter",
         "x": [
          11.940607527194784,
          -218.11237134770212
         ],
         "xaxis": "x",
         "y": [
          -141.21390839693328,
          528.5470034457367
         ],
         "yaxis": "y"
        },
        {
         "hovertemplate": "color=H.toiletSeat<br>PC 2=%{x}<br>PC 1=%{y}<extra></extra>",
         "legendgroup": "H.toiletSeat",
         "marker": {
          "color": "rgb(72,40,120)",
          "line": {
           "color": "DarkSlateGrey",
           "width": 0.5
          },
          "size": 15,
          "symbol": "circle"
         },
         "mode": "markers",
         "name": "H.toiletSeat",
         "orientation": "v",
         "showlegend": true,
         "type": "scatter",
         "x": [
          -191.63973413271083,
          -819.7244603523992
         ],
         "xaxis": "x",
         "y": [
          -106.89495762753195,
          1250.495560568754
         ],
         "yaxis": "y"
        }
       ],
       "layout": {
        "legend": {
         "title": {
          "text": "color"
         },
         "tracegroupgap": 0
        },
        "template": {
         "data": {
          "bar": [
           {
            "error_x": {
             "color": "#2a3f5f"
            },
            "error_y": {
             "color": "#2a3f5f"
            },
            "marker": {
             "line": {
              "color": "#E5ECF6",
              "width": 0.5
             }
            },
            "type": "bar"
           }
          ],
          "barpolar": [
           {
            "marker": {
             "line": {
              "color": "#E5ECF6",
              "width": 0.5
             }
            },
            "type": "barpolar"
           }
          ],
          "carpet": [
           {
            "aaxis": {
             "endlinecolor": "#2a3f5f",
             "gridcolor": "white",
             "linecolor": "white",
             "minorgridcolor": "white",
             "startlinecolor": "#2a3f5f"
            },
            "baxis": {
             "endlinecolor": "#2a3f5f",
             "gridcolor": "white",
             "linecolor": "white",
             "minorgridcolor": "white",
             "startlinecolor": "#2a3f5f"
            },
            "type": "carpet"
           }
          ],
          "choropleth": [
           {
            "colorbar": {
             "outlinewidth": 0,
             "ticks": ""
            },
            "type": "choropleth"
           }
          ],
          "contour": [
           {
            "colorbar": {
             "outlinewidth": 0,
             "ticks": ""
            },
            "colorscale": [
             [
              0,
              "#0d0887"
             ],
             [
              0.1111111111111111,
              "#46039f"
             ],
             [
              0.2222222222222222,
              "#7201a8"
             ],
             [
              0.3333333333333333,
              "#9c179e"
             ],
             [
              0.4444444444444444,
              "#bd3786"
             ],
             [
              0.5555555555555556,
              "#d8576b"
             ],
             [
              0.6666666666666666,
              "#ed7953"
             ],
             [
              0.7777777777777778,
              "#fb9f3a"
             ],
             [
              0.8888888888888888,
              "#fdca26"
             ],
             [
              1,
              "#f0f921"
             ]
            ],
            "type": "contour"
           }
          ],
          "contourcarpet": [
           {
            "colorbar": {
             "outlinewidth": 0,
             "ticks": ""
            },
            "type": "contourcarpet"
           }
          ],
          "heatmap": [
           {
            "colorbar": {
             "outlinewidth": 0,
             "ticks": ""
            },
            "colorscale": [
             [
              0,
              "#0d0887"
             ],
             [
              0.1111111111111111,
              "#46039f"
             ],
             [
              0.2222222222222222,
              "#7201a8"
             ],
             [
              0.3333333333333333,
              "#9c179e"
             ],
             [
              0.4444444444444444,
              "#bd3786"
             ],
             [
              0.5555555555555556,
              "#d8576b"
             ],
             [
              0.6666666666666666,
              "#ed7953"
             ],
             [
              0.7777777777777778,
              "#fb9f3a"
             ],
             [
              0.8888888888888888,
              "#fdca26"
             ],
             [
              1,
              "#f0f921"
             ]
            ],
            "type": "heatmap"
           }
          ],
          "heatmapgl": [
           {
            "colorbar": {
             "outlinewidth": 0,
             "ticks": ""
            },
            "colorscale": [
             [
              0,
              "#0d0887"
             ],
             [
              0.1111111111111111,
              "#46039f"
             ],
             [
              0.2222222222222222,
              "#7201a8"
             ],
             [
              0.3333333333333333,
              "#9c179e"
             ],
             [
              0.4444444444444444,
              "#bd3786"
             ],
             [
              0.5555555555555556,
              "#d8576b"
             ],
             [
              0.6666666666666666,
              "#ed7953"
             ],
             [
              0.7777777777777778,
              "#fb9f3a"
             ],
             [
              0.8888888888888888,
              "#fdca26"
             ],
             [
              1,
              "#f0f921"
             ]
            ],
            "type": "heatmapgl"
           }
          ],
          "histogram": [
           {
            "marker": {
             "colorbar": {
              "outlinewidth": 0,
              "ticks": ""
             }
            },
            "type": "histogram"
           }
          ],
          "histogram2d": [
           {
            "colorbar": {
             "outlinewidth": 0,
             "ticks": ""
            },
            "colorscale": [
             [
              0,
              "#0d0887"
             ],
             [
              0.1111111111111111,
              "#46039f"
             ],
             [
              0.2222222222222222,
              "#7201a8"
             ],
             [
              0.3333333333333333,
              "#9c179e"
             ],
             [
              0.4444444444444444,
              "#bd3786"
             ],
             [
              0.5555555555555556,
              "#d8576b"
             ],
             [
              0.6666666666666666,
              "#ed7953"
             ],
             [
              0.7777777777777778,
              "#fb9f3a"
             ],
             [
              0.8888888888888888,
              "#fdca26"
             ],
             [
              1,
              "#f0f921"
             ]
            ],
            "type": "histogram2d"
           }
          ],
          "histogram2dcontour": [
           {
            "colorbar": {
             "outlinewidth": 0,
             "ticks": ""
            },
            "colorscale": [
             [
              0,
              "#0d0887"
             ],
             [
              0.1111111111111111,
              "#46039f"
             ],
             [
              0.2222222222222222,
              "#7201a8"
             ],
             [
              0.3333333333333333,
              "#9c179e"
             ],
             [
              0.4444444444444444,
              "#bd3786"
             ],
             [
              0.5555555555555556,
              "#d8576b"
             ],
             [
              0.6666666666666666,
              "#ed7953"
             ],
             [
              0.7777777777777778,
              "#fb9f3a"
             ],
             [
              0.8888888888888888,
              "#fdca26"
             ],
             [
              1,
              "#f0f921"
             ]
            ],
            "type": "histogram2dcontour"
           }
          ],
          "mesh3d": [
           {
            "colorbar": {
             "outlinewidth": 0,
             "ticks": ""
            },
            "type": "mesh3d"
           }
          ],
          "parcoords": [
           {
            "line": {
             "colorbar": {
              "outlinewidth": 0,
              "ticks": ""
             }
            },
            "type": "parcoords"
           }
          ],
          "pie": [
           {
            "automargin": true,
            "type": "pie"
           }
          ],
          "scatter": [
           {
            "marker": {
             "colorbar": {
              "outlinewidth": 0,
              "ticks": ""
             }
            },
            "type": "scatter"
           }
          ],
          "scatter3d": [
           {
            "line": {
             "colorbar": {
              "outlinewidth": 0,
              "ticks": ""
             }
            },
            "marker": {
             "colorbar": {
              "outlinewidth": 0,
              "ticks": ""
             }
            },
            "type": "scatter3d"
           }
          ],
          "scattercarpet": [
           {
            "marker": {
             "colorbar": {
              "outlinewidth": 0,
              "ticks": ""
             }
            },
            "type": "scattercarpet"
           }
          ],
          "scattergeo": [
           {
            "marker": {
             "colorbar": {
              "outlinewidth": 0,
              "ticks": ""
             }
            },
            "type": "scattergeo"
           }
          ],
          "scattergl": [
           {
            "marker": {
             "colorbar": {
              "outlinewidth": 0,
              "ticks": ""
             }
            },
            "type": "scattergl"
           }
          ],
          "scattermapbox": [
           {
            "marker": {
             "colorbar": {
              "outlinewidth": 0,
              "ticks": ""
             }
            },
            "type": "scattermapbox"
           }
          ],
          "scatterpolar": [
           {
            "marker": {
             "colorbar": {
              "outlinewidth": 0,
              "ticks": ""
             }
            },
            "type": "scatterpolar"
           }
          ],
          "scatterpolargl": [
           {
            "marker": {
             "colorbar": {
              "outlinewidth": 0,
              "ticks": ""
             }
            },
            "type": "scatterpolargl"
           }
          ],
          "scatterternary": [
           {
            "marker": {
             "colorbar": {
              "outlinewidth": 0,
              "ticks": ""
             }
            },
            "type": "scatterternary"
           }
          ],
          "surface": [
           {
            "colorbar": {
             "outlinewidth": 0,
             "ticks": ""
            },
            "colorscale": [
             [
              0,
              "#0d0887"
             ],
             [
              0.1111111111111111,
              "#46039f"
             ],
             [
              0.2222222222222222,
              "#7201a8"
             ],
             [
              0.3333333333333333,
              "#9c179e"
             ],
             [
              0.4444444444444444,
              "#bd3786"
             ],
             [
              0.5555555555555556,
              "#d8576b"
             ],
             [
              0.6666666666666666,
              "#ed7953"
             ],
             [
              0.7777777777777778,
              "#fb9f3a"
             ],
             [
              0.8888888888888888,
              "#fdca26"
             ],
             [
              1,
              "#f0f921"
             ]
            ],
            "type": "surface"
           }
          ],
          "table": [
           {
            "cells": {
             "fill": {
              "color": "#EBF0F8"
             },
             "line": {
              "color": "white"
             }
            },
            "header": {
             "fill": {
              "color": "#C8D4E3"
             },
             "line": {
              "color": "white"
             }
            },
            "type": "table"
           }
          ]
         },
         "layout": {
          "annotationdefaults": {
           "arrowcolor": "#2a3f5f",
           "arrowhead": 0,
           "arrowwidth": 1
          },
          "coloraxis": {
           "colorbar": {
            "outlinewidth": 0,
            "ticks": ""
           }
          },
          "colorscale": {
           "diverging": [
            [
             0,
             "#8e0152"
            ],
            [
             0.1,
             "#c51b7d"
            ],
            [
             0.2,
             "#de77ae"
            ],
            [
             0.3,
             "#f1b6da"
            ],
            [
             0.4,
             "#fde0ef"
            ],
            [
             0.5,
             "#f7f7f7"
            ],
            [
             0.6,
             "#e6f5d0"
            ],
            [
             0.7,
             "#b8e186"
            ],
            [
             0.8,
             "#7fbc41"
            ],
            [
             0.9,
             "#4d9221"
            ],
            [
             1,
             "#276419"
            ]
           ],
           "sequential": [
            [
             0,
             "#0d0887"
            ],
            [
             0.1111111111111111,
             "#46039f"
            ],
            [
             0.2222222222222222,
             "#7201a8"
            ],
            [
             0.3333333333333333,
             "#9c179e"
            ],
            [
             0.4444444444444444,
             "#bd3786"
            ],
            [
             0.5555555555555556,
             "#d8576b"
            ],
            [
             0.6666666666666666,
             "#ed7953"
            ],
            [
             0.7777777777777778,
             "#fb9f3a"
            ],
            [
             0.8888888888888888,
             "#fdca26"
            ],
            [
             1,
             "#f0f921"
            ]
           ],
           "sequentialminus": [
            [
             0,
             "#0d0887"
            ],
            [
             0.1111111111111111,
             "#46039f"
            ],
            [
             0.2222222222222222,
             "#7201a8"
            ],
            [
             0.3333333333333333,
             "#9c179e"
            ],
            [
             0.4444444444444444,
             "#bd3786"
            ],
            [
             0.5555555555555556,
             "#d8576b"
            ],
            [
             0.6666666666666666,
             "#ed7953"
            ],
            [
             0.7777777777777778,
             "#fb9f3a"
            ],
            [
             0.8888888888888888,
             "#fdca26"
            ],
            [
             1,
             "#f0f921"
            ]
           ]
          },
          "colorway": [
           "#636efa",
           "#EF553B",
           "#00cc96",
           "#ab63fa",
           "#FFA15A",
           "#19d3f3",
           "#FF6692",
           "#B6E880",
           "#FF97FF",
           "#FECB52"
          ],
          "font": {
           "color": "#2a3f5f"
          },
          "geo": {
           "bgcolor": "white",
           "lakecolor": "white",
           "landcolor": "#E5ECF6",
           "showlakes": true,
           "showland": true,
           "subunitcolor": "white"
          },
          "hoverlabel": {
           "align": "left"
          },
          "hovermode": "closest",
          "mapbox": {
           "style": "light"
          },
          "paper_bgcolor": "white",
          "plot_bgcolor": "#E5ECF6",
          "polar": {
           "angularaxis": {
            "gridcolor": "white",
            "linecolor": "white",
            "ticks": ""
           },
           "bgcolor": "#E5ECF6",
           "radialaxis": {
            "gridcolor": "white",
            "linecolor": "white",
            "ticks": ""
           }
          },
          "scene": {
           "xaxis": {
            "backgroundcolor": "#E5ECF6",
            "gridcolor": "white",
            "gridwidth": 2,
            "linecolor": "white",
            "showbackground": true,
            "ticks": "",
            "zerolinecolor": "white"
           },
           "yaxis": {
            "backgroundcolor": "#E5ECF6",
            "gridcolor": "white",
            "gridwidth": 2,
            "linecolor": "white",
            "showbackground": true,
            "ticks": "",
            "zerolinecolor": "white"
           },
           "zaxis": {
            "backgroundcolor": "#E5ECF6",
            "gridcolor": "white",
            "gridwidth": 2,
            "linecolor": "white",
            "showbackground": true,
            "ticks": "",
            "zerolinecolor": "white"
           }
          },
          "shapedefaults": {
           "line": {
            "color": "#2a3f5f"
           }
          },
          "ternary": {
           "aaxis": {
            "gridcolor": "white",
            "linecolor": "white",
            "ticks": ""
           },
           "baxis": {
            "gridcolor": "white",
            "linecolor": "white",
            "ticks": ""
           },
           "bgcolor": "#E5ECF6",
           "caxis": {
            "gridcolor": "white",
            "linecolor": "white",
            "ticks": ""
           }
          },
          "title": {
           "x": 0.05
          },
          "xaxis": {
           "automargin": true,
           "gridcolor": "white",
           "linecolor": "white",
           "ticks": "",
           "title": {
            "standoff": 15
           },
           "zerolinecolor": "white",
           "zerolinewidth": 2
          },
          "yaxis": {
           "automargin": true,
           "gridcolor": "white",
           "linecolor": "white",
           "ticks": "",
           "title": {
            "standoff": 15
           },
           "zerolinecolor": "white",
           "zerolinewidth": 2
          }
         }
        },
        "title": {
         "text": "Total Explained Variance: 76.55%"
        },
        "xaxis": {
         "anchor": "y",
         "domain": [
          0,
          1
         ],
         "title": {
          "text": "PC 2"
         }
        },
        "yaxis": {
         "anchor": "x",
         "domain": [
          0,
          1
         ],
         "title": {
          "text": "PC 1"
         }
        }
       }
      },
      "text/html": [
       "<div>                            <div id=\"32e7549c-541b-438a-8358-a73849889655\" class=\"plotly-graph-div\" style=\"height:525px; width:100%;\"></div>            <script type=\"text/javascript\">                require([\"plotly\"], function(Plotly) {                    window.PLOTLYENV=window.PLOTLYENV || {};                                    if (document.getElementById(\"32e7549c-541b-438a-8358-a73849889655\")) {                    Plotly.newPlot(                        \"32e7549c-541b-438a-8358-a73849889655\",                        [{\"hovertemplate\": \"color=A.doorIn<br>PC 2=%{x}<br>PC 1=%{y}<extra></extra>\", \"legendgroup\": \"A.doorIn\", \"marker\": {\"color\": \"rgb(0.89632, 0.893616, 0.096335)\", \"line\": {\"color\": \"DarkSlateGrey\", \"width\": 0.5}, \"size\": 15, \"symbol\": \"circle\"}, \"mode\": \"markers\", \"name\": \"A.doorIn\", \"orientation\": \"v\", \"showlegend\": true, \"type\": \"scatter\", \"x\": [996.4292520445692, 697.0097366928292], \"xaxis\": \"x\", \"y\": [257.0244346209483, 224.06078549080036], \"yaxis\": \"y\"}, {\"hovertemplate\": \"color=B.faucetHandle<br>PC 2=%{x}<br>PC 1=%{y}<extra></extra>\", \"legendgroup\": \"B.faucetHandle\", \"marker\": {\"color\": \"rgb(0.79376, 0.880678, 0.120005)\", \"line\": {\"color\": \"DarkSlateGrey\", \"width\": 0.5}, \"size\": 15, \"symbol\": \"circle\"}, \"mode\": \"markers\", \"name\": \"B.faucetHandle\", \"orientation\": \"v\", \"showlegend\": true, \"type\": \"scatter\", \"x\": [-396.84194126662936, -337.8798722856623], \"xaxis\": \"x\", \"y\": [-1110.9091811553071, 1103.340119333149], \"yaxis\": \"y\"}, {\"hovertemplate\": \"color=F.sinkFloor<br>PC 2=%{x}<br>PC 1=%{y}<extra></extra>\", \"legendgroup\": \"F.sinkFloor\", \"marker\": {\"color\": \"rgb(0.135066, 0.544853, 0.554029)\", \"line\": {\"color\": \"DarkSlateGrey\", \"width\": 0.5}, \"size\": 15, \"symbol\": \"circle\"}, \"mode\": \"markers\", \"name\": \"F.sinkFloor\", \"orientation\": \"v\", \"showlegend\": true, \"type\": \"scatter\", \"x\": [-119.3478890947012, -256.6304625686388], \"xaxis\": \"x\", \"y\": [-475.4920211527051, -639.2099671243793], \"yaxis\": \"y\"}, {\"hovertemplate\": \"color=C.soapDispenser<br>PC 2=%{x}<br>PC 1=%{y}<extra></extra>\", \"legendgroup\": \"C.soapDispenser\", \"marker\": {\"color\": \"rgb(0.688944, 0.865448, 0.182725)\", \"line\": {\"color\": \"DarkSlateGrey\", \"width\": 0.5}, \"size\": 15, \"symbol\": \"circle\"}, \"mode\": \"markers\", \"name\": \"C.soapDispenser\", \"orientation\": \"v\", \"showlegend\": true, \"type\": \"scatter\", \"x\": [699.2873000027217], \"xaxis\": \"x\", \"y\": [145.08654759674684], \"yaxis\": \"y\"}, {\"hovertemplate\": \"color=D.stallIn<br>PC 2=%{x}<br>PC 1=%{y}<extra></extra>\", \"legendgroup\": \"D.stallIn\", \"marker\": {\"color\": \"rgb(0.585678, 0.846661, 0.249897)\", \"line\": {\"color\": \"DarkSlateGrey\", \"width\": 0.5}, \"size\": 15, \"symbol\": \"circle\"}, \"mode\": \"markers\", \"name\": \"D.stallIn\", \"orientation\": \"v\", \"showlegend\": true, \"type\": \"scatter\", \"x\": [384.47585126062194], \"xaxis\": \"x\", \"y\": [114.49671077451974], \"yaxis\": \"y\"}, {\"hovertemplate\": \"color=G.toiletFloor<br>PC 2=%{x}<br>PC 1=%{y}<extra></extra>\", \"legendgroup\": \"G.toiletFloor\", \"marker\": {\"color\": \"rgb(0.179019, 0.433756, 0.55743)\", \"line\": {\"color\": \"DarkSlateGrey\", \"width\": 0.5}, \"size\": 15, \"symbol\": \"circle\"}, \"mode\": \"markers\", \"name\": \"G.toiletFloor\", \"orientation\": \"v\", \"showlegend\": true, \"type\": \"scatter\", \"x\": [-140.76340808890293, -308.20260839058994], \"xaxis\": \"x\", \"y\": [-473.53202920164506, -675.7990971721501], \"yaxis\": \"y\"}, {\"hovertemplate\": \"color=E.toiletFlushHand<br>PC 2=%{x}<br>PC 1=%{y}<extra></extra>\", \"legendgroup\": \"E.toiletFlushHand\", \"marker\": {\"color\": \"rgb(0.477504, 0.821444, 0.318195)\", \"line\": {\"color\": \"DarkSlateGrey\", \"width\": 0.5}, \"size\": 15, \"symbol\": \"circle\"}, \"mode\": \"markers\", \"name\": \"E.toiletFlushHand\", \"orientation\": \"v\", \"showlegend\": true, \"type\": \"scatter\", \"x\": [11.940607527194784, -218.11237134770212], \"xaxis\": \"x\", \"y\": [-141.21390839693328, 528.5470034457367], \"yaxis\": \"y\"}, {\"hovertemplate\": \"color=H.toiletSeat<br>PC 2=%{x}<br>PC 1=%{y}<extra></extra>\", \"legendgroup\": \"H.toiletSeat\", \"marker\": {\"color\": \"rgb(72,40,120)\", \"line\": {\"color\": \"DarkSlateGrey\", \"width\": 0.5}, \"size\": 15, \"symbol\": \"circle\"}, \"mode\": \"markers\", \"name\": \"H.toiletSeat\", \"orientation\": \"v\", \"showlegend\": true, \"type\": \"scatter\", \"x\": [-191.63973413271083, -819.7244603523992], \"xaxis\": \"x\", \"y\": [-106.89495762753195, 1250.495560568754], \"yaxis\": \"y\"}],                        {\"legend\": {\"title\": {\"text\": \"color\"}, \"tracegroupgap\": 0}, \"template\": {\"data\": {\"bar\": [{\"error_x\": {\"color\": \"#2a3f5f\"}, \"error_y\": {\"color\": \"#2a3f5f\"}, \"marker\": {\"line\": {\"color\": \"#E5ECF6\", \"width\": 0.5}}, \"type\": \"bar\"}], \"barpolar\": [{\"marker\": {\"line\": {\"color\": \"#E5ECF6\", \"width\": 0.5}}, \"type\": \"barpolar\"}], \"carpet\": [{\"aaxis\": {\"endlinecolor\": \"#2a3f5f\", \"gridcolor\": \"white\", \"linecolor\": \"white\", \"minorgridcolor\": \"white\", \"startlinecolor\": \"#2a3f5f\"}, \"baxis\": {\"endlinecolor\": \"#2a3f5f\", \"gridcolor\": \"white\", \"linecolor\": \"white\", \"minorgridcolor\": \"white\", \"startlinecolor\": \"#2a3f5f\"}, \"type\": \"carpet\"}], \"choropleth\": [{\"colorbar\": {\"outlinewidth\": 0, \"ticks\": \"\"}, \"type\": \"choropleth\"}], \"contour\": [{\"colorbar\": {\"outlinewidth\": 0, \"ticks\": \"\"}, \"colorscale\": [[0.0, \"#0d0887\"], [0.1111111111111111, \"#46039f\"], [0.2222222222222222, \"#7201a8\"], [0.3333333333333333, \"#9c179e\"], [0.4444444444444444, \"#bd3786\"], [0.5555555555555556, \"#d8576b\"], [0.6666666666666666, \"#ed7953\"], [0.7777777777777778, \"#fb9f3a\"], [0.8888888888888888, \"#fdca26\"], [1.0, \"#f0f921\"]], \"type\": \"contour\"}], \"contourcarpet\": [{\"colorbar\": {\"outlinewidth\": 0, \"ticks\": \"\"}, \"type\": \"contourcarpet\"}], \"heatmap\": [{\"colorbar\": {\"outlinewidth\": 0, \"ticks\": \"\"}, \"colorscale\": [[0.0, \"#0d0887\"], [0.1111111111111111, \"#46039f\"], [0.2222222222222222, \"#7201a8\"], [0.3333333333333333, \"#9c179e\"], [0.4444444444444444, \"#bd3786\"], [0.5555555555555556, \"#d8576b\"], [0.6666666666666666, \"#ed7953\"], [0.7777777777777778, \"#fb9f3a\"], [0.8888888888888888, \"#fdca26\"], [1.0, \"#f0f921\"]], \"type\": \"heatmap\"}], \"heatmapgl\": [{\"colorbar\": {\"outlinewidth\": 0, \"ticks\": \"\"}, \"colorscale\": [[0.0, \"#0d0887\"], [0.1111111111111111, \"#46039f\"], [0.2222222222222222, \"#7201a8\"], [0.3333333333333333, \"#9c179e\"], [0.4444444444444444, \"#bd3786\"], [0.5555555555555556, \"#d8576b\"], [0.6666666666666666, \"#ed7953\"], [0.7777777777777778, \"#fb9f3a\"], [0.8888888888888888, \"#fdca26\"], [1.0, \"#f0f921\"]], \"type\": \"heatmapgl\"}], \"histogram\": [{\"marker\": {\"colorbar\": {\"outlinewidth\": 0, \"ticks\": \"\"}}, \"type\": \"histogram\"}], \"histogram2d\": [{\"colorbar\": {\"outlinewidth\": 0, \"ticks\": \"\"}, \"colorscale\": [[0.0, \"#0d0887\"], [0.1111111111111111, \"#46039f\"], [0.2222222222222222, \"#7201a8\"], [0.3333333333333333, \"#9c179e\"], [0.4444444444444444, \"#bd3786\"], [0.5555555555555556, \"#d8576b\"], [0.6666666666666666, \"#ed7953\"], [0.7777777777777778, \"#fb9f3a\"], [0.8888888888888888, \"#fdca26\"], [1.0, \"#f0f921\"]], \"type\": \"histogram2d\"}], \"histogram2dcontour\": [{\"colorbar\": {\"outlinewidth\": 0, \"ticks\": \"\"}, \"colorscale\": [[0.0, \"#0d0887\"], [0.1111111111111111, \"#46039f\"], [0.2222222222222222, \"#7201a8\"], [0.3333333333333333, \"#9c179e\"], [0.4444444444444444, \"#bd3786\"], [0.5555555555555556, \"#d8576b\"], [0.6666666666666666, \"#ed7953\"], [0.7777777777777778, \"#fb9f3a\"], [0.8888888888888888, \"#fdca26\"], [1.0, \"#f0f921\"]], \"type\": \"histogram2dcontour\"}], \"mesh3d\": [{\"colorbar\": {\"outlinewidth\": 0, \"ticks\": \"\"}, \"type\": \"mesh3d\"}], \"parcoords\": [{\"line\": {\"colorbar\": {\"outlinewidth\": 0, \"ticks\": \"\"}}, \"type\": \"parcoords\"}], \"pie\": [{\"automargin\": true, \"type\": \"pie\"}], \"scatter\": [{\"marker\": {\"colorbar\": {\"outlinewidth\": 0, \"ticks\": \"\"}}, \"type\": \"scatter\"}], \"scatter3d\": [{\"line\": {\"colorbar\": {\"outlinewidth\": 0, \"ticks\": \"\"}}, \"marker\": {\"colorbar\": {\"outlinewidth\": 0, \"ticks\": \"\"}}, \"type\": \"scatter3d\"}], \"scattercarpet\": [{\"marker\": {\"colorbar\": {\"outlinewidth\": 0, \"ticks\": \"\"}}, \"type\": \"scattercarpet\"}], \"scattergeo\": [{\"marker\": {\"colorbar\": {\"outlinewidth\": 0, \"ticks\": \"\"}}, \"type\": \"scattergeo\"}], \"scattergl\": [{\"marker\": {\"colorbar\": {\"outlinewidth\": 0, \"ticks\": \"\"}}, \"type\": \"scattergl\"}], \"scattermapbox\": [{\"marker\": {\"colorbar\": {\"outlinewidth\": 0, \"ticks\": \"\"}}, \"type\": \"scattermapbox\"}], \"scatterpolar\": [{\"marker\": {\"colorbar\": {\"outlinewidth\": 0, \"ticks\": \"\"}}, \"type\": \"scatterpolar\"}], \"scatterpolargl\": [{\"marker\": {\"colorbar\": {\"outlinewidth\": 0, \"ticks\": \"\"}}, \"type\": \"scatterpolargl\"}], \"scatterternary\": [{\"marker\": {\"colorbar\": {\"outlinewidth\": 0, \"ticks\": \"\"}}, \"type\": \"scatterternary\"}], \"surface\": [{\"colorbar\": {\"outlinewidth\": 0, \"ticks\": \"\"}, \"colorscale\": [[0.0, \"#0d0887\"], [0.1111111111111111, \"#46039f\"], [0.2222222222222222, \"#7201a8\"], [0.3333333333333333, \"#9c179e\"], [0.4444444444444444, \"#bd3786\"], [0.5555555555555556, \"#d8576b\"], [0.6666666666666666, \"#ed7953\"], [0.7777777777777778, \"#fb9f3a\"], [0.8888888888888888, \"#fdca26\"], [1.0, \"#f0f921\"]], \"type\": \"surface\"}], \"table\": [{\"cells\": {\"fill\": {\"color\": \"#EBF0F8\"}, \"line\": {\"color\": \"white\"}}, \"header\": {\"fill\": {\"color\": \"#C8D4E3\"}, \"line\": {\"color\": \"white\"}}, \"type\": \"table\"}]}, \"layout\": {\"annotationdefaults\": {\"arrowcolor\": \"#2a3f5f\", \"arrowhead\": 0, \"arrowwidth\": 1}, \"coloraxis\": {\"colorbar\": {\"outlinewidth\": 0, \"ticks\": \"\"}}, \"colorscale\": {\"diverging\": [[0, \"#8e0152\"], [0.1, \"#c51b7d\"], [0.2, \"#de77ae\"], [0.3, \"#f1b6da\"], [0.4, \"#fde0ef\"], [0.5, \"#f7f7f7\"], [0.6, \"#e6f5d0\"], [0.7, \"#b8e186\"], [0.8, \"#7fbc41\"], [0.9, \"#4d9221\"], [1, \"#276419\"]], \"sequential\": [[0.0, \"#0d0887\"], [0.1111111111111111, \"#46039f\"], [0.2222222222222222, \"#7201a8\"], [0.3333333333333333, \"#9c179e\"], [0.4444444444444444, \"#bd3786\"], [0.5555555555555556, \"#d8576b\"], [0.6666666666666666, \"#ed7953\"], [0.7777777777777778, \"#fb9f3a\"], [0.8888888888888888, \"#fdca26\"], [1.0, \"#f0f921\"]], \"sequentialminus\": [[0.0, \"#0d0887\"], [0.1111111111111111, \"#46039f\"], [0.2222222222222222, \"#7201a8\"], [0.3333333333333333, \"#9c179e\"], [0.4444444444444444, \"#bd3786\"], [0.5555555555555556, \"#d8576b\"], [0.6666666666666666, \"#ed7953\"], [0.7777777777777778, \"#fb9f3a\"], [0.8888888888888888, \"#fdca26\"], [1.0, \"#f0f921\"]]}, \"colorway\": [\"#636efa\", \"#EF553B\", \"#00cc96\", \"#ab63fa\", \"#FFA15A\", \"#19d3f3\", \"#FF6692\", \"#B6E880\", \"#FF97FF\", \"#FECB52\"], \"font\": {\"color\": \"#2a3f5f\"}, \"geo\": {\"bgcolor\": \"white\", \"lakecolor\": \"white\", \"landcolor\": \"#E5ECF6\", \"showlakes\": true, \"showland\": true, \"subunitcolor\": \"white\"}, \"hoverlabel\": {\"align\": \"left\"}, \"hovermode\": \"closest\", \"mapbox\": {\"style\": \"light\"}, \"paper_bgcolor\": \"white\", \"plot_bgcolor\": \"#E5ECF6\", \"polar\": {\"angularaxis\": {\"gridcolor\": \"white\", \"linecolor\": \"white\", \"ticks\": \"\"}, \"bgcolor\": \"#E5ECF6\", \"radialaxis\": {\"gridcolor\": \"white\", \"linecolor\": \"white\", \"ticks\": \"\"}}, \"scene\": {\"xaxis\": {\"backgroundcolor\": \"#E5ECF6\", \"gridcolor\": \"white\", \"gridwidth\": 2, \"linecolor\": \"white\", \"showbackground\": true, \"ticks\": \"\", \"zerolinecolor\": \"white\"}, \"yaxis\": {\"backgroundcolor\": \"#E5ECF6\", \"gridcolor\": \"white\", \"gridwidth\": 2, \"linecolor\": \"white\", \"showbackground\": true, \"ticks\": \"\", \"zerolinecolor\": \"white\"}, \"zaxis\": {\"backgroundcolor\": \"#E5ECF6\", \"gridcolor\": \"white\", \"gridwidth\": 2, \"linecolor\": \"white\", \"showbackground\": true, \"ticks\": \"\", \"zerolinecolor\": \"white\"}}, \"shapedefaults\": {\"line\": {\"color\": \"#2a3f5f\"}}, \"ternary\": {\"aaxis\": {\"gridcolor\": \"white\", \"linecolor\": \"white\", \"ticks\": \"\"}, \"baxis\": {\"gridcolor\": \"white\", \"linecolor\": \"white\", \"ticks\": \"\"}, \"bgcolor\": \"#E5ECF6\", \"caxis\": {\"gridcolor\": \"white\", \"linecolor\": \"white\", \"ticks\": \"\"}}, \"title\": {\"x\": 0.05}, \"xaxis\": {\"automargin\": true, \"gridcolor\": \"white\", \"linecolor\": \"white\", \"ticks\": \"\", \"title\": {\"standoff\": 15}, \"zerolinecolor\": \"white\", \"zerolinewidth\": 2}, \"yaxis\": {\"automargin\": true, \"gridcolor\": \"white\", \"linecolor\": \"white\", \"ticks\": \"\", \"title\": {\"standoff\": 15}, \"zerolinecolor\": \"white\", \"zerolinewidth\": 2}}}, \"title\": {\"text\": \"Total Explained Variance: 76.55%\"}, \"xaxis\": {\"anchor\": \"y\", \"domain\": [0.0, 1.0], \"title\": {\"text\": \"PC 2\"}}, \"yaxis\": {\"anchor\": \"x\", \"domain\": [0.0, 1.0], \"title\": {\"text\": \"PC 1\"}}},                        {\"responsive\": true}                    ).then(function(){\n",
       "                            \n",
       "var gd = document.getElementById('32e7549c-541b-438a-8358-a73849889655');\n",
       "var x = new MutationObserver(function (mutations, observer) {{\n",
       "        var display = window.getComputedStyle(gd).display;\n",
       "        if (!display || display === 'none') {{\n",
       "            console.log([gd, 'removed!']);\n",
       "            Plotly.purge(gd);\n",
       "            observer.disconnect();\n",
       "        }}\n",
       "}});\n",
       "\n",
       "// Listen for the removal of the full notebook cells\n",
       "var notebookContainer = gd.closest('#notebook-container');\n",
       "if (notebookContainer) {{\n",
       "    x.observe(notebookContainer, {childList: true});\n",
       "}}\n",
       "\n",
       "// Listen for the clearing of the current output cell\n",
       "var outputEl = gd.closest('.output');\n",
       "if (outputEl) {{\n",
       "    x.observe(outputEl, {childList: true});\n",
       "}}\n",
       "\n",
       "                        })                };                });            </script>        </div>"
      ]
     },
     "metadata": {},
     "output_type": "display_data"
    }
   ],
   "source": [
    "#print image:\n",
    "import psutil as psutil\n",
    "import kaleido as kaleido\n",
    "import plotly.io as pio\n",
    "\n",
    "fig.write_image(\"plots/ACP.pdf\", engine=\"kaleido\")  #pip install psutil to export correctly\n",
    "\n",
    "fig.show()\n",
    "#pt.offline.plot(fig, \"figureTest.html\")"
   ]
  },
  {
   "cell_type": "code",
   "execution_count": 33,
   "metadata": {},
   "outputs": [
    {
     "name": "stdout",
     "output_type": "stream",
     "text": [
      "end ACP\n"
     ]
    }
   ],
   "source": [
    "print(\"end ACP\")"
   ]
  },
  {
   "cell_type": "code",
   "execution_count": 39,
   "metadata": {},
   "outputs": [
    {
     "name": "stderr",
     "output_type": "stream",
     "text": [
      "<ipython-input-39-def3503bdac2>:19: SettingWithCopyWarning:\n",
      "\n",
      "\n",
      "A value is trying to be set on a copy of a slice from a DataFrame.\n",
      "Try using .loc[row_indexer,col_indexer] = value instead\n",
      "\n",
      "See the caveats in the documentation: https://pandas.pydata.org/pandas-docs/stable/user_guide/indexing.html#returning-a-view-versus-a-copy\n",
      "\n",
      "/home/johanna/.local/venv/lib/python3.8/site-packages/pandas/core/frame.py:4167: SettingWithCopyWarning:\n",
      "\n",
      "\n",
      "A value is trying to be set on a copy of a slice from a DataFrame\n",
      "\n",
      "See the caveats in the documentation: https://pandas.pydata.org/pandas-docs/stable/user_guide/indexing.html#returning-a-view-versus-a-copy\n",
      "\n"
     ]
    },
    {
     "data": {
      "text/html": [
       "<div>\n",
       "<style scoped>\n",
       "    .dataframe tbody tr th:only-of-type {\n",
       "        vertical-align: middle;\n",
       "    }\n",
       "\n",
       "    .dataframe tbody tr th {\n",
       "        vertical-align: top;\n",
       "    }\n",
       "\n",
       "    .dataframe thead th {\n",
       "        text-align: right;\n",
       "    }\n",
       "</style>\n",
       "<table border=\"1\" class=\"dataframe\">\n",
       "  <thead>\n",
       "    <tr style=\"text-align: right;\">\n",
       "      <th></th>\n",
       "      <th>door_in_1</th>\n",
       "      <th>door_in_2</th>\n",
       "      <th>faucet_handle_1</th>\n",
       "      <th>faucet_handle_2</th>\n",
       "      <th>sink_floor_1</th>\n",
       "      <th>sink_floor_2</th>\n",
       "      <th>soap_dispenser_1</th>\n",
       "      <th>stall_in_1</th>\n",
       "      <th>toilet_floor_1</th>\n",
       "      <th>toilet_floor_2</th>\n",
       "      <th>toilet_flush_handle_1</th>\n",
       "      <th>toilet_flush_handle_2</th>\n",
       "      <th>toilet_seat_1</th>\n",
       "      <th>toilet_seat_2</th>\n",
       "    </tr>\n",
       "    <tr>\n",
       "      <th>Taxo</th>\n",
       "      <th></th>\n",
       "      <th></th>\n",
       "      <th></th>\n",
       "      <th></th>\n",
       "      <th></th>\n",
       "      <th></th>\n",
       "      <th></th>\n",
       "      <th></th>\n",
       "      <th></th>\n",
       "      <th></th>\n",
       "      <th></th>\n",
       "      <th></th>\n",
       "      <th></th>\n",
       "      <th></th>\n",
       "    </tr>\n",
       "  </thead>\n",
       "  <tbody>\n",
       "    <tr>\n",
       "      <th>Propionibacterium(100)</th>\n",
       "      <td>1392.0</td>\n",
       "      <td>1053.0</td>\n",
       "      <td>336.0</td>\n",
       "      <td>594.0</td>\n",
       "      <td>41.0</td>\n",
       "      <td>39.0</td>\n",
       "      <td>1149.0</td>\n",
       "      <td>621.0</td>\n",
       "      <td>46.0</td>\n",
       "      <td>87.0</td>\n",
       "      <td>15.0</td>\n",
       "      <td>341.0</td>\n",
       "      <td>78.0</td>\n",
       "      <td>211.0</td>\n",
       "    </tr>\n",
       "    <tr>\n",
       "      <th>Friedmanniella(100)</th>\n",
       "      <td>6.0</td>\n",
       "      <td>2.0</td>\n",
       "      <td>0.0</td>\n",
       "      <td>0.0</td>\n",
       "      <td>124.0</td>\n",
       "      <td>61.0</td>\n",
       "      <td>0.0</td>\n",
       "      <td>9.0</td>\n",
       "      <td>62.0</td>\n",
       "      <td>48.0</td>\n",
       "      <td>7.0</td>\n",
       "      <td>9.0</td>\n",
       "      <td>5.0</td>\n",
       "      <td>1.0</td>\n",
       "    </tr>\n",
       "    <tr>\n",
       "      <th>Corynebacterium(100)</th>\n",
       "      <td>86.0</td>\n",
       "      <td>155.0</td>\n",
       "      <td>19.0</td>\n",
       "      <td>1467.0</td>\n",
       "      <td>31.0</td>\n",
       "      <td>41.0</td>\n",
       "      <td>159.0</td>\n",
       "      <td>131.0</td>\n",
       "      <td>23.0</td>\n",
       "      <td>86.0</td>\n",
       "      <td>4.0</td>\n",
       "      <td>794.0</td>\n",
       "      <td>234.0</td>\n",
       "      <td>1664.0</td>\n",
       "    </tr>\n",
       "    <tr>\n",
       "      <th>Arthrobacter(86)</th>\n",
       "      <td>6.0</td>\n",
       "      <td>27.0</td>\n",
       "      <td>5.0</td>\n",
       "      <td>6.0</td>\n",
       "      <td>452.0</td>\n",
       "      <td>275.0</td>\n",
       "      <td>63.0</td>\n",
       "      <td>0.0</td>\n",
       "      <td>236.0</td>\n",
       "      <td>251.0</td>\n",
       "      <td>9.0</td>\n",
       "      <td>51.0</td>\n",
       "      <td>5.0</td>\n",
       "      <td>3.0</td>\n",
       "    </tr>\n",
       "    <tr>\n",
       "      <th>Kocuria(100)</th>\n",
       "      <td>6.0</td>\n",
       "      <td>36.0</td>\n",
       "      <td>3.0</td>\n",
       "      <td>0.0</td>\n",
       "      <td>85.0</td>\n",
       "      <td>85.0</td>\n",
       "      <td>22.0</td>\n",
       "      <td>14.0</td>\n",
       "      <td>53.0</td>\n",
       "      <td>54.0</td>\n",
       "      <td>0.0</td>\n",
       "      <td>10.0</td>\n",
       "      <td>6.0</td>\n",
       "      <td>0.0</td>\n",
       "    </tr>\n",
       "    <tr>\n",
       "      <th>unclassified(100)</th>\n",
       "      <td>41.0</td>\n",
       "      <td>67.0</td>\n",
       "      <td>6.0</td>\n",
       "      <td>41.0</td>\n",
       "      <td>198.0</td>\n",
       "      <td>142.0</td>\n",
       "      <td>64.0</td>\n",
       "      <td>25.0</td>\n",
       "      <td>183.0</td>\n",
       "      <td>141.0</td>\n",
       "      <td>144.0</td>\n",
       "      <td>33.0</td>\n",
       "      <td>25.0</td>\n",
       "      <td>20.0</td>\n",
       "    </tr>\n",
       "    <tr>\n",
       "      <th>Enhydrobacter(100)</th>\n",
       "      <td>20.0</td>\n",
       "      <td>17.0</td>\n",
       "      <td>1703.0</td>\n",
       "      <td>3.0</td>\n",
       "      <td>420.0</td>\n",
       "      <td>571.0</td>\n",
       "      <td>129.0</td>\n",
       "      <td>9.0</td>\n",
       "      <td>442.0</td>\n",
       "      <td>716.0</td>\n",
       "      <td>0.0</td>\n",
       "      <td>25.0</td>\n",
       "      <td>260.0</td>\n",
       "      <td>0.0</td>\n",
       "    </tr>\n",
       "    <tr>\n",
       "      <th>Acinetobacter(100)</th>\n",
       "      <td>35.0</td>\n",
       "      <td>59.0</td>\n",
       "      <td>7.0</td>\n",
       "      <td>13.0</td>\n",
       "      <td>142.0</td>\n",
       "      <td>272.0</td>\n",
       "      <td>71.0</td>\n",
       "      <td>55.0</td>\n",
       "      <td>134.0</td>\n",
       "      <td>271.0</td>\n",
       "      <td>4.0</td>\n",
       "      <td>14.0</td>\n",
       "      <td>58.0</td>\n",
       "      <td>5.0</td>\n",
       "    </tr>\n",
       "    <tr>\n",
       "      <th>Pseudomonas(95)</th>\n",
       "      <td>9.0</td>\n",
       "      <td>10.0</td>\n",
       "      <td>0.0</td>\n",
       "      <td>0.0</td>\n",
       "      <td>0.0</td>\n",
       "      <td>1.0</td>\n",
       "      <td>5.0</td>\n",
       "      <td>0.0</td>\n",
       "      <td>1.0</td>\n",
       "      <td>0.0</td>\n",
       "      <td>0.0</td>\n",
       "      <td>0.0</td>\n",
       "      <td>364.0</td>\n",
       "      <td>0.0</td>\n",
       "    </tr>\n",
       "    <tr>\n",
       "      <th>Pseudomonas(100)</th>\n",
       "      <td>58.0</td>\n",
       "      <td>44.0</td>\n",
       "      <td>14.0</td>\n",
       "      <td>50.0</td>\n",
       "      <td>19.0</td>\n",
       "      <td>17.0</td>\n",
       "      <td>26.0</td>\n",
       "      <td>89.0</td>\n",
       "      <td>42.0</td>\n",
       "      <td>17.0</td>\n",
       "      <td>4.0</td>\n",
       "      <td>10.0</td>\n",
       "      <td>22.0</td>\n",
       "      <td>3.0</td>\n",
       "    </tr>\n",
       "    <tr>\n",
       "      <th>Aquabacterium(100)</th>\n",
       "      <td>41.0</td>\n",
       "      <td>212.0</td>\n",
       "      <td>15.0</td>\n",
       "      <td>31.0</td>\n",
       "      <td>0.0</td>\n",
       "      <td>7.0</td>\n",
       "      <td>96.0</td>\n",
       "      <td>225.0</td>\n",
       "      <td>4.0</td>\n",
       "      <td>3.0</td>\n",
       "      <td>15.0</td>\n",
       "      <td>49.0</td>\n",
       "      <td>57.0</td>\n",
       "      <td>32.0</td>\n",
       "    </tr>\n",
       "    <tr>\n",
       "      <th>Sphingomonas(100)</th>\n",
       "      <td>31.0</td>\n",
       "      <td>20.0</td>\n",
       "      <td>400.0</td>\n",
       "      <td>18.0</td>\n",
       "      <td>33.0</td>\n",
       "      <td>16.0</td>\n",
       "      <td>30.0</td>\n",
       "      <td>24.0</td>\n",
       "      <td>45.0</td>\n",
       "      <td>50.0</td>\n",
       "      <td>28.0</td>\n",
       "      <td>217.0</td>\n",
       "      <td>75.0</td>\n",
       "      <td>5.0</td>\n",
       "    </tr>\n",
       "    <tr>\n",
       "      <th>Roseomonas(100)</th>\n",
       "      <td>0.0</td>\n",
       "      <td>0.0</td>\n",
       "      <td>185.0</td>\n",
       "      <td>0.0</td>\n",
       "      <td>64.0</td>\n",
       "      <td>56.0</td>\n",
       "      <td>53.0</td>\n",
       "      <td>0.0</td>\n",
       "      <td>72.0</td>\n",
       "      <td>46.0</td>\n",
       "      <td>6.0</td>\n",
       "      <td>5.0</td>\n",
       "      <td>9.0</td>\n",
       "      <td>0.0</td>\n",
       "    </tr>\n",
       "    <tr>\n",
       "      <th>Methylobacterium(100)</th>\n",
       "      <td>9.0</td>\n",
       "      <td>26.0</td>\n",
       "      <td>5.0</td>\n",
       "      <td>2.0</td>\n",
       "      <td>13.0</td>\n",
       "      <td>15.0</td>\n",
       "      <td>17.0</td>\n",
       "      <td>31.0</td>\n",
       "      <td>32.0</td>\n",
       "      <td>10.0</td>\n",
       "      <td>11.0</td>\n",
       "      <td>46.0</td>\n",
       "      <td>87.0</td>\n",
       "      <td>1.0</td>\n",
       "    </tr>\n",
       "    <tr>\n",
       "      <th>Staphylococcus(100)</th>\n",
       "      <td>259.0</td>\n",
       "      <td>239.0</td>\n",
       "      <td>32.0</td>\n",
       "      <td>289.0</td>\n",
       "      <td>17.0</td>\n",
       "      <td>14.0</td>\n",
       "      <td>101.0</td>\n",
       "      <td>115.0</td>\n",
       "      <td>39.0</td>\n",
       "      <td>21.0</td>\n",
       "      <td>5.0</td>\n",
       "      <td>198.0</td>\n",
       "      <td>111.0</td>\n",
       "      <td>149.0</td>\n",
       "    </tr>\n",
       "    <tr>\n",
       "      <th>Streptococcus(100)</th>\n",
       "      <td>253.0</td>\n",
       "      <td>36.0</td>\n",
       "      <td>47.0</td>\n",
       "      <td>47.0</td>\n",
       "      <td>5.0</td>\n",
       "      <td>1.0</td>\n",
       "      <td>26.0</td>\n",
       "      <td>79.0</td>\n",
       "      <td>8.0</td>\n",
       "      <td>2.0</td>\n",
       "      <td>2.0</td>\n",
       "      <td>20.0</td>\n",
       "      <td>9.0</td>\n",
       "      <td>0.0</td>\n",
       "    </tr>\n",
       "    <tr>\n",
       "      <th>Finegoldia(100)</th>\n",
       "      <td>1.0</td>\n",
       "      <td>9.0</td>\n",
       "      <td>6.0</td>\n",
       "      <td>22.0</td>\n",
       "      <td>1.0</td>\n",
       "      <td>3.0</td>\n",
       "      <td>12.0</td>\n",
       "      <td>23.0</td>\n",
       "      <td>1.0</td>\n",
       "      <td>7.0</td>\n",
       "      <td>1.0</td>\n",
       "      <td>62.0</td>\n",
       "      <td>36.0</td>\n",
       "      <td>250.0</td>\n",
       "    </tr>\n",
       "    <tr>\n",
       "      <th>Anaerococcus(100)</th>\n",
       "      <td>20.0</td>\n",
       "      <td>38.0</td>\n",
       "      <td>10.0</td>\n",
       "      <td>14.0</td>\n",
       "      <td>3.0</td>\n",
       "      <td>1.0</td>\n",
       "      <td>21.0</td>\n",
       "      <td>70.0</td>\n",
       "      <td>6.0</td>\n",
       "      <td>5.0</td>\n",
       "      <td>3.0</td>\n",
       "      <td>74.0</td>\n",
       "      <td>42.0</td>\n",
       "      <td>367.0</td>\n",
       "    </tr>\n",
       "    <tr>\n",
       "      <th>Chryseobacterium(97)</th>\n",
       "      <td>4.0</td>\n",
       "      <td>3.0</td>\n",
       "      <td>1.0</td>\n",
       "      <td>0.0</td>\n",
       "      <td>36.0</td>\n",
       "      <td>156.0</td>\n",
       "      <td>0.0</td>\n",
       "      <td>0.0</td>\n",
       "      <td>30.0</td>\n",
       "      <td>115.0</td>\n",
       "      <td>3.0</td>\n",
       "      <td>1.0</td>\n",
       "      <td>4.0</td>\n",
       "      <td>0.0</td>\n",
       "    </tr>\n",
       "    <tr>\n",
       "      <th>Hymenobacter(100)</th>\n",
       "      <td>0.0</td>\n",
       "      <td>5.0</td>\n",
       "      <td>0.0</td>\n",
       "      <td>0.0</td>\n",
       "      <td>84.0</td>\n",
       "      <td>71.0</td>\n",
       "      <td>22.0</td>\n",
       "      <td>0.0</td>\n",
       "      <td>72.0</td>\n",
       "      <td>55.0</td>\n",
       "      <td>2.0</td>\n",
       "      <td>25.0</td>\n",
       "      <td>9.0</td>\n",
       "      <td>0.0</td>\n",
       "    </tr>\n",
       "  </tbody>\n",
       "</table>\n",
       "</div>"
      ],
      "text/plain": [
       "                        door_in_1  door_in_2  faucet_handle_1  \\\n",
       "Taxo                                                            \n",
       "Propionibacterium(100)     1392.0     1053.0            336.0   \n",
       "Friedmanniella(100)           6.0        2.0              0.0   \n",
       "Corynebacterium(100)         86.0      155.0             19.0   \n",
       "Arthrobacter(86)              6.0       27.0              5.0   \n",
       "Kocuria(100)                  6.0       36.0              3.0   \n",
       "unclassified(100)            41.0       67.0              6.0   \n",
       "Enhydrobacter(100)           20.0       17.0           1703.0   \n",
       "Acinetobacter(100)           35.0       59.0              7.0   \n",
       "Pseudomonas(95)               9.0       10.0              0.0   \n",
       "Pseudomonas(100)             58.0       44.0             14.0   \n",
       "Aquabacterium(100)           41.0      212.0             15.0   \n",
       "Sphingomonas(100)            31.0       20.0            400.0   \n",
       "Roseomonas(100)               0.0        0.0            185.0   \n",
       "Methylobacterium(100)         9.0       26.0              5.0   \n",
       "Staphylococcus(100)         259.0      239.0             32.0   \n",
       "Streptococcus(100)          253.0       36.0             47.0   \n",
       "Finegoldia(100)               1.0        9.0              6.0   \n",
       "Anaerococcus(100)            20.0       38.0             10.0   \n",
       "Chryseobacterium(97)          4.0        3.0              1.0   \n",
       "Hymenobacter(100)             0.0        5.0              0.0   \n",
       "\n",
       "                        faucet_handle_2  sink_floor_1  sink_floor_2  \\\n",
       "Taxo                                                                  \n",
       "Propionibacterium(100)            594.0          41.0          39.0   \n",
       "Friedmanniella(100)                 0.0         124.0          61.0   \n",
       "Corynebacterium(100)             1467.0          31.0          41.0   \n",
       "Arthrobacter(86)                    6.0         452.0         275.0   \n",
       "Kocuria(100)                        0.0          85.0          85.0   \n",
       "unclassified(100)                  41.0         198.0         142.0   \n",
       "Enhydrobacter(100)                  3.0         420.0         571.0   \n",
       "Acinetobacter(100)                 13.0         142.0         272.0   \n",
       "Pseudomonas(95)                     0.0           0.0           1.0   \n",
       "Pseudomonas(100)                   50.0          19.0          17.0   \n",
       "Aquabacterium(100)                 31.0           0.0           7.0   \n",
       "Sphingomonas(100)                  18.0          33.0          16.0   \n",
       "Roseomonas(100)                     0.0          64.0          56.0   \n",
       "Methylobacterium(100)               2.0          13.0          15.0   \n",
       "Staphylococcus(100)               289.0          17.0          14.0   \n",
       "Streptococcus(100)                 47.0           5.0           1.0   \n",
       "Finegoldia(100)                    22.0           1.0           3.0   \n",
       "Anaerococcus(100)                  14.0           3.0           1.0   \n",
       "Chryseobacterium(97)                0.0          36.0         156.0   \n",
       "Hymenobacter(100)                   0.0          84.0          71.0   \n",
       "\n",
       "                        soap_dispenser_1  stall_in_1  toilet_floor_1  \\\n",
       "Taxo                                                                   \n",
       "Propionibacterium(100)            1149.0       621.0            46.0   \n",
       "Friedmanniella(100)                  0.0         9.0            62.0   \n",
       "Corynebacterium(100)               159.0       131.0            23.0   \n",
       "Arthrobacter(86)                    63.0         0.0           236.0   \n",
       "Kocuria(100)                        22.0        14.0            53.0   \n",
       "unclassified(100)                   64.0        25.0           183.0   \n",
       "Enhydrobacter(100)                 129.0         9.0           442.0   \n",
       "Acinetobacter(100)                  71.0        55.0           134.0   \n",
       "Pseudomonas(95)                      5.0         0.0             1.0   \n",
       "Pseudomonas(100)                    26.0        89.0            42.0   \n",
       "Aquabacterium(100)                  96.0       225.0             4.0   \n",
       "Sphingomonas(100)                   30.0        24.0            45.0   \n",
       "Roseomonas(100)                     53.0         0.0            72.0   \n",
       "Methylobacterium(100)               17.0        31.0            32.0   \n",
       "Staphylococcus(100)                101.0       115.0            39.0   \n",
       "Streptococcus(100)                  26.0        79.0             8.0   \n",
       "Finegoldia(100)                     12.0        23.0             1.0   \n",
       "Anaerococcus(100)                   21.0        70.0             6.0   \n",
       "Chryseobacterium(97)                 0.0         0.0            30.0   \n",
       "Hymenobacter(100)                   22.0         0.0            72.0   \n",
       "\n",
       "                        toilet_floor_2  toilet_flush_handle_1  \\\n",
       "Taxo                                                            \n",
       "Propionibacterium(100)            87.0                   15.0   \n",
       "Friedmanniella(100)               48.0                    7.0   \n",
       "Corynebacterium(100)              86.0                    4.0   \n",
       "Arthrobacter(86)                 251.0                    9.0   \n",
       "Kocuria(100)                      54.0                    0.0   \n",
       "unclassified(100)                141.0                  144.0   \n",
       "Enhydrobacter(100)               716.0                    0.0   \n",
       "Acinetobacter(100)               271.0                    4.0   \n",
       "Pseudomonas(95)                    0.0                    0.0   \n",
       "Pseudomonas(100)                  17.0                    4.0   \n",
       "Aquabacterium(100)                 3.0                   15.0   \n",
       "Sphingomonas(100)                 50.0                   28.0   \n",
       "Roseomonas(100)                   46.0                    6.0   \n",
       "Methylobacterium(100)             10.0                   11.0   \n",
       "Staphylococcus(100)               21.0                    5.0   \n",
       "Streptococcus(100)                 2.0                    2.0   \n",
       "Finegoldia(100)                    7.0                    1.0   \n",
       "Anaerococcus(100)                  5.0                    3.0   \n",
       "Chryseobacterium(97)             115.0                    3.0   \n",
       "Hymenobacter(100)                 55.0                    2.0   \n",
       "\n",
       "                        toilet_flush_handle_2  toilet_seat_1  toilet_seat_2  \n",
       "Taxo                                                                         \n",
       "Propionibacterium(100)                  341.0           78.0          211.0  \n",
       "Friedmanniella(100)                       9.0            5.0            1.0  \n",
       "Corynebacterium(100)                    794.0          234.0         1664.0  \n",
       "Arthrobacter(86)                         51.0            5.0            3.0  \n",
       "Kocuria(100)                             10.0            6.0            0.0  \n",
       "unclassified(100)                        33.0           25.0           20.0  \n",
       "Enhydrobacter(100)                       25.0          260.0            0.0  \n",
       "Acinetobacter(100)                       14.0           58.0            5.0  \n",
       "Pseudomonas(95)                           0.0          364.0            0.0  \n",
       "Pseudomonas(100)                         10.0           22.0            3.0  \n",
       "Aquabacterium(100)                       49.0           57.0           32.0  \n",
       "Sphingomonas(100)                       217.0           75.0            5.0  \n",
       "Roseomonas(100)                           5.0            9.0            0.0  \n",
       "Methylobacterium(100)                    46.0           87.0            1.0  \n",
       "Staphylococcus(100)                     198.0          111.0          149.0  \n",
       "Streptococcus(100)                       20.0            9.0            0.0  \n",
       "Finegoldia(100)                          62.0           36.0          250.0  \n",
       "Anaerococcus(100)                        74.0           42.0          367.0  \n",
       "Chryseobacterium(97)                      1.0            4.0            0.0  \n",
       "Hymenobacter(100)                        25.0            9.0            0.0  "
      ]
     },
     "execution_count": 39,
     "metadata": {},
     "output_type": "execute_result"
    }
   ],
   "source": [
    "\"\"\"\n",
    "Preparation Donees pour CLUSTERING HIERARCHIQUE: \n",
    "utiliser GENRE.\n",
    "\"\"\"\n",
    "dicoTaxoTest = getDicoTaxo(df)\n",
    "df2 = getDF(dicoTaxoTest)\n",
    "df2\n",
    "#dans ce 'chunk' GENRE_FIL sera filtré:\n",
    "GENRE_FIL = getDFFonctionTaxo(df2,\"genre\")\n",
    "listmysum = []\n",
    "localisation = [\"door_in_1\",\"door_in_2\", \"faucet_handle_1\", \n",
    "                \"faucet_handle_2\", \"sink_floor_1\", \"sink_floor_2\",\n",
    "               \"soap_dispenser_1\", \"stall_in_1\", \"toilet_floor_1\", \n",
    "               \"toilet_floor_2\", \"toilet_flush_handle_1\",\n",
    "               \"toilet_flush_handle_2\", \"toilet_seat_1\", \"toilet_seat_2\"]\n",
    "for index, row in GENRE_FIL.iterrows():\n",
    "    desiredvalues = [ int(i) for i in row[localisation] ]\n",
    "    listmysum.append(sum(desiredvalues))\n",
    "GENRE_FIL[\"TOTALABUND\"] = listmysum\n",
    "GENRE_FIL[\"TOTALABUND\"].describe() #check values statistics resumé\n",
    "#stablish cutoff as 5% the max total value\n",
    "cutoff = GENRE_FIL[\"TOTALABUND\"].describe()[\"max\"]*0.05\n",
    "\n",
    "indextodelete = GENRE_FIL[GENRE_FIL[\"TOTALABUND\"] < cutoff].index\n",
    "GENRE_FIL.drop(indextodelete, inplace=True)\n",
    "# préparation de la matrice\n",
    "### atention!!!! lots of conflicts with \"unknown\" : repeated!\n",
    "GFtmp = GENRE_FIL.drop_duplicates(subset='Taxo', keep=\"first\")\n",
    "GF3 = getDFTree(GFtmp)  # essential to create 'y'\n",
    "lcolsuprimer = [\"Nvx_taxo\",\"TOTALABUND\"]\n",
    "GF2 = GFtmp.drop(columns=lcolsuprimer)\n",
    "del(GFtmp)\n",
    "\n",
    "listmicroo = GF2['Taxo']\n",
    "GF2.reindex = listmicroo #  ne marche pas, solution: faire tout\n",
    "GF2tmp = GF2.loc[:,localisation].to_numpy()\n",
    "\n",
    "GF2matrix = GF2tmp.astype(\"double\")\n",
    "GF2f = pandas.DataFrame(GF2matrix, index=listmicroo, columns=localisation)\n",
    "GF2f\n",
    "### ici on peut visualiser le df style matrice comme il faut pour tourner l'analyse\n"
   ]
  },
  {
   "cell_type": "code",
   "execution_count": 41,
   "metadata": {},
   "outputs": [
    {
     "data": {
      "image/png": "[encoded data removed]",
      "text/plain": [
       "<Figure size 720x720 with 4 Axes>"
      ]
     },
     "metadata": {
      "needs_background": "light"
     },
     "output_type": "display_data"
    }
   ],
   "source": [
    "import scipy.spatial as sp, scipy.cluster.hierarchy as hc\n",
    "import matplotlib.pyplot as plt\n",
    "import matplotlib.patches as mpatches\n",
    "#calculate linkage matrix, 'average' is UPGMA\n",
    "linkage = hc.linkage(GF2matrix, method='average')\n",
    "\n",
    "y = pandas.Series((i for i in GF3[\"Localisation\"]), index=GF3[\"Taxo\"], name=\"Series\") \n",
    "\n",
    "#mypal lmcolor and rowcol for color bar, but here is not possible with this 'y', \n",
    "# it may work if series was for example phylum (something assigned 1 to 1 to genre)\n",
    "\n",
    "mypal = sns.cubehelix_palette(len(y), light=.9, dark=.1, reverse=True, start=1, rot=-2)\n",
    "lmcolor = dict(zip(map(str,y.unique()),mypal))\n",
    "rowcol = y.map(lmcolor)\n",
    "\n",
    "h = sns.clustermap(GF2f, row_linkage=linkage, metric=\"correlation\", cmap=\"Blues\")\n",
    "plt.savefig('plots/ClustHierarchique.pdf', format=\"pdf\", dpi=300,  bbox_inches = 'tight')\n"
   ]
  },
  {
   "cell_type": "code",
   "execution_count": null,
   "metadata": {},
   "outputs": [],
   "source": []
  }
 ],
 "metadata": {
  "kernelspec": {
   "display_name": "Python 3",
   "language": "python",
   "name": "python3"
  },
  "language_info": {
   "codemirror_mode": {
    "name": "ipython",
    "version": 3
   },
   "file_extension": ".py",
   "mimetype": "text/x-python",
   "name": "python",
   "nbconvert_exporter": "python",
   "pygments_lexer": "ipython3",
   "version": "3.8.5"
  }
 },
 "nbformat": 4,
 "nbformat_minor": 4
}
