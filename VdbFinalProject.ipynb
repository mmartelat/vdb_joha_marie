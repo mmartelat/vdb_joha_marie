{
 "cells": [
  {
   "cell_type": "code",
   "execution_count": 41,
   "metadata": {},
   "outputs": [],
   "source": [
    "import pandas\n",
    "import os\n",
    "import numpy as np\n",
    "import matplotlib.pyplot as plt\n",
    "import plotly.express as px\n",
    "import seaborn as sns\n",
    "import plotly as pt\n",
    "from sklearn.decomposition import PCA\n",
    "import scipy.spatial as sp, scipy.cluster.hierarchy as hc\n",
    "import matplotlib.patches as mpatches\n",
    "\n",
    "\n",
    "df = pandas.read_csv(\"1335.vdb.tab\", sep=\"\\t\", header =None) \n",
    "#Récupère la liste de nombre, correspondant aux comptage des différents espèces en fonction des lieu de prélevement\n",
    "#2=door_in_1 ; 3=door_in_2 ; 4=faucet_handle_1 ; 5=faucet_handle_2 ; 6=sink_floor_1 ; 7=sink_floor_2\n",
    "#8=soap_dispenser_1 ; 9=stall_in_1 ; 10=toilet_floor_1 ; 11=toilet_floor_1 ; 12=toilet_flush_handle_1\n",
    "#13=toilet_flush_handle_2 ; 14=toilet_seat_1 ; 15=toilet_seat_2\n",
    "def getcountsfromrow(row):\n",
    "    l_l = [ int(row[2]),\n",
    "            int(row[3]),\n",
    "            int(row[4]),\n",
    "            int(row[5]),\n",
    "            int(row[6]),\n",
    "            int(row[7]),\n",
    "            int(row[8]),\n",
    "            int(row[9]),\n",
    "            int(row[10]),\n",
    "            int(row[11]),\n",
    "            int(row[12]),\n",
    "            int(row[13]),\n",
    "            int(row[14]),\n",
    "            int(row[15]) ]\n",
    "    return l_l\n",
    "\n",
    "\"\"\"\n",
    "Code pour generer dictionnaire. \n",
    "\n",
    "Sous forme { name : \"nomDeLaTaxo\", \n",
    "count : list de compte pour chaque localisation, \n",
    "children : liste des niveau plus précis venant de cette taxo}\n",
    "\n",
    "Au prealable, avec cat 1335.vdb.tab | cut -f 2 | cut -d \";\" -f 1 | uniq\n",
    "OTUConTaxonomy\"Bacteria(100)  => on a confirmé que ce sont toutes Bacteria\n",
    "\"\"\"\n",
    "def getDicoTaxo(df):\n",
    "    dicotaxo = { \"name\" : \"Bacteria\", \"count\" : [0 for i in range(14)], \"children\" : []}\n",
    "    for index,row in df.iterrows():\n",
    "        leveltax = row[1].split(';')  # uniquement indexes >=1 m'interessent \n",
    "        if index > 0:\n",
    "            COUNTS = getcountsfromrow(row)\n",
    "            tmp5 = {}\n",
    "            tmp4 = {}\n",
    "            tmp3 = {}\n",
    "            tmp2 = {}\n",
    "            tmp1 = {}\n",
    "            tmp5[\"name\"] = leveltax[5]\n",
    "            tmp4[\"name\"] = leveltax[4]\n",
    "            tmp3[\"name\"] = leveltax[3]\n",
    "            tmp2[\"name\"] = leveltax[2]\n",
    "            tmp1[\"name\"] = leveltax[1]      \n",
    "            tmp5[\"count\"] =  getcountsfromrow(row)\n",
    "            tmp5[\"children\"] = []  # lowest level\n",
    "            tmp4[\"count\"] =  getcountsfromrow(row)\n",
    "            tmp4[\"children\"] = [tmp5]\n",
    "            tmp3[\"count\"] =  getcountsfromrow(row)\n",
    "            tmp3[\"children\"] = [tmp4]\n",
    "            tmp2[\"count\"] =  getcountsfromrow(row)\n",
    "            tmp2[\"children\"] = [tmp3]\n",
    "            tmp1[\"count\"] = getcountsfromrow(row)\n",
    "            tmp1[\"children\"] = [tmp2]\n",
    "            tmpcounts = dicotaxo[\"count\"]\n",
    "            dicotaxo[\"count\"] = np.add(tmpcounts, COUNTS)\n",
    "            if leveltax[1] not in [m[\"name\"] for m in dicotaxo[\"children\"]] :\n",
    "                dicotaxo[\"children\"].append(tmp1)\n",
    "            else:\n",
    "                for m in dicotaxo[\"children\"]:\n",
    "                    if m[\"name\"] == leveltax[1]:\n",
    "                        tmpc = m[\"count\"]\n",
    "                        m[\"count\"] = np.add(tmpc, COUNTS)\n",
    "                        if leveltax[2] not in [n[\"name\"] for n in m[\"children\"]] :\n",
    "                            m[\"children\"].append(tmp2)\n",
    "                        else:\n",
    "                            for n in m[\"children\"]:\n",
    "                                if n[\"name\"] == leveltax[2]:\n",
    "                                    tmpc = n[\"count\"]\n",
    "                                    n[\"count\"] = np.add(tmpc, COUNTS)\n",
    "                                    if leveltax[3] not in [o[\"name\"] for o in n[\"children\"]]:\n",
    "                                        n[\"children\"].append(tmp3)\n",
    "                                    else: \n",
    "                                        for o in n[\"children\"]:\n",
    "                                            if o[\"name\"] == leveltax[3]:\n",
    "                                                tmpc = o[\"count\"]\n",
    "                                                o[\"count\"] = np.add(tmpc,COUNTS)\n",
    "                                                if leveltax[4] not in [p[\"name\"] for p in o[\"children\"]]:\n",
    "                                                    o[\"children\"].append(tmp4)\n",
    "                                                else:\n",
    "                                                    for p in o[\"children\"]:\n",
    "                                                        if p[\"name\"] == leveltax[4]:\n",
    "                                                            tmpc = p[\"count\"]\n",
    "                                                            p[\"count\"] = np.add(tmpc, COUNTS)\n",
    "                                                            if leveltax[5] not in [q[\"name\"] for q in p[\"children\"]]:\n",
    "                                                                p[\"children\"].append(tmp5)\n",
    "                                                            else:\n",
    "                                                                for q in p[\"children\"]:\n",
    "                                                                    if q[\"name\"] == leveltax[5]:\n",
    "                                                                        tmpc = q[\"count\"]\n",
    "                                                                        q[\"count\"] = np.add(tmpc, COUNTS)\n",
    "                                                                        q[\"children\"] = []\n",
    "                                                                        # this is the lowest level                                        \n",
    "    return dicotaxo\n",
    "\n"
   ]
  },
  {
   "cell_type": "code",
   "execution_count": 42,
   "metadata": {},
   "outputs": [],
   "source": [
    "\"\"\"\n",
    "Méthodes pour récupérer des données intéréssantes du dicoTaxo ou du DF en fonction de la figure voulue\n",
    "\"\"\"\n",
    "\n",
    "#Méthode pour récupérer le niveau de taxo demander (convertie en chiffre)\n",
    "def convertNiv(niveau):\n",
    "    if niveau.upper() == \"REGNE\":\n",
    "        return 1\n",
    "    if niveau.upper() == \"PHYLUM\":\n",
    "        return 2\n",
    "    if niveau.upper() == \"CLASSE\":\n",
    "        return 3\n",
    "    if niveau.upper() == \"ORDRE\":\n",
    "        return 4\n",
    "    if niveau.upper() == \"FAMILLE\":\n",
    "        return 5\n",
    "    if niveau.upper() == \"GENRE\":\n",
    "        return 6\n",
    "\n",
    "#Permet créer un dico pour chaque niveau\n",
    "def dicoListeNiveau(nomList, dico):\n",
    "    dico[nomList] = []\n",
    "    \n",
    "\"\"\"\n",
    "Méthode 1 : En fonction du niveaux de taxo récupéré donnne pour l'espèce le comptage en fonction du lieu\n",
    "Input : niveau taxo Regne;Phylum;Classe;Ordre;Famille;Genre\n",
    "Output : liste de vecteurs ; 1er : vecteur des espèces, \n",
    "puis 1 vecteurs par localisation (1 vecteur donne le comptage pour l'espèce dans la localisation donnée)\n",
    "Ordre pour la localisation : \"door_in_1\",\"door_in_2\", \"faucet_handle_1\", \n",
    "                \"faucet_handle_2\", \"sink_floor_1\", \"sink_floor_2\",\n",
    "               \"soap_dispenser_1\", \"stall_in_1\", \"toilet_floor_1\", \n",
    "               \"toilet_floor_2\", \"toilet_flush_handle_1\",\n",
    "               \"toilet_flush_handle_2\", \"toilet_seat_1\", \"toilet_seat_2\"\n",
    "\"\"\"\n",
    "def getNiv(niveau,dicoTaxo):\n",
    "    niv = convertNiv(niveau)\n",
    "    vecteurs = []\n",
    "    dicoListeNivx = {}\n",
    "    #Regne \n",
    "    listeRegne = []\n",
    "    #Regne compte\n",
    "    listelRegne = []\n",
    "    #Autre niveau\n",
    "    listePhylum =[]\n",
    "    listeClasse =[]\n",
    "    listeOrdre =[]\n",
    "    listeFamille =[]\n",
    "    listeGenre =[]\n",
    "    #autre niveau compte\n",
    "    for i in range(1,15):\n",
    "        nomList = f\"listel{i}\" + niveau.lower()\n",
    "        dicoListeNiveau(nomList,dicoListeNivx )\n",
    "\n",
    "    for k1, v1 in dicoTaxo.items():\n",
    "        #Récupère que pour le règne\n",
    "        if k1 == \"name\" and niv == 1:\n",
    "            listeRegne.append(v1)\n",
    "            vecteurs.append(listeRegne)\n",
    "        elif k1 == \"count\" and niv == 1:\n",
    "            listelRegne.append(v1)\n",
    "            vecteurs.append(listelRegne)\n",
    "        elif k1 == \"children\" and niv > 1: \n",
    "            for phylum in dicoTaxo['children']:\n",
    "                for k2, v2 in phylum.items():\n",
    "                    #Récupère que pour le phylum\n",
    "                    if k2 == \"name\" and niv == 2:\n",
    "                        listePhylum.append(v2)\n",
    "                    elif k2 == \"count\" and niv == 2:\n",
    "                        for i in range(0,14):\n",
    "                            numList = i+1\n",
    "                            nomList = f\"listel{numList}\" + niveau.lower()\n",
    "                            dicoListeNivx[nomList].append(v2[i])\n",
    "\n",
    "                    #Descend dans les niveau plus précis\n",
    "                    elif k2 == \"children\" and niv > 2:\n",
    "                        for classe in v2:\n",
    "                            for k3, v3 in classe.items():\n",
    "                                #Récupère que pour la classe\n",
    "                                if k3 == \"name\" and niv == 3:\n",
    "                                    listeClasse.append(v3)\n",
    "                                elif k3 == \"count\" and niv == 3:\n",
    "                                     for i in range(0,14):\n",
    "                                        numList = i+1\n",
    "                                        nomList = f\"listel{numList}\" + niveau.lower()\n",
    "                                        dicoListeNivx[nomList].append(v3[i])\n",
    "                                #Descend dans les niveau plus précis\n",
    "                                elif k3 == \"children\" and niv > 3:\n",
    "                                    for ordre in v3:\n",
    "                                        for k4, v4 in ordre.items():\n",
    "                                            #Récupère que pour l'ordre\n",
    "                                            if k4 == \"name\" and niv == 4:\n",
    "                                                listeOrdre.append(v4)\n",
    "                                            elif k4 == \"count\" and niv == 4:\n",
    "                                                for i in range(0,14):\n",
    "                                                    numList = i+1\n",
    "                                                    nomList = f\"listel{numList}\" + niveau.lower()\n",
    "                                                    dicoListeNivx[nomList].append(v4[i])\n",
    "                                            #Descend dans les niveau plus précis\n",
    "                                            elif k4 == \"children\" and niv > 4:\n",
    "                                                for famille in v4:\n",
    "                                                    for k5, v5 in famille.items():\n",
    "                                                        #Récupère que pour la famille\n",
    "                                                        if k5 == \"name\" and niv == 5:\n",
    "                                                            listeFamille.append(v5)\n",
    "                                                        elif k5 == \"count\" and niv == 5:\n",
    "                                                            for i in range(0,14):\n",
    "                                                                numList = i+1\n",
    "                                                                nomList = f\"listel{numList}\" + niveau.lower()\n",
    "                                                                dicoListeNivx[nomList].append(v5[i])\n",
    "                                                        #Descend dans les niveau plus précis\n",
    "                                                        elif k5 == \"children\" and niv > 5:\n",
    "                                                            for genre in v5:\n",
    "                                                                for k6, v6 in genre.items():\n",
    "                                                                    #Récupère que pour la famille\n",
    "                                                                    if k6 == \"name\" and niv == 6:\n",
    "                                                                        listeGenre.append(v6)\n",
    "                                                                    elif k6 == \"count\" and niv == 6:\n",
    "                                                                        for i in range(0,14):\n",
    "                                                                            numList = i+1\n",
    "                                                                            nomList = f\"listel{numList}\" + niveau.lower()\n",
    "                                                                            dicoListeNivx[nomList].append(v6[i])\n",
    "                                                                    \n",
    "\n",
    "    #Forme les vecteurs en fonction du niveau de taxo voulu.\n",
    "    if niv == 2:\n",
    "        vecteurs.append(listePhylum);vecteurs.append(dicoListeNivx['listel1phylum']);vecteurs.append(dicoListeNivx['listel2phylum']);vecteurs.append(dicoListeNivx['listel3phylum'])\n",
    "        vecteurs.append(dicoListeNivx['listel4phylum']);vecteurs.append(dicoListeNivx['listel5phylum']);vecteurs.append(dicoListeNivx['listel6phylum']);vecteurs.append(dicoListeNivx['listel7phylum'])\n",
    "        vecteurs.append(dicoListeNivx['listel8phylum']);vecteurs.append(dicoListeNivx['listel9phylum']);vecteurs.append(dicoListeNivx['listel10phylum']);vecteurs.append(dicoListeNivx['listel11phylum'])\n",
    "        vecteurs.append(dicoListeNivx['listel12phylum']);vecteurs.append(dicoListeNivx['listel13phylum']);vecteurs.append(dicoListeNivx['listel14phylum']);\n",
    "    if niv == 3:\n",
    "        vecteurs.append(listeClasse);vecteurs.append(dicoListeNivx['listel1classe']);vecteurs.append(dicoListeNivx['listel2classe']);vecteurs.append(dicoListeNivx['listel3classe'])\n",
    "        vecteurs.append(dicoListeNivx['listel4classe']);vecteurs.append(dicoListeNivx['listel5classe']);vecteurs.append(dicoListeNivx['listel6classe']);vecteurs.append(dicoListeNivx['listel7classe'])\n",
    "        vecteurs.append(dicoListeNivx['listel8classe']);vecteurs.append(dicoListeNivx['listel9classe']);vecteurs.append(dicoListeNivx['listel10classe']);vecteurs.append(dicoListeNivx['listel11classe'])\n",
    "        vecteurs.append(dicoListeNivx['listel12classe']);vecteurs.append(dicoListeNivx['listel13classe']);vecteurs.append(dicoListeNivx['listel14classe']);\n",
    "    if niv == 4:\n",
    "        vecteurs.append(listeOrdre);vecteurs.append(dicoListeNivx['listel1ordre']);vecteurs.append(dicoListeNivx['listel2ordre']);vecteurs.append(dicoListeNivx['listel3ordre'])\n",
    "        vecteurs.append(dicoListeNivx['listel4ordre']);vecteurs.append(dicoListeNivx['listel5ordre']);vecteurs.append(dicoListeNivx['listel6ordre']);vecteurs.append(dicoListeNivx['listel7ordre'])\n",
    "        vecteurs.append(dicoListeNivx['listel8ordre']);vecteurs.append(dicoListeNivx['listel9ordre']);vecteurs.append(dicoListeNivx['listel10ordre']);vecteurs.append(dicoListeNivx['listel11ordre'])\n",
    "        vecteurs.append(dicoListeNivx['listel12ordre']);vecteurs.append(dicoListeNivx['listel13ordre']);vecteurs.append(dicoListeNivx['listel14ordre']);\n",
    "    if niv == 5:\n",
    "        vecteurs.append(listeFamille);vecteurs.append(dicoListeNivx['listel1famille']);vecteurs.append(dicoListeNivx['listel2famille']);vecteurs.append(dicoListeNivx['listel3famille'])\n",
    "        vecteurs.append(dicoListeNivx['listel4famille']);vecteurs.append(dicoListeNivx['listel5famille']);vecteurs.append(dicoListeNivx['listel6famille']);vecteurs.append(dicoListeNivx['listel7famille'])\n",
    "        vecteurs.append(dicoListeNivx['listel8famille']);vecteurs.append(dicoListeNivx['listel9famille']);vecteurs.append(dicoListeNivx['listel10famille']);vecteurs.append(dicoListeNivx['listel11famille'])\n",
    "        vecteurs.append(dicoListeNivx['listel12famille']);vecteurs.append(dicoListeNivx['listel13famille']);vecteurs.append(dicoListeNivx['listel14famille']);\n",
    "    if niv == 6:\n",
    "        vecteurs.append(listeGenre);vecteurs.append(dicoListeNivx['listel1genre']);vecteurs.append(dicoListeNivx['listel2genre']);vecteurs.append(dicoListeNivx['listel2genre'])\n",
    "        vecteurs.append(dicoListeNivx['listel4genre']);vecteurs.append(dicoListeNivx['listel5genre']);vecteurs.append(dicoListeNivx['listel6genre']);vecteurs.append(dicoListeNivx['listel7genre'])\n",
    "        vecteurs.append(dicoListeNivx['listel8genre']);vecteurs.append(dicoListeNivx['listel9genre']);vecteurs.append(dicoListeNivx['listel10genre']);vecteurs.append(dicoListeNivx['listel11genre'])\n",
    "        vecteurs.append(dicoListeNivx['listel12genre']);vecteurs.append(dicoListeNivx['listel13genre']);vecteurs.append(dicoListeNivx['listel14genre']);\n",
    "    \n",
    "    return vecteurs\n",
    "\n",
    "\"\"\"\n",
    "Méthode 2: pour récupérer les vecteurs de comptage avec un comptages assez important.\n",
    "\"\"\"\n",
    "def abondanceImportant(vecteurs, comptageMin):\n",
    "    sum = 0\n",
    "    lgVecteur = len(vecteurs[0])\n",
    "    rangeb = len(vecteurs[0])-1\n",
    "    listNumsup = []\n",
    "    for i in range(0,rangeb):\n",
    "        sum = vecteurs[1][i] +vecteurs[2][i]+vecteurs[3][i]+vecteurs[4][i]+vecteurs[5][i]+vecteurs[6][i]+vecteurs[7][i]+vecteurs[8][i]+vecteurs[9][i]+vecteurs[10][i]+vecteurs[11][i]+vecteurs[12][i]+vecteurs[13][i]+vecteurs[14][i]\n",
    "        if sum < comptageMin :\n",
    "            listNumsup.append(i)\n",
    "    nbSup = 0\n",
    "    for i in listNumsup:\n",
    "        if(lgVecteur == len(vecteurs[0]) ):\n",
    "            del vecteurs[0][i]\n",
    "            del vecteurs[1][i]\n",
    "            del vecteurs[2][i]\n",
    "            del vecteurs[3][i]\n",
    "            del vecteurs[4][i]\n",
    "            del vecteurs[5][i]\n",
    "            del vecteurs[6][i]\n",
    "            del vecteurs[7][i]\n",
    "            del vecteurs[8][i]\n",
    "            del vecteurs[9][i]\n",
    "            del vecteurs[10][i]\n",
    "            del vecteurs[11][i]\n",
    "            del vecteurs[12][i]\n",
    "            del vecteurs[13][i]\n",
    "            del vecteurs[14][i]\n",
    "        else:\n",
    "            nbSup = nbSup + 1\n",
    "            i = i-nbSup\n",
    "            del vecteurs[0][i]\n",
    "            del vecteurs[1][i]\n",
    "            del vecteurs[2][i]\n",
    "            del vecteurs[3][i]\n",
    "            del vecteurs[4][i]\n",
    "            del vecteurs[5][i]\n",
    "            del vecteurs[6][i]\n",
    "            del vecteurs[7][i]\n",
    "            del vecteurs[8][i]\n",
    "            del vecteurs[9][i]\n",
    "            del vecteurs[10][i]\n",
    "            del vecteurs[11][i]\n",
    "            del vecteurs[12][i]\n",
    "            del vecteurs[13][i]\n",
    "            del vecteurs[14][i]\n",
    "        \n",
    "    return vecteurs \n",
    "\n",
    "\"\"\"\n",
    "Methode 3 : Création matrice pour heat map a partir d'une liste de vecteurs.\n",
    "\"\"\"\n",
    "def matrice(vecteurs):\n",
    "    mat = np.array([vecteurs[1],vecteurs[2],vecteurs[3],vecteurs[4],vecteurs[5],vecteurs[6],vecteurs[7],vecteurs[8],vecteurs[9],\n",
    "           vecteurs[10],vecteurs[11],vecteurs[12],vecteurs[13],vecteurs[14]])\n",
    "    return mat\n",
    "\n",
    "\n",
    "\"\"\"\n",
    "Méthodes utilisant le dicoTaxo où l'on a déjà récupéré tout les comptages par niveau et taxo.\n",
    "\"\"\"\n",
    "\n",
    "\"\"\"\n",
    "Méthode 4 : Avec le niveau de Taxo créer une dataframe panda sur lequel peut travailler pour différentes figures.\n",
    "Input : dicoTaxo créer avec la méthode 1\n",
    "Output : dataFrame de 17 colonnes\n",
    "Colonne créer : \n",
    "Nvx_taxo : Indique de qu'elle niveau la taxo appartient (Regne;Phylum;Classe;Ordre;Famille;Genre)\n",
    "Taxo : Donne la taxo \n",
    "Parent : Donne le parent pour cette taxo\n",
    "LocN : Donne le comptage pour chaque N localisation pour cette taxo. \n",
    "Localisation : \"door_in_1\",\"door_in_2\", \"faucet_handle_1\", \"faucet_handle_2\", \"sink_floor_1\", \"sink_floor_2\",\n",
    "               \"soap_dispenser_1\", \"stall_in_1\", \"toilet_floor_1\", \"toilet_floor_2\", \"toilet_flush_handle_1\",\"toilet_flush_handle_2\", \"toilet_seat_1\", \"toilet_seat_2\"\n",
    "\"\"\"\n",
    "def getDF(dicoTaxo):\n",
    "    listeDf=[]\n",
    "    listeRegne=[\"regne\"]\n",
    "    for k1, v1 in dicoTaxo.items():\n",
    "        #Récupère que pour le règne\n",
    "        if k1 == \"name\":\n",
    "            listeRegne.append(v1)\n",
    "            listeRegne.append(\"none\")\n",
    "        elif k1 == \"count\" :\n",
    "            for i in range(0,14):\n",
    "                listeRegne.append(int(v1[i]))\n",
    "            listeDf.append(listeRegne)\n",
    "        elif k1 == \"children\":\n",
    "            for phylum in dicoTaxo['children']:\n",
    "                listePhylum = [\"phylum\"]\n",
    "                for k2, v2 in phylum.items():\n",
    "                    #Récupère que pour le phylum\n",
    "                    if k2 == \"name\" :\n",
    "                        listePhylum.append(v2)\n",
    "                        listePhylum.append(listeRegne[1])\n",
    "                    elif k2 == \"count\" :\n",
    "                        for i in range(0,14):\n",
    "                            listePhylum.append(int(v2[i]))\n",
    "                        listeDf.append(listePhylum)\n",
    "                    #Descend dans les niveau plus précis\n",
    "                    elif k2 == \"children\" :\n",
    "                        for classe in v2:\n",
    "                            listeClasse = [\"classe\"]\n",
    "                            for k3, v3 in classe.items():\n",
    "                                #Récupère que pour le phylum\n",
    "                                if k3 == \"name\" :\n",
    "                                    listeClasse.append(v3)\n",
    "                                    listeClasse.append(listePhylum[1])\n",
    "                                elif k3 == \"count\" :\n",
    "                                    for i in range(0,14):\n",
    "                                        listeClasse.append(int(v3[i]))\n",
    "                                    listeDf.append(listeClasse)\n",
    "                                #Descend dans les niveau plus précis\n",
    "                                elif k2 == \"children\" :\n",
    "                                    for ordre in v3:\n",
    "                                        listeOrdre = [\"ordre\"]\n",
    "                                        for k4, v4 in ordre.items():\n",
    "                                            #Récupère que pour le phylum\n",
    "                                            if k4 == \"name\" :\n",
    "                                                listeOrdre.append(v4)\n",
    "                                                listeOrdre.append(listeClasse[1])\n",
    "                                            elif k4 == \"count\" :\n",
    "                                                for i in range(0,14):\n",
    "                                                    listeOrdre.append(int(v4[i]))\n",
    "                                                listeDf.append(listeOrdre)\n",
    "                                            #Descend dans les niveau plus précis\n",
    "                                            elif k4 == \"children\" :\n",
    "                                                for famille in v4:\n",
    "                                                    listeFamille = [\"famille\"]\n",
    "                                                    for k5, v5 in famille.items():\n",
    "                                                        #Récupère que pour le phylum\n",
    "                                                        if k5 == \"name\" :\n",
    "                                                            listeFamille.append(v5)\n",
    "                                                            listeFamille.append(listeOrdre[1])\n",
    "                                                        elif k5 == \"count\" :\n",
    "                                                            for i in range(0,14):\n",
    "                                                                listeFamille.append(int(v5[i]))\n",
    "                                                            listeDf.append(listeFamille)\n",
    "                                                         #Descend dans les niveau plus précis\n",
    "                                                        elif k5 == \"children\" :\n",
    "                                                            for genre in v5:\n",
    "                                                                listeGenre = [\"genre\"]\n",
    "                                                                for k6, v6 in genre.items():\n",
    "                                                                    #Récupère que pour le phylum\n",
    "                                                                    if k6 == \"name\" :\n",
    "                                                                        listeGenre.append(v6)\n",
    "                                                                        listeGenre.append(listeFamille[1])\n",
    "                                                                    elif k6 == \"count\" :\n",
    "                                                                        for i in range(0,14):\n",
    "                                                                            listeGenre.append(int(v6[i]))\n",
    "                                                                        listeDf.append(listeGenre)\n",
    "                                                                    \n",
    "    listelegColonne=[\"Nvx_taxo\",\"Taxo\",\"Parent\",\"door_in_1\",\"door_in_2\", \"faucet_handle_1\", \n",
    "                \"faucet_handle_2\", \"sink_floor_1\", \"sink_floor_2\",\n",
    "               \"soap_dispenser_1\", \"stall_in_1\", \"toilet_floor_1\", \n",
    "               \"toilet_floor_2\", \"toilet_flush_handle_1\",\n",
    "               \"toilet_flush_handle_2\", \"toilet_seat_1\", \"toilet_seat_2\"]\n",
    "    ar = np.array(listeDf)\n",
    "    df = pandas.DataFrame(ar, columns = listelegColonne )\n",
    "    return df\n",
    "\n",
    "\"\"\"\n",
    "Méthode 5 : Récupère le dataframe pour une seul taxo voulu\n",
    "Input : dataframe créer avec méthode 4 , et taxo voulu (Regne;Phylum;Classe;Ordre;Famille;Genre)\n",
    "Output : dataframe avec seulement les lignes corespondant à taxo.\n",
    "\"\"\"\n",
    "def getDFFonctionTaxo(df, taxo):\n",
    "    dfTaxo = df.copy()\n",
    "    return df[df['Nvx_taxo']==taxo]\n",
    "\"\"\"\n",
    "Méthode 6 : Récupère tableau avec colonne suprimmer\n",
    "\"\"\"\n",
    "def getDFLoc(df, listeColonneSup):\n",
    "    dfLoc = df.copy()\n",
    "    dfLoc.drop(columns =listeColonneSup , inplace= True )\n",
    "    return dfLoc\n",
    "\n",
    "\"\"\"\n",
    "Méthode 7 : Récupère la localisation\n",
    "\"\"\"\n",
    "def getLoc(niv):\n",
    "    if niv == 0:\n",
    "        return \"door_in_1\"\n",
    "    elif niv == 1:\n",
    "        return \"door_in_2\"\n",
    "    elif niv == 2:\n",
    "        return \"faucet_handle_1\" \n",
    "    elif niv == 3:\n",
    "        return \"faucet_handle_2\" \n",
    "    elif niv == 4:\n",
    "        return \"sink_floor_1\"\n",
    "    elif niv == 5:\n",
    "        return \"sink_floor_2\"\n",
    "    elif niv == 6:\n",
    "        return \"soap_dispenser_1\"\n",
    "    elif niv == 7:\n",
    "        return \"stall_in_1\"\n",
    "    elif niv == 8:\n",
    "        return \"toilet_floor_1\"\n",
    "    elif niv == 9:\n",
    "        return \"toilet_floor_2\"\n",
    "    elif niv == 10:\n",
    "        return \"toilet_flush_handle_1\"\n",
    "    elif niv == 11:\n",
    "        return \"toilet_flush_handle_2\"\n",
    "    elif niv == 12:\n",
    "        return \"toilet_seat_1\"\n",
    "    elif niv == 13:\n",
    "        return \"toilet_seat_2\"\n",
    "    \n",
    "\n",
    "\"\"\"\n",
    "Méthode 8 : Recréer une dataFrame à partir de celle créer dans la méthode 4  (Ici plus compacte) \n",
    "Input : dataframe de getDF\n",
    "Ouput : dataframe de 5 colonnes (\"Nvx_taxo\",\"Taxo\", \"Parent\", \"Localisation\", \"Comptage\")\n",
    "\"\"\"\n",
    "def getDFTree(df):\n",
    "    listeDf=[]\n",
    "    for j in range(0,14):\n",
    "        for i in df.index:\n",
    "            listeLigne = [df[\"Nvx_taxo\"][i]]\n",
    "            listeLigne.append(df[\"Taxo\"][i])\n",
    "            listeLigne.append(df[\"Parent\"][i])\n",
    "            loc = getLoc(j)\n",
    "            listeLigne.append(loc)\n",
    "            listeLigne.append(df[loc][i])\n",
    "            listeDf.append(listeLigne)\n",
    "    listelegColonne=[\"Nvx_taxo\",\"Taxo\", \"Parent\", \"Localisation\", \"Comptage\"]\n",
    "    ar = np.array(listeDf)\n",
    "    df = pandas.DataFrame(ar, columns = listelegColonne )\n",
    "    return df\n",
    "\n",
    "\"\"\"\n",
    "Méthode 9 : Méthode pour spliter un string comportant différente espèces et permet de retourner la liste de ces espèces.\n",
    "Input : String de forme \"Bacterie(100),ActinoBacterie(100)\"\n",
    "Ouput : Liste des espèces. ([Bacterie,ActinoBacterie ])\n",
    "\"\"\"\n",
    "def listeTaxo(stringTaxo):\n",
    "    leveltax = stringTaxo[0].split(';')\n",
    "    listeOfTaxo = []\n",
    "    for i in range(0 , len(leveltax)-1):\n",
    "        justeTaxo = leveltax[i].split(\"(\")\n",
    "        listeOfTaxo.append(justeTaxo[0])\n",
    "    return listeOfTaxo\n",
    "    \n",
    "\"\"\"\n",
    "Méthode 10 : Recréer une dataFrame de 20 colonnes à partir des donnée brut récupérer. \n",
    "Cette méthode est utilisr pour le treeMap Hiérachique, permettant d'avoir l'information sur l'emboitement taxonomique des espèces. \n",
    "Input : dataframe récupéré du fihcier csv 1335.vdb.tab\n",
    "Ouput : dataframe de 20 colonnes. \n",
    "6 premières colonnes : Les 6 différents niveaux taxonomique\n",
    "Puis les 14 localisations ou le compte d'abondance à été fait\n",
    "\"\"\"\n",
    "def getDFTreeMapTaxo(df):\n",
    "    listeDf=[]\n",
    "    \n",
    "    for i in df.index:\n",
    "        listeLigne=[]\n",
    "        if i > 0:\n",
    "            #Recupère diférente taxo\n",
    "            listeofTaxo = listeTaxo([df[1][i]])\n",
    "            for e in listeofTaxo:\n",
    "                listeLigne.append(e)\n",
    "            for j in range (2,16 ):\n",
    "                listeLigne.append(df[j][i])\n",
    "\n",
    "            listeDf.append(listeLigne)\n",
    "    listelegColonne=[\"Regne\",\"Phylum\", \"Classe\", \"Ordre\", \"Famille\", \"Genre\",\n",
    "                     \"door_in_1\",\"door_in_2\", \"faucet_handle_1\", \n",
    "               \"faucet_handle_2\", \"sink_floor_1\", \"sink_floor_2\",\n",
    "               \"soap_dispenser_1\", \"stall_in_1\", \"toilet_floor_1\", \n",
    "               \"toilet_floor_2\", \"toilet_flush_handle_1\",\n",
    "               \"toilet_flush_handle_2\", \"toilet_seat_1\", \"toilet_seat_2\"]\n",
    "    ar = np.array(listeDf)\n",
    "    df = pandas.DataFrame(ar, columns = listelegColonne )\n",
    "    return df"
   ]
  },
  {
   "cell_type": "code",
   "execution_count": 69,
   "metadata": {},
   "outputs": [
    {
     "data": {
      "image/png": "[encoded data removed]",
      "text/plain": [
       "<Figure size 504x360 with 1 Axes>"
      ]
     },
     "metadata": {},
     "output_type": "display_data"
    }
   ],
   "source": [
    "\"\"\"\n",
    "Création de differente figures\n",
    "\"\"\"\n",
    "\n",
    "\"\"\"\n",
    "Figure 1 : BarPlot recupère pour une Taxo donnéer \n",
    "les abondances des espèces en fonctions de leur localisation\n",
    "\"\"\"\n",
    "\n",
    "SELECTED = \"Phylum\" \n",
    "cutoffk = 250\n",
    "dicoTaxoTest = getDicoTaxo(df)\n",
    "vecteurs = getNiv(SELECTED,dicoTaxoTest) \n",
    "\n",
    "\n",
    "\n",
    "localisation=[\"door_in_1\",\"door_in_2\", \"faucet_handle_1\", \n",
    "                \"faucet_handle_2\", \"sink_floor_1\", \"sink_floor_2\",\n",
    "               \"soap_dispenser_1\", \"stall_in_1\", \"toilet_floor_1\", \n",
    "               \"toilet_floor_2\", \"toilet_flush_handle_1\",\n",
    "               \"toilet_flush_handle_2\", \"toilet_seat_1\", \"toilet_seat_2\"]\n",
    "\n",
    "vecteursTrier = abondanceImportant(vecteurs, cutoffk)\n",
    "\n",
    "vecteursTaxo = vecteursTrier[0]\n",
    "vecteursComptage = np.delete(vecteursTrier, (0), axis=0)\n",
    "VecteursComptInverse=np.fliplr(np.rot90(vecteursComptage,3))\n",
    "\n",
    "N=len(VecteursComptInverse[0])\n",
    "ind = np.arange(N)\n",
    "\n",
    "l_loc = []\n",
    "for i in range(len(vecteursTaxo)):\n",
    "    l_loc.append(VecteursComptInverse[i])\n",
    "\n",
    "height = 0.9\n",
    "fig = plt.figure(figsize=[7, 5])\n",
    "bars = []\n",
    "cols = sns.color_palette(\"hls\",len(vecteursTaxo)) #COLORS\n",
    "#NOTE:max colors for \"colorblind\" are 10, look for solution soon!\n",
    "cumulated = np.zeros(len(l_loc[0]),dtype=int)\n",
    "for i in range(len(vecteursTaxo)):\n",
    "    if i == 0 :\n",
    "        tmpbarobject = plt.barh(ind,[int(elem) for elem in l_loc[i] ], height,color=cols[i])\n",
    "    else: \n",
    "        tmpbarobject = plt.barh(ind, [int(elem) for elem in l_loc[i] ],height, left=cumulated, color=cols[i]) \n",
    "    \n",
    "    listeInt= [int(elem) for elem in l_loc[i] ]\n",
    "    cumulated = np.add(listeInt,cumulated)\n",
    "    bars.append(tmpbarobject[0])\n",
    "        \n",
    "\n",
    "plt.xlabel('Abondance') \n",
    "plt.title('Abondances relative (Niveau : ' + SELECTED + \" ; cutoff counts =\"+ str(cutoffk)+\")\") \n",
    "plt.yticks(ind, (localisation)) \n",
    "# legende dehors du plot area avec: bbbox_to_anchor\n",
    "plt.legend(bars, vecteursTaxo, bbox_to_anchor=(1.10, 1.05))  \n",
    "plt.savefig('plots/barPlot_AbondRelatives_Phylum.pdf', format=\"pdf\", dpi=300,  bbox_inches = 'tight')"
   ]
  },
  {
   "cell_type": "code",
   "execution_count": 44,
   "metadata": {},
   "outputs": [
    {
     "data": {
      "image/png": "[encoded data removed]",
      "text/plain": [
       "<Figure size 432x288 with 1 Axes>"
      ]
     },
     "metadata": {
      "needs_background": "light"
     },
     "output_type": "display_data"
    }
   ],
   "source": [
    "\"\"\"\n",
    "Figure 2 : HeatMap représentant, pour un niveau de taxo donnée, \n",
    "la présence ou abscence d'une expèce dans une localisation.\n",
    "\"\"\"\n",
    "\n",
    "dicoTaxoTest = getDicoTaxo(df)\n",
    "Niveau = \"Phylum\"\n",
    "vecteurs = getNiv(Niveau,dicoTaxoTest)\n",
    "mat = matrice(vecteurs)\n",
    "newMat= []\n",
    "\n",
    "#Modifie la matrice pour avoir 0 : abscence et 1: présence d'une espèce dans une localisation.\n",
    "for i in mat:\n",
    "    listemat = []\n",
    "    for j in i: \n",
    "        if j > 0:\n",
    "            listemat.append(1)\n",
    "        else:\n",
    "            listemat.append(0)\n",
    "    newMat.append(listemat)\n",
    "    \n",
    "localisation = [\"door_in_1\",\"door_in_2\", \"faucet_handle_1\", \n",
    "                \"faucet_handle_2\", \"sink_floor_1\", \"sink_floor_2\",\n",
    "               \"soap_dispenser_1\", \"stall_in_1\", \"toilet_floor_1\", \n",
    "               \"toilet_floor_2\", \"toilet_flush_handle_1\",\n",
    "               \"toilet_flush_handle_2\", \"toilet_seat_1\", \"toilet_seat_2\"]\n",
    "\n",
    "espece=vecteurs[0]\n",
    "newMatInverser=np.fliplr(np.rot90(newMat,3))\n",
    "matinverser=np.fliplr(np.rot90(mat,3))\n",
    "\n",
    "fig, ax = plt.subplots()\n",
    "im = ax.imshow(newMat,  cmap = plt.cm.Set3)\n",
    "\n",
    "ax.set_xticks(np.arange(len(espece)))\n",
    "ax.set_yticks(np.arange(len(localisation)))\n",
    "\n",
    "ax.set_xticklabels(espece)\n",
    "ax.set_yticklabels(localisation)\n",
    "\n",
    "plt.setp(ax.get_xticklabels(), rotation=45, ha=\"right\",\n",
    "         rotation_mode=\"anchor\")\n",
    "\n",
    "ax.set_title(f\"Présence/Abscence d'un {Niveau}\")\n",
    "fig.tight_layout()\n",
    "plt.savefig('plots/heatMap_Phylum.pdf', format=\"pdf\", dpi=300,  bbox_inches = 'tight')\n",
    "plt.show()"
   ]
  },
  {
   "cell_type": "code",
   "execution_count": null,
   "metadata": {},
   "outputs": [],
   "source": []
  },
  {
   "cell_type": "code",
   "execution_count": null,
   "metadata": {},
   "outputs": [],
   "source": []
  },
  {
   "cell_type": "code",
   "execution_count": 45,
   "metadata": {},
   "outputs": [
    {
     "data": {
      "image/png": "[encoded data removed]",
      "text/plain": [
       "<Figure size 504x576 with 1 Axes>"
      ]
     },
     "metadata": {
      "needs_background": "light"
     },
     "output_type": "display_data"
    }
   ],
   "source": [
    "\"\"\"\n",
    "Figure 3 : BarPlot recupère pour une Taxo donnéer \n",
    "les abondances des espèces dans chaque localisation\n",
    "\"\"\"\n",
    "\n",
    "SELECTED = \"ordre\" \n",
    "cutoffk = 150\n",
    "dicoTaxoTest = getDicoTaxo(df)\n",
    "vecteurs = getNiv(SELECTED,dicoTaxoTest) \n",
    "\n",
    "localisation=[\"door_in_1\",\"door_in_2\", \"faucet_handle_1\", \n",
    "                \"faucet_handle_2\", \"sink_floor_1\", \"sink_floor_2\",\n",
    "               \"soap_dispenser_1\", \"stall_in_1\", \"toilet_floor_1\", \n",
    "               \"toilet_floor_2\", \"toilet_flush_handle_1\",\n",
    "               \"toilet_flush_handle_2\", \"toilet_seat_1\", \"toilet_seat_2\"]\n",
    "\n",
    "vecteursTrier = abondanceImportant(vecteurs, cutoffk)\n",
    "selected_niv=vecteursTrier[0]\n",
    "N=len(selected_niv)\n",
    "ind = np.arange(N)\n",
    "\n",
    "l_loc = []\n",
    "for i in range(len(localisation)):\n",
    "    l_loc.append(vecteursTrier[i+1]) #car vecteursTrier[1] --> \"door_in_1\"\n",
    "    \n",
    "\n",
    "height = 0.9\n",
    "fig = plt.figure(figsize=[7, 8])\n",
    "bars = []\n",
    "cols = sns.color_palette('viridis_r',14) #COLORS\n",
    "cumulated = np.zeros(len(l_loc[0]),dtype=int)\n",
    "for i in range(len(localisation)):\n",
    "    if i == 0 :\n",
    "        tmpbarobject = plt.barh(ind,l_loc[i], height,color=cols[i])\n",
    "    else: \n",
    "        tmpbarobject = plt.barh(ind, l_loc[i],height, left=cumulated, color=cols[i]) \n",
    "\n",
    "    cumulated = np.add(l_loc[i],cumulated)\n",
    "    bars.append(tmpbarobject[0])\n",
    "\n",
    "plt.xlabel('Abondance') \n",
    "plt.title('Abondances au niveau de: ' + SELECTED + \" (cutoff counts =\"+ str(cutoffk)+\")\") \n",
    "plt.yticks(ind, (selected_niv)) \n",
    "# si besoin : legende dehors du plot area avec: bbbox_to_anchor\n",
    "#plt.legend(bars, localisation, bbox_to_anchor=(1.5, 1)) \n",
    "plt.legend(bars,localisation)\n",
    "plt.savefig('plots/bar_legendLocalisation.pdf', format=\"pdf\", dpi=300,  bbox_inches = 'tight')    \n",
    "#plt.show()"
   ]
  },
  {
   "cell_type": "code",
   "execution_count": 46,
   "metadata": {},
   "outputs": [
    {
     "data": {
      "application/vnd.plotly.v1+json": {
       "config": {
        "plotlyServerURL": "https://plot.ly"
       },
       "data": [
        {
         "branchvalues": "total",
         "domain": {
          "x": [
           0,
           1
          ],
          "y": [
           0,
           1
          ]
         },
         "hovertemplate": "labels=%{label}<br>toilet_seat_1=%{value}<br>parent=%{parent}<br>id=%{id}<extra></extra>",
         "ids": [
          "Bacteria/Firmicutes/Bacilli/Lactobacillales/Aerococcaceae/Abiotrophia",
          "Bacteria/Proteobacteria/Alphaproteobacteria/Rhodospirillales/Acetobacteraceae/Acetobacter",
          "Bacteria/Firmicutes/Clostridia/Clostridiales/Eubacteriaceae/Acetobacterium",
          "Bacteria/Proteobacteria/Betaproteobacteria/Burkholderiales/Alcaligenaceae/Achromobacter",
          "Bacteria/Proteobacteria/Betaproteobacteria/Burkholderiales/Comamonadaceae/Acidovorax",
          "Bacteria/Proteobacteria/Gammaproteobacteria/Pseudomonadales/Moraxellaceae/Acinetobacter",
          "Bacteria/Actinobacteria/Actinobacteria/Actinomycetales/Actinomycetaceae/Actinobaculum",
          "Bacteria/Actinobacteria/Actinobacteria/Actinomycetales/Actinomycetaceae/Actinomyces",
          "Bacteria/Actinobacteria/Actinobacteria/Actinomycetales/Pseudonocardiaceae/Actinomycetospora",
          "Bacteria/Actinobacteria/Actinobacteria/Actinomycetales/Micromonosporaceae/Actinoplanes",
          "Bacteria/Bacteroidetes/Cytophagia/Cytophagales/Cytophagaceae/Adhaeribacter",
          "Bacteria/Firmicutes/Bacilli/Lactobacillales/Aerococcaceae/Aerococcus",
          "Bacteria/Actinobacteria/Actinobacteria/Actinomycetales/Nocardioidaceae/Aeromicrobium",
          "Bacteria/Proteobacteria/Gammaproteobacteria/Aeromonadales/Aeromonadaceae/Aeromonas",
          "Bacteria/Proteobacteria/Alphaproteobacteria/Rhizobiales/Bradyrhizobiaceae/Afipia",
          "Bacteria/Proteobacteria/Alphaproteobacteria/Rhodobacterales/Rhodobacteraceae/Agaricicola",
          "Bacteria/Proteobacteria/Gammaproteobacteria/Pasteurellales/Pasteurellaceae/Aggregatibacter",
          "Bacteria/Actinobacteria/Actinobacteria/Actinomycetales/Microbacteriaceae/Agreia",
          "Bacteria/Actinobacteria/Actinobacteria/Actinomycetales/Microbacteriaceae/Agrococcus",
          "Bacteria/Actinobacteria/Actinobacteria/Actinomycetales/Microbacteriaceae/Agromyces",
          "Bacteria/Proteobacteria/Betaproteobacteria/Burkholderiales/Comamonadaceae/Albidiferax",
          "Bacteria/Bacteroidetes/Bacteroidia/Bacteroidales/Rikenellaceae/Alistipes",
          "Bacteria/Proteobacteria/Gammaproteobacteria/Pseudomonadales/Moraxellaceae/Alkanindiges",
          "Bacteria/Firmicutes/Erysipelotrichia/Erysipelotrichales/Erysipelotrichaceae/Allobaculum",
          "Bacteria/Bacteroidetes/Bacteroidia/Bacteroidales/Prevotellaceae/Alloprevotella",
          "Bacteria/Proteobacteria/Alphaproteobacteria/Sphingomonadales/Erythrobacteraceae/Altererythrobacter",
          "Bacteria/Proteobacteria/Alphaproteobacteria/Rhodobacterales/Rhodobacteraceae/Amaricoccus",
          "Bacteria/Actinobacteria/Actinobacteria/Actinomycetales/Microbacteriaceae/Amnibacterium",
          "Bacteria/Firmicutes/Clostridia/Clostridiales/Clostridiales_Incertae_Sedis_XI/Anaerococcus",
          "Bacteria/Firmicutes/Clostridia/Clostridiales/Clostridiales_Incertae_Sedis_XIII/Anaerovorax",
          "Bacteria/Firmicutes/Bacilli/Bacillales/Bacillaceae_1/Anoxybacillus",
          "Bacteria/Proteobacteria/Betaproteobacteria/Burkholderiales/Burkholderiales_incertae_sedis/Aquabacterium",
          "Bacteria/Proteobacteria/Gammaproteobacteria/Legionellales/Coxiellaceae/Aquicella",
          "Bacteria/Proteobacteria/Betaproteobacteria/Burkholderiales/Burkholderiales_incertae_sedis/Aquincola",
          "Bacteria/Proteobacteria/Epsilonproteobacteria/Campylobacterales/Campylobacteraceae/Arcobacter",
          "Bacteria/Bacteroidetes/Sphingobacteriia/Sphingobacteriales/Sphingobacteriaceae/Arcticibacter",
          "Bacteria/Actinobacteria/Actinobacteria/Actinomycetales/Intrasporangiaceae/Arsenicicoccus",
          "Bacteria/Actinobacteria/Actinobacteria/Actinomycetales/Micrococcaceae/Arthrobacter",
          "Bacteria/Actinobacteria/Actinobacteria/Coriobacteriales/Coriobacteriaceae/Asaccharobacter",
          "Bacteria/Actinobacteria/Actinobacteria/Actinomycetales/Micromonosporaceae/Asanoa",
          "Bacteria/Proteobacteria/Alphaproteobacteria/Caulobacterales/Caulobacteraceae/Asticcacaulis",
          "Bacteria/Actinobacteria/Actinobacteria/Coriobacteriales/Coriobacteriaceae/Atopobium",
          "Bacteria/Firmicutes/Bacilli/Lactobacillales/Carnobacteriaceae/Atopostipes",
          "Bacteria/Proteobacteria/Alphaproteobacteria/Rhizobiales/Aurantimonadaceae/Aurantimonas",
          "Bacteria/Actinobacteria/Actinobacteria/Actinomycetales/Propionibacteriaceae/Auraticoccus",
          "Bacteria/Proteobacteria/Betaproteobacteria/Burkholderiales/Alcaligenaceae/Azohydromonas",
          "Bacteria/Proteobacteria/Betaproteobacteria/Rhodocyclales/Rhodocyclaceae/Azospira",
          "Bacteria/Proteobacteria/Alphaproteobacteria/Rhodospirillales/Rhodospirillaceae/Azospirillum",
          "Bacteria/Firmicutes/Bacilli/Bacillales/Bacillaceae_1/Bacillus",
          "Bacteria/Bacteroidetes/Bacteroidia/Bacteroidales/Bacteroidaceae/Bacteroides",
          "Bacteria/Bacteroidetes/Bacteroidia/Bacteroidales/Porphyromonadaceae/Barnesiella",
          "Bacteria/Proteobacteria/Deltaproteobacteria/Bdellovibrionales/Bdellovibrionaceae/Bdellovibrio",
          "Bacteria/Proteobacteria/Alphaproteobacteria/Rhodospirillales/Acetobacteraceae/Belnapia",
          "Bacteria/Actinobacteria/Actinobacteria/Bifidobacteriales/Bifidobacteriaceae/Bifidobacterium",
          "Bacteria/Proteobacteria/Alphaproteobacteria/Rhizobiales/Hyphomicrobiaceae/Blastochloris",
          "Bacteria/Actinobacteria/Actinobacteria/Actinomycetales/Geodermatophilaceae/Blastococcus",
          "Bacteria/Firmicutes/Clostridia/Clostridiales/Lachnospiraceae/Blautia",
          "Bacteria/Proteobacteria/Alphaproteobacteria/Rhizobiales/Bradyrhizobiaceae/Bosea",
          "Bacteria/Actinobacteria/Actinobacteria/Actinomycetales/Dermabacteraceae/Brachybacterium",
          "Bacteria/Actinobacteria/Actinobacteria/Actinomycetales/Brevibacteriaceae/Brevibacterium",
          "Bacteria/Proteobacteria/Alphaproteobacteria/Caulobacterales/Caulobacteraceae/Brevundimonas",
          "Bacteria/Proteobacteria/Gammaproteobacteria/Enterobacteriales/Enterobacteriaceae/Buchnera",
          "Bacteria/Proteobacteria/Betaproteobacteria/Burkholderiales/Burkholderiaceae/Burkholderia",
          "Bacteria/Firmicutes/Clostridia/Clostridiales/Ruminococcaceae/Butyricicoccus",
          "Bacteria/Bacteroidetes/Bacteroidia/Bacteroidales/Porphyromonadaceae/Butyricimonas",
          "Bacteria/Proteobacteria/Epsilonproteobacteria/Campylobacterales/Campylobacteraceae/Campylobacter",
          "Bacteria/Bacteroidetes/Flavobacteriia/Flavobacteriales/Flavobacteriaceae/Capnocytophaga",
          "Bacteria/Proteobacteria/Gammaproteobacteria/Cardiobacteriales/Cardiobacteriaceae/Cardiobacterium",
          "Bacteria/Firmicutes/Bacilli/Lactobacillales/Carnobacteriaceae/Carnobacterium",
          "Bacteria/Actinobacteria/Actinobacteria/Actinomycetales/Micromonosporaceae/Catellatospora",
          "Bacteria/Firmicutes/Clostridia/Clostridiales/Lachnospiraceae/Catonella",
          "Bacteria/Proteobacteria/Alphaproteobacteria/Caulobacterales/Caulobacteraceae/Caulobacter",
          "Bacteria/Actinobacteria/Actinobacteria/Actinomycetales/Cellulomonadaceae/Cellulomonas",
          "Bacteria/Proteobacteria/Gammaproteobacteria/Pseudomonadales/Pseudomonadaceae/Cellvibrio",
          "Bacteria/Bacteroidetes/Cytophagia/Cytophagales/Flammeovirgaceae/Cesiribacter",
          "Bacteria/Proteobacteria/Alphaproteobacteria/Rhizobiales/Phyllobacteriaceae/Chelativorans",
          "Bacteria/Proteobacteria/Alphaproteobacteria/Rhizobiales/Beijerinckiaceae/Chelatococcus",
          "Bacteria/Bacteroidetes/Sphingobacteriia/Sphingobacteriales/Chitinophagaceae/Chitinophaga",
          "Bacteria/Bacteroidetes/Flavobacteriia/Flavobacteriales/Flavobacteriaceae/Chryseobacterium",
          "Bacteria/Firmicutes/Bacilli/Bacillales/Planococcaceae/Chryseomicrobium",
          "Bacteria/Proteobacteria/Gammaproteobacteria/Enterobacteriales/Enterobacteriaceae/Citrobacter",
          "Bacteria/Actinobacteria/Actinobacteria/Actinomycetales/Microbacteriaceae/Clavibacter",
          "Bacteria/Bacteroidetes/Flavobacteriia/Flavobacteriales/Flavobacteriaceae/Cloacibacterium",
          "Bacteria/Firmicutes/Clostridia/Clostridiales/Peptostreptococcaceae/Clostridium_XI",
          "Bacteria/Firmicutes/Clostridia/Clostridiales/Lachnospiraceae/Clostridium_XlVa",
          "Bacteria/Firmicutes/Clostridia/Clostridiales/Clostridiaceae_1/Clostridium_sensu_stricto",
          "Bacteria/Actinobacteria/Actinobacteria/Coriobacteriales/Coriobacteriaceae/Collinsella",
          "Bacteria/Proteobacteria/Betaproteobacteria/Burkholderiales/Comamonadaceae/Comamonas",
          "Bacteria/Actinobacteria/Actinobacteria/Actinomycetales/Corynebacteriaceae/Corynebacterium",
          "Bacteria/Proteobacteria/Alphaproteobacteria/Sphingomonadales/Erythrobacteraceae/Croceicoccus",
          "Bacteria/Bacteroidetes/Flavobacteriia/Flavobacteriales/Flavobacteriaceae/Cruoricaptor",
          "Bacteria/Proteobacteria/Betaproteobacteria/Burkholderiales/Burkholderiaceae/Cupriavidus",
          "Bacteria/Actinobacteria/Actinobacteria/Actinomycetales/Microbacteriaceae/Curtobacterium",
          "Bacteria/Bacteroidetes/Cytophagia/Cytophagales/Cytophagaceae/Cytophaga",
          "Bacteria/Proteobacteria/Betaproteobacteria/Rhodocyclales/Rhodocyclaceae/Dechloromonas",
          "Bacteria/Proteobacteria/Alphaproteobacteria/Rhodospirillales/Rhodospirillaceae/Defluviicoccus",
          "Bacteria/Deinococcus-Thermus/Deinococci/Deinococcales/Deinococcaceae/Deinococcus",
          "Bacteria/Proteobacteria/Betaproteobacteria/Burkholderiales/Comamonadaceae/Delftia",
          "Bacteria/Actinobacteria/Actinobacteria/Actinomycetales/Demequinaceae/Demequina",
          "Bacteria/Actinobacteria/Actinobacteria/Actinomycetales/Dermabacteraceae/Dermabacter",
          "Bacteria/Actinobacteria/Actinobacteria/Actinomycetales/Dermacoccaceae/Dermacoccus",
          "Bacteria/Firmicutes/Bacilli/Lactobacillales/Carnobacteriaceae/Desemzia",
          "Bacteria/Proteobacteria/Deltaproteobacteria/Desulfobacterales/Desulfobulbaceae/Desulfobulbus",
          "Bacteria/Proteobacteria/Alphaproteobacteria/Rhizobiales/Hyphomicrobiaceae/Devosia",
          "Bacteria/Firmicutes/Negativicutes/Selenomonadales/Veillonellaceae/Dialister",
          "Bacteria/Proteobacteria/Betaproteobacteria/Burkholderiales/Comamonadaceae/Diaphorobacter",
          "Bacteria/Actinobacteria/Actinobacteria/Actinomycetales/Dietziaceae/Dietzia",
          "Bacteria/Proteobacteria/Gammaproteobacteria/Xanthomonadales/Xanthomonadaceae/Dokdonella",
          "Bacteria/Firmicutes/Bacilli/Lactobacillales/Carnobacteriaceae/Dolosigranulum",
          "Bacteria/Proteobacteria/Alphaproteobacteria/Rhodospirillales/Rhodospirillaceae/Dongia",
          "Bacteria/Firmicutes/Clostridia/Clostridiales/Lachnospiraceae/Dorea",
          "Bacteria/Proteobacteria/Betaproteobacteria/Burkholderiales/Oxalobacteraceae/Duganella",
          "Bacteria/Bacteroidetes/Cytophagia/Cytophagales/Cytophagaceae/Dyadobacter",
          "Bacteria/Proteobacteria/Gammaproteobacteria/Xanthomonadales/Xanthomonadaceae/Dyella",
          "Bacteria/Actinobacteria/Actinobacteria/Coriobacteriales/Coriobacteriaceae/Eggerthella",
          "Bacteria/Proteobacteria/Betaproteobacteria/Neisseriales/Neisseriaceae/Eikenella",
          "Bacteria/Bacteroidetes/Cytophagia/Cytophagales/Cytophagaceae/Emticicia",
          "Bacteria/Proteobacteria/Alphaproteobacteria/Rhodospirillales/Acetobacteraceae/Endobacter",
          "Bacteria/Proteobacteria/Gammaproteobacteria/Pseudomonadales/Moraxellaceae/Enhydrobacter",
          "Bacteria/Proteobacteria/Alphaproteobacteria/Rhizobiales/Rhizobiaceae/Ensifer",
          "Bacteria/Proteobacteria/Gammaproteobacteria/Enterobacteriales/Enterobacteriaceae/Enterobacter",
          "Bacteria/Firmicutes/Bacilli/Lactobacillales/Enterococcaceae/Enterococcus",
          "Bacteria/Bacteroidetes/Flavobacteriia/Flavobacteriales/Flavobacteriaceae/Epilithonimonas",
          "Bacteria/Firmicutes/Bacilli/Lactobacillales/Aerococcaceae/Eremococcus",
          "Bacteria/Firmicutes/Clostridia/Clostridiales/Eubacteriaceae/Eubacterium",
          "Bacteria/Actinobacteria/Actinobacteria/Euzebyales/Euzebyaceae/Euzebya",
          "Bacteria/Firmicutes/Bacilli/Bacillales/Bacillales_Incertae_Sedis_XII/Exiguobacterium",
          "Bacteria/Firmicutes/Bacilli/Lactobacillales/Aerococcaceae/Facklamia",
          "Bacteria/Firmicutes/Clostridia/Clostridiales/Ruminococcaceae/Faecalibacterium",
          "Bacteria/Bacteroidetes/Sphingobacteriia/Sphingobacteriales/Chitinophagaceae/Ferruginibacter",
          "Bacteria/Firmicutes/Clostridia/Clostridiales/Clostridiales_Incertae_Sedis_XI/Finegoldia",
          "Bacteria/Bacteroidetes/Sphingobacteriia/Sphingobacteriales/Chitinophagaceae/Flavisolibacter",
          "Bacteria/Bacteroidetes/Sphingobacteriia/Sphingobacteriales/Chitinophagaceae/Flavitalea",
          "Bacteria/Bacteroidetes/Flavobacteriia/Flavobacteriales/Flavobacteriaceae/Flavobacterium",
          "Bacteria/Bacteroidetes/Cytophagia/Cytophagales/Cytophagaceae/Flectobacillus",
          "Bacteria/Bacteroidetes/Flavobacteriia/Flavobacteriales/Cryomorphaceae/Fluviicola",
          "Bacteria/Actinobacteria/Actinobacteria/Actinomycetales/Propionibacteriaceae/Friedmanniella",
          "Bacteria/Actinobacteria/Actinobacteria/Actinomycetales/Microbacteriaceae/Frigoribacterium",
          "Bacteria/Fusobacteria/Fusobacteriia/Fusobacteriales/Fusobacteriaceae/Fusobacterium",
          "Bacteria/Actinobacteria/Actinobacteria/Gaiellales/Gaiellaceae/Gaiella",
          "Bacteria/Actinobacteria/Actinobacteria/Bifidobacteriales/Bifidobacteriaceae/Gardnerella",
          "Bacteria/Firmicutes/Bacilli/Bacillales/Bacillales_Incertae_Sedis_XI/Gemella",
          "Bacteria/Gemmatimonadetes/Gemmatimonadetes/Gemmatimonadales/Gemmatimonadaceae/Gemmatimonas",
          "Bacteria/Proteobacteria/Alphaproteobacteria/Rhodobacterales/Rhodobacteraceae/Gemmobacter",
          "Bacteria/Actinobacteria/Actinobacteria/Actinomycetales/Geodermatophilaceae/Geodermatophilus",
          "Bacteria/Actinobacteria/Actinobacteria/Actinomycetales/Bogoriellaceae/Georgenia",
          "Bacteria/Bacteroidetes/Flavobacteriia/Flavobacteriales/Flavobacteriaceae/Gillisia",
          "Bacteria/Actinobacteria/Actinobacteria/Actinomycetales/Nocardiaceae/Gordonia",
          "Bacteria/Actinobacteria/Actinobacteria/Coriobacteriales/Coriobacteriaceae/Gordonibacter",
          "Bacteria/Firmicutes/Bacilli/Lactobacillales/Carnobacteriaceae/Granulicatella",
          "Bacteria/Bacteroidetes/Sphingobacteriia/Sphingobacteriales/Saprospiraceae/Haliscomenobacter",
          "Bacteria/Verrucomicrobia/Verrucomicrobiae/Verrucomicrobiales/Verrucomicrobiaceae/Haloferula",
          "Bacteria/Proteobacteria/Gammaproteobacteria/Oceanospirillales/Halomonadaceae/Halomonas",
          "Bacteria/Proteobacteria/Epsilonproteobacteria/Campylobacterales/Helicobacteraceae/Helicobacter",
          "Bacteria/Actinobacteria/Actinobacteria/Actinomycetales/Microbacteriaceae/Herbiconiux",
          "Bacteria/Chloroflexi/Chloroflexia/Herpetosiphonales/Herpetosiphonaceae/Herpetosiphon",
          "Bacteria/Proteobacteria/Gammaproteobacteria/Xanthomonadales/Sinobacteraceae/Hydrocarboniphaga",
          "Bacteria/Proteobacteria/Betaproteobacteria/Burkholderiales/Comamonadaceae/Hydrogenophaga",
          "Bacteria/Proteobacteria/Betaproteobacteria/Hydrogenophilales/Hydrogenophilaceae/Hydrogenophilus",
          "Bacteria/Bacteroidetes/Cytophagia/Cytophagales/Cytophagaceae/Hymenobacter",
          "Bacteria/Proteobacteria/Alphaproteobacteria/Rhizobiales/Hyphomicrobiaceae/Hyphomicrobium",
          "Bacteria/Actinobacteria/Actinobacteria/Acidimicrobiales/Iamiaceae/Iamia",
          "Bacteria/Actinobacteria/Actinobacteria/Acidimicrobiales/Acidimicrobiaceae/Ilumatobacter",
          "Bacteria/Actinobacteria/Actinobacteria/Actinomycetales/Intrasporangiaceae/Janibacter",
          "Bacteria/Firmicutes/Bacilli/Bacillales/Staphylococcaceae/Jeotgalicoccus",
          "Bacteria/Synergistetes/Synergistia/Synergistales/Synergistaceae/Jonquetella",
          "Bacteria/Proteobacteria/Alphaproteobacteria/Rhizobiales/Rhizobiaceae/Kaistia",
          "Bacteria/Actinobacteria/Actinobacteria/Actinomycetales/Kineosporiaceae/Kineococcus",
          "Bacteria/Actinobacteria/Actinobacteria/Actinomycetales/Kineosporiaceae/Kineosporia",
          "Bacteria/Proteobacteria/Betaproteobacteria/Neisseriales/Neisseriaceae/Kingella",
          "Bacteria/Actinobacteria/Actinobacteria/Actinomycetales/Intrasporangiaceae/Knoellia",
          "Bacteria/Actinobacteria/Actinobacteria/Actinomycetales/Micrococcaceae/Kocuria",
          "Bacteria/Actinobacteria/Actinobacteria/Actinomycetales/Nocardioidaceae/Kribbella",
          "Bacteria/Actinobacteria/Actinobacteria/Actinomycetales/Dermacoccaceae/Kytococcus",
          "Bacteria/Firmicutes/Clostridia/Clostridiales/Lachnospiraceae/Lachnoanaerobaculum",
          "Bacteria/Bacteroidetes/Sphingobacteriia/Sphingobacteriales/Chitinophagaceae/Lacibacter",
          "Bacteria/Firmicutes/Bacilli/Lactobacillales/Lactobacillaceae/Lactobacillus",
          "Bacteria/Firmicutes/Bacilli/Lactobacillales/Streptococcaceae/Lactococcus",
          "Bacteria/Bacteroidetes/Cytophagia/Cytophagales/Cytophagaceae/Larkinella",
          "Bacteria/Proteobacteria/Gammaproteobacteria/Legionellales/Legionellaceae/Legionella",
          "Bacteria/Actinobacteria/Actinobacteria/Actinomycetales/Microbacteriaceae/Leifsonia",
          "Bacteria/Fusobacteria/Fusobacteriia/Fusobacteriales/Leptotrichiaceae/Leptotrichia",
          "Bacteria/Actinobacteria/Actinobacteria/Actinomycetales/Microbacteriaceae/Leucobacter",
          "Bacteria/Firmicutes/Bacilli/Lactobacillales/Leuconostocaceae/Leuconostoc",
          "Bacteria/Proteobacteria/Betaproteobacteria/Burkholderiales/Burkholderiaceae/Limnobacter",
          "Bacteria/Proteobacteria/Betaproteobacteria/Burkholderiales/Comamonadaceae/Limnohabitans",
          "Bacteria/Actinobacteria/Actinobacteria/Actinomycetales/Micromonosporaceae/Luedemannella",
          "Bacteria/Actinobacteria/Actinobacteria/Actinomycetales/Propionibacteriaceae/Luteococcus",
          "Bacteria/Verrucomicrobia/Verrucomicrobiae/Verrucomicrobiales/Verrucomicrobiaceae/Luteolibacter",
          "Bacteria/Proteobacteria/Gammaproteobacteria/Xanthomonadales/Xanthomonadaceae/Lysobacter",
          "Bacteria/Firmicutes/Bacilli/Bacillales/Staphylococcaceae/Macrococcus",
          "Bacteria/Actinobacteria/Actinobacteria/Actinomycetales/Nocardioidaceae/Marmoricola",
          "Bacteria/Proteobacteria/Betaproteobacteria/Burkholderiales/Oxalobacteraceae/Massilia",
          "Bacteria/Firmicutes/Negativicutes/Selenomonadales/Veillonellaceae/Megasphaera",
          "Bacteria/Proteobacteria/Alphaproteobacteria/Rhizobiales/Phyllobacteriaceae/Mesorhizobium",
          "Bacteria/Proteobacteria/Betaproteobacteria/Methylophilales/Methylophilaceae/Methylobacillus",
          "Bacteria/Proteobacteria/Alphaproteobacteria/Rhizobiales/Methylobacteriaceae/Methylobacterium",
          "Bacteria/Proteobacteria/Gammaproteobacteria/Methylococcales/Methylococcaceae/Methylocaldum",
          "Bacteria/Proteobacteria/Alphaproteobacteria/Rhizobiales/Methylocystaceae/Methylocystis",
          "Bacteria/Proteobacteria/Betaproteobacteria/Methylophilales/Methylophilaceae/Methylophilus",
          "Bacteria/Proteobacteria/Betaproteobacteria/Methylophilales/Methylophilaceae/Methylotenera",
          "Bacteria/Proteobacteria/Betaproteobacteria/Rhodocyclales/Rhodocyclaceae/Methyloversatilis",
          "Bacteria/Proteobacteria/Betaproteobacteria/Methylophilales/Methylophilaceae/Methylovorus",
          "Bacteria/Actinobacteria/Actinobacteria/Actinomycetales/Microbacteriaceae/Microbacterium",
          "Bacteria/Actinobacteria/Actinobacteria/Actinomycetales/Micrococcaceae/Micrococcus",
          "Bacteria/Actinobacteria/Actinobacteria/Actinomycetales/Propionibacteriaceae/Microlunatus",
          "Bacteria/Actinobacteria/Actinobacteria/Actinomycetales/Micromonosporaceae/Micromonospora",
          "Bacteria/Actinobacteria/Actinobacteria/Actinomycetales/Propionibacteriaceae/Micropruina",
          "Bacteria/Proteobacteria/Alphaproteobacteria/Rhizobiales/Methylobacteriaceae/Microvirga",
          "Bacteria/Actinobacteria/Actinobacteria/Actinomycetales/Actinomycetaceae/Mobiluncus",
          "Bacteria/Actinobacteria/Actinobacteria/Actinomycetales/Geodermatophilaceae/Modestobacter",
          "Bacteria/Firmicutes/Clostridia/Clostridiales/Clostridiales_Incertae_Sedis_XIII/Mogibacterium",
          "Bacteria/Proteobacteria/Gammaproteobacteria/Pseudomonadales/Moraxellaceae/Moraxella",
          "Bacteria/Bacteroidetes/Sphingobacteriia/Sphingobacteriales/Sphingobacteriaceae/Mucilaginibacter",
          "Bacteria/Firmicutes/Clostridia/Clostridiales/Incertae_Sedis_XI/Murdochiella",
          "Bacteria/Actinobacteria/Actinobacteria/Actinomycetales/Mycobacteriaceae/Mycobacterium",
          "Bacteria/Actinobacteria/Actinobacteria/Actinomycetales/Nakamurellaceae/Nakamurella",
          "Bacteria/Proteobacteria/Betaproteobacteria/Burkholderiales/Oxalobacteraceae/Naxibacter",
          "Bacteria/Firmicutes/Negativicutes/Selenomonadales/Veillonellaceae/Negativicoccus",
          "Bacteria/Proteobacteria/Betaproteobacteria/Neisseriales/Neisseriaceae/Neisseria",
          "Bacteria/Actinobacteria/Actinobacteria/Actinomycetales/Micrococcaceae/Nesterenkonia",
          "Bacteria/Bacteroidetes/Sphingobacteriia/Sphingobacteriales/Chitinophagaceae/Niabella",
          "Bacteria/Actinobacteria/Actinobacteria/Actinomycetales/Nocardioidaceae/Nocardioides",
          "Bacteria/Proteobacteria/Betaproteobacteria/Burkholderiales/Oxalobacteraceae/Noviherbaspirillum",
          "Bacteria/Proteobacteria/Alphaproteobacteria/Rhodospirillales/Rhodospirillaceae/Novispirillum",
          "Bacteria/Proteobacteria/Alphaproteobacteria/Sphingomonadales/Sphingomonadaceae/Novosphingobium",
          "Bacteria/Bacteroidetes/Sphingobacteriia/Sphingobacteriales/Sphingobacteriaceae/Nubsella",
          "Bacteria/Proteobacteria/Alphaproteobacteria/Rhizobiales/Brucellaceae/Ochrobactrum",
          "Bacteria/Actinobacteria/Actinobacteria/Actinomycetales/Cellulomonadaceae/Oerskovia",
          "Bacteria/Firmicutes/Clostridia/Clostridiales/Lachnospiraceae/Oribacterium",
          "Bacteria/Actinobacteria/Actinobacteria/Actinomycetales/Intrasporangiaceae/Ornithinibacter",
          "Bacteria/Actinobacteria/Actinobacteria/Actinomycetales/Intrasporangiaceae/Ornithinicoccus",
          "Bacteria/Actinobacteria/Actinobacteria/Actinomycetales/Intrasporangiaceae/Ornithinimicrobium",
          "Bacteria/Firmicutes/Clostridia/Clostridiales/Ruminococcaceae/Oscillibacter",
          "Bacteria/Firmicutes/Bacilli/Bacillales/Paenibacillaceae_1/Paenibacillus",
          "Bacteria/Firmicutes/Bacilli/Bacillales/Planococcaceae/Paenisporosarcina",
          "Bacteria/Proteobacteria/Alphaproteobacteria/Rhodobacterales/Rhodobacteraceae/Palleronia",
          "Bacteria/Bacteroidetes/Bacteroidia/Bacteroidales/Porphyromonadaceae/Paludibacter",
          "Bacteria/Proteobacteria/Gammaproteobacteria/Enterobacteriales/Enterobacteriaceae/Pantoea",
          "Bacteria/Bacteroidetes/Bacteroidia/Bacteroidales/Porphyromonadaceae/Parabacteroides",
          "Bacteria/Proteobacteria/Alphaproteobacteria/Rhodobacterales/Rhodobacteraceae/Paracoccus",
          "Bacteria/Bacteroidetes/Sphingobacteriia/Sphingobacteriales/Chitinophagaceae/Parasegetibacter",
          "Bacteria/Proteobacteria/Betaproteobacteria/Burkholderiales/Sutterellaceae/Parasutterella",
          "Bacteria/Firmicutes/Clostridia/Clostridiales/Clostridiales_Incertae_Sedis_XI/Parvimonas",
          "Bacteria/Firmicutes/Bacilli/Lactobacillales/Lactobacillaceae/Pediococcus",
          "Bacteria/Bacteroidetes/Sphingobacteriia/Sphingobacteriales/Sphingobacteriaceae/Pedobacter",
          "Bacteria/Proteobacteria/Alphaproteobacteria/Rhizobiales/Hyphomicrobiaceae/Pedomicrobium",
          "Bacteria/Proteobacteria/Betaproteobacteria/Burkholderiales/Comamonadaceae/Pelomonas",
          "Bacteria/Firmicutes/Clostridia/Clostridiales/Clostridiales_Incertae_Sedis_XI/Peptoniphilus",
          "Bacteria/Firmicutes/Clostridia/Clostridiales/Peptostreptococcaceae/Peptostreptococcus",
          "Bacteria/Proteobacteria/Deltaproteobacteria/Bdellovibrionales/Bacteriovoracaceae/Peredibacter",
          "Bacteria/Bacteroidetes/Cytophagia/Cytophagales/Cytophagaceae/Persicitalea",
          "Bacteria/Proteobacteria/Alphaproteobacteria/Caulobacterales/Caulobacteraceae/Phenylobacterium",
          "Bacteria/Proteobacteria/Gammaproteobacteria/Vibrionales/Vibrionaceae/Photobacterium",
          "Bacteria/Actinobacteria/Actinobacteria/Actinomycetales/Intrasporangiaceae/Phycicoccus",
          "Bacteria/Proteobacteria/Alphaproteobacteria/Rhizobiales/Phyllobacteriaceae/Phyllobacterium",
          "Bacteria/Actinobacteria/Actinobacteria/Actinomycetales/Dermatophilaceae/Piscicoccus",
          "Bacteria/Bacteroidetes/Flavobacteriia/Flavobacteriales/Flavobacteriaceae/Planobacterium",
          "Bacteria/Firmicutes/Bacilli/Bacillales/Planococcaceae/Planococcus",
          "Bacteria/Firmicutes/Bacilli/Bacillales/Planococcaceae/Planomicrobium",
          "Bacteria/Actinobacteria/Actinobacteria/Actinomycetales/Microbacteriaceae/Plantibacter",
          "Bacteria/Proteobacteria/Betaproteobacteria/Burkholderiales/Comamonadaceae/Polaromonas",
          "Bacteria/Proteobacteria/Betaproteobacteria/Burkholderiales/Burkholderiaceae/Polynucleobacter",
          "Bacteria/Bacteroidetes/Cytophagia/Cytophagales/Cytophagaceae/Pontibacter",
          "Bacteria/Proteobacteria/Alphaproteobacteria/Sphingomonadales/Erythrobacteraceae/Porphyrobacter",
          "Bacteria/Bacteroidetes/Bacteroidia/Bacteroidales/Porphyromonadaceae/Porphyromonas",
          "Bacteria/Bacteroidetes/Bacteroidia/Bacteroidales/Prevotellaceae/Prevotella",
          "Bacteria/Actinobacteria/Actinobacteria/Actinomycetales/Propionibacteriaceae/Propionibacterium",
          "Bacteria/Actinobacteria/Actinobacteria/Actinomycetales/Propionibacteriaceae/Propionicimonas",
          "Bacteria/Proteobacteria/Betaproteobacteria/Rhodocyclales/Rhodocyclaceae/Propionivibrio",
          "Bacteria/Verrucomicrobia/Verrucomicrobiae/Verrucomicrobiales/Verrucomicrobiaceae/Prosthecobacter",
          "Bacteria/Proteobacteria/Gammaproteobacteria/Enterobacteriales/Enterobacteriaceae/Providencia",
          "Bacteria/Proteobacteria/Gammaproteobacteria/Alteromonadales/Pseudoalteromonadaceae/Pseudoalteromonas",
          "Bacteria/Proteobacteria/Alphaproteobacteria/Rhizobiales/Brucellaceae/Pseudochrobactrum",
          "Bacteria/Actinobacteria/Actinobacteria/Actinomycetales/Microbacteriaceae/Pseudoclavibacter",
          "Bacteria/Firmicutes/Clostridia/Clostridiales/Ruminococcaceae/Pseudoflavonifractor",
          "Bacteria/Proteobacteria/Gammaproteobacteria/Pseudomonadales/Pseudomonadaceae/Pseudomonas",
          "Bacteria/Actinobacteria/Actinobacteria/Actinomycetales/Pseudonocardiaceae/Pseudonocardia",
          "Bacteria/Proteobacteria/Betaproteobacteria/Burkholderiales/Comamonadaceae/Pseudorhodoferax",
          "Bacteria/Proteobacteria/Gammaproteobacteria/Xanthomonadales/Xanthomonadaceae/Pseudoxanthomonas",
          "Bacteria/Proteobacteria/Gammaproteobacteria/Pseudomonadales/Moraxellaceae/Psychrobacter",
          "Bacteria/Proteobacteria/Betaproteobacteria/Burkholderiales/Burkholderiaceae/Ralstonia",
          "Bacteria/Actinobacteria/Actinobacteria/Actinomycetales/Microbacteriaceae/Rathayibacter",
          "Bacteria/Proteobacteria/Gammaproteobacteria/Chromatiales/Chromatiaceae/Rheinheimera",
          "Bacteria/Proteobacteria/Gammaproteobacteria/Pseudomonadales/Pseudomonadaceae/Rhizobacter",
          "Bacteria/Proteobacteria/Alphaproteobacteria/Rhizobiales/Rhizobiaceae/Rhizobium",
          "Bacteria/Proteobacteria/Alphaproteobacteria/Rhodobacterales/Rhodobacteraceae/Rhodobacter",
          "Bacteria/Actinobacteria/Actinobacteria/Actinomycetales/Nocardiaceae/Rhodococcus",
          "Bacteria/Bacteroidetes/Cytophagia/Cytophagales/Cytophagaceae/Rhodocytophaga",
          "Bacteria/Proteobacteria/Alphaproteobacteria/Rickettsiales/Rickettsiaceae/Rickettsia",
          "Bacteria/Proteobacteria/Betaproteobacteria/Burkholderiales/Comamonadaceae/Roseateles",
          "Bacteria/Firmicutes/Clostridia/Clostridiales/Lachnospiraceae/Roseburia",
          "Bacteria/Verrucomicrobia/Verrucomicrobiae/Verrucomicrobiales/Verrucomicrobiaceae/Roseimicrobium",
          "Bacteria/Proteobacteria/Alphaproteobacteria/Rhodospirillales/Acetobacteraceae/Roseomonas",
          "Bacteria/Actinobacteria/Actinobacteria/Actinomycetales/Micrococcaceae/Rothia",
          "Bacteria/Proteobacteria/Alphaproteobacteria/Rhodobacterales/Rhodobacteraceae/Rubellimicrobium",
          "Bacteria/Actinobacteria/Actinobacteria/Rubrobacterales/Rubrobacteraceae/Rubrobacter",
          "Bacteria/Bacteroidetes/Cytophagia/Cytophagales/Cytophagaceae/Rudanella",
          "Bacteria/Firmicutes/Clostridia/Clostridiales/Ruminococcaceae/Ruminococcus",
          "Bacteria/Firmicutes/Clostridia/Clostridiales/Lachnospiraceae/Ruminococcus2",
          "Bacteria/Bacteroidetes/Cytophagia/Cytophagales/Cytophagaceae/Runella",
          "Bacteria/Actinobacteria/Actinobacteria/Actinomycetales/Pseudonocardiaceae/Saccharopolyspora",
          "Bacteria/Actinobacteria/Actinobacteria/Actinomycetales/Pseudonocardiaceae/Saccharothrix",
          "Bacteria/Bacteroidetes/Flavobacteriia/Flavobacteriales/Flavobacteriaceae/Salinimicrobium",
          "Bacteria/Actinobacteria/Actinobacteria/Actinomycetales/Sanguibacteraceae/Sanguibacter",
          "Bacteria/Firmicutes/Clostridia/Clostridiales/Clostridiaceae_1/Sarcina",
          "Bacteria/Proteobacteria/Betaproteobacteria/Burkholderiales/Comamonadaceae/Schlegelella",
          "Bacteria/Bacteroidetes/Sphingobacteriia/Sphingobacteriales/Chitinophagaceae/Sediminibacterium",
          "Bacteria/Bacteroidetes/Sphingobacteriia/Sphingobacteriales/Chitinophagaceae/Segetibacter",
          "Bacteria/Proteobacteria/Gammaproteobacteria/Alteromonadales/Shewanellaceae/Shewanella",
          "Bacteria/Proteobacteria/Betaproteobacteria/Rhodocyclales/Rhodocyclaceae/Shinella",
          "Bacteria/Proteobacteria/Betaproteobacteria/Burkholderiales/Comamonadaceae/Simplicispira",
          "Bacteria/Proteobacteria/Alphaproteobacteria/Rhodospirillales/Rhodospirillaceae/Skermanella",
          "Bacteria/Fusobacteria/Fusobacteriia/Fusobacteriales/Leptotrichiaceae/Sneathia",
          "Bacteria/Actinobacteria/Actinobacteria/Solirubrobacterales/Solirubrobacteraceae/Solirubrobacter",
          "Bacteria/Firmicutes/Erysipelotrichia/Erysipelotrichales/Erysipelotrichaceae/Solobacterium",
          "Bacteria/Bacteroidetes/Sphingobacteriia/Sphingobacteriales/Sphingobacteriaceae/Sphingobacterium",
          "Bacteria/Proteobacteria/Alphaproteobacteria/Sphingomonadales/Sphingomonadaceae/Sphingobium",
          "Bacteria/Proteobacteria/Alphaproteobacteria/Sphingomonadales/Sphingomonadaceae/Sphingomonas",
          "Bacteria/Proteobacteria/Alphaproteobacteria/Sphingomonadales/Sphingomonadaceae/Sphingopyxis",
          "Bacteria/Proteobacteria/Alphaproteobacteria/Sphingomonadales/Sphingomonadaceae/Sphingorhabdus",
          "Bacteria/Proteobacteria/Alphaproteobacteria/Sphingomonadales/Sphingomonadaceae/Sphingosinicella",
          "Bacteria/Bacteroidetes/Cytophagia/Cytophagales/Cytophagaceae/Spirosoma",
          "Bacteria/Firmicutes/Clostridia/Clostridiales/Peptostreptococcaceae/Sporacetigenium",
          "Bacteria/Firmicutes/Bacilli/Bacillales/Planococcaceae/Sporosarcina",
          "Bacteria/Firmicutes/Bacilli/Bacillales/Staphylococcaceae/Staphylococcus",
          "Bacteria/Proteobacteria/Alphaproteobacteria/Rhodospirillales/Acetobacteraceae/Stella",
          "Bacteria/Proteobacteria/Gammaproteobacteria/Xanthomonadales/Xanthomonadaceae/Stenotrophomonas",
          "Bacteria/Proteobacteria/Gammaproteobacteria/Xanthomonadales/Sinobacteraceae/Steroidobacter",
          "Bacteria/Firmicutes/Bacilli/Lactobacillales/Streptococcaceae/Streptococcus",
          "Bacteria/Actinobacteria/Actinobacteria/Actinomycetales/Streptomycetaceae/Streptomyces",
          "Bacteria/Firmicutes/Clostridia/Clostridiales/Ruminococcaceae/Subdoligranulum",
          "Bacteria/Actinobacteria/Actinobacteria/Actinomycetales/Intrasporangiaceae/Terracoccus",
          "Bacteria/Bacteroidetes/Sphingobacteriia/Sphingobacteriales/Chitinophagaceae/Terrimonas",
          "Bacteria/Actinobacteria/Actinobacteria/Actinomycetales/Propionibacteriaceae/Tessaracoccus",
          "Bacteria/Actinobacteria/Actinobacteria/Actinomycetales/Intrasporangiaceae/Tetrasphaera",
          "Bacteria/Firmicutes/Bacilli/Bacillales/Paenibacillaceae_1/Thermobacillus",
          "Bacteria/Proteobacteria/Gammaproteobacteria/Xanthomonadales/Xanthomonadaceae/Thermomonas",
          "Bacteria/Deinococcus-Thermus/Deinococci/Thermales/Thermaceae/Thermus",
          "Bacteria/Proteobacteria/Gammaproteobacteria/Aeromonadales/Aeromonadaceae/Tolumonas",
          "Bacteria/Spirochaetes/Spirochaetia/Spirochaetales/Spirochaetaceae/Treponema",
          "Bacteria/Firmicutes/Bacilli/Lactobacillales/Carnobacteriaceae/Trichococcus",
          "Bacteria/Deinococcus-Thermus/Deinococci/Deinococcales/Trueperaceae/Truepera",
          "Bacteria/Actinobacteria/Actinobacteria/Actinomycetales/Actinomycetaceae/Trueperella",
          "Bacteria/Actinobacteria/Actinobacteria/Actinomycetales/Corynebacteriaceae/Turicella",
          "Bacteria/Firmicutes/Erysipelotrichia/Erysipelotrichales/Erysipelotrichaceae/Turicibacter",
          "Bacteria/Firmicutes/Bacilli/Lactobacillales/Enterococcaceae/Vagococcus",
          "Bacteria/Actinobacteria/Actinobacteria/Actinomycetales/Actinomycetaceae/Varibaculum",
          "Bacteria/Proteobacteria/Betaproteobacteria/Burkholderiales/Comamonadaceae/Variovorax",
          "Bacteria/Firmicutes/Negativicutes/Selenomonadales/Veillonellaceae/Veillonella",
          "Bacteria/Proteobacteria/Gammaproteobacteria/Vibrionales/Vibrionaceae/Vibrio",
          "Bacteria/Bacteroidetes/Flavobacteriia/Flavobacteriales/Flavobacteriaceae/Wautersiella",
          "Bacteria/Actinobacteria/Actinobacteria/Actinomycetales/Nocardiaceae/Williamsia",
          "Bacteria/Proteobacteria/Gammaproteobacteria/Xanthomonadales/Xanthomonadaceae/Xanthomonas",
          "Bacteria/Actinobacteria/Actinobacteria/Actinomycetales/Micrococcaceae/Zhihengliuella",
          "Bacteria/Actinobacteria/Actinobacteria/Actinomycetales/Microbacteriaceae/Zimmermannella",
          "Bacteria/Proteobacteria/Alphaproteobacteria/Rhodospirillales/Acetobacteraceae/unclassified",
          "Bacteria/Actinobacteria/Actinobacteria/Actinomycetales/Actinomycetaceae/unclassified",
          "Bacteria/Firmicutes/Bacilli/Lactobacillales/Aerococcaceae/unclassified",
          "Bacteria/Proteobacteria/Betaproteobacteria/Burkholderiales/Alcaligenaceae/unclassified",
          "Bacteria/Chloroflexi/Anaerolineae/Anaerolineales/Anaerolineaceae/unclassified",
          "Bacteria/Proteobacteria/Deltaproteobacteria/Bdellovibrionales/Bacteriovoracaceae/unclassified",
          "Bacteria/Proteobacteria/Alphaproteobacteria/Rhizobiales/Beijerinckiaceae/unclassified",
          "Bacteria/Actinobacteria/Actinobacteria/Actinomycetales/Beutenbergiaceae/unclassified",
          "Bacteria/Proteobacteria/Alphaproteobacteria/Rhizobiales/Bradyrhizobiaceae/unclassified",
          "Bacteria/Proteobacteria/Betaproteobacteria/Burkholderiales/Burkholderiales_incertae_sedis/unclassified",
          "Bacteria/Chloroflexi/Caldilineae/Caldilineales/Caldilineaceae/unclassified",
          "Bacteria/Proteobacteria/Alphaproteobacteria/Caulobacterales/Caulobacteraceae/unclassified",
          "Bacteria/Actinobacteria/Actinobacteria/Actinomycetales/Cellulomonadaceae/unclassified",
          "Bacteria/Bacteroidetes/Sphingobacteriia/Sphingobacteriales/Chitinophagaceae/unclassified",
          "Bacteria/Chloroflexi/Chloroflexia/Chloroflexales/Chloroflexaceae/unclassified",
          "Bacteria/Firmicutes/Clostridia/Clostridiales/Clostridiaceae_1/unclassified",
          "Bacteria/Firmicutes/Clostridia/Clostridiales/Clostridiales_Incertae_Sedis_XI/unclassified",
          "Bacteria/Firmicutes/Clostridia/Clostridiales/Clostridiales_Incertae_Sedis_XIII/unclassified",
          "Bacteria/Proteobacteria/Betaproteobacteria/Burkholderiales/Comamonadaceae/unclassified",
          "Bacteria/Actinobacteria/Actinobacteria/Coriobacteriales/Coriobacteriaceae/unclassified",
          "Bacteria/Actinobacteria/Actinobacteria/Actinomycetales/Corynebacteriaceae/unclassified",
          "Bacteria/Bacteroidetes/Cytophagia/Cytophagales/Cytophagaceae/unclassified",
          "Bacteria/Deinococcus-Thermus/Deinococci/Deinococcales/Deinococcaceae/unclassified",
          "Bacteria/Actinobacteria/Actinobacteria/Actinomycetales/Dermabacteraceae/unclassified",
          "Bacteria/Proteobacteria/Gammaproteobacteria/Enterobacteriales/Enterobacteriaceae/unclassified",
          "Bacteria/Firmicutes/Erysipelotrichia/Erysipelotrichales/Erysipelotrichaceae/unclassified",
          "Bacteria/Proteobacteria/Alphaproteobacteria/Sphingomonadales/Erythrobacteraceae/unclassified",
          "Bacteria/Bacteroidetes/Flavobacteriia/Flavobacteriales/Flavobacteriaceae/unclassified",
          "Bacteria/Proteobacteria/Alphaproteobacteria/Alphaproteobacteria_incertae_sedis/Geminicoccus/unclassified",
          "Bacteria/Actinobacteria/Actinobacteria/Actinomycetales/Geodermatophilaceae/unclassified",
          "Bacteria/Proteobacteria/Betaproteobacteria/Hydrogenophilales/Hydrogenophilaceae/unclassified",
          "Bacteria/Actinobacteria/Actinobacteria/Actinomycetales/Intrasporangiaceae/unclassified",
          "Bacteria/Actinobacteria/Actinobacteria/Actinomycetales/Kineosporiaceae/unclassified",
          "Bacteria/Firmicutes/Clostridia/Clostridiales/Lachnospiraceae/unclassified",
          "Bacteria/Fusobacteria/Fusobacteriia/Fusobacteriales/Leptotrichiaceae/unclassified",
          "Bacteria/Proteobacteria/Alphaproteobacteria/Rhizobiales/Methylocystaceae/unclassified",
          "Bacteria/Actinobacteria/Actinobacteria/Actinomycetales/Microbacteriaceae/unclassified",
          "Bacteria/Actinobacteria/Actinobacteria/Actinomycetales/Micrococcaceae/unclassified",
          "Bacteria/Actinobacteria/Actinobacteria/Actinomycetales/Micromonosporaceae/unclassified",
          "Bacteria/Proteobacteria/Gammaproteobacteria/Pseudomonadales/Moraxellaceae/unclassified",
          "Bacteria/Proteobacteria/Betaproteobacteria/Neisseriales/Neisseriaceae/unclassified",
          "Bacteria/Actinobacteria/Actinobacteria/Actinomycetales/Nocardiaceae/unclassified",
          "Bacteria/Actinobacteria/Actinobacteria/Actinomycetales/Nocardioidaceae/unclassified",
          "Bacteria/Verrucomicrobia/Opitutae/Opitutales/Opitutaceae/unclassified",
          "Bacteria/Proteobacteria/Betaproteobacteria/Burkholderiales/Oxalobacteraceae/unclassified",
          "Bacteria/Proteobacteria/Gammaproteobacteria/Pasteurellales/Pasteurellaceae/unclassified",
          "Bacteria/Proteobacteria/Alphaproteobacteria/Rhizobiales/Phyllobacteriaceae/unclassified",
          "Bacteria/Planctomycetes/Planctomycetia/Planctomycetales/Planctomycetaceae/unclassified",
          "Bacteria/Firmicutes/Bacilli/Bacillales/Planococcaceae/unclassified",
          "Bacteria/Bacteroidetes/Bacteroidia/Bacteroidales/Porphyromonadaceae/unclassified",
          "Bacteria/Bacteroidetes/Bacteroidia/Bacteroidales/Prevotellaceae/unclassified",
          "Bacteria/Actinobacteria/Actinobacteria/Actinomycetales/Propionibacteriaceae/unclassified",
          "Bacteria/Proteobacteria/Gammaproteobacteria/Pseudomonadales/Pseudomonadaceae/unclassified",
          "Bacteria/Actinobacteria/Actinobacteria/Actinomycetales/Pseudonocardiaceae/unclassified",
          "Bacteria/Proteobacteria/Alphaproteobacteria/Rhodobacterales/Rhodobacteraceae/unclassified",
          "Bacteria/Proteobacteria/Betaproteobacteria/Rhodocyclales/Rhodocyclaceae/unclassified",
          "Bacteria/Proteobacteria/Alphaproteobacteria/Rhodospirillales/Rhodospirillaceae/unclassified",
          "Bacteria/Firmicutes/Clostridia/Clostridiales/Ruminococcaceae/unclassified",
          "Bacteria/Bacteroidetes/Sphingobacteriia/Sphingobacteriales/Saprospiraceae/unclassified",
          "Bacteria/Bacteroidetes/Sphingobacteriia/Sphingobacteriales/Sphingobacteriaceae/unclassified",
          "Bacteria/Proteobacteria/Alphaproteobacteria/Sphingomonadales/Sphingomonadaceae/unclassified",
          "Bacteria/Firmicutes/Bacilli/Bacillales/Staphylococcaceae/unclassified",
          "Bacteria/Actinobacteria/Actinobacteria/Actinomycetales/Streptomycetaceae/unclassified",
          "Bacteria/Actinobacteria/Actinobacteria/Actinomycetales/Streptosporangiaceae/unclassified",
          "Bacteria/Firmicutes/Negativicutes/Selenomonadales/Veillonellaceae/unclassified",
          "Bacteria/Proteobacteria/Gammaproteobacteria/Xanthomonadales/Xanthomonadaceae/unclassified",
          "Bacteria/Actinobacteria/Actinobacteria/Acidimicrobiales/unclassified/unclassified",
          "Bacteria/Actinobacteria/Actinobacteria/Actinomycetales/unclassified/unclassified",
          "Bacteria/Firmicutes/Bacilli/Bacillales/unclassified/unclassified",
          "Bacteria/Bacteroidetes/Bacteroidia/Bacteroidales/unclassified/unclassified",
          "Bacteria/Acidobacteria/Acidobacteria_Gp4/Blastocatella/unclassified/unclassified",
          "Bacteria/Proteobacteria/Betaproteobacteria/Burkholderiales/unclassified/unclassified",
          "Bacteria/Chloroflexi/Chloroflexia/Chloroflexales/unclassified/unclassified",
          "Bacteria/Firmicutes/Clostridia/Clostridiales/unclassified/unclassified",
          "Bacteria/Bacteroidetes/Cytophagia/Cytophagales/unclassified/unclassified",
          "Bacteria/Deinococcus-Thermus/Deinococci/Deinococcales/unclassified/unclassified",
          "Bacteria/Bacteroidetes/Flavobacteriia/Flavobacteriales/unclassified/unclassified",
          "Bacteria/Fusobacteria/Fusobacteriia/Fusobacteriales/unclassified/unclassified",
          "Bacteria/Acidobacteria/Acidobacteria_Gp1/Gp1/unclassified/unclassified",
          "Bacteria/Acidobacteria/Acidobacteria_Gp16/Gp16/unclassified/unclassified",
          "Bacteria/Acidobacteria/Acidobacteria_Gp17/Gp17/unclassified/unclassified",
          "Bacteria/Acidobacteria/Acidobacteria_Gp2/Gp2/unclassified/unclassified",
          "Bacteria/Acidobacteria/Acidobacteria_Gp3/Gp3/unclassified/unclassified",
          "Bacteria/Acidobacteria/Acidobacteria_Gp4/Gp4/unclassified/unclassified",
          "Bacteria/Acidobacteria/Acidobacteria_Gp6/Gp6/unclassified/unclassified",
          "Bacteria/Acidobacteria/Acidobacteria_Gp7/Gp7/unclassified/unclassified",
          "Bacteria/Firmicutes/Bacilli/Lactobacillales/unclassified/unclassified",
          "Bacteria/Proteobacteria/Deltaproteobacteria/Myxococcales/unclassified/unclassified",
          "Bacteria/Bacteroidetes/Bacteroidetes_incertae_sedis/Ohtaekwangia/unclassified/unclassified",
          "Bacteria/Proteobacteria/Gammaproteobacteria/Pseudomonadales/unclassified/unclassified",
          "Bacteria/Proteobacteria/Alphaproteobacteria/Rhizobiales/unclassified/unclassified",
          "Bacteria/Proteobacteria/Alphaproteobacteria/Rhodospirillales/unclassified/unclassified",
          "Bacteria/Actinobacteria/Actinobacteria/Solirubrobacterales/unclassified/unclassified",
          "Bacteria/Bacteroidetes/Sphingobacteriia/Sphingobacteriales/unclassified/unclassified",
          "Bacteria/Proteobacteria/Alphaproteobacteria/Sphingomonadales/unclassified/unclassified",
          "Bacteria/Proteobacteria/Gammaproteobacteria/Xanthomonadales/unclassified/unclassified",
          "Bacteria/Acidobacteria/Acidobacteria_Gp3/unclassified/unclassified/unclassified",
          "Bacteria/Acidobacteria/Acidobacteria_Gp4/unclassified/unclassified/unclassified",
          "Bacteria/Actinobacteria/Actinobacteria/unclassified/unclassified/unclassified",
          "Bacteria/Proteobacteria/Alphaproteobacteria/unclassified/unclassified/unclassified",
          "Bacteria/Armatimonadetes/Armatimonadetes_gp4/unclassified/unclassified/unclassified",
          "Bacteria/Armatimonadetes/Armatimonadetes_gp5/unclassified/unclassified/unclassified",
          "Bacteria/Firmicutes/Bacilli/unclassified/unclassified/unclassified",
          "Bacteria/Proteobacteria/Betaproteobacteria/unclassified/unclassified/unclassified",
          "Bacteria/Deinococcus-Thermus/Deinococci/unclassified/unclassified/unclassified",
          "Bacteria/Proteobacteria/Deltaproteobacteria/unclassified/unclassified/unclassified",
          "Bacteria/Proteobacteria/Gammaproteobacteria/unclassified/unclassified/unclassified",
          "Bacteria/Acidobacteria/unclassified/unclassified/unclassified/unclassified",
          "Bacteria/Actinobacteria/unclassified/unclassified/unclassified/unclassified",
          "Bacteria/Armatimonadetes/unclassified/unclassified/unclassified/unclassified",
          "Bacteria/Bacteroidetes/unclassified/unclassified/unclassified/unclassified",
          "Bacteria/Candidatus_Saccharibacteria/unclassified/unclassified/unclassified/unclassified",
          "Bacteria/Chloroflexi/unclassified/unclassified/unclassified/unclassified",
          "Bacteria/Firmicutes/unclassified/unclassified/unclassified/unclassified",
          "Bacteria/Microgenomates/unclassified/unclassified/unclassified/unclassified",
          "Bacteria/Parcubacteria/unclassified/unclassified/unclassified/unclassified",
          "Bacteria/Proteobacteria/unclassified/unclassified/unclassified/unclassified",
          "Bacteria/Verrucomicrobia/unclassified/unclassified/unclassified/unclassified",
          "Bacteria/unclassified/unclassified/unclassified/unclassified/unclassified",
          "Bacteria/Proteobacteria/Alphaproteobacteria/Rhodospirillales/Acetobacteraceae",
          "Bacteria/Actinobacteria/Actinobacteria/Acidimicrobiales/Acidimicrobiaceae",
          "Bacteria/Actinobacteria/Actinobacteria/Actinomycetales/Actinomycetaceae",
          "Bacteria/Firmicutes/Bacilli/Lactobacillales/Aerococcaceae",
          "Bacteria/Proteobacteria/Gammaproteobacteria/Aeromonadales/Aeromonadaceae",
          "Bacteria/Proteobacteria/Betaproteobacteria/Burkholderiales/Alcaligenaceae",
          "Bacteria/Chloroflexi/Anaerolineae/Anaerolineales/Anaerolineaceae",
          "Bacteria/Proteobacteria/Alphaproteobacteria/Rhizobiales/Aurantimonadaceae",
          "Bacteria/Firmicutes/Bacilli/Bacillales/Bacillaceae_1",
          "Bacteria/Firmicutes/Bacilli/Bacillales/Bacillales_Incertae_Sedis_XI",
          "Bacteria/Firmicutes/Bacilli/Bacillales/Bacillales_Incertae_Sedis_XII",
          "Bacteria/Proteobacteria/Deltaproteobacteria/Bdellovibrionales/Bacteriovoracaceae",
          "Bacteria/Bacteroidetes/Bacteroidia/Bacteroidales/Bacteroidaceae",
          "Bacteria/Proteobacteria/Deltaproteobacteria/Bdellovibrionales/Bdellovibrionaceae",
          "Bacteria/Proteobacteria/Alphaproteobacteria/Rhizobiales/Beijerinckiaceae",
          "Bacteria/Actinobacteria/Actinobacteria/Actinomycetales/Beutenbergiaceae",
          "Bacteria/Actinobacteria/Actinobacteria/Bifidobacteriales/Bifidobacteriaceae",
          "Bacteria/Actinobacteria/Actinobacteria/Actinomycetales/Bogoriellaceae",
          "Bacteria/Proteobacteria/Alphaproteobacteria/Rhizobiales/Bradyrhizobiaceae",
          "Bacteria/Actinobacteria/Actinobacteria/Actinomycetales/Brevibacteriaceae",
          "Bacteria/Proteobacteria/Alphaproteobacteria/Rhizobiales/Brucellaceae",
          "Bacteria/Proteobacteria/Betaproteobacteria/Burkholderiales/Burkholderiaceae",
          "Bacteria/Proteobacteria/Betaproteobacteria/Burkholderiales/Burkholderiales_incertae_sedis",
          "Bacteria/Chloroflexi/Caldilineae/Caldilineales/Caldilineaceae",
          "Bacteria/Proteobacteria/Epsilonproteobacteria/Campylobacterales/Campylobacteraceae",
          "Bacteria/Proteobacteria/Gammaproteobacteria/Cardiobacteriales/Cardiobacteriaceae",
          "Bacteria/Firmicutes/Bacilli/Lactobacillales/Carnobacteriaceae",
          "Bacteria/Proteobacteria/Alphaproteobacteria/Caulobacterales/Caulobacteraceae",
          "Bacteria/Actinobacteria/Actinobacteria/Actinomycetales/Cellulomonadaceae",
          "Bacteria/Bacteroidetes/Sphingobacteriia/Sphingobacteriales/Chitinophagaceae",
          "Bacteria/Chloroflexi/Chloroflexia/Chloroflexales/Chloroflexaceae",
          "Bacteria/Proteobacteria/Gammaproteobacteria/Chromatiales/Chromatiaceae",
          "Bacteria/Firmicutes/Clostridia/Clostridiales/Clostridiaceae_1",
          "Bacteria/Firmicutes/Clostridia/Clostridiales/Clostridiales_Incertae_Sedis_XI",
          "Bacteria/Firmicutes/Clostridia/Clostridiales/Clostridiales_Incertae_Sedis_XIII",
          "Bacteria/Proteobacteria/Betaproteobacteria/Burkholderiales/Comamonadaceae",
          "Bacteria/Actinobacteria/Actinobacteria/Coriobacteriales/Coriobacteriaceae",
          "Bacteria/Actinobacteria/Actinobacteria/Actinomycetales/Corynebacteriaceae",
          "Bacteria/Proteobacteria/Gammaproteobacteria/Legionellales/Coxiellaceae",
          "Bacteria/Bacteroidetes/Flavobacteriia/Flavobacteriales/Cryomorphaceae",
          "Bacteria/Bacteroidetes/Cytophagia/Cytophagales/Cytophagaceae",
          "Bacteria/Deinococcus-Thermus/Deinococci/Deinococcales/Deinococcaceae",
          "Bacteria/Actinobacteria/Actinobacteria/Actinomycetales/Demequinaceae",
          "Bacteria/Actinobacteria/Actinobacteria/Actinomycetales/Dermabacteraceae",
          "Bacteria/Actinobacteria/Actinobacteria/Actinomycetales/Dermacoccaceae",
          "Bacteria/Actinobacteria/Actinobacteria/Actinomycetales/Dermatophilaceae",
          "Bacteria/Proteobacteria/Deltaproteobacteria/Desulfobacterales/Desulfobulbaceae",
          "Bacteria/Actinobacteria/Actinobacteria/Actinomycetales/Dietziaceae",
          "Bacteria/Proteobacteria/Gammaproteobacteria/Enterobacteriales/Enterobacteriaceae",
          "Bacteria/Firmicutes/Bacilli/Lactobacillales/Enterococcaceae",
          "Bacteria/Firmicutes/Erysipelotrichia/Erysipelotrichales/Erysipelotrichaceae",
          "Bacteria/Proteobacteria/Alphaproteobacteria/Sphingomonadales/Erythrobacteraceae",
          "Bacteria/Firmicutes/Clostridia/Clostridiales/Eubacteriaceae",
          "Bacteria/Actinobacteria/Actinobacteria/Euzebyales/Euzebyaceae",
          "Bacteria/Bacteroidetes/Cytophagia/Cytophagales/Flammeovirgaceae",
          "Bacteria/Bacteroidetes/Flavobacteriia/Flavobacteriales/Flavobacteriaceae",
          "Bacteria/Fusobacteria/Fusobacteriia/Fusobacteriales/Fusobacteriaceae",
          "Bacteria/Actinobacteria/Actinobacteria/Gaiellales/Gaiellaceae",
          "Bacteria/Proteobacteria/Alphaproteobacteria/Alphaproteobacteria_incertae_sedis/Geminicoccus",
          "Bacteria/Gemmatimonadetes/Gemmatimonadetes/Gemmatimonadales/Gemmatimonadaceae",
          "Bacteria/Actinobacteria/Actinobacteria/Actinomycetales/Geodermatophilaceae",
          "Bacteria/Proteobacteria/Gammaproteobacteria/Oceanospirillales/Halomonadaceae",
          "Bacteria/Proteobacteria/Epsilonproteobacteria/Campylobacterales/Helicobacteraceae",
          "Bacteria/Chloroflexi/Chloroflexia/Herpetosiphonales/Herpetosiphonaceae",
          "Bacteria/Proteobacteria/Betaproteobacteria/Hydrogenophilales/Hydrogenophilaceae",
          "Bacteria/Proteobacteria/Alphaproteobacteria/Rhizobiales/Hyphomicrobiaceae",
          "Bacteria/Actinobacteria/Actinobacteria/Acidimicrobiales/Iamiaceae",
          "Bacteria/Firmicutes/Clostridia/Clostridiales/Incertae_Sedis_XI",
          "Bacteria/Actinobacteria/Actinobacteria/Actinomycetales/Intrasporangiaceae",
          "Bacteria/Actinobacteria/Actinobacteria/Actinomycetales/Kineosporiaceae",
          "Bacteria/Firmicutes/Clostridia/Clostridiales/Lachnospiraceae",
          "Bacteria/Firmicutes/Bacilli/Lactobacillales/Lactobacillaceae",
          "Bacteria/Proteobacteria/Gammaproteobacteria/Legionellales/Legionellaceae",
          "Bacteria/Fusobacteria/Fusobacteriia/Fusobacteriales/Leptotrichiaceae",
          "Bacteria/Firmicutes/Bacilli/Lactobacillales/Leuconostocaceae",
          "Bacteria/Proteobacteria/Alphaproteobacteria/Rhizobiales/Methylobacteriaceae",
          "Bacteria/Proteobacteria/Gammaproteobacteria/Methylococcales/Methylococcaceae",
          "Bacteria/Proteobacteria/Alphaproteobacteria/Rhizobiales/Methylocystaceae",
          "Bacteria/Proteobacteria/Betaproteobacteria/Methylophilales/Methylophilaceae",
          "Bacteria/Actinobacteria/Actinobacteria/Actinomycetales/Microbacteriaceae",
          "Bacteria/Actinobacteria/Actinobacteria/Actinomycetales/Micrococcaceae",
          "Bacteria/Actinobacteria/Actinobacteria/Actinomycetales/Micromonosporaceae",
          "Bacteria/Proteobacteria/Gammaproteobacteria/Pseudomonadales/Moraxellaceae",
          "Bacteria/Actinobacteria/Actinobacteria/Actinomycetales/Mycobacteriaceae",
          "Bacteria/Actinobacteria/Actinobacteria/Actinomycetales/Nakamurellaceae",
          "Bacteria/Proteobacteria/Betaproteobacteria/Neisseriales/Neisseriaceae",
          "Bacteria/Actinobacteria/Actinobacteria/Actinomycetales/Nocardiaceae",
          "Bacteria/Actinobacteria/Actinobacteria/Actinomycetales/Nocardioidaceae",
          "Bacteria/Verrucomicrobia/Opitutae/Opitutales/Opitutaceae",
          "Bacteria/Proteobacteria/Betaproteobacteria/Burkholderiales/Oxalobacteraceae",
          "Bacteria/Firmicutes/Bacilli/Bacillales/Paenibacillaceae_1",
          "Bacteria/Proteobacteria/Gammaproteobacteria/Pasteurellales/Pasteurellaceae",
          "Bacteria/Firmicutes/Clostridia/Clostridiales/Peptostreptococcaceae",
          "Bacteria/Proteobacteria/Alphaproteobacteria/Rhizobiales/Phyllobacteriaceae",
          "Bacteria/Planctomycetes/Planctomycetia/Planctomycetales/Planctomycetaceae",
          "Bacteria/Firmicutes/Bacilli/Bacillales/Planococcaceae",
          "Bacteria/Bacteroidetes/Bacteroidia/Bacteroidales/Porphyromonadaceae",
          "Bacteria/Bacteroidetes/Bacteroidia/Bacteroidales/Prevotellaceae",
          "Bacteria/Actinobacteria/Actinobacteria/Actinomycetales/Propionibacteriaceae",
          "Bacteria/Proteobacteria/Gammaproteobacteria/Alteromonadales/Pseudoalteromonadaceae",
          "Bacteria/Proteobacteria/Gammaproteobacteria/Pseudomonadales/Pseudomonadaceae",
          "Bacteria/Actinobacteria/Actinobacteria/Actinomycetales/Pseudonocardiaceae",
          "Bacteria/Proteobacteria/Alphaproteobacteria/Rhizobiales/Rhizobiaceae",
          "Bacteria/Proteobacteria/Alphaproteobacteria/Rhodobacterales/Rhodobacteraceae",
          "Bacteria/Proteobacteria/Betaproteobacteria/Rhodocyclales/Rhodocyclaceae",
          "Bacteria/Proteobacteria/Alphaproteobacteria/Rhodospirillales/Rhodospirillaceae",
          "Bacteria/Proteobacteria/Alphaproteobacteria/Rickettsiales/Rickettsiaceae",
          "Bacteria/Bacteroidetes/Bacteroidia/Bacteroidales/Rikenellaceae",
          "Bacteria/Actinobacteria/Actinobacteria/Rubrobacterales/Rubrobacteraceae",
          "Bacteria/Firmicutes/Clostridia/Clostridiales/Ruminococcaceae",
          "Bacteria/Actinobacteria/Actinobacteria/Actinomycetales/Sanguibacteraceae",
          "Bacteria/Bacteroidetes/Sphingobacteriia/Sphingobacteriales/Saprospiraceae",
          "Bacteria/Proteobacteria/Gammaproteobacteria/Alteromonadales/Shewanellaceae",
          "Bacteria/Proteobacteria/Gammaproteobacteria/Xanthomonadales/Sinobacteraceae",
          "Bacteria/Actinobacteria/Actinobacteria/Solirubrobacterales/Solirubrobacteraceae",
          "Bacteria/Bacteroidetes/Sphingobacteriia/Sphingobacteriales/Sphingobacteriaceae",
          "Bacteria/Proteobacteria/Alphaproteobacteria/Sphingomonadales/Sphingomonadaceae",
          "Bacteria/Spirochaetes/Spirochaetia/Spirochaetales/Spirochaetaceae",
          "Bacteria/Firmicutes/Bacilli/Bacillales/Staphylococcaceae",
          "Bacteria/Firmicutes/Bacilli/Lactobacillales/Streptococcaceae",
          "Bacteria/Actinobacteria/Actinobacteria/Actinomycetales/Streptomycetaceae",
          "Bacteria/Actinobacteria/Actinobacteria/Actinomycetales/Streptosporangiaceae",
          "Bacteria/Proteobacteria/Betaproteobacteria/Burkholderiales/Sutterellaceae",
          "Bacteria/Synergistetes/Synergistia/Synergistales/Synergistaceae",
          "Bacteria/Deinococcus-Thermus/Deinococci/Thermales/Thermaceae",
          "Bacteria/Deinococcus-Thermus/Deinococci/Deinococcales/Trueperaceae",
          "Bacteria/Firmicutes/Negativicutes/Selenomonadales/Veillonellaceae",
          "Bacteria/Verrucomicrobia/Verrucomicrobiae/Verrucomicrobiales/Verrucomicrobiaceae",
          "Bacteria/Proteobacteria/Gammaproteobacteria/Vibrionales/Vibrionaceae",
          "Bacteria/Proteobacteria/Gammaproteobacteria/Xanthomonadales/Xanthomonadaceae",
          "Bacteria/Actinobacteria/Actinobacteria/Acidimicrobiales/unclassified",
          "Bacteria/Actinobacteria/Actinobacteria/Actinomycetales/unclassified",
          "Bacteria/Firmicutes/Bacilli/Bacillales/unclassified",
          "Bacteria/Bacteroidetes/Bacteroidia/Bacteroidales/unclassified",
          "Bacteria/Acidobacteria/Acidobacteria_Gp4/Blastocatella/unclassified",
          "Bacteria/Proteobacteria/Betaproteobacteria/Burkholderiales/unclassified",
          "Bacteria/Chloroflexi/Chloroflexia/Chloroflexales/unclassified",
          "Bacteria/Firmicutes/Clostridia/Clostridiales/unclassified",
          "Bacteria/Bacteroidetes/Cytophagia/Cytophagales/unclassified",
          "Bacteria/Deinococcus-Thermus/Deinococci/Deinococcales/unclassified",
          "Bacteria/Bacteroidetes/Flavobacteriia/Flavobacteriales/unclassified",
          "Bacteria/Fusobacteria/Fusobacteriia/Fusobacteriales/unclassified",
          "Bacteria/Acidobacteria/Acidobacteria_Gp1/Gp1/unclassified",
          "Bacteria/Acidobacteria/Acidobacteria_Gp16/Gp16/unclassified",
          "Bacteria/Acidobacteria/Acidobacteria_Gp17/Gp17/unclassified",
          "Bacteria/Acidobacteria/Acidobacteria_Gp2/Gp2/unclassified",
          "Bacteria/Acidobacteria/Acidobacteria_Gp3/Gp3/unclassified",
          "Bacteria/Acidobacteria/Acidobacteria_Gp4/Gp4/unclassified",
          "Bacteria/Acidobacteria/Acidobacteria_Gp6/Gp6/unclassified",
          "Bacteria/Acidobacteria/Acidobacteria_Gp7/Gp7/unclassified",
          "Bacteria/Firmicutes/Bacilli/Lactobacillales/unclassified",
          "Bacteria/Proteobacteria/Deltaproteobacteria/Myxococcales/unclassified",
          "Bacteria/Bacteroidetes/Bacteroidetes_incertae_sedis/Ohtaekwangia/unclassified",
          "Bacteria/Proteobacteria/Gammaproteobacteria/Pseudomonadales/unclassified",
          "Bacteria/Proteobacteria/Alphaproteobacteria/Rhizobiales/unclassified",
          "Bacteria/Proteobacteria/Alphaproteobacteria/Rhodospirillales/unclassified",
          "Bacteria/Actinobacteria/Actinobacteria/Solirubrobacterales/unclassified",
          "Bacteria/Bacteroidetes/Sphingobacteriia/Sphingobacteriales/unclassified",
          "Bacteria/Proteobacteria/Alphaproteobacteria/Sphingomonadales/unclassified",
          "Bacteria/Proteobacteria/Gammaproteobacteria/Xanthomonadales/unclassified",
          "Bacteria/Acidobacteria/Acidobacteria_Gp3/unclassified/unclassified",
          "Bacteria/Acidobacteria/Acidobacteria_Gp4/unclassified/unclassified",
          "Bacteria/Actinobacteria/Actinobacteria/unclassified/unclassified",
          "Bacteria/Proteobacteria/Alphaproteobacteria/unclassified/unclassified",
          "Bacteria/Armatimonadetes/Armatimonadetes_gp4/unclassified/unclassified",
          "Bacteria/Armatimonadetes/Armatimonadetes_gp5/unclassified/unclassified",
          "Bacteria/Firmicutes/Bacilli/unclassified/unclassified",
          "Bacteria/Proteobacteria/Betaproteobacteria/unclassified/unclassified",
          "Bacteria/Deinococcus-Thermus/Deinococci/unclassified/unclassified",
          "Bacteria/Proteobacteria/Deltaproteobacteria/unclassified/unclassified",
          "Bacteria/Proteobacteria/Gammaproteobacteria/unclassified/unclassified",
          "Bacteria/Acidobacteria/unclassified/unclassified/unclassified",
          "Bacteria/Actinobacteria/unclassified/unclassified/unclassified",
          "Bacteria/Armatimonadetes/unclassified/unclassified/unclassified",
          "Bacteria/Bacteroidetes/unclassified/unclassified/unclassified",
          "Bacteria/Candidatus_Saccharibacteria/unclassified/unclassified/unclassified",
          "Bacteria/Chloroflexi/unclassified/unclassified/unclassified",
          "Bacteria/Firmicutes/unclassified/unclassified/unclassified",
          "Bacteria/Microgenomates/unclassified/unclassified/unclassified",
          "Bacteria/Parcubacteria/unclassified/unclassified/unclassified",
          "Bacteria/Proteobacteria/unclassified/unclassified/unclassified",
          "Bacteria/Verrucomicrobia/unclassified/unclassified/unclassified",
          "Bacteria/unclassified/unclassified/unclassified/unclassified",
          "Bacteria/Actinobacteria/Actinobacteria/Acidimicrobiales",
          "Bacteria/Actinobacteria/Actinobacteria/Actinomycetales",
          "Bacteria/Proteobacteria/Gammaproteobacteria/Aeromonadales",
          "Bacteria/Proteobacteria/Alphaproteobacteria/Alphaproteobacteria_incertae_sedis",
          "Bacteria/Proteobacteria/Gammaproteobacteria/Alteromonadales",
          "Bacteria/Chloroflexi/Anaerolineae/Anaerolineales",
          "Bacteria/Firmicutes/Bacilli/Bacillales",
          "Bacteria/Bacteroidetes/Bacteroidia/Bacteroidales",
          "Bacteria/Proteobacteria/Deltaproteobacteria/Bdellovibrionales",
          "Bacteria/Actinobacteria/Actinobacteria/Bifidobacteriales",
          "Bacteria/Acidobacteria/Acidobacteria_Gp4/Blastocatella",
          "Bacteria/Proteobacteria/Betaproteobacteria/Burkholderiales",
          "Bacteria/Chloroflexi/Caldilineae/Caldilineales",
          "Bacteria/Proteobacteria/Epsilonproteobacteria/Campylobacterales",
          "Bacteria/Proteobacteria/Gammaproteobacteria/Cardiobacteriales",
          "Bacteria/Proteobacteria/Alphaproteobacteria/Caulobacterales",
          "Bacteria/Chloroflexi/Chloroflexia/Chloroflexales",
          "Bacteria/Proteobacteria/Gammaproteobacteria/Chromatiales",
          "Bacteria/Firmicutes/Clostridia/Clostridiales",
          "Bacteria/Actinobacteria/Actinobacteria/Coriobacteriales",
          "Bacteria/Bacteroidetes/Cytophagia/Cytophagales",
          "Bacteria/Deinococcus-Thermus/Deinococci/Deinococcales",
          "Bacteria/Proteobacteria/Deltaproteobacteria/Desulfobacterales",
          "Bacteria/Proteobacteria/Gammaproteobacteria/Enterobacteriales",
          "Bacteria/Firmicutes/Erysipelotrichia/Erysipelotrichales",
          "Bacteria/Actinobacteria/Actinobacteria/Euzebyales",
          "Bacteria/Bacteroidetes/Flavobacteriia/Flavobacteriales",
          "Bacteria/Fusobacteria/Fusobacteriia/Fusobacteriales",
          "Bacteria/Actinobacteria/Actinobacteria/Gaiellales",
          "Bacteria/Gemmatimonadetes/Gemmatimonadetes/Gemmatimonadales",
          "Bacteria/Acidobacteria/Acidobacteria_Gp1/Gp1",
          "Bacteria/Acidobacteria/Acidobacteria_Gp16/Gp16",
          "Bacteria/Acidobacteria/Acidobacteria_Gp17/Gp17",
          "Bacteria/Acidobacteria/Acidobacteria_Gp2/Gp2",
          "Bacteria/Acidobacteria/Acidobacteria_Gp3/Gp3",
          "Bacteria/Acidobacteria/Acidobacteria_Gp4/Gp4",
          "Bacteria/Acidobacteria/Acidobacteria_Gp6/Gp6",
          "Bacteria/Acidobacteria/Acidobacteria_Gp7/Gp7",
          "Bacteria/Chloroflexi/Chloroflexia/Herpetosiphonales",
          "Bacteria/Proteobacteria/Betaproteobacteria/Hydrogenophilales",
          "Bacteria/Firmicutes/Bacilli/Lactobacillales",
          "Bacteria/Proteobacteria/Gammaproteobacteria/Legionellales",
          "Bacteria/Proteobacteria/Gammaproteobacteria/Methylococcales",
          "Bacteria/Proteobacteria/Betaproteobacteria/Methylophilales",
          "Bacteria/Proteobacteria/Deltaproteobacteria/Myxococcales",
          "Bacteria/Proteobacteria/Betaproteobacteria/Neisseriales",
          "Bacteria/Proteobacteria/Gammaproteobacteria/Oceanospirillales",
          "Bacteria/Bacteroidetes/Bacteroidetes_incertae_sedis/Ohtaekwangia",
          "Bacteria/Verrucomicrobia/Opitutae/Opitutales",
          "Bacteria/Proteobacteria/Gammaproteobacteria/Pasteurellales",
          "Bacteria/Planctomycetes/Planctomycetia/Planctomycetales",
          "Bacteria/Proteobacteria/Gammaproteobacteria/Pseudomonadales",
          "Bacteria/Proteobacteria/Alphaproteobacteria/Rhizobiales",
          "Bacteria/Proteobacteria/Alphaproteobacteria/Rhodobacterales",
          "Bacteria/Proteobacteria/Betaproteobacteria/Rhodocyclales",
          "Bacteria/Proteobacteria/Alphaproteobacteria/Rhodospirillales",
          "Bacteria/Proteobacteria/Alphaproteobacteria/Rickettsiales",
          "Bacteria/Actinobacteria/Actinobacteria/Rubrobacterales",
          "Bacteria/Firmicutes/Negativicutes/Selenomonadales",
          "Bacteria/Actinobacteria/Actinobacteria/Solirubrobacterales",
          "Bacteria/Bacteroidetes/Sphingobacteriia/Sphingobacteriales",
          "Bacteria/Proteobacteria/Alphaproteobacteria/Sphingomonadales",
          "Bacteria/Spirochaetes/Spirochaetia/Spirochaetales",
          "Bacteria/Synergistetes/Synergistia/Synergistales",
          "Bacteria/Deinococcus-Thermus/Deinococci/Thermales",
          "Bacteria/Verrucomicrobia/Verrucomicrobiae/Verrucomicrobiales",
          "Bacteria/Proteobacteria/Gammaproteobacteria/Vibrionales",
          "Bacteria/Proteobacteria/Gammaproteobacteria/Xanthomonadales",
          "Bacteria/Acidobacteria/Acidobacteria_Gp3/unclassified",
          "Bacteria/Acidobacteria/Acidobacteria_Gp4/unclassified",
          "Bacteria/Actinobacteria/Actinobacteria/unclassified",
          "Bacteria/Proteobacteria/Alphaproteobacteria/unclassified",
          "Bacteria/Armatimonadetes/Armatimonadetes_gp4/unclassified",
          "Bacteria/Armatimonadetes/Armatimonadetes_gp5/unclassified",
          "Bacteria/Firmicutes/Bacilli/unclassified",
          "Bacteria/Proteobacteria/Betaproteobacteria/unclassified",
          "Bacteria/Deinococcus-Thermus/Deinococci/unclassified",
          "Bacteria/Proteobacteria/Deltaproteobacteria/unclassified",
          "Bacteria/Proteobacteria/Gammaproteobacteria/unclassified",
          "Bacteria/Acidobacteria/unclassified/unclassified",
          "Bacteria/Actinobacteria/unclassified/unclassified",
          "Bacteria/Armatimonadetes/unclassified/unclassified",
          "Bacteria/Bacteroidetes/unclassified/unclassified",
          "Bacteria/Candidatus_Saccharibacteria/unclassified/unclassified",
          "Bacteria/Chloroflexi/unclassified/unclassified",
          "Bacteria/Firmicutes/unclassified/unclassified",
          "Bacteria/Microgenomates/unclassified/unclassified",
          "Bacteria/Parcubacteria/unclassified/unclassified",
          "Bacteria/Proteobacteria/unclassified/unclassified",
          "Bacteria/Verrucomicrobia/unclassified/unclassified",
          "Bacteria/unclassified/unclassified/unclassified",
          "Bacteria/Acidobacteria/Acidobacteria_Gp1",
          "Bacteria/Acidobacteria/Acidobacteria_Gp16",
          "Bacteria/Acidobacteria/Acidobacteria_Gp17",
          "Bacteria/Acidobacteria/Acidobacteria_Gp2",
          "Bacteria/Acidobacteria/Acidobacteria_Gp3",
          "Bacteria/Acidobacteria/Acidobacteria_Gp4",
          "Bacteria/Acidobacteria/Acidobacteria_Gp6",
          "Bacteria/Acidobacteria/Acidobacteria_Gp7",
          "Bacteria/Actinobacteria/Actinobacteria",
          "Bacteria/Proteobacteria/Alphaproteobacteria",
          "Bacteria/Chloroflexi/Anaerolineae",
          "Bacteria/Armatimonadetes/Armatimonadetes_gp4",
          "Bacteria/Armatimonadetes/Armatimonadetes_gp5",
          "Bacteria/Firmicutes/Bacilli",
          "Bacteria/Bacteroidetes/Bacteroidetes_incertae_sedis",
          "Bacteria/Bacteroidetes/Bacteroidia",
          "Bacteria/Proteobacteria/Betaproteobacteria",
          "Bacteria/Chloroflexi/Caldilineae",
          "Bacteria/Chloroflexi/Chloroflexia",
          "Bacteria/Firmicutes/Clostridia",
          "Bacteria/Bacteroidetes/Cytophagia",
          "Bacteria/Deinococcus-Thermus/Deinococci",
          "Bacteria/Proteobacteria/Deltaproteobacteria",
          "Bacteria/Proteobacteria/Epsilonproteobacteria",
          "Bacteria/Firmicutes/Erysipelotrichia",
          "Bacteria/Bacteroidetes/Flavobacteriia",
          "Bacteria/Fusobacteria/Fusobacteriia",
          "Bacteria/Proteobacteria/Gammaproteobacteria",
          "Bacteria/Gemmatimonadetes/Gemmatimonadetes",
          "Bacteria/Firmicutes/Negativicutes",
          "Bacteria/Verrucomicrobia/Opitutae",
          "Bacteria/Planctomycetes/Planctomycetia",
          "Bacteria/Bacteroidetes/Sphingobacteriia",
          "Bacteria/Spirochaetes/Spirochaetia",
          "Bacteria/Synergistetes/Synergistia",
          "Bacteria/Verrucomicrobia/Verrucomicrobiae",
          "Bacteria/Acidobacteria/unclassified",
          "Bacteria/Actinobacteria/unclassified",
          "Bacteria/Armatimonadetes/unclassified",
          "Bacteria/Bacteroidetes/unclassified",
          "Bacteria/Candidatus_Saccharibacteria/unclassified",
          "Bacteria/Chloroflexi/unclassified",
          "Bacteria/Firmicutes/unclassified",
          "Bacteria/Microgenomates/unclassified",
          "Bacteria/Parcubacteria/unclassified",
          "Bacteria/Proteobacteria/unclassified",
          "Bacteria/Verrucomicrobia/unclassified",
          "Bacteria/unclassified/unclassified",
          "Bacteria/Acidobacteria",
          "Bacteria/Actinobacteria",
          "Bacteria/Armatimonadetes",
          "Bacteria/Bacteroidetes",
          "Bacteria/Candidatus_Saccharibacteria",
          "Bacteria/Chloroflexi",
          "Bacteria/Deinococcus-Thermus",
          "Bacteria/Firmicutes",
          "Bacteria/Fusobacteria",
          "Bacteria/Gemmatimonadetes",
          "Bacteria/Microgenomates",
          "Bacteria/Parcubacteria",
          "Bacteria/Planctomycetes",
          "Bacteria/Proteobacteria",
          "Bacteria/Spirochaetes",
          "Bacteria/Synergistetes",
          "Bacteria/Verrucomicrobia",
          "Bacteria/unclassified",
          "Bacteria"
         ],
         "labels": [
          "Abiotrophia",
          "Acetobacter",
          "Acetobacterium",
          "Achromobacter",
          "Acidovorax",
          "Acinetobacter",
          "Actinobaculum",
          "Actinomyces",
          "Actinomycetospora",
          "Actinoplanes",
          "Adhaeribacter",
          "Aerococcus",
          "Aeromicrobium",
          "Aeromonas",
          "Afipia",
          "Agaricicola",
          "Aggregatibacter",
          "Agreia",
          "Agrococcus",
          "Agromyces",
          "Albidiferax",
          "Alistipes",
          "Alkanindiges",
          "Allobaculum",
          "Alloprevotella",
          "Altererythrobacter",
          "Amaricoccus",
          "Amnibacterium",
          "Anaerococcus",
          "Anaerovorax",
          "Anoxybacillus",
          "Aquabacterium",
          "Aquicella",
          "Aquincola",
          "Arcobacter",
          "Arcticibacter",
          "Arsenicicoccus",
          "Arthrobacter",
          "Asaccharobacter",
          "Asanoa",
          "Asticcacaulis",
          "Atopobium",
          "Atopostipes",
          "Aurantimonas",
          "Auraticoccus",
          "Azohydromonas",
          "Azospira",
          "Azospirillum",
          "Bacillus",
          "Bacteroides",
          "Barnesiella",
          "Bdellovibrio",
          "Belnapia",
          "Bifidobacterium",
          "Blastochloris",
          "Blastococcus",
          "Blautia",
          "Bosea",
          "Brachybacterium",
          "Brevibacterium",
          "Brevundimonas",
          "Buchnera",
          "Burkholderia",
          "Butyricicoccus",
          "Butyricimonas",
          "Campylobacter",
          "Capnocytophaga",
          "Cardiobacterium",
          "Carnobacterium",
          "Catellatospora",
          "Catonella",
          "Caulobacter",
          "Cellulomonas",
          "Cellvibrio",
          "Cesiribacter",
          "Chelativorans",
          "Chelatococcus",
          "Chitinophaga",
          "Chryseobacterium",
          "Chryseomicrobium",
          "Citrobacter",
          "Clavibacter",
          "Cloacibacterium",
          "Clostridium_XI",
          "Clostridium_XlVa",
          "Clostridium_sensu_stricto",
          "Collinsella",
          "Comamonas",
          "Corynebacterium",
          "Croceicoccus",
          "Cruoricaptor",
          "Cupriavidus",
          "Curtobacterium",
          "Cytophaga",
          "Dechloromonas",
          "Defluviicoccus",
          "Deinococcus",
          "Delftia",
          "Demequina",
          "Dermabacter",
          "Dermacoccus",
          "Desemzia",
          "Desulfobulbus",
          "Devosia",
          "Dialister",
          "Diaphorobacter",
          "Dietzia",
          "Dokdonella",
          "Dolosigranulum",
          "Dongia",
          "Dorea",
          "Duganella",
          "Dyadobacter",
          "Dyella",
          "Eggerthella",
          "Eikenella",
          "Emticicia",
          "Endobacter",
          "Enhydrobacter",
          "Ensifer",
          "Enterobacter",
          "Enterococcus",
          "Epilithonimonas",
          "Eremococcus",
          "Eubacterium",
          "Euzebya",
          "Exiguobacterium",
          "Facklamia",
          "Faecalibacterium",
          "Ferruginibacter",
          "Finegoldia",
          "Flavisolibacter",
          "Flavitalea",
          "Flavobacterium",
          "Flectobacillus",
          "Fluviicola",
          "Friedmanniella",
          "Frigoribacterium",
          "Fusobacterium",
          "Gaiella",
          "Gardnerella",
          "Gemella",
          "Gemmatimonas",
          "Gemmobacter",
          "Geodermatophilus",
          "Georgenia",
          "Gillisia",
          "Gordonia",
          "Gordonibacter",
          "Granulicatella",
          "Haliscomenobacter",
          "Haloferula",
          "Halomonas",
          "Helicobacter",
          "Herbiconiux",
          "Herpetosiphon",
          "Hydrocarboniphaga",
          "Hydrogenophaga",
          "Hydrogenophilus",
          "Hymenobacter",
          "Hyphomicrobium",
          "Iamia",
          "Ilumatobacter",
          "Janibacter",
          "Jeotgalicoccus",
          "Jonquetella",
          "Kaistia",
          "Kineococcus",
          "Kineosporia",
          "Kingella",
          "Knoellia",
          "Kocuria",
          "Kribbella",
          "Kytococcus",
          "Lachnoanaerobaculum",
          "Lacibacter",
          "Lactobacillus",
          "Lactococcus",
          "Larkinella",
          "Legionella",
          "Leifsonia",
          "Leptotrichia",
          "Leucobacter",
          "Leuconostoc",
          "Limnobacter",
          "Limnohabitans",
          "Luedemannella",
          "Luteococcus",
          "Luteolibacter",
          "Lysobacter",
          "Macrococcus",
          "Marmoricola",
          "Massilia",
          "Megasphaera",
          "Mesorhizobium",
          "Methylobacillus",
          "Methylobacterium",
          "Methylocaldum",
          "Methylocystis",
          "Methylophilus",
          "Methylotenera",
          "Methyloversatilis",
          "Methylovorus",
          "Microbacterium",
          "Micrococcus",
          "Microlunatus",
          "Micromonospora",
          "Micropruina",
          "Microvirga",
          "Mobiluncus",
          "Modestobacter",
          "Mogibacterium",
          "Moraxella",
          "Mucilaginibacter",
          "Murdochiella",
          "Mycobacterium",
          "Nakamurella",
          "Naxibacter",
          "Negativicoccus",
          "Neisseria",
          "Nesterenkonia",
          "Niabella",
          "Nocardioides",
          "Noviherbaspirillum",
          "Novispirillum",
          "Novosphingobium",
          "Nubsella",
          "Ochrobactrum",
          "Oerskovia",
          "Oribacterium",
          "Ornithinibacter",
          "Ornithinicoccus",
          "Ornithinimicrobium",
          "Oscillibacter",
          "Paenibacillus",
          "Paenisporosarcina",
          "Palleronia",
          "Paludibacter",
          "Pantoea",
          "Parabacteroides",
          "Paracoccus",
          "Parasegetibacter",
          "Parasutterella",
          "Parvimonas",
          "Pediococcus",
          "Pedobacter",
          "Pedomicrobium",
          "Pelomonas",
          "Peptoniphilus",
          "Peptostreptococcus",
          "Peredibacter",
          "Persicitalea",
          "Phenylobacterium",
          "Photobacterium",
          "Phycicoccus",
          "Phyllobacterium",
          "Piscicoccus",
          "Planobacterium",
          "Planococcus",
          "Planomicrobium",
          "Plantibacter",
          "Polaromonas",
          "Polynucleobacter",
          "Pontibacter",
          "Porphyrobacter",
          "Porphyromonas",
          "Prevotella",
          "Propionibacterium",
          "Propionicimonas",
          "Propionivibrio",
          "Prosthecobacter",
          "Providencia",
          "Pseudoalteromonas",
          "Pseudochrobactrum",
          "Pseudoclavibacter",
          "Pseudoflavonifractor",
          "Pseudomonas",
          "Pseudonocardia",
          "Pseudorhodoferax",
          "Pseudoxanthomonas",
          "Psychrobacter",
          "Ralstonia",
          "Rathayibacter",
          "Rheinheimera",
          "Rhizobacter",
          "Rhizobium",
          "Rhodobacter",
          "Rhodococcus",
          "Rhodocytophaga",
          "Rickettsia",
          "Roseateles",
          "Roseburia",
          "Roseimicrobium",
          "Roseomonas",
          "Rothia",
          "Rubellimicrobium",
          "Rubrobacter",
          "Rudanella",
          "Ruminococcus",
          "Ruminococcus2",
          "Runella",
          "Saccharopolyspora",
          "Saccharothrix",
          "Salinimicrobium",
          "Sanguibacter",
          "Sarcina",
          "Schlegelella",
          "Sediminibacterium",
          "Segetibacter",
          "Shewanella",
          "Shinella",
          "Simplicispira",
          "Skermanella",
          "Sneathia",
          "Solirubrobacter",
          "Solobacterium",
          "Sphingobacterium",
          "Sphingobium",
          "Sphingomonas",
          "Sphingopyxis",
          "Sphingorhabdus",
          "Sphingosinicella",
          "Spirosoma",
          "Sporacetigenium",
          "Sporosarcina",
          "Staphylococcus",
          "Stella",
          "Stenotrophomonas",
          "Steroidobacter",
          "Streptococcus",
          "Streptomyces",
          "Subdoligranulum",
          "Terracoccus",
          "Terrimonas",
          "Tessaracoccus",
          "Tetrasphaera",
          "Thermobacillus",
          "Thermomonas",
          "Thermus",
          "Tolumonas",
          "Treponema",
          "Trichococcus",
          "Truepera",
          "Trueperella",
          "Turicella",
          "Turicibacter",
          "Vagococcus",
          "Varibaculum",
          "Variovorax",
          "Veillonella",
          "Vibrio",
          "Wautersiella",
          "Williamsia",
          "Xanthomonas",
          "Zhihengliuella",
          "Zimmermannella",
          "unclassified",
          "unclassified",
          "unclassified",
          "unclassified",
          "unclassified",
          "unclassified",
          "unclassified",
          "unclassified",
          "unclassified",
          "unclassified",
          "unclassified",
          "unclassified",
          "unclassified",
          "unclassified",
          "unclassified",
          "unclassified",
          "unclassified",
          "unclassified",
          "unclassified",
          "unclassified",
          "unclassified",
          "unclassified",
          "unclassified",
          "unclassified",
          "unclassified",
          "unclassified",
          "unclassified",
          "unclassified",
          "unclassified",
          "unclassified",
          "unclassified",
          "unclassified",
          "unclassified",
          "unclassified",
          "unclassified",
          "unclassified",
          "unclassified",
          "unclassified",
          "unclassified",
          "unclassified",
          "unclassified",
          "unclassified",
          "unclassified",
          "unclassified",
          "unclassified",
          "unclassified",
          "unclassified",
          "unclassified",
          "unclassified",
          "unclassified",
          "unclassified",
          "unclassified",
          "unclassified",
          "unclassified",
          "unclassified",
          "unclassified",
          "unclassified",
          "unclassified",
          "unclassified",
          "unclassified",
          "unclassified",
          "unclassified",
          "unclassified",
          "unclassified",
          "unclassified",
          "unclassified",
          "unclassified",
          "unclassified",
          "unclassified",
          "unclassified",
          "unclassified",
          "unclassified",
          "unclassified",
          "unclassified",
          "unclassified",
          "unclassified",
          "unclassified",
          "unclassified",
          "unclassified",
          "unclassified",
          "unclassified",
          "unclassified",
          "unclassified",
          "unclassified",
          "unclassified",
          "unclassified",
          "unclassified",
          "unclassified",
          "unclassified",
          "unclassified",
          "unclassified",
          "unclassified",
          "unclassified",
          "unclassified",
          "unclassified",
          "unclassified",
          "unclassified",
          "unclassified",
          "unclassified",
          "unclassified",
          "unclassified",
          "unclassified",
          "unclassified",
          "unclassified",
          "unclassified",
          "unclassified",
          "unclassified",
          "unclassified",
          "unclassified",
          "unclassified",
          "unclassified",
          "unclassified",
          "unclassified",
          "unclassified",
          "unclassified",
          "unclassified",
          "unclassified",
          "unclassified",
          "unclassified",
          "Acetobacteraceae",
          "Acidimicrobiaceae",
          "Actinomycetaceae",
          "Aerococcaceae",
          "Aeromonadaceae",
          "Alcaligenaceae",
          "Anaerolineaceae",
          "Aurantimonadaceae",
          "Bacillaceae_1",
          "Bacillales_Incertae_Sedis_XI",
          "Bacillales_Incertae_Sedis_XII",
          "Bacteriovoracaceae",
          "Bacteroidaceae",
          "Bdellovibrionaceae",
          "Beijerinckiaceae",
          "Beutenbergiaceae",
          "Bifidobacteriaceae",
          "Bogoriellaceae",
          "Bradyrhizobiaceae",
          "Brevibacteriaceae",
          "Brucellaceae",
          "Burkholderiaceae",
          "Burkholderiales_incertae_sedis",
          "Caldilineaceae",
          "Campylobacteraceae",
          "Cardiobacteriaceae",
          "Carnobacteriaceae",
          "Caulobacteraceae",
          "Cellulomonadaceae",
          "Chitinophagaceae",
          "Chloroflexaceae",
          "Chromatiaceae",
          "Clostridiaceae_1",
          "Clostridiales_Incertae_Sedis_XI",
          "Clostridiales_Incertae_Sedis_XIII",
          "Comamonadaceae",
          "Coriobacteriaceae",
          "Corynebacteriaceae",
          "Coxiellaceae",
          "Cryomorphaceae",
          "Cytophagaceae",
          "Deinococcaceae",
          "Demequinaceae",
          "Dermabacteraceae",
          "Dermacoccaceae",
          "Dermatophilaceae",
          "Desulfobulbaceae",
          "Dietziaceae",
          "Enterobacteriaceae",
          "Enterococcaceae",
          "Erysipelotrichaceae",
          "Erythrobacteraceae",
          "Eubacteriaceae",
          "Euzebyaceae",
          "Flammeovirgaceae",
          "Flavobacteriaceae",
          "Fusobacteriaceae",
          "Gaiellaceae",
          "Geminicoccus",
          "Gemmatimonadaceae",
          "Geodermatophilaceae",
          "Halomonadaceae",
          "Helicobacteraceae",
          "Herpetosiphonaceae",
          "Hydrogenophilaceae",
          "Hyphomicrobiaceae",
          "Iamiaceae",
          "Incertae_Sedis_XI",
          "Intrasporangiaceae",
          "Kineosporiaceae",
          "Lachnospiraceae",
          "Lactobacillaceae",
          "Legionellaceae",
          "Leptotrichiaceae",
          "Leuconostocaceae",
          "Methylobacteriaceae",
          "Methylococcaceae",
          "Methylocystaceae",
          "Methylophilaceae",
          "Microbacteriaceae",
          "Micrococcaceae",
          "Micromonosporaceae",
          "Moraxellaceae",
          "Mycobacteriaceae",
          "Nakamurellaceae",
          "Neisseriaceae",
          "Nocardiaceae",
          "Nocardioidaceae",
          "Opitutaceae",
          "Oxalobacteraceae",
          "Paenibacillaceae_1",
          "Pasteurellaceae",
          "Peptostreptococcaceae",
          "Phyllobacteriaceae",
          "Planctomycetaceae",
          "Planococcaceae",
          "Porphyromonadaceae",
          "Prevotellaceae",
          "Propionibacteriaceae",
          "Pseudoalteromonadaceae",
          "Pseudomonadaceae",
          "Pseudonocardiaceae",
          "Rhizobiaceae",
          "Rhodobacteraceae",
          "Rhodocyclaceae",
          "Rhodospirillaceae",
          "Rickettsiaceae",
          "Rikenellaceae",
          "Rubrobacteraceae",
          "Ruminococcaceae",
          "Sanguibacteraceae",
          "Saprospiraceae",
          "Shewanellaceae",
          "Sinobacteraceae",
          "Solirubrobacteraceae",
          "Sphingobacteriaceae",
          "Sphingomonadaceae",
          "Spirochaetaceae",
          "Staphylococcaceae",
          "Streptococcaceae",
          "Streptomycetaceae",
          "Streptosporangiaceae",
          "Sutterellaceae",
          "Synergistaceae",
          "Thermaceae",
          "Trueperaceae",
          "Veillonellaceae",
          "Verrucomicrobiaceae",
          "Vibrionaceae",
          "Xanthomonadaceae",
          "unclassified",
          "unclassified",
          "unclassified",
          "unclassified",
          "unclassified",
          "unclassified",
          "unclassified",
          "unclassified",
          "unclassified",
          "unclassified",
          "unclassified",
          "unclassified",
          "unclassified",
          "unclassified",
          "unclassified",
          "unclassified",
          "unclassified",
          "unclassified",
          "unclassified",
          "unclassified",
          "unclassified",
          "unclassified",
          "unclassified",
          "unclassified",
          "unclassified",
          "unclassified",
          "unclassified",
          "unclassified",
          "unclassified",
          "unclassified",
          "unclassified",
          "unclassified",
          "unclassified",
          "unclassified",
          "unclassified",
          "unclassified",
          "unclassified",
          "unclassified",
          "unclassified",
          "unclassified",
          "unclassified",
          "unclassified",
          "unclassified",
          "unclassified",
          "unclassified",
          "unclassified",
          "unclassified",
          "unclassified",
          "unclassified",
          "unclassified",
          "unclassified",
          "unclassified",
          "unclassified",
          "Acidimicrobiales",
          "Actinomycetales",
          "Aeromonadales",
          "Alphaproteobacteria_incertae_sedis",
          "Alteromonadales",
          "Anaerolineales",
          "Bacillales",
          "Bacteroidales",
          "Bdellovibrionales",
          "Bifidobacteriales",
          "Blastocatella",
          "Burkholderiales",
          "Caldilineales",
          "Campylobacterales",
          "Cardiobacteriales",
          "Caulobacterales",
          "Chloroflexales",
          "Chromatiales",
          "Clostridiales",
          "Coriobacteriales",
          "Cytophagales",
          "Deinococcales",
          "Desulfobacterales",
          "Enterobacteriales",
          "Erysipelotrichales",
          "Euzebyales",
          "Flavobacteriales",
          "Fusobacteriales",
          "Gaiellales",
          "Gemmatimonadales",
          "Gp1",
          "Gp16",
          "Gp17",
          "Gp2",
          "Gp3",
          "Gp4",
          "Gp6",
          "Gp7",
          "Herpetosiphonales",
          "Hydrogenophilales",
          "Lactobacillales",
          "Legionellales",
          "Methylococcales",
          "Methylophilales",
          "Myxococcales",
          "Neisseriales",
          "Oceanospirillales",
          "Ohtaekwangia",
          "Opitutales",
          "Pasteurellales",
          "Planctomycetales",
          "Pseudomonadales",
          "Rhizobiales",
          "Rhodobacterales",
          "Rhodocyclales",
          "Rhodospirillales",
          "Rickettsiales",
          "Rubrobacterales",
          "Selenomonadales",
          "Solirubrobacterales",
          "Sphingobacteriales",
          "Sphingomonadales",
          "Spirochaetales",
          "Synergistales",
          "Thermales",
          "Verrucomicrobiales",
          "Vibrionales",
          "Xanthomonadales",
          "unclassified",
          "unclassified",
          "unclassified",
          "unclassified",
          "unclassified",
          "unclassified",
          "unclassified",
          "unclassified",
          "unclassified",
          "unclassified",
          "unclassified",
          "unclassified",
          "unclassified",
          "unclassified",
          "unclassified",
          "unclassified",
          "unclassified",
          "unclassified",
          "unclassified",
          "unclassified",
          "unclassified",
          "unclassified",
          "unclassified",
          "Acidobacteria_Gp1",
          "Acidobacteria_Gp16",
          "Acidobacteria_Gp17",
          "Acidobacteria_Gp2",
          "Acidobacteria_Gp3",
          "Acidobacteria_Gp4",
          "Acidobacteria_Gp6",
          "Acidobacteria_Gp7",
          "Actinobacteria",
          "Alphaproteobacteria",
          "Anaerolineae",
          "Armatimonadetes_gp4",
          "Armatimonadetes_gp5",
          "Bacilli",
          "Bacteroidetes_incertae_sedis",
          "Bacteroidia",
          "Betaproteobacteria",
          "Caldilineae",
          "Chloroflexia",
          "Clostridia",
          "Cytophagia",
          "Deinococci",
          "Deltaproteobacteria",
          "Epsilonproteobacteria",
          "Erysipelotrichia",
          "Flavobacteriia",
          "Fusobacteriia",
          "Gammaproteobacteria",
          "Gemmatimonadetes",
          "Negativicutes",
          "Opitutae",
          "Planctomycetia",
          "Sphingobacteriia",
          "Spirochaetia",
          "Synergistia",
          "Verrucomicrobiae",
          "unclassified",
          "unclassified",
          "unclassified",
          "unclassified",
          "unclassified",
          "unclassified",
          "unclassified",
          "unclassified",
          "unclassified",
          "unclassified",
          "unclassified",
          "unclassified",
          "Acidobacteria",
          "Actinobacteria",
          "Armatimonadetes",
          "Bacteroidetes",
          "Candidatus_Saccharibacteria",
          "Chloroflexi",
          "Deinococcus-Thermus",
          "Firmicutes",
          "Fusobacteria",
          "Gemmatimonadetes",
          "Microgenomates",
          "Parcubacteria",
          "Planctomycetes",
          "Proteobacteria",
          "Spirochaetes",
          "Synergistetes",
          "Verrucomicrobia",
          "unclassified",
          "Bacteria"
         ],
         "name": "",
         "parents": [
          "Bacteria/Firmicutes/Bacilli/Lactobacillales/Aerococcaceae",
          "Bacteria/Proteobacteria/Alphaproteobacteria/Rhodospirillales/Acetobacteraceae",
          "Bacteria/Firmicutes/Clostridia/Clostridiales/Eubacteriaceae",
          "Bacteria/Proteobacteria/Betaproteobacteria/Burkholderiales/Alcaligenaceae",
          "Bacteria/Proteobacteria/Betaproteobacteria/Burkholderiales/Comamonadaceae",
          "Bacteria/Proteobacteria/Gammaproteobacteria/Pseudomonadales/Moraxellaceae",
          "Bacteria/Actinobacteria/Actinobacteria/Actinomycetales/Actinomycetaceae",
          "Bacteria/Actinobacteria/Actinobacteria/Actinomycetales/Actinomycetaceae",
          "Bacteria/Actinobacteria/Actinobacteria/Actinomycetales/Pseudonocardiaceae",
          "Bacteria/Actinobacteria/Actinobacteria/Actinomycetales/Micromonosporaceae",
          "Bacteria/Bacteroidetes/Cytophagia/Cytophagales/Cytophagaceae",
          "Bacteria/Firmicutes/Bacilli/Lactobacillales/Aerococcaceae",
          "Bacteria/Actinobacteria/Actinobacteria/Actinomycetales/Nocardioidaceae",
          "Bacteria/Proteobacteria/Gammaproteobacteria/Aeromonadales/Aeromonadaceae",
          "Bacteria/Proteobacteria/Alphaproteobacteria/Rhizobiales/Bradyrhizobiaceae",
          "Bacteria/Proteobacteria/Alphaproteobacteria/Rhodobacterales/Rhodobacteraceae",
          "Bacteria/Proteobacteria/Gammaproteobacteria/Pasteurellales/Pasteurellaceae",
          "Bacteria/Actinobacteria/Actinobacteria/Actinomycetales/Microbacteriaceae",
          "Bacteria/Actinobacteria/Actinobacteria/Actinomycetales/Microbacteriaceae",
          "Bacteria/Actinobacteria/Actinobacteria/Actinomycetales/Microbacteriaceae",
          "Bacteria/Proteobacteria/Betaproteobacteria/Burkholderiales/Comamonadaceae",
          "Bacteria/Bacteroidetes/Bacteroidia/Bacteroidales/Rikenellaceae",
          "Bacteria/Proteobacteria/Gammaproteobacteria/Pseudomonadales/Moraxellaceae",
          "Bacteria/Firmicutes/Erysipelotrichia/Erysipelotrichales/Erysipelotrichaceae",
          "Bacteria/Bacteroidetes/Bacteroidia/Bacteroidales/Prevotellaceae",
          "Bacteria/Proteobacteria/Alphaproteobacteria/Sphingomonadales/Erythrobacteraceae",
          "Bacteria/Proteobacteria/Alphaproteobacteria/Rhodobacterales/Rhodobacteraceae",
          "Bacteria/Actinobacteria/Actinobacteria/Actinomycetales/Microbacteriaceae",
          "Bacteria/Firmicutes/Clostridia/Clostridiales/Clostridiales_Incertae_Sedis_XI",
          "Bacteria/Firmicutes/Clostridia/Clostridiales/Clostridiales_Incertae_Sedis_XIII",
          "Bacteria/Firmicutes/Bacilli/Bacillales/Bacillaceae_1",
          "Bacteria/Proteobacteria/Betaproteobacteria/Burkholderiales/Burkholderiales_incertae_sedis",
          "Bacteria/Proteobacteria/Gammaproteobacteria/Legionellales/Coxiellaceae",
          "Bacteria/Proteobacteria/Betaproteobacteria/Burkholderiales/Burkholderiales_incertae_sedis",
          "Bacteria/Proteobacteria/Epsilonproteobacteria/Campylobacterales/Campylobacteraceae",
          "Bacteria/Bacteroidetes/Sphingobacteriia/Sphingobacteriales/Sphingobacteriaceae",
          "Bacteria/Actinobacteria/Actinobacteria/Actinomycetales/Intrasporangiaceae",
          "Bacteria/Actinobacteria/Actinobacteria/Actinomycetales/Micrococcaceae",
          "Bacteria/Actinobacteria/Actinobacteria/Coriobacteriales/Coriobacteriaceae",
          "Bacteria/Actinobacteria/Actinobacteria/Actinomycetales/Micromonosporaceae",
          "Bacteria/Proteobacteria/Alphaproteobacteria/Caulobacterales/Caulobacteraceae",
          "Bacteria/Actinobacteria/Actinobacteria/Coriobacteriales/Coriobacteriaceae",
          "Bacteria/Firmicutes/Bacilli/Lactobacillales/Carnobacteriaceae",
          "Bacteria/Proteobacteria/Alphaproteobacteria/Rhizobiales/Aurantimonadaceae",
          "Bacteria/Actinobacteria/Actinobacteria/Actinomycetales/Propionibacteriaceae",
          "Bacteria/Proteobacteria/Betaproteobacteria/Burkholderiales/Alcaligenaceae",
          "Bacteria/Proteobacteria/Betaproteobacteria/Rhodocyclales/Rhodocyclaceae",
          "Bacteria/Proteobacteria/Alphaproteobacteria/Rhodospirillales/Rhodospirillaceae",
          "Bacteria/Firmicutes/Bacilli/Bacillales/Bacillaceae_1",
          "Bacteria/Bacteroidetes/Bacteroidia/Bacteroidales/Bacteroidaceae",
          "Bacteria/Bacteroidetes/Bacteroidia/Bacteroidales/Porphyromonadaceae",
          "Bacteria/Proteobacteria/Deltaproteobacteria/Bdellovibrionales/Bdellovibrionaceae",
          "Bacteria/Proteobacteria/Alphaproteobacteria/Rhodospirillales/Acetobacteraceae",
          "Bacteria/Actinobacteria/Actinobacteria/Bifidobacteriales/Bifidobacteriaceae",
          "Bacteria/Proteobacteria/Alphaproteobacteria/Rhizobiales/Hyphomicrobiaceae",
          "Bacteria/Actinobacteria/Actinobacteria/Actinomycetales/Geodermatophilaceae",
          "Bacteria/Firmicutes/Clostridia/Clostridiales/Lachnospiraceae",
          "Bacteria/Proteobacteria/Alphaproteobacteria/Rhizobiales/Bradyrhizobiaceae",
          "Bacteria/Actinobacteria/Actinobacteria/Actinomycetales/Dermabacteraceae",
          "Bacteria/Actinobacteria/Actinobacteria/Actinomycetales/Brevibacteriaceae",
          "Bacteria/Proteobacteria/Alphaproteobacteria/Caulobacterales/Caulobacteraceae",
          "Bacteria/Proteobacteria/Gammaproteobacteria/Enterobacteriales/Enterobacteriaceae",
          "Bacteria/Proteobacteria/Betaproteobacteria/Burkholderiales/Burkholderiaceae",
          "Bacteria/Firmicutes/Clostridia/Clostridiales/Ruminococcaceae",
          "Bacteria/Bacteroidetes/Bacteroidia/Bacteroidales/Porphyromonadaceae",
          "Bacteria/Proteobacteria/Epsilonproteobacteria/Campylobacterales/Campylobacteraceae",
          "Bacteria/Bacteroidetes/Flavobacteriia/Flavobacteriales/Flavobacteriaceae",
          "Bacteria/Proteobacteria/Gammaproteobacteria/Cardiobacteriales/Cardiobacteriaceae",
          "Bacteria/Firmicutes/Bacilli/Lactobacillales/Carnobacteriaceae",
          "Bacteria/Actinobacteria/Actinobacteria/Actinomycetales/Micromonosporaceae",
          "Bacteria/Firmicutes/Clostridia/Clostridiales/Lachnospiraceae",
          "Bacteria/Proteobacteria/Alphaproteobacteria/Caulobacterales/Caulobacteraceae",
          "Bacteria/Actinobacteria/Actinobacteria/Actinomycetales/Cellulomonadaceae",
          "Bacteria/Proteobacteria/Gammaproteobacteria/Pseudomonadales/Pseudomonadaceae",
          "Bacteria/Bacteroidetes/Cytophagia/Cytophagales/Flammeovirgaceae",
          "Bacteria/Proteobacteria/Alphaproteobacteria/Rhizobiales/Phyllobacteriaceae",
          "Bacteria/Proteobacteria/Alphaproteobacteria/Rhizobiales/Beijerinckiaceae",
          "Bacteria/Bacteroidetes/Sphingobacteriia/Sphingobacteriales/Chitinophagaceae",
          "Bacteria/Bacteroidetes/Flavobacteriia/Flavobacteriales/Flavobacteriaceae",
          "Bacteria/Firmicutes/Bacilli/Bacillales/Planococcaceae",
          "Bacteria/Proteobacteria/Gammaproteobacteria/Enterobacteriales/Enterobacteriaceae",
          "Bacteria/Actinobacteria/Actinobacteria/Actinomycetales/Microbacteriaceae",
          "Bacteria/Bacteroidetes/Flavobacteriia/Flavobacteriales/Flavobacteriaceae",
          "Bacteria/Firmicutes/Clostridia/Clostridiales/Peptostreptococcaceae",
          "Bacteria/Firmicutes/Clostridia/Clostridiales/Lachnospiraceae",
          "Bacteria/Firmicutes/Clostridia/Clostridiales/Clostridiaceae_1",
          "Bacteria/Actinobacteria/Actinobacteria/Coriobacteriales/Coriobacteriaceae",
          "Bacteria/Proteobacteria/Betaproteobacteria/Burkholderiales/Comamonadaceae",
          "Bacteria/Actinobacteria/Actinobacteria/Actinomycetales/Corynebacteriaceae",
          "Bacteria/Proteobacteria/Alphaproteobacteria/Sphingomonadales/Erythrobacteraceae",
          "Bacteria/Bacteroidetes/Flavobacteriia/Flavobacteriales/Flavobacteriaceae",
          "Bacteria/Proteobacteria/Betaproteobacteria/Burkholderiales/Burkholderiaceae",
          "Bacteria/Actinobacteria/Actinobacteria/Actinomycetales/Microbacteriaceae",
          "Bacteria/Bacteroidetes/Cytophagia/Cytophagales/Cytophagaceae",
          "Bacteria/Proteobacteria/Betaproteobacteria/Rhodocyclales/Rhodocyclaceae",
          "Bacteria/Proteobacteria/Alphaproteobacteria/Rhodospirillales/Rhodospirillaceae",
          "Bacteria/Deinococcus-Thermus/Deinococci/Deinococcales/Deinococcaceae",
          "Bacteria/Proteobacteria/Betaproteobacteria/Burkholderiales/Comamonadaceae",
          "Bacteria/Actinobacteria/Actinobacteria/Actinomycetales/Demequinaceae",
          "Bacteria/Actinobacteria/Actinobacteria/Actinomycetales/Dermabacteraceae",
          "Bacteria/Actinobacteria/Actinobacteria/Actinomycetales/Dermacoccaceae",
          "Bacteria/Firmicutes/Bacilli/Lactobacillales/Carnobacteriaceae",
          "Bacteria/Proteobacteria/Deltaproteobacteria/Desulfobacterales/Desulfobulbaceae",
          "Bacteria/Proteobacteria/Alphaproteobacteria/Rhizobiales/Hyphomicrobiaceae",
          "Bacteria/Firmicutes/Negativicutes/Selenomonadales/Veillonellaceae",
          "Bacteria/Proteobacteria/Betaproteobacteria/Burkholderiales/Comamonadaceae",
          "Bacteria/Actinobacteria/Actinobacteria/Actinomycetales/Dietziaceae",
          "Bacteria/Proteobacteria/Gammaproteobacteria/Xanthomonadales/Xanthomonadaceae",
          "Bacteria/Firmicutes/Bacilli/Lactobacillales/Carnobacteriaceae",
          "Bacteria/Proteobacteria/Alphaproteobacteria/Rhodospirillales/Rhodospirillaceae",
          "Bacteria/Firmicutes/Clostridia/Clostridiales/Lachnospiraceae",
          "Bacteria/Proteobacteria/Betaproteobacteria/Burkholderiales/Oxalobacteraceae",
          "Bacteria/Bacteroidetes/Cytophagia/Cytophagales/Cytophagaceae",
          "Bacteria/Proteobacteria/Gammaproteobacteria/Xanthomonadales/Xanthomonadaceae",
          "Bacteria/Actinobacteria/Actinobacteria/Coriobacteriales/Coriobacteriaceae",
          "Bacteria/Proteobacteria/Betaproteobacteria/Neisseriales/Neisseriaceae",
          "Bacteria/Bacteroidetes/Cytophagia/Cytophagales/Cytophagaceae",
          "Bacteria/Proteobacteria/Alphaproteobacteria/Rhodospirillales/Acetobacteraceae",
          "Bacteria/Proteobacteria/Gammaproteobacteria/Pseudomonadales/Moraxellaceae",
          "Bacteria/Proteobacteria/Alphaproteobacteria/Rhizobiales/Rhizobiaceae",
          "Bacteria/Proteobacteria/Gammaproteobacteria/Enterobacteriales/Enterobacteriaceae",
          "Bacteria/Firmicutes/Bacilli/Lactobacillales/Enterococcaceae",
          "Bacteria/Bacteroidetes/Flavobacteriia/Flavobacteriales/Flavobacteriaceae",
          "Bacteria/Firmicutes/Bacilli/Lactobacillales/Aerococcaceae",
          "Bacteria/Firmicutes/Clostridia/Clostridiales/Eubacteriaceae",
          "Bacteria/Actinobacteria/Actinobacteria/Euzebyales/Euzebyaceae",
          "Bacteria/Firmicutes/Bacilli/Bacillales/Bacillales_Incertae_Sedis_XII",
          "Bacteria/Firmicutes/Bacilli/Lactobacillales/Aerococcaceae",
          "Bacteria/Firmicutes/Clostridia/Clostridiales/Ruminococcaceae",
          "Bacteria/Bacteroidetes/Sphingobacteriia/Sphingobacteriales/Chitinophagaceae",
          "Bacteria/Firmicutes/Clostridia/Clostridiales/Clostridiales_Incertae_Sedis_XI",
          "Bacteria/Bacteroidetes/Sphingobacteriia/Sphingobacteriales/Chitinophagaceae",
          "Bacteria/Bacteroidetes/Sphingobacteriia/Sphingobacteriales/Chitinophagaceae",
          "Bacteria/Bacteroidetes/Flavobacteriia/Flavobacteriales/Flavobacteriaceae",
          "Bacteria/Bacteroidetes/Cytophagia/Cytophagales/Cytophagaceae",
          "Bacteria/Bacteroidetes/Flavobacteriia/Flavobacteriales/Cryomorphaceae",
          "Bacteria/Actinobacteria/Actinobacteria/Actinomycetales/Propionibacteriaceae",
          "Bacteria/Actinobacteria/Actinobacteria/Actinomycetales/Microbacteriaceae",
          "Bacteria/Fusobacteria/Fusobacteriia/Fusobacteriales/Fusobacteriaceae",
          "Bacteria/Actinobacteria/Actinobacteria/Gaiellales/Gaiellaceae",
          "Bacteria/Actinobacteria/Actinobacteria/Bifidobacteriales/Bifidobacteriaceae",
          "Bacteria/Firmicutes/Bacilli/Bacillales/Bacillales_Incertae_Sedis_XI",
          "Bacteria/Gemmatimonadetes/Gemmatimonadetes/Gemmatimonadales/Gemmatimonadaceae",
          "Bacteria/Proteobacteria/Alphaproteobacteria/Rhodobacterales/Rhodobacteraceae",
          "Bacteria/Actinobacteria/Actinobacteria/Actinomycetales/Geodermatophilaceae",
          "Bacteria/Actinobacteria/Actinobacteria/Actinomycetales/Bogoriellaceae",
          "Bacteria/Bacteroidetes/Flavobacteriia/Flavobacteriales/Flavobacteriaceae",
          "Bacteria/Actinobacteria/Actinobacteria/Actinomycetales/Nocardiaceae",
          "Bacteria/Actinobacteria/Actinobacteria/Coriobacteriales/Coriobacteriaceae",
          "Bacteria/Firmicutes/Bacilli/Lactobacillales/Carnobacteriaceae",
          "Bacteria/Bacteroidetes/Sphingobacteriia/Sphingobacteriales/Saprospiraceae",
          "Bacteria/Verrucomicrobia/Verrucomicrobiae/Verrucomicrobiales/Verrucomicrobiaceae",
          "Bacteria/Proteobacteria/Gammaproteobacteria/Oceanospirillales/Halomonadaceae",
          "Bacteria/Proteobacteria/Epsilonproteobacteria/Campylobacterales/Helicobacteraceae",
          "Bacteria/Actinobacteria/Actinobacteria/Actinomycetales/Microbacteriaceae",
          "Bacteria/Chloroflexi/Chloroflexia/Herpetosiphonales/Herpetosiphonaceae",
          "Bacteria/Proteobacteria/Gammaproteobacteria/Xanthomonadales/Sinobacteraceae",
          "Bacteria/Proteobacteria/Betaproteobacteria/Burkholderiales/Comamonadaceae",
          "Bacteria/Proteobacteria/Betaproteobacteria/Hydrogenophilales/Hydrogenophilaceae",
          "Bacteria/Bacteroidetes/Cytophagia/Cytophagales/Cytophagaceae",
          "Bacteria/Proteobacteria/Alphaproteobacteria/Rhizobiales/Hyphomicrobiaceae",
          "Bacteria/Actinobacteria/Actinobacteria/Acidimicrobiales/Iamiaceae",
          "Bacteria/Actinobacteria/Actinobacteria/Acidimicrobiales/Acidimicrobiaceae",
          "Bacteria/Actinobacteria/Actinobacteria/Actinomycetales/Intrasporangiaceae",
          "Bacteria/Firmicutes/Bacilli/Bacillales/Staphylococcaceae",
          "Bacteria/Synergistetes/Synergistia/Synergistales/Synergistaceae",
          "Bacteria/Proteobacteria/Alphaproteobacteria/Rhizobiales/Rhizobiaceae",
          "Bacteria/Actinobacteria/Actinobacteria/Actinomycetales/Kineosporiaceae",
          "Bacteria/Actinobacteria/Actinobacteria/Actinomycetales/Kineosporiaceae",
          "Bacteria/Proteobacteria/Betaproteobacteria/Neisseriales/Neisseriaceae",
          "Bacteria/Actinobacteria/Actinobacteria/Actinomycetales/Intrasporangiaceae",
          "Bacteria/Actinobacteria/Actinobacteria/Actinomycetales/Micrococcaceae",
          "Bacteria/Actinobacteria/Actinobacteria/Actinomycetales/Nocardioidaceae",
          "Bacteria/Actinobacteria/Actinobacteria/Actinomycetales/Dermacoccaceae",
          "Bacteria/Firmicutes/Clostridia/Clostridiales/Lachnospiraceae",
          "Bacteria/Bacteroidetes/Sphingobacteriia/Sphingobacteriales/Chitinophagaceae",
          "Bacteria/Firmicutes/Bacilli/Lactobacillales/Lactobacillaceae",
          "Bacteria/Firmicutes/Bacilli/Lactobacillales/Streptococcaceae",
          "Bacteria/Bacteroidetes/Cytophagia/Cytophagales/Cytophagaceae",
          "Bacteria/Proteobacteria/Gammaproteobacteria/Legionellales/Legionellaceae",
          "Bacteria/Actinobacteria/Actinobacteria/Actinomycetales/Microbacteriaceae",
          "Bacteria/Fusobacteria/Fusobacteriia/Fusobacteriales/Leptotrichiaceae",
          "Bacteria/Actinobacteria/Actinobacteria/Actinomycetales/Microbacteriaceae",
          "Bacteria/Firmicutes/Bacilli/Lactobacillales/Leuconostocaceae",
          "Bacteria/Proteobacteria/Betaproteobacteria/Burkholderiales/Burkholderiaceae",
          "Bacteria/Proteobacteria/Betaproteobacteria/Burkholderiales/Comamonadaceae",
          "Bacteria/Actinobacteria/Actinobacteria/Actinomycetales/Micromonosporaceae",
          "Bacteria/Actinobacteria/Actinobacteria/Actinomycetales/Propionibacteriaceae",
          "Bacteria/Verrucomicrobia/Verrucomicrobiae/Verrucomicrobiales/Verrucomicrobiaceae",
          "Bacteria/Proteobacteria/Gammaproteobacteria/Xanthomonadales/Xanthomonadaceae",
          "Bacteria/Firmicutes/Bacilli/Bacillales/Staphylococcaceae",
          "Bacteria/Actinobacteria/Actinobacteria/Actinomycetales/Nocardioidaceae",
          "Bacteria/Proteobacteria/Betaproteobacteria/Burkholderiales/Oxalobacteraceae",
          "Bacteria/Firmicutes/Negativicutes/Selenomonadales/Veillonellaceae",
          "Bacteria/Proteobacteria/Alphaproteobacteria/Rhizobiales/Phyllobacteriaceae",
          "Bacteria/Proteobacteria/Betaproteobacteria/Methylophilales/Methylophilaceae",
          "Bacteria/Proteobacteria/Alphaproteobacteria/Rhizobiales/Methylobacteriaceae",
          "Bacteria/Proteobacteria/Gammaproteobacteria/Methylococcales/Methylococcaceae",
          "Bacteria/Proteobacteria/Alphaproteobacteria/Rhizobiales/Methylocystaceae",
          "Bacteria/Proteobacteria/Betaproteobacteria/Methylophilales/Methylophilaceae",
          "Bacteria/Proteobacteria/Betaproteobacteria/Methylophilales/Methylophilaceae",
          "Bacteria/Proteobacteria/Betaproteobacteria/Rhodocyclales/Rhodocyclaceae",
          "Bacteria/Proteobacteria/Betaproteobacteria/Methylophilales/Methylophilaceae",
          "Bacteria/Actinobacteria/Actinobacteria/Actinomycetales/Microbacteriaceae",
          "Bacteria/Actinobacteria/Actinobacteria/Actinomycetales/Micrococcaceae",
          "Bacteria/Actinobacteria/Actinobacteria/Actinomycetales/Propionibacteriaceae",
          "Bacteria/Actinobacteria/Actinobacteria/Actinomycetales/Micromonosporaceae",
          "Bacteria/Actinobacteria/Actinobacteria/Actinomycetales/Propionibacteriaceae",
          "Bacteria/Proteobacteria/Alphaproteobacteria/Rhizobiales/Methylobacteriaceae",
          "Bacteria/Actinobacteria/Actinobacteria/Actinomycetales/Actinomycetaceae",
          "Bacteria/Actinobacteria/Actinobacteria/Actinomycetales/Geodermatophilaceae",
          "Bacteria/Firmicutes/Clostridia/Clostridiales/Clostridiales_Incertae_Sedis_XIII",
          "Bacteria/Proteobacteria/Gammaproteobacteria/Pseudomonadales/Moraxellaceae",
          "Bacteria/Bacteroidetes/Sphingobacteriia/Sphingobacteriales/Sphingobacteriaceae",
          "Bacteria/Firmicutes/Clostridia/Clostridiales/Incertae_Sedis_XI",
          "Bacteria/Actinobacteria/Actinobacteria/Actinomycetales/Mycobacteriaceae",
          "Bacteria/Actinobacteria/Actinobacteria/Actinomycetales/Nakamurellaceae",
          "Bacteria/Proteobacteria/Betaproteobacteria/Burkholderiales/Oxalobacteraceae",
          "Bacteria/Firmicutes/Negativicutes/Selenomonadales/Veillonellaceae",
          "Bacteria/Proteobacteria/Betaproteobacteria/Neisseriales/Neisseriaceae",
          "Bacteria/Actinobacteria/Actinobacteria/Actinomycetales/Micrococcaceae",
          "Bacteria/Bacteroidetes/Sphingobacteriia/Sphingobacteriales/Chitinophagaceae",
          "Bacteria/Actinobacteria/Actinobacteria/Actinomycetales/Nocardioidaceae",
          "Bacteria/Proteobacteria/Betaproteobacteria/Burkholderiales/Oxalobacteraceae",
          "Bacteria/Proteobacteria/Alphaproteobacteria/Rhodospirillales/Rhodospirillaceae",
          "Bacteria/Proteobacteria/Alphaproteobacteria/Sphingomonadales/Sphingomonadaceae",
          "Bacteria/Bacteroidetes/Sphingobacteriia/Sphingobacteriales/Sphingobacteriaceae",
          "Bacteria/Proteobacteria/Alphaproteobacteria/Rhizobiales/Brucellaceae",
          "Bacteria/Actinobacteria/Actinobacteria/Actinomycetales/Cellulomonadaceae",
          "Bacteria/Firmicutes/Clostridia/Clostridiales/Lachnospiraceae",
          "Bacteria/Actinobacteria/Actinobacteria/Actinomycetales/Intrasporangiaceae",
          "Bacteria/Actinobacteria/Actinobacteria/Actinomycetales/Intrasporangiaceae",
          "Bacteria/Actinobacteria/Actinobacteria/Actinomycetales/Intrasporangiaceae",
          "Bacteria/Firmicutes/Clostridia/Clostridiales/Ruminococcaceae",
          "Bacteria/Firmicutes/Bacilli/Bacillales/Paenibacillaceae_1",
          "Bacteria/Firmicutes/Bacilli/Bacillales/Planococcaceae",
          "Bacteria/Proteobacteria/Alphaproteobacteria/Rhodobacterales/Rhodobacteraceae",
          "Bacteria/Bacteroidetes/Bacteroidia/Bacteroidales/Porphyromonadaceae",
          "Bacteria/Proteobacteria/Gammaproteobacteria/Enterobacteriales/Enterobacteriaceae",
          "Bacteria/Bacteroidetes/Bacteroidia/Bacteroidales/Porphyromonadaceae",
          "Bacteria/Proteobacteria/Alphaproteobacteria/Rhodobacterales/Rhodobacteraceae",
          "Bacteria/Bacteroidetes/Sphingobacteriia/Sphingobacteriales/Chitinophagaceae",
          "Bacteria/Proteobacteria/Betaproteobacteria/Burkholderiales/Sutterellaceae",
          "Bacteria/Firmicutes/Clostridia/Clostridiales/Clostridiales_Incertae_Sedis_XI",
          "Bacteria/Firmicutes/Bacilli/Lactobacillales/Lactobacillaceae",
          "Bacteria/Bacteroidetes/Sphingobacteriia/Sphingobacteriales/Sphingobacteriaceae",
          "Bacteria/Proteobacteria/Alphaproteobacteria/Rhizobiales/Hyphomicrobiaceae",
          "Bacteria/Proteobacteria/Betaproteobacteria/Burkholderiales/Comamonadaceae",
          "Bacteria/Firmicutes/Clostridia/Clostridiales/Clostridiales_Incertae_Sedis_XI",
          "Bacteria/Firmicutes/Clostridia/Clostridiales/Peptostreptococcaceae",
          "Bacteria/Proteobacteria/Deltaproteobacteria/Bdellovibrionales/Bacteriovoracaceae",
          "Bacteria/Bacteroidetes/Cytophagia/Cytophagales/Cytophagaceae",
          "Bacteria/Proteobacteria/Alphaproteobacteria/Caulobacterales/Caulobacteraceae",
          "Bacteria/Proteobacteria/Gammaproteobacteria/Vibrionales/Vibrionaceae",
          "Bacteria/Actinobacteria/Actinobacteria/Actinomycetales/Intrasporangiaceae",
          "Bacteria/Proteobacteria/Alphaproteobacteria/Rhizobiales/Phyllobacteriaceae",
          "Bacteria/Actinobacteria/Actinobacteria/Actinomycetales/Dermatophilaceae",
          "Bacteria/Bacteroidetes/Flavobacteriia/Flavobacteriales/Flavobacteriaceae",
          "Bacteria/Firmicutes/Bacilli/Bacillales/Planococcaceae",
          "Bacteria/Firmicutes/Bacilli/Bacillales/Planococcaceae",
          "Bacteria/Actinobacteria/Actinobacteria/Actinomycetales/Microbacteriaceae",
          "Bacteria/Proteobacteria/Betaproteobacteria/Burkholderiales/Comamonadaceae",
          "Bacteria/Proteobacteria/Betaproteobacteria/Burkholderiales/Burkholderiaceae",
          "Bacteria/Bacteroidetes/Cytophagia/Cytophagales/Cytophagaceae",
          "Bacteria/Proteobacteria/Alphaproteobacteria/Sphingomonadales/Erythrobacteraceae",
          "Bacteria/Bacteroidetes/Bacteroidia/Bacteroidales/Porphyromonadaceae",
          "Bacteria/Bacteroidetes/Bacteroidia/Bacteroidales/Prevotellaceae",
          "Bacteria/Actinobacteria/Actinobacteria/Actinomycetales/Propionibacteriaceae",
          "Bacteria/Actinobacteria/Actinobacteria/Actinomycetales/Propionibacteriaceae",
          "Bacteria/Proteobacteria/Betaproteobacteria/Rhodocyclales/Rhodocyclaceae",
          "Bacteria/Verrucomicrobia/Verrucomicrobiae/Verrucomicrobiales/Verrucomicrobiaceae",
          "Bacteria/Proteobacteria/Gammaproteobacteria/Enterobacteriales/Enterobacteriaceae",
          "Bacteria/Proteobacteria/Gammaproteobacteria/Alteromonadales/Pseudoalteromonadaceae",
          "Bacteria/Proteobacteria/Alphaproteobacteria/Rhizobiales/Brucellaceae",
          "Bacteria/Actinobacteria/Actinobacteria/Actinomycetales/Microbacteriaceae",
          "Bacteria/Firmicutes/Clostridia/Clostridiales/Ruminococcaceae",
          "Bacteria/Proteobacteria/Gammaproteobacteria/Pseudomonadales/Pseudomonadaceae",
          "Bacteria/Actinobacteria/Actinobacteria/Actinomycetales/Pseudonocardiaceae",
          "Bacteria/Proteobacteria/Betaproteobacteria/Burkholderiales/Comamonadaceae",
          "Bacteria/Proteobacteria/Gammaproteobacteria/Xanthomonadales/Xanthomonadaceae",
          "Bacteria/Proteobacteria/Gammaproteobacteria/Pseudomonadales/Moraxellaceae",
          "Bacteria/Proteobacteria/Betaproteobacteria/Burkholderiales/Burkholderiaceae",
          "Bacteria/Actinobacteria/Actinobacteria/Actinomycetales/Microbacteriaceae",
          "Bacteria/Proteobacteria/Gammaproteobacteria/Chromatiales/Chromatiaceae",
          "Bacteria/Proteobacteria/Gammaproteobacteria/Pseudomonadales/Pseudomonadaceae",
          "Bacteria/Proteobacteria/Alphaproteobacteria/Rhizobiales/Rhizobiaceae",
          "Bacteria/Proteobacteria/Alphaproteobacteria/Rhodobacterales/Rhodobacteraceae",
          "Bacteria/Actinobacteria/Actinobacteria/Actinomycetales/Nocardiaceae",
          "Bacteria/Bacteroidetes/Cytophagia/Cytophagales/Cytophagaceae",
          "Bacteria/Proteobacteria/Alphaproteobacteria/Rickettsiales/Rickettsiaceae",
          "Bacteria/Proteobacteria/Betaproteobacteria/Burkholderiales/Comamonadaceae",
          "Bacteria/Firmicutes/Clostridia/Clostridiales/Lachnospiraceae",
          "Bacteria/Verrucomicrobia/Verrucomicrobiae/Verrucomicrobiales/Verrucomicrobiaceae",
          "Bacteria/Proteobacteria/Alphaproteobacteria/Rhodospirillales/Acetobacteraceae",
          "Bacteria/Actinobacteria/Actinobacteria/Actinomycetales/Micrococcaceae",
          "Bacteria/Proteobacteria/Alphaproteobacteria/Rhodobacterales/Rhodobacteraceae",
          "Bacteria/Actinobacteria/Actinobacteria/Rubrobacterales/Rubrobacteraceae",
          "Bacteria/Bacteroidetes/Cytophagia/Cytophagales/Cytophagaceae",
          "Bacteria/Firmicutes/Clostridia/Clostridiales/Ruminococcaceae",
          "Bacteria/Firmicutes/Clostridia/Clostridiales/Lachnospiraceae",
          "Bacteria/Bacteroidetes/Cytophagia/Cytophagales/Cytophagaceae",
          "Bacteria/Actinobacteria/Actinobacteria/Actinomycetales/Pseudonocardiaceae",
          "Bacteria/Actinobacteria/Actinobacteria/Actinomycetales/Pseudonocardiaceae",
          "Bacteria/Bacteroidetes/Flavobacteriia/Flavobacteriales/Flavobacteriaceae",
          "Bacteria/Actinobacteria/Actinobacteria/Actinomycetales/Sanguibacteraceae",
          "Bacteria/Firmicutes/Clostridia/Clostridiales/Clostridiaceae_1",
          "Bacteria/Proteobacteria/Betaproteobacteria/Burkholderiales/Comamonadaceae",
          "Bacteria/Bacteroidetes/Sphingobacteriia/Sphingobacteriales/Chitinophagaceae",
          "Bacteria/Bacteroidetes/Sphingobacteriia/Sphingobacteriales/Chitinophagaceae",
          "Bacteria/Proteobacteria/Gammaproteobacteria/Alteromonadales/Shewanellaceae",
          "Bacteria/Proteobacteria/Betaproteobacteria/Rhodocyclales/Rhodocyclaceae",
          "Bacteria/Proteobacteria/Betaproteobacteria/Burkholderiales/Comamonadaceae",
          "Bacteria/Proteobacteria/Alphaproteobacteria/Rhodospirillales/Rhodospirillaceae",
          "Bacteria/Fusobacteria/Fusobacteriia/Fusobacteriales/Leptotrichiaceae",
          "Bacteria/Actinobacteria/Actinobacteria/Solirubrobacterales/Solirubrobacteraceae",
          "Bacteria/Firmicutes/Erysipelotrichia/Erysipelotrichales/Erysipelotrichaceae",
          "Bacteria/Bacteroidetes/Sphingobacteriia/Sphingobacteriales/Sphingobacteriaceae",
          "Bacteria/Proteobacteria/Alphaproteobacteria/Sphingomonadales/Sphingomonadaceae",
          "Bacteria/Proteobacteria/Alphaproteobacteria/Sphingomonadales/Sphingomonadaceae",
          "Bacteria/Proteobacteria/Alphaproteobacteria/Sphingomonadales/Sphingomonadaceae",
          "Bacteria/Proteobacteria/Alphaproteobacteria/Sphingomonadales/Sphingomonadaceae",
          "Bacteria/Proteobacteria/Alphaproteobacteria/Sphingomonadales/Sphingomonadaceae",
          "Bacteria/Bacteroidetes/Cytophagia/Cytophagales/Cytophagaceae",
          "Bacteria/Firmicutes/Clostridia/Clostridiales/Peptostreptococcaceae",
          "Bacteria/Firmicutes/Bacilli/Bacillales/Planococcaceae",
          "Bacteria/Firmicutes/Bacilli/Bacillales/Staphylococcaceae",
          "Bacteria/Proteobacteria/Alphaproteobacteria/Rhodospirillales/Acetobacteraceae",
          "Bacteria/Proteobacteria/Gammaproteobacteria/Xanthomonadales/Xanthomonadaceae",
          "Bacteria/Proteobacteria/Gammaproteobacteria/Xanthomonadales/Sinobacteraceae",
          "Bacteria/Firmicutes/Bacilli/Lactobacillales/Streptococcaceae",
          "Bacteria/Actinobacteria/Actinobacteria/Actinomycetales/Streptomycetaceae",
          "Bacteria/Firmicutes/Clostridia/Clostridiales/Ruminococcaceae",
          "Bacteria/Actinobacteria/Actinobacteria/Actinomycetales/Intrasporangiaceae",
          "Bacteria/Bacteroidetes/Sphingobacteriia/Sphingobacteriales/Chitinophagaceae",
          "Bacteria/Actinobacteria/Actinobacteria/Actinomycetales/Propionibacteriaceae",
          "Bacteria/Actinobacteria/Actinobacteria/Actinomycetales/Intrasporangiaceae",
          "Bacteria/Firmicutes/Bacilli/Bacillales/Paenibacillaceae_1",
          "Bacteria/Proteobacteria/Gammaproteobacteria/Xanthomonadales/Xanthomonadaceae",
          "Bacteria/Deinococcus-Thermus/Deinococci/Thermales/Thermaceae",
          "Bacteria/Proteobacteria/Gammaproteobacteria/Aeromonadales/Aeromonadaceae",
          "Bacteria/Spirochaetes/Spirochaetia/Spirochaetales/Spirochaetaceae",
          "Bacteria/Firmicutes/Bacilli/Lactobacillales/Carnobacteriaceae",
          "Bacteria/Deinococcus-Thermus/Deinococci/Deinococcales/Trueperaceae",
          "Bacteria/Actinobacteria/Actinobacteria/Actinomycetales/Actinomycetaceae",
          "Bacteria/Actinobacteria/Actinobacteria/Actinomycetales/Corynebacteriaceae",
          "Bacteria/Firmicutes/Erysipelotrichia/Erysipelotrichales/Erysipelotrichaceae",
          "Bacteria/Firmicutes/Bacilli/Lactobacillales/Enterococcaceae",
          "Bacteria/Actinobacteria/Actinobacteria/Actinomycetales/Actinomycetaceae",
          "Bacteria/Proteobacteria/Betaproteobacteria/Burkholderiales/Comamonadaceae",
          "Bacteria/Firmicutes/Negativicutes/Selenomonadales/Veillonellaceae",
          "Bacteria/Proteobacteria/Gammaproteobacteria/Vibrionales/Vibrionaceae",
          "Bacteria/Bacteroidetes/Flavobacteriia/Flavobacteriales/Flavobacteriaceae",
          "Bacteria/Actinobacteria/Actinobacteria/Actinomycetales/Nocardiaceae",
          "Bacteria/Proteobacteria/Gammaproteobacteria/Xanthomonadales/Xanthomonadaceae",
          "Bacteria/Actinobacteria/Actinobacteria/Actinomycetales/Micrococcaceae",
          "Bacteria/Actinobacteria/Actinobacteria/Actinomycetales/Microbacteriaceae",
          "Bacteria/Proteobacteria/Alphaproteobacteria/Rhodospirillales/Acetobacteraceae",
          "Bacteria/Actinobacteria/Actinobacteria/Actinomycetales/Actinomycetaceae",
          "Bacteria/Firmicutes/Bacilli/Lactobacillales/Aerococcaceae",
          "Bacteria/Proteobacteria/Betaproteobacteria/Burkholderiales/Alcaligenaceae",
          "Bacteria/Chloroflexi/Anaerolineae/Anaerolineales/Anaerolineaceae",
          "Bacteria/Proteobacteria/Deltaproteobacteria/Bdellovibrionales/Bacteriovoracaceae",
          "Bacteria/Proteobacteria/Alphaproteobacteria/Rhizobiales/Beijerinckiaceae",
          "Bacteria/Actinobacteria/Actinobacteria/Actinomycetales/Beutenbergiaceae",
          "Bacteria/Proteobacteria/Alphaproteobacteria/Rhizobiales/Bradyrhizobiaceae",
          "Bacteria/Proteobacteria/Betaproteobacteria/Burkholderiales/Burkholderiales_incertae_sedis",
          "Bacteria/Chloroflexi/Caldilineae/Caldilineales/Caldilineaceae",
          "Bacteria/Proteobacteria/Alphaproteobacteria/Caulobacterales/Caulobacteraceae",
          "Bacteria/Actinobacteria/Actinobacteria/Actinomycetales/Cellulomonadaceae",
          "Bacteria/Bacteroidetes/Sphingobacteriia/Sphingobacteriales/Chitinophagaceae",
          "Bacteria/Chloroflexi/Chloroflexia/Chloroflexales/Chloroflexaceae",
          "Bacteria/Firmicutes/Clostridia/Clostridiales/Clostridiaceae_1",
          "Bacteria/Firmicutes/Clostridia/Clostridiales/Clostridiales_Incertae_Sedis_XI",
          "Bacteria/Firmicutes/Clostridia/Clostridiales/Clostridiales_Incertae_Sedis_XIII",
          "Bacteria/Proteobacteria/Betaproteobacteria/Burkholderiales/Comamonadaceae",
          "Bacteria/Actinobacteria/Actinobacteria/Coriobacteriales/Coriobacteriaceae",
          "Bacteria/Actinobacteria/Actinobacteria/Actinomycetales/Corynebacteriaceae",
          "Bacteria/Bacteroidetes/Cytophagia/Cytophagales/Cytophagaceae",
          "Bacteria/Deinococcus-Thermus/Deinococci/Deinococcales/Deinococcaceae",
          "Bacteria/Actinobacteria/Actinobacteria/Actinomycetales/Dermabacteraceae",
          "Bacteria/Proteobacteria/Gammaproteobacteria/Enterobacteriales/Enterobacteriaceae",
          "Bacteria/Firmicutes/Erysipelotrichia/Erysipelotrichales/Erysipelotrichaceae",
          "Bacteria/Proteobacteria/Alphaproteobacteria/Sphingomonadales/Erythrobacteraceae",
          "Bacteria/Bacteroidetes/Flavobacteriia/Flavobacteriales/Flavobacteriaceae",
          "Bacteria/Proteobacteria/Alphaproteobacteria/Alphaproteobacteria_incertae_sedis/Geminicoccus",
          "Bacteria/Actinobacteria/Actinobacteria/Actinomycetales/Geodermatophilaceae",
          "Bacteria/Proteobacteria/Betaproteobacteria/Hydrogenophilales/Hydrogenophilaceae",
          "Bacteria/Actinobacteria/Actinobacteria/Actinomycetales/Intrasporangiaceae",
          "Bacteria/Actinobacteria/Actinobacteria/Actinomycetales/Kineosporiaceae",
          "Bacteria/Firmicutes/Clostridia/Clostridiales/Lachnospiraceae",
          "Bacteria/Fusobacteria/Fusobacteriia/Fusobacteriales/Leptotrichiaceae",
          "Bacteria/Proteobacteria/Alphaproteobacteria/Rhizobiales/Methylocystaceae",
          "Bacteria/Actinobacteria/Actinobacteria/Actinomycetales/Microbacteriaceae",
          "Bacteria/Actinobacteria/Actinobacteria/Actinomycetales/Micrococcaceae",
          "Bacteria/Actinobacteria/Actinobacteria/Actinomycetales/Micromonosporaceae",
          "Bacteria/Proteobacteria/Gammaproteobacteria/Pseudomonadales/Moraxellaceae",
          "Bacteria/Proteobacteria/Betaproteobacteria/Neisseriales/Neisseriaceae",
          "Bacteria/Actinobacteria/Actinobacteria/Actinomycetales/Nocardiaceae",
          "Bacteria/Actinobacteria/Actinobacteria/Actinomycetales/Nocardioidaceae",
          "Bacteria/Verrucomicrobia/Opitutae/Opitutales/Opitutaceae",
          "Bacteria/Proteobacteria/Betaproteobacteria/Burkholderiales/Oxalobacteraceae",
          "Bacteria/Proteobacteria/Gammaproteobacteria/Pasteurellales/Pasteurellaceae",
          "Bacteria/Proteobacteria/Alphaproteobacteria/Rhizobiales/Phyllobacteriaceae",
          "Bacteria/Planctomycetes/Planctomycetia/Planctomycetales/Planctomycetaceae",
          "Bacteria/Firmicutes/Bacilli/Bacillales/Planococcaceae",
          "Bacteria/Bacteroidetes/Bacteroidia/Bacteroidales/Porphyromonadaceae",
          "Bacteria/Bacteroidetes/Bacteroidia/Bacteroidales/Prevotellaceae",
          "Bacteria/Actinobacteria/Actinobacteria/Actinomycetales/Propionibacteriaceae",
          "Bacteria/Proteobacteria/Gammaproteobacteria/Pseudomonadales/Pseudomonadaceae",
          "Bacteria/Actinobacteria/Actinobacteria/Actinomycetales/Pseudonocardiaceae",
          "Bacteria/Proteobacteria/Alphaproteobacteria/Rhodobacterales/Rhodobacteraceae",
          "Bacteria/Proteobacteria/Betaproteobacteria/Rhodocyclales/Rhodocyclaceae",
          "Bacteria/Proteobacteria/Alphaproteobacteria/Rhodospirillales/Rhodospirillaceae",
          "Bacteria/Firmicutes/Clostridia/Clostridiales/Ruminococcaceae",
          "Bacteria/Bacteroidetes/Sphingobacteriia/Sphingobacteriales/Saprospiraceae",
          "Bacteria/Bacteroidetes/Sphingobacteriia/Sphingobacteriales/Sphingobacteriaceae",
          "Bacteria/Proteobacteria/Alphaproteobacteria/Sphingomonadales/Sphingomonadaceae",
          "Bacteria/Firmicutes/Bacilli/Bacillales/Staphylococcaceae",
          "Bacteria/Actinobacteria/Actinobacteria/Actinomycetales/Streptomycetaceae",
          "Bacteria/Actinobacteria/Actinobacteria/Actinomycetales/Streptosporangiaceae",
          "Bacteria/Firmicutes/Negativicutes/Selenomonadales/Veillonellaceae",
          "Bacteria/Proteobacteria/Gammaproteobacteria/Xanthomonadales/Xanthomonadaceae",
          "Bacteria/Actinobacteria/Actinobacteria/Acidimicrobiales/unclassified",
          "Bacteria/Actinobacteria/Actinobacteria/Actinomycetales/unclassified",
          "Bacteria/Firmicutes/Bacilli/Bacillales/unclassified",
          "Bacteria/Bacteroidetes/Bacteroidia/Bacteroidales/unclassified",
          "Bacteria/Acidobacteria/Acidobacteria_Gp4/Blastocatella/unclassified",
          "Bacteria/Proteobacteria/Betaproteobacteria/Burkholderiales/unclassified",
          "Bacteria/Chloroflexi/Chloroflexia/Chloroflexales/unclassified",
          "Bacteria/Firmicutes/Clostridia/Clostridiales/unclassified",
          "Bacteria/Bacteroidetes/Cytophagia/Cytophagales/unclassified",
          "Bacteria/Deinococcus-Thermus/Deinococci/Deinococcales/unclassified",
          "Bacteria/Bacteroidetes/Flavobacteriia/Flavobacteriales/unclassified",
          "Bacteria/Fusobacteria/Fusobacteriia/Fusobacteriales/unclassified",
          "Bacteria/Acidobacteria/Acidobacteria_Gp1/Gp1/unclassified",
          "Bacteria/Acidobacteria/Acidobacteria_Gp16/Gp16/unclassified",
          "Bacteria/Acidobacteria/Acidobacteria_Gp17/Gp17/unclassified",
          "Bacteria/Acidobacteria/Acidobacteria_Gp2/Gp2/unclassified",
          "Bacteria/Acidobacteria/Acidobacteria_Gp3/Gp3/unclassified",
          "Bacteria/Acidobacteria/Acidobacteria_Gp4/Gp4/unclassified",
          "Bacteria/Acidobacteria/Acidobacteria_Gp6/Gp6/unclassified",
          "Bacteria/Acidobacteria/Acidobacteria_Gp7/Gp7/unclassified",
          "Bacteria/Firmicutes/Bacilli/Lactobacillales/unclassified",
          "Bacteria/Proteobacteria/Deltaproteobacteria/Myxococcales/unclassified",
          "Bacteria/Bacteroidetes/Bacteroidetes_incertae_sedis/Ohtaekwangia/unclassified",
          "Bacteria/Proteobacteria/Gammaproteobacteria/Pseudomonadales/unclassified",
          "Bacteria/Proteobacteria/Alphaproteobacteria/Rhizobiales/unclassified",
          "Bacteria/Proteobacteria/Alphaproteobacteria/Rhodospirillales/unclassified",
          "Bacteria/Actinobacteria/Actinobacteria/Solirubrobacterales/unclassified",
          "Bacteria/Bacteroidetes/Sphingobacteriia/Sphingobacteriales/unclassified",
          "Bacteria/Proteobacteria/Alphaproteobacteria/Sphingomonadales/unclassified",
          "Bacteria/Proteobacteria/Gammaproteobacteria/Xanthomonadales/unclassified",
          "Bacteria/Acidobacteria/Acidobacteria_Gp3/unclassified/unclassified",
          "Bacteria/Acidobacteria/Acidobacteria_Gp4/unclassified/unclassified",
          "Bacteria/Actinobacteria/Actinobacteria/unclassified/unclassified",
          "Bacteria/Proteobacteria/Alphaproteobacteria/unclassified/unclassified",
          "Bacteria/Armatimonadetes/Armatimonadetes_gp4/unclassified/unclassified",
          "Bacteria/Armatimonadetes/Armatimonadetes_gp5/unclassified/unclassified",
          "Bacteria/Firmicutes/Bacilli/unclassified/unclassified",
          "Bacteria/Proteobacteria/Betaproteobacteria/unclassified/unclassified",
          "Bacteria/Deinococcus-Thermus/Deinococci/unclassified/unclassified",
          "Bacteria/Proteobacteria/Deltaproteobacteria/unclassified/unclassified",
          "Bacteria/Proteobacteria/Gammaproteobacteria/unclassified/unclassified",
          "Bacteria/Acidobacteria/unclassified/unclassified/unclassified",
          "Bacteria/Actinobacteria/unclassified/unclassified/unclassified",
          "Bacteria/Armatimonadetes/unclassified/unclassified/unclassified",
          "Bacteria/Bacteroidetes/unclassified/unclassified/unclassified",
          "Bacteria/Candidatus_Saccharibacteria/unclassified/unclassified/unclassified",
          "Bacteria/Chloroflexi/unclassified/unclassified/unclassified",
          "Bacteria/Firmicutes/unclassified/unclassified/unclassified",
          "Bacteria/Microgenomates/unclassified/unclassified/unclassified",
          "Bacteria/Parcubacteria/unclassified/unclassified/unclassified",
          "Bacteria/Proteobacteria/unclassified/unclassified/unclassified",
          "Bacteria/Verrucomicrobia/unclassified/unclassified/unclassified",
          "Bacteria/unclassified/unclassified/unclassified/unclassified",
          "Bacteria/Proteobacteria/Alphaproteobacteria/Rhodospirillales",
          "Bacteria/Actinobacteria/Actinobacteria/Acidimicrobiales",
          "Bacteria/Actinobacteria/Actinobacteria/Actinomycetales",
          "Bacteria/Firmicutes/Bacilli/Lactobacillales",
          "Bacteria/Proteobacteria/Gammaproteobacteria/Aeromonadales",
          "Bacteria/Proteobacteria/Betaproteobacteria/Burkholderiales",
          "Bacteria/Chloroflexi/Anaerolineae/Anaerolineales",
          "Bacteria/Proteobacteria/Alphaproteobacteria/Rhizobiales",
          "Bacteria/Firmicutes/Bacilli/Bacillales",
          "Bacteria/Firmicutes/Bacilli/Bacillales",
          "Bacteria/Firmicutes/Bacilli/Bacillales",
          "Bacteria/Proteobacteria/Deltaproteobacteria/Bdellovibrionales",
          "Bacteria/Bacteroidetes/Bacteroidia/Bacteroidales",
          "Bacteria/Proteobacteria/Deltaproteobacteria/Bdellovibrionales",
          "Bacteria/Proteobacteria/Alphaproteobacteria/Rhizobiales",
          "Bacteria/Actinobacteria/Actinobacteria/Actinomycetales",
          "Bacteria/Actinobacteria/Actinobacteria/Bifidobacteriales",
          "Bacteria/Actinobacteria/Actinobacteria/Actinomycetales",
          "Bacteria/Proteobacteria/Alphaproteobacteria/Rhizobiales",
          "Bacteria/Actinobacteria/Actinobacteria/Actinomycetales",
          "Bacteria/Proteobacteria/Alphaproteobacteria/Rhizobiales",
          "Bacteria/Proteobacteria/Betaproteobacteria/Burkholderiales",
          "Bacteria/Proteobacteria/Betaproteobacteria/Burkholderiales",
          "Bacteria/Chloroflexi/Caldilineae/Caldilineales",
          "Bacteria/Proteobacteria/Epsilonproteobacteria/Campylobacterales",
          "Bacteria/Proteobacteria/Gammaproteobacteria/Cardiobacteriales",
          "Bacteria/Firmicutes/Bacilli/Lactobacillales",
          "Bacteria/Proteobacteria/Alphaproteobacteria/Caulobacterales",
          "Bacteria/Actinobacteria/Actinobacteria/Actinomycetales",
          "Bacteria/Bacteroidetes/Sphingobacteriia/Sphingobacteriales",
          "Bacteria/Chloroflexi/Chloroflexia/Chloroflexales",
          "Bacteria/Proteobacteria/Gammaproteobacteria/Chromatiales",
          "Bacteria/Firmicutes/Clostridia/Clostridiales",
          "Bacteria/Firmicutes/Clostridia/Clostridiales",
          "Bacteria/Firmicutes/Clostridia/Clostridiales",
          "Bacteria/Proteobacteria/Betaproteobacteria/Burkholderiales",
          "Bacteria/Actinobacteria/Actinobacteria/Coriobacteriales",
          "Bacteria/Actinobacteria/Actinobacteria/Actinomycetales",
          "Bacteria/Proteobacteria/Gammaproteobacteria/Legionellales",
          "Bacteria/Bacteroidetes/Flavobacteriia/Flavobacteriales",
          "Bacteria/Bacteroidetes/Cytophagia/Cytophagales",
          "Bacteria/Deinococcus-Thermus/Deinococci/Deinococcales",
          "Bacteria/Actinobacteria/Actinobacteria/Actinomycetales",
          "Bacteria/Actinobacteria/Actinobacteria/Actinomycetales",
          "Bacteria/Actinobacteria/Actinobacteria/Actinomycetales",
          "Bacteria/Actinobacteria/Actinobacteria/Actinomycetales",
          "Bacteria/Proteobacteria/Deltaproteobacteria/Desulfobacterales",
          "Bacteria/Actinobacteria/Actinobacteria/Actinomycetales",
          "Bacteria/Proteobacteria/Gammaproteobacteria/Enterobacteriales",
          "Bacteria/Firmicutes/Bacilli/Lactobacillales",
          "Bacteria/Firmicutes/Erysipelotrichia/Erysipelotrichales",
          "Bacteria/Proteobacteria/Alphaproteobacteria/Sphingomonadales",
          "Bacteria/Firmicutes/Clostridia/Clostridiales",
          "Bacteria/Actinobacteria/Actinobacteria/Euzebyales",
          "Bacteria/Bacteroidetes/Cytophagia/Cytophagales",
          "Bacteria/Bacteroidetes/Flavobacteriia/Flavobacteriales",
          "Bacteria/Fusobacteria/Fusobacteriia/Fusobacteriales",
          "Bacteria/Actinobacteria/Actinobacteria/Gaiellales",
          "Bacteria/Proteobacteria/Alphaproteobacteria/Alphaproteobacteria_incertae_sedis",
          "Bacteria/Gemmatimonadetes/Gemmatimonadetes/Gemmatimonadales",
          "Bacteria/Actinobacteria/Actinobacteria/Actinomycetales",
          "Bacteria/Proteobacteria/Gammaproteobacteria/Oceanospirillales",
          "Bacteria/Proteobacteria/Epsilonproteobacteria/Campylobacterales",
          "Bacteria/Chloroflexi/Chloroflexia/Herpetosiphonales",
          "Bacteria/Proteobacteria/Betaproteobacteria/Hydrogenophilales",
          "Bacteria/Proteobacteria/Alphaproteobacteria/Rhizobiales",
          "Bacteria/Actinobacteria/Actinobacteria/Acidimicrobiales",
          "Bacteria/Firmicutes/Clostridia/Clostridiales",
          "Bacteria/Actinobacteria/Actinobacteria/Actinomycetales",
          "Bacteria/Actinobacteria/Actinobacteria/Actinomycetales",
          "Bacteria/Firmicutes/Clostridia/Clostridiales",
          "Bacteria/Firmicutes/Bacilli/Lactobacillales",
          "Bacteria/Proteobacteria/Gammaproteobacteria/Legionellales",
          "Bacteria/Fusobacteria/Fusobacteriia/Fusobacteriales",
          "Bacteria/Firmicutes/Bacilli/Lactobacillales",
          "Bacteria/Proteobacteria/Alphaproteobacteria/Rhizobiales",
          "Bacteria/Proteobacteria/Gammaproteobacteria/Methylococcales",
          "Bacteria/Proteobacteria/Alphaproteobacteria/Rhizobiales",
          "Bacteria/Proteobacteria/Betaproteobacteria/Methylophilales",
          "Bacteria/Actinobacteria/Actinobacteria/Actinomycetales",
          "Bacteria/Actinobacteria/Actinobacteria/Actinomycetales",
          "Bacteria/Actinobacteria/Actinobacteria/Actinomycetales",
          "Bacteria/Proteobacteria/Gammaproteobacteria/Pseudomonadales",
          "Bacteria/Actinobacteria/Actinobacteria/Actinomycetales",
          "Bacteria/Actinobacteria/Actinobacteria/Actinomycetales",
          "Bacteria/Proteobacteria/Betaproteobacteria/Neisseriales",
          "Bacteria/Actinobacteria/Actinobacteria/Actinomycetales",
          "Bacteria/Actinobacteria/Actinobacteria/Actinomycetales",
          "Bacteria/Verrucomicrobia/Opitutae/Opitutales",
          "Bacteria/Proteobacteria/Betaproteobacteria/Burkholderiales",
          "Bacteria/Firmicutes/Bacilli/Bacillales",
          "Bacteria/Proteobacteria/Gammaproteobacteria/Pasteurellales",
          "Bacteria/Firmicutes/Clostridia/Clostridiales",
          "Bacteria/Proteobacteria/Alphaproteobacteria/Rhizobiales",
          "Bacteria/Planctomycetes/Planctomycetia/Planctomycetales",
          "Bacteria/Firmicutes/Bacilli/Bacillales",
          "Bacteria/Bacteroidetes/Bacteroidia/Bacteroidales",
          "Bacteria/Bacteroidetes/Bacteroidia/Bacteroidales",
          "Bacteria/Actinobacteria/Actinobacteria/Actinomycetales",
          "Bacteria/Proteobacteria/Gammaproteobacteria/Alteromonadales",
          "Bacteria/Proteobacteria/Gammaproteobacteria/Pseudomonadales",
          "Bacteria/Actinobacteria/Actinobacteria/Actinomycetales",
          "Bacteria/Proteobacteria/Alphaproteobacteria/Rhizobiales",
          "Bacteria/Proteobacteria/Alphaproteobacteria/Rhodobacterales",
          "Bacteria/Proteobacteria/Betaproteobacteria/Rhodocyclales",
          "Bacteria/Proteobacteria/Alphaproteobacteria/Rhodospirillales",
          "Bacteria/Proteobacteria/Alphaproteobacteria/Rickettsiales",
          "Bacteria/Bacteroidetes/Bacteroidia/Bacteroidales",
          "Bacteria/Actinobacteria/Actinobacteria/Rubrobacterales",
          "Bacteria/Firmicutes/Clostridia/Clostridiales",
          "Bacteria/Actinobacteria/Actinobacteria/Actinomycetales",
          "Bacteria/Bacteroidetes/Sphingobacteriia/Sphingobacteriales",
          "Bacteria/Proteobacteria/Gammaproteobacteria/Alteromonadales",
          "Bacteria/Proteobacteria/Gammaproteobacteria/Xanthomonadales",
          "Bacteria/Actinobacteria/Actinobacteria/Solirubrobacterales",
          "Bacteria/Bacteroidetes/Sphingobacteriia/Sphingobacteriales",
          "Bacteria/Proteobacteria/Alphaproteobacteria/Sphingomonadales",
          "Bacteria/Spirochaetes/Spirochaetia/Spirochaetales",
          "Bacteria/Firmicutes/Bacilli/Bacillales",
          "Bacteria/Firmicutes/Bacilli/Lactobacillales",
          "Bacteria/Actinobacteria/Actinobacteria/Actinomycetales",
          "Bacteria/Actinobacteria/Actinobacteria/Actinomycetales",
          "Bacteria/Proteobacteria/Betaproteobacteria/Burkholderiales",
          "Bacteria/Synergistetes/Synergistia/Synergistales",
          "Bacteria/Deinococcus-Thermus/Deinococci/Thermales",
          "Bacteria/Deinococcus-Thermus/Deinococci/Deinococcales",
          "Bacteria/Firmicutes/Negativicutes/Selenomonadales",
          "Bacteria/Verrucomicrobia/Verrucomicrobiae/Verrucomicrobiales",
          "Bacteria/Proteobacteria/Gammaproteobacteria/Vibrionales",
          "Bacteria/Proteobacteria/Gammaproteobacteria/Xanthomonadales",
          "Bacteria/Actinobacteria/Actinobacteria/Acidimicrobiales",
          "Bacteria/Actinobacteria/Actinobacteria/Actinomycetales",
          "Bacteria/Firmicutes/Bacilli/Bacillales",
          "Bacteria/Bacteroidetes/Bacteroidia/Bacteroidales",
          "Bacteria/Acidobacteria/Acidobacteria_Gp4/Blastocatella",
          "Bacteria/Proteobacteria/Betaproteobacteria/Burkholderiales",
          "Bacteria/Chloroflexi/Chloroflexia/Chloroflexales",
          "Bacteria/Firmicutes/Clostridia/Clostridiales",
          "Bacteria/Bacteroidetes/Cytophagia/Cytophagales",
          "Bacteria/Deinococcus-Thermus/Deinococci/Deinococcales",
          "Bacteria/Bacteroidetes/Flavobacteriia/Flavobacteriales",
          "Bacteria/Fusobacteria/Fusobacteriia/Fusobacteriales",
          "Bacteria/Acidobacteria/Acidobacteria_Gp1/Gp1",
          "Bacteria/Acidobacteria/Acidobacteria_Gp16/Gp16",
          "Bacteria/Acidobacteria/Acidobacteria_Gp17/Gp17",
          "Bacteria/Acidobacteria/Acidobacteria_Gp2/Gp2",
          "Bacteria/Acidobacteria/Acidobacteria_Gp3/Gp3",
          "Bacteria/Acidobacteria/Acidobacteria_Gp4/Gp4",
          "Bacteria/Acidobacteria/Acidobacteria_Gp6/Gp6",
          "Bacteria/Acidobacteria/Acidobacteria_Gp7/Gp7",
          "Bacteria/Firmicutes/Bacilli/Lactobacillales",
          "Bacteria/Proteobacteria/Deltaproteobacteria/Myxococcales",
          "Bacteria/Bacteroidetes/Bacteroidetes_incertae_sedis/Ohtaekwangia",
          "Bacteria/Proteobacteria/Gammaproteobacteria/Pseudomonadales",
          "Bacteria/Proteobacteria/Alphaproteobacteria/Rhizobiales",
          "Bacteria/Proteobacteria/Alphaproteobacteria/Rhodospirillales",
          "Bacteria/Actinobacteria/Actinobacteria/Solirubrobacterales",
          "Bacteria/Bacteroidetes/Sphingobacteriia/Sphingobacteriales",
          "Bacteria/Proteobacteria/Alphaproteobacteria/Sphingomonadales",
          "Bacteria/Proteobacteria/Gammaproteobacteria/Xanthomonadales",
          "Bacteria/Acidobacteria/Acidobacteria_Gp3/unclassified",
          "Bacteria/Acidobacteria/Acidobacteria_Gp4/unclassified",
          "Bacteria/Actinobacteria/Actinobacteria/unclassified",
          "Bacteria/Proteobacteria/Alphaproteobacteria/unclassified",
          "Bacteria/Armatimonadetes/Armatimonadetes_gp4/unclassified",
          "Bacteria/Armatimonadetes/Armatimonadetes_gp5/unclassified",
          "Bacteria/Firmicutes/Bacilli/unclassified",
          "Bacteria/Proteobacteria/Betaproteobacteria/unclassified",
          "Bacteria/Deinococcus-Thermus/Deinococci/unclassified",
          "Bacteria/Proteobacteria/Deltaproteobacteria/unclassified",
          "Bacteria/Proteobacteria/Gammaproteobacteria/unclassified",
          "Bacteria/Acidobacteria/unclassified/unclassified",
          "Bacteria/Actinobacteria/unclassified/unclassified",
          "Bacteria/Armatimonadetes/unclassified/unclassified",
          "Bacteria/Bacteroidetes/unclassified/unclassified",
          "Bacteria/Candidatus_Saccharibacteria/unclassified/unclassified",
          "Bacteria/Chloroflexi/unclassified/unclassified",
          "Bacteria/Firmicutes/unclassified/unclassified",
          "Bacteria/Microgenomates/unclassified/unclassified",
          "Bacteria/Parcubacteria/unclassified/unclassified",
          "Bacteria/Proteobacteria/unclassified/unclassified",
          "Bacteria/Verrucomicrobia/unclassified/unclassified",
          "Bacteria/unclassified/unclassified/unclassified",
          "Bacteria/Actinobacteria/Actinobacteria",
          "Bacteria/Actinobacteria/Actinobacteria",
          "Bacteria/Proteobacteria/Gammaproteobacteria",
          "Bacteria/Proteobacteria/Alphaproteobacteria",
          "Bacteria/Proteobacteria/Gammaproteobacteria",
          "Bacteria/Chloroflexi/Anaerolineae",
          "Bacteria/Firmicutes/Bacilli",
          "Bacteria/Bacteroidetes/Bacteroidia",
          "Bacteria/Proteobacteria/Deltaproteobacteria",
          "Bacteria/Actinobacteria/Actinobacteria",
          "Bacteria/Acidobacteria/Acidobacteria_Gp4",
          "Bacteria/Proteobacteria/Betaproteobacteria",
          "Bacteria/Chloroflexi/Caldilineae",
          "Bacteria/Proteobacteria/Epsilonproteobacteria",
          "Bacteria/Proteobacteria/Gammaproteobacteria",
          "Bacteria/Proteobacteria/Alphaproteobacteria",
          "Bacteria/Chloroflexi/Chloroflexia",
          "Bacteria/Proteobacteria/Gammaproteobacteria",
          "Bacteria/Firmicutes/Clostridia",
          "Bacteria/Actinobacteria/Actinobacteria",
          "Bacteria/Bacteroidetes/Cytophagia",
          "Bacteria/Deinococcus-Thermus/Deinococci",
          "Bacteria/Proteobacteria/Deltaproteobacteria",
          "Bacteria/Proteobacteria/Gammaproteobacteria",
          "Bacteria/Firmicutes/Erysipelotrichia",
          "Bacteria/Actinobacteria/Actinobacteria",
          "Bacteria/Bacteroidetes/Flavobacteriia",
          "Bacteria/Fusobacteria/Fusobacteriia",
          "Bacteria/Actinobacteria/Actinobacteria",
          "Bacteria/Gemmatimonadetes/Gemmatimonadetes",
          "Bacteria/Acidobacteria/Acidobacteria_Gp1",
          "Bacteria/Acidobacteria/Acidobacteria_Gp16",
          "Bacteria/Acidobacteria/Acidobacteria_Gp17",
          "Bacteria/Acidobacteria/Acidobacteria_Gp2",
          "Bacteria/Acidobacteria/Acidobacteria_Gp3",
          "Bacteria/Acidobacteria/Acidobacteria_Gp4",
          "Bacteria/Acidobacteria/Acidobacteria_Gp6",
          "Bacteria/Acidobacteria/Acidobacteria_Gp7",
          "Bacteria/Chloroflexi/Chloroflexia",
          "Bacteria/Proteobacteria/Betaproteobacteria",
          "Bacteria/Firmicutes/Bacilli",
          "Bacteria/Proteobacteria/Gammaproteobacteria",
          "Bacteria/Proteobacteria/Gammaproteobacteria",
          "Bacteria/Proteobacteria/Betaproteobacteria",
          "Bacteria/Proteobacteria/Deltaproteobacteria",
          "Bacteria/Proteobacteria/Betaproteobacteria",
          "Bacteria/Proteobacteria/Gammaproteobacteria",
          "Bacteria/Bacteroidetes/Bacteroidetes_incertae_sedis",
          "Bacteria/Verrucomicrobia/Opitutae",
          "Bacteria/Proteobacteria/Gammaproteobacteria",
          "Bacteria/Planctomycetes/Planctomycetia",
          "Bacteria/Proteobacteria/Gammaproteobacteria",
          "Bacteria/Proteobacteria/Alphaproteobacteria",
          "Bacteria/Proteobacteria/Alphaproteobacteria",
          "Bacteria/Proteobacteria/Betaproteobacteria",
          "Bacteria/Proteobacteria/Alphaproteobacteria",
          "Bacteria/Proteobacteria/Alphaproteobacteria",
          "Bacteria/Actinobacteria/Actinobacteria",
          "Bacteria/Firmicutes/Negativicutes",
          "Bacteria/Actinobacteria/Actinobacteria",
          "Bacteria/Bacteroidetes/Sphingobacteriia",
          "Bacteria/Proteobacteria/Alphaproteobacteria",
          "Bacteria/Spirochaetes/Spirochaetia",
          "Bacteria/Synergistetes/Synergistia",
          "Bacteria/Deinococcus-Thermus/Deinococci",
          "Bacteria/Verrucomicrobia/Verrucomicrobiae",
          "Bacteria/Proteobacteria/Gammaproteobacteria",
          "Bacteria/Proteobacteria/Gammaproteobacteria",
          "Bacteria/Acidobacteria/Acidobacteria_Gp3",
          "Bacteria/Acidobacteria/Acidobacteria_Gp4",
          "Bacteria/Actinobacteria/Actinobacteria",
          "Bacteria/Proteobacteria/Alphaproteobacteria",
          "Bacteria/Armatimonadetes/Armatimonadetes_gp4",
          "Bacteria/Armatimonadetes/Armatimonadetes_gp5",
          "Bacteria/Firmicutes/Bacilli",
          "Bacteria/Proteobacteria/Betaproteobacteria",
          "Bacteria/Deinococcus-Thermus/Deinococci",
          "Bacteria/Proteobacteria/Deltaproteobacteria",
          "Bacteria/Proteobacteria/Gammaproteobacteria",
          "Bacteria/Acidobacteria/unclassified",
          "Bacteria/Actinobacteria/unclassified",
          "Bacteria/Armatimonadetes/unclassified",
          "Bacteria/Bacteroidetes/unclassified",
          "Bacteria/Candidatus_Saccharibacteria/unclassified",
          "Bacteria/Chloroflexi/unclassified",
          "Bacteria/Firmicutes/unclassified",
          "Bacteria/Microgenomates/unclassified",
          "Bacteria/Parcubacteria/unclassified",
          "Bacteria/Proteobacteria/unclassified",
          "Bacteria/Verrucomicrobia/unclassified",
          "Bacteria/unclassified/unclassified",
          "Bacteria/Acidobacteria",
          "Bacteria/Acidobacteria",
          "Bacteria/Acidobacteria",
          "Bacteria/Acidobacteria",
          "Bacteria/Acidobacteria",
          "Bacteria/Acidobacteria",
          "Bacteria/Acidobacteria",
          "Bacteria/Acidobacteria",
          "Bacteria/Actinobacteria",
          "Bacteria/Proteobacteria",
          "Bacteria/Chloroflexi",
          "Bacteria/Armatimonadetes",
          "Bacteria/Armatimonadetes",
          "Bacteria/Firmicutes",
          "Bacteria/Bacteroidetes",
          "Bacteria/Bacteroidetes",
          "Bacteria/Proteobacteria",
          "Bacteria/Chloroflexi",
          "Bacteria/Chloroflexi",
          "Bacteria/Firmicutes",
          "Bacteria/Bacteroidetes",
          "Bacteria/Deinococcus-Thermus",
          "Bacteria/Proteobacteria",
          "Bacteria/Proteobacteria",
          "Bacteria/Firmicutes",
          "Bacteria/Bacteroidetes",
          "Bacteria/Fusobacteria",
          "Bacteria/Proteobacteria",
          "Bacteria/Gemmatimonadetes",
          "Bacteria/Firmicutes",
          "Bacteria/Verrucomicrobia",
          "Bacteria/Planctomycetes",
          "Bacteria/Bacteroidetes",
          "Bacteria/Spirochaetes",
          "Bacteria/Synergistetes",
          "Bacteria/Verrucomicrobia",
          "Bacteria/Acidobacteria",
          "Bacteria/Actinobacteria",
          "Bacteria/Armatimonadetes",
          "Bacteria/Bacteroidetes",
          "Bacteria/Candidatus_Saccharibacteria",
          "Bacteria/Chloroflexi",
          "Bacteria/Firmicutes",
          "Bacteria/Microgenomates",
          "Bacteria/Parcubacteria",
          "Bacteria/Proteobacteria",
          "Bacteria/Verrucomicrobia",
          "Bacteria/unclassified",
          "Bacteria",
          "Bacteria",
          "Bacteria",
          "Bacteria",
          "Bacteria",
          "Bacteria",
          "Bacteria",
          "Bacteria",
          "Bacteria",
          "Bacteria",
          "Bacteria",
          "Bacteria",
          "Bacteria",
          "Bacteria",
          "Bacteria",
          "Bacteria",
          "Bacteria",
          "Bacteria",
          ""
         ],
         "type": "treemap",
         "values": [
          0,
          3,
          0,
          7,
          29,
          58,
          0,
          11,
          0,
          0,
          0,
          4,
          0,
          0,
          8,
          0,
          0,
          1,
          1,
          0,
          0,
          1,
          0,
          0,
          0,
          0,
          6,
          0,
          42,
          0,
          0,
          57,
          0,
          0,
          0,
          0,
          0,
          10,
          1,
          0,
          0,
          0,
          0,
          0,
          0,
          0,
          0,
          13,
          0,
          5,
          1,
          0,
          0,
          0,
          0,
          2,
          6,
          0,
          4,
          7,
          0,
          0,
          65,
          1,
          0,
          0,
          0,
          0,
          0,
          0,
          0,
          9,
          2,
          0,
          0,
          0,
          0,
          50,
          5,
          0,
          0,
          0,
          0,
          4,
          0,
          4,
          1,
          8,
          234,
          0,
          0,
          143,
          0,
          0,
          0,
          0,
          2,
          0,
          0,
          0,
          0,
          0,
          0,
          0,
          10,
          0,
          2,
          0,
          0,
          0,
          0,
          0,
          0,
          0,
          0,
          0,
          0,
          0,
          260,
          0,
          7,
          0,
          0,
          0,
          0,
          0,
          0,
          0,
          9,
          0,
          36,
          0,
          0,
          10,
          0,
          0,
          5,
          0,
          2,
          0,
          1,
          0,
          0,
          0,
          0,
          0,
          0,
          0,
          2,
          0,
          0,
          0,
          0,
          0,
          0,
          0,
          0,
          0,
          0,
          9,
          0,
          0,
          0,
          0,
          0,
          2,
          0,
          0,
          0,
          0,
          0,
          6,
          3,
          0,
          0,
          0,
          42,
          19,
          0,
          0,
          0,
          0,
          0,
          0,
          0,
          0,
          0,
          0,
          0,
          0,
          0,
          1,
          10,
          0,
          0,
          0,
          87,
          0,
          0,
          0,
          0,
          0,
          0,
          8,
          64,
          0,
          0,
          0,
          1,
          3,
          2,
          0,
          1,
          0,
          2,
          24,
          0,
          0,
          0,
          0,
          154,
          0,
          8,
          3,
          80,
          1,
          0,
          0,
          0,
          0,
          0,
          0,
          0,
          1,
          0,
          1,
          0,
          0,
          0,
          2,
          4,
          0,
          0,
          0,
          0,
          1,
          0,
          6,
          12,
          2,
          0,
          0,
          2,
          0,
          0,
          0,
          0,
          0,
          0,
          0,
          0,
          0,
          0,
          0,
          0,
          2,
          20,
          78,
          0,
          0,
          0,
          0,
          11,
          0,
          0,
          0,
          386,
          1,
          0,
          3,
          0,
          6,
          0,
          0,
          0,
          2,
          0,
          4,
          0,
          0,
          0,
          0,
          0,
          9,
          10,
          5,
          0,
          0,
          2,
          6,
          0,
          0,
          0,
          0,
          0,
          0,
          3,
          0,
          0,
          0,
          1,
          0,
          0,
          0,
          0,
          0,
          0,
          35,
          190,
          2,
          0,
          0,
          0,
          0,
          0,
          111,
          0,
          6,
          0,
          9,
          0,
          4,
          0,
          0,
          0,
          0,
          0,
          0,
          0,
          2,
          0,
          0,
          0,
          2,
          0,
          0,
          0,
          3,
          0,
          1,
          0,
          0,
          0,
          0,
          0,
          0,
          0,
          0,
          0,
          0,
          0,
          0,
          0,
          0,
          9,
          0,
          0,
          0,
          0,
          6,
          0,
          0,
          3,
          0,
          182,
          0,
          0,
          0,
          0,
          0,
          0,
          0,
          1,
          1,
          0,
          0,
          0,
          4,
          0,
          17,
          0,
          0,
          0,
          1,
          0,
          0,
          1,
          0,
          0,
          0,
          0,
          9,
          0,
          0,
          0,
          0,
          0,
          0,
          4,
          0,
          3,
          3,
          0,
          5,
          0,
          0,
          31,
          0,
          0,
          0,
          4,
          6,
          0,
          25,
          0,
          0,
          0,
          3,
          0,
          2,
          0,
          0,
          0,
          0,
          0,
          0,
          0,
          0,
          5,
          0,
          0,
          0,
          0,
          0,
          0,
          0,
          75,
          0,
          0,
          0,
          1,
          0,
          0,
          2,
          0,
          21,
          0,
          0,
          1,
          0,
          0,
          0,
          1,
          0,
          0,
          2,
          4,
          1,
          0,
          3,
          0,
          0,
          27,
          0,
          32,
          12,
          0,
          19,
          4,
          2,
          7,
          0,
          0,
          0,
          0,
          0,
          0,
          5,
          0,
          0,
          0,
          1,
          0,
          17,
          7,
          0,
          214,
          57,
          0,
          0,
          0,
          0,
          11,
          2,
          56,
          0,
          0,
          4,
          93,
          0,
          228,
          4,
          234,
          0,
          0,
          9,
          2,
          0,
          4,
          0,
          0,
          0,
          2,
          7,
          0,
          0,
          1,
          0,
          0,
          0,
          16,
          2,
          0,
          0,
          0,
          4,
          0,
          0,
          0,
          0,
          0,
          0,
          2,
          4,
          0,
          29,
          42,
          0,
          0,
          0,
          88,
          0,
          0,
          0,
          10,
          245,
          0,
          319,
          24,
          0,
          1,
          4,
          12,
          0,
          13,
          0,
          9,
          6,
          0,
          0,
          1,
          5,
          20,
          83,
          11,
          390,
          1,
          2,
          18,
          4,
          93,
          0,
          1,
          0,
          22,
          0,
          0,
          0,
          0,
          0,
          1,
          259,
          0,
          111,
          28,
          0,
          0,
          0,
          2,
          0,
          0,
          15,
          0,
          0,
          15,
          0,
          25,
          0,
          0,
          0,
          3,
          0,
          2,
          0,
          0,
          0,
          0,
          0,
          0,
          0,
          0,
          5,
          0,
          0,
          0,
          0,
          0,
          0,
          0,
          75,
          0,
          0,
          0,
          1,
          0,
          0,
          2,
          0,
          21,
          0,
          0,
          1,
          0,
          0,
          0,
          1,
          0,
          0,
          2,
          4,
          1,
          0,
          3,
          0,
          0,
          27,
          0,
          32,
          0,
          680,
          2,
          0,
          11,
          0,
          112,
          31,
          0,
          1,
          0,
          522,
          0,
          0,
          0,
          11,
          0,
          0,
          158,
          4,
          9,
          2,
          0,
          7,
          0,
          0,
          16,
          2,
          0,
          0,
          0,
          0,
          0,
          0,
          5,
          0,
          0,
          0,
          0,
          0,
          74,
          0,
          0,
          0,
          0,
          1,
          0,
          0,
          0,
          9,
          0,
          709,
          182,
          18,
          4,
          105,
          0,
          0,
          15,
          0,
          57,
          261,
          0,
          2,
          0,
          0,
          0,
          15,
          0,
          2,
          0,
          21,
          0,
          0,
          1,
          0,
          0,
          0,
          1,
          0,
          0,
          2,
          4,
          1,
          0,
          3,
          0,
          0,
          27,
          0,
          32,
          0,
          0,
          0,
          0,
          5,
          2,
          0,
          0,
          685,
          598,
          0,
          0,
          0,
          187,
          0,
          31,
          527,
          0,
          0,
          158,
          9,
          2,
          0,
          0,
          0,
          16,
          2,
          754,
          0,
          15,
          0,
          0,
          57,
          0,
          2,
          0,
          0,
          0,
          2,
          4,
          1,
          0,
          3,
          0,
          0,
          27,
          0,
          32,
          7,
          685,
          2,
          117,
          1,
          0,
          2,
          363,
          2,
          0,
          0,
          0,
          0,
          1906,
          0,
          2,
          0,
          32,
          3119
         ]
        }
       ],
       "layout": {
        "legend": {
         "tracegroupgap": 0
        },
        "margin": {
         "t": 60
        },
        "template": {
         "data": {
          "bar": [
           {
            "error_x": {
             "color": "#2a3f5f"
            },
            "error_y": {
             "color": "#2a3f5f"
            },
            "marker": {
             "line": {
              "color": "#E5ECF6",
              "width": 0.5
             }
            },
            "type": "bar"
           }
          ],
          "barpolar": [
           {
            "marker": {
             "line": {
              "color": "#E5ECF6",
              "width": 0.5
             }
            },
            "type": "barpolar"
           }
          ],
          "carpet": [
           {
            "aaxis": {
             "endlinecolor": "#2a3f5f",
             "gridcolor": "white",
             "linecolor": "white",
             "minorgridcolor": "white",
             "startlinecolor": "#2a3f5f"
            },
            "baxis": {
             "endlinecolor": "#2a3f5f",
             "gridcolor": "white",
             "linecolor": "white",
             "minorgridcolor": "white",
             "startlinecolor": "#2a3f5f"
            },
            "type": "carpet"
           }
          ],
          "choropleth": [
           {
            "colorbar": {
             "outlinewidth": 0,
             "ticks": ""
            },
            "type": "choropleth"
           }
          ],
          "contour": [
           {
            "colorbar": {
             "outlinewidth": 0,
             "ticks": ""
            },
            "colorscale": [
             [
              0,
              "#0d0887"
             ],
             [
              0.1111111111111111,
              "#46039f"
             ],
             [
              0.2222222222222222,
              "#7201a8"
             ],
             [
              0.3333333333333333,
              "#9c179e"
             ],
             [
              0.4444444444444444,
              "#bd3786"
             ],
             [
              0.5555555555555556,
              "#d8576b"
             ],
             [
              0.6666666666666666,
              "#ed7953"
             ],
             [
              0.7777777777777778,
              "#fb9f3a"
             ],
             [
              0.8888888888888888,
              "#fdca26"
             ],
             [
              1,
              "#f0f921"
             ]
            ],
            "type": "contour"
           }
          ],
          "contourcarpet": [
           {
            "colorbar": {
             "outlinewidth": 0,
             "ticks": ""
            },
            "type": "contourcarpet"
           }
          ],
          "heatmap": [
           {
            "colorbar": {
             "outlinewidth": 0,
             "ticks": ""
            },
            "colorscale": [
             [
              0,
              "#0d0887"
             ],
             [
              0.1111111111111111,
              "#46039f"
             ],
             [
              0.2222222222222222,
              "#7201a8"
             ],
             [
              0.3333333333333333,
              "#9c179e"
             ],
             [
              0.4444444444444444,
              "#bd3786"
             ],
             [
              0.5555555555555556,
              "#d8576b"
             ],
             [
              0.6666666666666666,
              "#ed7953"
             ],
             [
              0.7777777777777778,
              "#fb9f3a"
             ],
             [
              0.8888888888888888,
              "#fdca26"
             ],
             [
              1,
              "#f0f921"
             ]
            ],
            "type": "heatmap"
           }
          ],
          "heatmapgl": [
           {
            "colorbar": {
             "outlinewidth": 0,
             "ticks": ""
            },
            "colorscale": [
             [
              0,
              "#0d0887"
             ],
             [
              0.1111111111111111,
              "#46039f"
             ],
             [
              0.2222222222222222,
              "#7201a8"
             ],
             [
              0.3333333333333333,
              "#9c179e"
             ],
             [
              0.4444444444444444,
              "#bd3786"
             ],
             [
              0.5555555555555556,
              "#d8576b"
             ],
             [
              0.6666666666666666,
              "#ed7953"
             ],
             [
              0.7777777777777778,
              "#fb9f3a"
             ],
             [
              0.8888888888888888,
              "#fdca26"
             ],
             [
              1,
              "#f0f921"
             ]
            ],
            "type": "heatmapgl"
           }
          ],
          "histogram": [
           {
            "marker": {
             "colorbar": {
              "outlinewidth": 0,
              "ticks": ""
             }
            },
            "type": "histogram"
           }
          ],
          "histogram2d": [
           {
            "colorbar": {
             "outlinewidth": 0,
             "ticks": ""
            },
            "colorscale": [
             [
              0,
              "#0d0887"
             ],
             [
              0.1111111111111111,
              "#46039f"
             ],
             [
              0.2222222222222222,
              "#7201a8"
             ],
             [
              0.3333333333333333,
              "#9c179e"
             ],
             [
              0.4444444444444444,
              "#bd3786"
             ],
             [
              0.5555555555555556,
              "#d8576b"
             ],
             [
              0.6666666666666666,
              "#ed7953"
             ],
             [
              0.7777777777777778,
              "#fb9f3a"
             ],
             [
              0.8888888888888888,
              "#fdca26"
             ],
             [
              1,
              "#f0f921"
             ]
            ],
            "type": "histogram2d"
           }
          ],
          "histogram2dcontour": [
           {
            "colorbar": {
             "outlinewidth": 0,
             "ticks": ""
            },
            "colorscale": [
             [
              0,
              "#0d0887"
             ],
             [
              0.1111111111111111,
              "#46039f"
             ],
             [
              0.2222222222222222,
              "#7201a8"
             ],
             [
              0.3333333333333333,
              "#9c179e"
             ],
             [
              0.4444444444444444,
              "#bd3786"
             ],
             [
              0.5555555555555556,
              "#d8576b"
             ],
             [
              0.6666666666666666,
              "#ed7953"
             ],
             [
              0.7777777777777778,
              "#fb9f3a"
             ],
             [
              0.8888888888888888,
              "#fdca26"
             ],
             [
              1,
              "#f0f921"
             ]
            ],
            "type": "histogram2dcontour"
           }
          ],
          "mesh3d": [
           {
            "colorbar": {
             "outlinewidth": 0,
             "ticks": ""
            },
            "type": "mesh3d"
           }
          ],
          "parcoords": [
           {
            "line": {
             "colorbar": {
              "outlinewidth": 0,
              "ticks": ""
             }
            },
            "type": "parcoords"
           }
          ],
          "pie": [
           {
            "automargin": true,
            "type": "pie"
           }
          ],
          "scatter": [
           {
            "marker": {
             "colorbar": {
              "outlinewidth": 0,
              "ticks": ""
             }
            },
            "type": "scatter"
           }
          ],
          "scatter3d": [
           {
            "line": {
             "colorbar": {
              "outlinewidth": 0,
              "ticks": ""
             }
            },
            "marker": {
             "colorbar": {
              "outlinewidth": 0,
              "ticks": ""
             }
            },
            "type": "scatter3d"
           }
          ],
          "scattercarpet": [
           {
            "marker": {
             "colorbar": {
              "outlinewidth": 0,
              "ticks": ""
             }
            },
            "type": "scattercarpet"
           }
          ],
          "scattergeo": [
           {
            "marker": {
             "colorbar": {
              "outlinewidth": 0,
              "ticks": ""
             }
            },
            "type": "scattergeo"
           }
          ],
          "scattergl": [
           {
            "marker": {
             "colorbar": {
              "outlinewidth": 0,
              "ticks": ""
             }
            },
            "type": "scattergl"
           }
          ],
          "scattermapbox": [
           {
            "marker": {
             "colorbar": {
              "outlinewidth": 0,
              "ticks": ""
             }
            },
            "type": "scattermapbox"
           }
          ],
          "scatterpolar": [
           {
            "marker": {
             "colorbar": {
              "outlinewidth": 0,
              "ticks": ""
             }
            },
            "type": "scatterpolar"
           }
          ],
          "scatterpolargl": [
           {
            "marker": {
             "colorbar": {
              "outlinewidth": 0,
              "ticks": ""
             }
            },
            "type": "scatterpolargl"
           }
          ],
          "scatterternary": [
           {
            "marker": {
             "colorbar": {
              "outlinewidth": 0,
              "ticks": ""
             }
            },
            "type": "scatterternary"
           }
          ],
          "surface": [
           {
            "colorbar": {
             "outlinewidth": 0,
             "ticks": ""
            },
            "colorscale": [
             [
              0,
              "#0d0887"
             ],
             [
              0.1111111111111111,
              "#46039f"
             ],
             [
              0.2222222222222222,
              "#7201a8"
             ],
             [
              0.3333333333333333,
              "#9c179e"
             ],
             [
              0.4444444444444444,
              "#bd3786"
             ],
             [
              0.5555555555555556,
              "#d8576b"
             ],
             [
              0.6666666666666666,
              "#ed7953"
             ],
             [
              0.7777777777777778,
              "#fb9f3a"
             ],
             [
              0.8888888888888888,
              "#fdca26"
             ],
             [
              1,
              "#f0f921"
             ]
            ],
            "type": "surface"
           }
          ],
          "table": [
           {
            "cells": {
             "fill": {
              "color": "#EBF0F8"
             },
             "line": {
              "color": "white"
             }
            },
            "header": {
             "fill": {
              "color": "#C8D4E3"
             },
             "line": {
              "color": "white"
             }
            },
            "type": "table"
           }
          ]
         },
         "layout": {
          "annotationdefaults": {
           "arrowcolor": "#2a3f5f",
           "arrowhead": 0,
           "arrowwidth": 1
          },
          "coloraxis": {
           "colorbar": {
            "outlinewidth": 0,
            "ticks": ""
           }
          },
          "colorscale": {
           "diverging": [
            [
             0,
             "#8e0152"
            ],
            [
             0.1,
             "#c51b7d"
            ],
            [
             0.2,
             "#de77ae"
            ],
            [
             0.3,
             "#f1b6da"
            ],
            [
             0.4,
             "#fde0ef"
            ],
            [
             0.5,
             "#f7f7f7"
            ],
            [
             0.6,
             "#e6f5d0"
            ],
            [
             0.7,
             "#b8e186"
            ],
            [
             0.8,
             "#7fbc41"
            ],
            [
             0.9,
             "#4d9221"
            ],
            [
             1,
             "#276419"
            ]
           ],
           "sequential": [
            [
             0,
             "#0d0887"
            ],
            [
             0.1111111111111111,
             "#46039f"
            ],
            [
             0.2222222222222222,
             "#7201a8"
            ],
            [
             0.3333333333333333,
             "#9c179e"
            ],
            [
             0.4444444444444444,
             "#bd3786"
            ],
            [
             0.5555555555555556,
             "#d8576b"
            ],
            [
             0.6666666666666666,
             "#ed7953"
            ],
            [
             0.7777777777777778,
             "#fb9f3a"
            ],
            [
             0.8888888888888888,
             "#fdca26"
            ],
            [
             1,
             "#f0f921"
            ]
           ],
           "sequentialminus": [
            [
             0,
             "#0d0887"
            ],
            [
             0.1111111111111111,
             "#46039f"
            ],
            [
             0.2222222222222222,
             "#7201a8"
            ],
            [
             0.3333333333333333,
             "#9c179e"
            ],
            [
             0.4444444444444444,
             "#bd3786"
            ],
            [
             0.5555555555555556,
             "#d8576b"
            ],
            [
             0.6666666666666666,
             "#ed7953"
            ],
            [
             0.7777777777777778,
             "#fb9f3a"
            ],
            [
             0.8888888888888888,
             "#fdca26"
            ],
            [
             1,
             "#f0f921"
            ]
           ]
          },
          "colorway": [
           "#636efa",
           "#EF553B",
           "#00cc96",
           "#ab63fa",
           "#FFA15A",
           "#19d3f3",
           "#FF6692",
           "#B6E880",
           "#FF97FF",
           "#FECB52"
          ],
          "font": {
           "color": "#2a3f5f"
          },
          "geo": {
           "bgcolor": "white",
           "lakecolor": "white",
           "landcolor": "#E5ECF6",
           "showlakes": true,
           "showland": true,
           "subunitcolor": "white"
          },
          "hoverlabel": {
           "align": "left"
          },
          "hovermode": "closest",
          "mapbox": {
           "style": "light"
          },
          "paper_bgcolor": "white",
          "plot_bgcolor": "#E5ECF6",
          "polar": {
           "angularaxis": {
            "gridcolor": "white",
            "linecolor": "white",
            "ticks": ""
           },
           "bgcolor": "#E5ECF6",
           "radialaxis": {
            "gridcolor": "white",
            "linecolor": "white",
            "ticks": ""
           }
          },
          "scene": {
           "xaxis": {
            "backgroundcolor": "#E5ECF6",
            "gridcolor": "white",
            "gridwidth": 2,
            "linecolor": "white",
            "showbackground": true,
            "ticks": "",
            "zerolinecolor": "white"
           },
           "yaxis": {
            "backgroundcolor": "#E5ECF6",
            "gridcolor": "white",
            "gridwidth": 2,
            "linecolor": "white",
            "showbackground": true,
            "ticks": "",
            "zerolinecolor": "white"
           },
           "zaxis": {
            "backgroundcolor": "#E5ECF6",
            "gridcolor": "white",
            "gridwidth": 2,
            "linecolor": "white",
            "showbackground": true,
            "ticks": "",
            "zerolinecolor": "white"
           }
          },
          "shapedefaults": {
           "line": {
            "color": "#2a3f5f"
           }
          },
          "ternary": {
           "aaxis": {
            "gridcolor": "white",
            "linecolor": "white",
            "ticks": ""
           },
           "baxis": {
            "gridcolor": "white",
            "linecolor": "white",
            "ticks": ""
           },
           "bgcolor": "#E5ECF6",
           "caxis": {
            "gridcolor": "white",
            "linecolor": "white",
            "ticks": ""
           }
          },
          "title": {
           "x": 0.05
          },
          "xaxis": {
           "automargin": true,
           "gridcolor": "white",
           "linecolor": "white",
           "ticks": "",
           "title": {
            "standoff": 15
           },
           "zerolinecolor": "white",
           "zerolinewidth": 2
          },
          "yaxis": {
           "automargin": true,
           "gridcolor": "white",
           "linecolor": "white",
           "ticks": "",
           "title": {
            "standoff": 15
           },
           "zerolinecolor": "white",
           "zerolinewidth": 2
          }
         }
        }
       }
      },
      "text/html": [
       "<div>                            <div id=\"0b2e1516-f391-49c6-8672-b32e4d433a4d\" class=\"plotly-graph-div\" style=\"height:525px; width:100%;\"></div>            <script type=\"text/javascript\">                require([\"plotly\"], function(Plotly) {                    window.PLOTLYENV=window.PLOTLYENV || {};                                    if (document.getElementById(\"0b2e1516-f391-49c6-8672-b32e4d433a4d\")) {                    Plotly.newPlot(                        \"0b2e1516-f391-49c6-8672-b32e4d433a4d\",                        [{\"branchvalues\": \"total\", \"domain\": {\"x\": [0.0, 1.0], \"y\": [0.0, 1.0]}, \"hovertemplate\": \"labels=%{label}<br>toilet_seat_1=%{value}<br>parent=%{parent}<br>id=%{id}<extra></extra>\", \"ids\": [\"Bacteria/Firmicutes/Bacilli/Lactobacillales/Aerococcaceae/Abiotrophia\", \"Bacteria/Proteobacteria/Alphaproteobacteria/Rhodospirillales/Acetobacteraceae/Acetobacter\", \"Bacteria/Firmicutes/Clostridia/Clostridiales/Eubacteriaceae/Acetobacterium\", \"Bacteria/Proteobacteria/Betaproteobacteria/Burkholderiales/Alcaligenaceae/Achromobacter\", \"Bacteria/Proteobacteria/Betaproteobacteria/Burkholderiales/Comamonadaceae/Acidovorax\", \"Bacteria/Proteobacteria/Gammaproteobacteria/Pseudomonadales/Moraxellaceae/Acinetobacter\", \"Bacteria/Actinobacteria/Actinobacteria/Actinomycetales/Actinomycetaceae/Actinobaculum\", \"Bacteria/Actinobacteria/Actinobacteria/Actinomycetales/Actinomycetaceae/Actinomyces\", \"Bacteria/Actinobacteria/Actinobacteria/Actinomycetales/Pseudonocardiaceae/Actinomycetospora\", \"Bacteria/Actinobacteria/Actinobacteria/Actinomycetales/Micromonosporaceae/Actinoplanes\", \"Bacteria/Bacteroidetes/Cytophagia/Cytophagales/Cytophagaceae/Adhaeribacter\", \"Bacteria/Firmicutes/Bacilli/Lactobacillales/Aerococcaceae/Aerococcus\", \"Bacteria/Actinobacteria/Actinobacteria/Actinomycetales/Nocardioidaceae/Aeromicrobium\", \"Bacteria/Proteobacteria/Gammaproteobacteria/Aeromonadales/Aeromonadaceae/Aeromonas\", \"Bacteria/Proteobacteria/Alphaproteobacteria/Rhizobiales/Bradyrhizobiaceae/Afipia\", \"Bacteria/Proteobacteria/Alphaproteobacteria/Rhodobacterales/Rhodobacteraceae/Agaricicola\", \"Bacteria/Proteobacteria/Gammaproteobacteria/Pasteurellales/Pasteurellaceae/Aggregatibacter\", \"Bacteria/Actinobacteria/Actinobacteria/Actinomycetales/Microbacteriaceae/Agreia\", \"Bacteria/Actinobacteria/Actinobacteria/Actinomycetales/Microbacteriaceae/Agrococcus\", \"Bacteria/Actinobacteria/Actinobacteria/Actinomycetales/Microbacteriaceae/Agromyces\", \"Bacteria/Proteobacteria/Betaproteobacteria/Burkholderiales/Comamonadaceae/Albidiferax\", \"Bacteria/Bacteroidetes/Bacteroidia/Bacteroidales/Rikenellaceae/Alistipes\", \"Bacteria/Proteobacteria/Gammaproteobacteria/Pseudomonadales/Moraxellaceae/Alkanindiges\", \"Bacteria/Firmicutes/Erysipelotrichia/Erysipelotrichales/Erysipelotrichaceae/Allobaculum\", \"Bacteria/Bacteroidetes/Bacteroidia/Bacteroidales/Prevotellaceae/Alloprevotella\", \"Bacteria/Proteobacteria/Alphaproteobacteria/Sphingomonadales/Erythrobacteraceae/Altererythrobacter\", \"Bacteria/Proteobacteria/Alphaproteobacteria/Rhodobacterales/Rhodobacteraceae/Amaricoccus\", \"Bacteria/Actinobacteria/Actinobacteria/Actinomycetales/Microbacteriaceae/Amnibacterium\", \"Bacteria/Firmicutes/Clostridia/Clostridiales/Clostridiales_Incertae_Sedis_XI/Anaerococcus\", \"Bacteria/Firmicutes/Clostridia/Clostridiales/Clostridiales_Incertae_Sedis_XIII/Anaerovorax\", \"Bacteria/Firmicutes/Bacilli/Bacillales/Bacillaceae_1/Anoxybacillus\", \"Bacteria/Proteobacteria/Betaproteobacteria/Burkholderiales/Burkholderiales_incertae_sedis/Aquabacterium\", \"Bacteria/Proteobacteria/Gammaproteobacteria/Legionellales/Coxiellaceae/Aquicella\", \"Bacteria/Proteobacteria/Betaproteobacteria/Burkholderiales/Burkholderiales_incertae_sedis/Aquincola\", \"Bacteria/Proteobacteria/Epsilonproteobacteria/Campylobacterales/Campylobacteraceae/Arcobacter\", \"Bacteria/Bacteroidetes/Sphingobacteriia/Sphingobacteriales/Sphingobacteriaceae/Arcticibacter\", \"Bacteria/Actinobacteria/Actinobacteria/Actinomycetales/Intrasporangiaceae/Arsenicicoccus\", \"Bacteria/Actinobacteria/Actinobacteria/Actinomycetales/Micrococcaceae/Arthrobacter\", \"Bacteria/Actinobacteria/Actinobacteria/Coriobacteriales/Coriobacteriaceae/Asaccharobacter\", \"Bacteria/Actinobacteria/Actinobacteria/Actinomycetales/Micromonosporaceae/Asanoa\", \"Bacteria/Proteobacteria/Alphaproteobacteria/Caulobacterales/Caulobacteraceae/Asticcacaulis\", \"Bacteria/Actinobacteria/Actinobacteria/Coriobacteriales/Coriobacteriaceae/Atopobium\", \"Bacteria/Firmicutes/Bacilli/Lactobacillales/Carnobacteriaceae/Atopostipes\", \"Bacteria/Proteobacteria/Alphaproteobacteria/Rhizobiales/Aurantimonadaceae/Aurantimonas\", \"Bacteria/Actinobacteria/Actinobacteria/Actinomycetales/Propionibacteriaceae/Auraticoccus\", \"Bacteria/Proteobacteria/Betaproteobacteria/Burkholderiales/Alcaligenaceae/Azohydromonas\", \"Bacteria/Proteobacteria/Betaproteobacteria/Rhodocyclales/Rhodocyclaceae/Azospira\", \"Bacteria/Proteobacteria/Alphaproteobacteria/Rhodospirillales/Rhodospirillaceae/Azospirillum\", \"Bacteria/Firmicutes/Bacilli/Bacillales/Bacillaceae_1/Bacillus\", \"Bacteria/Bacteroidetes/Bacteroidia/Bacteroidales/Bacteroidaceae/Bacteroides\", \"Bacteria/Bacteroidetes/Bacteroidia/Bacteroidales/Porphyromonadaceae/Barnesiella\", \"Bacteria/Proteobacteria/Deltaproteobacteria/Bdellovibrionales/Bdellovibrionaceae/Bdellovibrio\", \"Bacteria/Proteobacteria/Alphaproteobacteria/Rhodospirillales/Acetobacteraceae/Belnapia\", \"Bacteria/Actinobacteria/Actinobacteria/Bifidobacteriales/Bifidobacteriaceae/Bifidobacterium\", \"Bacteria/Proteobacteria/Alphaproteobacteria/Rhizobiales/Hyphomicrobiaceae/Blastochloris\", \"Bacteria/Actinobacteria/Actinobacteria/Actinomycetales/Geodermatophilaceae/Blastococcus\", \"Bacteria/Firmicutes/Clostridia/Clostridiales/Lachnospiraceae/Blautia\", \"Bacteria/Proteobacteria/Alphaproteobacteria/Rhizobiales/Bradyrhizobiaceae/Bosea\", \"Bacteria/Actinobacteria/Actinobacteria/Actinomycetales/Dermabacteraceae/Brachybacterium\", \"Bacteria/Actinobacteria/Actinobacteria/Actinomycetales/Brevibacteriaceae/Brevibacterium\", \"Bacteria/Proteobacteria/Alphaproteobacteria/Caulobacterales/Caulobacteraceae/Brevundimonas\", \"Bacteria/Proteobacteria/Gammaproteobacteria/Enterobacteriales/Enterobacteriaceae/Buchnera\", \"Bacteria/Proteobacteria/Betaproteobacteria/Burkholderiales/Burkholderiaceae/Burkholderia\", \"Bacteria/Firmicutes/Clostridia/Clostridiales/Ruminococcaceae/Butyricicoccus\", \"Bacteria/Bacteroidetes/Bacteroidia/Bacteroidales/Porphyromonadaceae/Butyricimonas\", \"Bacteria/Proteobacteria/Epsilonproteobacteria/Campylobacterales/Campylobacteraceae/Campylobacter\", \"Bacteria/Bacteroidetes/Flavobacteriia/Flavobacteriales/Flavobacteriaceae/Capnocytophaga\", \"Bacteria/Proteobacteria/Gammaproteobacteria/Cardiobacteriales/Cardiobacteriaceae/Cardiobacterium\", \"Bacteria/Firmicutes/Bacilli/Lactobacillales/Carnobacteriaceae/Carnobacterium\", \"Bacteria/Actinobacteria/Actinobacteria/Actinomycetales/Micromonosporaceae/Catellatospora\", \"Bacteria/Firmicutes/Clostridia/Clostridiales/Lachnospiraceae/Catonella\", \"Bacteria/Proteobacteria/Alphaproteobacteria/Caulobacterales/Caulobacteraceae/Caulobacter\", \"Bacteria/Actinobacteria/Actinobacteria/Actinomycetales/Cellulomonadaceae/Cellulomonas\", \"Bacteria/Proteobacteria/Gammaproteobacteria/Pseudomonadales/Pseudomonadaceae/Cellvibrio\", \"Bacteria/Bacteroidetes/Cytophagia/Cytophagales/Flammeovirgaceae/Cesiribacter\", \"Bacteria/Proteobacteria/Alphaproteobacteria/Rhizobiales/Phyllobacteriaceae/Chelativorans\", \"Bacteria/Proteobacteria/Alphaproteobacteria/Rhizobiales/Beijerinckiaceae/Chelatococcus\", \"Bacteria/Bacteroidetes/Sphingobacteriia/Sphingobacteriales/Chitinophagaceae/Chitinophaga\", \"Bacteria/Bacteroidetes/Flavobacteriia/Flavobacteriales/Flavobacteriaceae/Chryseobacterium\", \"Bacteria/Firmicutes/Bacilli/Bacillales/Planococcaceae/Chryseomicrobium\", \"Bacteria/Proteobacteria/Gammaproteobacteria/Enterobacteriales/Enterobacteriaceae/Citrobacter\", \"Bacteria/Actinobacteria/Actinobacteria/Actinomycetales/Microbacteriaceae/Clavibacter\", \"Bacteria/Bacteroidetes/Flavobacteriia/Flavobacteriales/Flavobacteriaceae/Cloacibacterium\", \"Bacteria/Firmicutes/Clostridia/Clostridiales/Peptostreptococcaceae/Clostridium_XI\", \"Bacteria/Firmicutes/Clostridia/Clostridiales/Lachnospiraceae/Clostridium_XlVa\", \"Bacteria/Firmicutes/Clostridia/Clostridiales/Clostridiaceae_1/Clostridium_sensu_stricto\", \"Bacteria/Actinobacteria/Actinobacteria/Coriobacteriales/Coriobacteriaceae/Collinsella\", \"Bacteria/Proteobacteria/Betaproteobacteria/Burkholderiales/Comamonadaceae/Comamonas\", \"Bacteria/Actinobacteria/Actinobacteria/Actinomycetales/Corynebacteriaceae/Corynebacterium\", \"Bacteria/Proteobacteria/Alphaproteobacteria/Sphingomonadales/Erythrobacteraceae/Croceicoccus\", \"Bacteria/Bacteroidetes/Flavobacteriia/Flavobacteriales/Flavobacteriaceae/Cruoricaptor\", \"Bacteria/Proteobacteria/Betaproteobacteria/Burkholderiales/Burkholderiaceae/Cupriavidus\", \"Bacteria/Actinobacteria/Actinobacteria/Actinomycetales/Microbacteriaceae/Curtobacterium\", \"Bacteria/Bacteroidetes/Cytophagia/Cytophagales/Cytophagaceae/Cytophaga\", \"Bacteria/Proteobacteria/Betaproteobacteria/Rhodocyclales/Rhodocyclaceae/Dechloromonas\", \"Bacteria/Proteobacteria/Alphaproteobacteria/Rhodospirillales/Rhodospirillaceae/Defluviicoccus\", \"Bacteria/Deinococcus-Thermus/Deinococci/Deinococcales/Deinococcaceae/Deinococcus\", \"Bacteria/Proteobacteria/Betaproteobacteria/Burkholderiales/Comamonadaceae/Delftia\", \"Bacteria/Actinobacteria/Actinobacteria/Actinomycetales/Demequinaceae/Demequina\", \"Bacteria/Actinobacteria/Actinobacteria/Actinomycetales/Dermabacteraceae/Dermabacter\", \"Bacteria/Actinobacteria/Actinobacteria/Actinomycetales/Dermacoccaceae/Dermacoccus\", \"Bacteria/Firmicutes/Bacilli/Lactobacillales/Carnobacteriaceae/Desemzia\", \"Bacteria/Proteobacteria/Deltaproteobacteria/Desulfobacterales/Desulfobulbaceae/Desulfobulbus\", \"Bacteria/Proteobacteria/Alphaproteobacteria/Rhizobiales/Hyphomicrobiaceae/Devosia\", \"Bacteria/Firmicutes/Negativicutes/Selenomonadales/Veillonellaceae/Dialister\", \"Bacteria/Proteobacteria/Betaproteobacteria/Burkholderiales/Comamonadaceae/Diaphorobacter\", \"Bacteria/Actinobacteria/Actinobacteria/Actinomycetales/Dietziaceae/Dietzia\", \"Bacteria/Proteobacteria/Gammaproteobacteria/Xanthomonadales/Xanthomonadaceae/Dokdonella\", \"Bacteria/Firmicutes/Bacilli/Lactobacillales/Carnobacteriaceae/Dolosigranulum\", \"Bacteria/Proteobacteria/Alphaproteobacteria/Rhodospirillales/Rhodospirillaceae/Dongia\", \"Bacteria/Firmicutes/Clostridia/Clostridiales/Lachnospiraceae/Dorea\", \"Bacteria/Proteobacteria/Betaproteobacteria/Burkholderiales/Oxalobacteraceae/Duganella\", \"Bacteria/Bacteroidetes/Cytophagia/Cytophagales/Cytophagaceae/Dyadobacter\", \"Bacteria/Proteobacteria/Gammaproteobacteria/Xanthomonadales/Xanthomonadaceae/Dyella\", \"Bacteria/Actinobacteria/Actinobacteria/Coriobacteriales/Coriobacteriaceae/Eggerthella\", \"Bacteria/Proteobacteria/Betaproteobacteria/Neisseriales/Neisseriaceae/Eikenella\", \"Bacteria/Bacteroidetes/Cytophagia/Cytophagales/Cytophagaceae/Emticicia\", \"Bacteria/Proteobacteria/Alphaproteobacteria/Rhodospirillales/Acetobacteraceae/Endobacter\", \"Bacteria/Proteobacteria/Gammaproteobacteria/Pseudomonadales/Moraxellaceae/Enhydrobacter\", \"Bacteria/Proteobacteria/Alphaproteobacteria/Rhizobiales/Rhizobiaceae/Ensifer\", \"Bacteria/Proteobacteria/Gammaproteobacteria/Enterobacteriales/Enterobacteriaceae/Enterobacter\", \"Bacteria/Firmicutes/Bacilli/Lactobacillales/Enterococcaceae/Enterococcus\", \"Bacteria/Bacteroidetes/Flavobacteriia/Flavobacteriales/Flavobacteriaceae/Epilithonimonas\", \"Bacteria/Firmicutes/Bacilli/Lactobacillales/Aerococcaceae/Eremococcus\", \"Bacteria/Firmicutes/Clostridia/Clostridiales/Eubacteriaceae/Eubacterium\", \"Bacteria/Actinobacteria/Actinobacteria/Euzebyales/Euzebyaceae/Euzebya\", \"Bacteria/Firmicutes/Bacilli/Bacillales/Bacillales_Incertae_Sedis_XII/Exiguobacterium\", \"Bacteria/Firmicutes/Bacilli/Lactobacillales/Aerococcaceae/Facklamia\", \"Bacteria/Firmicutes/Clostridia/Clostridiales/Ruminococcaceae/Faecalibacterium\", \"Bacteria/Bacteroidetes/Sphingobacteriia/Sphingobacteriales/Chitinophagaceae/Ferruginibacter\", \"Bacteria/Firmicutes/Clostridia/Clostridiales/Clostridiales_Incertae_Sedis_XI/Finegoldia\", \"Bacteria/Bacteroidetes/Sphingobacteriia/Sphingobacteriales/Chitinophagaceae/Flavisolibacter\", \"Bacteria/Bacteroidetes/Sphingobacteriia/Sphingobacteriales/Chitinophagaceae/Flavitalea\", \"Bacteria/Bacteroidetes/Flavobacteriia/Flavobacteriales/Flavobacteriaceae/Flavobacterium\", \"Bacteria/Bacteroidetes/Cytophagia/Cytophagales/Cytophagaceae/Flectobacillus\", \"Bacteria/Bacteroidetes/Flavobacteriia/Flavobacteriales/Cryomorphaceae/Fluviicola\", \"Bacteria/Actinobacteria/Actinobacteria/Actinomycetales/Propionibacteriaceae/Friedmanniella\", \"Bacteria/Actinobacteria/Actinobacteria/Actinomycetales/Microbacteriaceae/Frigoribacterium\", \"Bacteria/Fusobacteria/Fusobacteriia/Fusobacteriales/Fusobacteriaceae/Fusobacterium\", \"Bacteria/Actinobacteria/Actinobacteria/Gaiellales/Gaiellaceae/Gaiella\", \"Bacteria/Actinobacteria/Actinobacteria/Bifidobacteriales/Bifidobacteriaceae/Gardnerella\", \"Bacteria/Firmicutes/Bacilli/Bacillales/Bacillales_Incertae_Sedis_XI/Gemella\", \"Bacteria/Gemmatimonadetes/Gemmatimonadetes/Gemmatimonadales/Gemmatimonadaceae/Gemmatimonas\", \"Bacteria/Proteobacteria/Alphaproteobacteria/Rhodobacterales/Rhodobacteraceae/Gemmobacter\", \"Bacteria/Actinobacteria/Actinobacteria/Actinomycetales/Geodermatophilaceae/Geodermatophilus\", \"Bacteria/Actinobacteria/Actinobacteria/Actinomycetales/Bogoriellaceae/Georgenia\", \"Bacteria/Bacteroidetes/Flavobacteriia/Flavobacteriales/Flavobacteriaceae/Gillisia\", \"Bacteria/Actinobacteria/Actinobacteria/Actinomycetales/Nocardiaceae/Gordonia\", \"Bacteria/Actinobacteria/Actinobacteria/Coriobacteriales/Coriobacteriaceae/Gordonibacter\", \"Bacteria/Firmicutes/Bacilli/Lactobacillales/Carnobacteriaceae/Granulicatella\", \"Bacteria/Bacteroidetes/Sphingobacteriia/Sphingobacteriales/Saprospiraceae/Haliscomenobacter\", \"Bacteria/Verrucomicrobia/Verrucomicrobiae/Verrucomicrobiales/Verrucomicrobiaceae/Haloferula\", \"Bacteria/Proteobacteria/Gammaproteobacteria/Oceanospirillales/Halomonadaceae/Halomonas\", \"Bacteria/Proteobacteria/Epsilonproteobacteria/Campylobacterales/Helicobacteraceae/Helicobacter\", \"Bacteria/Actinobacteria/Actinobacteria/Actinomycetales/Microbacteriaceae/Herbiconiux\", \"Bacteria/Chloroflexi/Chloroflexia/Herpetosiphonales/Herpetosiphonaceae/Herpetosiphon\", \"Bacteria/Proteobacteria/Gammaproteobacteria/Xanthomonadales/Sinobacteraceae/Hydrocarboniphaga\", \"Bacteria/Proteobacteria/Betaproteobacteria/Burkholderiales/Comamonadaceae/Hydrogenophaga\", \"Bacteria/Proteobacteria/Betaproteobacteria/Hydrogenophilales/Hydrogenophilaceae/Hydrogenophilus\", \"Bacteria/Bacteroidetes/Cytophagia/Cytophagales/Cytophagaceae/Hymenobacter\", \"Bacteria/Proteobacteria/Alphaproteobacteria/Rhizobiales/Hyphomicrobiaceae/Hyphomicrobium\", \"Bacteria/Actinobacteria/Actinobacteria/Acidimicrobiales/Iamiaceae/Iamia\", \"Bacteria/Actinobacteria/Actinobacteria/Acidimicrobiales/Acidimicrobiaceae/Ilumatobacter\", \"Bacteria/Actinobacteria/Actinobacteria/Actinomycetales/Intrasporangiaceae/Janibacter\", \"Bacteria/Firmicutes/Bacilli/Bacillales/Staphylococcaceae/Jeotgalicoccus\", \"Bacteria/Synergistetes/Synergistia/Synergistales/Synergistaceae/Jonquetella\", \"Bacteria/Proteobacteria/Alphaproteobacteria/Rhizobiales/Rhizobiaceae/Kaistia\", \"Bacteria/Actinobacteria/Actinobacteria/Actinomycetales/Kineosporiaceae/Kineococcus\", \"Bacteria/Actinobacteria/Actinobacteria/Actinomycetales/Kineosporiaceae/Kineosporia\", \"Bacteria/Proteobacteria/Betaproteobacteria/Neisseriales/Neisseriaceae/Kingella\", \"Bacteria/Actinobacteria/Actinobacteria/Actinomycetales/Intrasporangiaceae/Knoellia\", \"Bacteria/Actinobacteria/Actinobacteria/Actinomycetales/Micrococcaceae/Kocuria\", \"Bacteria/Actinobacteria/Actinobacteria/Actinomycetales/Nocardioidaceae/Kribbella\", \"Bacteria/Actinobacteria/Actinobacteria/Actinomycetales/Dermacoccaceae/Kytococcus\", \"Bacteria/Firmicutes/Clostridia/Clostridiales/Lachnospiraceae/Lachnoanaerobaculum\", \"Bacteria/Bacteroidetes/Sphingobacteriia/Sphingobacteriales/Chitinophagaceae/Lacibacter\", \"Bacteria/Firmicutes/Bacilli/Lactobacillales/Lactobacillaceae/Lactobacillus\", \"Bacteria/Firmicutes/Bacilli/Lactobacillales/Streptococcaceae/Lactococcus\", \"Bacteria/Bacteroidetes/Cytophagia/Cytophagales/Cytophagaceae/Larkinella\", \"Bacteria/Proteobacteria/Gammaproteobacteria/Legionellales/Legionellaceae/Legionella\", \"Bacteria/Actinobacteria/Actinobacteria/Actinomycetales/Microbacteriaceae/Leifsonia\", \"Bacteria/Fusobacteria/Fusobacteriia/Fusobacteriales/Leptotrichiaceae/Leptotrichia\", \"Bacteria/Actinobacteria/Actinobacteria/Actinomycetales/Microbacteriaceae/Leucobacter\", \"Bacteria/Firmicutes/Bacilli/Lactobacillales/Leuconostocaceae/Leuconostoc\", \"Bacteria/Proteobacteria/Betaproteobacteria/Burkholderiales/Burkholderiaceae/Limnobacter\", \"Bacteria/Proteobacteria/Betaproteobacteria/Burkholderiales/Comamonadaceae/Limnohabitans\", \"Bacteria/Actinobacteria/Actinobacteria/Actinomycetales/Micromonosporaceae/Luedemannella\", \"Bacteria/Actinobacteria/Actinobacteria/Actinomycetales/Propionibacteriaceae/Luteococcus\", \"Bacteria/Verrucomicrobia/Verrucomicrobiae/Verrucomicrobiales/Verrucomicrobiaceae/Luteolibacter\", \"Bacteria/Proteobacteria/Gammaproteobacteria/Xanthomonadales/Xanthomonadaceae/Lysobacter\", \"Bacteria/Firmicutes/Bacilli/Bacillales/Staphylococcaceae/Macrococcus\", \"Bacteria/Actinobacteria/Actinobacteria/Actinomycetales/Nocardioidaceae/Marmoricola\", \"Bacteria/Proteobacteria/Betaproteobacteria/Burkholderiales/Oxalobacteraceae/Massilia\", \"Bacteria/Firmicutes/Negativicutes/Selenomonadales/Veillonellaceae/Megasphaera\", \"Bacteria/Proteobacteria/Alphaproteobacteria/Rhizobiales/Phyllobacteriaceae/Mesorhizobium\", \"Bacteria/Proteobacteria/Betaproteobacteria/Methylophilales/Methylophilaceae/Methylobacillus\", \"Bacteria/Proteobacteria/Alphaproteobacteria/Rhizobiales/Methylobacteriaceae/Methylobacterium\", \"Bacteria/Proteobacteria/Gammaproteobacteria/Methylococcales/Methylococcaceae/Methylocaldum\", \"Bacteria/Proteobacteria/Alphaproteobacteria/Rhizobiales/Methylocystaceae/Methylocystis\", \"Bacteria/Proteobacteria/Betaproteobacteria/Methylophilales/Methylophilaceae/Methylophilus\", \"Bacteria/Proteobacteria/Betaproteobacteria/Methylophilales/Methylophilaceae/Methylotenera\", \"Bacteria/Proteobacteria/Betaproteobacteria/Rhodocyclales/Rhodocyclaceae/Methyloversatilis\", \"Bacteria/Proteobacteria/Betaproteobacteria/Methylophilales/Methylophilaceae/Methylovorus\", \"Bacteria/Actinobacteria/Actinobacteria/Actinomycetales/Microbacteriaceae/Microbacterium\", \"Bacteria/Actinobacteria/Actinobacteria/Actinomycetales/Micrococcaceae/Micrococcus\", \"Bacteria/Actinobacteria/Actinobacteria/Actinomycetales/Propionibacteriaceae/Microlunatus\", \"Bacteria/Actinobacteria/Actinobacteria/Actinomycetales/Micromonosporaceae/Micromonospora\", \"Bacteria/Actinobacteria/Actinobacteria/Actinomycetales/Propionibacteriaceae/Micropruina\", \"Bacteria/Proteobacteria/Alphaproteobacteria/Rhizobiales/Methylobacteriaceae/Microvirga\", \"Bacteria/Actinobacteria/Actinobacteria/Actinomycetales/Actinomycetaceae/Mobiluncus\", \"Bacteria/Actinobacteria/Actinobacteria/Actinomycetales/Geodermatophilaceae/Modestobacter\", \"Bacteria/Firmicutes/Clostridia/Clostridiales/Clostridiales_Incertae_Sedis_XIII/Mogibacterium\", \"Bacteria/Proteobacteria/Gammaproteobacteria/Pseudomonadales/Moraxellaceae/Moraxella\", \"Bacteria/Bacteroidetes/Sphingobacteriia/Sphingobacteriales/Sphingobacteriaceae/Mucilaginibacter\", \"Bacteria/Firmicutes/Clostridia/Clostridiales/Incertae_Sedis_XI/Murdochiella\", \"Bacteria/Actinobacteria/Actinobacteria/Actinomycetales/Mycobacteriaceae/Mycobacterium\", \"Bacteria/Actinobacteria/Actinobacteria/Actinomycetales/Nakamurellaceae/Nakamurella\", \"Bacteria/Proteobacteria/Betaproteobacteria/Burkholderiales/Oxalobacteraceae/Naxibacter\", \"Bacteria/Firmicutes/Negativicutes/Selenomonadales/Veillonellaceae/Negativicoccus\", \"Bacteria/Proteobacteria/Betaproteobacteria/Neisseriales/Neisseriaceae/Neisseria\", \"Bacteria/Actinobacteria/Actinobacteria/Actinomycetales/Micrococcaceae/Nesterenkonia\", \"Bacteria/Bacteroidetes/Sphingobacteriia/Sphingobacteriales/Chitinophagaceae/Niabella\", \"Bacteria/Actinobacteria/Actinobacteria/Actinomycetales/Nocardioidaceae/Nocardioides\", \"Bacteria/Proteobacteria/Betaproteobacteria/Burkholderiales/Oxalobacteraceae/Noviherbaspirillum\", \"Bacteria/Proteobacteria/Alphaproteobacteria/Rhodospirillales/Rhodospirillaceae/Novispirillum\", \"Bacteria/Proteobacteria/Alphaproteobacteria/Sphingomonadales/Sphingomonadaceae/Novosphingobium\", \"Bacteria/Bacteroidetes/Sphingobacteriia/Sphingobacteriales/Sphingobacteriaceae/Nubsella\", \"Bacteria/Proteobacteria/Alphaproteobacteria/Rhizobiales/Brucellaceae/Ochrobactrum\", \"Bacteria/Actinobacteria/Actinobacteria/Actinomycetales/Cellulomonadaceae/Oerskovia\", \"Bacteria/Firmicutes/Clostridia/Clostridiales/Lachnospiraceae/Oribacterium\", \"Bacteria/Actinobacteria/Actinobacteria/Actinomycetales/Intrasporangiaceae/Ornithinibacter\", \"Bacteria/Actinobacteria/Actinobacteria/Actinomycetales/Intrasporangiaceae/Ornithinicoccus\", \"Bacteria/Actinobacteria/Actinobacteria/Actinomycetales/Intrasporangiaceae/Ornithinimicrobium\", \"Bacteria/Firmicutes/Clostridia/Clostridiales/Ruminococcaceae/Oscillibacter\", \"Bacteria/Firmicutes/Bacilli/Bacillales/Paenibacillaceae_1/Paenibacillus\", \"Bacteria/Firmicutes/Bacilli/Bacillales/Planococcaceae/Paenisporosarcina\", \"Bacteria/Proteobacteria/Alphaproteobacteria/Rhodobacterales/Rhodobacteraceae/Palleronia\", \"Bacteria/Bacteroidetes/Bacteroidia/Bacteroidales/Porphyromonadaceae/Paludibacter\", \"Bacteria/Proteobacteria/Gammaproteobacteria/Enterobacteriales/Enterobacteriaceae/Pantoea\", \"Bacteria/Bacteroidetes/Bacteroidia/Bacteroidales/Porphyromonadaceae/Parabacteroides\", \"Bacteria/Proteobacteria/Alphaproteobacteria/Rhodobacterales/Rhodobacteraceae/Paracoccus\", \"Bacteria/Bacteroidetes/Sphingobacteriia/Sphingobacteriales/Chitinophagaceae/Parasegetibacter\", \"Bacteria/Proteobacteria/Betaproteobacteria/Burkholderiales/Sutterellaceae/Parasutterella\", \"Bacteria/Firmicutes/Clostridia/Clostridiales/Clostridiales_Incertae_Sedis_XI/Parvimonas\", \"Bacteria/Firmicutes/Bacilli/Lactobacillales/Lactobacillaceae/Pediococcus\", \"Bacteria/Bacteroidetes/Sphingobacteriia/Sphingobacteriales/Sphingobacteriaceae/Pedobacter\", \"Bacteria/Proteobacteria/Alphaproteobacteria/Rhizobiales/Hyphomicrobiaceae/Pedomicrobium\", \"Bacteria/Proteobacteria/Betaproteobacteria/Burkholderiales/Comamonadaceae/Pelomonas\", \"Bacteria/Firmicutes/Clostridia/Clostridiales/Clostridiales_Incertae_Sedis_XI/Peptoniphilus\", \"Bacteria/Firmicutes/Clostridia/Clostridiales/Peptostreptococcaceae/Peptostreptococcus\", \"Bacteria/Proteobacteria/Deltaproteobacteria/Bdellovibrionales/Bacteriovoracaceae/Peredibacter\", \"Bacteria/Bacteroidetes/Cytophagia/Cytophagales/Cytophagaceae/Persicitalea\", \"Bacteria/Proteobacteria/Alphaproteobacteria/Caulobacterales/Caulobacteraceae/Phenylobacterium\", \"Bacteria/Proteobacteria/Gammaproteobacteria/Vibrionales/Vibrionaceae/Photobacterium\", \"Bacteria/Actinobacteria/Actinobacteria/Actinomycetales/Intrasporangiaceae/Phycicoccus\", \"Bacteria/Proteobacteria/Alphaproteobacteria/Rhizobiales/Phyllobacteriaceae/Phyllobacterium\", \"Bacteria/Actinobacteria/Actinobacteria/Actinomycetales/Dermatophilaceae/Piscicoccus\", \"Bacteria/Bacteroidetes/Flavobacteriia/Flavobacteriales/Flavobacteriaceae/Planobacterium\", \"Bacteria/Firmicutes/Bacilli/Bacillales/Planococcaceae/Planococcus\", \"Bacteria/Firmicutes/Bacilli/Bacillales/Planococcaceae/Planomicrobium\", \"Bacteria/Actinobacteria/Actinobacteria/Actinomycetales/Microbacteriaceae/Plantibacter\", \"Bacteria/Proteobacteria/Betaproteobacteria/Burkholderiales/Comamonadaceae/Polaromonas\", \"Bacteria/Proteobacteria/Betaproteobacteria/Burkholderiales/Burkholderiaceae/Polynucleobacter\", \"Bacteria/Bacteroidetes/Cytophagia/Cytophagales/Cytophagaceae/Pontibacter\", \"Bacteria/Proteobacteria/Alphaproteobacteria/Sphingomonadales/Erythrobacteraceae/Porphyrobacter\", \"Bacteria/Bacteroidetes/Bacteroidia/Bacteroidales/Porphyromonadaceae/Porphyromonas\", \"Bacteria/Bacteroidetes/Bacteroidia/Bacteroidales/Prevotellaceae/Prevotella\", \"Bacteria/Actinobacteria/Actinobacteria/Actinomycetales/Propionibacteriaceae/Propionibacterium\", \"Bacteria/Actinobacteria/Actinobacteria/Actinomycetales/Propionibacteriaceae/Propionicimonas\", \"Bacteria/Proteobacteria/Betaproteobacteria/Rhodocyclales/Rhodocyclaceae/Propionivibrio\", \"Bacteria/Verrucomicrobia/Verrucomicrobiae/Verrucomicrobiales/Verrucomicrobiaceae/Prosthecobacter\", \"Bacteria/Proteobacteria/Gammaproteobacteria/Enterobacteriales/Enterobacteriaceae/Providencia\", \"Bacteria/Proteobacteria/Gammaproteobacteria/Alteromonadales/Pseudoalteromonadaceae/Pseudoalteromonas\", \"Bacteria/Proteobacteria/Alphaproteobacteria/Rhizobiales/Brucellaceae/Pseudochrobactrum\", \"Bacteria/Actinobacteria/Actinobacteria/Actinomycetales/Microbacteriaceae/Pseudoclavibacter\", \"Bacteria/Firmicutes/Clostridia/Clostridiales/Ruminococcaceae/Pseudoflavonifractor\", \"Bacteria/Proteobacteria/Gammaproteobacteria/Pseudomonadales/Pseudomonadaceae/Pseudomonas\", \"Bacteria/Actinobacteria/Actinobacteria/Actinomycetales/Pseudonocardiaceae/Pseudonocardia\", \"Bacteria/Proteobacteria/Betaproteobacteria/Burkholderiales/Comamonadaceae/Pseudorhodoferax\", \"Bacteria/Proteobacteria/Gammaproteobacteria/Xanthomonadales/Xanthomonadaceae/Pseudoxanthomonas\", \"Bacteria/Proteobacteria/Gammaproteobacteria/Pseudomonadales/Moraxellaceae/Psychrobacter\", \"Bacteria/Proteobacteria/Betaproteobacteria/Burkholderiales/Burkholderiaceae/Ralstonia\", \"Bacteria/Actinobacteria/Actinobacteria/Actinomycetales/Microbacteriaceae/Rathayibacter\", \"Bacteria/Proteobacteria/Gammaproteobacteria/Chromatiales/Chromatiaceae/Rheinheimera\", \"Bacteria/Proteobacteria/Gammaproteobacteria/Pseudomonadales/Pseudomonadaceae/Rhizobacter\", \"Bacteria/Proteobacteria/Alphaproteobacteria/Rhizobiales/Rhizobiaceae/Rhizobium\", \"Bacteria/Proteobacteria/Alphaproteobacteria/Rhodobacterales/Rhodobacteraceae/Rhodobacter\", \"Bacteria/Actinobacteria/Actinobacteria/Actinomycetales/Nocardiaceae/Rhodococcus\", \"Bacteria/Bacteroidetes/Cytophagia/Cytophagales/Cytophagaceae/Rhodocytophaga\", \"Bacteria/Proteobacteria/Alphaproteobacteria/Rickettsiales/Rickettsiaceae/Rickettsia\", \"Bacteria/Proteobacteria/Betaproteobacteria/Burkholderiales/Comamonadaceae/Roseateles\", \"Bacteria/Firmicutes/Clostridia/Clostridiales/Lachnospiraceae/Roseburia\", \"Bacteria/Verrucomicrobia/Verrucomicrobiae/Verrucomicrobiales/Verrucomicrobiaceae/Roseimicrobium\", \"Bacteria/Proteobacteria/Alphaproteobacteria/Rhodospirillales/Acetobacteraceae/Roseomonas\", \"Bacteria/Actinobacteria/Actinobacteria/Actinomycetales/Micrococcaceae/Rothia\", \"Bacteria/Proteobacteria/Alphaproteobacteria/Rhodobacterales/Rhodobacteraceae/Rubellimicrobium\", \"Bacteria/Actinobacteria/Actinobacteria/Rubrobacterales/Rubrobacteraceae/Rubrobacter\", \"Bacteria/Bacteroidetes/Cytophagia/Cytophagales/Cytophagaceae/Rudanella\", \"Bacteria/Firmicutes/Clostridia/Clostridiales/Ruminococcaceae/Ruminococcus\", \"Bacteria/Firmicutes/Clostridia/Clostridiales/Lachnospiraceae/Ruminococcus2\", \"Bacteria/Bacteroidetes/Cytophagia/Cytophagales/Cytophagaceae/Runella\", \"Bacteria/Actinobacteria/Actinobacteria/Actinomycetales/Pseudonocardiaceae/Saccharopolyspora\", \"Bacteria/Actinobacteria/Actinobacteria/Actinomycetales/Pseudonocardiaceae/Saccharothrix\", \"Bacteria/Bacteroidetes/Flavobacteriia/Flavobacteriales/Flavobacteriaceae/Salinimicrobium\", \"Bacteria/Actinobacteria/Actinobacteria/Actinomycetales/Sanguibacteraceae/Sanguibacter\", \"Bacteria/Firmicutes/Clostridia/Clostridiales/Clostridiaceae_1/Sarcina\", \"Bacteria/Proteobacteria/Betaproteobacteria/Burkholderiales/Comamonadaceae/Schlegelella\", \"Bacteria/Bacteroidetes/Sphingobacteriia/Sphingobacteriales/Chitinophagaceae/Sediminibacterium\", \"Bacteria/Bacteroidetes/Sphingobacteriia/Sphingobacteriales/Chitinophagaceae/Segetibacter\", \"Bacteria/Proteobacteria/Gammaproteobacteria/Alteromonadales/Shewanellaceae/Shewanella\", \"Bacteria/Proteobacteria/Betaproteobacteria/Rhodocyclales/Rhodocyclaceae/Shinella\", \"Bacteria/Proteobacteria/Betaproteobacteria/Burkholderiales/Comamonadaceae/Simplicispira\", \"Bacteria/Proteobacteria/Alphaproteobacteria/Rhodospirillales/Rhodospirillaceae/Skermanella\", \"Bacteria/Fusobacteria/Fusobacteriia/Fusobacteriales/Leptotrichiaceae/Sneathia\", \"Bacteria/Actinobacteria/Actinobacteria/Solirubrobacterales/Solirubrobacteraceae/Solirubrobacter\", \"Bacteria/Firmicutes/Erysipelotrichia/Erysipelotrichales/Erysipelotrichaceae/Solobacterium\", \"Bacteria/Bacteroidetes/Sphingobacteriia/Sphingobacteriales/Sphingobacteriaceae/Sphingobacterium\", \"Bacteria/Proteobacteria/Alphaproteobacteria/Sphingomonadales/Sphingomonadaceae/Sphingobium\", \"Bacteria/Proteobacteria/Alphaproteobacteria/Sphingomonadales/Sphingomonadaceae/Sphingomonas\", \"Bacteria/Proteobacteria/Alphaproteobacteria/Sphingomonadales/Sphingomonadaceae/Sphingopyxis\", \"Bacteria/Proteobacteria/Alphaproteobacteria/Sphingomonadales/Sphingomonadaceae/Sphingorhabdus\", \"Bacteria/Proteobacteria/Alphaproteobacteria/Sphingomonadales/Sphingomonadaceae/Sphingosinicella\", \"Bacteria/Bacteroidetes/Cytophagia/Cytophagales/Cytophagaceae/Spirosoma\", \"Bacteria/Firmicutes/Clostridia/Clostridiales/Peptostreptococcaceae/Sporacetigenium\", \"Bacteria/Firmicutes/Bacilli/Bacillales/Planococcaceae/Sporosarcina\", \"Bacteria/Firmicutes/Bacilli/Bacillales/Staphylococcaceae/Staphylococcus\", \"Bacteria/Proteobacteria/Alphaproteobacteria/Rhodospirillales/Acetobacteraceae/Stella\", \"Bacteria/Proteobacteria/Gammaproteobacteria/Xanthomonadales/Xanthomonadaceae/Stenotrophomonas\", \"Bacteria/Proteobacteria/Gammaproteobacteria/Xanthomonadales/Sinobacteraceae/Steroidobacter\", \"Bacteria/Firmicutes/Bacilli/Lactobacillales/Streptococcaceae/Streptococcus\", \"Bacteria/Actinobacteria/Actinobacteria/Actinomycetales/Streptomycetaceae/Streptomyces\", \"Bacteria/Firmicutes/Clostridia/Clostridiales/Ruminococcaceae/Subdoligranulum\", \"Bacteria/Actinobacteria/Actinobacteria/Actinomycetales/Intrasporangiaceae/Terracoccus\", \"Bacteria/Bacteroidetes/Sphingobacteriia/Sphingobacteriales/Chitinophagaceae/Terrimonas\", \"Bacteria/Actinobacteria/Actinobacteria/Actinomycetales/Propionibacteriaceae/Tessaracoccus\", \"Bacteria/Actinobacteria/Actinobacteria/Actinomycetales/Intrasporangiaceae/Tetrasphaera\", \"Bacteria/Firmicutes/Bacilli/Bacillales/Paenibacillaceae_1/Thermobacillus\", \"Bacteria/Proteobacteria/Gammaproteobacteria/Xanthomonadales/Xanthomonadaceae/Thermomonas\", \"Bacteria/Deinococcus-Thermus/Deinococci/Thermales/Thermaceae/Thermus\", \"Bacteria/Proteobacteria/Gammaproteobacteria/Aeromonadales/Aeromonadaceae/Tolumonas\", \"Bacteria/Spirochaetes/Spirochaetia/Spirochaetales/Spirochaetaceae/Treponema\", \"Bacteria/Firmicutes/Bacilli/Lactobacillales/Carnobacteriaceae/Trichococcus\", \"Bacteria/Deinococcus-Thermus/Deinococci/Deinococcales/Trueperaceae/Truepera\", \"Bacteria/Actinobacteria/Actinobacteria/Actinomycetales/Actinomycetaceae/Trueperella\", \"Bacteria/Actinobacteria/Actinobacteria/Actinomycetales/Corynebacteriaceae/Turicella\", \"Bacteria/Firmicutes/Erysipelotrichia/Erysipelotrichales/Erysipelotrichaceae/Turicibacter\", \"Bacteria/Firmicutes/Bacilli/Lactobacillales/Enterococcaceae/Vagococcus\", \"Bacteria/Actinobacteria/Actinobacteria/Actinomycetales/Actinomycetaceae/Varibaculum\", \"Bacteria/Proteobacteria/Betaproteobacteria/Burkholderiales/Comamonadaceae/Variovorax\", \"Bacteria/Firmicutes/Negativicutes/Selenomonadales/Veillonellaceae/Veillonella\", \"Bacteria/Proteobacteria/Gammaproteobacteria/Vibrionales/Vibrionaceae/Vibrio\", \"Bacteria/Bacteroidetes/Flavobacteriia/Flavobacteriales/Flavobacteriaceae/Wautersiella\", \"Bacteria/Actinobacteria/Actinobacteria/Actinomycetales/Nocardiaceae/Williamsia\", \"Bacteria/Proteobacteria/Gammaproteobacteria/Xanthomonadales/Xanthomonadaceae/Xanthomonas\", \"Bacteria/Actinobacteria/Actinobacteria/Actinomycetales/Micrococcaceae/Zhihengliuella\", \"Bacteria/Actinobacteria/Actinobacteria/Actinomycetales/Microbacteriaceae/Zimmermannella\", \"Bacteria/Proteobacteria/Alphaproteobacteria/Rhodospirillales/Acetobacteraceae/unclassified\", \"Bacteria/Actinobacteria/Actinobacteria/Actinomycetales/Actinomycetaceae/unclassified\", \"Bacteria/Firmicutes/Bacilli/Lactobacillales/Aerococcaceae/unclassified\", \"Bacteria/Proteobacteria/Betaproteobacteria/Burkholderiales/Alcaligenaceae/unclassified\", \"Bacteria/Chloroflexi/Anaerolineae/Anaerolineales/Anaerolineaceae/unclassified\", \"Bacteria/Proteobacteria/Deltaproteobacteria/Bdellovibrionales/Bacteriovoracaceae/unclassified\", \"Bacteria/Proteobacteria/Alphaproteobacteria/Rhizobiales/Beijerinckiaceae/unclassified\", \"Bacteria/Actinobacteria/Actinobacteria/Actinomycetales/Beutenbergiaceae/unclassified\", \"Bacteria/Proteobacteria/Alphaproteobacteria/Rhizobiales/Bradyrhizobiaceae/unclassified\", \"Bacteria/Proteobacteria/Betaproteobacteria/Burkholderiales/Burkholderiales_incertae_sedis/unclassified\", \"Bacteria/Chloroflexi/Caldilineae/Caldilineales/Caldilineaceae/unclassified\", \"Bacteria/Proteobacteria/Alphaproteobacteria/Caulobacterales/Caulobacteraceae/unclassified\", \"Bacteria/Actinobacteria/Actinobacteria/Actinomycetales/Cellulomonadaceae/unclassified\", \"Bacteria/Bacteroidetes/Sphingobacteriia/Sphingobacteriales/Chitinophagaceae/unclassified\", \"Bacteria/Chloroflexi/Chloroflexia/Chloroflexales/Chloroflexaceae/unclassified\", \"Bacteria/Firmicutes/Clostridia/Clostridiales/Clostridiaceae_1/unclassified\", \"Bacteria/Firmicutes/Clostridia/Clostridiales/Clostridiales_Incertae_Sedis_XI/unclassified\", \"Bacteria/Firmicutes/Clostridia/Clostridiales/Clostridiales_Incertae_Sedis_XIII/unclassified\", \"Bacteria/Proteobacteria/Betaproteobacteria/Burkholderiales/Comamonadaceae/unclassified\", \"Bacteria/Actinobacteria/Actinobacteria/Coriobacteriales/Coriobacteriaceae/unclassified\", \"Bacteria/Actinobacteria/Actinobacteria/Actinomycetales/Corynebacteriaceae/unclassified\", \"Bacteria/Bacteroidetes/Cytophagia/Cytophagales/Cytophagaceae/unclassified\", \"Bacteria/Deinococcus-Thermus/Deinococci/Deinococcales/Deinococcaceae/unclassified\", \"Bacteria/Actinobacteria/Actinobacteria/Actinomycetales/Dermabacteraceae/unclassified\", \"Bacteria/Proteobacteria/Gammaproteobacteria/Enterobacteriales/Enterobacteriaceae/unclassified\", \"Bacteria/Firmicutes/Erysipelotrichia/Erysipelotrichales/Erysipelotrichaceae/unclassified\", \"Bacteria/Proteobacteria/Alphaproteobacteria/Sphingomonadales/Erythrobacteraceae/unclassified\", \"Bacteria/Bacteroidetes/Flavobacteriia/Flavobacteriales/Flavobacteriaceae/unclassified\", \"Bacteria/Proteobacteria/Alphaproteobacteria/Alphaproteobacteria_incertae_sedis/Geminicoccus/unclassified\", \"Bacteria/Actinobacteria/Actinobacteria/Actinomycetales/Geodermatophilaceae/unclassified\", \"Bacteria/Proteobacteria/Betaproteobacteria/Hydrogenophilales/Hydrogenophilaceae/unclassified\", \"Bacteria/Actinobacteria/Actinobacteria/Actinomycetales/Intrasporangiaceae/unclassified\", \"Bacteria/Actinobacteria/Actinobacteria/Actinomycetales/Kineosporiaceae/unclassified\", \"Bacteria/Firmicutes/Clostridia/Clostridiales/Lachnospiraceae/unclassified\", \"Bacteria/Fusobacteria/Fusobacteriia/Fusobacteriales/Leptotrichiaceae/unclassified\", \"Bacteria/Proteobacteria/Alphaproteobacteria/Rhizobiales/Methylocystaceae/unclassified\", \"Bacteria/Actinobacteria/Actinobacteria/Actinomycetales/Microbacteriaceae/unclassified\", \"Bacteria/Actinobacteria/Actinobacteria/Actinomycetales/Micrococcaceae/unclassified\", \"Bacteria/Actinobacteria/Actinobacteria/Actinomycetales/Micromonosporaceae/unclassified\", \"Bacteria/Proteobacteria/Gammaproteobacteria/Pseudomonadales/Moraxellaceae/unclassified\", \"Bacteria/Proteobacteria/Betaproteobacteria/Neisseriales/Neisseriaceae/unclassified\", \"Bacteria/Actinobacteria/Actinobacteria/Actinomycetales/Nocardiaceae/unclassified\", \"Bacteria/Actinobacteria/Actinobacteria/Actinomycetales/Nocardioidaceae/unclassified\", \"Bacteria/Verrucomicrobia/Opitutae/Opitutales/Opitutaceae/unclassified\", \"Bacteria/Proteobacteria/Betaproteobacteria/Burkholderiales/Oxalobacteraceae/unclassified\", \"Bacteria/Proteobacteria/Gammaproteobacteria/Pasteurellales/Pasteurellaceae/unclassified\", \"Bacteria/Proteobacteria/Alphaproteobacteria/Rhizobiales/Phyllobacteriaceae/unclassified\", \"Bacteria/Planctomycetes/Planctomycetia/Planctomycetales/Planctomycetaceae/unclassified\", \"Bacteria/Firmicutes/Bacilli/Bacillales/Planococcaceae/unclassified\", \"Bacteria/Bacteroidetes/Bacteroidia/Bacteroidales/Porphyromonadaceae/unclassified\", \"Bacteria/Bacteroidetes/Bacteroidia/Bacteroidales/Prevotellaceae/unclassified\", \"Bacteria/Actinobacteria/Actinobacteria/Actinomycetales/Propionibacteriaceae/unclassified\", \"Bacteria/Proteobacteria/Gammaproteobacteria/Pseudomonadales/Pseudomonadaceae/unclassified\", \"Bacteria/Actinobacteria/Actinobacteria/Actinomycetales/Pseudonocardiaceae/unclassified\", \"Bacteria/Proteobacteria/Alphaproteobacteria/Rhodobacterales/Rhodobacteraceae/unclassified\", \"Bacteria/Proteobacteria/Betaproteobacteria/Rhodocyclales/Rhodocyclaceae/unclassified\", \"Bacteria/Proteobacteria/Alphaproteobacteria/Rhodospirillales/Rhodospirillaceae/unclassified\", \"Bacteria/Firmicutes/Clostridia/Clostridiales/Ruminococcaceae/unclassified\", \"Bacteria/Bacteroidetes/Sphingobacteriia/Sphingobacteriales/Saprospiraceae/unclassified\", \"Bacteria/Bacteroidetes/Sphingobacteriia/Sphingobacteriales/Sphingobacteriaceae/unclassified\", \"Bacteria/Proteobacteria/Alphaproteobacteria/Sphingomonadales/Sphingomonadaceae/unclassified\", \"Bacteria/Firmicutes/Bacilli/Bacillales/Staphylococcaceae/unclassified\", \"Bacteria/Actinobacteria/Actinobacteria/Actinomycetales/Streptomycetaceae/unclassified\", \"Bacteria/Actinobacteria/Actinobacteria/Actinomycetales/Streptosporangiaceae/unclassified\", \"Bacteria/Firmicutes/Negativicutes/Selenomonadales/Veillonellaceae/unclassified\", \"Bacteria/Proteobacteria/Gammaproteobacteria/Xanthomonadales/Xanthomonadaceae/unclassified\", \"Bacteria/Actinobacteria/Actinobacteria/Acidimicrobiales/unclassified/unclassified\", \"Bacteria/Actinobacteria/Actinobacteria/Actinomycetales/unclassified/unclassified\", \"Bacteria/Firmicutes/Bacilli/Bacillales/unclassified/unclassified\", \"Bacteria/Bacteroidetes/Bacteroidia/Bacteroidales/unclassified/unclassified\", \"Bacteria/Acidobacteria/Acidobacteria_Gp4/Blastocatella/unclassified/unclassified\", \"Bacteria/Proteobacteria/Betaproteobacteria/Burkholderiales/unclassified/unclassified\", \"Bacteria/Chloroflexi/Chloroflexia/Chloroflexales/unclassified/unclassified\", \"Bacteria/Firmicutes/Clostridia/Clostridiales/unclassified/unclassified\", \"Bacteria/Bacteroidetes/Cytophagia/Cytophagales/unclassified/unclassified\", \"Bacteria/Deinococcus-Thermus/Deinococci/Deinococcales/unclassified/unclassified\", \"Bacteria/Bacteroidetes/Flavobacteriia/Flavobacteriales/unclassified/unclassified\", \"Bacteria/Fusobacteria/Fusobacteriia/Fusobacteriales/unclassified/unclassified\", \"Bacteria/Acidobacteria/Acidobacteria_Gp1/Gp1/unclassified/unclassified\", \"Bacteria/Acidobacteria/Acidobacteria_Gp16/Gp16/unclassified/unclassified\", \"Bacteria/Acidobacteria/Acidobacteria_Gp17/Gp17/unclassified/unclassified\", \"Bacteria/Acidobacteria/Acidobacteria_Gp2/Gp2/unclassified/unclassified\", \"Bacteria/Acidobacteria/Acidobacteria_Gp3/Gp3/unclassified/unclassified\", \"Bacteria/Acidobacteria/Acidobacteria_Gp4/Gp4/unclassified/unclassified\", \"Bacteria/Acidobacteria/Acidobacteria_Gp6/Gp6/unclassified/unclassified\", \"Bacteria/Acidobacteria/Acidobacteria_Gp7/Gp7/unclassified/unclassified\", \"Bacteria/Firmicutes/Bacilli/Lactobacillales/unclassified/unclassified\", \"Bacteria/Proteobacteria/Deltaproteobacteria/Myxococcales/unclassified/unclassified\", \"Bacteria/Bacteroidetes/Bacteroidetes_incertae_sedis/Ohtaekwangia/unclassified/unclassified\", \"Bacteria/Proteobacteria/Gammaproteobacteria/Pseudomonadales/unclassified/unclassified\", \"Bacteria/Proteobacteria/Alphaproteobacteria/Rhizobiales/unclassified/unclassified\", \"Bacteria/Proteobacteria/Alphaproteobacteria/Rhodospirillales/unclassified/unclassified\", \"Bacteria/Actinobacteria/Actinobacteria/Solirubrobacterales/unclassified/unclassified\", \"Bacteria/Bacteroidetes/Sphingobacteriia/Sphingobacteriales/unclassified/unclassified\", \"Bacteria/Proteobacteria/Alphaproteobacteria/Sphingomonadales/unclassified/unclassified\", \"Bacteria/Proteobacteria/Gammaproteobacteria/Xanthomonadales/unclassified/unclassified\", \"Bacteria/Acidobacteria/Acidobacteria_Gp3/unclassified/unclassified/unclassified\", \"Bacteria/Acidobacteria/Acidobacteria_Gp4/unclassified/unclassified/unclassified\", \"Bacteria/Actinobacteria/Actinobacteria/unclassified/unclassified/unclassified\", \"Bacteria/Proteobacteria/Alphaproteobacteria/unclassified/unclassified/unclassified\", \"Bacteria/Armatimonadetes/Armatimonadetes_gp4/unclassified/unclassified/unclassified\", \"Bacteria/Armatimonadetes/Armatimonadetes_gp5/unclassified/unclassified/unclassified\", \"Bacteria/Firmicutes/Bacilli/unclassified/unclassified/unclassified\", \"Bacteria/Proteobacteria/Betaproteobacteria/unclassified/unclassified/unclassified\", \"Bacteria/Deinococcus-Thermus/Deinococci/unclassified/unclassified/unclassified\", \"Bacteria/Proteobacteria/Deltaproteobacteria/unclassified/unclassified/unclassified\", \"Bacteria/Proteobacteria/Gammaproteobacteria/unclassified/unclassified/unclassified\", \"Bacteria/Acidobacteria/unclassified/unclassified/unclassified/unclassified\", \"Bacteria/Actinobacteria/unclassified/unclassified/unclassified/unclassified\", \"Bacteria/Armatimonadetes/unclassified/unclassified/unclassified/unclassified\", \"Bacteria/Bacteroidetes/unclassified/unclassified/unclassified/unclassified\", \"Bacteria/Candidatus_Saccharibacteria/unclassified/unclassified/unclassified/unclassified\", \"Bacteria/Chloroflexi/unclassified/unclassified/unclassified/unclassified\", \"Bacteria/Firmicutes/unclassified/unclassified/unclassified/unclassified\", \"Bacteria/Microgenomates/unclassified/unclassified/unclassified/unclassified\", \"Bacteria/Parcubacteria/unclassified/unclassified/unclassified/unclassified\", \"Bacteria/Proteobacteria/unclassified/unclassified/unclassified/unclassified\", \"Bacteria/Verrucomicrobia/unclassified/unclassified/unclassified/unclassified\", \"Bacteria/unclassified/unclassified/unclassified/unclassified/unclassified\", \"Bacteria/Proteobacteria/Alphaproteobacteria/Rhodospirillales/Acetobacteraceae\", \"Bacteria/Actinobacteria/Actinobacteria/Acidimicrobiales/Acidimicrobiaceae\", \"Bacteria/Actinobacteria/Actinobacteria/Actinomycetales/Actinomycetaceae\", \"Bacteria/Firmicutes/Bacilli/Lactobacillales/Aerococcaceae\", \"Bacteria/Proteobacteria/Gammaproteobacteria/Aeromonadales/Aeromonadaceae\", \"Bacteria/Proteobacteria/Betaproteobacteria/Burkholderiales/Alcaligenaceae\", \"Bacteria/Chloroflexi/Anaerolineae/Anaerolineales/Anaerolineaceae\", \"Bacteria/Proteobacteria/Alphaproteobacteria/Rhizobiales/Aurantimonadaceae\", \"Bacteria/Firmicutes/Bacilli/Bacillales/Bacillaceae_1\", \"Bacteria/Firmicutes/Bacilli/Bacillales/Bacillales_Incertae_Sedis_XI\", \"Bacteria/Firmicutes/Bacilli/Bacillales/Bacillales_Incertae_Sedis_XII\", \"Bacteria/Proteobacteria/Deltaproteobacteria/Bdellovibrionales/Bacteriovoracaceae\", \"Bacteria/Bacteroidetes/Bacteroidia/Bacteroidales/Bacteroidaceae\", \"Bacteria/Proteobacteria/Deltaproteobacteria/Bdellovibrionales/Bdellovibrionaceae\", \"Bacteria/Proteobacteria/Alphaproteobacteria/Rhizobiales/Beijerinckiaceae\", \"Bacteria/Actinobacteria/Actinobacteria/Actinomycetales/Beutenbergiaceae\", \"Bacteria/Actinobacteria/Actinobacteria/Bifidobacteriales/Bifidobacteriaceae\", \"Bacteria/Actinobacteria/Actinobacteria/Actinomycetales/Bogoriellaceae\", \"Bacteria/Proteobacteria/Alphaproteobacteria/Rhizobiales/Bradyrhizobiaceae\", \"Bacteria/Actinobacteria/Actinobacteria/Actinomycetales/Brevibacteriaceae\", \"Bacteria/Proteobacteria/Alphaproteobacteria/Rhizobiales/Brucellaceae\", \"Bacteria/Proteobacteria/Betaproteobacteria/Burkholderiales/Burkholderiaceae\", \"Bacteria/Proteobacteria/Betaproteobacteria/Burkholderiales/Burkholderiales_incertae_sedis\", \"Bacteria/Chloroflexi/Caldilineae/Caldilineales/Caldilineaceae\", \"Bacteria/Proteobacteria/Epsilonproteobacteria/Campylobacterales/Campylobacteraceae\", \"Bacteria/Proteobacteria/Gammaproteobacteria/Cardiobacteriales/Cardiobacteriaceae\", \"Bacteria/Firmicutes/Bacilli/Lactobacillales/Carnobacteriaceae\", \"Bacteria/Proteobacteria/Alphaproteobacteria/Caulobacterales/Caulobacteraceae\", \"Bacteria/Actinobacteria/Actinobacteria/Actinomycetales/Cellulomonadaceae\", \"Bacteria/Bacteroidetes/Sphingobacteriia/Sphingobacteriales/Chitinophagaceae\", \"Bacteria/Chloroflexi/Chloroflexia/Chloroflexales/Chloroflexaceae\", \"Bacteria/Proteobacteria/Gammaproteobacteria/Chromatiales/Chromatiaceae\", \"Bacteria/Firmicutes/Clostridia/Clostridiales/Clostridiaceae_1\", \"Bacteria/Firmicutes/Clostridia/Clostridiales/Clostridiales_Incertae_Sedis_XI\", \"Bacteria/Firmicutes/Clostridia/Clostridiales/Clostridiales_Incertae_Sedis_XIII\", \"Bacteria/Proteobacteria/Betaproteobacteria/Burkholderiales/Comamonadaceae\", \"Bacteria/Actinobacteria/Actinobacteria/Coriobacteriales/Coriobacteriaceae\", \"Bacteria/Actinobacteria/Actinobacteria/Actinomycetales/Corynebacteriaceae\", \"Bacteria/Proteobacteria/Gammaproteobacteria/Legionellales/Coxiellaceae\", \"Bacteria/Bacteroidetes/Flavobacteriia/Flavobacteriales/Cryomorphaceae\", \"Bacteria/Bacteroidetes/Cytophagia/Cytophagales/Cytophagaceae\", \"Bacteria/Deinococcus-Thermus/Deinococci/Deinococcales/Deinococcaceae\", \"Bacteria/Actinobacteria/Actinobacteria/Actinomycetales/Demequinaceae\", \"Bacteria/Actinobacteria/Actinobacteria/Actinomycetales/Dermabacteraceae\", \"Bacteria/Actinobacteria/Actinobacteria/Actinomycetales/Dermacoccaceae\", \"Bacteria/Actinobacteria/Actinobacteria/Actinomycetales/Dermatophilaceae\", \"Bacteria/Proteobacteria/Deltaproteobacteria/Desulfobacterales/Desulfobulbaceae\", \"Bacteria/Actinobacteria/Actinobacteria/Actinomycetales/Dietziaceae\", \"Bacteria/Proteobacteria/Gammaproteobacteria/Enterobacteriales/Enterobacteriaceae\", \"Bacteria/Firmicutes/Bacilli/Lactobacillales/Enterococcaceae\", \"Bacteria/Firmicutes/Erysipelotrichia/Erysipelotrichales/Erysipelotrichaceae\", \"Bacteria/Proteobacteria/Alphaproteobacteria/Sphingomonadales/Erythrobacteraceae\", \"Bacteria/Firmicutes/Clostridia/Clostridiales/Eubacteriaceae\", \"Bacteria/Actinobacteria/Actinobacteria/Euzebyales/Euzebyaceae\", \"Bacteria/Bacteroidetes/Cytophagia/Cytophagales/Flammeovirgaceae\", \"Bacteria/Bacteroidetes/Flavobacteriia/Flavobacteriales/Flavobacteriaceae\", \"Bacteria/Fusobacteria/Fusobacteriia/Fusobacteriales/Fusobacteriaceae\", \"Bacteria/Actinobacteria/Actinobacteria/Gaiellales/Gaiellaceae\", \"Bacteria/Proteobacteria/Alphaproteobacteria/Alphaproteobacteria_incertae_sedis/Geminicoccus\", \"Bacteria/Gemmatimonadetes/Gemmatimonadetes/Gemmatimonadales/Gemmatimonadaceae\", \"Bacteria/Actinobacteria/Actinobacteria/Actinomycetales/Geodermatophilaceae\", \"Bacteria/Proteobacteria/Gammaproteobacteria/Oceanospirillales/Halomonadaceae\", \"Bacteria/Proteobacteria/Epsilonproteobacteria/Campylobacterales/Helicobacteraceae\", \"Bacteria/Chloroflexi/Chloroflexia/Herpetosiphonales/Herpetosiphonaceae\", \"Bacteria/Proteobacteria/Betaproteobacteria/Hydrogenophilales/Hydrogenophilaceae\", \"Bacteria/Proteobacteria/Alphaproteobacteria/Rhizobiales/Hyphomicrobiaceae\", \"Bacteria/Actinobacteria/Actinobacteria/Acidimicrobiales/Iamiaceae\", \"Bacteria/Firmicutes/Clostridia/Clostridiales/Incertae_Sedis_XI\", \"Bacteria/Actinobacteria/Actinobacteria/Actinomycetales/Intrasporangiaceae\", \"Bacteria/Actinobacteria/Actinobacteria/Actinomycetales/Kineosporiaceae\", \"Bacteria/Firmicutes/Clostridia/Clostridiales/Lachnospiraceae\", \"Bacteria/Firmicutes/Bacilli/Lactobacillales/Lactobacillaceae\", \"Bacteria/Proteobacteria/Gammaproteobacteria/Legionellales/Legionellaceae\", \"Bacteria/Fusobacteria/Fusobacteriia/Fusobacteriales/Leptotrichiaceae\", \"Bacteria/Firmicutes/Bacilli/Lactobacillales/Leuconostocaceae\", \"Bacteria/Proteobacteria/Alphaproteobacteria/Rhizobiales/Methylobacteriaceae\", \"Bacteria/Proteobacteria/Gammaproteobacteria/Methylococcales/Methylococcaceae\", \"Bacteria/Proteobacteria/Alphaproteobacteria/Rhizobiales/Methylocystaceae\", \"Bacteria/Proteobacteria/Betaproteobacteria/Methylophilales/Methylophilaceae\", \"Bacteria/Actinobacteria/Actinobacteria/Actinomycetales/Microbacteriaceae\", \"Bacteria/Actinobacteria/Actinobacteria/Actinomycetales/Micrococcaceae\", \"Bacteria/Actinobacteria/Actinobacteria/Actinomycetales/Micromonosporaceae\", \"Bacteria/Proteobacteria/Gammaproteobacteria/Pseudomonadales/Moraxellaceae\", \"Bacteria/Actinobacteria/Actinobacteria/Actinomycetales/Mycobacteriaceae\", \"Bacteria/Actinobacteria/Actinobacteria/Actinomycetales/Nakamurellaceae\", \"Bacteria/Proteobacteria/Betaproteobacteria/Neisseriales/Neisseriaceae\", \"Bacteria/Actinobacteria/Actinobacteria/Actinomycetales/Nocardiaceae\", \"Bacteria/Actinobacteria/Actinobacteria/Actinomycetales/Nocardioidaceae\", \"Bacteria/Verrucomicrobia/Opitutae/Opitutales/Opitutaceae\", \"Bacteria/Proteobacteria/Betaproteobacteria/Burkholderiales/Oxalobacteraceae\", \"Bacteria/Firmicutes/Bacilli/Bacillales/Paenibacillaceae_1\", \"Bacteria/Proteobacteria/Gammaproteobacteria/Pasteurellales/Pasteurellaceae\", \"Bacteria/Firmicutes/Clostridia/Clostridiales/Peptostreptococcaceae\", \"Bacteria/Proteobacteria/Alphaproteobacteria/Rhizobiales/Phyllobacteriaceae\", \"Bacteria/Planctomycetes/Planctomycetia/Planctomycetales/Planctomycetaceae\", \"Bacteria/Firmicutes/Bacilli/Bacillales/Planococcaceae\", \"Bacteria/Bacteroidetes/Bacteroidia/Bacteroidales/Porphyromonadaceae\", \"Bacteria/Bacteroidetes/Bacteroidia/Bacteroidales/Prevotellaceae\", \"Bacteria/Actinobacteria/Actinobacteria/Actinomycetales/Propionibacteriaceae\", \"Bacteria/Proteobacteria/Gammaproteobacteria/Alteromonadales/Pseudoalteromonadaceae\", \"Bacteria/Proteobacteria/Gammaproteobacteria/Pseudomonadales/Pseudomonadaceae\", \"Bacteria/Actinobacteria/Actinobacteria/Actinomycetales/Pseudonocardiaceae\", \"Bacteria/Proteobacteria/Alphaproteobacteria/Rhizobiales/Rhizobiaceae\", \"Bacteria/Proteobacteria/Alphaproteobacteria/Rhodobacterales/Rhodobacteraceae\", \"Bacteria/Proteobacteria/Betaproteobacteria/Rhodocyclales/Rhodocyclaceae\", \"Bacteria/Proteobacteria/Alphaproteobacteria/Rhodospirillales/Rhodospirillaceae\", \"Bacteria/Proteobacteria/Alphaproteobacteria/Rickettsiales/Rickettsiaceae\", \"Bacteria/Bacteroidetes/Bacteroidia/Bacteroidales/Rikenellaceae\", \"Bacteria/Actinobacteria/Actinobacteria/Rubrobacterales/Rubrobacteraceae\", \"Bacteria/Firmicutes/Clostridia/Clostridiales/Ruminococcaceae\", \"Bacteria/Actinobacteria/Actinobacteria/Actinomycetales/Sanguibacteraceae\", \"Bacteria/Bacteroidetes/Sphingobacteriia/Sphingobacteriales/Saprospiraceae\", \"Bacteria/Proteobacteria/Gammaproteobacteria/Alteromonadales/Shewanellaceae\", \"Bacteria/Proteobacteria/Gammaproteobacteria/Xanthomonadales/Sinobacteraceae\", \"Bacteria/Actinobacteria/Actinobacteria/Solirubrobacterales/Solirubrobacteraceae\", \"Bacteria/Bacteroidetes/Sphingobacteriia/Sphingobacteriales/Sphingobacteriaceae\", \"Bacteria/Proteobacteria/Alphaproteobacteria/Sphingomonadales/Sphingomonadaceae\", \"Bacteria/Spirochaetes/Spirochaetia/Spirochaetales/Spirochaetaceae\", \"Bacteria/Firmicutes/Bacilli/Bacillales/Staphylococcaceae\", \"Bacteria/Firmicutes/Bacilli/Lactobacillales/Streptococcaceae\", \"Bacteria/Actinobacteria/Actinobacteria/Actinomycetales/Streptomycetaceae\", \"Bacteria/Actinobacteria/Actinobacteria/Actinomycetales/Streptosporangiaceae\", \"Bacteria/Proteobacteria/Betaproteobacteria/Burkholderiales/Sutterellaceae\", \"Bacteria/Synergistetes/Synergistia/Synergistales/Synergistaceae\", \"Bacteria/Deinococcus-Thermus/Deinococci/Thermales/Thermaceae\", \"Bacteria/Deinococcus-Thermus/Deinococci/Deinococcales/Trueperaceae\", \"Bacteria/Firmicutes/Negativicutes/Selenomonadales/Veillonellaceae\", \"Bacteria/Verrucomicrobia/Verrucomicrobiae/Verrucomicrobiales/Verrucomicrobiaceae\", \"Bacteria/Proteobacteria/Gammaproteobacteria/Vibrionales/Vibrionaceae\", \"Bacteria/Proteobacteria/Gammaproteobacteria/Xanthomonadales/Xanthomonadaceae\", \"Bacteria/Actinobacteria/Actinobacteria/Acidimicrobiales/unclassified\", \"Bacteria/Actinobacteria/Actinobacteria/Actinomycetales/unclassified\", \"Bacteria/Firmicutes/Bacilli/Bacillales/unclassified\", \"Bacteria/Bacteroidetes/Bacteroidia/Bacteroidales/unclassified\", \"Bacteria/Acidobacteria/Acidobacteria_Gp4/Blastocatella/unclassified\", \"Bacteria/Proteobacteria/Betaproteobacteria/Burkholderiales/unclassified\", \"Bacteria/Chloroflexi/Chloroflexia/Chloroflexales/unclassified\", \"Bacteria/Firmicutes/Clostridia/Clostridiales/unclassified\", \"Bacteria/Bacteroidetes/Cytophagia/Cytophagales/unclassified\", \"Bacteria/Deinococcus-Thermus/Deinococci/Deinococcales/unclassified\", \"Bacteria/Bacteroidetes/Flavobacteriia/Flavobacteriales/unclassified\", \"Bacteria/Fusobacteria/Fusobacteriia/Fusobacteriales/unclassified\", \"Bacteria/Acidobacteria/Acidobacteria_Gp1/Gp1/unclassified\", \"Bacteria/Acidobacteria/Acidobacteria_Gp16/Gp16/unclassified\", \"Bacteria/Acidobacteria/Acidobacteria_Gp17/Gp17/unclassified\", \"Bacteria/Acidobacteria/Acidobacteria_Gp2/Gp2/unclassified\", \"Bacteria/Acidobacteria/Acidobacteria_Gp3/Gp3/unclassified\", \"Bacteria/Acidobacteria/Acidobacteria_Gp4/Gp4/unclassified\", \"Bacteria/Acidobacteria/Acidobacteria_Gp6/Gp6/unclassified\", \"Bacteria/Acidobacteria/Acidobacteria_Gp7/Gp7/unclassified\", \"Bacteria/Firmicutes/Bacilli/Lactobacillales/unclassified\", \"Bacteria/Proteobacteria/Deltaproteobacteria/Myxococcales/unclassified\", \"Bacteria/Bacteroidetes/Bacteroidetes_incertae_sedis/Ohtaekwangia/unclassified\", \"Bacteria/Proteobacteria/Gammaproteobacteria/Pseudomonadales/unclassified\", \"Bacteria/Proteobacteria/Alphaproteobacteria/Rhizobiales/unclassified\", \"Bacteria/Proteobacteria/Alphaproteobacteria/Rhodospirillales/unclassified\", \"Bacteria/Actinobacteria/Actinobacteria/Solirubrobacterales/unclassified\", \"Bacteria/Bacteroidetes/Sphingobacteriia/Sphingobacteriales/unclassified\", \"Bacteria/Proteobacteria/Alphaproteobacteria/Sphingomonadales/unclassified\", \"Bacteria/Proteobacteria/Gammaproteobacteria/Xanthomonadales/unclassified\", \"Bacteria/Acidobacteria/Acidobacteria_Gp3/unclassified/unclassified\", \"Bacteria/Acidobacteria/Acidobacteria_Gp4/unclassified/unclassified\", \"Bacteria/Actinobacteria/Actinobacteria/unclassified/unclassified\", \"Bacteria/Proteobacteria/Alphaproteobacteria/unclassified/unclassified\", \"Bacteria/Armatimonadetes/Armatimonadetes_gp4/unclassified/unclassified\", \"Bacteria/Armatimonadetes/Armatimonadetes_gp5/unclassified/unclassified\", \"Bacteria/Firmicutes/Bacilli/unclassified/unclassified\", \"Bacteria/Proteobacteria/Betaproteobacteria/unclassified/unclassified\", \"Bacteria/Deinococcus-Thermus/Deinococci/unclassified/unclassified\", \"Bacteria/Proteobacteria/Deltaproteobacteria/unclassified/unclassified\", \"Bacteria/Proteobacteria/Gammaproteobacteria/unclassified/unclassified\", \"Bacteria/Acidobacteria/unclassified/unclassified/unclassified\", \"Bacteria/Actinobacteria/unclassified/unclassified/unclassified\", \"Bacteria/Armatimonadetes/unclassified/unclassified/unclassified\", \"Bacteria/Bacteroidetes/unclassified/unclassified/unclassified\", \"Bacteria/Candidatus_Saccharibacteria/unclassified/unclassified/unclassified\", \"Bacteria/Chloroflexi/unclassified/unclassified/unclassified\", \"Bacteria/Firmicutes/unclassified/unclassified/unclassified\", \"Bacteria/Microgenomates/unclassified/unclassified/unclassified\", \"Bacteria/Parcubacteria/unclassified/unclassified/unclassified\", \"Bacteria/Proteobacteria/unclassified/unclassified/unclassified\", \"Bacteria/Verrucomicrobia/unclassified/unclassified/unclassified\", \"Bacteria/unclassified/unclassified/unclassified/unclassified\", \"Bacteria/Actinobacteria/Actinobacteria/Acidimicrobiales\", \"Bacteria/Actinobacteria/Actinobacteria/Actinomycetales\", \"Bacteria/Proteobacteria/Gammaproteobacteria/Aeromonadales\", \"Bacteria/Proteobacteria/Alphaproteobacteria/Alphaproteobacteria_incertae_sedis\", \"Bacteria/Proteobacteria/Gammaproteobacteria/Alteromonadales\", \"Bacteria/Chloroflexi/Anaerolineae/Anaerolineales\", \"Bacteria/Firmicutes/Bacilli/Bacillales\", \"Bacteria/Bacteroidetes/Bacteroidia/Bacteroidales\", \"Bacteria/Proteobacteria/Deltaproteobacteria/Bdellovibrionales\", \"Bacteria/Actinobacteria/Actinobacteria/Bifidobacteriales\", \"Bacteria/Acidobacteria/Acidobacteria_Gp4/Blastocatella\", \"Bacteria/Proteobacteria/Betaproteobacteria/Burkholderiales\", \"Bacteria/Chloroflexi/Caldilineae/Caldilineales\", \"Bacteria/Proteobacteria/Epsilonproteobacteria/Campylobacterales\", \"Bacteria/Proteobacteria/Gammaproteobacteria/Cardiobacteriales\", \"Bacteria/Proteobacteria/Alphaproteobacteria/Caulobacterales\", \"Bacteria/Chloroflexi/Chloroflexia/Chloroflexales\", \"Bacteria/Proteobacteria/Gammaproteobacteria/Chromatiales\", \"Bacteria/Firmicutes/Clostridia/Clostridiales\", \"Bacteria/Actinobacteria/Actinobacteria/Coriobacteriales\", \"Bacteria/Bacteroidetes/Cytophagia/Cytophagales\", \"Bacteria/Deinococcus-Thermus/Deinococci/Deinococcales\", \"Bacteria/Proteobacteria/Deltaproteobacteria/Desulfobacterales\", \"Bacteria/Proteobacteria/Gammaproteobacteria/Enterobacteriales\", \"Bacteria/Firmicutes/Erysipelotrichia/Erysipelotrichales\", \"Bacteria/Actinobacteria/Actinobacteria/Euzebyales\", \"Bacteria/Bacteroidetes/Flavobacteriia/Flavobacteriales\", \"Bacteria/Fusobacteria/Fusobacteriia/Fusobacteriales\", \"Bacteria/Actinobacteria/Actinobacteria/Gaiellales\", \"Bacteria/Gemmatimonadetes/Gemmatimonadetes/Gemmatimonadales\", \"Bacteria/Acidobacteria/Acidobacteria_Gp1/Gp1\", \"Bacteria/Acidobacteria/Acidobacteria_Gp16/Gp16\", \"Bacteria/Acidobacteria/Acidobacteria_Gp17/Gp17\", \"Bacteria/Acidobacteria/Acidobacteria_Gp2/Gp2\", \"Bacteria/Acidobacteria/Acidobacteria_Gp3/Gp3\", \"Bacteria/Acidobacteria/Acidobacteria_Gp4/Gp4\", \"Bacteria/Acidobacteria/Acidobacteria_Gp6/Gp6\", \"Bacteria/Acidobacteria/Acidobacteria_Gp7/Gp7\", \"Bacteria/Chloroflexi/Chloroflexia/Herpetosiphonales\", \"Bacteria/Proteobacteria/Betaproteobacteria/Hydrogenophilales\", \"Bacteria/Firmicutes/Bacilli/Lactobacillales\", \"Bacteria/Proteobacteria/Gammaproteobacteria/Legionellales\", \"Bacteria/Proteobacteria/Gammaproteobacteria/Methylococcales\", \"Bacteria/Proteobacteria/Betaproteobacteria/Methylophilales\", \"Bacteria/Proteobacteria/Deltaproteobacteria/Myxococcales\", \"Bacteria/Proteobacteria/Betaproteobacteria/Neisseriales\", \"Bacteria/Proteobacteria/Gammaproteobacteria/Oceanospirillales\", \"Bacteria/Bacteroidetes/Bacteroidetes_incertae_sedis/Ohtaekwangia\", \"Bacteria/Verrucomicrobia/Opitutae/Opitutales\", \"Bacteria/Proteobacteria/Gammaproteobacteria/Pasteurellales\", \"Bacteria/Planctomycetes/Planctomycetia/Planctomycetales\", \"Bacteria/Proteobacteria/Gammaproteobacteria/Pseudomonadales\", \"Bacteria/Proteobacteria/Alphaproteobacteria/Rhizobiales\", \"Bacteria/Proteobacteria/Alphaproteobacteria/Rhodobacterales\", \"Bacteria/Proteobacteria/Betaproteobacteria/Rhodocyclales\", \"Bacteria/Proteobacteria/Alphaproteobacteria/Rhodospirillales\", \"Bacteria/Proteobacteria/Alphaproteobacteria/Rickettsiales\", \"Bacteria/Actinobacteria/Actinobacteria/Rubrobacterales\", \"Bacteria/Firmicutes/Negativicutes/Selenomonadales\", \"Bacteria/Actinobacteria/Actinobacteria/Solirubrobacterales\", \"Bacteria/Bacteroidetes/Sphingobacteriia/Sphingobacteriales\", \"Bacteria/Proteobacteria/Alphaproteobacteria/Sphingomonadales\", \"Bacteria/Spirochaetes/Spirochaetia/Spirochaetales\", \"Bacteria/Synergistetes/Synergistia/Synergistales\", \"Bacteria/Deinococcus-Thermus/Deinococci/Thermales\", \"Bacteria/Verrucomicrobia/Verrucomicrobiae/Verrucomicrobiales\", \"Bacteria/Proteobacteria/Gammaproteobacteria/Vibrionales\", \"Bacteria/Proteobacteria/Gammaproteobacteria/Xanthomonadales\", \"Bacteria/Acidobacteria/Acidobacteria_Gp3/unclassified\", \"Bacteria/Acidobacteria/Acidobacteria_Gp4/unclassified\", \"Bacteria/Actinobacteria/Actinobacteria/unclassified\", \"Bacteria/Proteobacteria/Alphaproteobacteria/unclassified\", \"Bacteria/Armatimonadetes/Armatimonadetes_gp4/unclassified\", \"Bacteria/Armatimonadetes/Armatimonadetes_gp5/unclassified\", \"Bacteria/Firmicutes/Bacilli/unclassified\", \"Bacteria/Proteobacteria/Betaproteobacteria/unclassified\", \"Bacteria/Deinococcus-Thermus/Deinococci/unclassified\", \"Bacteria/Proteobacteria/Deltaproteobacteria/unclassified\", \"Bacteria/Proteobacteria/Gammaproteobacteria/unclassified\", \"Bacteria/Acidobacteria/unclassified/unclassified\", \"Bacteria/Actinobacteria/unclassified/unclassified\", \"Bacteria/Armatimonadetes/unclassified/unclassified\", \"Bacteria/Bacteroidetes/unclassified/unclassified\", \"Bacteria/Candidatus_Saccharibacteria/unclassified/unclassified\", \"Bacteria/Chloroflexi/unclassified/unclassified\", \"Bacteria/Firmicutes/unclassified/unclassified\", \"Bacteria/Microgenomates/unclassified/unclassified\", \"Bacteria/Parcubacteria/unclassified/unclassified\", \"Bacteria/Proteobacteria/unclassified/unclassified\", \"Bacteria/Verrucomicrobia/unclassified/unclassified\", \"Bacteria/unclassified/unclassified/unclassified\", \"Bacteria/Acidobacteria/Acidobacteria_Gp1\", \"Bacteria/Acidobacteria/Acidobacteria_Gp16\", \"Bacteria/Acidobacteria/Acidobacteria_Gp17\", \"Bacteria/Acidobacteria/Acidobacteria_Gp2\", \"Bacteria/Acidobacteria/Acidobacteria_Gp3\", \"Bacteria/Acidobacteria/Acidobacteria_Gp4\", \"Bacteria/Acidobacteria/Acidobacteria_Gp6\", \"Bacteria/Acidobacteria/Acidobacteria_Gp7\", \"Bacteria/Actinobacteria/Actinobacteria\", \"Bacteria/Proteobacteria/Alphaproteobacteria\", \"Bacteria/Chloroflexi/Anaerolineae\", \"Bacteria/Armatimonadetes/Armatimonadetes_gp4\", \"Bacteria/Armatimonadetes/Armatimonadetes_gp5\", \"Bacteria/Firmicutes/Bacilli\", \"Bacteria/Bacteroidetes/Bacteroidetes_incertae_sedis\", \"Bacteria/Bacteroidetes/Bacteroidia\", \"Bacteria/Proteobacteria/Betaproteobacteria\", \"Bacteria/Chloroflexi/Caldilineae\", \"Bacteria/Chloroflexi/Chloroflexia\", \"Bacteria/Firmicutes/Clostridia\", \"Bacteria/Bacteroidetes/Cytophagia\", \"Bacteria/Deinococcus-Thermus/Deinococci\", \"Bacteria/Proteobacteria/Deltaproteobacteria\", \"Bacteria/Proteobacteria/Epsilonproteobacteria\", \"Bacteria/Firmicutes/Erysipelotrichia\", \"Bacteria/Bacteroidetes/Flavobacteriia\", \"Bacteria/Fusobacteria/Fusobacteriia\", \"Bacteria/Proteobacteria/Gammaproteobacteria\", \"Bacteria/Gemmatimonadetes/Gemmatimonadetes\", \"Bacteria/Firmicutes/Negativicutes\", \"Bacteria/Verrucomicrobia/Opitutae\", \"Bacteria/Planctomycetes/Planctomycetia\", \"Bacteria/Bacteroidetes/Sphingobacteriia\", \"Bacteria/Spirochaetes/Spirochaetia\", \"Bacteria/Synergistetes/Synergistia\", \"Bacteria/Verrucomicrobia/Verrucomicrobiae\", \"Bacteria/Acidobacteria/unclassified\", \"Bacteria/Actinobacteria/unclassified\", \"Bacteria/Armatimonadetes/unclassified\", \"Bacteria/Bacteroidetes/unclassified\", \"Bacteria/Candidatus_Saccharibacteria/unclassified\", \"Bacteria/Chloroflexi/unclassified\", \"Bacteria/Firmicutes/unclassified\", \"Bacteria/Microgenomates/unclassified\", \"Bacteria/Parcubacteria/unclassified\", \"Bacteria/Proteobacteria/unclassified\", \"Bacteria/Verrucomicrobia/unclassified\", \"Bacteria/unclassified/unclassified\", \"Bacteria/Acidobacteria\", \"Bacteria/Actinobacteria\", \"Bacteria/Armatimonadetes\", \"Bacteria/Bacteroidetes\", \"Bacteria/Candidatus_Saccharibacteria\", \"Bacteria/Chloroflexi\", \"Bacteria/Deinococcus-Thermus\", \"Bacteria/Firmicutes\", \"Bacteria/Fusobacteria\", \"Bacteria/Gemmatimonadetes\", \"Bacteria/Microgenomates\", \"Bacteria/Parcubacteria\", \"Bacteria/Planctomycetes\", \"Bacteria/Proteobacteria\", \"Bacteria/Spirochaetes\", \"Bacteria/Synergistetes\", \"Bacteria/Verrucomicrobia\", \"Bacteria/unclassified\", \"Bacteria\"], \"labels\": [\"Abiotrophia\", \"Acetobacter\", \"Acetobacterium\", \"Achromobacter\", \"Acidovorax\", \"Acinetobacter\", \"Actinobaculum\", \"Actinomyces\", \"Actinomycetospora\", \"Actinoplanes\", \"Adhaeribacter\", \"Aerococcus\", \"Aeromicrobium\", \"Aeromonas\", \"Afipia\", \"Agaricicola\", \"Aggregatibacter\", \"Agreia\", \"Agrococcus\", \"Agromyces\", \"Albidiferax\", \"Alistipes\", \"Alkanindiges\", \"Allobaculum\", \"Alloprevotella\", \"Altererythrobacter\", \"Amaricoccus\", \"Amnibacterium\", \"Anaerococcus\", \"Anaerovorax\", \"Anoxybacillus\", \"Aquabacterium\", \"Aquicella\", \"Aquincola\", \"Arcobacter\", \"Arcticibacter\", \"Arsenicicoccus\", \"Arthrobacter\", \"Asaccharobacter\", \"Asanoa\", \"Asticcacaulis\", \"Atopobium\", \"Atopostipes\", \"Aurantimonas\", \"Auraticoccus\", \"Azohydromonas\", \"Azospira\", \"Azospirillum\", \"Bacillus\", \"Bacteroides\", \"Barnesiella\", \"Bdellovibrio\", \"Belnapia\", \"Bifidobacterium\", \"Blastochloris\", \"Blastococcus\", \"Blautia\", \"Bosea\", \"Brachybacterium\", \"Brevibacterium\", \"Brevundimonas\", \"Buchnera\", \"Burkholderia\", \"Butyricicoccus\", \"Butyricimonas\", \"Campylobacter\", \"Capnocytophaga\", \"Cardiobacterium\", \"Carnobacterium\", \"Catellatospora\", \"Catonella\", \"Caulobacter\", \"Cellulomonas\", \"Cellvibrio\", \"Cesiribacter\", \"Chelativorans\", \"Chelatococcus\", \"Chitinophaga\", \"Chryseobacterium\", \"Chryseomicrobium\", \"Citrobacter\", \"Clavibacter\", \"Cloacibacterium\", \"Clostridium_XI\", \"Clostridium_XlVa\", \"Clostridium_sensu_stricto\", \"Collinsella\", \"Comamonas\", \"Corynebacterium\", \"Croceicoccus\", \"Cruoricaptor\", \"Cupriavidus\", \"Curtobacterium\", \"Cytophaga\", \"Dechloromonas\", \"Defluviicoccus\", \"Deinococcus\", \"Delftia\", \"Demequina\", \"Dermabacter\", \"Dermacoccus\", \"Desemzia\", \"Desulfobulbus\", \"Devosia\", \"Dialister\", \"Diaphorobacter\", \"Dietzia\", \"Dokdonella\", \"Dolosigranulum\", \"Dongia\", \"Dorea\", \"Duganella\", \"Dyadobacter\", \"Dyella\", \"Eggerthella\", \"Eikenella\", \"Emticicia\", \"Endobacter\", \"Enhydrobacter\", \"Ensifer\", \"Enterobacter\", \"Enterococcus\", \"Epilithonimonas\", \"Eremococcus\", \"Eubacterium\", \"Euzebya\", \"Exiguobacterium\", \"Facklamia\", \"Faecalibacterium\", \"Ferruginibacter\", \"Finegoldia\", \"Flavisolibacter\", \"Flavitalea\", \"Flavobacterium\", \"Flectobacillus\", \"Fluviicola\", \"Friedmanniella\", \"Frigoribacterium\", \"Fusobacterium\", \"Gaiella\", \"Gardnerella\", \"Gemella\", \"Gemmatimonas\", \"Gemmobacter\", \"Geodermatophilus\", \"Georgenia\", \"Gillisia\", \"Gordonia\", \"Gordonibacter\", \"Granulicatella\", \"Haliscomenobacter\", \"Haloferula\", \"Halomonas\", \"Helicobacter\", \"Herbiconiux\", \"Herpetosiphon\", \"Hydrocarboniphaga\", \"Hydrogenophaga\", \"Hydrogenophilus\", \"Hymenobacter\", \"Hyphomicrobium\", \"Iamia\", \"Ilumatobacter\", \"Janibacter\", \"Jeotgalicoccus\", \"Jonquetella\", \"Kaistia\", \"Kineococcus\", \"Kineosporia\", \"Kingella\", \"Knoellia\", \"Kocuria\", \"Kribbella\", \"Kytococcus\", \"Lachnoanaerobaculum\", \"Lacibacter\", \"Lactobacillus\", \"Lactococcus\", \"Larkinella\", \"Legionella\", \"Leifsonia\", \"Leptotrichia\", \"Leucobacter\", \"Leuconostoc\", \"Limnobacter\", \"Limnohabitans\", \"Luedemannella\", \"Luteococcus\", \"Luteolibacter\", \"Lysobacter\", \"Macrococcus\", \"Marmoricola\", \"Massilia\", \"Megasphaera\", \"Mesorhizobium\", \"Methylobacillus\", \"Methylobacterium\", \"Methylocaldum\", \"Methylocystis\", \"Methylophilus\", \"Methylotenera\", \"Methyloversatilis\", \"Methylovorus\", \"Microbacterium\", \"Micrococcus\", \"Microlunatus\", \"Micromonospora\", \"Micropruina\", \"Microvirga\", \"Mobiluncus\", \"Modestobacter\", \"Mogibacterium\", \"Moraxella\", \"Mucilaginibacter\", \"Murdochiella\", \"Mycobacterium\", \"Nakamurella\", \"Naxibacter\", \"Negativicoccus\", \"Neisseria\", \"Nesterenkonia\", \"Niabella\", \"Nocardioides\", \"Noviherbaspirillum\", \"Novispirillum\", \"Novosphingobium\", \"Nubsella\", \"Ochrobactrum\", \"Oerskovia\", \"Oribacterium\", \"Ornithinibacter\", \"Ornithinicoccus\", \"Ornithinimicrobium\", \"Oscillibacter\", \"Paenibacillus\", \"Paenisporosarcina\", \"Palleronia\", \"Paludibacter\", \"Pantoea\", \"Parabacteroides\", \"Paracoccus\", \"Parasegetibacter\", \"Parasutterella\", \"Parvimonas\", \"Pediococcus\", \"Pedobacter\", \"Pedomicrobium\", \"Pelomonas\", \"Peptoniphilus\", \"Peptostreptococcus\", \"Peredibacter\", \"Persicitalea\", \"Phenylobacterium\", \"Photobacterium\", \"Phycicoccus\", \"Phyllobacterium\", \"Piscicoccus\", \"Planobacterium\", \"Planococcus\", \"Planomicrobium\", \"Plantibacter\", \"Polaromonas\", \"Polynucleobacter\", \"Pontibacter\", \"Porphyrobacter\", \"Porphyromonas\", \"Prevotella\", \"Propionibacterium\", \"Propionicimonas\", \"Propionivibrio\", \"Prosthecobacter\", \"Providencia\", \"Pseudoalteromonas\", \"Pseudochrobactrum\", \"Pseudoclavibacter\", \"Pseudoflavonifractor\", \"Pseudomonas\", \"Pseudonocardia\", \"Pseudorhodoferax\", \"Pseudoxanthomonas\", \"Psychrobacter\", \"Ralstonia\", \"Rathayibacter\", \"Rheinheimera\", \"Rhizobacter\", \"Rhizobium\", \"Rhodobacter\", \"Rhodococcus\", \"Rhodocytophaga\", \"Rickettsia\", \"Roseateles\", \"Roseburia\", \"Roseimicrobium\", \"Roseomonas\", \"Rothia\", \"Rubellimicrobium\", \"Rubrobacter\", \"Rudanella\", \"Ruminococcus\", \"Ruminococcus2\", \"Runella\", \"Saccharopolyspora\", \"Saccharothrix\", \"Salinimicrobium\", \"Sanguibacter\", \"Sarcina\", \"Schlegelella\", \"Sediminibacterium\", \"Segetibacter\", \"Shewanella\", \"Shinella\", \"Simplicispira\", \"Skermanella\", \"Sneathia\", \"Solirubrobacter\", \"Solobacterium\", \"Sphingobacterium\", \"Sphingobium\", \"Sphingomonas\", \"Sphingopyxis\", \"Sphingorhabdus\", \"Sphingosinicella\", \"Spirosoma\", \"Sporacetigenium\", \"Sporosarcina\", \"Staphylococcus\", \"Stella\", \"Stenotrophomonas\", \"Steroidobacter\", \"Streptococcus\", \"Streptomyces\", \"Subdoligranulum\", \"Terracoccus\", \"Terrimonas\", \"Tessaracoccus\", \"Tetrasphaera\", \"Thermobacillus\", \"Thermomonas\", \"Thermus\", \"Tolumonas\", \"Treponema\", \"Trichococcus\", \"Truepera\", \"Trueperella\", \"Turicella\", \"Turicibacter\", \"Vagococcus\", \"Varibaculum\", \"Variovorax\", \"Veillonella\", \"Vibrio\", \"Wautersiella\", \"Williamsia\", \"Xanthomonas\", \"Zhihengliuella\", \"Zimmermannella\", \"unclassified\", \"unclassified\", \"unclassified\", \"unclassified\", \"unclassified\", \"unclassified\", \"unclassified\", \"unclassified\", \"unclassified\", \"unclassified\", \"unclassified\", \"unclassified\", \"unclassified\", \"unclassified\", \"unclassified\", \"unclassified\", \"unclassified\", \"unclassified\", \"unclassified\", \"unclassified\", \"unclassified\", \"unclassified\", \"unclassified\", \"unclassified\", \"unclassified\", \"unclassified\", \"unclassified\", \"unclassified\", \"unclassified\", \"unclassified\", \"unclassified\", \"unclassified\", \"unclassified\", \"unclassified\", \"unclassified\", \"unclassified\", \"unclassified\", \"unclassified\", \"unclassified\", \"unclassified\", \"unclassified\", \"unclassified\", \"unclassified\", \"unclassified\", \"unclassified\", \"unclassified\", \"unclassified\", \"unclassified\", \"unclassified\", \"unclassified\", \"unclassified\", \"unclassified\", \"unclassified\", \"unclassified\", \"unclassified\", \"unclassified\", \"unclassified\", \"unclassified\", \"unclassified\", \"unclassified\", \"unclassified\", \"unclassified\", \"unclassified\", \"unclassified\", \"unclassified\", \"unclassified\", \"unclassified\", \"unclassified\", \"unclassified\", \"unclassified\", \"unclassified\", \"unclassified\", \"unclassified\", \"unclassified\", \"unclassified\", \"unclassified\", \"unclassified\", \"unclassified\", \"unclassified\", \"unclassified\", \"unclassified\", \"unclassified\", \"unclassified\", \"unclassified\", \"unclassified\", \"unclassified\", \"unclassified\", \"unclassified\", \"unclassified\", \"unclassified\", \"unclassified\", \"unclassified\", \"unclassified\", \"unclassified\", \"unclassified\", \"unclassified\", \"unclassified\", \"unclassified\", \"unclassified\", \"unclassified\", \"unclassified\", \"unclassified\", \"unclassified\", \"unclassified\", \"unclassified\", \"unclassified\", \"unclassified\", \"unclassified\", \"unclassified\", \"unclassified\", \"unclassified\", \"unclassified\", \"unclassified\", \"unclassified\", \"unclassified\", \"unclassified\", \"unclassified\", \"unclassified\", \"unclassified\", \"Acetobacteraceae\", \"Acidimicrobiaceae\", \"Actinomycetaceae\", \"Aerococcaceae\", \"Aeromonadaceae\", \"Alcaligenaceae\", \"Anaerolineaceae\", \"Aurantimonadaceae\", \"Bacillaceae_1\", \"Bacillales_Incertae_Sedis_XI\", \"Bacillales_Incertae_Sedis_XII\", \"Bacteriovoracaceae\", \"Bacteroidaceae\", \"Bdellovibrionaceae\", \"Beijerinckiaceae\", \"Beutenbergiaceae\", \"Bifidobacteriaceae\", \"Bogoriellaceae\", \"Bradyrhizobiaceae\", \"Brevibacteriaceae\", \"Brucellaceae\", \"Burkholderiaceae\", \"Burkholderiales_incertae_sedis\", \"Caldilineaceae\", \"Campylobacteraceae\", \"Cardiobacteriaceae\", \"Carnobacteriaceae\", \"Caulobacteraceae\", \"Cellulomonadaceae\", \"Chitinophagaceae\", \"Chloroflexaceae\", \"Chromatiaceae\", \"Clostridiaceae_1\", \"Clostridiales_Incertae_Sedis_XI\", \"Clostridiales_Incertae_Sedis_XIII\", \"Comamonadaceae\", \"Coriobacteriaceae\", \"Corynebacteriaceae\", \"Coxiellaceae\", \"Cryomorphaceae\", \"Cytophagaceae\", \"Deinococcaceae\", \"Demequinaceae\", \"Dermabacteraceae\", \"Dermacoccaceae\", \"Dermatophilaceae\", \"Desulfobulbaceae\", \"Dietziaceae\", \"Enterobacteriaceae\", \"Enterococcaceae\", \"Erysipelotrichaceae\", \"Erythrobacteraceae\", \"Eubacteriaceae\", \"Euzebyaceae\", \"Flammeovirgaceae\", \"Flavobacteriaceae\", \"Fusobacteriaceae\", \"Gaiellaceae\", \"Geminicoccus\", \"Gemmatimonadaceae\", \"Geodermatophilaceae\", \"Halomonadaceae\", \"Helicobacteraceae\", \"Herpetosiphonaceae\", \"Hydrogenophilaceae\", \"Hyphomicrobiaceae\", \"Iamiaceae\", \"Incertae_Sedis_XI\", \"Intrasporangiaceae\", \"Kineosporiaceae\", \"Lachnospiraceae\", \"Lactobacillaceae\", \"Legionellaceae\", \"Leptotrichiaceae\", \"Leuconostocaceae\", \"Methylobacteriaceae\", \"Methylococcaceae\", \"Methylocystaceae\", \"Methylophilaceae\", \"Microbacteriaceae\", \"Micrococcaceae\", \"Micromonosporaceae\", \"Moraxellaceae\", \"Mycobacteriaceae\", \"Nakamurellaceae\", \"Neisseriaceae\", \"Nocardiaceae\", \"Nocardioidaceae\", \"Opitutaceae\", \"Oxalobacteraceae\", \"Paenibacillaceae_1\", \"Pasteurellaceae\", \"Peptostreptococcaceae\", \"Phyllobacteriaceae\", \"Planctomycetaceae\", \"Planococcaceae\", \"Porphyromonadaceae\", \"Prevotellaceae\", \"Propionibacteriaceae\", \"Pseudoalteromonadaceae\", \"Pseudomonadaceae\", \"Pseudonocardiaceae\", \"Rhizobiaceae\", \"Rhodobacteraceae\", \"Rhodocyclaceae\", \"Rhodospirillaceae\", \"Rickettsiaceae\", \"Rikenellaceae\", \"Rubrobacteraceae\", \"Ruminococcaceae\", \"Sanguibacteraceae\", \"Saprospiraceae\", \"Shewanellaceae\", \"Sinobacteraceae\", \"Solirubrobacteraceae\", \"Sphingobacteriaceae\", \"Sphingomonadaceae\", \"Spirochaetaceae\", \"Staphylococcaceae\", \"Streptococcaceae\", \"Streptomycetaceae\", \"Streptosporangiaceae\", \"Sutterellaceae\", \"Synergistaceae\", \"Thermaceae\", \"Trueperaceae\", \"Veillonellaceae\", \"Verrucomicrobiaceae\", \"Vibrionaceae\", \"Xanthomonadaceae\", \"unclassified\", \"unclassified\", \"unclassified\", \"unclassified\", \"unclassified\", \"unclassified\", \"unclassified\", \"unclassified\", \"unclassified\", \"unclassified\", \"unclassified\", \"unclassified\", \"unclassified\", \"unclassified\", \"unclassified\", \"unclassified\", \"unclassified\", \"unclassified\", \"unclassified\", \"unclassified\", \"unclassified\", \"unclassified\", \"unclassified\", \"unclassified\", \"unclassified\", \"unclassified\", \"unclassified\", \"unclassified\", \"unclassified\", \"unclassified\", \"unclassified\", \"unclassified\", \"unclassified\", \"unclassified\", \"unclassified\", \"unclassified\", \"unclassified\", \"unclassified\", \"unclassified\", \"unclassified\", \"unclassified\", \"unclassified\", \"unclassified\", \"unclassified\", \"unclassified\", \"unclassified\", \"unclassified\", \"unclassified\", \"unclassified\", \"unclassified\", \"unclassified\", \"unclassified\", \"unclassified\", \"Acidimicrobiales\", \"Actinomycetales\", \"Aeromonadales\", \"Alphaproteobacteria_incertae_sedis\", \"Alteromonadales\", \"Anaerolineales\", \"Bacillales\", \"Bacteroidales\", \"Bdellovibrionales\", \"Bifidobacteriales\", \"Blastocatella\", \"Burkholderiales\", \"Caldilineales\", \"Campylobacterales\", \"Cardiobacteriales\", \"Caulobacterales\", \"Chloroflexales\", \"Chromatiales\", \"Clostridiales\", \"Coriobacteriales\", \"Cytophagales\", \"Deinococcales\", \"Desulfobacterales\", \"Enterobacteriales\", \"Erysipelotrichales\", \"Euzebyales\", \"Flavobacteriales\", \"Fusobacteriales\", \"Gaiellales\", \"Gemmatimonadales\", \"Gp1\", \"Gp16\", \"Gp17\", \"Gp2\", \"Gp3\", \"Gp4\", \"Gp6\", \"Gp7\", \"Herpetosiphonales\", \"Hydrogenophilales\", \"Lactobacillales\", \"Legionellales\", \"Methylococcales\", \"Methylophilales\", \"Myxococcales\", \"Neisseriales\", \"Oceanospirillales\", \"Ohtaekwangia\", \"Opitutales\", \"Pasteurellales\", \"Planctomycetales\", \"Pseudomonadales\", \"Rhizobiales\", \"Rhodobacterales\", \"Rhodocyclales\", \"Rhodospirillales\", \"Rickettsiales\", \"Rubrobacterales\", \"Selenomonadales\", \"Solirubrobacterales\", \"Sphingobacteriales\", \"Sphingomonadales\", \"Spirochaetales\", \"Synergistales\", \"Thermales\", \"Verrucomicrobiales\", \"Vibrionales\", \"Xanthomonadales\", \"unclassified\", \"unclassified\", \"unclassified\", \"unclassified\", \"unclassified\", \"unclassified\", \"unclassified\", \"unclassified\", \"unclassified\", \"unclassified\", \"unclassified\", \"unclassified\", \"unclassified\", \"unclassified\", \"unclassified\", \"unclassified\", \"unclassified\", \"unclassified\", \"unclassified\", \"unclassified\", \"unclassified\", \"unclassified\", \"unclassified\", \"Acidobacteria_Gp1\", \"Acidobacteria_Gp16\", \"Acidobacteria_Gp17\", \"Acidobacteria_Gp2\", \"Acidobacteria_Gp3\", \"Acidobacteria_Gp4\", \"Acidobacteria_Gp6\", \"Acidobacteria_Gp7\", \"Actinobacteria\", \"Alphaproteobacteria\", \"Anaerolineae\", \"Armatimonadetes_gp4\", \"Armatimonadetes_gp5\", \"Bacilli\", \"Bacteroidetes_incertae_sedis\", \"Bacteroidia\", \"Betaproteobacteria\", \"Caldilineae\", \"Chloroflexia\", \"Clostridia\", \"Cytophagia\", \"Deinococci\", \"Deltaproteobacteria\", \"Epsilonproteobacteria\", \"Erysipelotrichia\", \"Flavobacteriia\", \"Fusobacteriia\", \"Gammaproteobacteria\", \"Gemmatimonadetes\", \"Negativicutes\", \"Opitutae\", \"Planctomycetia\", \"Sphingobacteriia\", \"Spirochaetia\", \"Synergistia\", \"Verrucomicrobiae\", \"unclassified\", \"unclassified\", \"unclassified\", \"unclassified\", \"unclassified\", \"unclassified\", \"unclassified\", \"unclassified\", \"unclassified\", \"unclassified\", \"unclassified\", \"unclassified\", \"Acidobacteria\", \"Actinobacteria\", \"Armatimonadetes\", \"Bacteroidetes\", \"Candidatus_Saccharibacteria\", \"Chloroflexi\", \"Deinococcus-Thermus\", \"Firmicutes\", \"Fusobacteria\", \"Gemmatimonadetes\", \"Microgenomates\", \"Parcubacteria\", \"Planctomycetes\", \"Proteobacteria\", \"Spirochaetes\", \"Synergistetes\", \"Verrucomicrobia\", \"unclassified\", \"Bacteria\"], \"name\": \"\", \"parents\": [\"Bacteria/Firmicutes/Bacilli/Lactobacillales/Aerococcaceae\", \"Bacteria/Proteobacteria/Alphaproteobacteria/Rhodospirillales/Acetobacteraceae\", \"Bacteria/Firmicutes/Clostridia/Clostridiales/Eubacteriaceae\", \"Bacteria/Proteobacteria/Betaproteobacteria/Burkholderiales/Alcaligenaceae\", \"Bacteria/Proteobacteria/Betaproteobacteria/Burkholderiales/Comamonadaceae\", \"Bacteria/Proteobacteria/Gammaproteobacteria/Pseudomonadales/Moraxellaceae\", \"Bacteria/Actinobacteria/Actinobacteria/Actinomycetales/Actinomycetaceae\", \"Bacteria/Actinobacteria/Actinobacteria/Actinomycetales/Actinomycetaceae\", \"Bacteria/Actinobacteria/Actinobacteria/Actinomycetales/Pseudonocardiaceae\", \"Bacteria/Actinobacteria/Actinobacteria/Actinomycetales/Micromonosporaceae\", \"Bacteria/Bacteroidetes/Cytophagia/Cytophagales/Cytophagaceae\", \"Bacteria/Firmicutes/Bacilli/Lactobacillales/Aerococcaceae\", \"Bacteria/Actinobacteria/Actinobacteria/Actinomycetales/Nocardioidaceae\", \"Bacteria/Proteobacteria/Gammaproteobacteria/Aeromonadales/Aeromonadaceae\", \"Bacteria/Proteobacteria/Alphaproteobacteria/Rhizobiales/Bradyrhizobiaceae\", \"Bacteria/Proteobacteria/Alphaproteobacteria/Rhodobacterales/Rhodobacteraceae\", \"Bacteria/Proteobacteria/Gammaproteobacteria/Pasteurellales/Pasteurellaceae\", \"Bacteria/Actinobacteria/Actinobacteria/Actinomycetales/Microbacteriaceae\", \"Bacteria/Actinobacteria/Actinobacteria/Actinomycetales/Microbacteriaceae\", \"Bacteria/Actinobacteria/Actinobacteria/Actinomycetales/Microbacteriaceae\", \"Bacteria/Proteobacteria/Betaproteobacteria/Burkholderiales/Comamonadaceae\", \"Bacteria/Bacteroidetes/Bacteroidia/Bacteroidales/Rikenellaceae\", \"Bacteria/Proteobacteria/Gammaproteobacteria/Pseudomonadales/Moraxellaceae\", \"Bacteria/Firmicutes/Erysipelotrichia/Erysipelotrichales/Erysipelotrichaceae\", \"Bacteria/Bacteroidetes/Bacteroidia/Bacteroidales/Prevotellaceae\", \"Bacteria/Proteobacteria/Alphaproteobacteria/Sphingomonadales/Erythrobacteraceae\", \"Bacteria/Proteobacteria/Alphaproteobacteria/Rhodobacterales/Rhodobacteraceae\", \"Bacteria/Actinobacteria/Actinobacteria/Actinomycetales/Microbacteriaceae\", \"Bacteria/Firmicutes/Clostridia/Clostridiales/Clostridiales_Incertae_Sedis_XI\", \"Bacteria/Firmicutes/Clostridia/Clostridiales/Clostridiales_Incertae_Sedis_XIII\", \"Bacteria/Firmicutes/Bacilli/Bacillales/Bacillaceae_1\", \"Bacteria/Proteobacteria/Betaproteobacteria/Burkholderiales/Burkholderiales_incertae_sedis\", \"Bacteria/Proteobacteria/Gammaproteobacteria/Legionellales/Coxiellaceae\", \"Bacteria/Proteobacteria/Betaproteobacteria/Burkholderiales/Burkholderiales_incertae_sedis\", \"Bacteria/Proteobacteria/Epsilonproteobacteria/Campylobacterales/Campylobacteraceae\", \"Bacteria/Bacteroidetes/Sphingobacteriia/Sphingobacteriales/Sphingobacteriaceae\", \"Bacteria/Actinobacteria/Actinobacteria/Actinomycetales/Intrasporangiaceae\", \"Bacteria/Actinobacteria/Actinobacteria/Actinomycetales/Micrococcaceae\", \"Bacteria/Actinobacteria/Actinobacteria/Coriobacteriales/Coriobacteriaceae\", \"Bacteria/Actinobacteria/Actinobacteria/Actinomycetales/Micromonosporaceae\", \"Bacteria/Proteobacteria/Alphaproteobacteria/Caulobacterales/Caulobacteraceae\", \"Bacteria/Actinobacteria/Actinobacteria/Coriobacteriales/Coriobacteriaceae\", \"Bacteria/Firmicutes/Bacilli/Lactobacillales/Carnobacteriaceae\", \"Bacteria/Proteobacteria/Alphaproteobacteria/Rhizobiales/Aurantimonadaceae\", \"Bacteria/Actinobacteria/Actinobacteria/Actinomycetales/Propionibacteriaceae\", \"Bacteria/Proteobacteria/Betaproteobacteria/Burkholderiales/Alcaligenaceae\", \"Bacteria/Proteobacteria/Betaproteobacteria/Rhodocyclales/Rhodocyclaceae\", \"Bacteria/Proteobacteria/Alphaproteobacteria/Rhodospirillales/Rhodospirillaceae\", \"Bacteria/Firmicutes/Bacilli/Bacillales/Bacillaceae_1\", \"Bacteria/Bacteroidetes/Bacteroidia/Bacteroidales/Bacteroidaceae\", \"Bacteria/Bacteroidetes/Bacteroidia/Bacteroidales/Porphyromonadaceae\", \"Bacteria/Proteobacteria/Deltaproteobacteria/Bdellovibrionales/Bdellovibrionaceae\", \"Bacteria/Proteobacteria/Alphaproteobacteria/Rhodospirillales/Acetobacteraceae\", \"Bacteria/Actinobacteria/Actinobacteria/Bifidobacteriales/Bifidobacteriaceae\", \"Bacteria/Proteobacteria/Alphaproteobacteria/Rhizobiales/Hyphomicrobiaceae\", \"Bacteria/Actinobacteria/Actinobacteria/Actinomycetales/Geodermatophilaceae\", \"Bacteria/Firmicutes/Clostridia/Clostridiales/Lachnospiraceae\", \"Bacteria/Proteobacteria/Alphaproteobacteria/Rhizobiales/Bradyrhizobiaceae\", \"Bacteria/Actinobacteria/Actinobacteria/Actinomycetales/Dermabacteraceae\", \"Bacteria/Actinobacteria/Actinobacteria/Actinomycetales/Brevibacteriaceae\", \"Bacteria/Proteobacteria/Alphaproteobacteria/Caulobacterales/Caulobacteraceae\", \"Bacteria/Proteobacteria/Gammaproteobacteria/Enterobacteriales/Enterobacteriaceae\", \"Bacteria/Proteobacteria/Betaproteobacteria/Burkholderiales/Burkholderiaceae\", \"Bacteria/Firmicutes/Clostridia/Clostridiales/Ruminococcaceae\", \"Bacteria/Bacteroidetes/Bacteroidia/Bacteroidales/Porphyromonadaceae\", \"Bacteria/Proteobacteria/Epsilonproteobacteria/Campylobacterales/Campylobacteraceae\", \"Bacteria/Bacteroidetes/Flavobacteriia/Flavobacteriales/Flavobacteriaceae\", \"Bacteria/Proteobacteria/Gammaproteobacteria/Cardiobacteriales/Cardiobacteriaceae\", \"Bacteria/Firmicutes/Bacilli/Lactobacillales/Carnobacteriaceae\", \"Bacteria/Actinobacteria/Actinobacteria/Actinomycetales/Micromonosporaceae\", \"Bacteria/Firmicutes/Clostridia/Clostridiales/Lachnospiraceae\", \"Bacteria/Proteobacteria/Alphaproteobacteria/Caulobacterales/Caulobacteraceae\", \"Bacteria/Actinobacteria/Actinobacteria/Actinomycetales/Cellulomonadaceae\", \"Bacteria/Proteobacteria/Gammaproteobacteria/Pseudomonadales/Pseudomonadaceae\", \"Bacteria/Bacteroidetes/Cytophagia/Cytophagales/Flammeovirgaceae\", \"Bacteria/Proteobacteria/Alphaproteobacteria/Rhizobiales/Phyllobacteriaceae\", \"Bacteria/Proteobacteria/Alphaproteobacteria/Rhizobiales/Beijerinckiaceae\", \"Bacteria/Bacteroidetes/Sphingobacteriia/Sphingobacteriales/Chitinophagaceae\", \"Bacteria/Bacteroidetes/Flavobacteriia/Flavobacteriales/Flavobacteriaceae\", \"Bacteria/Firmicutes/Bacilli/Bacillales/Planococcaceae\", \"Bacteria/Proteobacteria/Gammaproteobacteria/Enterobacteriales/Enterobacteriaceae\", \"Bacteria/Actinobacteria/Actinobacteria/Actinomycetales/Microbacteriaceae\", \"Bacteria/Bacteroidetes/Flavobacteriia/Flavobacteriales/Flavobacteriaceae\", \"Bacteria/Firmicutes/Clostridia/Clostridiales/Peptostreptococcaceae\", \"Bacteria/Firmicutes/Clostridia/Clostridiales/Lachnospiraceae\", \"Bacteria/Firmicutes/Clostridia/Clostridiales/Clostridiaceae_1\", \"Bacteria/Actinobacteria/Actinobacteria/Coriobacteriales/Coriobacteriaceae\", \"Bacteria/Proteobacteria/Betaproteobacteria/Burkholderiales/Comamonadaceae\", \"Bacteria/Actinobacteria/Actinobacteria/Actinomycetales/Corynebacteriaceae\", \"Bacteria/Proteobacteria/Alphaproteobacteria/Sphingomonadales/Erythrobacteraceae\", \"Bacteria/Bacteroidetes/Flavobacteriia/Flavobacteriales/Flavobacteriaceae\", \"Bacteria/Proteobacteria/Betaproteobacteria/Burkholderiales/Burkholderiaceae\", \"Bacteria/Actinobacteria/Actinobacteria/Actinomycetales/Microbacteriaceae\", \"Bacteria/Bacteroidetes/Cytophagia/Cytophagales/Cytophagaceae\", \"Bacteria/Proteobacteria/Betaproteobacteria/Rhodocyclales/Rhodocyclaceae\", \"Bacteria/Proteobacteria/Alphaproteobacteria/Rhodospirillales/Rhodospirillaceae\", \"Bacteria/Deinococcus-Thermus/Deinococci/Deinococcales/Deinococcaceae\", \"Bacteria/Proteobacteria/Betaproteobacteria/Burkholderiales/Comamonadaceae\", \"Bacteria/Actinobacteria/Actinobacteria/Actinomycetales/Demequinaceae\", \"Bacteria/Actinobacteria/Actinobacteria/Actinomycetales/Dermabacteraceae\", \"Bacteria/Actinobacteria/Actinobacteria/Actinomycetales/Dermacoccaceae\", \"Bacteria/Firmicutes/Bacilli/Lactobacillales/Carnobacteriaceae\", \"Bacteria/Proteobacteria/Deltaproteobacteria/Desulfobacterales/Desulfobulbaceae\", \"Bacteria/Proteobacteria/Alphaproteobacteria/Rhizobiales/Hyphomicrobiaceae\", \"Bacteria/Firmicutes/Negativicutes/Selenomonadales/Veillonellaceae\", \"Bacteria/Proteobacteria/Betaproteobacteria/Burkholderiales/Comamonadaceae\", \"Bacteria/Actinobacteria/Actinobacteria/Actinomycetales/Dietziaceae\", \"Bacteria/Proteobacteria/Gammaproteobacteria/Xanthomonadales/Xanthomonadaceae\", \"Bacteria/Firmicutes/Bacilli/Lactobacillales/Carnobacteriaceae\", \"Bacteria/Proteobacteria/Alphaproteobacteria/Rhodospirillales/Rhodospirillaceae\", \"Bacteria/Firmicutes/Clostridia/Clostridiales/Lachnospiraceae\", \"Bacteria/Proteobacteria/Betaproteobacteria/Burkholderiales/Oxalobacteraceae\", \"Bacteria/Bacteroidetes/Cytophagia/Cytophagales/Cytophagaceae\", \"Bacteria/Proteobacteria/Gammaproteobacteria/Xanthomonadales/Xanthomonadaceae\", \"Bacteria/Actinobacteria/Actinobacteria/Coriobacteriales/Coriobacteriaceae\", \"Bacteria/Proteobacteria/Betaproteobacteria/Neisseriales/Neisseriaceae\", \"Bacteria/Bacteroidetes/Cytophagia/Cytophagales/Cytophagaceae\", \"Bacteria/Proteobacteria/Alphaproteobacteria/Rhodospirillales/Acetobacteraceae\", \"Bacteria/Proteobacteria/Gammaproteobacteria/Pseudomonadales/Moraxellaceae\", \"Bacteria/Proteobacteria/Alphaproteobacteria/Rhizobiales/Rhizobiaceae\", \"Bacteria/Proteobacteria/Gammaproteobacteria/Enterobacteriales/Enterobacteriaceae\", \"Bacteria/Firmicutes/Bacilli/Lactobacillales/Enterococcaceae\", \"Bacteria/Bacteroidetes/Flavobacteriia/Flavobacteriales/Flavobacteriaceae\", \"Bacteria/Firmicutes/Bacilli/Lactobacillales/Aerococcaceae\", \"Bacteria/Firmicutes/Clostridia/Clostridiales/Eubacteriaceae\", \"Bacteria/Actinobacteria/Actinobacteria/Euzebyales/Euzebyaceae\", \"Bacteria/Firmicutes/Bacilli/Bacillales/Bacillales_Incertae_Sedis_XII\", \"Bacteria/Firmicutes/Bacilli/Lactobacillales/Aerococcaceae\", \"Bacteria/Firmicutes/Clostridia/Clostridiales/Ruminococcaceae\", \"Bacteria/Bacteroidetes/Sphingobacteriia/Sphingobacteriales/Chitinophagaceae\", \"Bacteria/Firmicutes/Clostridia/Clostridiales/Clostridiales_Incertae_Sedis_XI\", \"Bacteria/Bacteroidetes/Sphingobacteriia/Sphingobacteriales/Chitinophagaceae\", \"Bacteria/Bacteroidetes/Sphingobacteriia/Sphingobacteriales/Chitinophagaceae\", \"Bacteria/Bacteroidetes/Flavobacteriia/Flavobacteriales/Flavobacteriaceae\", \"Bacteria/Bacteroidetes/Cytophagia/Cytophagales/Cytophagaceae\", \"Bacteria/Bacteroidetes/Flavobacteriia/Flavobacteriales/Cryomorphaceae\", \"Bacteria/Actinobacteria/Actinobacteria/Actinomycetales/Propionibacteriaceae\", \"Bacteria/Actinobacteria/Actinobacteria/Actinomycetales/Microbacteriaceae\", \"Bacteria/Fusobacteria/Fusobacteriia/Fusobacteriales/Fusobacteriaceae\", \"Bacteria/Actinobacteria/Actinobacteria/Gaiellales/Gaiellaceae\", \"Bacteria/Actinobacteria/Actinobacteria/Bifidobacteriales/Bifidobacteriaceae\", \"Bacteria/Firmicutes/Bacilli/Bacillales/Bacillales_Incertae_Sedis_XI\", \"Bacteria/Gemmatimonadetes/Gemmatimonadetes/Gemmatimonadales/Gemmatimonadaceae\", \"Bacteria/Proteobacteria/Alphaproteobacteria/Rhodobacterales/Rhodobacteraceae\", \"Bacteria/Actinobacteria/Actinobacteria/Actinomycetales/Geodermatophilaceae\", \"Bacteria/Actinobacteria/Actinobacteria/Actinomycetales/Bogoriellaceae\", \"Bacteria/Bacteroidetes/Flavobacteriia/Flavobacteriales/Flavobacteriaceae\", \"Bacteria/Actinobacteria/Actinobacteria/Actinomycetales/Nocardiaceae\", \"Bacteria/Actinobacteria/Actinobacteria/Coriobacteriales/Coriobacteriaceae\", \"Bacteria/Firmicutes/Bacilli/Lactobacillales/Carnobacteriaceae\", \"Bacteria/Bacteroidetes/Sphingobacteriia/Sphingobacteriales/Saprospiraceae\", \"Bacteria/Verrucomicrobia/Verrucomicrobiae/Verrucomicrobiales/Verrucomicrobiaceae\", \"Bacteria/Proteobacteria/Gammaproteobacteria/Oceanospirillales/Halomonadaceae\", \"Bacteria/Proteobacteria/Epsilonproteobacteria/Campylobacterales/Helicobacteraceae\", \"Bacteria/Actinobacteria/Actinobacteria/Actinomycetales/Microbacteriaceae\", \"Bacteria/Chloroflexi/Chloroflexia/Herpetosiphonales/Herpetosiphonaceae\", \"Bacteria/Proteobacteria/Gammaproteobacteria/Xanthomonadales/Sinobacteraceae\", \"Bacteria/Proteobacteria/Betaproteobacteria/Burkholderiales/Comamonadaceae\", \"Bacteria/Proteobacteria/Betaproteobacteria/Hydrogenophilales/Hydrogenophilaceae\", \"Bacteria/Bacteroidetes/Cytophagia/Cytophagales/Cytophagaceae\", \"Bacteria/Proteobacteria/Alphaproteobacteria/Rhizobiales/Hyphomicrobiaceae\", \"Bacteria/Actinobacteria/Actinobacteria/Acidimicrobiales/Iamiaceae\", \"Bacteria/Actinobacteria/Actinobacteria/Acidimicrobiales/Acidimicrobiaceae\", \"Bacteria/Actinobacteria/Actinobacteria/Actinomycetales/Intrasporangiaceae\", \"Bacteria/Firmicutes/Bacilli/Bacillales/Staphylococcaceae\", \"Bacteria/Synergistetes/Synergistia/Synergistales/Synergistaceae\", \"Bacteria/Proteobacteria/Alphaproteobacteria/Rhizobiales/Rhizobiaceae\", \"Bacteria/Actinobacteria/Actinobacteria/Actinomycetales/Kineosporiaceae\", \"Bacteria/Actinobacteria/Actinobacteria/Actinomycetales/Kineosporiaceae\", \"Bacteria/Proteobacteria/Betaproteobacteria/Neisseriales/Neisseriaceae\", \"Bacteria/Actinobacteria/Actinobacteria/Actinomycetales/Intrasporangiaceae\", \"Bacteria/Actinobacteria/Actinobacteria/Actinomycetales/Micrococcaceae\", \"Bacteria/Actinobacteria/Actinobacteria/Actinomycetales/Nocardioidaceae\", \"Bacteria/Actinobacteria/Actinobacteria/Actinomycetales/Dermacoccaceae\", \"Bacteria/Firmicutes/Clostridia/Clostridiales/Lachnospiraceae\", \"Bacteria/Bacteroidetes/Sphingobacteriia/Sphingobacteriales/Chitinophagaceae\", \"Bacteria/Firmicutes/Bacilli/Lactobacillales/Lactobacillaceae\", \"Bacteria/Firmicutes/Bacilli/Lactobacillales/Streptococcaceae\", \"Bacteria/Bacteroidetes/Cytophagia/Cytophagales/Cytophagaceae\", \"Bacteria/Proteobacteria/Gammaproteobacteria/Legionellales/Legionellaceae\", \"Bacteria/Actinobacteria/Actinobacteria/Actinomycetales/Microbacteriaceae\", \"Bacteria/Fusobacteria/Fusobacteriia/Fusobacteriales/Leptotrichiaceae\", \"Bacteria/Actinobacteria/Actinobacteria/Actinomycetales/Microbacteriaceae\", \"Bacteria/Firmicutes/Bacilli/Lactobacillales/Leuconostocaceae\", \"Bacteria/Proteobacteria/Betaproteobacteria/Burkholderiales/Burkholderiaceae\", \"Bacteria/Proteobacteria/Betaproteobacteria/Burkholderiales/Comamonadaceae\", \"Bacteria/Actinobacteria/Actinobacteria/Actinomycetales/Micromonosporaceae\", \"Bacteria/Actinobacteria/Actinobacteria/Actinomycetales/Propionibacteriaceae\", \"Bacteria/Verrucomicrobia/Verrucomicrobiae/Verrucomicrobiales/Verrucomicrobiaceae\", \"Bacteria/Proteobacteria/Gammaproteobacteria/Xanthomonadales/Xanthomonadaceae\", \"Bacteria/Firmicutes/Bacilli/Bacillales/Staphylococcaceae\", \"Bacteria/Actinobacteria/Actinobacteria/Actinomycetales/Nocardioidaceae\", \"Bacteria/Proteobacteria/Betaproteobacteria/Burkholderiales/Oxalobacteraceae\", \"Bacteria/Firmicutes/Negativicutes/Selenomonadales/Veillonellaceae\", \"Bacteria/Proteobacteria/Alphaproteobacteria/Rhizobiales/Phyllobacteriaceae\", \"Bacteria/Proteobacteria/Betaproteobacteria/Methylophilales/Methylophilaceae\", \"Bacteria/Proteobacteria/Alphaproteobacteria/Rhizobiales/Methylobacteriaceae\", \"Bacteria/Proteobacteria/Gammaproteobacteria/Methylococcales/Methylococcaceae\", \"Bacteria/Proteobacteria/Alphaproteobacteria/Rhizobiales/Methylocystaceae\", \"Bacteria/Proteobacteria/Betaproteobacteria/Methylophilales/Methylophilaceae\", \"Bacteria/Proteobacteria/Betaproteobacteria/Methylophilales/Methylophilaceae\", \"Bacteria/Proteobacteria/Betaproteobacteria/Rhodocyclales/Rhodocyclaceae\", \"Bacteria/Proteobacteria/Betaproteobacteria/Methylophilales/Methylophilaceae\", \"Bacteria/Actinobacteria/Actinobacteria/Actinomycetales/Microbacteriaceae\", \"Bacteria/Actinobacteria/Actinobacteria/Actinomycetales/Micrococcaceae\", \"Bacteria/Actinobacteria/Actinobacteria/Actinomycetales/Propionibacteriaceae\", \"Bacteria/Actinobacteria/Actinobacteria/Actinomycetales/Micromonosporaceae\", \"Bacteria/Actinobacteria/Actinobacteria/Actinomycetales/Propionibacteriaceae\", \"Bacteria/Proteobacteria/Alphaproteobacteria/Rhizobiales/Methylobacteriaceae\", \"Bacteria/Actinobacteria/Actinobacteria/Actinomycetales/Actinomycetaceae\", \"Bacteria/Actinobacteria/Actinobacteria/Actinomycetales/Geodermatophilaceae\", \"Bacteria/Firmicutes/Clostridia/Clostridiales/Clostridiales_Incertae_Sedis_XIII\", \"Bacteria/Proteobacteria/Gammaproteobacteria/Pseudomonadales/Moraxellaceae\", \"Bacteria/Bacteroidetes/Sphingobacteriia/Sphingobacteriales/Sphingobacteriaceae\", \"Bacteria/Firmicutes/Clostridia/Clostridiales/Incertae_Sedis_XI\", \"Bacteria/Actinobacteria/Actinobacteria/Actinomycetales/Mycobacteriaceae\", \"Bacteria/Actinobacteria/Actinobacteria/Actinomycetales/Nakamurellaceae\", \"Bacteria/Proteobacteria/Betaproteobacteria/Burkholderiales/Oxalobacteraceae\", \"Bacteria/Firmicutes/Negativicutes/Selenomonadales/Veillonellaceae\", \"Bacteria/Proteobacteria/Betaproteobacteria/Neisseriales/Neisseriaceae\", \"Bacteria/Actinobacteria/Actinobacteria/Actinomycetales/Micrococcaceae\", \"Bacteria/Bacteroidetes/Sphingobacteriia/Sphingobacteriales/Chitinophagaceae\", \"Bacteria/Actinobacteria/Actinobacteria/Actinomycetales/Nocardioidaceae\", \"Bacteria/Proteobacteria/Betaproteobacteria/Burkholderiales/Oxalobacteraceae\", \"Bacteria/Proteobacteria/Alphaproteobacteria/Rhodospirillales/Rhodospirillaceae\", \"Bacteria/Proteobacteria/Alphaproteobacteria/Sphingomonadales/Sphingomonadaceae\", \"Bacteria/Bacteroidetes/Sphingobacteriia/Sphingobacteriales/Sphingobacteriaceae\", \"Bacteria/Proteobacteria/Alphaproteobacteria/Rhizobiales/Brucellaceae\", \"Bacteria/Actinobacteria/Actinobacteria/Actinomycetales/Cellulomonadaceae\", \"Bacteria/Firmicutes/Clostridia/Clostridiales/Lachnospiraceae\", \"Bacteria/Actinobacteria/Actinobacteria/Actinomycetales/Intrasporangiaceae\", \"Bacteria/Actinobacteria/Actinobacteria/Actinomycetales/Intrasporangiaceae\", \"Bacteria/Actinobacteria/Actinobacteria/Actinomycetales/Intrasporangiaceae\", \"Bacteria/Firmicutes/Clostridia/Clostridiales/Ruminococcaceae\", \"Bacteria/Firmicutes/Bacilli/Bacillales/Paenibacillaceae_1\", \"Bacteria/Firmicutes/Bacilli/Bacillales/Planococcaceae\", \"Bacteria/Proteobacteria/Alphaproteobacteria/Rhodobacterales/Rhodobacteraceae\", \"Bacteria/Bacteroidetes/Bacteroidia/Bacteroidales/Porphyromonadaceae\", \"Bacteria/Proteobacteria/Gammaproteobacteria/Enterobacteriales/Enterobacteriaceae\", \"Bacteria/Bacteroidetes/Bacteroidia/Bacteroidales/Porphyromonadaceae\", \"Bacteria/Proteobacteria/Alphaproteobacteria/Rhodobacterales/Rhodobacteraceae\", \"Bacteria/Bacteroidetes/Sphingobacteriia/Sphingobacteriales/Chitinophagaceae\", \"Bacteria/Proteobacteria/Betaproteobacteria/Burkholderiales/Sutterellaceae\", \"Bacteria/Firmicutes/Clostridia/Clostridiales/Clostridiales_Incertae_Sedis_XI\", \"Bacteria/Firmicutes/Bacilli/Lactobacillales/Lactobacillaceae\", \"Bacteria/Bacteroidetes/Sphingobacteriia/Sphingobacteriales/Sphingobacteriaceae\", \"Bacteria/Proteobacteria/Alphaproteobacteria/Rhizobiales/Hyphomicrobiaceae\", \"Bacteria/Proteobacteria/Betaproteobacteria/Burkholderiales/Comamonadaceae\", \"Bacteria/Firmicutes/Clostridia/Clostridiales/Clostridiales_Incertae_Sedis_XI\", \"Bacteria/Firmicutes/Clostridia/Clostridiales/Peptostreptococcaceae\", \"Bacteria/Proteobacteria/Deltaproteobacteria/Bdellovibrionales/Bacteriovoracaceae\", \"Bacteria/Bacteroidetes/Cytophagia/Cytophagales/Cytophagaceae\", \"Bacteria/Proteobacteria/Alphaproteobacteria/Caulobacterales/Caulobacteraceae\", \"Bacteria/Proteobacteria/Gammaproteobacteria/Vibrionales/Vibrionaceae\", \"Bacteria/Actinobacteria/Actinobacteria/Actinomycetales/Intrasporangiaceae\", \"Bacteria/Proteobacteria/Alphaproteobacteria/Rhizobiales/Phyllobacteriaceae\", \"Bacteria/Actinobacteria/Actinobacteria/Actinomycetales/Dermatophilaceae\", \"Bacteria/Bacteroidetes/Flavobacteriia/Flavobacteriales/Flavobacteriaceae\", \"Bacteria/Firmicutes/Bacilli/Bacillales/Planococcaceae\", \"Bacteria/Firmicutes/Bacilli/Bacillales/Planococcaceae\", \"Bacteria/Actinobacteria/Actinobacteria/Actinomycetales/Microbacteriaceae\", \"Bacteria/Proteobacteria/Betaproteobacteria/Burkholderiales/Comamonadaceae\", \"Bacteria/Proteobacteria/Betaproteobacteria/Burkholderiales/Burkholderiaceae\", \"Bacteria/Bacteroidetes/Cytophagia/Cytophagales/Cytophagaceae\", \"Bacteria/Proteobacteria/Alphaproteobacteria/Sphingomonadales/Erythrobacteraceae\", \"Bacteria/Bacteroidetes/Bacteroidia/Bacteroidales/Porphyromonadaceae\", \"Bacteria/Bacteroidetes/Bacteroidia/Bacteroidales/Prevotellaceae\", \"Bacteria/Actinobacteria/Actinobacteria/Actinomycetales/Propionibacteriaceae\", \"Bacteria/Actinobacteria/Actinobacteria/Actinomycetales/Propionibacteriaceae\", \"Bacteria/Proteobacteria/Betaproteobacteria/Rhodocyclales/Rhodocyclaceae\", \"Bacteria/Verrucomicrobia/Verrucomicrobiae/Verrucomicrobiales/Verrucomicrobiaceae\", \"Bacteria/Proteobacteria/Gammaproteobacteria/Enterobacteriales/Enterobacteriaceae\", \"Bacteria/Proteobacteria/Gammaproteobacteria/Alteromonadales/Pseudoalteromonadaceae\", \"Bacteria/Proteobacteria/Alphaproteobacteria/Rhizobiales/Brucellaceae\", \"Bacteria/Actinobacteria/Actinobacteria/Actinomycetales/Microbacteriaceae\", \"Bacteria/Firmicutes/Clostridia/Clostridiales/Ruminococcaceae\", \"Bacteria/Proteobacteria/Gammaproteobacteria/Pseudomonadales/Pseudomonadaceae\", \"Bacteria/Actinobacteria/Actinobacteria/Actinomycetales/Pseudonocardiaceae\", \"Bacteria/Proteobacteria/Betaproteobacteria/Burkholderiales/Comamonadaceae\", \"Bacteria/Proteobacteria/Gammaproteobacteria/Xanthomonadales/Xanthomonadaceae\", \"Bacteria/Proteobacteria/Gammaproteobacteria/Pseudomonadales/Moraxellaceae\", \"Bacteria/Proteobacteria/Betaproteobacteria/Burkholderiales/Burkholderiaceae\", \"Bacteria/Actinobacteria/Actinobacteria/Actinomycetales/Microbacteriaceae\", \"Bacteria/Proteobacteria/Gammaproteobacteria/Chromatiales/Chromatiaceae\", \"Bacteria/Proteobacteria/Gammaproteobacteria/Pseudomonadales/Pseudomonadaceae\", \"Bacteria/Proteobacteria/Alphaproteobacteria/Rhizobiales/Rhizobiaceae\", \"Bacteria/Proteobacteria/Alphaproteobacteria/Rhodobacterales/Rhodobacteraceae\", \"Bacteria/Actinobacteria/Actinobacteria/Actinomycetales/Nocardiaceae\", \"Bacteria/Bacteroidetes/Cytophagia/Cytophagales/Cytophagaceae\", \"Bacteria/Proteobacteria/Alphaproteobacteria/Rickettsiales/Rickettsiaceae\", \"Bacteria/Proteobacteria/Betaproteobacteria/Burkholderiales/Comamonadaceae\", \"Bacteria/Firmicutes/Clostridia/Clostridiales/Lachnospiraceae\", \"Bacteria/Verrucomicrobia/Verrucomicrobiae/Verrucomicrobiales/Verrucomicrobiaceae\", \"Bacteria/Proteobacteria/Alphaproteobacteria/Rhodospirillales/Acetobacteraceae\", \"Bacteria/Actinobacteria/Actinobacteria/Actinomycetales/Micrococcaceae\", \"Bacteria/Proteobacteria/Alphaproteobacteria/Rhodobacterales/Rhodobacteraceae\", \"Bacteria/Actinobacteria/Actinobacteria/Rubrobacterales/Rubrobacteraceae\", \"Bacteria/Bacteroidetes/Cytophagia/Cytophagales/Cytophagaceae\", \"Bacteria/Firmicutes/Clostridia/Clostridiales/Ruminococcaceae\", \"Bacteria/Firmicutes/Clostridia/Clostridiales/Lachnospiraceae\", \"Bacteria/Bacteroidetes/Cytophagia/Cytophagales/Cytophagaceae\", \"Bacteria/Actinobacteria/Actinobacteria/Actinomycetales/Pseudonocardiaceae\", \"Bacteria/Actinobacteria/Actinobacteria/Actinomycetales/Pseudonocardiaceae\", \"Bacteria/Bacteroidetes/Flavobacteriia/Flavobacteriales/Flavobacteriaceae\", \"Bacteria/Actinobacteria/Actinobacteria/Actinomycetales/Sanguibacteraceae\", \"Bacteria/Firmicutes/Clostridia/Clostridiales/Clostridiaceae_1\", \"Bacteria/Proteobacteria/Betaproteobacteria/Burkholderiales/Comamonadaceae\", \"Bacteria/Bacteroidetes/Sphingobacteriia/Sphingobacteriales/Chitinophagaceae\", \"Bacteria/Bacteroidetes/Sphingobacteriia/Sphingobacteriales/Chitinophagaceae\", \"Bacteria/Proteobacteria/Gammaproteobacteria/Alteromonadales/Shewanellaceae\", \"Bacteria/Proteobacteria/Betaproteobacteria/Rhodocyclales/Rhodocyclaceae\", \"Bacteria/Proteobacteria/Betaproteobacteria/Burkholderiales/Comamonadaceae\", \"Bacteria/Proteobacteria/Alphaproteobacteria/Rhodospirillales/Rhodospirillaceae\", \"Bacteria/Fusobacteria/Fusobacteriia/Fusobacteriales/Leptotrichiaceae\", \"Bacteria/Actinobacteria/Actinobacteria/Solirubrobacterales/Solirubrobacteraceae\", \"Bacteria/Firmicutes/Erysipelotrichia/Erysipelotrichales/Erysipelotrichaceae\", \"Bacteria/Bacteroidetes/Sphingobacteriia/Sphingobacteriales/Sphingobacteriaceae\", \"Bacteria/Proteobacteria/Alphaproteobacteria/Sphingomonadales/Sphingomonadaceae\", \"Bacteria/Proteobacteria/Alphaproteobacteria/Sphingomonadales/Sphingomonadaceae\", \"Bacteria/Proteobacteria/Alphaproteobacteria/Sphingomonadales/Sphingomonadaceae\", \"Bacteria/Proteobacteria/Alphaproteobacteria/Sphingomonadales/Sphingomonadaceae\", \"Bacteria/Proteobacteria/Alphaproteobacteria/Sphingomonadales/Sphingomonadaceae\", \"Bacteria/Bacteroidetes/Cytophagia/Cytophagales/Cytophagaceae\", \"Bacteria/Firmicutes/Clostridia/Clostridiales/Peptostreptococcaceae\", \"Bacteria/Firmicutes/Bacilli/Bacillales/Planococcaceae\", \"Bacteria/Firmicutes/Bacilli/Bacillales/Staphylococcaceae\", \"Bacteria/Proteobacteria/Alphaproteobacteria/Rhodospirillales/Acetobacteraceae\", \"Bacteria/Proteobacteria/Gammaproteobacteria/Xanthomonadales/Xanthomonadaceae\", \"Bacteria/Proteobacteria/Gammaproteobacteria/Xanthomonadales/Sinobacteraceae\", \"Bacteria/Firmicutes/Bacilli/Lactobacillales/Streptococcaceae\", \"Bacteria/Actinobacteria/Actinobacteria/Actinomycetales/Streptomycetaceae\", \"Bacteria/Firmicutes/Clostridia/Clostridiales/Ruminococcaceae\", \"Bacteria/Actinobacteria/Actinobacteria/Actinomycetales/Intrasporangiaceae\", \"Bacteria/Bacteroidetes/Sphingobacteriia/Sphingobacteriales/Chitinophagaceae\", \"Bacteria/Actinobacteria/Actinobacteria/Actinomycetales/Propionibacteriaceae\", \"Bacteria/Actinobacteria/Actinobacteria/Actinomycetales/Intrasporangiaceae\", \"Bacteria/Firmicutes/Bacilli/Bacillales/Paenibacillaceae_1\", \"Bacteria/Proteobacteria/Gammaproteobacteria/Xanthomonadales/Xanthomonadaceae\", \"Bacteria/Deinococcus-Thermus/Deinococci/Thermales/Thermaceae\", \"Bacteria/Proteobacteria/Gammaproteobacteria/Aeromonadales/Aeromonadaceae\", \"Bacteria/Spirochaetes/Spirochaetia/Spirochaetales/Spirochaetaceae\", \"Bacteria/Firmicutes/Bacilli/Lactobacillales/Carnobacteriaceae\", \"Bacteria/Deinococcus-Thermus/Deinococci/Deinococcales/Trueperaceae\", \"Bacteria/Actinobacteria/Actinobacteria/Actinomycetales/Actinomycetaceae\", \"Bacteria/Actinobacteria/Actinobacteria/Actinomycetales/Corynebacteriaceae\", \"Bacteria/Firmicutes/Erysipelotrichia/Erysipelotrichales/Erysipelotrichaceae\", \"Bacteria/Firmicutes/Bacilli/Lactobacillales/Enterococcaceae\", \"Bacteria/Actinobacteria/Actinobacteria/Actinomycetales/Actinomycetaceae\", \"Bacteria/Proteobacteria/Betaproteobacteria/Burkholderiales/Comamonadaceae\", \"Bacteria/Firmicutes/Negativicutes/Selenomonadales/Veillonellaceae\", \"Bacteria/Proteobacteria/Gammaproteobacteria/Vibrionales/Vibrionaceae\", \"Bacteria/Bacteroidetes/Flavobacteriia/Flavobacteriales/Flavobacteriaceae\", \"Bacteria/Actinobacteria/Actinobacteria/Actinomycetales/Nocardiaceae\", \"Bacteria/Proteobacteria/Gammaproteobacteria/Xanthomonadales/Xanthomonadaceae\", \"Bacteria/Actinobacteria/Actinobacteria/Actinomycetales/Micrococcaceae\", \"Bacteria/Actinobacteria/Actinobacteria/Actinomycetales/Microbacteriaceae\", \"Bacteria/Proteobacteria/Alphaproteobacteria/Rhodospirillales/Acetobacteraceae\", \"Bacteria/Actinobacteria/Actinobacteria/Actinomycetales/Actinomycetaceae\", \"Bacteria/Firmicutes/Bacilli/Lactobacillales/Aerococcaceae\", \"Bacteria/Proteobacteria/Betaproteobacteria/Burkholderiales/Alcaligenaceae\", \"Bacteria/Chloroflexi/Anaerolineae/Anaerolineales/Anaerolineaceae\", \"Bacteria/Proteobacteria/Deltaproteobacteria/Bdellovibrionales/Bacteriovoracaceae\", \"Bacteria/Proteobacteria/Alphaproteobacteria/Rhizobiales/Beijerinckiaceae\", \"Bacteria/Actinobacteria/Actinobacteria/Actinomycetales/Beutenbergiaceae\", \"Bacteria/Proteobacteria/Alphaproteobacteria/Rhizobiales/Bradyrhizobiaceae\", \"Bacteria/Proteobacteria/Betaproteobacteria/Burkholderiales/Burkholderiales_incertae_sedis\", \"Bacteria/Chloroflexi/Caldilineae/Caldilineales/Caldilineaceae\", \"Bacteria/Proteobacteria/Alphaproteobacteria/Caulobacterales/Caulobacteraceae\", \"Bacteria/Actinobacteria/Actinobacteria/Actinomycetales/Cellulomonadaceae\", \"Bacteria/Bacteroidetes/Sphingobacteriia/Sphingobacteriales/Chitinophagaceae\", \"Bacteria/Chloroflexi/Chloroflexia/Chloroflexales/Chloroflexaceae\", \"Bacteria/Firmicutes/Clostridia/Clostridiales/Clostridiaceae_1\", \"Bacteria/Firmicutes/Clostridia/Clostridiales/Clostridiales_Incertae_Sedis_XI\", \"Bacteria/Firmicutes/Clostridia/Clostridiales/Clostridiales_Incertae_Sedis_XIII\", \"Bacteria/Proteobacteria/Betaproteobacteria/Burkholderiales/Comamonadaceae\", \"Bacteria/Actinobacteria/Actinobacteria/Coriobacteriales/Coriobacteriaceae\", \"Bacteria/Actinobacteria/Actinobacteria/Actinomycetales/Corynebacteriaceae\", \"Bacteria/Bacteroidetes/Cytophagia/Cytophagales/Cytophagaceae\", \"Bacteria/Deinococcus-Thermus/Deinococci/Deinococcales/Deinococcaceae\", \"Bacteria/Actinobacteria/Actinobacteria/Actinomycetales/Dermabacteraceae\", \"Bacteria/Proteobacteria/Gammaproteobacteria/Enterobacteriales/Enterobacteriaceae\", \"Bacteria/Firmicutes/Erysipelotrichia/Erysipelotrichales/Erysipelotrichaceae\", \"Bacteria/Proteobacteria/Alphaproteobacteria/Sphingomonadales/Erythrobacteraceae\", \"Bacteria/Bacteroidetes/Flavobacteriia/Flavobacteriales/Flavobacteriaceae\", \"Bacteria/Proteobacteria/Alphaproteobacteria/Alphaproteobacteria_incertae_sedis/Geminicoccus\", \"Bacteria/Actinobacteria/Actinobacteria/Actinomycetales/Geodermatophilaceae\", \"Bacteria/Proteobacteria/Betaproteobacteria/Hydrogenophilales/Hydrogenophilaceae\", \"Bacteria/Actinobacteria/Actinobacteria/Actinomycetales/Intrasporangiaceae\", \"Bacteria/Actinobacteria/Actinobacteria/Actinomycetales/Kineosporiaceae\", \"Bacteria/Firmicutes/Clostridia/Clostridiales/Lachnospiraceae\", \"Bacteria/Fusobacteria/Fusobacteriia/Fusobacteriales/Leptotrichiaceae\", \"Bacteria/Proteobacteria/Alphaproteobacteria/Rhizobiales/Methylocystaceae\", \"Bacteria/Actinobacteria/Actinobacteria/Actinomycetales/Microbacteriaceae\", \"Bacteria/Actinobacteria/Actinobacteria/Actinomycetales/Micrococcaceae\", \"Bacteria/Actinobacteria/Actinobacteria/Actinomycetales/Micromonosporaceae\", \"Bacteria/Proteobacteria/Gammaproteobacteria/Pseudomonadales/Moraxellaceae\", \"Bacteria/Proteobacteria/Betaproteobacteria/Neisseriales/Neisseriaceae\", \"Bacteria/Actinobacteria/Actinobacteria/Actinomycetales/Nocardiaceae\", \"Bacteria/Actinobacteria/Actinobacteria/Actinomycetales/Nocardioidaceae\", \"Bacteria/Verrucomicrobia/Opitutae/Opitutales/Opitutaceae\", \"Bacteria/Proteobacteria/Betaproteobacteria/Burkholderiales/Oxalobacteraceae\", \"Bacteria/Proteobacteria/Gammaproteobacteria/Pasteurellales/Pasteurellaceae\", \"Bacteria/Proteobacteria/Alphaproteobacteria/Rhizobiales/Phyllobacteriaceae\", \"Bacteria/Planctomycetes/Planctomycetia/Planctomycetales/Planctomycetaceae\", \"Bacteria/Firmicutes/Bacilli/Bacillales/Planococcaceae\", \"Bacteria/Bacteroidetes/Bacteroidia/Bacteroidales/Porphyromonadaceae\", \"Bacteria/Bacteroidetes/Bacteroidia/Bacteroidales/Prevotellaceae\", \"Bacteria/Actinobacteria/Actinobacteria/Actinomycetales/Propionibacteriaceae\", \"Bacteria/Proteobacteria/Gammaproteobacteria/Pseudomonadales/Pseudomonadaceae\", \"Bacteria/Actinobacteria/Actinobacteria/Actinomycetales/Pseudonocardiaceae\", \"Bacteria/Proteobacteria/Alphaproteobacteria/Rhodobacterales/Rhodobacteraceae\", \"Bacteria/Proteobacteria/Betaproteobacteria/Rhodocyclales/Rhodocyclaceae\", \"Bacteria/Proteobacteria/Alphaproteobacteria/Rhodospirillales/Rhodospirillaceae\", \"Bacteria/Firmicutes/Clostridia/Clostridiales/Ruminococcaceae\", \"Bacteria/Bacteroidetes/Sphingobacteriia/Sphingobacteriales/Saprospiraceae\", \"Bacteria/Bacteroidetes/Sphingobacteriia/Sphingobacteriales/Sphingobacteriaceae\", \"Bacteria/Proteobacteria/Alphaproteobacteria/Sphingomonadales/Sphingomonadaceae\", \"Bacteria/Firmicutes/Bacilli/Bacillales/Staphylococcaceae\", \"Bacteria/Actinobacteria/Actinobacteria/Actinomycetales/Streptomycetaceae\", \"Bacteria/Actinobacteria/Actinobacteria/Actinomycetales/Streptosporangiaceae\", \"Bacteria/Firmicutes/Negativicutes/Selenomonadales/Veillonellaceae\", \"Bacteria/Proteobacteria/Gammaproteobacteria/Xanthomonadales/Xanthomonadaceae\", \"Bacteria/Actinobacteria/Actinobacteria/Acidimicrobiales/unclassified\", \"Bacteria/Actinobacteria/Actinobacteria/Actinomycetales/unclassified\", \"Bacteria/Firmicutes/Bacilli/Bacillales/unclassified\", \"Bacteria/Bacteroidetes/Bacteroidia/Bacteroidales/unclassified\", \"Bacteria/Acidobacteria/Acidobacteria_Gp4/Blastocatella/unclassified\", \"Bacteria/Proteobacteria/Betaproteobacteria/Burkholderiales/unclassified\", \"Bacteria/Chloroflexi/Chloroflexia/Chloroflexales/unclassified\", \"Bacteria/Firmicutes/Clostridia/Clostridiales/unclassified\", \"Bacteria/Bacteroidetes/Cytophagia/Cytophagales/unclassified\", \"Bacteria/Deinococcus-Thermus/Deinococci/Deinococcales/unclassified\", \"Bacteria/Bacteroidetes/Flavobacteriia/Flavobacteriales/unclassified\", \"Bacteria/Fusobacteria/Fusobacteriia/Fusobacteriales/unclassified\", \"Bacteria/Acidobacteria/Acidobacteria_Gp1/Gp1/unclassified\", \"Bacteria/Acidobacteria/Acidobacteria_Gp16/Gp16/unclassified\", \"Bacteria/Acidobacteria/Acidobacteria_Gp17/Gp17/unclassified\", \"Bacteria/Acidobacteria/Acidobacteria_Gp2/Gp2/unclassified\", \"Bacteria/Acidobacteria/Acidobacteria_Gp3/Gp3/unclassified\", \"Bacteria/Acidobacteria/Acidobacteria_Gp4/Gp4/unclassified\", \"Bacteria/Acidobacteria/Acidobacteria_Gp6/Gp6/unclassified\", \"Bacteria/Acidobacteria/Acidobacteria_Gp7/Gp7/unclassified\", \"Bacteria/Firmicutes/Bacilli/Lactobacillales/unclassified\", \"Bacteria/Proteobacteria/Deltaproteobacteria/Myxococcales/unclassified\", \"Bacteria/Bacteroidetes/Bacteroidetes_incertae_sedis/Ohtaekwangia/unclassified\", \"Bacteria/Proteobacteria/Gammaproteobacteria/Pseudomonadales/unclassified\", \"Bacteria/Proteobacteria/Alphaproteobacteria/Rhizobiales/unclassified\", \"Bacteria/Proteobacteria/Alphaproteobacteria/Rhodospirillales/unclassified\", \"Bacteria/Actinobacteria/Actinobacteria/Solirubrobacterales/unclassified\", \"Bacteria/Bacteroidetes/Sphingobacteriia/Sphingobacteriales/unclassified\", \"Bacteria/Proteobacteria/Alphaproteobacteria/Sphingomonadales/unclassified\", \"Bacteria/Proteobacteria/Gammaproteobacteria/Xanthomonadales/unclassified\", \"Bacteria/Acidobacteria/Acidobacteria_Gp3/unclassified/unclassified\", \"Bacteria/Acidobacteria/Acidobacteria_Gp4/unclassified/unclassified\", \"Bacteria/Actinobacteria/Actinobacteria/unclassified/unclassified\", \"Bacteria/Proteobacteria/Alphaproteobacteria/unclassified/unclassified\", \"Bacteria/Armatimonadetes/Armatimonadetes_gp4/unclassified/unclassified\", \"Bacteria/Armatimonadetes/Armatimonadetes_gp5/unclassified/unclassified\", \"Bacteria/Firmicutes/Bacilli/unclassified/unclassified\", \"Bacteria/Proteobacteria/Betaproteobacteria/unclassified/unclassified\", \"Bacteria/Deinococcus-Thermus/Deinococci/unclassified/unclassified\", \"Bacteria/Proteobacteria/Deltaproteobacteria/unclassified/unclassified\", \"Bacteria/Proteobacteria/Gammaproteobacteria/unclassified/unclassified\", \"Bacteria/Acidobacteria/unclassified/unclassified/unclassified\", \"Bacteria/Actinobacteria/unclassified/unclassified/unclassified\", \"Bacteria/Armatimonadetes/unclassified/unclassified/unclassified\", \"Bacteria/Bacteroidetes/unclassified/unclassified/unclassified\", \"Bacteria/Candidatus_Saccharibacteria/unclassified/unclassified/unclassified\", \"Bacteria/Chloroflexi/unclassified/unclassified/unclassified\", \"Bacteria/Firmicutes/unclassified/unclassified/unclassified\", \"Bacteria/Microgenomates/unclassified/unclassified/unclassified\", \"Bacteria/Parcubacteria/unclassified/unclassified/unclassified\", \"Bacteria/Proteobacteria/unclassified/unclassified/unclassified\", \"Bacteria/Verrucomicrobia/unclassified/unclassified/unclassified\", \"Bacteria/unclassified/unclassified/unclassified/unclassified\", \"Bacteria/Proteobacteria/Alphaproteobacteria/Rhodospirillales\", \"Bacteria/Actinobacteria/Actinobacteria/Acidimicrobiales\", \"Bacteria/Actinobacteria/Actinobacteria/Actinomycetales\", \"Bacteria/Firmicutes/Bacilli/Lactobacillales\", \"Bacteria/Proteobacteria/Gammaproteobacteria/Aeromonadales\", \"Bacteria/Proteobacteria/Betaproteobacteria/Burkholderiales\", \"Bacteria/Chloroflexi/Anaerolineae/Anaerolineales\", \"Bacteria/Proteobacteria/Alphaproteobacteria/Rhizobiales\", \"Bacteria/Firmicutes/Bacilli/Bacillales\", \"Bacteria/Firmicutes/Bacilli/Bacillales\", \"Bacteria/Firmicutes/Bacilli/Bacillales\", \"Bacteria/Proteobacteria/Deltaproteobacteria/Bdellovibrionales\", \"Bacteria/Bacteroidetes/Bacteroidia/Bacteroidales\", \"Bacteria/Proteobacteria/Deltaproteobacteria/Bdellovibrionales\", \"Bacteria/Proteobacteria/Alphaproteobacteria/Rhizobiales\", \"Bacteria/Actinobacteria/Actinobacteria/Actinomycetales\", \"Bacteria/Actinobacteria/Actinobacteria/Bifidobacteriales\", \"Bacteria/Actinobacteria/Actinobacteria/Actinomycetales\", \"Bacteria/Proteobacteria/Alphaproteobacteria/Rhizobiales\", \"Bacteria/Actinobacteria/Actinobacteria/Actinomycetales\", \"Bacteria/Proteobacteria/Alphaproteobacteria/Rhizobiales\", \"Bacteria/Proteobacteria/Betaproteobacteria/Burkholderiales\", \"Bacteria/Proteobacteria/Betaproteobacteria/Burkholderiales\", \"Bacteria/Chloroflexi/Caldilineae/Caldilineales\", \"Bacteria/Proteobacteria/Epsilonproteobacteria/Campylobacterales\", \"Bacteria/Proteobacteria/Gammaproteobacteria/Cardiobacteriales\", \"Bacteria/Firmicutes/Bacilli/Lactobacillales\", \"Bacteria/Proteobacteria/Alphaproteobacteria/Caulobacterales\", \"Bacteria/Actinobacteria/Actinobacteria/Actinomycetales\", \"Bacteria/Bacteroidetes/Sphingobacteriia/Sphingobacteriales\", \"Bacteria/Chloroflexi/Chloroflexia/Chloroflexales\", \"Bacteria/Proteobacteria/Gammaproteobacteria/Chromatiales\", \"Bacteria/Firmicutes/Clostridia/Clostridiales\", \"Bacteria/Firmicutes/Clostridia/Clostridiales\", \"Bacteria/Firmicutes/Clostridia/Clostridiales\", \"Bacteria/Proteobacteria/Betaproteobacteria/Burkholderiales\", \"Bacteria/Actinobacteria/Actinobacteria/Coriobacteriales\", \"Bacteria/Actinobacteria/Actinobacteria/Actinomycetales\", \"Bacteria/Proteobacteria/Gammaproteobacteria/Legionellales\", \"Bacteria/Bacteroidetes/Flavobacteriia/Flavobacteriales\", \"Bacteria/Bacteroidetes/Cytophagia/Cytophagales\", \"Bacteria/Deinococcus-Thermus/Deinococci/Deinococcales\", \"Bacteria/Actinobacteria/Actinobacteria/Actinomycetales\", \"Bacteria/Actinobacteria/Actinobacteria/Actinomycetales\", \"Bacteria/Actinobacteria/Actinobacteria/Actinomycetales\", \"Bacteria/Actinobacteria/Actinobacteria/Actinomycetales\", \"Bacteria/Proteobacteria/Deltaproteobacteria/Desulfobacterales\", \"Bacteria/Actinobacteria/Actinobacteria/Actinomycetales\", \"Bacteria/Proteobacteria/Gammaproteobacteria/Enterobacteriales\", \"Bacteria/Firmicutes/Bacilli/Lactobacillales\", \"Bacteria/Firmicutes/Erysipelotrichia/Erysipelotrichales\", \"Bacteria/Proteobacteria/Alphaproteobacteria/Sphingomonadales\", \"Bacteria/Firmicutes/Clostridia/Clostridiales\", \"Bacteria/Actinobacteria/Actinobacteria/Euzebyales\", \"Bacteria/Bacteroidetes/Cytophagia/Cytophagales\", \"Bacteria/Bacteroidetes/Flavobacteriia/Flavobacteriales\", \"Bacteria/Fusobacteria/Fusobacteriia/Fusobacteriales\", \"Bacteria/Actinobacteria/Actinobacteria/Gaiellales\", \"Bacteria/Proteobacteria/Alphaproteobacteria/Alphaproteobacteria_incertae_sedis\", \"Bacteria/Gemmatimonadetes/Gemmatimonadetes/Gemmatimonadales\", \"Bacteria/Actinobacteria/Actinobacteria/Actinomycetales\", \"Bacteria/Proteobacteria/Gammaproteobacteria/Oceanospirillales\", \"Bacteria/Proteobacteria/Epsilonproteobacteria/Campylobacterales\", \"Bacteria/Chloroflexi/Chloroflexia/Herpetosiphonales\", \"Bacteria/Proteobacteria/Betaproteobacteria/Hydrogenophilales\", \"Bacteria/Proteobacteria/Alphaproteobacteria/Rhizobiales\", \"Bacteria/Actinobacteria/Actinobacteria/Acidimicrobiales\", \"Bacteria/Firmicutes/Clostridia/Clostridiales\", \"Bacteria/Actinobacteria/Actinobacteria/Actinomycetales\", \"Bacteria/Actinobacteria/Actinobacteria/Actinomycetales\", \"Bacteria/Firmicutes/Clostridia/Clostridiales\", \"Bacteria/Firmicutes/Bacilli/Lactobacillales\", \"Bacteria/Proteobacteria/Gammaproteobacteria/Legionellales\", \"Bacteria/Fusobacteria/Fusobacteriia/Fusobacteriales\", \"Bacteria/Firmicutes/Bacilli/Lactobacillales\", \"Bacteria/Proteobacteria/Alphaproteobacteria/Rhizobiales\", \"Bacteria/Proteobacteria/Gammaproteobacteria/Methylococcales\", \"Bacteria/Proteobacteria/Alphaproteobacteria/Rhizobiales\", \"Bacteria/Proteobacteria/Betaproteobacteria/Methylophilales\", \"Bacteria/Actinobacteria/Actinobacteria/Actinomycetales\", \"Bacteria/Actinobacteria/Actinobacteria/Actinomycetales\", \"Bacteria/Actinobacteria/Actinobacteria/Actinomycetales\", \"Bacteria/Proteobacteria/Gammaproteobacteria/Pseudomonadales\", \"Bacteria/Actinobacteria/Actinobacteria/Actinomycetales\", \"Bacteria/Actinobacteria/Actinobacteria/Actinomycetales\", \"Bacteria/Proteobacteria/Betaproteobacteria/Neisseriales\", \"Bacteria/Actinobacteria/Actinobacteria/Actinomycetales\", \"Bacteria/Actinobacteria/Actinobacteria/Actinomycetales\", \"Bacteria/Verrucomicrobia/Opitutae/Opitutales\", \"Bacteria/Proteobacteria/Betaproteobacteria/Burkholderiales\", \"Bacteria/Firmicutes/Bacilli/Bacillales\", \"Bacteria/Proteobacteria/Gammaproteobacteria/Pasteurellales\", \"Bacteria/Firmicutes/Clostridia/Clostridiales\", \"Bacteria/Proteobacteria/Alphaproteobacteria/Rhizobiales\", \"Bacteria/Planctomycetes/Planctomycetia/Planctomycetales\", \"Bacteria/Firmicutes/Bacilli/Bacillales\", \"Bacteria/Bacteroidetes/Bacteroidia/Bacteroidales\", \"Bacteria/Bacteroidetes/Bacteroidia/Bacteroidales\", \"Bacteria/Actinobacteria/Actinobacteria/Actinomycetales\", \"Bacteria/Proteobacteria/Gammaproteobacteria/Alteromonadales\", \"Bacteria/Proteobacteria/Gammaproteobacteria/Pseudomonadales\", \"Bacteria/Actinobacteria/Actinobacteria/Actinomycetales\", \"Bacteria/Proteobacteria/Alphaproteobacteria/Rhizobiales\", \"Bacteria/Proteobacteria/Alphaproteobacteria/Rhodobacterales\", \"Bacteria/Proteobacteria/Betaproteobacteria/Rhodocyclales\", \"Bacteria/Proteobacteria/Alphaproteobacteria/Rhodospirillales\", \"Bacteria/Proteobacteria/Alphaproteobacteria/Rickettsiales\", \"Bacteria/Bacteroidetes/Bacteroidia/Bacteroidales\", \"Bacteria/Actinobacteria/Actinobacteria/Rubrobacterales\", \"Bacteria/Firmicutes/Clostridia/Clostridiales\", \"Bacteria/Actinobacteria/Actinobacteria/Actinomycetales\", \"Bacteria/Bacteroidetes/Sphingobacteriia/Sphingobacteriales\", \"Bacteria/Proteobacteria/Gammaproteobacteria/Alteromonadales\", \"Bacteria/Proteobacteria/Gammaproteobacteria/Xanthomonadales\", \"Bacteria/Actinobacteria/Actinobacteria/Solirubrobacterales\", \"Bacteria/Bacteroidetes/Sphingobacteriia/Sphingobacteriales\", \"Bacteria/Proteobacteria/Alphaproteobacteria/Sphingomonadales\", \"Bacteria/Spirochaetes/Spirochaetia/Spirochaetales\", \"Bacteria/Firmicutes/Bacilli/Bacillales\", \"Bacteria/Firmicutes/Bacilli/Lactobacillales\", \"Bacteria/Actinobacteria/Actinobacteria/Actinomycetales\", \"Bacteria/Actinobacteria/Actinobacteria/Actinomycetales\", \"Bacteria/Proteobacteria/Betaproteobacteria/Burkholderiales\", \"Bacteria/Synergistetes/Synergistia/Synergistales\", \"Bacteria/Deinococcus-Thermus/Deinococci/Thermales\", \"Bacteria/Deinococcus-Thermus/Deinococci/Deinococcales\", \"Bacteria/Firmicutes/Negativicutes/Selenomonadales\", \"Bacteria/Verrucomicrobia/Verrucomicrobiae/Verrucomicrobiales\", \"Bacteria/Proteobacteria/Gammaproteobacteria/Vibrionales\", \"Bacteria/Proteobacteria/Gammaproteobacteria/Xanthomonadales\", \"Bacteria/Actinobacteria/Actinobacteria/Acidimicrobiales\", \"Bacteria/Actinobacteria/Actinobacteria/Actinomycetales\", \"Bacteria/Firmicutes/Bacilli/Bacillales\", \"Bacteria/Bacteroidetes/Bacteroidia/Bacteroidales\", \"Bacteria/Acidobacteria/Acidobacteria_Gp4/Blastocatella\", \"Bacteria/Proteobacteria/Betaproteobacteria/Burkholderiales\", \"Bacteria/Chloroflexi/Chloroflexia/Chloroflexales\", \"Bacteria/Firmicutes/Clostridia/Clostridiales\", \"Bacteria/Bacteroidetes/Cytophagia/Cytophagales\", \"Bacteria/Deinococcus-Thermus/Deinococci/Deinococcales\", \"Bacteria/Bacteroidetes/Flavobacteriia/Flavobacteriales\", \"Bacteria/Fusobacteria/Fusobacteriia/Fusobacteriales\", \"Bacteria/Acidobacteria/Acidobacteria_Gp1/Gp1\", \"Bacteria/Acidobacteria/Acidobacteria_Gp16/Gp16\", \"Bacteria/Acidobacteria/Acidobacteria_Gp17/Gp17\", \"Bacteria/Acidobacteria/Acidobacteria_Gp2/Gp2\", \"Bacteria/Acidobacteria/Acidobacteria_Gp3/Gp3\", \"Bacteria/Acidobacteria/Acidobacteria_Gp4/Gp4\", \"Bacteria/Acidobacteria/Acidobacteria_Gp6/Gp6\", \"Bacteria/Acidobacteria/Acidobacteria_Gp7/Gp7\", \"Bacteria/Firmicutes/Bacilli/Lactobacillales\", \"Bacteria/Proteobacteria/Deltaproteobacteria/Myxococcales\", \"Bacteria/Bacteroidetes/Bacteroidetes_incertae_sedis/Ohtaekwangia\", \"Bacteria/Proteobacteria/Gammaproteobacteria/Pseudomonadales\", \"Bacteria/Proteobacteria/Alphaproteobacteria/Rhizobiales\", \"Bacteria/Proteobacteria/Alphaproteobacteria/Rhodospirillales\", \"Bacteria/Actinobacteria/Actinobacteria/Solirubrobacterales\", \"Bacteria/Bacteroidetes/Sphingobacteriia/Sphingobacteriales\", \"Bacteria/Proteobacteria/Alphaproteobacteria/Sphingomonadales\", \"Bacteria/Proteobacteria/Gammaproteobacteria/Xanthomonadales\", \"Bacteria/Acidobacteria/Acidobacteria_Gp3/unclassified\", \"Bacteria/Acidobacteria/Acidobacteria_Gp4/unclassified\", \"Bacteria/Actinobacteria/Actinobacteria/unclassified\", \"Bacteria/Proteobacteria/Alphaproteobacteria/unclassified\", \"Bacteria/Armatimonadetes/Armatimonadetes_gp4/unclassified\", \"Bacteria/Armatimonadetes/Armatimonadetes_gp5/unclassified\", \"Bacteria/Firmicutes/Bacilli/unclassified\", \"Bacteria/Proteobacteria/Betaproteobacteria/unclassified\", \"Bacteria/Deinococcus-Thermus/Deinococci/unclassified\", \"Bacteria/Proteobacteria/Deltaproteobacteria/unclassified\", \"Bacteria/Proteobacteria/Gammaproteobacteria/unclassified\", \"Bacteria/Acidobacteria/unclassified/unclassified\", \"Bacteria/Actinobacteria/unclassified/unclassified\", \"Bacteria/Armatimonadetes/unclassified/unclassified\", \"Bacteria/Bacteroidetes/unclassified/unclassified\", \"Bacteria/Candidatus_Saccharibacteria/unclassified/unclassified\", \"Bacteria/Chloroflexi/unclassified/unclassified\", \"Bacteria/Firmicutes/unclassified/unclassified\", \"Bacteria/Microgenomates/unclassified/unclassified\", \"Bacteria/Parcubacteria/unclassified/unclassified\", \"Bacteria/Proteobacteria/unclassified/unclassified\", \"Bacteria/Verrucomicrobia/unclassified/unclassified\", \"Bacteria/unclassified/unclassified/unclassified\", \"Bacteria/Actinobacteria/Actinobacteria\", \"Bacteria/Actinobacteria/Actinobacteria\", \"Bacteria/Proteobacteria/Gammaproteobacteria\", \"Bacteria/Proteobacteria/Alphaproteobacteria\", \"Bacteria/Proteobacteria/Gammaproteobacteria\", \"Bacteria/Chloroflexi/Anaerolineae\", \"Bacteria/Firmicutes/Bacilli\", \"Bacteria/Bacteroidetes/Bacteroidia\", \"Bacteria/Proteobacteria/Deltaproteobacteria\", \"Bacteria/Actinobacteria/Actinobacteria\", \"Bacteria/Acidobacteria/Acidobacteria_Gp4\", \"Bacteria/Proteobacteria/Betaproteobacteria\", \"Bacteria/Chloroflexi/Caldilineae\", \"Bacteria/Proteobacteria/Epsilonproteobacteria\", \"Bacteria/Proteobacteria/Gammaproteobacteria\", \"Bacteria/Proteobacteria/Alphaproteobacteria\", \"Bacteria/Chloroflexi/Chloroflexia\", \"Bacteria/Proteobacteria/Gammaproteobacteria\", \"Bacteria/Firmicutes/Clostridia\", \"Bacteria/Actinobacteria/Actinobacteria\", \"Bacteria/Bacteroidetes/Cytophagia\", \"Bacteria/Deinococcus-Thermus/Deinococci\", \"Bacteria/Proteobacteria/Deltaproteobacteria\", \"Bacteria/Proteobacteria/Gammaproteobacteria\", \"Bacteria/Firmicutes/Erysipelotrichia\", \"Bacteria/Actinobacteria/Actinobacteria\", \"Bacteria/Bacteroidetes/Flavobacteriia\", \"Bacteria/Fusobacteria/Fusobacteriia\", \"Bacteria/Actinobacteria/Actinobacteria\", \"Bacteria/Gemmatimonadetes/Gemmatimonadetes\", \"Bacteria/Acidobacteria/Acidobacteria_Gp1\", \"Bacteria/Acidobacteria/Acidobacteria_Gp16\", \"Bacteria/Acidobacteria/Acidobacteria_Gp17\", \"Bacteria/Acidobacteria/Acidobacteria_Gp2\", \"Bacteria/Acidobacteria/Acidobacteria_Gp3\", \"Bacteria/Acidobacteria/Acidobacteria_Gp4\", \"Bacteria/Acidobacteria/Acidobacteria_Gp6\", \"Bacteria/Acidobacteria/Acidobacteria_Gp7\", \"Bacteria/Chloroflexi/Chloroflexia\", \"Bacteria/Proteobacteria/Betaproteobacteria\", \"Bacteria/Firmicutes/Bacilli\", \"Bacteria/Proteobacteria/Gammaproteobacteria\", \"Bacteria/Proteobacteria/Gammaproteobacteria\", \"Bacteria/Proteobacteria/Betaproteobacteria\", \"Bacteria/Proteobacteria/Deltaproteobacteria\", \"Bacteria/Proteobacteria/Betaproteobacteria\", \"Bacteria/Proteobacteria/Gammaproteobacteria\", \"Bacteria/Bacteroidetes/Bacteroidetes_incertae_sedis\", \"Bacteria/Verrucomicrobia/Opitutae\", \"Bacteria/Proteobacteria/Gammaproteobacteria\", \"Bacteria/Planctomycetes/Planctomycetia\", \"Bacteria/Proteobacteria/Gammaproteobacteria\", \"Bacteria/Proteobacteria/Alphaproteobacteria\", \"Bacteria/Proteobacteria/Alphaproteobacteria\", \"Bacteria/Proteobacteria/Betaproteobacteria\", \"Bacteria/Proteobacteria/Alphaproteobacteria\", \"Bacteria/Proteobacteria/Alphaproteobacteria\", \"Bacteria/Actinobacteria/Actinobacteria\", \"Bacteria/Firmicutes/Negativicutes\", \"Bacteria/Actinobacteria/Actinobacteria\", \"Bacteria/Bacteroidetes/Sphingobacteriia\", \"Bacteria/Proteobacteria/Alphaproteobacteria\", \"Bacteria/Spirochaetes/Spirochaetia\", \"Bacteria/Synergistetes/Synergistia\", \"Bacteria/Deinococcus-Thermus/Deinococci\", \"Bacteria/Verrucomicrobia/Verrucomicrobiae\", \"Bacteria/Proteobacteria/Gammaproteobacteria\", \"Bacteria/Proteobacteria/Gammaproteobacteria\", \"Bacteria/Acidobacteria/Acidobacteria_Gp3\", \"Bacteria/Acidobacteria/Acidobacteria_Gp4\", \"Bacteria/Actinobacteria/Actinobacteria\", \"Bacteria/Proteobacteria/Alphaproteobacteria\", \"Bacteria/Armatimonadetes/Armatimonadetes_gp4\", \"Bacteria/Armatimonadetes/Armatimonadetes_gp5\", \"Bacteria/Firmicutes/Bacilli\", \"Bacteria/Proteobacteria/Betaproteobacteria\", \"Bacteria/Deinococcus-Thermus/Deinococci\", \"Bacteria/Proteobacteria/Deltaproteobacteria\", \"Bacteria/Proteobacteria/Gammaproteobacteria\", \"Bacteria/Acidobacteria/unclassified\", \"Bacteria/Actinobacteria/unclassified\", \"Bacteria/Armatimonadetes/unclassified\", \"Bacteria/Bacteroidetes/unclassified\", \"Bacteria/Candidatus_Saccharibacteria/unclassified\", \"Bacteria/Chloroflexi/unclassified\", \"Bacteria/Firmicutes/unclassified\", \"Bacteria/Microgenomates/unclassified\", \"Bacteria/Parcubacteria/unclassified\", \"Bacteria/Proteobacteria/unclassified\", \"Bacteria/Verrucomicrobia/unclassified\", \"Bacteria/unclassified/unclassified\", \"Bacteria/Acidobacteria\", \"Bacteria/Acidobacteria\", \"Bacteria/Acidobacteria\", \"Bacteria/Acidobacteria\", \"Bacteria/Acidobacteria\", \"Bacteria/Acidobacteria\", \"Bacteria/Acidobacteria\", \"Bacteria/Acidobacteria\", \"Bacteria/Actinobacteria\", \"Bacteria/Proteobacteria\", \"Bacteria/Chloroflexi\", \"Bacteria/Armatimonadetes\", \"Bacteria/Armatimonadetes\", \"Bacteria/Firmicutes\", \"Bacteria/Bacteroidetes\", \"Bacteria/Bacteroidetes\", \"Bacteria/Proteobacteria\", \"Bacteria/Chloroflexi\", \"Bacteria/Chloroflexi\", \"Bacteria/Firmicutes\", \"Bacteria/Bacteroidetes\", \"Bacteria/Deinococcus-Thermus\", \"Bacteria/Proteobacteria\", \"Bacteria/Proteobacteria\", \"Bacteria/Firmicutes\", \"Bacteria/Bacteroidetes\", \"Bacteria/Fusobacteria\", \"Bacteria/Proteobacteria\", \"Bacteria/Gemmatimonadetes\", \"Bacteria/Firmicutes\", \"Bacteria/Verrucomicrobia\", \"Bacteria/Planctomycetes\", \"Bacteria/Bacteroidetes\", \"Bacteria/Spirochaetes\", \"Bacteria/Synergistetes\", \"Bacteria/Verrucomicrobia\", \"Bacteria/Acidobacteria\", \"Bacteria/Actinobacteria\", \"Bacteria/Armatimonadetes\", \"Bacteria/Bacteroidetes\", \"Bacteria/Candidatus_Saccharibacteria\", \"Bacteria/Chloroflexi\", \"Bacteria/Firmicutes\", \"Bacteria/Microgenomates\", \"Bacteria/Parcubacteria\", \"Bacteria/Proteobacteria\", \"Bacteria/Verrucomicrobia\", \"Bacteria/unclassified\", \"Bacteria\", \"Bacteria\", \"Bacteria\", \"Bacteria\", \"Bacteria\", \"Bacteria\", \"Bacteria\", \"Bacteria\", \"Bacteria\", \"Bacteria\", \"Bacteria\", \"Bacteria\", \"Bacteria\", \"Bacteria\", \"Bacteria\", \"Bacteria\", \"Bacteria\", \"Bacteria\", \"\"], \"type\": \"treemap\", \"values\": [0, 3, 0, 7, 29, 58, 0, 11, 0, 0, 0, 4, 0, 0, 8, 0, 0, 1, 1, 0, 0, 1, 0, 0, 0, 0, 6, 0, 42, 0, 0, 57, 0, 0, 0, 0, 0, 10, 1, 0, 0, 0, 0, 0, 0, 0, 0, 13, 0, 5, 1, 0, 0, 0, 0, 2, 6, 0, 4, 7, 0, 0, 65, 1, 0, 0, 0, 0, 0, 0, 0, 9, 2, 0, 0, 0, 0, 50, 5, 0, 0, 0, 0, 4, 0, 4, 1, 8, 234, 0, 0, 143, 0, 0, 0, 0, 2, 0, 0, 0, 0, 0, 0, 0, 10, 0, 2, 0, 0, 0, 0, 0, 0, 0, 0, 0, 0, 0, 260, 0, 7, 0, 0, 0, 0, 0, 0, 0, 9, 0, 36, 0, 0, 10, 0, 0, 5, 0, 2, 0, 1, 0, 0, 0, 0, 0, 0, 0, 2, 0, 0, 0, 0, 0, 0, 0, 0, 0, 0, 9, 0, 0, 0, 0, 0, 2, 0, 0, 0, 0, 0, 6, 3, 0, 0, 0, 42, 19, 0, 0, 0, 0, 0, 0, 0, 0, 0, 0, 0, 0, 0, 1, 10, 0, 0, 0, 87, 0, 0, 0, 0, 0, 0, 8, 64, 0, 0, 0, 1, 3, 2, 0, 1, 0, 2, 24, 0, 0, 0, 0, 154, 0, 8, 3, 80, 1, 0, 0, 0, 0, 0, 0, 0, 1, 0, 1, 0, 0, 0, 2, 4, 0, 0, 0, 0, 1, 0, 6, 12, 2, 0, 0, 2, 0, 0, 0, 0, 0, 0, 0, 0, 0, 0, 0, 0, 2, 20, 78, 0, 0, 0, 0, 11, 0, 0, 0, 386, 1, 0, 3, 0, 6, 0, 0, 0, 2, 0, 4, 0, 0, 0, 0, 0, 9, 10, 5, 0, 0, 2, 6, 0, 0, 0, 0, 0, 0, 3, 0, 0, 0, 1, 0, 0, 0, 0, 0, 0, 35, 190, 2, 0, 0, 0, 0, 0, 111, 0, 6, 0, 9, 0, 4, 0, 0, 0, 0, 0, 0, 0, 2, 0, 0, 0, 2, 0, 0, 0, 3, 0, 1, 0, 0, 0, 0, 0, 0, 0, 0, 0, 0, 0, 0, 0, 0, 9, 0, 0, 0, 0, 6, 0, 0, 3, 0, 182, 0, 0, 0, 0, 0, 0, 0, 1, 1, 0, 0, 0, 4, 0, 17, 0, 0, 0, 1, 0, 0, 1, 0, 0, 0, 0, 9, 0, 0, 0, 0, 0, 0, 4, 0, 3, 3, 0, 5, 0, 0, 31, 0, 0, 0, 4, 6, 0, 25, 0, 0, 0, 3, 0, 2, 0, 0, 0, 0, 0, 0, 0, 0, 5, 0, 0, 0, 0, 0, 0, 0, 75, 0, 0, 0, 1, 0, 0, 2, 0, 21, 0, 0, 1, 0, 0, 0, 1, 0, 0, 2, 4, 1, 0, 3, 0, 0, 27, 0, 32, 12, 0, 19, 4, 2, 7, 0, 0, 0, 0, 0, 0, 5, 0, 0, 0, 1, 0, 17, 7, 0, 214, 57, 0, 0, 0, 0, 11, 2, 56, 0, 0, 4, 93, 0, 228, 4, 234, 0, 0, 9, 2, 0, 4, 0, 0, 0, 2, 7, 0, 0, 1, 0, 0, 0, 16, 2, 0, 0, 0, 4, 0, 0, 0, 0, 0, 0, 2, 4, 0, 29, 42, 0, 0, 0, 88, 0, 0, 0, 10, 245, 0, 319, 24, 0, 1, 4, 12, 0, 13, 0, 9, 6, 0, 0, 1, 5, 20, 83, 11, 390, 1, 2, 18, 4, 93, 0, 1, 0, 22, 0, 0, 0, 0, 0, 1, 259, 0, 111, 28, 0, 0, 0, 2, 0, 0, 15, 0, 0, 15, 0, 25, 0, 0, 0, 3, 0, 2, 0, 0, 0, 0, 0, 0, 0, 0, 5, 0, 0, 0, 0, 0, 0, 0, 75, 0, 0, 0, 1, 0, 0, 2, 0, 21, 0, 0, 1, 0, 0, 0, 1, 0, 0, 2, 4, 1, 0, 3, 0, 0, 27, 0, 32, 0, 680, 2, 0, 11, 0, 112, 31, 0, 1, 0, 522, 0, 0, 0, 11, 0, 0, 158, 4, 9, 2, 0, 7, 0, 0, 16, 2, 0, 0, 0, 0, 0, 0, 5, 0, 0, 0, 0, 0, 74, 0, 0, 0, 0, 1, 0, 0, 0, 9, 0, 709, 182, 18, 4, 105, 0, 0, 15, 0, 57, 261, 0, 2, 0, 0, 0, 15, 0, 2, 0, 21, 0, 0, 1, 0, 0, 0, 1, 0, 0, 2, 4, 1, 0, 3, 0, 0, 27, 0, 32, 0, 0, 0, 0, 5, 2, 0, 0, 685, 598, 0, 0, 0, 187, 0, 31, 527, 0, 0, 158, 9, 2, 0, 0, 0, 16, 2, 754, 0, 15, 0, 0, 57, 0, 2, 0, 0, 0, 2, 4, 1, 0, 3, 0, 0, 27, 0, 32, 7, 685, 2, 117, 1, 0, 2, 363, 2, 0, 0, 0, 0, 1906, 0, 2, 0, 32, 3119]}],                        {\"legend\": {\"tracegroupgap\": 0}, \"margin\": {\"t\": 60}, \"template\": {\"data\": {\"bar\": [{\"error_x\": {\"color\": \"#2a3f5f\"}, \"error_y\": {\"color\": \"#2a3f5f\"}, \"marker\": {\"line\": {\"color\": \"#E5ECF6\", \"width\": 0.5}}, \"type\": \"bar\"}], \"barpolar\": [{\"marker\": {\"line\": {\"color\": \"#E5ECF6\", \"width\": 0.5}}, \"type\": \"barpolar\"}], \"carpet\": [{\"aaxis\": {\"endlinecolor\": \"#2a3f5f\", \"gridcolor\": \"white\", \"linecolor\": \"white\", \"minorgridcolor\": \"white\", \"startlinecolor\": \"#2a3f5f\"}, \"baxis\": {\"endlinecolor\": \"#2a3f5f\", \"gridcolor\": \"white\", \"linecolor\": \"white\", \"minorgridcolor\": \"white\", \"startlinecolor\": \"#2a3f5f\"}, \"type\": \"carpet\"}], \"choropleth\": [{\"colorbar\": {\"outlinewidth\": 0, \"ticks\": \"\"}, \"type\": \"choropleth\"}], \"contour\": [{\"colorbar\": {\"outlinewidth\": 0, \"ticks\": \"\"}, \"colorscale\": [[0.0, \"#0d0887\"], [0.1111111111111111, \"#46039f\"], [0.2222222222222222, \"#7201a8\"], [0.3333333333333333, \"#9c179e\"], [0.4444444444444444, \"#bd3786\"], [0.5555555555555556, \"#d8576b\"], [0.6666666666666666, \"#ed7953\"], [0.7777777777777778, \"#fb9f3a\"], [0.8888888888888888, \"#fdca26\"], [1.0, \"#f0f921\"]], \"type\": \"contour\"}], \"contourcarpet\": [{\"colorbar\": {\"outlinewidth\": 0, \"ticks\": \"\"}, \"type\": \"contourcarpet\"}], \"heatmap\": [{\"colorbar\": {\"outlinewidth\": 0, \"ticks\": \"\"}, \"colorscale\": [[0.0, \"#0d0887\"], [0.1111111111111111, \"#46039f\"], [0.2222222222222222, \"#7201a8\"], [0.3333333333333333, \"#9c179e\"], [0.4444444444444444, \"#bd3786\"], [0.5555555555555556, \"#d8576b\"], [0.6666666666666666, \"#ed7953\"], [0.7777777777777778, \"#fb9f3a\"], [0.8888888888888888, \"#fdca26\"], [1.0, \"#f0f921\"]], \"type\": \"heatmap\"}], \"heatmapgl\": [{\"colorbar\": {\"outlinewidth\": 0, \"ticks\": \"\"}, \"colorscale\": [[0.0, \"#0d0887\"], [0.1111111111111111, \"#46039f\"], [0.2222222222222222, \"#7201a8\"], [0.3333333333333333, \"#9c179e\"], [0.4444444444444444, \"#bd3786\"], [0.5555555555555556, \"#d8576b\"], [0.6666666666666666, \"#ed7953\"], [0.7777777777777778, \"#fb9f3a\"], [0.8888888888888888, \"#fdca26\"], [1.0, \"#f0f921\"]], \"type\": \"heatmapgl\"}], \"histogram\": [{\"marker\": {\"colorbar\": {\"outlinewidth\": 0, \"ticks\": \"\"}}, \"type\": \"histogram\"}], \"histogram2d\": [{\"colorbar\": {\"outlinewidth\": 0, \"ticks\": \"\"}, \"colorscale\": [[0.0, \"#0d0887\"], [0.1111111111111111, \"#46039f\"], [0.2222222222222222, \"#7201a8\"], [0.3333333333333333, \"#9c179e\"], [0.4444444444444444, \"#bd3786\"], [0.5555555555555556, \"#d8576b\"], [0.6666666666666666, \"#ed7953\"], [0.7777777777777778, \"#fb9f3a\"], [0.8888888888888888, \"#fdca26\"], [1.0, \"#f0f921\"]], \"type\": \"histogram2d\"}], \"histogram2dcontour\": [{\"colorbar\": {\"outlinewidth\": 0, \"ticks\": \"\"}, \"colorscale\": [[0.0, \"#0d0887\"], [0.1111111111111111, \"#46039f\"], [0.2222222222222222, \"#7201a8\"], [0.3333333333333333, \"#9c179e\"], [0.4444444444444444, \"#bd3786\"], [0.5555555555555556, \"#d8576b\"], [0.6666666666666666, \"#ed7953\"], [0.7777777777777778, \"#fb9f3a\"], [0.8888888888888888, \"#fdca26\"], [1.0, \"#f0f921\"]], \"type\": \"histogram2dcontour\"}], \"mesh3d\": [{\"colorbar\": {\"outlinewidth\": 0, \"ticks\": \"\"}, \"type\": \"mesh3d\"}], \"parcoords\": [{\"line\": {\"colorbar\": {\"outlinewidth\": 0, \"ticks\": \"\"}}, \"type\": \"parcoords\"}], \"pie\": [{\"automargin\": true, \"type\": \"pie\"}], \"scatter\": [{\"marker\": {\"colorbar\": {\"outlinewidth\": 0, \"ticks\": \"\"}}, \"type\": \"scatter\"}], \"scatter3d\": [{\"line\": {\"colorbar\": {\"outlinewidth\": 0, \"ticks\": \"\"}}, \"marker\": {\"colorbar\": {\"outlinewidth\": 0, \"ticks\": \"\"}}, \"type\": \"scatter3d\"}], \"scattercarpet\": [{\"marker\": {\"colorbar\": {\"outlinewidth\": 0, \"ticks\": \"\"}}, \"type\": \"scattercarpet\"}], \"scattergeo\": [{\"marker\": {\"colorbar\": {\"outlinewidth\": 0, \"ticks\": \"\"}}, \"type\": \"scattergeo\"}], \"scattergl\": [{\"marker\": {\"colorbar\": {\"outlinewidth\": 0, \"ticks\": \"\"}}, \"type\": \"scattergl\"}], \"scattermapbox\": [{\"marker\": {\"colorbar\": {\"outlinewidth\": 0, \"ticks\": \"\"}}, \"type\": \"scattermapbox\"}], \"scatterpolar\": [{\"marker\": {\"colorbar\": {\"outlinewidth\": 0, \"ticks\": \"\"}}, \"type\": \"scatterpolar\"}], \"scatterpolargl\": [{\"marker\": {\"colorbar\": {\"outlinewidth\": 0, \"ticks\": \"\"}}, \"type\": \"scatterpolargl\"}], \"scatterternary\": [{\"marker\": {\"colorbar\": {\"outlinewidth\": 0, \"ticks\": \"\"}}, \"type\": \"scatterternary\"}], \"surface\": [{\"colorbar\": {\"outlinewidth\": 0, \"ticks\": \"\"}, \"colorscale\": [[0.0, \"#0d0887\"], [0.1111111111111111, \"#46039f\"], [0.2222222222222222, \"#7201a8\"], [0.3333333333333333, \"#9c179e\"], [0.4444444444444444, \"#bd3786\"], [0.5555555555555556, \"#d8576b\"], [0.6666666666666666, \"#ed7953\"], [0.7777777777777778, \"#fb9f3a\"], [0.8888888888888888, \"#fdca26\"], [1.0, \"#f0f921\"]], \"type\": \"surface\"}], \"table\": [{\"cells\": {\"fill\": {\"color\": \"#EBF0F8\"}, \"line\": {\"color\": \"white\"}}, \"header\": {\"fill\": {\"color\": \"#C8D4E3\"}, \"line\": {\"color\": \"white\"}}, \"type\": \"table\"}]}, \"layout\": {\"annotationdefaults\": {\"arrowcolor\": \"#2a3f5f\", \"arrowhead\": 0, \"arrowwidth\": 1}, \"coloraxis\": {\"colorbar\": {\"outlinewidth\": 0, \"ticks\": \"\"}}, \"colorscale\": {\"diverging\": [[0, \"#8e0152\"], [0.1, \"#c51b7d\"], [0.2, \"#de77ae\"], [0.3, \"#f1b6da\"], [0.4, \"#fde0ef\"], [0.5, \"#f7f7f7\"], [0.6, \"#e6f5d0\"], [0.7, \"#b8e186\"], [0.8, \"#7fbc41\"], [0.9, \"#4d9221\"], [1, \"#276419\"]], \"sequential\": [[0.0, \"#0d0887\"], [0.1111111111111111, \"#46039f\"], [0.2222222222222222, \"#7201a8\"], [0.3333333333333333, \"#9c179e\"], [0.4444444444444444, \"#bd3786\"], [0.5555555555555556, \"#d8576b\"], [0.6666666666666666, \"#ed7953\"], [0.7777777777777778, \"#fb9f3a\"], [0.8888888888888888, \"#fdca26\"], [1.0, \"#f0f921\"]], \"sequentialminus\": [[0.0, \"#0d0887\"], [0.1111111111111111, \"#46039f\"], [0.2222222222222222, \"#7201a8\"], [0.3333333333333333, \"#9c179e\"], [0.4444444444444444, \"#bd3786\"], [0.5555555555555556, \"#d8576b\"], [0.6666666666666666, \"#ed7953\"], [0.7777777777777778, \"#fb9f3a\"], [0.8888888888888888, \"#fdca26\"], [1.0, \"#f0f921\"]]}, \"colorway\": [\"#636efa\", \"#EF553B\", \"#00cc96\", \"#ab63fa\", \"#FFA15A\", \"#19d3f3\", \"#FF6692\", \"#B6E880\", \"#FF97FF\", \"#FECB52\"], \"font\": {\"color\": \"#2a3f5f\"}, \"geo\": {\"bgcolor\": \"white\", \"lakecolor\": \"white\", \"landcolor\": \"#E5ECF6\", \"showlakes\": true, \"showland\": true, \"subunitcolor\": \"white\"}, \"hoverlabel\": {\"align\": \"left\"}, \"hovermode\": \"closest\", \"mapbox\": {\"style\": \"light\"}, \"paper_bgcolor\": \"white\", \"plot_bgcolor\": \"#E5ECF6\", \"polar\": {\"angularaxis\": {\"gridcolor\": \"white\", \"linecolor\": \"white\", \"ticks\": \"\"}, \"bgcolor\": \"#E5ECF6\", \"radialaxis\": {\"gridcolor\": \"white\", \"linecolor\": \"white\", \"ticks\": \"\"}}, \"scene\": {\"xaxis\": {\"backgroundcolor\": \"#E5ECF6\", \"gridcolor\": \"white\", \"gridwidth\": 2, \"linecolor\": \"white\", \"showbackground\": true, \"ticks\": \"\", \"zerolinecolor\": \"white\"}, \"yaxis\": {\"backgroundcolor\": \"#E5ECF6\", \"gridcolor\": \"white\", \"gridwidth\": 2, \"linecolor\": \"white\", \"showbackground\": true, \"ticks\": \"\", \"zerolinecolor\": \"white\"}, \"zaxis\": {\"backgroundcolor\": \"#E5ECF6\", \"gridcolor\": \"white\", \"gridwidth\": 2, \"linecolor\": \"white\", \"showbackground\": true, \"ticks\": \"\", \"zerolinecolor\": \"white\"}}, \"shapedefaults\": {\"line\": {\"color\": \"#2a3f5f\"}}, \"ternary\": {\"aaxis\": {\"gridcolor\": \"white\", \"linecolor\": \"white\", \"ticks\": \"\"}, \"baxis\": {\"gridcolor\": \"white\", \"linecolor\": \"white\", \"ticks\": \"\"}, \"bgcolor\": \"#E5ECF6\", \"caxis\": {\"gridcolor\": \"white\", \"linecolor\": \"white\", \"ticks\": \"\"}}, \"title\": {\"x\": 0.05}, \"xaxis\": {\"automargin\": true, \"gridcolor\": \"white\", \"linecolor\": \"white\", \"ticks\": \"\", \"title\": {\"standoff\": 15}, \"zerolinecolor\": \"white\", \"zerolinewidth\": 2}, \"yaxis\": {\"automargin\": true, \"gridcolor\": \"white\", \"linecolor\": \"white\", \"ticks\": \"\", \"title\": {\"standoff\": 15}, \"zerolinecolor\": \"white\", \"zerolinewidth\": 2}}}},                        {\"responsive\": true}                    ).then(function(){\n",
       "                            \n",
       "var gd = document.getElementById('0b2e1516-f391-49c6-8672-b32e4d433a4d');\n",
       "var x = new MutationObserver(function (mutations, observer) {{\n",
       "        var display = window.getComputedStyle(gd).display;\n",
       "        if (!display || display === 'none') {{\n",
       "            console.log([gd, 'removed!']);\n",
       "            Plotly.purge(gd);\n",
       "            observer.disconnect();\n",
       "        }}\n",
       "}});\n",
       "\n",
       "// Listen for the removal of the full notebook cells\n",
       "var notebookContainer = gd.closest('#notebook-container');\n",
       "if (notebookContainer) {{\n",
       "    x.observe(notebookContainer, {childList: true});\n",
       "}}\n",
       "\n",
       "// Listen for the clearing of the current output cell\n",
       "var outputEl = gd.closest('.output');\n",
       "if (outputEl) {{\n",
       "    x.observe(outputEl, {childList: true});\n",
       "}}\n",
       "\n",
       "                        })                };                });            </script>        </div>"
      ]
     },
     "metadata": {},
     "output_type": "display_data"
    }
   ],
   "source": [
    "\"\"\"\n",
    "Figure 4 : TreeMap hiérachique\n",
    "\"\"\"\n",
    "dfex = px.data.tips()\n",
    "df2 = getDFTreeMapTaxo(df)\n",
    "fig = px.treemap(df2, path=['Regne', 'Phylum', 'Classe','Ordre', 'Famille', 'Genre'], \n",
    "                 values='toilet_seat_1')\n",
    "fig.show()\n",
    "#pt.io.write_image(fig, 'plots/treeMap.pdf', format='pdf', engine='kaleido')\n",
    "fig.write_image(\"plots/treeMapToiletSeat1.pdf\", engine=\"kaleido\")\n",
    "fig.write_html(\"plots/treeMapToiletSeat1.html\")\n"
   ]
  },
  {
   "cell_type": "code",
   "execution_count": 47,
   "metadata": {},
   "outputs": [
    {
     "data": {
      "text/html": [
       "<div>\n",
       "<style scoped>\n",
       "    .dataframe tbody tr th:only-of-type {\n",
       "        vertical-align: middle;\n",
       "    }\n",
       "\n",
       "    .dataframe tbody tr th {\n",
       "        vertical-align: top;\n",
       "    }\n",
       "\n",
       "    .dataframe thead th {\n",
       "        text-align: right;\n",
       "    }\n",
       "</style>\n",
       "<table border=\"1\" class=\"dataframe\">\n",
       "  <thead>\n",
       "    <tr style=\"text-align: right;\">\n",
       "      <th>Taxo</th>\n",
       "      <th>Propionibacteriaceae(100)</th>\n",
       "      <th>Corynebacteriaceae(100)</th>\n",
       "      <th>Micrococcaceae(99)</th>\n",
       "      <th>Micrococcaceae(100)</th>\n",
       "      <th>Geodermatophilaceae(100)</th>\n",
       "      <th>unclassified(100)</th>\n",
       "      <th>Intrasporangiaceae(100)</th>\n",
       "      <th>Mycobacteriaceae(99)</th>\n",
       "      <th>Nocardioidaceae(100)</th>\n",
       "      <th>Nocardiaceae(100)</th>\n",
       "      <th>...</th>\n",
       "      <th>unclassified(80)</th>\n",
       "      <th>Verrucomicrobiaceae(100)</th>\n",
       "      <th>unclassified(100)</th>\n",
       "      <th>Opitutaceae(100)</th>\n",
       "      <th>Planctomycetaceae(100)</th>\n",
       "      <th>Spirochaetaceae(100)</th>\n",
       "      <th>Gemmatimonadaceae(100)</th>\n",
       "      <th>Synergistaceae(100)</th>\n",
       "      <th>unclassified(100)</th>\n",
       "      <th>unclassified(100)</th>\n",
       "    </tr>\n",
       "  </thead>\n",
       "  <tbody>\n",
       "    <tr>\n",
       "      <th>door_in_1</th>\n",
       "      <td>1398</td>\n",
       "      <td>86</td>\n",
       "      <td>6</td>\n",
       "      <td>49</td>\n",
       "      <td>0</td>\n",
       "      <td>41</td>\n",
       "      <td>0</td>\n",
       "      <td>5</td>\n",
       "      <td>1</td>\n",
       "      <td>4</td>\n",
       "      <td>...</td>\n",
       "      <td>0</td>\n",
       "      <td>0</td>\n",
       "      <td>0</td>\n",
       "      <td>0</td>\n",
       "      <td>0</td>\n",
       "      <td>0</td>\n",
       "      <td>0</td>\n",
       "      <td>0</td>\n",
       "      <td>0</td>\n",
       "      <td>0</td>\n",
       "    </tr>\n",
       "    <tr>\n",
       "      <th>door_in_2</th>\n",
       "      <td>1055</td>\n",
       "      <td>155</td>\n",
       "      <td>27</td>\n",
       "      <td>91</td>\n",
       "      <td>0</td>\n",
       "      <td>67</td>\n",
       "      <td>6</td>\n",
       "      <td>0</td>\n",
       "      <td>0</td>\n",
       "      <td>0</td>\n",
       "      <td>...</td>\n",
       "      <td>0</td>\n",
       "      <td>0</td>\n",
       "      <td>0</td>\n",
       "      <td>0</td>\n",
       "      <td>0</td>\n",
       "      <td>0</td>\n",
       "      <td>0</td>\n",
       "      <td>0</td>\n",
       "      <td>0</td>\n",
       "      <td>0</td>\n",
       "    </tr>\n",
       "    <tr>\n",
       "      <th>faucet_handle_1</th>\n",
       "      <td>338</td>\n",
       "      <td>19</td>\n",
       "      <td>5</td>\n",
       "      <td>35</td>\n",
       "      <td>0</td>\n",
       "      <td>6</td>\n",
       "      <td>4</td>\n",
       "      <td>0</td>\n",
       "      <td>2</td>\n",
       "      <td>2</td>\n",
       "      <td>...</td>\n",
       "      <td>0</td>\n",
       "      <td>0</td>\n",
       "      <td>0</td>\n",
       "      <td>0</td>\n",
       "      <td>0</td>\n",
       "      <td>0</td>\n",
       "      <td>1</td>\n",
       "      <td>0</td>\n",
       "      <td>0</td>\n",
       "      <td>0</td>\n",
       "    </tr>\n",
       "    <tr>\n",
       "      <th>faucet_handle_2</th>\n",
       "      <td>597</td>\n",
       "      <td>1470</td>\n",
       "      <td>6</td>\n",
       "      <td>19</td>\n",
       "      <td>2</td>\n",
       "      <td>41</td>\n",
       "      <td>4</td>\n",
       "      <td>0</td>\n",
       "      <td>1</td>\n",
       "      <td>0</td>\n",
       "      <td>...</td>\n",
       "      <td>0</td>\n",
       "      <td>0</td>\n",
       "      <td>0</td>\n",
       "      <td>0</td>\n",
       "      <td>0</td>\n",
       "      <td>0</td>\n",
       "      <td>0</td>\n",
       "      <td>0</td>\n",
       "      <td>0</td>\n",
       "      <td>0</td>\n",
       "    </tr>\n",
       "    <tr>\n",
       "      <th>sink_floor_1</th>\n",
       "      <td>202</td>\n",
       "      <td>34</td>\n",
       "      <td>452</td>\n",
       "      <td>111</td>\n",
       "      <td>109</td>\n",
       "      <td>198</td>\n",
       "      <td>44</td>\n",
       "      <td>0</td>\n",
       "      <td>46</td>\n",
       "      <td>7</td>\n",
       "      <td>...</td>\n",
       "      <td>0</td>\n",
       "      <td>0</td>\n",
       "      <td>0</td>\n",
       "      <td>0</td>\n",
       "      <td>1</td>\n",
       "      <td>0</td>\n",
       "      <td>3</td>\n",
       "      <td>0</td>\n",
       "      <td>2</td>\n",
       "      <td>0</td>\n",
       "    </tr>\n",
       "    <tr>\n",
       "      <th>sink_floor_2</th>\n",
       "      <td>143</td>\n",
       "      <td>41</td>\n",
       "      <td>275</td>\n",
       "      <td>111</td>\n",
       "      <td>54</td>\n",
       "      <td>142</td>\n",
       "      <td>20</td>\n",
       "      <td>0</td>\n",
       "      <td>55</td>\n",
       "      <td>3</td>\n",
       "      <td>...</td>\n",
       "      <td>0</td>\n",
       "      <td>1</td>\n",
       "      <td>0</td>\n",
       "      <td>0</td>\n",
       "      <td>1</td>\n",
       "      <td>0</td>\n",
       "      <td>1</td>\n",
       "      <td>0</td>\n",
       "      <td>0</td>\n",
       "      <td>0</td>\n",
       "    </tr>\n",
       "    <tr>\n",
       "      <th>soap_dispenser_1</th>\n",
       "      <td>1159</td>\n",
       "      <td>160</td>\n",
       "      <td>63</td>\n",
       "      <td>22</td>\n",
       "      <td>22</td>\n",
       "      <td>64</td>\n",
       "      <td>1</td>\n",
       "      <td>0</td>\n",
       "      <td>15</td>\n",
       "      <td>0</td>\n",
       "      <td>...</td>\n",
       "      <td>0</td>\n",
       "      <td>0</td>\n",
       "      <td>0</td>\n",
       "      <td>0</td>\n",
       "      <td>3</td>\n",
       "      <td>0</td>\n",
       "      <td>0</td>\n",
       "      <td>0</td>\n",
       "      <td>0</td>\n",
       "      <td>0</td>\n",
       "    </tr>\n",
       "    <tr>\n",
       "      <th>stall_in_1</th>\n",
       "      <td>630</td>\n",
       "      <td>131</td>\n",
       "      <td>0</td>\n",
       "      <td>135</td>\n",
       "      <td>9</td>\n",
       "      <td>25</td>\n",
       "      <td>0</td>\n",
       "      <td>0</td>\n",
       "      <td>0</td>\n",
       "      <td>0</td>\n",
       "      <td>...</td>\n",
       "      <td>0</td>\n",
       "      <td>0</td>\n",
       "      <td>0</td>\n",
       "      <td>0</td>\n",
       "      <td>0</td>\n",
       "      <td>0</td>\n",
       "      <td>0</td>\n",
       "      <td>0</td>\n",
       "      <td>0</td>\n",
       "      <td>0</td>\n",
       "    </tr>\n",
       "    <tr>\n",
       "      <th>toilet_floor_1</th>\n",
       "      <td>151</td>\n",
       "      <td>23</td>\n",
       "      <td>236</td>\n",
       "      <td>92</td>\n",
       "      <td>92</td>\n",
       "      <td>183</td>\n",
       "      <td>51</td>\n",
       "      <td>0</td>\n",
       "      <td>82</td>\n",
       "      <td>18</td>\n",
       "      <td>...</td>\n",
       "      <td>0</td>\n",
       "      <td>1</td>\n",
       "      <td>0</td>\n",
       "      <td>0</td>\n",
       "      <td>2</td>\n",
       "      <td>6</td>\n",
       "      <td>0</td>\n",
       "      <td>0</td>\n",
       "      <td>0</td>\n",
       "      <td>0</td>\n",
       "    </tr>\n",
       "    <tr>\n",
       "      <th>toilet_floor_2</th>\n",
       "      <td>171</td>\n",
       "      <td>86</td>\n",
       "      <td>251</td>\n",
       "      <td>76</td>\n",
       "      <td>45</td>\n",
       "      <td>141</td>\n",
       "      <td>42</td>\n",
       "      <td>0</td>\n",
       "      <td>32</td>\n",
       "      <td>3</td>\n",
       "      <td>...</td>\n",
       "      <td>1</td>\n",
       "      <td>0</td>\n",
       "      <td>1</td>\n",
       "      <td>0</td>\n",
       "      <td>1</td>\n",
       "      <td>0</td>\n",
       "      <td>1</td>\n",
       "      <td>0</td>\n",
       "      <td>0</td>\n",
       "      <td>1</td>\n",
       "    </tr>\n",
       "    <tr>\n",
       "      <th>toilet_flush_handle_1</th>\n",
       "      <td>63</td>\n",
       "      <td>4</td>\n",
       "      <td>9</td>\n",
       "      <td>4</td>\n",
       "      <td>2</td>\n",
       "      <td>144</td>\n",
       "      <td>326</td>\n",
       "      <td>0</td>\n",
       "      <td>135</td>\n",
       "      <td>30</td>\n",
       "      <td>...</td>\n",
       "      <td>4</td>\n",
       "      <td>13</td>\n",
       "      <td>1</td>\n",
       "      <td>2</td>\n",
       "      <td>0</td>\n",
       "      <td>0</td>\n",
       "      <td>2</td>\n",
       "      <td>0</td>\n",
       "      <td>0</td>\n",
       "      <td>4</td>\n",
       "    </tr>\n",
       "    <tr>\n",
       "      <th>toilet_flush_handle_2</th>\n",
       "      <td>355</td>\n",
       "      <td>794</td>\n",
       "      <td>51</td>\n",
       "      <td>21</td>\n",
       "      <td>11</td>\n",
       "      <td>33</td>\n",
       "      <td>0</td>\n",
       "      <td>55</td>\n",
       "      <td>3</td>\n",
       "      <td>11</td>\n",
       "      <td>...</td>\n",
       "      <td>0</td>\n",
       "      <td>0</td>\n",
       "      <td>0</td>\n",
       "      <td>0</td>\n",
       "      <td>0</td>\n",
       "      <td>0</td>\n",
       "      <td>0</td>\n",
       "      <td>0</td>\n",
       "      <td>0</td>\n",
       "      <td>0</td>\n",
       "    </tr>\n",
       "    <tr>\n",
       "      <th>toilet_seat_1</th>\n",
       "      <td>83</td>\n",
       "      <td>234</td>\n",
       "      <td>5</td>\n",
       "      <td>240</td>\n",
       "      <td>4</td>\n",
       "      <td>25</td>\n",
       "      <td>4</td>\n",
       "      <td>2</td>\n",
       "      <td>12</td>\n",
       "      <td>4</td>\n",
       "      <td>...</td>\n",
       "      <td>0</td>\n",
       "      <td>0</td>\n",
       "      <td>0</td>\n",
       "      <td>0</td>\n",
       "      <td>0</td>\n",
       "      <td>0</td>\n",
       "      <td>0</td>\n",
       "      <td>2</td>\n",
       "      <td>0</td>\n",
       "      <td>0</td>\n",
       "    </tr>\n",
       "    <tr>\n",
       "      <th>toilet_seat_2</th>\n",
       "      <td>212</td>\n",
       "      <td>1664</td>\n",
       "      <td>3</td>\n",
       "      <td>13</td>\n",
       "      <td>4</td>\n",
       "      <td>20</td>\n",
       "      <td>4</td>\n",
       "      <td>0</td>\n",
       "      <td>3</td>\n",
       "      <td>0</td>\n",
       "      <td>...</td>\n",
       "      <td>0</td>\n",
       "      <td>0</td>\n",
       "      <td>0</td>\n",
       "      <td>0</td>\n",
       "      <td>0</td>\n",
       "      <td>0</td>\n",
       "      <td>0</td>\n",
       "      <td>0</td>\n",
       "      <td>0</td>\n",
       "      <td>0</td>\n",
       "    </tr>\n",
       "  </tbody>\n",
       "</table>\n",
       "<p>14 rows × 233 columns</p>\n",
       "</div>"
      ],
      "text/plain": [
       "Taxo                  Propionibacteriaceae(100) Corynebacteriaceae(100)  \\\n",
       "door_in_1                                  1398                      86   \n",
       "door_in_2                                  1055                     155   \n",
       "faucet_handle_1                             338                      19   \n",
       "faucet_handle_2                             597                    1470   \n",
       "sink_floor_1                                202                      34   \n",
       "sink_floor_2                                143                      41   \n",
       "soap_dispenser_1                           1159                     160   \n",
       "stall_in_1                                  630                     131   \n",
       "toilet_floor_1                              151                      23   \n",
       "toilet_floor_2                              171                      86   \n",
       "toilet_flush_handle_1                        63                       4   \n",
       "toilet_flush_handle_2                       355                     794   \n",
       "toilet_seat_1                                83                     234   \n",
       "toilet_seat_2                               212                    1664   \n",
       "\n",
       "Taxo                  Micrococcaceae(99) Micrococcaceae(100)  \\\n",
       "door_in_1                              6                  49   \n",
       "door_in_2                             27                  91   \n",
       "faucet_handle_1                        5                  35   \n",
       "faucet_handle_2                        6                  19   \n",
       "sink_floor_1                         452                 111   \n",
       "sink_floor_2                         275                 111   \n",
       "soap_dispenser_1                      63                  22   \n",
       "stall_in_1                             0                 135   \n",
       "toilet_floor_1                       236                  92   \n",
       "toilet_floor_2                       251                  76   \n",
       "toilet_flush_handle_1                  9                   4   \n",
       "toilet_flush_handle_2                 51                  21   \n",
       "toilet_seat_1                          5                 240   \n",
       "toilet_seat_2                          3                  13   \n",
       "\n",
       "Taxo                  Geodermatophilaceae(100) unclassified(100)  \\\n",
       "door_in_1                                    0                41   \n",
       "door_in_2                                    0                67   \n",
       "faucet_handle_1                              0                 6   \n",
       "faucet_handle_2                              2                41   \n",
       "sink_floor_1                               109               198   \n",
       "sink_floor_2                                54               142   \n",
       "soap_dispenser_1                            22                64   \n",
       "stall_in_1                                   9                25   \n",
       "toilet_floor_1                              92               183   \n",
       "toilet_floor_2                              45               141   \n",
       "toilet_flush_handle_1                        2               144   \n",
       "toilet_flush_handle_2                       11                33   \n",
       "toilet_seat_1                                4                25   \n",
       "toilet_seat_2                                4                20   \n",
       "\n",
       "Taxo                  Intrasporangiaceae(100) Mycobacteriaceae(99)  \\\n",
       "door_in_1                                   0                    5   \n",
       "door_in_2                                   6                    0   \n",
       "faucet_handle_1                             4                    0   \n",
       "faucet_handle_2                             4                    0   \n",
       "sink_floor_1                               44                    0   \n",
       "sink_floor_2                               20                    0   \n",
       "soap_dispenser_1                            1                    0   \n",
       "stall_in_1                                  0                    0   \n",
       "toilet_floor_1                             51                    0   \n",
       "toilet_floor_2                             42                    0   \n",
       "toilet_flush_handle_1                     326                    0   \n",
       "toilet_flush_handle_2                       0                   55   \n",
       "toilet_seat_1                               4                    2   \n",
       "toilet_seat_2                               4                    0   \n",
       "\n",
       "Taxo                  Nocardioidaceae(100) Nocardiaceae(100)  ...  \\\n",
       "door_in_1                                1                 4  ...   \n",
       "door_in_2                                0                 0  ...   \n",
       "faucet_handle_1                          2                 2  ...   \n",
       "faucet_handle_2                          1                 0  ...   \n",
       "sink_floor_1                            46                 7  ...   \n",
       "sink_floor_2                            55                 3  ...   \n",
       "soap_dispenser_1                        15                 0  ...   \n",
       "stall_in_1                               0                 0  ...   \n",
       "toilet_floor_1                          82                18  ...   \n",
       "toilet_floor_2                          32                 3  ...   \n",
       "toilet_flush_handle_1                  135                30  ...   \n",
       "toilet_flush_handle_2                    3                11  ...   \n",
       "toilet_seat_1                           12                 4  ...   \n",
       "toilet_seat_2                            3                 0  ...   \n",
       "\n",
       "Taxo                  unclassified(80) Verrucomicrobiaceae(100)  \\\n",
       "door_in_1                            0                        0   \n",
       "door_in_2                            0                        0   \n",
       "faucet_handle_1                      0                        0   \n",
       "faucet_handle_2                      0                        0   \n",
       "sink_floor_1                         0                        0   \n",
       "sink_floor_2                         0                        1   \n",
       "soap_dispenser_1                     0                        0   \n",
       "stall_in_1                           0                        0   \n",
       "toilet_floor_1                       0                        1   \n",
       "toilet_floor_2                       1                        0   \n",
       "toilet_flush_handle_1                4                       13   \n",
       "toilet_flush_handle_2                0                        0   \n",
       "toilet_seat_1                        0                        0   \n",
       "toilet_seat_2                        0                        0   \n",
       "\n",
       "Taxo                  unclassified(100) Opitutaceae(100)  \\\n",
       "door_in_1                             0                0   \n",
       "door_in_2                             0                0   \n",
       "faucet_handle_1                       0                0   \n",
       "faucet_handle_2                       0                0   \n",
       "sink_floor_1                          0                0   \n",
       "sink_floor_2                          0                0   \n",
       "soap_dispenser_1                      0                0   \n",
       "stall_in_1                            0                0   \n",
       "toilet_floor_1                        0                0   \n",
       "toilet_floor_2                        1                0   \n",
       "toilet_flush_handle_1                 1                2   \n",
       "toilet_flush_handle_2                 0                0   \n",
       "toilet_seat_1                         0                0   \n",
       "toilet_seat_2                         0                0   \n",
       "\n",
       "Taxo                  Planctomycetaceae(100) Spirochaetaceae(100)  \\\n",
       "door_in_1                                  0                    0   \n",
       "door_in_2                                  0                    0   \n",
       "faucet_handle_1                            0                    0   \n",
       "faucet_handle_2                            0                    0   \n",
       "sink_floor_1                               1                    0   \n",
       "sink_floor_2                               1                    0   \n",
       "soap_dispenser_1                           3                    0   \n",
       "stall_in_1                                 0                    0   \n",
       "toilet_floor_1                             2                    6   \n",
       "toilet_floor_2                             1                    0   \n",
       "toilet_flush_handle_1                      0                    0   \n",
       "toilet_flush_handle_2                      0                    0   \n",
       "toilet_seat_1                              0                    0   \n",
       "toilet_seat_2                              0                    0   \n",
       "\n",
       "Taxo                  Gemmatimonadaceae(100) Synergistaceae(100)  \\\n",
       "door_in_1                                  0                   0   \n",
       "door_in_2                                  0                   0   \n",
       "faucet_handle_1                            1                   0   \n",
       "faucet_handle_2                            0                   0   \n",
       "sink_floor_1                               3                   0   \n",
       "sink_floor_2                               1                   0   \n",
       "soap_dispenser_1                           0                   0   \n",
       "stall_in_1                                 0                   0   \n",
       "toilet_floor_1                             0                   0   \n",
       "toilet_floor_2                             1                   0   \n",
       "toilet_flush_handle_1                      2                   0   \n",
       "toilet_flush_handle_2                      0                   0   \n",
       "toilet_seat_1                              0                   2   \n",
       "toilet_seat_2                              0                   0   \n",
       "\n",
       "Taxo                  unclassified(100) unclassified(100)  \n",
       "door_in_1                             0                 0  \n",
       "door_in_2                             0                 0  \n",
       "faucet_handle_1                       0                 0  \n",
       "faucet_handle_2                       0                 0  \n",
       "sink_floor_1                          2                 0  \n",
       "sink_floor_2                          0                 0  \n",
       "soap_dispenser_1                      0                 0  \n",
       "stall_in_1                            0                 0  \n",
       "toilet_floor_1                        0                 0  \n",
       "toilet_floor_2                        0                 1  \n",
       "toilet_flush_handle_1                 0                 4  \n",
       "toilet_flush_handle_2                 0                 0  \n",
       "toilet_seat_1                         0                 0  \n",
       "toilet_seat_2                         0                 0  \n",
       "\n",
       "[14 rows x 233 columns]"
      ]
     },
     "execution_count": 47,
     "metadata": {},
     "output_type": "execute_result"
    }
   ],
   "source": [
    "\"\"\"\n",
    "Figure 5 : ACP\n",
    "\"\"\"\n",
    "\n",
    "\"\"\" \n",
    "récuperation de données pour ACP\n",
    "calculé utilisant niveau famille\n",
    "\"\"\"\n",
    "#Creéation DF avec seulement les noms des famille: (dfTaxo)\n",
    "#Recupère les donnéer et format en Df\n",
    "dicoTaxoTest = getDicoTaxo(df)\n",
    "dfEntier= getDF(dicoTaxoTest)\n",
    "dfTaxo = getDFFonctionTaxo(dfEntier, \"famille\")\n",
    "listeColonneSuprimerPourTaxo = [\"Nvx_taxo\",\"Parent\"]\n",
    "dfTaxoFilter = getDFLoc(dfTaxo,listeColonneSuprimerPourTaxo )\n",
    "\n",
    "# Prepare numpy arrays:\n",
    "bacternames = dfTaxoFilter['Taxo'] #this column has microbes names\n",
    "dfTaxo_tr = dfTaxoFilter.T # transpose, rows will be locations, columns the microbes\n",
    "dfTaxo_tr.columns = bacternames\n",
    "dfTaxo_tr.drop(index='Taxo', inplace=True)\n",
    "dfTaxo_tr\n",
    "# message about 'copy of a slice from a DataFrame': just ignore it\n"
   ]
  },
  {
   "cell_type": "code",
   "execution_count": 56,
   "metadata": {},
   "outputs": [
    {
     "data": {
      "application/vnd.plotly.v1+json": {
       "config": {
        "plotlyServerURL": "https://plot.ly"
       },
       "data": [
        {
         "hovertemplate": "color=A.doorIn<br>PC 2=%{x}<br>PC 1=%{y}<extra></extra>",
         "legendgroup": "A.doorIn",
         "marker": {
          "color": "rgb(0.89632, 0.893616, 0.096335)",
          "line": {
           "color": "DarkSlateGrey",
           "width": 0.5
          },
          "size": 15,
          "symbol": "circle"
         },
         "mode": "markers",
         "name": "A.doorIn",
         "orientation": "v",
         "showlegend": true,
         "type": "scatter",
         "x": [
          996.4292520445692,
          697.0097366928292
         ],
         "xaxis": "x",
         "y": [
          257.0244346209483,
          224.06078549080036
         ],
         "yaxis": "y"
        },
        {
         "hovertemplate": "color=B.faucetHandle<br>PC 2=%{x}<br>PC 1=%{y}<extra></extra>",
         "legendgroup": "B.faucetHandle",
         "marker": {
          "color": "rgb(0.79376, 0.880678, 0.120005)",
          "line": {
           "color": "DarkSlateGrey",
           "width": 0.5
          },
          "size": 15,
          "symbol": "circle"
         },
         "mode": "markers",
         "name": "B.faucetHandle",
         "orientation": "v",
         "showlegend": true,
         "type": "scatter",
         "x": [
          -396.84194126662936,
          -337.8798722856623
         ],
         "xaxis": "x",
         "y": [
          -1110.9091811553071,
          1103.340119333149
         ],
         "yaxis": "y"
        },
        {
         "hovertemplate": "color=F.sinkFloor<br>PC 2=%{x}<br>PC 1=%{y}<extra></extra>",
         "legendgroup": "F.sinkFloor",
         "marker": {
          "color": "rgb(0.135066, 0.544853, 0.554029)",
          "line": {
           "color": "DarkSlateGrey",
           "width": 0.5
          },
          "size": 15,
          "symbol": "circle"
         },
         "mode": "markers",
         "name": "F.sinkFloor",
         "orientation": "v",
         "showlegend": true,
         "type": "scatter",
         "x": [
          -119.3478890947012,
          -256.6304625686388
         ],
         "xaxis": "x",
         "y": [
          -475.4920211527051,
          -639.2099671243793
         ],
         "yaxis": "y"
        },
        {
         "hovertemplate": "color=C.soapDispenser<br>PC 2=%{x}<br>PC 1=%{y}<extra></extra>",
         "legendgroup": "C.soapDispenser",
         "marker": {
          "color": "rgb(0.111,0.1111,0.111)",
          "line": {
           "color": "DarkSlateGrey",
           "width": 0.5
          },
          "size": 15,
          "symbol": "circle"
         },
         "mode": "markers",
         "name": "C.soapDispenser",
         "orientation": "v",
         "showlegend": true,
         "type": "scatter",
         "x": [
          699.2873000027217
         ],
         "xaxis": "x",
         "y": [
          145.08654759674684
         ],
         "yaxis": "y"
        },
        {
         "hovertemplate": "color=D.stallIn<br>PC 2=%{x}<br>PC 1=%{y}<extra></extra>",
         "legendgroup": "D.stallIn",
         "marker": {
          "color": "rgb(0.911111,0.911111,0.911111)",
          "line": {
           "color": "DarkSlateGrey",
           "width": 0.5
          },
          "size": 15,
          "symbol": "circle"
         },
         "mode": "markers",
         "name": "D.stallIn",
         "orientation": "v",
         "showlegend": true,
         "type": "scatter",
         "x": [
          384.47585126062194
         ],
         "xaxis": "x",
         "y": [
          114.49671077451974
         ],
         "yaxis": "y"
        },
        {
         "hovertemplate": "color=G.toiletFloor<br>PC 2=%{x}<br>PC 1=%{y}<extra></extra>",
         "legendgroup": "G.toiletFloor",
         "marker": {
          "color": "rgb(0.179019, 0.433756, 0.55743)",
          "line": {
           "color": "DarkSlateGrey",
           "width": 0.5
          },
          "size": 15,
          "symbol": "circle"
         },
         "mode": "markers",
         "name": "G.toiletFloor",
         "orientation": "v",
         "showlegend": true,
         "type": "scatter",
         "x": [
          -140.76340808890293,
          -308.20260839058994
         ],
         "xaxis": "x",
         "y": [
          -473.53202920164506,
          -675.7990971721501
         ],
         "yaxis": "y"
        },
        {
         "hovertemplate": "color=E.toiletFlushHand<br>PC 2=%{x}<br>PC 1=%{y}<extra></extra>",
         "legendgroup": "E.toiletFlushHand",
         "marker": {
          "color": "rgb(0.477504, 0.821444, 0.318195)",
          "line": {
           "color": "DarkSlateGrey",
           "width": 0.5
          },
          "size": 15,
          "symbol": "circle"
         },
         "mode": "markers",
         "name": "E.toiletFlushHand",
         "orientation": "v",
         "showlegend": true,
         "type": "scatter",
         "x": [
          11.940607527194784,
          -218.11237134770212
         ],
         "xaxis": "x",
         "y": [
          -141.21390839693328,
          528.5470034457367
         ],
         "yaxis": "y"
        },
        {
         "hovertemplate": "color=H.toiletSeat<br>PC 2=%{x}<br>PC 1=%{y}<extra></extra>",
         "legendgroup": "H.toiletSeat",
         "marker": {
          "color": "rgb(72,40,120)",
          "line": {
           "color": "DarkSlateGrey",
           "width": 0.5
          },
          "size": 15,
          "symbol": "circle"
         },
         "mode": "markers",
         "name": "H.toiletSeat",
         "orientation": "v",
         "showlegend": true,
         "type": "scatter",
         "x": [
          -191.63973413271083,
          -819.7244603523992
         ],
         "xaxis": "x",
         "y": [
          -106.89495762753195,
          1250.495560568754
         ],
         "yaxis": "y"
        }
       ],
       "layout": {
        "legend": {
         "title": {
          "text": "color"
         },
         "tracegroupgap": 0
        },
        "template": {
         "data": {
          "bar": [
           {
            "error_x": {
             "color": "#2a3f5f"
            },
            "error_y": {
             "color": "#2a3f5f"
            },
            "marker": {
             "line": {
              "color": "#E5ECF6",
              "width": 0.5
             }
            },
            "type": "bar"
           }
          ],
          "barpolar": [
           {
            "marker": {
             "line": {
              "color": "#E5ECF6",
              "width": 0.5
             }
            },
            "type": "barpolar"
           }
          ],
          "carpet": [
           {
            "aaxis": {
             "endlinecolor": "#2a3f5f",
             "gridcolor": "white",
             "linecolor": "white",
             "minorgridcolor": "white",
             "startlinecolor": "#2a3f5f"
            },
            "baxis": {
             "endlinecolor": "#2a3f5f",
             "gridcolor": "white",
             "linecolor": "white",
             "minorgridcolor": "white",
             "startlinecolor": "#2a3f5f"
            },
            "type": "carpet"
           }
          ],
          "choropleth": [
           {
            "colorbar": {
             "outlinewidth": 0,
             "ticks": ""
            },
            "type": "choropleth"
           }
          ],
          "contour": [
           {
            "colorbar": {
             "outlinewidth": 0,
             "ticks": ""
            },
            "colorscale": [
             [
              0,
              "#0d0887"
             ],
             [
              0.1111111111111111,
              "#46039f"
             ],
             [
              0.2222222222222222,
              "#7201a8"
             ],
             [
              0.3333333333333333,
              "#9c179e"
             ],
             [
              0.4444444444444444,
              "#bd3786"
             ],
             [
              0.5555555555555556,
              "#d8576b"
             ],
             [
              0.6666666666666666,
              "#ed7953"
             ],
             [
              0.7777777777777778,
              "#fb9f3a"
             ],
             [
              0.8888888888888888,
              "#fdca26"
             ],
             [
              1,
              "#f0f921"
             ]
            ],
            "type": "contour"
           }
          ],
          "contourcarpet": [
           {
            "colorbar": {
             "outlinewidth": 0,
             "ticks": ""
            },
            "type": "contourcarpet"
           }
          ],
          "heatmap": [
           {
            "colorbar": {
             "outlinewidth": 0,
             "ticks": ""
            },
            "colorscale": [
             [
              0,
              "#0d0887"
             ],
             [
              0.1111111111111111,
              "#46039f"
             ],
             [
              0.2222222222222222,
              "#7201a8"
             ],
             [
              0.3333333333333333,
              "#9c179e"
             ],
             [
              0.4444444444444444,
              "#bd3786"
             ],
             [
              0.5555555555555556,
              "#d8576b"
             ],
             [
              0.6666666666666666,
              "#ed7953"
             ],
             [
              0.7777777777777778,
              "#fb9f3a"
             ],
             [
              0.8888888888888888,
              "#fdca26"
             ],
             [
              1,
              "#f0f921"
             ]
            ],
            "type": "heatmap"
           }
          ],
          "heatmapgl": [
           {
            "colorbar": {
             "outlinewidth": 0,
             "ticks": ""
            },
            "colorscale": [
             [
              0,
              "#0d0887"
             ],
             [
              0.1111111111111111,
              "#46039f"
             ],
             [
              0.2222222222222222,
              "#7201a8"
             ],
             [
              0.3333333333333333,
              "#9c179e"
             ],
             [
              0.4444444444444444,
              "#bd3786"
             ],
             [
              0.5555555555555556,
              "#d8576b"
             ],
             [
              0.6666666666666666,
              "#ed7953"
             ],
             [
              0.7777777777777778,
              "#fb9f3a"
             ],
             [
              0.8888888888888888,
              "#fdca26"
             ],
             [
              1,
              "#f0f921"
             ]
            ],
            "type": "heatmapgl"
           }
          ],
          "histogram": [
           {
            "marker": {
             "colorbar": {
              "outlinewidth": 0,
              "ticks": ""
             }
            },
            "type": "histogram"
           }
          ],
          "histogram2d": [
           {
            "colorbar": {
             "outlinewidth": 0,
             "ticks": ""
            },
            "colorscale": [
             [
              0,
              "#0d0887"
             ],
             [
              0.1111111111111111,
              "#46039f"
             ],
             [
              0.2222222222222222,
              "#7201a8"
             ],
             [
              0.3333333333333333,
              "#9c179e"
             ],
             [
              0.4444444444444444,
              "#bd3786"
             ],
             [
              0.5555555555555556,
              "#d8576b"
             ],
             [
              0.6666666666666666,
              "#ed7953"
             ],
             [
              0.7777777777777778,
              "#fb9f3a"
             ],
             [
              0.8888888888888888,
              "#fdca26"
             ],
             [
              1,
              "#f0f921"
             ]
            ],
            "type": "histogram2d"
           }
          ],
          "histogram2dcontour": [
           {
            "colorbar": {
             "outlinewidth": 0,
             "ticks": ""
            },
            "colorscale": [
             [
              0,
              "#0d0887"
             ],
             [
              0.1111111111111111,
              "#46039f"
             ],
             [
              0.2222222222222222,
              "#7201a8"
             ],
             [
              0.3333333333333333,
              "#9c179e"
             ],
             [
              0.4444444444444444,
              "#bd3786"
             ],
             [
              0.5555555555555556,
              "#d8576b"
             ],
             [
              0.6666666666666666,
              "#ed7953"
             ],
             [
              0.7777777777777778,
              "#fb9f3a"
             ],
             [
              0.8888888888888888,
              "#fdca26"
             ],
             [
              1,
              "#f0f921"
             ]
            ],
            "type": "histogram2dcontour"
           }
          ],
          "mesh3d": [
           {
            "colorbar": {
             "outlinewidth": 0,
             "ticks": ""
            },
            "type": "mesh3d"
           }
          ],
          "parcoords": [
           {
            "line": {
             "colorbar": {
              "outlinewidth": 0,
              "ticks": ""
             }
            },
            "type": "parcoords"
           }
          ],
          "pie": [
           {
            "automargin": true,
            "type": "pie"
           }
          ],
          "scatter": [
           {
            "marker": {
             "colorbar": {
              "outlinewidth": 0,
              "ticks": ""
             }
            },
            "type": "scatter"
           }
          ],
          "scatter3d": [
           {
            "line": {
             "colorbar": {
              "outlinewidth": 0,
              "ticks": ""
             }
            },
            "marker": {
             "colorbar": {
              "outlinewidth": 0,
              "ticks": ""
             }
            },
            "type": "scatter3d"
           }
          ],
          "scattercarpet": [
           {
            "marker": {
             "colorbar": {
              "outlinewidth": 0,
              "ticks": ""
             }
            },
            "type": "scattercarpet"
           }
          ],
          "scattergeo": [
           {
            "marker": {
             "colorbar": {
              "outlinewidth": 0,
              "ticks": ""
             }
            },
            "type": "scattergeo"
           }
          ],
          "scattergl": [
           {
            "marker": {
             "colorbar": {
              "outlinewidth": 0,
              "ticks": ""
             }
            },
            "type": "scattergl"
           }
          ],
          "scattermapbox": [
           {
            "marker": {
             "colorbar": {
              "outlinewidth": 0,
              "ticks": ""
             }
            },
            "type": "scattermapbox"
           }
          ],
          "scatterpolar": [
           {
            "marker": {
             "colorbar": {
              "outlinewidth": 0,
              "ticks": ""
             }
            },
            "type": "scatterpolar"
           }
          ],
          "scatterpolargl": [
           {
            "marker": {
             "colorbar": {
              "outlinewidth": 0,
              "ticks": ""
             }
            },
            "type": "scatterpolargl"
           }
          ],
          "scatterternary": [
           {
            "marker": {
             "colorbar": {
              "outlinewidth": 0,
              "ticks": ""
             }
            },
            "type": "scatterternary"
           }
          ],
          "surface": [
           {
            "colorbar": {
             "outlinewidth": 0,
             "ticks": ""
            },
            "colorscale": [
             [
              0,
              "#0d0887"
             ],
             [
              0.1111111111111111,
              "#46039f"
             ],
             [
              0.2222222222222222,
              "#7201a8"
             ],
             [
              0.3333333333333333,
              "#9c179e"
             ],
             [
              0.4444444444444444,
              "#bd3786"
             ],
             [
              0.5555555555555556,
              "#d8576b"
             ],
             [
              0.6666666666666666,
              "#ed7953"
             ],
             [
              0.7777777777777778,
              "#fb9f3a"
             ],
             [
              0.8888888888888888,
              "#fdca26"
             ],
             [
              1,
              "#f0f921"
             ]
            ],
            "type": "surface"
           }
          ],
          "table": [
           {
            "cells": {
             "fill": {
              "color": "#EBF0F8"
             },
             "line": {
              "color": "white"
             }
            },
            "header": {
             "fill": {
              "color": "#C8D4E3"
             },
             "line": {
              "color": "white"
             }
            },
            "type": "table"
           }
          ]
         },
         "layout": {
          "annotationdefaults": {
           "arrowcolor": "#2a3f5f",
           "arrowhead": 0,
           "arrowwidth": 1
          },
          "coloraxis": {
           "colorbar": {
            "outlinewidth": 0,
            "ticks": ""
           }
          },
          "colorscale": {
           "diverging": [
            [
             0,
             "#8e0152"
            ],
            [
             0.1,
             "#c51b7d"
            ],
            [
             0.2,
             "#de77ae"
            ],
            [
             0.3,
             "#f1b6da"
            ],
            [
             0.4,
             "#fde0ef"
            ],
            [
             0.5,
             "#f7f7f7"
            ],
            [
             0.6,
             "#e6f5d0"
            ],
            [
             0.7,
             "#b8e186"
            ],
            [
             0.8,
             "#7fbc41"
            ],
            [
             0.9,
             "#4d9221"
            ],
            [
             1,
             "#276419"
            ]
           ],
           "sequential": [
            [
             0,
             "#0d0887"
            ],
            [
             0.1111111111111111,
             "#46039f"
            ],
            [
             0.2222222222222222,
             "#7201a8"
            ],
            [
             0.3333333333333333,
             "#9c179e"
            ],
            [
             0.4444444444444444,
             "#bd3786"
            ],
            [
             0.5555555555555556,
             "#d8576b"
            ],
            [
             0.6666666666666666,
             "#ed7953"
            ],
            [
             0.7777777777777778,
             "#fb9f3a"
            ],
            [
             0.8888888888888888,
             "#fdca26"
            ],
            [
             1,
             "#f0f921"
            ]
           ],
           "sequentialminus": [
            [
             0,
             "#0d0887"
            ],
            [
             0.1111111111111111,
             "#46039f"
            ],
            [
             0.2222222222222222,
             "#7201a8"
            ],
            [
             0.3333333333333333,
             "#9c179e"
            ],
            [
             0.4444444444444444,
             "#bd3786"
            ],
            [
             0.5555555555555556,
             "#d8576b"
            ],
            [
             0.6666666666666666,
             "#ed7953"
            ],
            [
             0.7777777777777778,
             "#fb9f3a"
            ],
            [
             0.8888888888888888,
             "#fdca26"
            ],
            [
             1,
             "#f0f921"
            ]
           ]
          },
          "colorway": [
           "#636efa",
           "#EF553B",
           "#00cc96",
           "#ab63fa",
           "#FFA15A",
           "#19d3f3",
           "#FF6692",
           "#B6E880",
           "#FF97FF",
           "#FECB52"
          ],
          "font": {
           "color": "#2a3f5f"
          },
          "geo": {
           "bgcolor": "white",
           "lakecolor": "white",
           "landcolor": "#E5ECF6",
           "showlakes": true,
           "showland": true,
           "subunitcolor": "white"
          },
          "hoverlabel": {
           "align": "left"
          },
          "hovermode": "closest",
          "mapbox": {
           "style": "light"
          },
          "paper_bgcolor": "white",
          "plot_bgcolor": "#E5ECF6",
          "polar": {
           "angularaxis": {
            "gridcolor": "white",
            "linecolor": "white",
            "ticks": ""
           },
           "bgcolor": "#E5ECF6",
           "radialaxis": {
            "gridcolor": "white",
            "linecolor": "white",
            "ticks": ""
           }
          },
          "scene": {
           "xaxis": {
            "backgroundcolor": "#E5ECF6",
            "gridcolor": "white",
            "gridwidth": 2,
            "linecolor": "white",
            "showbackground": true,
            "ticks": "",
            "zerolinecolor": "white"
           },
           "yaxis": {
            "backgroundcolor": "#E5ECF6",
            "gridcolor": "white",
            "gridwidth": 2,
            "linecolor": "white",
            "showbackground": true,
            "ticks": "",
            "zerolinecolor": "white"
           },
           "zaxis": {
            "backgroundcolor": "#E5ECF6",
            "gridcolor": "white",
            "gridwidth": 2,
            "linecolor": "white",
            "showbackground": true,
            "ticks": "",
            "zerolinecolor": "white"
           }
          },
          "shapedefaults": {
           "line": {
            "color": "#2a3f5f"
           }
          },
          "ternary": {
           "aaxis": {
            "gridcolor": "white",
            "linecolor": "white",
            "ticks": ""
           },
           "baxis": {
            "gridcolor": "white",
            "linecolor": "white",
            "ticks": ""
           },
           "bgcolor": "#E5ECF6",
           "caxis": {
            "gridcolor": "white",
            "linecolor": "white",
            "ticks": ""
           }
          },
          "title": {
           "x": 0.05
          },
          "xaxis": {
           "automargin": true,
           "gridcolor": "white",
           "linecolor": "white",
           "ticks": "",
           "title": {
            "standoff": 15
           },
           "zerolinecolor": "white",
           "zerolinewidth": 2
          },
          "yaxis": {
           "automargin": true,
           "gridcolor": "white",
           "linecolor": "white",
           "ticks": "",
           "title": {
            "standoff": 15
           },
           "zerolinecolor": "white",
           "zerolinewidth": 2
          }
         }
        },
        "title": {
         "text": "Total Explained Variance: 76.55%"
        },
        "xaxis": {
         "anchor": "y",
         "domain": [
          0,
          1
         ],
         "title": {
          "text": "PC 2"
         }
        },
        "yaxis": {
         "anchor": "x",
         "domain": [
          0,
          1
         ],
         "title": {
          "text": "PC 1"
         }
        }
       }
      },
      "text/html": [
       "<div>                            <div id=\"aee22d8c-6f16-45d1-95f2-46c049eb5bc4\" class=\"plotly-graph-div\" style=\"height:525px; width:100%;\"></div>            <script type=\"text/javascript\">                require([\"plotly\"], function(Plotly) {                    window.PLOTLYENV=window.PLOTLYENV || {};                                    if (document.getElementById(\"aee22d8c-6f16-45d1-95f2-46c049eb5bc4\")) {                    Plotly.newPlot(                        \"aee22d8c-6f16-45d1-95f2-46c049eb5bc4\",                        [{\"hovertemplate\": \"color=A.doorIn<br>PC 2=%{x}<br>PC 1=%{y}<extra></extra>\", \"legendgroup\": \"A.doorIn\", \"marker\": {\"color\": \"rgb(0.89632, 0.893616, 0.096335)\", \"line\": {\"color\": \"DarkSlateGrey\", \"width\": 0.5}, \"size\": 15, \"symbol\": \"circle\"}, \"mode\": \"markers\", \"name\": \"A.doorIn\", \"orientation\": \"v\", \"showlegend\": true, \"type\": \"scatter\", \"x\": [996.4292520445692, 697.0097366928292], \"xaxis\": \"x\", \"y\": [257.0244346209483, 224.06078549080036], \"yaxis\": \"y\"}, {\"hovertemplate\": \"color=B.faucetHandle<br>PC 2=%{x}<br>PC 1=%{y}<extra></extra>\", \"legendgroup\": \"B.faucetHandle\", \"marker\": {\"color\": \"rgb(0.79376, 0.880678, 0.120005)\", \"line\": {\"color\": \"DarkSlateGrey\", \"width\": 0.5}, \"size\": 15, \"symbol\": \"circle\"}, \"mode\": \"markers\", \"name\": \"B.faucetHandle\", \"orientation\": \"v\", \"showlegend\": true, \"type\": \"scatter\", \"x\": [-396.84194126662936, -337.8798722856623], \"xaxis\": \"x\", \"y\": [-1110.9091811553071, 1103.340119333149], \"yaxis\": \"y\"}, {\"hovertemplate\": \"color=F.sinkFloor<br>PC 2=%{x}<br>PC 1=%{y}<extra></extra>\", \"legendgroup\": \"F.sinkFloor\", \"marker\": {\"color\": \"rgb(0.135066, 0.544853, 0.554029)\", \"line\": {\"color\": \"DarkSlateGrey\", \"width\": 0.5}, \"size\": 15, \"symbol\": \"circle\"}, \"mode\": \"markers\", \"name\": \"F.sinkFloor\", \"orientation\": \"v\", \"showlegend\": true, \"type\": \"scatter\", \"x\": [-119.3478890947012, -256.6304625686388], \"xaxis\": \"x\", \"y\": [-475.4920211527051, -639.2099671243793], \"yaxis\": \"y\"}, {\"hovertemplate\": \"color=C.soapDispenser<br>PC 2=%{x}<br>PC 1=%{y}<extra></extra>\", \"legendgroup\": \"C.soapDispenser\", \"marker\": {\"color\": \"rgb(0.111,0.1111,0.111)\", \"line\": {\"color\": \"DarkSlateGrey\", \"width\": 0.5}, \"size\": 15, \"symbol\": \"circle\"}, \"mode\": \"markers\", \"name\": \"C.soapDispenser\", \"orientation\": \"v\", \"showlegend\": true, \"type\": \"scatter\", \"x\": [699.2873000027217], \"xaxis\": \"x\", \"y\": [145.08654759674684], \"yaxis\": \"y\"}, {\"hovertemplate\": \"color=D.stallIn<br>PC 2=%{x}<br>PC 1=%{y}<extra></extra>\", \"legendgroup\": \"D.stallIn\", \"marker\": {\"color\": \"rgb(0.911111,0.911111,0.911111)\", \"line\": {\"color\": \"DarkSlateGrey\", \"width\": 0.5}, \"size\": 15, \"symbol\": \"circle\"}, \"mode\": \"markers\", \"name\": \"D.stallIn\", \"orientation\": \"v\", \"showlegend\": true, \"type\": \"scatter\", \"x\": [384.47585126062194], \"xaxis\": \"x\", \"y\": [114.49671077451974], \"yaxis\": \"y\"}, {\"hovertemplate\": \"color=G.toiletFloor<br>PC 2=%{x}<br>PC 1=%{y}<extra></extra>\", \"legendgroup\": \"G.toiletFloor\", \"marker\": {\"color\": \"rgb(0.179019, 0.433756, 0.55743)\", \"line\": {\"color\": \"DarkSlateGrey\", \"width\": 0.5}, \"size\": 15, \"symbol\": \"circle\"}, \"mode\": \"markers\", \"name\": \"G.toiletFloor\", \"orientation\": \"v\", \"showlegend\": true, \"type\": \"scatter\", \"x\": [-140.76340808890293, -308.20260839058994], \"xaxis\": \"x\", \"y\": [-473.53202920164506, -675.7990971721501], \"yaxis\": \"y\"}, {\"hovertemplate\": \"color=E.toiletFlushHand<br>PC 2=%{x}<br>PC 1=%{y}<extra></extra>\", \"legendgroup\": \"E.toiletFlushHand\", \"marker\": {\"color\": \"rgb(0.477504, 0.821444, 0.318195)\", \"line\": {\"color\": \"DarkSlateGrey\", \"width\": 0.5}, \"size\": 15, \"symbol\": \"circle\"}, \"mode\": \"markers\", \"name\": \"E.toiletFlushHand\", \"orientation\": \"v\", \"showlegend\": true, \"type\": \"scatter\", \"x\": [11.940607527194784, -218.11237134770212], \"xaxis\": \"x\", \"y\": [-141.21390839693328, 528.5470034457367], \"yaxis\": \"y\"}, {\"hovertemplate\": \"color=H.toiletSeat<br>PC 2=%{x}<br>PC 1=%{y}<extra></extra>\", \"legendgroup\": \"H.toiletSeat\", \"marker\": {\"color\": \"rgb(72,40,120)\", \"line\": {\"color\": \"DarkSlateGrey\", \"width\": 0.5}, \"size\": 15, \"symbol\": \"circle\"}, \"mode\": \"markers\", \"name\": \"H.toiletSeat\", \"orientation\": \"v\", \"showlegend\": true, \"type\": \"scatter\", \"x\": [-191.63973413271083, -819.7244603523992], \"xaxis\": \"x\", \"y\": [-106.89495762753195, 1250.495560568754], \"yaxis\": \"y\"}],                        {\"legend\": {\"title\": {\"text\": \"color\"}, \"tracegroupgap\": 0}, \"template\": {\"data\": {\"bar\": [{\"error_x\": {\"color\": \"#2a3f5f\"}, \"error_y\": {\"color\": \"#2a3f5f\"}, \"marker\": {\"line\": {\"color\": \"#E5ECF6\", \"width\": 0.5}}, \"type\": \"bar\"}], \"barpolar\": [{\"marker\": {\"line\": {\"color\": \"#E5ECF6\", \"width\": 0.5}}, \"type\": \"barpolar\"}], \"carpet\": [{\"aaxis\": {\"endlinecolor\": \"#2a3f5f\", \"gridcolor\": \"white\", \"linecolor\": \"white\", \"minorgridcolor\": \"white\", \"startlinecolor\": \"#2a3f5f\"}, \"baxis\": {\"endlinecolor\": \"#2a3f5f\", \"gridcolor\": \"white\", \"linecolor\": \"white\", \"minorgridcolor\": \"white\", \"startlinecolor\": \"#2a3f5f\"}, \"type\": \"carpet\"}], \"choropleth\": [{\"colorbar\": {\"outlinewidth\": 0, \"ticks\": \"\"}, \"type\": \"choropleth\"}], \"contour\": [{\"colorbar\": {\"outlinewidth\": 0, \"ticks\": \"\"}, \"colorscale\": [[0.0, \"#0d0887\"], [0.1111111111111111, \"#46039f\"], [0.2222222222222222, \"#7201a8\"], [0.3333333333333333, \"#9c179e\"], [0.4444444444444444, \"#bd3786\"], [0.5555555555555556, \"#d8576b\"], [0.6666666666666666, \"#ed7953\"], [0.7777777777777778, \"#fb9f3a\"], [0.8888888888888888, \"#fdca26\"], [1.0, \"#f0f921\"]], \"type\": \"contour\"}], \"contourcarpet\": [{\"colorbar\": {\"outlinewidth\": 0, \"ticks\": \"\"}, \"type\": \"contourcarpet\"}], \"heatmap\": [{\"colorbar\": {\"outlinewidth\": 0, \"ticks\": \"\"}, \"colorscale\": [[0.0, \"#0d0887\"], [0.1111111111111111, \"#46039f\"], [0.2222222222222222, \"#7201a8\"], [0.3333333333333333, \"#9c179e\"], [0.4444444444444444, \"#bd3786\"], [0.5555555555555556, \"#d8576b\"], [0.6666666666666666, \"#ed7953\"], [0.7777777777777778, \"#fb9f3a\"], [0.8888888888888888, \"#fdca26\"], [1.0, \"#f0f921\"]], \"type\": \"heatmap\"}], \"heatmapgl\": [{\"colorbar\": {\"outlinewidth\": 0, \"ticks\": \"\"}, \"colorscale\": [[0.0, \"#0d0887\"], [0.1111111111111111, \"#46039f\"], [0.2222222222222222, \"#7201a8\"], [0.3333333333333333, \"#9c179e\"], [0.4444444444444444, \"#bd3786\"], [0.5555555555555556, \"#d8576b\"], [0.6666666666666666, \"#ed7953\"], [0.7777777777777778, \"#fb9f3a\"], [0.8888888888888888, \"#fdca26\"], [1.0, \"#f0f921\"]], \"type\": \"heatmapgl\"}], \"histogram\": [{\"marker\": {\"colorbar\": {\"outlinewidth\": 0, \"ticks\": \"\"}}, \"type\": \"histogram\"}], \"histogram2d\": [{\"colorbar\": {\"outlinewidth\": 0, \"ticks\": \"\"}, \"colorscale\": [[0.0, \"#0d0887\"], [0.1111111111111111, \"#46039f\"], [0.2222222222222222, \"#7201a8\"], [0.3333333333333333, \"#9c179e\"], [0.4444444444444444, \"#bd3786\"], [0.5555555555555556, \"#d8576b\"], [0.6666666666666666, \"#ed7953\"], [0.7777777777777778, \"#fb9f3a\"], [0.8888888888888888, \"#fdca26\"], [1.0, \"#f0f921\"]], \"type\": \"histogram2d\"}], \"histogram2dcontour\": [{\"colorbar\": {\"outlinewidth\": 0, \"ticks\": \"\"}, \"colorscale\": [[0.0, \"#0d0887\"], [0.1111111111111111, \"#46039f\"], [0.2222222222222222, \"#7201a8\"], [0.3333333333333333, \"#9c179e\"], [0.4444444444444444, \"#bd3786\"], [0.5555555555555556, \"#d8576b\"], [0.6666666666666666, \"#ed7953\"], [0.7777777777777778, \"#fb9f3a\"], [0.8888888888888888, \"#fdca26\"], [1.0, \"#f0f921\"]], \"type\": \"histogram2dcontour\"}], \"mesh3d\": [{\"colorbar\": {\"outlinewidth\": 0, \"ticks\": \"\"}, \"type\": \"mesh3d\"}], \"parcoords\": [{\"line\": {\"colorbar\": {\"outlinewidth\": 0, \"ticks\": \"\"}}, \"type\": \"parcoords\"}], \"pie\": [{\"automargin\": true, \"type\": \"pie\"}], \"scatter\": [{\"marker\": {\"colorbar\": {\"outlinewidth\": 0, \"ticks\": \"\"}}, \"type\": \"scatter\"}], \"scatter3d\": [{\"line\": {\"colorbar\": {\"outlinewidth\": 0, \"ticks\": \"\"}}, \"marker\": {\"colorbar\": {\"outlinewidth\": 0, \"ticks\": \"\"}}, \"type\": \"scatter3d\"}], \"scattercarpet\": [{\"marker\": {\"colorbar\": {\"outlinewidth\": 0, \"ticks\": \"\"}}, \"type\": \"scattercarpet\"}], \"scattergeo\": [{\"marker\": {\"colorbar\": {\"outlinewidth\": 0, \"ticks\": \"\"}}, \"type\": \"scattergeo\"}], \"scattergl\": [{\"marker\": {\"colorbar\": {\"outlinewidth\": 0, \"ticks\": \"\"}}, \"type\": \"scattergl\"}], \"scattermapbox\": [{\"marker\": {\"colorbar\": {\"outlinewidth\": 0, \"ticks\": \"\"}}, \"type\": \"scattermapbox\"}], \"scatterpolar\": [{\"marker\": {\"colorbar\": {\"outlinewidth\": 0, \"ticks\": \"\"}}, \"type\": \"scatterpolar\"}], \"scatterpolargl\": [{\"marker\": {\"colorbar\": {\"outlinewidth\": 0, \"ticks\": \"\"}}, \"type\": \"scatterpolargl\"}], \"scatterternary\": [{\"marker\": {\"colorbar\": {\"outlinewidth\": 0, \"ticks\": \"\"}}, \"type\": \"scatterternary\"}], \"surface\": [{\"colorbar\": {\"outlinewidth\": 0, \"ticks\": \"\"}, \"colorscale\": [[0.0, \"#0d0887\"], [0.1111111111111111, \"#46039f\"], [0.2222222222222222, \"#7201a8\"], [0.3333333333333333, \"#9c179e\"], [0.4444444444444444, \"#bd3786\"], [0.5555555555555556, \"#d8576b\"], [0.6666666666666666, \"#ed7953\"], [0.7777777777777778, \"#fb9f3a\"], [0.8888888888888888, \"#fdca26\"], [1.0, \"#f0f921\"]], \"type\": \"surface\"}], \"table\": [{\"cells\": {\"fill\": {\"color\": \"#EBF0F8\"}, \"line\": {\"color\": \"white\"}}, \"header\": {\"fill\": {\"color\": \"#C8D4E3\"}, \"line\": {\"color\": \"white\"}}, \"type\": \"table\"}]}, \"layout\": {\"annotationdefaults\": {\"arrowcolor\": \"#2a3f5f\", \"arrowhead\": 0, \"arrowwidth\": 1}, \"coloraxis\": {\"colorbar\": {\"outlinewidth\": 0, \"ticks\": \"\"}}, \"colorscale\": {\"diverging\": [[0, \"#8e0152\"], [0.1, \"#c51b7d\"], [0.2, \"#de77ae\"], [0.3, \"#f1b6da\"], [0.4, \"#fde0ef\"], [0.5, \"#f7f7f7\"], [0.6, \"#e6f5d0\"], [0.7, \"#b8e186\"], [0.8, \"#7fbc41\"], [0.9, \"#4d9221\"], [1, \"#276419\"]], \"sequential\": [[0.0, \"#0d0887\"], [0.1111111111111111, \"#46039f\"], [0.2222222222222222, \"#7201a8\"], [0.3333333333333333, \"#9c179e\"], [0.4444444444444444, \"#bd3786\"], [0.5555555555555556, \"#d8576b\"], [0.6666666666666666, \"#ed7953\"], [0.7777777777777778, \"#fb9f3a\"], [0.8888888888888888, \"#fdca26\"], [1.0, \"#f0f921\"]], \"sequentialminus\": [[0.0, \"#0d0887\"], [0.1111111111111111, \"#46039f\"], [0.2222222222222222, \"#7201a8\"], [0.3333333333333333, \"#9c179e\"], [0.4444444444444444, \"#bd3786\"], [0.5555555555555556, \"#d8576b\"], [0.6666666666666666, \"#ed7953\"], [0.7777777777777778, \"#fb9f3a\"], [0.8888888888888888, \"#fdca26\"], [1.0, \"#f0f921\"]]}, \"colorway\": [\"#636efa\", \"#EF553B\", \"#00cc96\", \"#ab63fa\", \"#FFA15A\", \"#19d3f3\", \"#FF6692\", \"#B6E880\", \"#FF97FF\", \"#FECB52\"], \"font\": {\"color\": \"#2a3f5f\"}, \"geo\": {\"bgcolor\": \"white\", \"lakecolor\": \"white\", \"landcolor\": \"#E5ECF6\", \"showlakes\": true, \"showland\": true, \"subunitcolor\": \"white\"}, \"hoverlabel\": {\"align\": \"left\"}, \"hovermode\": \"closest\", \"mapbox\": {\"style\": \"light\"}, \"paper_bgcolor\": \"white\", \"plot_bgcolor\": \"#E5ECF6\", \"polar\": {\"angularaxis\": {\"gridcolor\": \"white\", \"linecolor\": \"white\", \"ticks\": \"\"}, \"bgcolor\": \"#E5ECF6\", \"radialaxis\": {\"gridcolor\": \"white\", \"linecolor\": \"white\", \"ticks\": \"\"}}, \"scene\": {\"xaxis\": {\"backgroundcolor\": \"#E5ECF6\", \"gridcolor\": \"white\", \"gridwidth\": 2, \"linecolor\": \"white\", \"showbackground\": true, \"ticks\": \"\", \"zerolinecolor\": \"white\"}, \"yaxis\": {\"backgroundcolor\": \"#E5ECF6\", \"gridcolor\": \"white\", \"gridwidth\": 2, \"linecolor\": \"white\", \"showbackground\": true, \"ticks\": \"\", \"zerolinecolor\": \"white\"}, \"zaxis\": {\"backgroundcolor\": \"#E5ECF6\", \"gridcolor\": \"white\", \"gridwidth\": 2, \"linecolor\": \"white\", \"showbackground\": true, \"ticks\": \"\", \"zerolinecolor\": \"white\"}}, \"shapedefaults\": {\"line\": {\"color\": \"#2a3f5f\"}}, \"ternary\": {\"aaxis\": {\"gridcolor\": \"white\", \"linecolor\": \"white\", \"ticks\": \"\"}, \"baxis\": {\"gridcolor\": \"white\", \"linecolor\": \"white\", \"ticks\": \"\"}, \"bgcolor\": \"#E5ECF6\", \"caxis\": {\"gridcolor\": \"white\", \"linecolor\": \"white\", \"ticks\": \"\"}}, \"title\": {\"x\": 0.05}, \"xaxis\": {\"automargin\": true, \"gridcolor\": \"white\", \"linecolor\": \"white\", \"ticks\": \"\", \"title\": {\"standoff\": 15}, \"zerolinecolor\": \"white\", \"zerolinewidth\": 2}, \"yaxis\": {\"automargin\": true, \"gridcolor\": \"white\", \"linecolor\": \"white\", \"ticks\": \"\", \"title\": {\"standoff\": 15}, \"zerolinecolor\": \"white\", \"zerolinewidth\": 2}}}, \"title\": {\"text\": \"Total Explained Variance: 76.55%\"}, \"xaxis\": {\"anchor\": \"y\", \"domain\": [0.0, 1.0], \"title\": {\"text\": \"PC 2\"}}, \"yaxis\": {\"anchor\": \"x\", \"domain\": [0.0, 1.0], \"title\": {\"text\": \"PC 1\"}}},                        {\"responsive\": true}                    ).then(function(){\n",
       "                            \n",
       "var gd = document.getElementById('aee22d8c-6f16-45d1-95f2-46c049eb5bc4');\n",
       "var x = new MutationObserver(function (mutations, observer) {{\n",
       "        var display = window.getComputedStyle(gd).display;\n",
       "        if (!display || display === 'none') {{\n",
       "            console.log([gd, 'removed!']);\n",
       "            Plotly.purge(gd);\n",
       "            observer.disconnect();\n",
       "        }}\n",
       "}});\n",
       "\n",
       "// Listen for the removal of the full notebook cells\n",
       "var notebookContainer = gd.closest('#notebook-container');\n",
       "if (notebookContainer) {{\n",
       "    x.observe(notebookContainer, {childList: true});\n",
       "}}\n",
       "\n",
       "// Listen for the clearing of the current output cell\n",
       "var outputEl = gd.closest('.output');\n",
       "if (outputEl) {{\n",
       "    x.observe(outputEl, {childList: true});\n",
       "}}\n",
       "\n",
       "                        })                };                });            </script>        </div>"
      ]
     },
     "metadata": {},
     "output_type": "display_data"
    }
   ],
   "source": [
    "\"\"\"\n",
    "ACP calcul et plot\n",
    "\"\"\" \n",
    "X = dfTaxo_tr.values\n",
    "y = np.array(['A.doorIn','A.doorIn','B.faucetHandle','B.faucetHandle','F.sinkFloor','F.sinkFloor',\n",
    "            'C.soapDispenser','D.stallIn','G.toiletFloor','G.toiletFloor','E.toiletFlushHand','E.toiletFlushHand',\n",
    "            'H.toiletSeat','H.toiletSeat']) #localisation categories\n",
    "pca = PCA(n_components=2)\n",
    "components = pca.fit_transform(X,y)\n",
    "#sns.color_palette(\"Spectral\",len(np.unique(y)))\n",
    "total_var = pca.explained_variance_ratio_.sum() * 100\n",
    "colsfewer = sns.color_palette('viridis_r',len(np.unique(y))*3) #COLORS\n",
    "\n",
    "fig = px.scatter(components, x=1,y=0, color = y , title=f'Total Explained Variance: {total_var:.2f}%',\n",
    "    labels={'0': 'PC 1', '1': 'PC 2'} ,\n",
    "                color_discrete_map={\n",
    "                    \"A.doorIn\": 'rgb'+str(colsfewer[0]),\n",
    "                    \"B.faucetHandle\": 'rgb'+str(colsfewer[1]),\n",
    "                    \"C.soapDispenser\": 'rgb(0.111,0.1111,0.111)',\n",
    "                    \"D.stallIn\": 'rgb(0.911111,0.911111,0.911111)',\n",
    "                    \"E.toiletFlushHand\": 'rgb'+str(colsfewer[4]),\n",
    "                    \"F.sinkFloor\": 'rgb'+str(colsfewer[12]),\n",
    "                    \"G.toiletFloor\": 'rgb'+str(colsfewer[15]),\n",
    "                    \"H.toiletSeat\" : 'rgb(72,40,120)'\n",
    "                }) # j'ai testé ceci: https://plotly.com/python/marker-style/ avec symbol_map mais échec\n",
    "\n",
    "fig.update_traces(marker=dict(size=15, # taille des points\n",
    "                              line=dict(width=0.5, color='DarkSlateGrey')),\n",
    "                  selector=dict(mode='markers'))\n",
    "\n"
   ]
  },
  {
   "cell_type": "code",
   "execution_count": 57,
   "metadata": {
    "scrolled": true
   },
   "outputs": [
    {
     "data": {
      "application/vnd.plotly.v1+json": {
       "config": {
        "plotlyServerURL": "https://plot.ly"
       },
       "data": [
        {
         "hovertemplate": "color=A.doorIn<br>PC 2=%{x}<br>PC 1=%{y}<extra></extra>",
         "legendgroup": "A.doorIn",
         "marker": {
          "color": "rgb(0.89632, 0.893616, 0.096335)",
          "line": {
           "color": "DarkSlateGrey",
           "width": 0.5
          },
          "size": 15,
          "symbol": "circle"
         },
         "mode": "markers",
         "name": "A.doorIn",
         "orientation": "v",
         "showlegend": true,
         "type": "scatter",
         "x": [
          996.4292520445692,
          697.0097366928292
         ],
         "xaxis": "x",
         "y": [
          257.0244346209483,
          224.06078549080036
         ],
         "yaxis": "y"
        },
        {
         "hovertemplate": "color=B.faucetHandle<br>PC 2=%{x}<br>PC 1=%{y}<extra></extra>",
         "legendgroup": "B.faucetHandle",
         "marker": {
          "color": "rgb(0.79376, 0.880678, 0.120005)",
          "line": {
           "color": "DarkSlateGrey",
           "width": 0.5
          },
          "size": 15,
          "symbol": "circle"
         },
         "mode": "markers",
         "name": "B.faucetHandle",
         "orientation": "v",
         "showlegend": true,
         "type": "scatter",
         "x": [
          -396.84194126662936,
          -337.8798722856623
         ],
         "xaxis": "x",
         "y": [
          -1110.9091811553071,
          1103.340119333149
         ],
         "yaxis": "y"
        },
        {
         "hovertemplate": "color=F.sinkFloor<br>PC 2=%{x}<br>PC 1=%{y}<extra></extra>",
         "legendgroup": "F.sinkFloor",
         "marker": {
          "color": "rgb(0.135066, 0.544853, 0.554029)",
          "line": {
           "color": "DarkSlateGrey",
           "width": 0.5
          },
          "size": 15,
          "symbol": "circle"
         },
         "mode": "markers",
         "name": "F.sinkFloor",
         "orientation": "v",
         "showlegend": true,
         "type": "scatter",
         "x": [
          -119.3478890947012,
          -256.6304625686388
         ],
         "xaxis": "x",
         "y": [
          -475.4920211527051,
          -639.2099671243793
         ],
         "yaxis": "y"
        },
        {
         "hovertemplate": "color=C.soapDispenser<br>PC 2=%{x}<br>PC 1=%{y}<extra></extra>",
         "legendgroup": "C.soapDispenser",
         "marker": {
          "color": "rgb(0.111,0.1111,0.111)",
          "line": {
           "color": "DarkSlateGrey",
           "width": 0.5
          },
          "size": 15,
          "symbol": "circle"
         },
         "mode": "markers",
         "name": "C.soapDispenser",
         "orientation": "v",
         "showlegend": true,
         "type": "scatter",
         "x": [
          699.2873000027217
         ],
         "xaxis": "x",
         "y": [
          145.08654759674684
         ],
         "yaxis": "y"
        },
        {
         "hovertemplate": "color=D.stallIn<br>PC 2=%{x}<br>PC 1=%{y}<extra></extra>",
         "legendgroup": "D.stallIn",
         "marker": {
          "color": "rgb(0.911111,0.911111,0.911111)",
          "line": {
           "color": "DarkSlateGrey",
           "width": 0.5
          },
          "size": 15,
          "symbol": "circle"
         },
         "mode": "markers",
         "name": "D.stallIn",
         "orientation": "v",
         "showlegend": true,
         "type": "scatter",
         "x": [
          384.47585126062194
         ],
         "xaxis": "x",
         "y": [
          114.49671077451974
         ],
         "yaxis": "y"
        },
        {
         "hovertemplate": "color=G.toiletFloor<br>PC 2=%{x}<br>PC 1=%{y}<extra></extra>",
         "legendgroup": "G.toiletFloor",
         "marker": {
          "color": "rgb(0.179019, 0.433756, 0.55743)",
          "line": {
           "color": "DarkSlateGrey",
           "width": 0.5
          },
          "size": 15,
          "symbol": "circle"
         },
         "mode": "markers",
         "name": "G.toiletFloor",
         "orientation": "v",
         "showlegend": true,
         "type": "scatter",
         "x": [
          -140.76340808890293,
          -308.20260839058994
         ],
         "xaxis": "x",
         "y": [
          -473.53202920164506,
          -675.7990971721501
         ],
         "yaxis": "y"
        },
        {
         "hovertemplate": "color=E.toiletFlushHand<br>PC 2=%{x}<br>PC 1=%{y}<extra></extra>",
         "legendgroup": "E.toiletFlushHand",
         "marker": {
          "color": "rgb(0.477504, 0.821444, 0.318195)",
          "line": {
           "color": "DarkSlateGrey",
           "width": 0.5
          },
          "size": 15,
          "symbol": "circle"
         },
         "mode": "markers",
         "name": "E.toiletFlushHand",
         "orientation": "v",
         "showlegend": true,
         "type": "scatter",
         "x": [
          11.940607527194784,
          -218.11237134770212
         ],
         "xaxis": "x",
         "y": [
          -141.21390839693328,
          528.5470034457367
         ],
         "yaxis": "y"
        },
        {
         "hovertemplate": "color=H.toiletSeat<br>PC 2=%{x}<br>PC 1=%{y}<extra></extra>",
         "legendgroup": "H.toiletSeat",
         "marker": {
          "color": "rgb(72,40,120)",
          "line": {
           "color": "DarkSlateGrey",
           "width": 0.5
          },
          "size": 15,
          "symbol": "circle"
         },
         "mode": "markers",
         "name": "H.toiletSeat",
         "orientation": "v",
         "showlegend": true,
         "type": "scatter",
         "x": [
          -191.63973413271083,
          -819.7244603523992
         ],
         "xaxis": "x",
         "y": [
          -106.89495762753195,
          1250.495560568754
         ],
         "yaxis": "y"
        }
       ],
       "layout": {
        "legend": {
         "title": {
          "text": "color"
         },
         "tracegroupgap": 0
        },
        "template": {
         "data": {
          "bar": [
           {
            "error_x": {
             "color": "#2a3f5f"
            },
            "error_y": {
             "color": "#2a3f5f"
            },
            "marker": {
             "line": {
              "color": "#E5ECF6",
              "width": 0.5
             }
            },
            "type": "bar"
           }
          ],
          "barpolar": [
           {
            "marker": {
             "line": {
              "color": "#E5ECF6",
              "width": 0.5
             }
            },
            "type": "barpolar"
           }
          ],
          "carpet": [
           {
            "aaxis": {
             "endlinecolor": "#2a3f5f",
             "gridcolor": "white",
             "linecolor": "white",
             "minorgridcolor": "white",
             "startlinecolor": "#2a3f5f"
            },
            "baxis": {
             "endlinecolor": "#2a3f5f",
             "gridcolor": "white",
             "linecolor": "white",
             "minorgridcolor": "white",
             "startlinecolor": "#2a3f5f"
            },
            "type": "carpet"
           }
          ],
          "choropleth": [
           {
            "colorbar": {
             "outlinewidth": 0,
             "ticks": ""
            },
            "type": "choropleth"
           }
          ],
          "contour": [
           {
            "colorbar": {
             "outlinewidth": 0,
             "ticks": ""
            },
            "colorscale": [
             [
              0,
              "#0d0887"
             ],
             [
              0.1111111111111111,
              "#46039f"
             ],
             [
              0.2222222222222222,
              "#7201a8"
             ],
             [
              0.3333333333333333,
              "#9c179e"
             ],
             [
              0.4444444444444444,
              "#bd3786"
             ],
             [
              0.5555555555555556,
              "#d8576b"
             ],
             [
              0.6666666666666666,
              "#ed7953"
             ],
             [
              0.7777777777777778,
              "#fb9f3a"
             ],
             [
              0.8888888888888888,
              "#fdca26"
             ],
             [
              1,
              "#f0f921"
             ]
            ],
            "type": "contour"
           }
          ],
          "contourcarpet": [
           {
            "colorbar": {
             "outlinewidth": 0,
             "ticks": ""
            },
            "type": "contourcarpet"
           }
          ],
          "heatmap": [
           {
            "colorbar": {
             "outlinewidth": 0,
             "ticks": ""
            },
            "colorscale": [
             [
              0,
              "#0d0887"
             ],
             [
              0.1111111111111111,
              "#46039f"
             ],
             [
              0.2222222222222222,
              "#7201a8"
             ],
             [
              0.3333333333333333,
              "#9c179e"
             ],
             [
              0.4444444444444444,
              "#bd3786"
             ],
             [
              0.5555555555555556,
              "#d8576b"
             ],
             [
              0.6666666666666666,
              "#ed7953"
             ],
             [
              0.7777777777777778,
              "#fb9f3a"
             ],
             [
              0.8888888888888888,
              "#fdca26"
             ],
             [
              1,
              "#f0f921"
             ]
            ],
            "type": "heatmap"
           }
          ],
          "heatmapgl": [
           {
            "colorbar": {
             "outlinewidth": 0,
             "ticks": ""
            },
            "colorscale": [
             [
              0,
              "#0d0887"
             ],
             [
              0.1111111111111111,
              "#46039f"
             ],
             [
              0.2222222222222222,
              "#7201a8"
             ],
             [
              0.3333333333333333,
              "#9c179e"
             ],
             [
              0.4444444444444444,
              "#bd3786"
             ],
             [
              0.5555555555555556,
              "#d8576b"
             ],
             [
              0.6666666666666666,
              "#ed7953"
             ],
             [
              0.7777777777777778,
              "#fb9f3a"
             ],
             [
              0.8888888888888888,
              "#fdca26"
             ],
             [
              1,
              "#f0f921"
             ]
            ],
            "type": "heatmapgl"
           }
          ],
          "histogram": [
           {
            "marker": {
             "colorbar": {
              "outlinewidth": 0,
              "ticks": ""
             }
            },
            "type": "histogram"
           }
          ],
          "histogram2d": [
           {
            "colorbar": {
             "outlinewidth": 0,
             "ticks": ""
            },
            "colorscale": [
             [
              0,
              "#0d0887"
             ],
             [
              0.1111111111111111,
              "#46039f"
             ],
             [
              0.2222222222222222,
              "#7201a8"
             ],
             [
              0.3333333333333333,
              "#9c179e"
             ],
             [
              0.4444444444444444,
              "#bd3786"
             ],
             [
              0.5555555555555556,
              "#d8576b"
             ],
             [
              0.6666666666666666,
              "#ed7953"
             ],
             [
              0.7777777777777778,
              "#fb9f3a"
             ],
             [
              0.8888888888888888,
              "#fdca26"
             ],
             [
              1,
              "#f0f921"
             ]
            ],
            "type": "histogram2d"
           }
          ],
          "histogram2dcontour": [
           {
            "colorbar": {
             "outlinewidth": 0,
             "ticks": ""
            },
            "colorscale": [
             [
              0,
              "#0d0887"
             ],
             [
              0.1111111111111111,
              "#46039f"
             ],
             [
              0.2222222222222222,
              "#7201a8"
             ],
             [
              0.3333333333333333,
              "#9c179e"
             ],
             [
              0.4444444444444444,
              "#bd3786"
             ],
             [
              0.5555555555555556,
              "#d8576b"
             ],
             [
              0.6666666666666666,
              "#ed7953"
             ],
             [
              0.7777777777777778,
              "#fb9f3a"
             ],
             [
              0.8888888888888888,
              "#fdca26"
             ],
             [
              1,
              "#f0f921"
             ]
            ],
            "type": "histogram2dcontour"
           }
          ],
          "mesh3d": [
           {
            "colorbar": {
             "outlinewidth": 0,
             "ticks": ""
            },
            "type": "mesh3d"
           }
          ],
          "parcoords": [
           {
            "line": {
             "colorbar": {
              "outlinewidth": 0,
              "ticks": ""
             }
            },
            "type": "parcoords"
           }
          ],
          "pie": [
           {
            "automargin": true,
            "type": "pie"
           }
          ],
          "scatter": [
           {
            "marker": {
             "colorbar": {
              "outlinewidth": 0,
              "ticks": ""
             }
            },
            "type": "scatter"
           }
          ],
          "scatter3d": [
           {
            "line": {
             "colorbar": {
              "outlinewidth": 0,
              "ticks": ""
             }
            },
            "marker": {
             "colorbar": {
              "outlinewidth": 0,
              "ticks": ""
             }
            },
            "type": "scatter3d"
           }
          ],
          "scattercarpet": [
           {
            "marker": {
             "colorbar": {
              "outlinewidth": 0,
              "ticks": ""
             }
            },
            "type": "scattercarpet"
           }
          ],
          "scattergeo": [
           {
            "marker": {
             "colorbar": {
              "outlinewidth": 0,
              "ticks": ""
             }
            },
            "type": "scattergeo"
           }
          ],
          "scattergl": [
           {
            "marker": {
             "colorbar": {
              "outlinewidth": 0,
              "ticks": ""
             }
            },
            "type": "scattergl"
           }
          ],
          "scattermapbox": [
           {
            "marker": {
             "colorbar": {
              "outlinewidth": 0,
              "ticks": ""
             }
            },
            "type": "scattermapbox"
           }
          ],
          "scatterpolar": [
           {
            "marker": {
             "colorbar": {
              "outlinewidth": 0,
              "ticks": ""
             }
            },
            "type": "scatterpolar"
           }
          ],
          "scatterpolargl": [
           {
            "marker": {
             "colorbar": {
              "outlinewidth": 0,
              "ticks": ""
             }
            },
            "type": "scatterpolargl"
           }
          ],
          "scatterternary": [
           {
            "marker": {
             "colorbar": {
              "outlinewidth": 0,
              "ticks": ""
             }
            },
            "type": "scatterternary"
           }
          ],
          "surface": [
           {
            "colorbar": {
             "outlinewidth": 0,
             "ticks": ""
            },
            "colorscale": [
             [
              0,
              "#0d0887"
             ],
             [
              0.1111111111111111,
              "#46039f"
             ],
             [
              0.2222222222222222,
              "#7201a8"
             ],
             [
              0.3333333333333333,
              "#9c179e"
             ],
             [
              0.4444444444444444,
              "#bd3786"
             ],
             [
              0.5555555555555556,
              "#d8576b"
             ],
             [
              0.6666666666666666,
              "#ed7953"
             ],
             [
              0.7777777777777778,
              "#fb9f3a"
             ],
             [
              0.8888888888888888,
              "#fdca26"
             ],
             [
              1,
              "#f0f921"
             ]
            ],
            "type": "surface"
           }
          ],
          "table": [
           {
            "cells": {
             "fill": {
              "color": "#EBF0F8"
             },
             "line": {
              "color": "white"
             }
            },
            "header": {
             "fill": {
              "color": "#C8D4E3"
             },
             "line": {
              "color": "white"
             }
            },
            "type": "table"
           }
          ]
         },
         "layout": {
          "annotationdefaults": {
           "arrowcolor": "#2a3f5f",
           "arrowhead": 0,
           "arrowwidth": 1
          },
          "coloraxis": {
           "colorbar": {
            "outlinewidth": 0,
            "ticks": ""
           }
          },
          "colorscale": {
           "diverging": [
            [
             0,
             "#8e0152"
            ],
            [
             0.1,
             "#c51b7d"
            ],
            [
             0.2,
             "#de77ae"
            ],
            [
             0.3,
             "#f1b6da"
            ],
            [
             0.4,
             "#fde0ef"
            ],
            [
             0.5,
             "#f7f7f7"
            ],
            [
             0.6,
             "#e6f5d0"
            ],
            [
             0.7,
             "#b8e186"
            ],
            [
             0.8,
             "#7fbc41"
            ],
            [
             0.9,
             "#4d9221"
            ],
            [
             1,
             "#276419"
            ]
           ],
           "sequential": [
            [
             0,
             "#0d0887"
            ],
            [
             0.1111111111111111,
             "#46039f"
            ],
            [
             0.2222222222222222,
             "#7201a8"
            ],
            [
             0.3333333333333333,
             "#9c179e"
            ],
            [
             0.4444444444444444,
             "#bd3786"
            ],
            [
             0.5555555555555556,
             "#d8576b"
            ],
            [
             0.6666666666666666,
             "#ed7953"
            ],
            [
             0.7777777777777778,
             "#fb9f3a"
            ],
            [
             0.8888888888888888,
             "#fdca26"
            ],
            [
             1,
             "#f0f921"
            ]
           ],
           "sequentialminus": [
            [
             0,
             "#0d0887"
            ],
            [
             0.1111111111111111,
             "#46039f"
            ],
            [
             0.2222222222222222,
             "#7201a8"
            ],
            [
             0.3333333333333333,
             "#9c179e"
            ],
            [
             0.4444444444444444,
             "#bd3786"
            ],
            [
             0.5555555555555556,
             "#d8576b"
            ],
            [
             0.6666666666666666,
             "#ed7953"
            ],
            [
             0.7777777777777778,
             "#fb9f3a"
            ],
            [
             0.8888888888888888,
             "#fdca26"
            ],
            [
             1,
             "#f0f921"
            ]
           ]
          },
          "colorway": [
           "#636efa",
           "#EF553B",
           "#00cc96",
           "#ab63fa",
           "#FFA15A",
           "#19d3f3",
           "#FF6692",
           "#B6E880",
           "#FF97FF",
           "#FECB52"
          ],
          "font": {
           "color": "#2a3f5f"
          },
          "geo": {
           "bgcolor": "white",
           "lakecolor": "white",
           "landcolor": "#E5ECF6",
           "showlakes": true,
           "showland": true,
           "subunitcolor": "white"
          },
          "hoverlabel": {
           "align": "left"
          },
          "hovermode": "closest",
          "mapbox": {
           "style": "light"
          },
          "paper_bgcolor": "white",
          "plot_bgcolor": "#E5ECF6",
          "polar": {
           "angularaxis": {
            "gridcolor": "white",
            "linecolor": "white",
            "ticks": ""
           },
           "bgcolor": "#E5ECF6",
           "radialaxis": {
            "gridcolor": "white",
            "linecolor": "white",
            "ticks": ""
           }
          },
          "scene": {
           "xaxis": {
            "backgroundcolor": "#E5ECF6",
            "gridcolor": "white",
            "gridwidth": 2,
            "linecolor": "white",
            "showbackground": true,
            "ticks": "",
            "zerolinecolor": "white"
           },
           "yaxis": {
            "backgroundcolor": "#E5ECF6",
            "gridcolor": "white",
            "gridwidth": 2,
            "linecolor": "white",
            "showbackground": true,
            "ticks": "",
            "zerolinecolor": "white"
           },
           "zaxis": {
            "backgroundcolor": "#E5ECF6",
            "gridcolor": "white",
            "gridwidth": 2,
            "linecolor": "white",
            "showbackground": true,
            "ticks": "",
            "zerolinecolor": "white"
           }
          },
          "shapedefaults": {
           "line": {
            "color": "#2a3f5f"
           }
          },
          "ternary": {
           "aaxis": {
            "gridcolor": "white",
            "linecolor": "white",
            "ticks": ""
           },
           "baxis": {
            "gridcolor": "white",
            "linecolor": "white",
            "ticks": ""
           },
           "bgcolor": "#E5ECF6",
           "caxis": {
            "gridcolor": "white",
            "linecolor": "white",
            "ticks": ""
           }
          },
          "title": {
           "x": 0.05
          },
          "xaxis": {
           "automargin": true,
           "gridcolor": "white",
           "linecolor": "white",
           "ticks": "",
           "title": {
            "standoff": 15
           },
           "zerolinecolor": "white",
           "zerolinewidth": 2
          },
          "yaxis": {
           "automargin": true,
           "gridcolor": "white",
           "linecolor": "white",
           "ticks": "",
           "title": {
            "standoff": 15
           },
           "zerolinecolor": "white",
           "zerolinewidth": 2
          }
         }
        },
        "title": {
         "text": "Total Explained Variance: 76.55%"
        },
        "xaxis": {
         "anchor": "y",
         "domain": [
          0,
          1
         ],
         "title": {
          "text": "PC 2"
         }
        },
        "yaxis": {
         "anchor": "x",
         "domain": [
          0,
          1
         ],
         "title": {
          "text": "PC 1"
         }
        }
       }
      },
      "text/html": [
       "<div>                            <div id=\"4f03b761-b4bd-4b0e-9f63-9ae24d9023c7\" class=\"plotly-graph-div\" style=\"height:525px; width:100%;\"></div>            <script type=\"text/javascript\">                require([\"plotly\"], function(Plotly) {                    window.PLOTLYENV=window.PLOTLYENV || {};                                    if (document.getElementById(\"4f03b761-b4bd-4b0e-9f63-9ae24d9023c7\")) {                    Plotly.newPlot(                        \"4f03b761-b4bd-4b0e-9f63-9ae24d9023c7\",                        [{\"hovertemplate\": \"color=A.doorIn<br>PC 2=%{x}<br>PC 1=%{y}<extra></extra>\", \"legendgroup\": \"A.doorIn\", \"marker\": {\"color\": \"rgb(0.89632, 0.893616, 0.096335)\", \"line\": {\"color\": \"DarkSlateGrey\", \"width\": 0.5}, \"size\": 15, \"symbol\": \"circle\"}, \"mode\": \"markers\", \"name\": \"A.doorIn\", \"orientation\": \"v\", \"showlegend\": true, \"type\": \"scatter\", \"x\": [996.4292520445692, 697.0097366928292], \"xaxis\": \"x\", \"y\": [257.0244346209483, 224.06078549080036], \"yaxis\": \"y\"}, {\"hovertemplate\": \"color=B.faucetHandle<br>PC 2=%{x}<br>PC 1=%{y}<extra></extra>\", \"legendgroup\": \"B.faucetHandle\", \"marker\": {\"color\": \"rgb(0.79376, 0.880678, 0.120005)\", \"line\": {\"color\": \"DarkSlateGrey\", \"width\": 0.5}, \"size\": 15, \"symbol\": \"circle\"}, \"mode\": \"markers\", \"name\": \"B.faucetHandle\", \"orientation\": \"v\", \"showlegend\": true, \"type\": \"scatter\", \"x\": [-396.84194126662936, -337.8798722856623], \"xaxis\": \"x\", \"y\": [-1110.9091811553071, 1103.340119333149], \"yaxis\": \"y\"}, {\"hovertemplate\": \"color=F.sinkFloor<br>PC 2=%{x}<br>PC 1=%{y}<extra></extra>\", \"legendgroup\": \"F.sinkFloor\", \"marker\": {\"color\": \"rgb(0.135066, 0.544853, 0.554029)\", \"line\": {\"color\": \"DarkSlateGrey\", \"width\": 0.5}, \"size\": 15, \"symbol\": \"circle\"}, \"mode\": \"markers\", \"name\": \"F.sinkFloor\", \"orientation\": \"v\", \"showlegend\": true, \"type\": \"scatter\", \"x\": [-119.3478890947012, -256.6304625686388], \"xaxis\": \"x\", \"y\": [-475.4920211527051, -639.2099671243793], \"yaxis\": \"y\"}, {\"hovertemplate\": \"color=C.soapDispenser<br>PC 2=%{x}<br>PC 1=%{y}<extra></extra>\", \"legendgroup\": \"C.soapDispenser\", \"marker\": {\"color\": \"rgb(0.111,0.1111,0.111)\", \"line\": {\"color\": \"DarkSlateGrey\", \"width\": 0.5}, \"size\": 15, \"symbol\": \"circle\"}, \"mode\": \"markers\", \"name\": \"C.soapDispenser\", \"orientation\": \"v\", \"showlegend\": true, \"type\": \"scatter\", \"x\": [699.2873000027217], \"xaxis\": \"x\", \"y\": [145.08654759674684], \"yaxis\": \"y\"}, {\"hovertemplate\": \"color=D.stallIn<br>PC 2=%{x}<br>PC 1=%{y}<extra></extra>\", \"legendgroup\": \"D.stallIn\", \"marker\": {\"color\": \"rgb(0.911111,0.911111,0.911111)\", \"line\": {\"color\": \"DarkSlateGrey\", \"width\": 0.5}, \"size\": 15, \"symbol\": \"circle\"}, \"mode\": \"markers\", \"name\": \"D.stallIn\", \"orientation\": \"v\", \"showlegend\": true, \"type\": \"scatter\", \"x\": [384.47585126062194], \"xaxis\": \"x\", \"y\": [114.49671077451974], \"yaxis\": \"y\"}, {\"hovertemplate\": \"color=G.toiletFloor<br>PC 2=%{x}<br>PC 1=%{y}<extra></extra>\", \"legendgroup\": \"G.toiletFloor\", \"marker\": {\"color\": \"rgb(0.179019, 0.433756, 0.55743)\", \"line\": {\"color\": \"DarkSlateGrey\", \"width\": 0.5}, \"size\": 15, \"symbol\": \"circle\"}, \"mode\": \"markers\", \"name\": \"G.toiletFloor\", \"orientation\": \"v\", \"showlegend\": true, \"type\": \"scatter\", \"x\": [-140.76340808890293, -308.20260839058994], \"xaxis\": \"x\", \"y\": [-473.53202920164506, -675.7990971721501], \"yaxis\": \"y\"}, {\"hovertemplate\": \"color=E.toiletFlushHand<br>PC 2=%{x}<br>PC 1=%{y}<extra></extra>\", \"legendgroup\": \"E.toiletFlushHand\", \"marker\": {\"color\": \"rgb(0.477504, 0.821444, 0.318195)\", \"line\": {\"color\": \"DarkSlateGrey\", \"width\": 0.5}, \"size\": 15, \"symbol\": \"circle\"}, \"mode\": \"markers\", \"name\": \"E.toiletFlushHand\", \"orientation\": \"v\", \"showlegend\": true, \"type\": \"scatter\", \"x\": [11.940607527194784, -218.11237134770212], \"xaxis\": \"x\", \"y\": [-141.21390839693328, 528.5470034457367], \"yaxis\": \"y\"}, {\"hovertemplate\": \"color=H.toiletSeat<br>PC 2=%{x}<br>PC 1=%{y}<extra></extra>\", \"legendgroup\": \"H.toiletSeat\", \"marker\": {\"color\": \"rgb(72,40,120)\", \"line\": {\"color\": \"DarkSlateGrey\", \"width\": 0.5}, \"size\": 15, \"symbol\": \"circle\"}, \"mode\": \"markers\", \"name\": \"H.toiletSeat\", \"orientation\": \"v\", \"showlegend\": true, \"type\": \"scatter\", \"x\": [-191.63973413271083, -819.7244603523992], \"xaxis\": \"x\", \"y\": [-106.89495762753195, 1250.495560568754], \"yaxis\": \"y\"}],                        {\"legend\": {\"title\": {\"text\": \"color\"}, \"tracegroupgap\": 0}, \"template\": {\"data\": {\"bar\": [{\"error_x\": {\"color\": \"#2a3f5f\"}, \"error_y\": {\"color\": \"#2a3f5f\"}, \"marker\": {\"line\": {\"color\": \"#E5ECF6\", \"width\": 0.5}}, \"type\": \"bar\"}], \"barpolar\": [{\"marker\": {\"line\": {\"color\": \"#E5ECF6\", \"width\": 0.5}}, \"type\": \"barpolar\"}], \"carpet\": [{\"aaxis\": {\"endlinecolor\": \"#2a3f5f\", \"gridcolor\": \"white\", \"linecolor\": \"white\", \"minorgridcolor\": \"white\", \"startlinecolor\": \"#2a3f5f\"}, \"baxis\": {\"endlinecolor\": \"#2a3f5f\", \"gridcolor\": \"white\", \"linecolor\": \"white\", \"minorgridcolor\": \"white\", \"startlinecolor\": \"#2a3f5f\"}, \"type\": \"carpet\"}], \"choropleth\": [{\"colorbar\": {\"outlinewidth\": 0, \"ticks\": \"\"}, \"type\": \"choropleth\"}], \"contour\": [{\"colorbar\": {\"outlinewidth\": 0, \"ticks\": \"\"}, \"colorscale\": [[0.0, \"#0d0887\"], [0.1111111111111111, \"#46039f\"], [0.2222222222222222, \"#7201a8\"], [0.3333333333333333, \"#9c179e\"], [0.4444444444444444, \"#bd3786\"], [0.5555555555555556, \"#d8576b\"], [0.6666666666666666, \"#ed7953\"], [0.7777777777777778, \"#fb9f3a\"], [0.8888888888888888, \"#fdca26\"], [1.0, \"#f0f921\"]], \"type\": \"contour\"}], \"contourcarpet\": [{\"colorbar\": {\"outlinewidth\": 0, \"ticks\": \"\"}, \"type\": \"contourcarpet\"}], \"heatmap\": [{\"colorbar\": {\"outlinewidth\": 0, \"ticks\": \"\"}, \"colorscale\": [[0.0, \"#0d0887\"], [0.1111111111111111, \"#46039f\"], [0.2222222222222222, \"#7201a8\"], [0.3333333333333333, \"#9c179e\"], [0.4444444444444444, \"#bd3786\"], [0.5555555555555556, \"#d8576b\"], [0.6666666666666666, \"#ed7953\"], [0.7777777777777778, \"#fb9f3a\"], [0.8888888888888888, \"#fdca26\"], [1.0, \"#f0f921\"]], \"type\": \"heatmap\"}], \"heatmapgl\": [{\"colorbar\": {\"outlinewidth\": 0, \"ticks\": \"\"}, \"colorscale\": [[0.0, \"#0d0887\"], [0.1111111111111111, \"#46039f\"], [0.2222222222222222, \"#7201a8\"], [0.3333333333333333, \"#9c179e\"], [0.4444444444444444, \"#bd3786\"], [0.5555555555555556, \"#d8576b\"], [0.6666666666666666, \"#ed7953\"], [0.7777777777777778, \"#fb9f3a\"], [0.8888888888888888, \"#fdca26\"], [1.0, \"#f0f921\"]], \"type\": \"heatmapgl\"}], \"histogram\": [{\"marker\": {\"colorbar\": {\"outlinewidth\": 0, \"ticks\": \"\"}}, \"type\": \"histogram\"}], \"histogram2d\": [{\"colorbar\": {\"outlinewidth\": 0, \"ticks\": \"\"}, \"colorscale\": [[0.0, \"#0d0887\"], [0.1111111111111111, \"#46039f\"], [0.2222222222222222, \"#7201a8\"], [0.3333333333333333, \"#9c179e\"], [0.4444444444444444, \"#bd3786\"], [0.5555555555555556, \"#d8576b\"], [0.6666666666666666, \"#ed7953\"], [0.7777777777777778, \"#fb9f3a\"], [0.8888888888888888, \"#fdca26\"], [1.0, \"#f0f921\"]], \"type\": \"histogram2d\"}], \"histogram2dcontour\": [{\"colorbar\": {\"outlinewidth\": 0, \"ticks\": \"\"}, \"colorscale\": [[0.0, \"#0d0887\"], [0.1111111111111111, \"#46039f\"], [0.2222222222222222, \"#7201a8\"], [0.3333333333333333, \"#9c179e\"], [0.4444444444444444, \"#bd3786\"], [0.5555555555555556, \"#d8576b\"], [0.6666666666666666, \"#ed7953\"], [0.7777777777777778, \"#fb9f3a\"], [0.8888888888888888, \"#fdca26\"], [1.0, \"#f0f921\"]], \"type\": \"histogram2dcontour\"}], \"mesh3d\": [{\"colorbar\": {\"outlinewidth\": 0, \"ticks\": \"\"}, \"type\": \"mesh3d\"}], \"parcoords\": [{\"line\": {\"colorbar\": {\"outlinewidth\": 0, \"ticks\": \"\"}}, \"type\": \"parcoords\"}], \"pie\": [{\"automargin\": true, \"type\": \"pie\"}], \"scatter\": [{\"marker\": {\"colorbar\": {\"outlinewidth\": 0, \"ticks\": \"\"}}, \"type\": \"scatter\"}], \"scatter3d\": [{\"line\": {\"colorbar\": {\"outlinewidth\": 0, \"ticks\": \"\"}}, \"marker\": {\"colorbar\": {\"outlinewidth\": 0, \"ticks\": \"\"}}, \"type\": \"scatter3d\"}], \"scattercarpet\": [{\"marker\": {\"colorbar\": {\"outlinewidth\": 0, \"ticks\": \"\"}}, \"type\": \"scattercarpet\"}], \"scattergeo\": [{\"marker\": {\"colorbar\": {\"outlinewidth\": 0, \"ticks\": \"\"}}, \"type\": \"scattergeo\"}], \"scattergl\": [{\"marker\": {\"colorbar\": {\"outlinewidth\": 0, \"ticks\": \"\"}}, \"type\": \"scattergl\"}], \"scattermapbox\": [{\"marker\": {\"colorbar\": {\"outlinewidth\": 0, \"ticks\": \"\"}}, \"type\": \"scattermapbox\"}], \"scatterpolar\": [{\"marker\": {\"colorbar\": {\"outlinewidth\": 0, \"ticks\": \"\"}}, \"type\": \"scatterpolar\"}], \"scatterpolargl\": [{\"marker\": {\"colorbar\": {\"outlinewidth\": 0, \"ticks\": \"\"}}, \"type\": \"scatterpolargl\"}], \"scatterternary\": [{\"marker\": {\"colorbar\": {\"outlinewidth\": 0, \"ticks\": \"\"}}, \"type\": \"scatterternary\"}], \"surface\": [{\"colorbar\": {\"outlinewidth\": 0, \"ticks\": \"\"}, \"colorscale\": [[0.0, \"#0d0887\"], [0.1111111111111111, \"#46039f\"], [0.2222222222222222, \"#7201a8\"], [0.3333333333333333, \"#9c179e\"], [0.4444444444444444, \"#bd3786\"], [0.5555555555555556, \"#d8576b\"], [0.6666666666666666, \"#ed7953\"], [0.7777777777777778, \"#fb9f3a\"], [0.8888888888888888, \"#fdca26\"], [1.0, \"#f0f921\"]], \"type\": \"surface\"}], \"table\": [{\"cells\": {\"fill\": {\"color\": \"#EBF0F8\"}, \"line\": {\"color\": \"white\"}}, \"header\": {\"fill\": {\"color\": \"#C8D4E3\"}, \"line\": {\"color\": \"white\"}}, \"type\": \"table\"}]}, \"layout\": {\"annotationdefaults\": {\"arrowcolor\": \"#2a3f5f\", \"arrowhead\": 0, \"arrowwidth\": 1}, \"coloraxis\": {\"colorbar\": {\"outlinewidth\": 0, \"ticks\": \"\"}}, \"colorscale\": {\"diverging\": [[0, \"#8e0152\"], [0.1, \"#c51b7d\"], [0.2, \"#de77ae\"], [0.3, \"#f1b6da\"], [0.4, \"#fde0ef\"], [0.5, \"#f7f7f7\"], [0.6, \"#e6f5d0\"], [0.7, \"#b8e186\"], [0.8, \"#7fbc41\"], [0.9, \"#4d9221\"], [1, \"#276419\"]], \"sequential\": [[0.0, \"#0d0887\"], [0.1111111111111111, \"#46039f\"], [0.2222222222222222, \"#7201a8\"], [0.3333333333333333, \"#9c179e\"], [0.4444444444444444, \"#bd3786\"], [0.5555555555555556, \"#d8576b\"], [0.6666666666666666, \"#ed7953\"], [0.7777777777777778, \"#fb9f3a\"], [0.8888888888888888, \"#fdca26\"], [1.0, \"#f0f921\"]], \"sequentialminus\": [[0.0, \"#0d0887\"], [0.1111111111111111, \"#46039f\"], [0.2222222222222222, \"#7201a8\"], [0.3333333333333333, \"#9c179e\"], [0.4444444444444444, \"#bd3786\"], [0.5555555555555556, \"#d8576b\"], [0.6666666666666666, \"#ed7953\"], [0.7777777777777778, \"#fb9f3a\"], [0.8888888888888888, \"#fdca26\"], [1.0, \"#f0f921\"]]}, \"colorway\": [\"#636efa\", \"#EF553B\", \"#00cc96\", \"#ab63fa\", \"#FFA15A\", \"#19d3f3\", \"#FF6692\", \"#B6E880\", \"#FF97FF\", \"#FECB52\"], \"font\": {\"color\": \"#2a3f5f\"}, \"geo\": {\"bgcolor\": \"white\", \"lakecolor\": \"white\", \"landcolor\": \"#E5ECF6\", \"showlakes\": true, \"showland\": true, \"subunitcolor\": \"white\"}, \"hoverlabel\": {\"align\": \"left\"}, \"hovermode\": \"closest\", \"mapbox\": {\"style\": \"light\"}, \"paper_bgcolor\": \"white\", \"plot_bgcolor\": \"#E5ECF6\", \"polar\": {\"angularaxis\": {\"gridcolor\": \"white\", \"linecolor\": \"white\", \"ticks\": \"\"}, \"bgcolor\": \"#E5ECF6\", \"radialaxis\": {\"gridcolor\": \"white\", \"linecolor\": \"white\", \"ticks\": \"\"}}, \"scene\": {\"xaxis\": {\"backgroundcolor\": \"#E5ECF6\", \"gridcolor\": \"white\", \"gridwidth\": 2, \"linecolor\": \"white\", \"showbackground\": true, \"ticks\": \"\", \"zerolinecolor\": \"white\"}, \"yaxis\": {\"backgroundcolor\": \"#E5ECF6\", \"gridcolor\": \"white\", \"gridwidth\": 2, \"linecolor\": \"white\", \"showbackground\": true, \"ticks\": \"\", \"zerolinecolor\": \"white\"}, \"zaxis\": {\"backgroundcolor\": \"#E5ECF6\", \"gridcolor\": \"white\", \"gridwidth\": 2, \"linecolor\": \"white\", \"showbackground\": true, \"ticks\": \"\", \"zerolinecolor\": \"white\"}}, \"shapedefaults\": {\"line\": {\"color\": \"#2a3f5f\"}}, \"ternary\": {\"aaxis\": {\"gridcolor\": \"white\", \"linecolor\": \"white\", \"ticks\": \"\"}, \"baxis\": {\"gridcolor\": \"white\", \"linecolor\": \"white\", \"ticks\": \"\"}, \"bgcolor\": \"#E5ECF6\", \"caxis\": {\"gridcolor\": \"white\", \"linecolor\": \"white\", \"ticks\": \"\"}}, \"title\": {\"x\": 0.05}, \"xaxis\": {\"automargin\": true, \"gridcolor\": \"white\", \"linecolor\": \"white\", \"ticks\": \"\", \"title\": {\"standoff\": 15}, \"zerolinecolor\": \"white\", \"zerolinewidth\": 2}, \"yaxis\": {\"automargin\": true, \"gridcolor\": \"white\", \"linecolor\": \"white\", \"ticks\": \"\", \"title\": {\"standoff\": 15}, \"zerolinecolor\": \"white\", \"zerolinewidth\": 2}}}, \"title\": {\"text\": \"Total Explained Variance: 76.55%\"}, \"xaxis\": {\"anchor\": \"y\", \"domain\": [0.0, 1.0], \"title\": {\"text\": \"PC 2\"}}, \"yaxis\": {\"anchor\": \"x\", \"domain\": [0.0, 1.0], \"title\": {\"text\": \"PC 1\"}}},                        {\"responsive\": true}                    ).then(function(){\n",
       "                            \n",
       "var gd = document.getElementById('4f03b761-b4bd-4b0e-9f63-9ae24d9023c7');\n",
       "var x = new MutationObserver(function (mutations, observer) {{\n",
       "        var display = window.getComputedStyle(gd).display;\n",
       "        if (!display || display === 'none') {{\n",
       "            console.log([gd, 'removed!']);\n",
       "            Plotly.purge(gd);\n",
       "            observer.disconnect();\n",
       "        }}\n",
       "}});\n",
       "\n",
       "// Listen for the removal of the full notebook cells\n",
       "var notebookContainer = gd.closest('#notebook-container');\n",
       "if (notebookContainer) {{\n",
       "    x.observe(notebookContainer, {childList: true});\n",
       "}}\n",
       "\n",
       "// Listen for the clearing of the current output cell\n",
       "var outputEl = gd.closest('.output');\n",
       "if (outputEl) {{\n",
       "    x.observe(outputEl, {childList: true});\n",
       "}}\n",
       "\n",
       "                        })                };                });            </script>        </div>"
      ]
     },
     "metadata": {},
     "output_type": "display_data"
    }
   ],
   "source": [
    "#print image:\n",
    "import psutil as psutil\n",
    "import kaleido as kaleido\n",
    "import plotly.io as pio\n",
    "\n",
    "fig.write_image(\"plots/ACP.pdf\", engine=\"kaleido\")  #pip install psutil to export correctly\n",
    "fig.write_html(\"plots/ACP.html\")\n",
    "\n",
    "fig.show()\n",
    "#pt.offline.plot(fig, \"figureTest.html\")"
   ]
  },
  {
   "cell_type": "code",
   "execution_count": 50,
   "metadata": {},
   "outputs": [
    {
     "name": "stdout",
     "output_type": "stream",
     "text": [
      "end ACP\n"
     ]
    }
   ],
   "source": [
    "print(\"end ACP\")"
   ]
  },
  {
   "cell_type": "code",
   "execution_count": 55,
   "metadata": {},
   "outputs": [
    {
     "name": "stderr",
     "output_type": "stream",
     "text": [
      "<ipython-input-55-c0dd5d6a4ed6>:23: SettingWithCopyWarning:\n",
      "\n",
      "\n",
      "A value is trying to be set on a copy of a slice from a DataFrame.\n",
      "Try using .loc[row_indexer,col_indexer] = value instead\n",
      "\n",
      "See the caveats in the documentation: https://pandas.pydata.org/pandas-docs/stable/user_guide/indexing.html#returning-a-view-versus-a-copy\n",
      "\n",
      "/home/yum/miniconda3/lib/python3.8/site-packages/pandas/core/frame.py:4163: SettingWithCopyWarning:\n",
      "\n",
      "\n",
      "A value is trying to be set on a copy of a slice from a DataFrame\n",
      "\n",
      "See the caveats in the documentation: https://pandas.pydata.org/pandas-docs/stable/user_guide/indexing.html#returning-a-view-versus-a-copy\n",
      "\n"
     ]
    },
    {
     "data": {
      "text/html": [
       "<div>\n",
       "<style scoped>\n",
       "    .dataframe tbody tr th:only-of-type {\n",
       "        vertical-align: middle;\n",
       "    }\n",
       "\n",
       "    .dataframe tbody tr th {\n",
       "        vertical-align: top;\n",
       "    }\n",
       "\n",
       "    .dataframe thead th {\n",
       "        text-align: right;\n",
       "    }\n",
       "</style>\n",
       "<table border=\"1\" class=\"dataframe\">\n",
       "  <thead>\n",
       "    <tr style=\"text-align: right;\">\n",
       "      <th></th>\n",
       "      <th>door_in_1</th>\n",
       "      <th>door_in_2</th>\n",
       "      <th>faucet_handle_1</th>\n",
       "      <th>faucet_handle_2</th>\n",
       "      <th>sink_floor_1</th>\n",
       "      <th>sink_floor_2</th>\n",
       "      <th>soap_dispenser_1</th>\n",
       "      <th>stall_in_1</th>\n",
       "      <th>toilet_floor_1</th>\n",
       "      <th>toilet_floor_2</th>\n",
       "      <th>toilet_flush_handle_1</th>\n",
       "      <th>toilet_flush_handle_2</th>\n",
       "      <th>toilet_seat_1</th>\n",
       "      <th>toilet_seat_2</th>\n",
       "    </tr>\n",
       "    <tr>\n",
       "      <th>Taxo</th>\n",
       "      <th></th>\n",
       "      <th></th>\n",
       "      <th></th>\n",
       "      <th></th>\n",
       "      <th></th>\n",
       "      <th></th>\n",
       "      <th></th>\n",
       "      <th></th>\n",
       "      <th></th>\n",
       "      <th></th>\n",
       "      <th></th>\n",
       "      <th></th>\n",
       "      <th></th>\n",
       "      <th></th>\n",
       "    </tr>\n",
       "  </thead>\n",
       "  <tbody>\n",
       "    <tr>\n",
       "      <th>Propionibacterium(100)</th>\n",
       "      <td>1392.0</td>\n",
       "      <td>1053.0</td>\n",
       "      <td>336.0</td>\n",
       "      <td>594.0</td>\n",
       "      <td>41.0</td>\n",
       "      <td>39.0</td>\n",
       "      <td>1149.0</td>\n",
       "      <td>621.0</td>\n",
       "      <td>46.0</td>\n",
       "      <td>87.0</td>\n",
       "      <td>15.0</td>\n",
       "      <td>341.0</td>\n",
       "      <td>78.0</td>\n",
       "      <td>211.0</td>\n",
       "    </tr>\n",
       "    <tr>\n",
       "      <th>Friedmanniella(100)</th>\n",
       "      <td>6.0</td>\n",
       "      <td>2.0</td>\n",
       "      <td>0.0</td>\n",
       "      <td>0.0</td>\n",
       "      <td>124.0</td>\n",
       "      <td>61.0</td>\n",
       "      <td>0.0</td>\n",
       "      <td>9.0</td>\n",
       "      <td>62.0</td>\n",
       "      <td>48.0</td>\n",
       "      <td>7.0</td>\n",
       "      <td>9.0</td>\n",
       "      <td>5.0</td>\n",
       "      <td>1.0</td>\n",
       "    </tr>\n",
       "    <tr>\n",
       "      <th>Corynebacterium(100)</th>\n",
       "      <td>86.0</td>\n",
       "      <td>155.0</td>\n",
       "      <td>19.0</td>\n",
       "      <td>1467.0</td>\n",
       "      <td>31.0</td>\n",
       "      <td>41.0</td>\n",
       "      <td>159.0</td>\n",
       "      <td>131.0</td>\n",
       "      <td>23.0</td>\n",
       "      <td>86.0</td>\n",
       "      <td>4.0</td>\n",
       "      <td>794.0</td>\n",
       "      <td>234.0</td>\n",
       "      <td>1664.0</td>\n",
       "    </tr>\n",
       "    <tr>\n",
       "      <th>Arthrobacter(86)</th>\n",
       "      <td>6.0</td>\n",
       "      <td>27.0</td>\n",
       "      <td>5.0</td>\n",
       "      <td>6.0</td>\n",
       "      <td>452.0</td>\n",
       "      <td>275.0</td>\n",
       "      <td>63.0</td>\n",
       "      <td>0.0</td>\n",
       "      <td>236.0</td>\n",
       "      <td>251.0</td>\n",
       "      <td>9.0</td>\n",
       "      <td>51.0</td>\n",
       "      <td>5.0</td>\n",
       "      <td>3.0</td>\n",
       "    </tr>\n",
       "    <tr>\n",
       "      <th>Kocuria(100)</th>\n",
       "      <td>6.0</td>\n",
       "      <td>36.0</td>\n",
       "      <td>3.0</td>\n",
       "      <td>0.0</td>\n",
       "      <td>85.0</td>\n",
       "      <td>85.0</td>\n",
       "      <td>22.0</td>\n",
       "      <td>14.0</td>\n",
       "      <td>53.0</td>\n",
       "      <td>54.0</td>\n",
       "      <td>0.0</td>\n",
       "      <td>10.0</td>\n",
       "      <td>6.0</td>\n",
       "      <td>0.0</td>\n",
       "    </tr>\n",
       "    <tr>\n",
       "      <th>unclassified(100)</th>\n",
       "      <td>41.0</td>\n",
       "      <td>67.0</td>\n",
       "      <td>6.0</td>\n",
       "      <td>41.0</td>\n",
       "      <td>198.0</td>\n",
       "      <td>142.0</td>\n",
       "      <td>64.0</td>\n",
       "      <td>25.0</td>\n",
       "      <td>183.0</td>\n",
       "      <td>141.0</td>\n",
       "      <td>144.0</td>\n",
       "      <td>33.0</td>\n",
       "      <td>25.0</td>\n",
       "      <td>20.0</td>\n",
       "    </tr>\n",
       "    <tr>\n",
       "      <th>Enhydrobacter(100)</th>\n",
       "      <td>20.0</td>\n",
       "      <td>17.0</td>\n",
       "      <td>1703.0</td>\n",
       "      <td>3.0</td>\n",
       "      <td>420.0</td>\n",
       "      <td>571.0</td>\n",
       "      <td>129.0</td>\n",
       "      <td>9.0</td>\n",
       "      <td>442.0</td>\n",
       "      <td>716.0</td>\n",
       "      <td>0.0</td>\n",
       "      <td>25.0</td>\n",
       "      <td>260.0</td>\n",
       "      <td>0.0</td>\n",
       "    </tr>\n",
       "    <tr>\n",
       "      <th>Acinetobacter(100)</th>\n",
       "      <td>35.0</td>\n",
       "      <td>59.0</td>\n",
       "      <td>7.0</td>\n",
       "      <td>13.0</td>\n",
       "      <td>142.0</td>\n",
       "      <td>272.0</td>\n",
       "      <td>71.0</td>\n",
       "      <td>55.0</td>\n",
       "      <td>134.0</td>\n",
       "      <td>271.0</td>\n",
       "      <td>4.0</td>\n",
       "      <td>14.0</td>\n",
       "      <td>58.0</td>\n",
       "      <td>5.0</td>\n",
       "    </tr>\n",
       "    <tr>\n",
       "      <th>Pseudomonas(95)</th>\n",
       "      <td>9.0</td>\n",
       "      <td>10.0</td>\n",
       "      <td>0.0</td>\n",
       "      <td>0.0</td>\n",
       "      <td>0.0</td>\n",
       "      <td>1.0</td>\n",
       "      <td>5.0</td>\n",
       "      <td>0.0</td>\n",
       "      <td>1.0</td>\n",
       "      <td>0.0</td>\n",
       "      <td>0.0</td>\n",
       "      <td>0.0</td>\n",
       "      <td>364.0</td>\n",
       "      <td>0.0</td>\n",
       "    </tr>\n",
       "    <tr>\n",
       "      <th>Pseudomonas(100)</th>\n",
       "      <td>58.0</td>\n",
       "      <td>44.0</td>\n",
       "      <td>14.0</td>\n",
       "      <td>50.0</td>\n",
       "      <td>19.0</td>\n",
       "      <td>17.0</td>\n",
       "      <td>26.0</td>\n",
       "      <td>89.0</td>\n",
       "      <td>42.0</td>\n",
       "      <td>17.0</td>\n",
       "      <td>4.0</td>\n",
       "      <td>10.0</td>\n",
       "      <td>22.0</td>\n",
       "      <td>3.0</td>\n",
       "    </tr>\n",
       "    <tr>\n",
       "      <th>Aquabacterium(100)</th>\n",
       "      <td>41.0</td>\n",
       "      <td>212.0</td>\n",
       "      <td>15.0</td>\n",
       "      <td>31.0</td>\n",
       "      <td>0.0</td>\n",
       "      <td>7.0</td>\n",
       "      <td>96.0</td>\n",
       "      <td>225.0</td>\n",
       "      <td>4.0</td>\n",
       "      <td>3.0</td>\n",
       "      <td>15.0</td>\n",
       "      <td>49.0</td>\n",
       "      <td>57.0</td>\n",
       "      <td>32.0</td>\n",
       "    </tr>\n",
       "    <tr>\n",
       "      <th>Sphingomonas(100)</th>\n",
       "      <td>31.0</td>\n",
       "      <td>20.0</td>\n",
       "      <td>400.0</td>\n",
       "      <td>18.0</td>\n",
       "      <td>33.0</td>\n",
       "      <td>16.0</td>\n",
       "      <td>30.0</td>\n",
       "      <td>24.0</td>\n",
       "      <td>45.0</td>\n",
       "      <td>50.0</td>\n",
       "      <td>28.0</td>\n",
       "      <td>217.0</td>\n",
       "      <td>75.0</td>\n",
       "      <td>5.0</td>\n",
       "    </tr>\n",
       "    <tr>\n",
       "      <th>Roseomonas(100)</th>\n",
       "      <td>0.0</td>\n",
       "      <td>0.0</td>\n",
       "      <td>185.0</td>\n",
       "      <td>0.0</td>\n",
       "      <td>64.0</td>\n",
       "      <td>56.0</td>\n",
       "      <td>53.0</td>\n",
       "      <td>0.0</td>\n",
       "      <td>72.0</td>\n",
       "      <td>46.0</td>\n",
       "      <td>6.0</td>\n",
       "      <td>5.0</td>\n",
       "      <td>9.0</td>\n",
       "      <td>0.0</td>\n",
       "    </tr>\n",
       "    <tr>\n",
       "      <th>Methylobacterium(100)</th>\n",
       "      <td>9.0</td>\n",
       "      <td>26.0</td>\n",
       "      <td>5.0</td>\n",
       "      <td>2.0</td>\n",
       "      <td>13.0</td>\n",
       "      <td>15.0</td>\n",
       "      <td>17.0</td>\n",
       "      <td>31.0</td>\n",
       "      <td>32.0</td>\n",
       "      <td>10.0</td>\n",
       "      <td>11.0</td>\n",
       "      <td>46.0</td>\n",
       "      <td>87.0</td>\n",
       "      <td>1.0</td>\n",
       "    </tr>\n",
       "    <tr>\n",
       "      <th>Staphylococcus(100)</th>\n",
       "      <td>259.0</td>\n",
       "      <td>239.0</td>\n",
       "      <td>32.0</td>\n",
       "      <td>289.0</td>\n",
       "      <td>17.0</td>\n",
       "      <td>14.0</td>\n",
       "      <td>101.0</td>\n",
       "      <td>115.0</td>\n",
       "      <td>39.0</td>\n",
       "      <td>21.0</td>\n",
       "      <td>5.0</td>\n",
       "      <td>198.0</td>\n",
       "      <td>111.0</td>\n",
       "      <td>149.0</td>\n",
       "    </tr>\n",
       "    <tr>\n",
       "      <th>Streptococcus(100)</th>\n",
       "      <td>253.0</td>\n",
       "      <td>36.0</td>\n",
       "      <td>47.0</td>\n",
       "      <td>47.0</td>\n",
       "      <td>5.0</td>\n",
       "      <td>1.0</td>\n",
       "      <td>26.0</td>\n",
       "      <td>79.0</td>\n",
       "      <td>8.0</td>\n",
       "      <td>2.0</td>\n",
       "      <td>2.0</td>\n",
       "      <td>20.0</td>\n",
       "      <td>9.0</td>\n",
       "      <td>0.0</td>\n",
       "    </tr>\n",
       "    <tr>\n",
       "      <th>Finegoldia(100)</th>\n",
       "      <td>1.0</td>\n",
       "      <td>9.0</td>\n",
       "      <td>6.0</td>\n",
       "      <td>22.0</td>\n",
       "      <td>1.0</td>\n",
       "      <td>3.0</td>\n",
       "      <td>12.0</td>\n",
       "      <td>23.0</td>\n",
       "      <td>1.0</td>\n",
       "      <td>7.0</td>\n",
       "      <td>1.0</td>\n",
       "      <td>62.0</td>\n",
       "      <td>36.0</td>\n",
       "      <td>250.0</td>\n",
       "    </tr>\n",
       "    <tr>\n",
       "      <th>Anaerococcus(100)</th>\n",
       "      <td>20.0</td>\n",
       "      <td>38.0</td>\n",
       "      <td>10.0</td>\n",
       "      <td>14.0</td>\n",
       "      <td>3.0</td>\n",
       "      <td>1.0</td>\n",
       "      <td>21.0</td>\n",
       "      <td>70.0</td>\n",
       "      <td>6.0</td>\n",
       "      <td>5.0</td>\n",
       "      <td>3.0</td>\n",
       "      <td>74.0</td>\n",
       "      <td>42.0</td>\n",
       "      <td>367.0</td>\n",
       "    </tr>\n",
       "    <tr>\n",
       "      <th>Chryseobacterium(97)</th>\n",
       "      <td>4.0</td>\n",
       "      <td>3.0</td>\n",
       "      <td>1.0</td>\n",
       "      <td>0.0</td>\n",
       "      <td>36.0</td>\n",
       "      <td>156.0</td>\n",
       "      <td>0.0</td>\n",
       "      <td>0.0</td>\n",
       "      <td>30.0</td>\n",
       "      <td>115.0</td>\n",
       "      <td>3.0</td>\n",
       "      <td>1.0</td>\n",
       "      <td>4.0</td>\n",
       "      <td>0.0</td>\n",
       "    </tr>\n",
       "    <tr>\n",
       "      <th>Hymenobacter(100)</th>\n",
       "      <td>0.0</td>\n",
       "      <td>5.0</td>\n",
       "      <td>0.0</td>\n",
       "      <td>0.0</td>\n",
       "      <td>84.0</td>\n",
       "      <td>71.0</td>\n",
       "      <td>22.0</td>\n",
       "      <td>0.0</td>\n",
       "      <td>72.0</td>\n",
       "      <td>55.0</td>\n",
       "      <td>2.0</td>\n",
       "      <td>25.0</td>\n",
       "      <td>9.0</td>\n",
       "      <td>0.0</td>\n",
       "    </tr>\n",
       "  </tbody>\n",
       "</table>\n",
       "</div>"
      ],
      "text/plain": [
       "                        door_in_1  door_in_2  faucet_handle_1  \\\n",
       "Taxo                                                            \n",
       "Propionibacterium(100)     1392.0     1053.0            336.0   \n",
       "Friedmanniella(100)           6.0        2.0              0.0   \n",
       "Corynebacterium(100)         86.0      155.0             19.0   \n",
       "Arthrobacter(86)              6.0       27.0              5.0   \n",
       "Kocuria(100)                  6.0       36.0              3.0   \n",
       "unclassified(100)            41.0       67.0              6.0   \n",
       "Enhydrobacter(100)           20.0       17.0           1703.0   \n",
       "Acinetobacter(100)           35.0       59.0              7.0   \n",
       "Pseudomonas(95)               9.0       10.0              0.0   \n",
       "Pseudomonas(100)             58.0       44.0             14.0   \n",
       "Aquabacterium(100)           41.0      212.0             15.0   \n",
       "Sphingomonas(100)            31.0       20.0            400.0   \n",
       "Roseomonas(100)               0.0        0.0            185.0   \n",
       "Methylobacterium(100)         9.0       26.0              5.0   \n",
       "Staphylococcus(100)         259.0      239.0             32.0   \n",
       "Streptococcus(100)          253.0       36.0             47.0   \n",
       "Finegoldia(100)               1.0        9.0              6.0   \n",
       "Anaerococcus(100)            20.0       38.0             10.0   \n",
       "Chryseobacterium(97)          4.0        3.0              1.0   \n",
       "Hymenobacter(100)             0.0        5.0              0.0   \n",
       "\n",
       "                        faucet_handle_2  sink_floor_1  sink_floor_2  \\\n",
       "Taxo                                                                  \n",
       "Propionibacterium(100)            594.0          41.0          39.0   \n",
       "Friedmanniella(100)                 0.0         124.0          61.0   \n",
       "Corynebacterium(100)             1467.0          31.0          41.0   \n",
       "Arthrobacter(86)                    6.0         452.0         275.0   \n",
       "Kocuria(100)                        0.0          85.0          85.0   \n",
       "unclassified(100)                  41.0         198.0         142.0   \n",
       "Enhydrobacter(100)                  3.0         420.0         571.0   \n",
       "Acinetobacter(100)                 13.0         142.0         272.0   \n",
       "Pseudomonas(95)                     0.0           0.0           1.0   \n",
       "Pseudomonas(100)                   50.0          19.0          17.0   \n",
       "Aquabacterium(100)                 31.0           0.0           7.0   \n",
       "Sphingomonas(100)                  18.0          33.0          16.0   \n",
       "Roseomonas(100)                     0.0          64.0          56.0   \n",
       "Methylobacterium(100)               2.0          13.0          15.0   \n",
       "Staphylococcus(100)               289.0          17.0          14.0   \n",
       "Streptococcus(100)                 47.0           5.0           1.0   \n",
       "Finegoldia(100)                    22.0           1.0           3.0   \n",
       "Anaerococcus(100)                  14.0           3.0           1.0   \n",
       "Chryseobacterium(97)                0.0          36.0         156.0   \n",
       "Hymenobacter(100)                   0.0          84.0          71.0   \n",
       "\n",
       "                        soap_dispenser_1  stall_in_1  toilet_floor_1  \\\n",
       "Taxo                                                                   \n",
       "Propionibacterium(100)            1149.0       621.0            46.0   \n",
       "Friedmanniella(100)                  0.0         9.0            62.0   \n",
       "Corynebacterium(100)               159.0       131.0            23.0   \n",
       "Arthrobacter(86)                    63.0         0.0           236.0   \n",
       "Kocuria(100)                        22.0        14.0            53.0   \n",
       "unclassified(100)                   64.0        25.0           183.0   \n",
       "Enhydrobacter(100)                 129.0         9.0           442.0   \n",
       "Acinetobacter(100)                  71.0        55.0           134.0   \n",
       "Pseudomonas(95)                      5.0         0.0             1.0   \n",
       "Pseudomonas(100)                    26.0        89.0            42.0   \n",
       "Aquabacterium(100)                  96.0       225.0             4.0   \n",
       "Sphingomonas(100)                   30.0        24.0            45.0   \n",
       "Roseomonas(100)                     53.0         0.0            72.0   \n",
       "Methylobacterium(100)               17.0        31.0            32.0   \n",
       "Staphylococcus(100)                101.0       115.0            39.0   \n",
       "Streptococcus(100)                  26.0        79.0             8.0   \n",
       "Finegoldia(100)                     12.0        23.0             1.0   \n",
       "Anaerococcus(100)                   21.0        70.0             6.0   \n",
       "Chryseobacterium(97)                 0.0         0.0            30.0   \n",
       "Hymenobacter(100)                   22.0         0.0            72.0   \n",
       "\n",
       "                        toilet_floor_2  toilet_flush_handle_1  \\\n",
       "Taxo                                                            \n",
       "Propionibacterium(100)            87.0                   15.0   \n",
       "Friedmanniella(100)               48.0                    7.0   \n",
       "Corynebacterium(100)              86.0                    4.0   \n",
       "Arthrobacter(86)                 251.0                    9.0   \n",
       "Kocuria(100)                      54.0                    0.0   \n",
       "unclassified(100)                141.0                  144.0   \n",
       "Enhydrobacter(100)               716.0                    0.0   \n",
       "Acinetobacter(100)               271.0                    4.0   \n",
       "Pseudomonas(95)                    0.0                    0.0   \n",
       "Pseudomonas(100)                  17.0                    4.0   \n",
       "Aquabacterium(100)                 3.0                   15.0   \n",
       "Sphingomonas(100)                 50.0                   28.0   \n",
       "Roseomonas(100)                   46.0                    6.0   \n",
       "Methylobacterium(100)             10.0                   11.0   \n",
       "Staphylococcus(100)               21.0                    5.0   \n",
       "Streptococcus(100)                 2.0                    2.0   \n",
       "Finegoldia(100)                    7.0                    1.0   \n",
       "Anaerococcus(100)                  5.0                    3.0   \n",
       "Chryseobacterium(97)             115.0                    3.0   \n",
       "Hymenobacter(100)                 55.0                    2.0   \n",
       "\n",
       "                        toilet_flush_handle_2  toilet_seat_1  toilet_seat_2  \n",
       "Taxo                                                                         \n",
       "Propionibacterium(100)                  341.0           78.0          211.0  \n",
       "Friedmanniella(100)                       9.0            5.0            1.0  \n",
       "Corynebacterium(100)                    794.0          234.0         1664.0  \n",
       "Arthrobacter(86)                         51.0            5.0            3.0  \n",
       "Kocuria(100)                             10.0            6.0            0.0  \n",
       "unclassified(100)                        33.0           25.0           20.0  \n",
       "Enhydrobacter(100)                       25.0          260.0            0.0  \n",
       "Acinetobacter(100)                       14.0           58.0            5.0  \n",
       "Pseudomonas(95)                           0.0          364.0            0.0  \n",
       "Pseudomonas(100)                         10.0           22.0            3.0  \n",
       "Aquabacterium(100)                       49.0           57.0           32.0  \n",
       "Sphingomonas(100)                       217.0           75.0            5.0  \n",
       "Roseomonas(100)                           5.0            9.0            0.0  \n",
       "Methylobacterium(100)                    46.0           87.0            1.0  \n",
       "Staphylococcus(100)                     198.0          111.0          149.0  \n",
       "Streptococcus(100)                       20.0            9.0            0.0  \n",
       "Finegoldia(100)                          62.0           36.0          250.0  \n",
       "Anaerococcus(100)                        74.0           42.0          367.0  \n",
       "Chryseobacterium(97)                      1.0            4.0            0.0  \n",
       "Hymenobacter(100)                        25.0            9.0            0.0  "
      ]
     },
     "execution_count": 55,
     "metadata": {},
     "output_type": "execute_result"
    }
   ],
   "source": [
    "\"\"\"\n",
    "Figure 6 : Clustering hierarchique\n",
    "\"\"\"\n",
    "\n",
    "\"\"\"\n",
    "Preparation Donees pour CLUSTERING HIERARCHIQUE: \n",
    "utiliser GENRE.\n",
    "\"\"\"\n",
    "dicoTaxoTest = getDicoTaxo(df)\n",
    "df2 = getDF(dicoTaxoTest)\n",
    "df2\n",
    "#dans ce 'chunk' GENRE_FIL sera filtré:\n",
    "GENRE_FIL = getDFFonctionTaxo(df2,\"genre\")\n",
    "listmysum = []\n",
    "localisation = [\"door_in_1\",\"door_in_2\", \"faucet_handle_1\", \n",
    "                \"faucet_handle_2\", \"sink_floor_1\", \"sink_floor_2\",\n",
    "               \"soap_dispenser_1\", \"stall_in_1\", \"toilet_floor_1\", \n",
    "               \"toilet_floor_2\", \"toilet_flush_handle_1\",\n",
    "               \"toilet_flush_handle_2\", \"toilet_seat_1\", \"toilet_seat_2\"]\n",
    "for index, row in GENRE_FIL.iterrows():\n",
    "    desiredvalues = [ int(i) for i in row[localisation] ]\n",
    "    listmysum.append(sum(desiredvalues))\n",
    "GENRE_FIL[\"TOTALABUND\"] = listmysum\n",
    "GENRE_FIL[\"TOTALABUND\"].describe() #check values statistics resumé\n",
    "#stablish cutoff as 5% the max total value\n",
    "cutoff = GENRE_FIL[\"TOTALABUND\"].describe()[\"max\"]*0.05\n",
    "\n",
    "indextodelete = GENRE_FIL[GENRE_FIL[\"TOTALABUND\"] < cutoff].index\n",
    "GENRE_FIL.drop(indextodelete, inplace=True)\n",
    "# préparation de la matrice\n",
    "### atention!!!! lots of conflicts with \"unknown\" : repeated!\n",
    "GFtmp = GENRE_FIL.drop_duplicates(subset='Taxo', keep=\"first\")\n",
    "GF3 = getDFTree(GFtmp)  # essential to create 'y'\n",
    "lcolsuprimer = [\"Nvx_taxo\",\"TOTALABUND\"]\n",
    "GF2 = GFtmp.drop(columns=lcolsuprimer)\n",
    "del(GFtmp)\n",
    "\n",
    "listmicroo = GF2['Taxo']\n",
    "GF2.reindex = listmicroo #  ne marche pas, solution: faire tout\n",
    "GF2tmp = GF2.loc[:,localisation].to_numpy()\n",
    "\n",
    "GF2matrix = GF2tmp.astype(\"double\")\n",
    "GF2f = pandas.DataFrame(GF2matrix, index=listmicroo, columns=localisation)\n",
    "GF2f\n",
    "### ici on peut visualiser le df style matrice comme il faut pour tourner l'analyse\n"
   ]
  },
  {
   "cell_type": "code",
   "execution_count": 52,
   "metadata": {},
   "outputs": [
    {
     "data": {
      "image/png": "[encoded data removed]",
      "text/plain": [
       "<Figure size 720x720 with 4 Axes>"
      ]
     },
     "metadata": {},
     "output_type": "display_data"
    }
   ],
   "source": [
    "\n",
    "#calculate linkage matrix, 'average' is UPGMA\n",
    "linkage = hc.linkage(GF2matrix, method='average')\n",
    "\n",
    "y = pandas.Series((i for i in GF3[\"Localisation\"]), index=GF3[\"Taxo\"], name=\"Series\") \n",
    "\n",
    "#mypal lmcolor and rowcol for color bar, but here is not possible with this 'y', \n",
    "# it may work if series was for example phylum (something assigned 1 to 1 to genre)\n",
    "\n",
    "mypal = sns.cubehelix_palette(len(y), light=.9, dark=.1, reverse=True, start=1, rot=-2)\n",
    "lmcolor = dict(zip(map(str,y.unique()),mypal))\n",
    "rowcol = y.map(lmcolor)\n",
    "sns.set(font_scale=1.3) ## new: font size bigger !!\n",
    "h = sns.clustermap(GF2f, row_linkage=linkage, metric=\"correlation\", cmap=\"Blues\")\n",
    "plt.savefig('plots/ClustHierarchiqueFontnew.pdf', format=\"pdf\", dpi=300,  bbox_inches = 'tight')\n"
   ]
  },
  {
   "cell_type": "code",
   "execution_count": null,
   "metadata": {},
   "outputs": [],
   "source": []
  }
 ],
 "metadata": {
  "kernelspec": {
   "display_name": "Python 3",
   "language": "python",
   "name": "python3"
  },
  "language_info": {
   "codemirror_mode": {
    "name": "ipython",
    "version": 3
   },
   "file_extension": ".py",
   "mimetype": "text/x-python",
   "name": "python",
   "nbconvert_exporter": "python",
   "pygments_lexer": "ipython3",
   "version": "3.8.3"
  }
 },
 "nbformat": 4,
 "nbformat_minor": 4
}
